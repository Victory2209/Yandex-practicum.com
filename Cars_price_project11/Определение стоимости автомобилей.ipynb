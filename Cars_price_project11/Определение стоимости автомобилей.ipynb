{
 "cells": [
  {
   "cell_type": "markdown",
   "metadata": {},
   "source": [
    "# Определение стоимости автомобилей"
   ]
  },
  {
   "cell_type": "markdown",
   "metadata": {},
   "source": [
    "Сервис по продаже автомобилей с пробегом «Не бит, не крашен» разрабатывает приложение для привлечения новых клиентов. В нём можно быстро узнать рыночную стоимость своего автомобиля. В нашем распоряжении исторические данные: технические характеристики, комплектации и цены автомобилей. Необходимо построить модель для определения стоимости. \n",
    "\n",
    "Заказчику важны:\n",
    "\n",
    "- качество предсказания;\n",
    "- скорость предсказания;\n",
    "- время обучения."
   ]
  },
  {
   "cell_type": "markdown",
   "metadata": {},
   "source": [
    "*Признаки*: \n",
    "\n",
    "DateCrawled — дата скачивания анкеты из базы  \n",
    "VehicleType — тип автомобильного кузова  \n",
    "RegistrationYear — год регистрации автомобиля  \n",
    "Gearbox — тип коробки передач  \n",
    "Power — мощность (л. с.)  \n",
    "Model — модель автомобиля  \n",
    "Kilometer — пробег (км)  \n",
    "RegistrationMonth — месяц регистрации автомобиля  \n",
    "FuelType — тип топлива  \n",
    "Brand — марка автомобиля  \n",
    "NotRepaired — была машина в ремонте или нет  \n",
    "DateCreated — дата создания анкеты  \n",
    "NumberOfPictures — количество фотографий автомобиля  \n",
    "PostalCode — почтовый индекс владельца анкеты (пользователя)  \n",
    "LastSeen — дата последней активности пользователя  \n",
    "\n",
    "*Целевой признак*:   \n",
    "\n",
    "Price — цена (евро)"
   ]
  },
  {
   "cell_type": "markdown",
   "metadata": {},
   "source": [
    "## Подготовка данных"
   ]
  },
  {
   "cell_type": "code",
   "execution_count": 1,
   "metadata": {},
   "outputs": [],
   "source": [
    "import pandas as pd\n",
    "import numpy as np\n",
    "import warnings\n",
    "from sklearn.model_selection import train_test_split, cross_val_score, GridSearchCV\n",
    "from sklearn.preprocessing import StandardScaler, PolynomialFeatures, OrdinalEncoder\n",
    "from sklearn.metrics import mean_squared_error\n",
    "from sklearn.linear_model import LinearRegression\n",
    "from sklearn.tree import DecisionTreeRegressor\n",
    "from sklearn.ensemble import ExtraTreesRegressor\n",
    "from catboost import Pool, CatBoostRegressor, cv\n",
    "from lightgbm import LGBMRegressor\n",
    "from sklearn.pipeline import Pipeline\n",
    "warnings.filterwarnings('ignore')"
   ]
  },
  {
   "cell_type": "code",
   "execution_count": 2,
   "metadata": {},
   "outputs": [],
   "source": [
    "df = pd.read_csv('/datasets/autos.csv')"
   ]
  },
  {
   "cell_type": "code",
   "execution_count": 3,
   "metadata": {},
   "outputs": [
    {
     "data": {
      "text/html": [
       "<div>\n",
       "<style scoped>\n",
       "    .dataframe tbody tr th:only-of-type {\n",
       "        vertical-align: middle;\n",
       "    }\n",
       "\n",
       "    .dataframe tbody tr th {\n",
       "        vertical-align: top;\n",
       "    }\n",
       "\n",
       "    .dataframe thead th {\n",
       "        text-align: right;\n",
       "    }\n",
       "</style>\n",
       "<table border=\"1\" class=\"dataframe\">\n",
       "  <thead>\n",
       "    <tr style=\"text-align: right;\">\n",
       "      <th></th>\n",
       "      <th>DateCrawled</th>\n",
       "      <th>Price</th>\n",
       "      <th>VehicleType</th>\n",
       "      <th>RegistrationYear</th>\n",
       "      <th>Gearbox</th>\n",
       "      <th>Power</th>\n",
       "      <th>Model</th>\n",
       "      <th>Kilometer</th>\n",
       "      <th>RegistrationMonth</th>\n",
       "      <th>FuelType</th>\n",
       "      <th>Brand</th>\n",
       "      <th>NotRepaired</th>\n",
       "      <th>DateCreated</th>\n",
       "      <th>NumberOfPictures</th>\n",
       "      <th>PostalCode</th>\n",
       "      <th>LastSeen</th>\n",
       "    </tr>\n",
       "  </thead>\n",
       "  <tbody>\n",
       "    <tr>\n",
       "      <td>0</td>\n",
       "      <td>2016-03-24 11:52:17</td>\n",
       "      <td>480</td>\n",
       "      <td>NaN</td>\n",
       "      <td>1993</td>\n",
       "      <td>manual</td>\n",
       "      <td>0</td>\n",
       "      <td>golf</td>\n",
       "      <td>150000</td>\n",
       "      <td>0</td>\n",
       "      <td>petrol</td>\n",
       "      <td>volkswagen</td>\n",
       "      <td>NaN</td>\n",
       "      <td>2016-03-24 00:00:00</td>\n",
       "      <td>0</td>\n",
       "      <td>70435</td>\n",
       "      <td>2016-04-07 03:16:57</td>\n",
       "    </tr>\n",
       "    <tr>\n",
       "      <td>1</td>\n",
       "      <td>2016-03-24 10:58:45</td>\n",
       "      <td>18300</td>\n",
       "      <td>coupe</td>\n",
       "      <td>2011</td>\n",
       "      <td>manual</td>\n",
       "      <td>190</td>\n",
       "      <td>NaN</td>\n",
       "      <td>125000</td>\n",
       "      <td>5</td>\n",
       "      <td>gasoline</td>\n",
       "      <td>audi</td>\n",
       "      <td>yes</td>\n",
       "      <td>2016-03-24 00:00:00</td>\n",
       "      <td>0</td>\n",
       "      <td>66954</td>\n",
       "      <td>2016-04-07 01:46:50</td>\n",
       "    </tr>\n",
       "    <tr>\n",
       "      <td>2</td>\n",
       "      <td>2016-03-14 12:52:21</td>\n",
       "      <td>9800</td>\n",
       "      <td>suv</td>\n",
       "      <td>2004</td>\n",
       "      <td>auto</td>\n",
       "      <td>163</td>\n",
       "      <td>grand</td>\n",
       "      <td>125000</td>\n",
       "      <td>8</td>\n",
       "      <td>gasoline</td>\n",
       "      <td>jeep</td>\n",
       "      <td>NaN</td>\n",
       "      <td>2016-03-14 00:00:00</td>\n",
       "      <td>0</td>\n",
       "      <td>90480</td>\n",
       "      <td>2016-04-05 12:47:46</td>\n",
       "    </tr>\n",
       "    <tr>\n",
       "      <td>3</td>\n",
       "      <td>2016-03-17 16:54:04</td>\n",
       "      <td>1500</td>\n",
       "      <td>small</td>\n",
       "      <td>2001</td>\n",
       "      <td>manual</td>\n",
       "      <td>75</td>\n",
       "      <td>golf</td>\n",
       "      <td>150000</td>\n",
       "      <td>6</td>\n",
       "      <td>petrol</td>\n",
       "      <td>volkswagen</td>\n",
       "      <td>no</td>\n",
       "      <td>2016-03-17 00:00:00</td>\n",
       "      <td>0</td>\n",
       "      <td>91074</td>\n",
       "      <td>2016-03-17 17:40:17</td>\n",
       "    </tr>\n",
       "    <tr>\n",
       "      <td>4</td>\n",
       "      <td>2016-03-31 17:25:20</td>\n",
       "      <td>3600</td>\n",
       "      <td>small</td>\n",
       "      <td>2008</td>\n",
       "      <td>manual</td>\n",
       "      <td>69</td>\n",
       "      <td>fabia</td>\n",
       "      <td>90000</td>\n",
       "      <td>7</td>\n",
       "      <td>gasoline</td>\n",
       "      <td>skoda</td>\n",
       "      <td>no</td>\n",
       "      <td>2016-03-31 00:00:00</td>\n",
       "      <td>0</td>\n",
       "      <td>60437</td>\n",
       "      <td>2016-04-06 10:17:21</td>\n",
       "    </tr>\n",
       "  </tbody>\n",
       "</table>\n",
       "</div>"
      ],
      "text/plain": [
       "           DateCrawled  Price VehicleType  RegistrationYear Gearbox  Power  \\\n",
       "0  2016-03-24 11:52:17    480         NaN              1993  manual      0   \n",
       "1  2016-03-24 10:58:45  18300       coupe              2011  manual    190   \n",
       "2  2016-03-14 12:52:21   9800         suv              2004    auto    163   \n",
       "3  2016-03-17 16:54:04   1500       small              2001  manual     75   \n",
       "4  2016-03-31 17:25:20   3600       small              2008  manual     69   \n",
       "\n",
       "   Model  Kilometer  RegistrationMonth  FuelType       Brand NotRepaired  \\\n",
       "0   golf     150000                  0    petrol  volkswagen         NaN   \n",
       "1    NaN     125000                  5  gasoline        audi         yes   \n",
       "2  grand     125000                  8  gasoline        jeep         NaN   \n",
       "3   golf     150000                  6    petrol  volkswagen          no   \n",
       "4  fabia      90000                  7  gasoline       skoda          no   \n",
       "\n",
       "           DateCreated  NumberOfPictures  PostalCode             LastSeen  \n",
       "0  2016-03-24 00:00:00                 0       70435  2016-04-07 03:16:57  \n",
       "1  2016-03-24 00:00:00                 0       66954  2016-04-07 01:46:50  \n",
       "2  2016-03-14 00:00:00                 0       90480  2016-04-05 12:47:46  \n",
       "3  2016-03-17 00:00:00                 0       91074  2016-03-17 17:40:17  \n",
       "4  2016-03-31 00:00:00                 0       60437  2016-04-06 10:17:21  "
      ]
     },
     "execution_count": 3,
     "metadata": {},
     "output_type": "execute_result"
    }
   ],
   "source": [
    "df.head()"
   ]
  },
  {
   "cell_type": "code",
   "execution_count": 4,
   "metadata": {},
   "outputs": [
    {
     "data": {
      "text/plain": [
       "DateCrawled              0\n",
       "Price                    0\n",
       "VehicleType          37490\n",
       "RegistrationYear         0\n",
       "Gearbox              19833\n",
       "Power                    0\n",
       "Model                19705\n",
       "Kilometer                0\n",
       "RegistrationMonth        0\n",
       "FuelType             32895\n",
       "Brand                    0\n",
       "NotRepaired          71154\n",
       "DateCreated              0\n",
       "NumberOfPictures         0\n",
       "PostalCode               0\n",
       "LastSeen                 0\n",
       "dtype: int64"
      ]
     },
     "execution_count": 4,
     "metadata": {},
     "output_type": "execute_result"
    }
   ],
   "source": [
    "df.isna().sum()"
   ]
  },
  {
   "cell_type": "code",
   "execution_count": 5,
   "metadata": {},
   "outputs": [
    {
     "data": {
      "text/plain": [
       "4"
      ]
     },
     "execution_count": 5,
     "metadata": {},
     "output_type": "execute_result"
    }
   ],
   "source": [
    "df.duplicated().sum()"
   ]
  },
  {
   "cell_type": "code",
   "execution_count": 6,
   "metadata": {},
   "outputs": [
    {
     "data": {
      "text/html": [
       "<div>\n",
       "<style scoped>\n",
       "    .dataframe tbody tr th:only-of-type {\n",
       "        vertical-align: middle;\n",
       "    }\n",
       "\n",
       "    .dataframe tbody tr th {\n",
       "        vertical-align: top;\n",
       "    }\n",
       "\n",
       "    .dataframe thead th {\n",
       "        text-align: right;\n",
       "    }\n",
       "</style>\n",
       "<table border=\"1\" class=\"dataframe\">\n",
       "  <thead>\n",
       "    <tr style=\"text-align: right;\">\n",
       "      <th></th>\n",
       "      <th>Price</th>\n",
       "      <th>RegistrationYear</th>\n",
       "      <th>Power</th>\n",
       "      <th>Kilometer</th>\n",
       "      <th>RegistrationMonth</th>\n",
       "      <th>NumberOfPictures</th>\n",
       "      <th>PostalCode</th>\n",
       "    </tr>\n",
       "  </thead>\n",
       "  <tbody>\n",
       "    <tr>\n",
       "      <td>count</td>\n",
       "      <td>354369.000000</td>\n",
       "      <td>354369.000000</td>\n",
       "      <td>354369.000000</td>\n",
       "      <td>354369.000000</td>\n",
       "      <td>354369.000000</td>\n",
       "      <td>354369.0</td>\n",
       "      <td>354369.000000</td>\n",
       "    </tr>\n",
       "    <tr>\n",
       "      <td>mean</td>\n",
       "      <td>4416.656776</td>\n",
       "      <td>2004.234448</td>\n",
       "      <td>110.094337</td>\n",
       "      <td>128211.172535</td>\n",
       "      <td>5.714645</td>\n",
       "      <td>0.0</td>\n",
       "      <td>50508.689087</td>\n",
       "    </tr>\n",
       "    <tr>\n",
       "      <td>std</td>\n",
       "      <td>4514.158514</td>\n",
       "      <td>90.227958</td>\n",
       "      <td>189.850405</td>\n",
       "      <td>37905.341530</td>\n",
       "      <td>3.726421</td>\n",
       "      <td>0.0</td>\n",
       "      <td>25783.096248</td>\n",
       "    </tr>\n",
       "    <tr>\n",
       "      <td>min</td>\n",
       "      <td>0.000000</td>\n",
       "      <td>1000.000000</td>\n",
       "      <td>0.000000</td>\n",
       "      <td>5000.000000</td>\n",
       "      <td>0.000000</td>\n",
       "      <td>0.0</td>\n",
       "      <td>1067.000000</td>\n",
       "    </tr>\n",
       "    <tr>\n",
       "      <td>25%</td>\n",
       "      <td>1050.000000</td>\n",
       "      <td>1999.000000</td>\n",
       "      <td>69.000000</td>\n",
       "      <td>125000.000000</td>\n",
       "      <td>3.000000</td>\n",
       "      <td>0.0</td>\n",
       "      <td>30165.000000</td>\n",
       "    </tr>\n",
       "    <tr>\n",
       "      <td>50%</td>\n",
       "      <td>2700.000000</td>\n",
       "      <td>2003.000000</td>\n",
       "      <td>105.000000</td>\n",
       "      <td>150000.000000</td>\n",
       "      <td>6.000000</td>\n",
       "      <td>0.0</td>\n",
       "      <td>49413.000000</td>\n",
       "    </tr>\n",
       "    <tr>\n",
       "      <td>75%</td>\n",
       "      <td>6400.000000</td>\n",
       "      <td>2008.000000</td>\n",
       "      <td>143.000000</td>\n",
       "      <td>150000.000000</td>\n",
       "      <td>9.000000</td>\n",
       "      <td>0.0</td>\n",
       "      <td>71083.000000</td>\n",
       "    </tr>\n",
       "    <tr>\n",
       "      <td>max</td>\n",
       "      <td>20000.000000</td>\n",
       "      <td>9999.000000</td>\n",
       "      <td>20000.000000</td>\n",
       "      <td>150000.000000</td>\n",
       "      <td>12.000000</td>\n",
       "      <td>0.0</td>\n",
       "      <td>99998.000000</td>\n",
       "    </tr>\n",
       "  </tbody>\n",
       "</table>\n",
       "</div>"
      ],
      "text/plain": [
       "               Price  RegistrationYear          Power      Kilometer  \\\n",
       "count  354369.000000     354369.000000  354369.000000  354369.000000   \n",
       "mean     4416.656776       2004.234448     110.094337  128211.172535   \n",
       "std      4514.158514         90.227958     189.850405   37905.341530   \n",
       "min         0.000000       1000.000000       0.000000    5000.000000   \n",
       "25%      1050.000000       1999.000000      69.000000  125000.000000   \n",
       "50%      2700.000000       2003.000000     105.000000  150000.000000   \n",
       "75%      6400.000000       2008.000000     143.000000  150000.000000   \n",
       "max     20000.000000       9999.000000   20000.000000  150000.000000   \n",
       "\n",
       "       RegistrationMonth  NumberOfPictures     PostalCode  \n",
       "count      354369.000000          354369.0  354369.000000  \n",
       "mean            5.714645               0.0   50508.689087  \n",
       "std             3.726421               0.0   25783.096248  \n",
       "min             0.000000               0.0    1067.000000  \n",
       "25%             3.000000               0.0   30165.000000  \n",
       "50%             6.000000               0.0   49413.000000  \n",
       "75%             9.000000               0.0   71083.000000  \n",
       "max            12.000000               0.0   99998.000000  "
      ]
     },
     "execution_count": 6,
     "metadata": {},
     "output_type": "execute_result"
    }
   ],
   "source": [
    "df.describe()"
   ]
  },
  {
   "cell_type": "code",
   "execution_count": 7,
   "metadata": {},
   "outputs": [
    {
     "name": "stdout",
     "output_type": "stream",
     "text": [
      "<class 'pandas.core.frame.DataFrame'>\n",
      "RangeIndex: 354369 entries, 0 to 354368\n",
      "Data columns (total 16 columns):\n",
      "DateCrawled          354369 non-null object\n",
      "Price                354369 non-null int64\n",
      "VehicleType          316879 non-null object\n",
      "RegistrationYear     354369 non-null int64\n",
      "Gearbox              334536 non-null object\n",
      "Power                354369 non-null int64\n",
      "Model                334664 non-null object\n",
      "Kilometer            354369 non-null int64\n",
      "RegistrationMonth    354369 non-null int64\n",
      "FuelType             321474 non-null object\n",
      "Brand                354369 non-null object\n",
      "NotRepaired          283215 non-null object\n",
      "DateCreated          354369 non-null object\n",
      "NumberOfPictures     354369 non-null int64\n",
      "PostalCode           354369 non-null int64\n",
      "LastSeen             354369 non-null object\n",
      "dtypes: int64(7), object(9)\n",
      "memory usage: 43.3+ MB\n"
     ]
    }
   ],
   "source": [
    "df.info()"
   ]
  },
  {
   "cell_type": "markdown",
   "metadata": {},
   "source": [
    "Мы обнаружили пропущенные значения в определенных столбцах. Ниже определимся, что с ними сделем. \n",
    "Также обнаружены 4 дубликата, которые мы удалим."
   ]
  },
  {
   "cell_type": "markdown",
   "metadata": {},
   "source": [
    "Выделим признаки, которые будут важны для обучения модели, и которые могут повлиять на цену.\n",
    "\n",
    "VehicleType - тип машины определяет ее функционал. Чем больше возможносей у машины, тем выше цена.  \n",
    "Gearbox - наличие автоматической коробки передач. Определенно влияет на цену.   \n",
    "Power - мощность в лошадиных силах напрямую влияет на цену.  \n",
    "Kilometer - чем меньше машина проехала, тем выше стоимость.  \n",
    "FuelType - тип топлива тоже влиет на цену.  \n",
    "Brand - компания, которая создала автомобиль показывает качество и надежность автомобиля.  \n",
    "NotRepaired - машины, которые побывали в дорожно-транспортных проишествиях означает. Цена сразу снижается, если были дтп.   \n",
    "RegistrationYear - год регистрации определяет сколько уже лет машина на ходу. Чем больше возраст, тем меньше цена.  \n",
    "Model - усовершенстовванная модель определенной компании будет стоить дороже, чем модель постарее этой же компании.   \n",
    "\n",
    "Остальные столбцы для модели не требуются, так как не влияют на стоимость."
   ]
  },
  {
   "cell_type": "markdown",
   "metadata": {},
   "source": [
    "Столбцы, требующие обработки:\n",
    "\n",
    "VehicleType - восстановим пропущенные значения по популярному типу из столбца Brand.  \n",
    "Gearbox - для всех NaN установим значение 'manual'.  \n",
    "Power - можно исправить на реальные значения в машинах.  \n",
    "FuelType - восстановим пропущенные значения по популярному типу из столбца Brand.  \n",
    "NotRepaired - для всех NaN установим значение 'yes'.  \n",
    "RegistrationYear - можно исправить на реальные значения в машинах.   \n",
    "Model - для всех NaN установим значение 'unknown'.  "
   ]
  },
  {
   "cell_type": "code",
   "execution_count": 8,
   "metadata": {},
   "outputs": [
    {
     "data": {
      "text/plain": [
       "0"
      ]
     },
     "execution_count": 8,
     "metadata": {},
     "output_type": "execute_result"
    }
   ],
   "source": [
    "df = df.drop_duplicates()\n",
    "df.duplicated().sum()"
   ]
  },
  {
   "cell_type": "markdown",
   "metadata": {},
   "source": [
    "Так как для машинного обучения нам не понадобятся все столбцы, то оставим только необходимые. "
   ]
  },
  {
   "cell_type": "code",
   "execution_count": 9,
   "metadata": {},
   "outputs": [],
   "source": [
    "filtr_df = df[['VehicleType', \n",
    "                         'Gearbox', \n",
    "                         'Power',\n",
    "                         'Kilometer',\n",
    "                         'FuelType',\n",
    "                         'Brand',\n",
    "                         'NotRepaired',\n",
    "                         'RegistrationYear',\n",
    "                         'Model',\n",
    "                         'Price']]"
   ]
  },
  {
   "cell_type": "code",
   "execution_count": 10,
   "metadata": {},
   "outputs": [
    {
     "data": {
      "text/plain": [
       "0        10772\n",
       "500       5670\n",
       "1500      5394\n",
       "1000      4648\n",
       "1200      4594\n",
       "         ...  \n",
       "13440        1\n",
       "1414         1\n",
       "8069         1\n",
       "10370        1\n",
       "384          1\n",
       "Name: Price, Length: 3731, dtype: int64"
      ]
     },
     "execution_count": 10,
     "metadata": {},
     "output_type": "execute_result"
    }
   ],
   "source": [
    "filtr_df['Price'].value_counts()"
   ]
  },
  {
   "cell_type": "markdown",
   "metadata": {},
   "source": [
    "Видим, что у 10772 значений нет цены. Попробуем их удалить и посмотреть распределение цен."
   ]
  },
  {
   "cell_type": "code",
   "execution_count": 11,
   "metadata": {},
   "outputs": [
    {
     "data": {
      "text/plain": [
       "count    343593.000000\n",
       "mean       4555.147363\n",
       "std        4515.076200\n",
       "min           1.000000\n",
       "25%        1200.000000\n",
       "50%        2890.000000\n",
       "75%        6500.000000\n",
       "max       20000.000000\n",
       "Name: Price, dtype: float64"
      ]
     },
     "execution_count": 11,
     "metadata": {},
     "output_type": "execute_result"
    },
    {
     "data": {
      "image/png": "[encoded data removed]",
      "text/plain": [
       "<Figure size 864x648 with 1 Axes>"
      ]
     },
     "metadata": {
      "needs_background": "light"
     },
     "output_type": "display_data"
    }
   ],
   "source": [
    "filtr_df = filtr_df.query('Price > 0')\n",
    "filtr_df['Price'].hist(bins=100, figsize=(12,9))\n",
    "filtr_df['Price'].describe()"
   ]
  },
  {
   "cell_type": "markdown",
   "metadata": {},
   "source": [
    "Выделим квантили 10% и 80%"
   ]
  },
  {
   "cell_type": "code",
   "execution_count": 12,
   "metadata": {},
   "outputs": [
    {
     "data": {
      "text/plain": [
       "0.1     590.0\n",
       "0.8    7800.0\n",
       "Name: Price, dtype: float64"
      ]
     },
     "execution_count": 12,
     "metadata": {},
     "output_type": "execute_result"
    }
   ],
   "source": [
    "filtr_df['Price'].quantile([0.1, 0.8])"
   ]
  },
  {
   "cell_type": "markdown",
   "metadata": {},
   "source": [
    "Цена у нас обозначена в евро. 590 евро это примерно 50 000 рублей - минимальная цена для продажи поддержанного авто. Квантиль в 80% как раз выбран из-за выбросов после 7500 евро."
   ]
  },
  {
   "cell_type": "code",
   "execution_count": 13,
   "metadata": {},
   "outputs": [
    {
     "name": "stdout",
     "output_type": "stream",
     "text": [
      "<class 'pandas.core.frame.DataFrame'>\n",
      "Int64Index: 241007 entries, 3 to 354368\n",
      "Data columns (total 10 columns):\n",
      "VehicleType         217990 non-null object\n",
      "Gearbox             229591 non-null object\n",
      "Power               241007 non-null int64\n",
      "Kilometer           241007 non-null int64\n",
      "FuelType            221350 non-null object\n",
      "Brand               241007 non-null object\n",
      "NotRepaired         194818 non-null object\n",
      "RegistrationYear    241007 non-null int64\n",
      "Model               229225 non-null object\n",
      "Price               241007 non-null int64\n",
      "dtypes: int64(4), object(6)\n",
      "memory usage: 20.2+ MB\n"
     ]
    }
   ],
   "source": [
    "filtr_df = filtr_df.query('590 <= Price <= 7800')\n",
    "filtr_df.info()"
   ]
  },
  {
   "cell_type": "code",
   "execution_count": 14,
   "metadata": {},
   "outputs": [
    {
     "data": {
      "text/plain": [
       "count    241007.000000\n",
       "mean       2003.042787\n",
       "std          61.059475\n",
       "min        1000.000000\n",
       "25%        1999.000000\n",
       "50%        2002.000000\n",
       "75%        2006.000000\n",
       "max        9999.000000\n",
       "Name: RegistrationYear, dtype: float64"
      ]
     },
     "execution_count": 14,
     "metadata": {},
     "output_type": "execute_result"
    }
   ],
   "source": [
    "filtr_df['RegistrationYear'].describe()"
   ]
  },
  {
   "cell_type": "markdown",
   "metadata": {},
   "source": [
    "Наблюдаются выбросы в годах регистрации. Минимальный 1000 год? Ага! Щаас. Отсечем ненужные года после того как узнаем максимальную дату скачивания анкеты автомобиля. "
   ]
  },
  {
   "cell_type": "code",
   "execution_count": 15,
   "metadata": {},
   "outputs": [
    {
     "data": {
      "text/plain": [
       "Timestamp('2016-04-07 14:36:58')"
      ]
     },
     "execution_count": 15,
     "metadata": {},
     "output_type": "execute_result"
    }
   ],
   "source": [
    "date = pd.to_datetime(df['DateCrawled'])\n",
    "date.max()"
   ]
  },
  {
   "cell_type": "code",
   "execution_count": 16,
   "metadata": {},
   "outputs": [
    {
     "data": {
      "text/plain": [
       "count    229707.000000\n",
       "mean       2001.760982\n",
       "std           6.027108\n",
       "min        1910.000000\n",
       "25%        1999.000000\n",
       "50%        2002.000000\n",
       "75%        2005.000000\n",
       "max        2016.000000\n",
       "Name: RegistrationYear, dtype: float64"
      ]
     },
     "execution_count": 16,
     "metadata": {},
     "output_type": "execute_result"
    },
    {
     "data": {
      "image/png": "[encoded data removed]",
      "text/plain": [
       "<Figure size 864x648 with 1 Axes>"
      ]
     },
     "metadata": {
      "needs_background": "light"
     },
     "output_type": "display_data"
    }
   ],
   "source": [
    "filtr_df = filtr_df.query('1899 < RegistrationYear < 2017')\n",
    "filtr_df['RegistrationYear'].hist(bins=100, figsize=(12,9))\n",
    "filtr_df['RegistrationYear'].describe()"
   ]
  },
  {
   "cell_type": "markdown",
   "metadata": {},
   "source": [
    "Отсечем еще лишние года. 1960 год показывает, что там могут быть конечно старые, но работающие машины, которые выставляют на продажу. "
   ]
  },
  {
   "cell_type": "code",
   "execution_count": 17,
   "metadata": {},
   "outputs": [
    {
     "data": {
      "text/plain": [
       "count    229594.000000\n",
       "mean       2001.788139\n",
       "std           5.892667\n",
       "min        1960.000000\n",
       "25%        1999.000000\n",
       "50%        2002.000000\n",
       "75%        2005.000000\n",
       "max        2016.000000\n",
       "Name: RegistrationYear, dtype: float64"
      ]
     },
     "execution_count": 17,
     "metadata": {},
     "output_type": "execute_result"
    },
    {
     "data": {
      "image/png": "[encoded data removed]",
      "text/plain": [
       "<Figure size 864x648 with 1 Axes>"
      ]
     },
     "metadata": {
      "needs_background": "light"
     },
     "output_type": "display_data"
    }
   ],
   "source": [
    "filtr_df = filtr_df.query('1959 < RegistrationYear < 2017')\n",
    "filtr_df['RegistrationYear'].hist(bins=50, figsize=(12,9))\n",
    "filtr_df['RegistrationYear'].describe()"
   ]
  },
  {
   "cell_type": "markdown",
   "metadata": {},
   "source": [
    "Как и было задумано, меняем значения НаН в столбцах Gearbox, NotRepaired, Model"
   ]
  },
  {
   "cell_type": "code",
   "execution_count": 18,
   "metadata": {},
   "outputs": [
    {
     "data": {
      "text/plain": [
       "VehicleType         11724\n",
       "Gearbox                 0\n",
       "Power                   0\n",
       "Kilometer               0\n",
       "FuelType            15346\n",
       "Brand                   0\n",
       "NotRepaired             0\n",
       "RegistrationYear        0\n",
       "Model                   0\n",
       "Price                   0\n",
       "dtype: int64"
      ]
     },
     "execution_count": 18,
     "metadata": {},
     "output_type": "execute_result"
    }
   ],
   "source": [
    "filtr_df.fillna({'Gearbox':'manual', 'NotRepaired':'yes', 'Model':'unknown'}, inplace=True)\n",
    "filtr_df.isna().sum()"
   ]
  },
  {
   "cell_type": "markdown",
   "metadata": {},
   "source": [
    "Посмотрим на количество пропущенных значений в столбце VehicleType"
   ]
  },
  {
   "cell_type": "code",
   "execution_count": 19,
   "metadata": {},
   "outputs": [
    {
     "data": {
      "text/plain": [
       "sedan          63769\n",
       "small          59515\n",
       "wagon          44540\n",
       "bus            20569\n",
       "convertible    12370\n",
       "coupe           9671\n",
       "suv             5169\n",
       "other           2267\n",
       "Name: VehicleType, dtype: int64"
      ]
     },
     "metadata": {},
     "output_type": "display_data"
    },
    {
     "data": {
      "text/plain": [
       "11724"
      ]
     },
     "execution_count": 19,
     "metadata": {},
     "output_type": "execute_result"
    }
   ],
   "source": [
    "display(filtr_df['VehicleType'].value_counts())\n",
    "filtr_df['VehicleType'].isna().sum()"
   ]
  },
  {
   "cell_type": "markdown",
   "metadata": {},
   "source": [
    "Произведем замену НаН в соотвествии с популярным типом кузова для каждого бренда."
   ]
  },
  {
   "cell_type": "code",
   "execution_count": 20,
   "metadata": {},
   "outputs": [
    {
     "data": {
      "text/html": [
       "<div>\n",
       "<style scoped>\n",
       "    .dataframe tbody tr th:only-of-type {\n",
       "        vertical-align: middle;\n",
       "    }\n",
       "\n",
       "    .dataframe tbody tr th {\n",
       "        vertical-align: top;\n",
       "    }\n",
       "\n",
       "    .dataframe thead tr th {\n",
       "        text-align: left;\n",
       "    }\n",
       "\n",
       "    .dataframe thead tr:last-of-type th {\n",
       "        text-align: right;\n",
       "    }\n",
       "</style>\n",
       "<table border=\"1\" class=\"dataframe\">\n",
       "  <thead>\n",
       "    <tr>\n",
       "      <th></th>\n",
       "      <th colspan=\"21\" halign=\"left\">count</th>\n",
       "    </tr>\n",
       "    <tr>\n",
       "      <th></th>\n",
       "      <th colspan=\"21\" halign=\"left\">Price</th>\n",
       "    </tr>\n",
       "    <tr>\n",
       "      <th>Brand</th>\n",
       "      <th>alfa_romeo</th>\n",
       "      <th>audi</th>\n",
       "      <th>bmw</th>\n",
       "      <th>chevrolet</th>\n",
       "      <th>chrysler</th>\n",
       "      <th>citroen</th>\n",
       "      <th>dacia</th>\n",
       "      <th>daewoo</th>\n",
       "      <th>daihatsu</th>\n",
       "      <th>fiat</th>\n",
       "      <th>...</th>\n",
       "      <th>seat</th>\n",
       "      <th>skoda</th>\n",
       "      <th>smart</th>\n",
       "      <th>sonstige_autos</th>\n",
       "      <th>subaru</th>\n",
       "      <th>suzuki</th>\n",
       "      <th>toyota</th>\n",
       "      <th>trabant</th>\n",
       "      <th>volkswagen</th>\n",
       "      <th>volvo</th>\n",
       "    </tr>\n",
       "    <tr>\n",
       "      <th>VehicleType</th>\n",
       "      <th></th>\n",
       "      <th></th>\n",
       "      <th></th>\n",
       "      <th></th>\n",
       "      <th></th>\n",
       "      <th></th>\n",
       "      <th></th>\n",
       "      <th></th>\n",
       "      <th></th>\n",
       "      <th></th>\n",
       "      <th></th>\n",
       "      <th></th>\n",
       "      <th></th>\n",
       "      <th></th>\n",
       "      <th></th>\n",
       "      <th></th>\n",
       "      <th></th>\n",
       "      <th></th>\n",
       "      <th></th>\n",
       "      <th></th>\n",
       "      <th></th>\n",
       "    </tr>\n",
       "  </thead>\n",
       "  <tbody>\n",
       "    <tr>\n",
       "      <td>bus</td>\n",
       "      <td>NaN</td>\n",
       "      <td>10.0</td>\n",
       "      <td>4.0</td>\n",
       "      <td>93.0</td>\n",
       "      <td>332.0</td>\n",
       "      <td>1012.0</td>\n",
       "      <td>15.0</td>\n",
       "      <td>23.0</td>\n",
       "      <td>29.0</td>\n",
       "      <td>679.0</td>\n",
       "      <td>...</td>\n",
       "      <td>483.0</td>\n",
       "      <td>157.0</td>\n",
       "      <td>1.0</td>\n",
       "      <td>134.0</td>\n",
       "      <td>15.0</td>\n",
       "      <td>25.0</td>\n",
       "      <td>341.0</td>\n",
       "      <td>NaN</td>\n",
       "      <td>5894.0</td>\n",
       "      <td>NaN</td>\n",
       "    </tr>\n",
       "    <tr>\n",
       "      <td>convertible</td>\n",
       "      <td>111.0</td>\n",
       "      <td>666.0</td>\n",
       "      <td>1631.0</td>\n",
       "      <td>6.0</td>\n",
       "      <td>185.0</td>\n",
       "      <td>96.0</td>\n",
       "      <td>NaN</td>\n",
       "      <td>1.0</td>\n",
       "      <td>8.0</td>\n",
       "      <td>236.0</td>\n",
       "      <td>...</td>\n",
       "      <td>NaN</td>\n",
       "      <td>3.0</td>\n",
       "      <td>987.0</td>\n",
       "      <td>159.0</td>\n",
       "      <td>NaN</td>\n",
       "      <td>32.0</td>\n",
       "      <td>47.0</td>\n",
       "      <td>29.0</td>\n",
       "      <td>1958.0</td>\n",
       "      <td>35.0</td>\n",
       "    </tr>\n",
       "    <tr>\n",
       "      <td>coupe</td>\n",
       "      <td>173.0</td>\n",
       "      <td>639.0</td>\n",
       "      <td>2397.0</td>\n",
       "      <td>45.0</td>\n",
       "      <td>16.0</td>\n",
       "      <td>123.0</td>\n",
       "      <td>NaN</td>\n",
       "      <td>2.0</td>\n",
       "      <td>NaN</td>\n",
       "      <td>141.0</td>\n",
       "      <td>...</td>\n",
       "      <td>55.0</td>\n",
       "      <td>6.0</td>\n",
       "      <td>317.0</td>\n",
       "      <td>75.0</td>\n",
       "      <td>3.0</td>\n",
       "      <td>1.0</td>\n",
       "      <td>169.0</td>\n",
       "      <td>2.0</td>\n",
       "      <td>652.0</td>\n",
       "      <td>49.0</td>\n",
       "    </tr>\n",
       "    <tr>\n",
       "      <td>other</td>\n",
       "      <td>7.0</td>\n",
       "      <td>78.0</td>\n",
       "      <td>165.0</td>\n",
       "      <td>18.0</td>\n",
       "      <td>6.0</td>\n",
       "      <td>84.0</td>\n",
       "      <td>5.0</td>\n",
       "      <td>5.0</td>\n",
       "      <td>6.0</td>\n",
       "      <td>140.0</td>\n",
       "      <td>...</td>\n",
       "      <td>42.0</td>\n",
       "      <td>20.0</td>\n",
       "      <td>7.0</td>\n",
       "      <td>158.0</td>\n",
       "      <td>5.0</td>\n",
       "      <td>10.0</td>\n",
       "      <td>14.0</td>\n",
       "      <td>4.0</td>\n",
       "      <td>548.0</td>\n",
       "      <td>NaN</td>\n",
       "    </tr>\n",
       "    <tr>\n",
       "      <td>sedan</td>\n",
       "      <td>715.0</td>\n",
       "      <td>7329.0</td>\n",
       "      <td>10956.0</td>\n",
       "      <td>138.0</td>\n",
       "      <td>187.0</td>\n",
       "      <td>506.0</td>\n",
       "      <td>96.0</td>\n",
       "      <td>79.0</td>\n",
       "      <td>33.0</td>\n",
       "      <td>741.0</td>\n",
       "      <td>...</td>\n",
       "      <td>1154.0</td>\n",
       "      <td>679.0</td>\n",
       "      <td>26.0</td>\n",
       "      <td>243.0</td>\n",
       "      <td>93.0</td>\n",
       "      <td>119.0</td>\n",
       "      <td>725.0</td>\n",
       "      <td>144.0</td>\n",
       "      <td>14106.0</td>\n",
       "      <td>465.0</td>\n",
       "    </tr>\n",
       "    <tr>\n",
       "      <td>small</td>\n",
       "      <td>169.0</td>\n",
       "      <td>907.0</td>\n",
       "      <td>290.0</td>\n",
       "      <td>562.0</td>\n",
       "      <td>10.0</td>\n",
       "      <td>1282.0</td>\n",
       "      <td>178.0</td>\n",
       "      <td>204.0</td>\n",
       "      <td>371.0</td>\n",
       "      <td>3977.0</td>\n",
       "      <td>...</td>\n",
       "      <td>2412.0</td>\n",
       "      <td>905.0</td>\n",
       "      <td>3045.0</td>\n",
       "      <td>152.0</td>\n",
       "      <td>76.0</td>\n",
       "      <td>748.0</td>\n",
       "      <td>1442.0</td>\n",
       "      <td>46.0</td>\n",
       "      <td>13566.0</td>\n",
       "      <td>6.0</td>\n",
       "    </tr>\n",
       "    <tr>\n",
       "      <td>suv</td>\n",
       "      <td>NaN</td>\n",
       "      <td>17.0</td>\n",
       "      <td>189.0</td>\n",
       "      <td>145.0</td>\n",
       "      <td>11.0</td>\n",
       "      <td>6.0</td>\n",
       "      <td>46.0</td>\n",
       "      <td>1.0</td>\n",
       "      <td>44.0</td>\n",
       "      <td>16.0</td>\n",
       "      <td>...</td>\n",
       "      <td>1.0</td>\n",
       "      <td>6.0</td>\n",
       "      <td>NaN</td>\n",
       "      <td>171.0</td>\n",
       "      <td>40.0</td>\n",
       "      <td>553.0</td>\n",
       "      <td>252.0</td>\n",
       "      <td>NaN</td>\n",
       "      <td>238.0</td>\n",
       "      <td>27.0</td>\n",
       "    </tr>\n",
       "    <tr>\n",
       "      <td>wagon</td>\n",
       "      <td>363.0</td>\n",
       "      <td>6218.0</td>\n",
       "      <td>4855.0</td>\n",
       "      <td>83.0</td>\n",
       "      <td>179.0</td>\n",
       "      <td>455.0</td>\n",
       "      <td>227.0</td>\n",
       "      <td>32.0</td>\n",
       "      <td>16.0</td>\n",
       "      <td>309.0</td>\n",
       "      <td>...</td>\n",
       "      <td>186.0</td>\n",
       "      <td>1735.0</td>\n",
       "      <td>8.0</td>\n",
       "      <td>100.0</td>\n",
       "      <td>212.0</td>\n",
       "      <td>74.0</td>\n",
       "      <td>445.0</td>\n",
       "      <td>58.0</td>\n",
       "      <td>9213.0</td>\n",
       "      <td>1485.0</td>\n",
       "    </tr>\n",
       "  </tbody>\n",
       "</table>\n",
       "<p>8 rows × 40 columns</p>\n",
       "</div>"
      ],
      "text/plain": [
       "                 count                                                     \\\n",
       "                 Price                                                      \n",
       "Brand       alfa_romeo    audi      bmw chevrolet chrysler citroen  dacia   \n",
       "VehicleType                                                                 \n",
       "bus                NaN    10.0      4.0      93.0    332.0  1012.0   15.0   \n",
       "convertible      111.0   666.0   1631.0       6.0    185.0    96.0    NaN   \n",
       "coupe            173.0   639.0   2397.0      45.0     16.0   123.0    NaN   \n",
       "other              7.0    78.0    165.0      18.0      6.0    84.0    5.0   \n",
       "sedan            715.0  7329.0  10956.0     138.0    187.0   506.0   96.0   \n",
       "small            169.0   907.0    290.0     562.0     10.0  1282.0  178.0   \n",
       "suv                NaN    17.0    189.0     145.0     11.0     6.0   46.0   \n",
       "wagon            363.0  6218.0   4855.0      83.0    179.0   455.0  227.0   \n",
       "\n",
       "                                     ...                          \\\n",
       "                                     ...                           \n",
       "Brand       daewoo daihatsu    fiat  ...    seat   skoda   smart   \n",
       "VehicleType                          ...                           \n",
       "bus           23.0     29.0   679.0  ...   483.0   157.0     1.0   \n",
       "convertible    1.0      8.0   236.0  ...     NaN     3.0   987.0   \n",
       "coupe          2.0      NaN   141.0  ...    55.0     6.0   317.0   \n",
       "other          5.0      6.0   140.0  ...    42.0    20.0     7.0   \n",
       "sedan         79.0     33.0   741.0  ...  1154.0   679.0    26.0   \n",
       "small        204.0    371.0  3977.0  ...  2412.0   905.0  3045.0   \n",
       "suv            1.0     44.0    16.0  ...     1.0     6.0     NaN   \n",
       "wagon         32.0     16.0   309.0  ...   186.0  1735.0     8.0   \n",
       "\n",
       "                                                                             \n",
       "                                                                             \n",
       "Brand       sonstige_autos subaru suzuki  toyota trabant volkswagen   volvo  \n",
       "VehicleType                                                                  \n",
       "bus                  134.0   15.0   25.0   341.0     NaN     5894.0     NaN  \n",
       "convertible          159.0    NaN   32.0    47.0    29.0     1958.0    35.0  \n",
       "coupe                 75.0    3.0    1.0   169.0     2.0      652.0    49.0  \n",
       "other                158.0    5.0   10.0    14.0     4.0      548.0     NaN  \n",
       "sedan                243.0   93.0  119.0   725.0   144.0    14106.0   465.0  \n",
       "small                152.0   76.0  748.0  1442.0    46.0    13566.0     6.0  \n",
       "suv                  171.0   40.0  553.0   252.0     NaN      238.0    27.0  \n",
       "wagon                100.0  212.0   74.0   445.0    58.0     9213.0  1485.0  \n",
       "\n",
       "[8 rows x 40 columns]"
      ]
     },
     "metadata": {},
     "output_type": "display_data"
    }
   ],
   "source": [
    "vehicle_type_pivot_table = filtr_df.pivot_table(index=['VehicleType'], \n",
    "                                                columns=['Brand'], \n",
    "                                                values=['Price'], \n",
    "                                                aggfunc=['count'])\n",
    "\n",
    "display(vehicle_type_pivot_table)"
   ]
  },
  {
   "cell_type": "code",
   "execution_count": 21,
   "metadata": {},
   "outputs": [
    {
     "data": {
      "text/plain": [
       "sedan          715\n",
       "wagon          363\n",
       "coupe          173\n",
       "small          169\n",
       "convertible    111\n",
       "other            7\n",
       "Name: VehicleType, dtype: int64"
      ]
     },
     "execution_count": 21,
     "metadata": {},
     "output_type": "execute_result"
    }
   ],
   "source": [
    "filtr_df[filtr_df['Brand'] == 'alfa_romeo']['VehicleType'].value_counts() "
   ]
  },
  {
   "cell_type": "code",
   "execution_count": 22,
   "metadata": {},
   "outputs": [
    {
     "data": {
      "text/html": [
       "<div>\n",
       "<style scoped>\n",
       "    .dataframe tbody tr th:only-of-type {\n",
       "        vertical-align: middle;\n",
       "    }\n",
       "\n",
       "    .dataframe tbody tr th {\n",
       "        vertical-align: top;\n",
       "    }\n",
       "\n",
       "    .dataframe thead th {\n",
       "        text-align: right;\n",
       "    }\n",
       "</style>\n",
       "<table border=\"1\" class=\"dataframe\">\n",
       "  <thead>\n",
       "    <tr style=\"text-align: right;\">\n",
       "      <th>Brand</th>\n",
       "      <th>alfa_romeo</th>\n",
       "      <th>audi</th>\n",
       "      <th>bmw</th>\n",
       "      <th>chevrolet</th>\n",
       "      <th>chrysler</th>\n",
       "      <th>citroen</th>\n",
       "      <th>dacia</th>\n",
       "      <th>daewoo</th>\n",
       "      <th>daihatsu</th>\n",
       "      <th>fiat</th>\n",
       "      <th>...</th>\n",
       "      <th>seat</th>\n",
       "      <th>skoda</th>\n",
       "      <th>smart</th>\n",
       "      <th>sonstige_autos</th>\n",
       "      <th>subaru</th>\n",
       "      <th>suzuki</th>\n",
       "      <th>toyota</th>\n",
       "      <th>trabant</th>\n",
       "      <th>volkswagen</th>\n",
       "      <th>volvo</th>\n",
       "    </tr>\n",
       "    <tr>\n",
       "      <th>VehicleType</th>\n",
       "      <th></th>\n",
       "      <th></th>\n",
       "      <th></th>\n",
       "      <th></th>\n",
       "      <th></th>\n",
       "      <th></th>\n",
       "      <th></th>\n",
       "      <th></th>\n",
       "      <th></th>\n",
       "      <th></th>\n",
       "      <th></th>\n",
       "      <th></th>\n",
       "      <th></th>\n",
       "      <th></th>\n",
       "      <th></th>\n",
       "      <th></th>\n",
       "      <th></th>\n",
       "      <th></th>\n",
       "      <th></th>\n",
       "      <th></th>\n",
       "      <th></th>\n",
       "    </tr>\n",
       "  </thead>\n",
       "  <tbody>\n",
       "    <tr>\n",
       "      <td>bus</td>\n",
       "      <td>NaN</td>\n",
       "      <td>10.0</td>\n",
       "      <td>4.0</td>\n",
       "      <td>93.0</td>\n",
       "      <td>332.0</td>\n",
       "      <td>1012.0</td>\n",
       "      <td>15.0</td>\n",
       "      <td>23.0</td>\n",
       "      <td>29.0</td>\n",
       "      <td>679.0</td>\n",
       "      <td>...</td>\n",
       "      <td>483.0</td>\n",
       "      <td>157.0</td>\n",
       "      <td>1.0</td>\n",
       "      <td>134.0</td>\n",
       "      <td>15.0</td>\n",
       "      <td>25.0</td>\n",
       "      <td>341.0</td>\n",
       "      <td>NaN</td>\n",
       "      <td>5894.0</td>\n",
       "      <td>NaN</td>\n",
       "    </tr>\n",
       "    <tr>\n",
       "      <td>convertible</td>\n",
       "      <td>111.0</td>\n",
       "      <td>666.0</td>\n",
       "      <td>1631.0</td>\n",
       "      <td>6.0</td>\n",
       "      <td>185.0</td>\n",
       "      <td>96.0</td>\n",
       "      <td>NaN</td>\n",
       "      <td>1.0</td>\n",
       "      <td>8.0</td>\n",
       "      <td>236.0</td>\n",
       "      <td>...</td>\n",
       "      <td>NaN</td>\n",
       "      <td>3.0</td>\n",
       "      <td>987.0</td>\n",
       "      <td>159.0</td>\n",
       "      <td>NaN</td>\n",
       "      <td>32.0</td>\n",
       "      <td>47.0</td>\n",
       "      <td>29.0</td>\n",
       "      <td>1958.0</td>\n",
       "      <td>35.0</td>\n",
       "    </tr>\n",
       "    <tr>\n",
       "      <td>coupe</td>\n",
       "      <td>173.0</td>\n",
       "      <td>639.0</td>\n",
       "      <td>2397.0</td>\n",
       "      <td>45.0</td>\n",
       "      <td>16.0</td>\n",
       "      <td>123.0</td>\n",
       "      <td>NaN</td>\n",
       "      <td>2.0</td>\n",
       "      <td>NaN</td>\n",
       "      <td>141.0</td>\n",
       "      <td>...</td>\n",
       "      <td>55.0</td>\n",
       "      <td>6.0</td>\n",
       "      <td>317.0</td>\n",
       "      <td>75.0</td>\n",
       "      <td>3.0</td>\n",
       "      <td>1.0</td>\n",
       "      <td>169.0</td>\n",
       "      <td>2.0</td>\n",
       "      <td>652.0</td>\n",
       "      <td>49.0</td>\n",
       "    </tr>\n",
       "    <tr>\n",
       "      <td>other</td>\n",
       "      <td>7.0</td>\n",
       "      <td>78.0</td>\n",
       "      <td>165.0</td>\n",
       "      <td>18.0</td>\n",
       "      <td>6.0</td>\n",
       "      <td>84.0</td>\n",
       "      <td>5.0</td>\n",
       "      <td>5.0</td>\n",
       "      <td>6.0</td>\n",
       "      <td>140.0</td>\n",
       "      <td>...</td>\n",
       "      <td>42.0</td>\n",
       "      <td>20.0</td>\n",
       "      <td>7.0</td>\n",
       "      <td>158.0</td>\n",
       "      <td>5.0</td>\n",
       "      <td>10.0</td>\n",
       "      <td>14.0</td>\n",
       "      <td>4.0</td>\n",
       "      <td>548.0</td>\n",
       "      <td>NaN</td>\n",
       "    </tr>\n",
       "    <tr>\n",
       "      <td>sedan</td>\n",
       "      <td>715.0</td>\n",
       "      <td>7329.0</td>\n",
       "      <td>10956.0</td>\n",
       "      <td>138.0</td>\n",
       "      <td>187.0</td>\n",
       "      <td>506.0</td>\n",
       "      <td>96.0</td>\n",
       "      <td>79.0</td>\n",
       "      <td>33.0</td>\n",
       "      <td>741.0</td>\n",
       "      <td>...</td>\n",
       "      <td>1154.0</td>\n",
       "      <td>679.0</td>\n",
       "      <td>26.0</td>\n",
       "      <td>243.0</td>\n",
       "      <td>93.0</td>\n",
       "      <td>119.0</td>\n",
       "      <td>725.0</td>\n",
       "      <td>144.0</td>\n",
       "      <td>14106.0</td>\n",
       "      <td>465.0</td>\n",
       "    </tr>\n",
       "    <tr>\n",
       "      <td>small</td>\n",
       "      <td>169.0</td>\n",
       "      <td>907.0</td>\n",
       "      <td>290.0</td>\n",
       "      <td>562.0</td>\n",
       "      <td>10.0</td>\n",
       "      <td>1282.0</td>\n",
       "      <td>178.0</td>\n",
       "      <td>204.0</td>\n",
       "      <td>371.0</td>\n",
       "      <td>3977.0</td>\n",
       "      <td>...</td>\n",
       "      <td>2412.0</td>\n",
       "      <td>905.0</td>\n",
       "      <td>3045.0</td>\n",
       "      <td>152.0</td>\n",
       "      <td>76.0</td>\n",
       "      <td>748.0</td>\n",
       "      <td>1442.0</td>\n",
       "      <td>46.0</td>\n",
       "      <td>13566.0</td>\n",
       "      <td>6.0</td>\n",
       "    </tr>\n",
       "    <tr>\n",
       "      <td>suv</td>\n",
       "      <td>NaN</td>\n",
       "      <td>17.0</td>\n",
       "      <td>189.0</td>\n",
       "      <td>145.0</td>\n",
       "      <td>11.0</td>\n",
       "      <td>6.0</td>\n",
       "      <td>46.0</td>\n",
       "      <td>1.0</td>\n",
       "      <td>44.0</td>\n",
       "      <td>16.0</td>\n",
       "      <td>...</td>\n",
       "      <td>1.0</td>\n",
       "      <td>6.0</td>\n",
       "      <td>NaN</td>\n",
       "      <td>171.0</td>\n",
       "      <td>40.0</td>\n",
       "      <td>553.0</td>\n",
       "      <td>252.0</td>\n",
       "      <td>NaN</td>\n",
       "      <td>238.0</td>\n",
       "      <td>27.0</td>\n",
       "    </tr>\n",
       "    <tr>\n",
       "      <td>wagon</td>\n",
       "      <td>363.0</td>\n",
       "      <td>6218.0</td>\n",
       "      <td>4855.0</td>\n",
       "      <td>83.0</td>\n",
       "      <td>179.0</td>\n",
       "      <td>455.0</td>\n",
       "      <td>227.0</td>\n",
       "      <td>32.0</td>\n",
       "      <td>16.0</td>\n",
       "      <td>309.0</td>\n",
       "      <td>...</td>\n",
       "      <td>186.0</td>\n",
       "      <td>1735.0</td>\n",
       "      <td>8.0</td>\n",
       "      <td>100.0</td>\n",
       "      <td>212.0</td>\n",
       "      <td>74.0</td>\n",
       "      <td>445.0</td>\n",
       "      <td>58.0</td>\n",
       "      <td>9213.0</td>\n",
       "      <td>1485.0</td>\n",
       "    </tr>\n",
       "  </tbody>\n",
       "</table>\n",
       "<p>8 rows × 40 columns</p>\n",
       "</div>"
      ],
      "text/plain": [
       "Brand        alfa_romeo    audi      bmw  chevrolet  chrysler  citroen  dacia  \\\n",
       "VehicleType                                                                     \n",
       "bus                 NaN    10.0      4.0       93.0     332.0   1012.0   15.0   \n",
       "convertible       111.0   666.0   1631.0        6.0     185.0     96.0    NaN   \n",
       "coupe             173.0   639.0   2397.0       45.0      16.0    123.0    NaN   \n",
       "other               7.0    78.0    165.0       18.0       6.0     84.0    5.0   \n",
       "sedan             715.0  7329.0  10956.0      138.0     187.0    506.0   96.0   \n",
       "small             169.0   907.0    290.0      562.0      10.0   1282.0  178.0   \n",
       "suv                 NaN    17.0    189.0      145.0      11.0      6.0   46.0   \n",
       "wagon             363.0  6218.0   4855.0       83.0     179.0    455.0  227.0   \n",
       "\n",
       "Brand        daewoo  daihatsu    fiat  ...    seat   skoda   smart  \\\n",
       "VehicleType                            ...                           \n",
       "bus            23.0      29.0   679.0  ...   483.0   157.0     1.0   \n",
       "convertible     1.0       8.0   236.0  ...     NaN     3.0   987.0   \n",
       "coupe           2.0       NaN   141.0  ...    55.0     6.0   317.0   \n",
       "other           5.0       6.0   140.0  ...    42.0    20.0     7.0   \n",
       "sedan          79.0      33.0   741.0  ...  1154.0   679.0    26.0   \n",
       "small         204.0     371.0  3977.0  ...  2412.0   905.0  3045.0   \n",
       "suv             1.0      44.0    16.0  ...     1.0     6.0     NaN   \n",
       "wagon          32.0      16.0   309.0  ...   186.0  1735.0     8.0   \n",
       "\n",
       "Brand        sonstige_autos  subaru  suzuki  toyota  trabant  volkswagen  \\\n",
       "VehicleType                                                                \n",
       "bus                   134.0    15.0    25.0   341.0      NaN      5894.0   \n",
       "convertible           159.0     NaN    32.0    47.0     29.0      1958.0   \n",
       "coupe                  75.0     3.0     1.0   169.0      2.0       652.0   \n",
       "other                 158.0     5.0    10.0    14.0      4.0       548.0   \n",
       "sedan                 243.0    93.0   119.0   725.0    144.0     14106.0   \n",
       "small                 152.0    76.0   748.0  1442.0     46.0     13566.0   \n",
       "suv                   171.0    40.0   553.0   252.0      NaN       238.0   \n",
       "wagon                 100.0   212.0    74.0   445.0     58.0      9213.0   \n",
       "\n",
       "Brand         volvo  \n",
       "VehicleType          \n",
       "bus             NaN  \n",
       "convertible    35.0  \n",
       "coupe          49.0  \n",
       "other           NaN  \n",
       "sedan         465.0  \n",
       "small           6.0  \n",
       "suv            27.0  \n",
       "wagon        1485.0  \n",
       "\n",
       "[8 rows x 40 columns]"
      ]
     },
     "execution_count": 22,
     "metadata": {},
     "output_type": "execute_result"
    }
   ],
   "source": [
    "vehicle_type_pivot_table = vehicle_type_pivot_table['count']['Price']\n",
    "vehicle_type_pivot_table"
   ]
  },
  {
   "cell_type": "markdown",
   "metadata": {},
   "source": [
    "Заполним словарь брендов и популярных типов машин и заполним пропуски по столбцу VehicleType. Пропуски в столбце FuelType заполняем по похожему принципу."
   ]
  },
  {
   "cell_type": "code",
   "execution_count": 23,
   "metadata": {},
   "outputs": [
    {
     "data": {
      "text/plain": [
       "0"
      ]
     },
     "metadata": {},
     "output_type": "display_data"
    },
    {
     "data": {
      "text/plain": [
       "sedan          70327\n",
       "small          64352\n",
       "wagon          44762\n",
       "bus            20614\n",
       "convertible    12370\n",
       "coupe           9686\n",
       "suv             5216\n",
       "other           2267\n",
       "Name: VehicleType, dtype: int64"
      ]
     },
     "execution_count": 23,
     "metadata": {},
     "output_type": "execute_result"
    }
   ],
   "source": [
    "filtr_df.fillna({'VehicleType':0},inplace=True)\n",
    "\n",
    "def fillna_by_brand(row, row_number, vehicle_type_pivot_table):\n",
    "    brand = row[5]\n",
    "    fill_value = row[row_number]\n",
    "    if row[row_number] == 0:\n",
    "        fill_value = vehicle_type_pivot_table[brand].idxmax()\n",
    "    return fill_value\n",
    "\n",
    "filtr_df['VehicleType'] = filtr_df.apply(fillna_by_brand, \n",
    "                                         args=[0, vehicle_type_pivot_table], \n",
    "                                         axis=1)\n",
    "\n",
    "display(filtr_df['VehicleType'].isna().sum())\n",
    "filtr_df['VehicleType'].value_counts()"
   ]
  },
  {
   "cell_type": "code",
   "execution_count": 24,
   "metadata": {},
   "outputs": [
    {
     "data": {
      "text/html": [
       "<div>\n",
       "<style scoped>\n",
       "    .dataframe tbody tr th:only-of-type {\n",
       "        vertical-align: middle;\n",
       "    }\n",
       "\n",
       "    .dataframe tbody tr th {\n",
       "        vertical-align: top;\n",
       "    }\n",
       "\n",
       "    .dataframe thead th {\n",
       "        text-align: right;\n",
       "    }\n",
       "</style>\n",
       "<table border=\"1\" class=\"dataframe\">\n",
       "  <thead>\n",
       "    <tr style=\"text-align: right;\">\n",
       "      <th>Brand</th>\n",
       "      <th>alfa_romeo</th>\n",
       "      <th>audi</th>\n",
       "      <th>bmw</th>\n",
       "      <th>chevrolet</th>\n",
       "      <th>chrysler</th>\n",
       "      <th>citroen</th>\n",
       "      <th>dacia</th>\n",
       "      <th>daewoo</th>\n",
       "      <th>daihatsu</th>\n",
       "      <th>fiat</th>\n",
       "      <th>...</th>\n",
       "      <th>seat</th>\n",
       "      <th>skoda</th>\n",
       "      <th>smart</th>\n",
       "      <th>sonstige_autos</th>\n",
       "      <th>subaru</th>\n",
       "      <th>suzuki</th>\n",
       "      <th>toyota</th>\n",
       "      <th>trabant</th>\n",
       "      <th>volkswagen</th>\n",
       "      <th>volvo</th>\n",
       "    </tr>\n",
       "    <tr>\n",
       "      <th>FuelType</th>\n",
       "      <th></th>\n",
       "      <th></th>\n",
       "      <th></th>\n",
       "      <th></th>\n",
       "      <th></th>\n",
       "      <th></th>\n",
       "      <th></th>\n",
       "      <th></th>\n",
       "      <th></th>\n",
       "      <th></th>\n",
       "      <th></th>\n",
       "      <th></th>\n",
       "      <th></th>\n",
       "      <th></th>\n",
       "      <th></th>\n",
       "      <th></th>\n",
       "      <th></th>\n",
       "      <th></th>\n",
       "      <th></th>\n",
       "      <th></th>\n",
       "      <th></th>\n",
       "    </tr>\n",
       "  </thead>\n",
       "  <tbody>\n",
       "    <tr>\n",
       "      <td>cng</td>\n",
       "      <td>NaN</td>\n",
       "      <td>1.0</td>\n",
       "      <td>6.0</td>\n",
       "      <td>4.0</td>\n",
       "      <td>NaN</td>\n",
       "      <td>7.0</td>\n",
       "      <td>2.0</td>\n",
       "      <td>NaN</td>\n",
       "      <td>NaN</td>\n",
       "      <td>61.0</td>\n",
       "      <td>...</td>\n",
       "      <td>NaN</td>\n",
       "      <td>4.0</td>\n",
       "      <td>2.0</td>\n",
       "      <td>NaN</td>\n",
       "      <td>2.0</td>\n",
       "      <td>NaN</td>\n",
       "      <td>NaN</td>\n",
       "      <td>NaN</td>\n",
       "      <td>125.0</td>\n",
       "      <td>14.0</td>\n",
       "    </tr>\n",
       "    <tr>\n",
       "      <td>electric</td>\n",
       "      <td>NaN</td>\n",
       "      <td>1.0</td>\n",
       "      <td>3.0</td>\n",
       "      <td>NaN</td>\n",
       "      <td>NaN</td>\n",
       "      <td>NaN</td>\n",
       "      <td>NaN</td>\n",
       "      <td>NaN</td>\n",
       "      <td>1.0</td>\n",
       "      <td>1.0</td>\n",
       "      <td>...</td>\n",
       "      <td>NaN</td>\n",
       "      <td>NaN</td>\n",
       "      <td>1.0</td>\n",
       "      <td>15.0</td>\n",
       "      <td>NaN</td>\n",
       "      <td>NaN</td>\n",
       "      <td>NaN</td>\n",
       "      <td>NaN</td>\n",
       "      <td>1.0</td>\n",
       "      <td>NaN</td>\n",
       "    </tr>\n",
       "    <tr>\n",
       "      <td>gasoline</td>\n",
       "      <td>458.0</td>\n",
       "      <td>6435.0</td>\n",
       "      <td>5038.0</td>\n",
       "      <td>66.0</td>\n",
       "      <td>256.0</td>\n",
       "      <td>1146.0</td>\n",
       "      <td>98.0</td>\n",
       "      <td>1.0</td>\n",
       "      <td>4.0</td>\n",
       "      <td>1200.0</td>\n",
       "      <td>...</td>\n",
       "      <td>1199.0</td>\n",
       "      <td>1140.0</td>\n",
       "      <td>799.0</td>\n",
       "      <td>295.0</td>\n",
       "      <td>10.0</td>\n",
       "      <td>145.0</td>\n",
       "      <td>677.0</td>\n",
       "      <td>1.0</td>\n",
       "      <td>16433.0</td>\n",
       "      <td>562.0</td>\n",
       "    </tr>\n",
       "    <tr>\n",
       "      <td>hybrid</td>\n",
       "      <td>NaN</td>\n",
       "      <td>NaN</td>\n",
       "      <td>NaN</td>\n",
       "      <td>NaN</td>\n",
       "      <td>NaN</td>\n",
       "      <td>NaN</td>\n",
       "      <td>NaN</td>\n",
       "      <td>NaN</td>\n",
       "      <td>NaN</td>\n",
       "      <td>2.0</td>\n",
       "      <td>...</td>\n",
       "      <td>1.0</td>\n",
       "      <td>NaN</td>\n",
       "      <td>1.0</td>\n",
       "      <td>NaN</td>\n",
       "      <td>NaN</td>\n",
       "      <td>NaN</td>\n",
       "      <td>35.0</td>\n",
       "      <td>NaN</td>\n",
       "      <td>4.0</td>\n",
       "      <td>NaN</td>\n",
       "    </tr>\n",
       "    <tr>\n",
       "      <td>lpg</td>\n",
       "      <td>29.0</td>\n",
       "      <td>349.0</td>\n",
       "      <td>600.0</td>\n",
       "      <td>138.0</td>\n",
       "      <td>72.0</td>\n",
       "      <td>62.0</td>\n",
       "      <td>35.0</td>\n",
       "      <td>22.0</td>\n",
       "      <td>5.0</td>\n",
       "      <td>62.0</td>\n",
       "      <td>...</td>\n",
       "      <td>52.0</td>\n",
       "      <td>46.0</td>\n",
       "      <td>3.0</td>\n",
       "      <td>56.0</td>\n",
       "      <td>23.0</td>\n",
       "      <td>13.0</td>\n",
       "      <td>18.0</td>\n",
       "      <td>NaN</td>\n",
       "      <td>428.0</td>\n",
       "      <td>92.0</td>\n",
       "    </tr>\n",
       "    <tr>\n",
       "      <td>other</td>\n",
       "      <td>NaN</td>\n",
       "      <td>2.0</td>\n",
       "      <td>5.0</td>\n",
       "      <td>NaN</td>\n",
       "      <td>NaN</td>\n",
       "      <td>2.0</td>\n",
       "      <td>NaN</td>\n",
       "      <td>NaN</td>\n",
       "      <td>NaN</td>\n",
       "      <td>3.0</td>\n",
       "      <td>...</td>\n",
       "      <td>NaN</td>\n",
       "      <td>NaN</td>\n",
       "      <td>1.0</td>\n",
       "      <td>14.0</td>\n",
       "      <td>NaN</td>\n",
       "      <td>1.0</td>\n",
       "      <td>NaN</td>\n",
       "      <td>28.0</td>\n",
       "      <td>14.0</td>\n",
       "      <td>2.0</td>\n",
       "    </tr>\n",
       "    <tr>\n",
       "      <td>petrol</td>\n",
       "      <td>1030.0</td>\n",
       "      <td>8809.0</td>\n",
       "      <td>14263.0</td>\n",
       "      <td>860.0</td>\n",
       "      <td>584.0</td>\n",
       "      <td>2314.0</td>\n",
       "      <td>423.0</td>\n",
       "      <td>317.0</td>\n",
       "      <td>496.0</td>\n",
       "      <td>4823.0</td>\n",
       "      <td>...</td>\n",
       "      <td>3061.0</td>\n",
       "      <td>2267.0</td>\n",
       "      <td>3555.0</td>\n",
       "      <td>742.0</td>\n",
       "      <td>395.0</td>\n",
       "      <td>1381.0</td>\n",
       "      <td>2676.0</td>\n",
       "      <td>210.0</td>\n",
       "      <td>28790.0</td>\n",
       "      <td>1348.0</td>\n",
       "    </tr>\n",
       "  </tbody>\n",
       "</table>\n",
       "<p>7 rows × 40 columns</p>\n",
       "</div>"
      ],
      "text/plain": [
       "Brand     alfa_romeo    audi      bmw  chevrolet  chrysler  citroen  dacia  \\\n",
       "FuelType                                                                     \n",
       "cng              NaN     1.0      6.0        4.0       NaN      7.0    2.0   \n",
       "electric         NaN     1.0      3.0        NaN       NaN      NaN    NaN   \n",
       "gasoline       458.0  6435.0   5038.0       66.0     256.0   1146.0   98.0   \n",
       "hybrid           NaN     NaN      NaN        NaN       NaN      NaN    NaN   \n",
       "lpg             29.0   349.0    600.0      138.0      72.0     62.0   35.0   \n",
       "other            NaN     2.0      5.0        NaN       NaN      2.0    NaN   \n",
       "petrol        1030.0  8809.0  14263.0      860.0     584.0   2314.0  423.0   \n",
       "\n",
       "Brand     daewoo  daihatsu    fiat  ...    seat   skoda   smart  \\\n",
       "FuelType                            ...                           \n",
       "cng          NaN       NaN    61.0  ...     NaN     4.0     2.0   \n",
       "electric     NaN       1.0     1.0  ...     NaN     NaN     1.0   \n",
       "gasoline     1.0       4.0  1200.0  ...  1199.0  1140.0   799.0   \n",
       "hybrid       NaN       NaN     2.0  ...     1.0     NaN     1.0   \n",
       "lpg         22.0       5.0    62.0  ...    52.0    46.0     3.0   \n",
       "other        NaN       NaN     3.0  ...     NaN     NaN     1.0   \n",
       "petrol     317.0     496.0  4823.0  ...  3061.0  2267.0  3555.0   \n",
       "\n",
       "Brand     sonstige_autos  subaru  suzuki  toyota  trabant  volkswagen   volvo  \n",
       "FuelType                                                                       \n",
       "cng                  NaN     2.0     NaN     NaN      NaN       125.0    14.0  \n",
       "electric            15.0     NaN     NaN     NaN      NaN         1.0     NaN  \n",
       "gasoline           295.0    10.0   145.0   677.0      1.0     16433.0   562.0  \n",
       "hybrid               NaN     NaN     NaN    35.0      NaN         4.0     NaN  \n",
       "lpg                 56.0    23.0    13.0    18.0      NaN       428.0    92.0  \n",
       "other               14.0     NaN     1.0     NaN     28.0        14.0     2.0  \n",
       "petrol             742.0   395.0  1381.0  2676.0    210.0     28790.0  1348.0  \n",
       "\n",
       "[7 rows x 40 columns]"
      ]
     },
     "metadata": {},
     "output_type": "display_data"
    }
   ],
   "source": [
    "filtr_df['FuelType'].value_counts()\n",
    "fuel_type_pivot_table = filtr_df.pivot_table(index=['FuelType'], \n",
    "                                             columns=['Brand'], \n",
    "                                             values=['Price'], \n",
    "                                             aggfunc=['count'])\n",
    "fuel_type_pivot_table = fuel_type_pivot_table['count']['Price']\n",
    "display(fuel_type_pivot_table)"
   ]
  },
  {
   "cell_type": "code",
   "execution_count": 25,
   "metadata": {},
   "outputs": [
    {
     "data": {
      "text/plain": [
       "0"
      ]
     },
     "metadata": {},
     "output_type": "display_data"
    },
    {
     "data": {
      "text/plain": [
       "petrol      148851\n",
       "gasoline     60641\n",
       "sedan         8361\n",
       "small         6501\n",
       "lpg           4099\n",
       "cng            423\n",
       "wagon          348\n",
       "other          101\n",
       "hybrid          81\n",
       "suv             60\n",
       "bus             59\n",
       "electric        52\n",
       "coupe           17\n",
       "Name: FuelType, dtype: int64"
      ]
     },
     "execution_count": 25,
     "metadata": {},
     "output_type": "execute_result"
    }
   ],
   "source": [
    "filtr_df.fillna({'FuelType':0},inplace=True)\n",
    "\n",
    "filtr_df['FuelType'] = filtr_df.apply(fillna_by_brand, \n",
    "                                      args=[4, vehicle_type_pivot_table], \n",
    "                                      axis=1)\n",
    "display(filtr_df['FuelType'].isna().sum())\n",
    "filtr_df['FuelType'].value_counts()"
   ]
  },
  {
   "cell_type": "code",
   "execution_count": 26,
   "metadata": {},
   "outputs": [
    {
     "data": {
      "text/plain": [
       "VehicleType         0\n",
       "Gearbox             0\n",
       "Power               0\n",
       "Kilometer           0\n",
       "FuelType            0\n",
       "Brand               0\n",
       "NotRepaired         0\n",
       "RegistrationYear    0\n",
       "Model               0\n",
       "Price               0\n",
       "dtype: int64"
      ]
     },
     "execution_count": 26,
     "metadata": {},
     "output_type": "execute_result"
    }
   ],
   "source": [
    "filtr_df.isna().sum()"
   ]
  },
  {
   "cell_type": "markdown",
   "metadata": {},
   "source": [
    "Пропуски убраны. Осталось разобраться с некорректнымми значениями в столбце Power."
   ]
  },
  {
   "cell_type": "code",
   "execution_count": 27,
   "metadata": {
    "scrolled": true
   },
   "outputs": [
    {
     "data": {
      "text/plain": [
       "count    229594.000000\n",
       "mean        104.546987\n",
       "std         185.615978\n",
       "min           0.000000\n",
       "25%          69.000000\n",
       "50%         101.000000\n",
       "75%         136.000000\n",
       "max       20000.000000\n",
       "Name: Power, dtype: float64"
      ]
     },
     "execution_count": 27,
     "metadata": {},
     "output_type": "execute_result"
    }
   ],
   "source": [
    "filtr_df['Power'].describe()"
   ]
  },
  {
   "cell_type": "markdown",
   "metadata": {},
   "source": [
    "Разброс снова очень большой. Уберем выбросы больше 1000 лошадиных сил"
   ]
  },
  {
   "cell_type": "code",
   "execution_count": 28,
   "metadata": {},
   "outputs": [
    {
     "data": {
      "text/plain": [
       "count    229400.000000\n",
       "mean        101.138409\n",
       "std          54.537991\n",
       "min           0.000000\n",
       "25%          69.000000\n",
       "50%         101.000000\n",
       "75%         136.000000\n",
       "max        1000.000000\n",
       "Name: Power, dtype: float64"
      ]
     },
     "execution_count": 28,
     "metadata": {},
     "output_type": "execute_result"
    },
    {
     "data": {
      "image/png": "[encoded data removed]",
      "text/plain": [
       "<Figure size 864x648 with 1 Axes>"
      ]
     },
     "metadata": {
      "needs_background": "light"
     },
     "output_type": "display_data"
    }
   ],
   "source": [
    "filtr_df = filtr_df.query('Power < 1001')\n",
    "filtr_df['Power'].hist(bins=100, figsize=(12,9))\n",
    "filtr_df['Power'].describe()"
   ]
  },
  {
   "cell_type": "code",
   "execution_count": 29,
   "metadata": {},
   "outputs": [
    {
     "data": {
      "text/plain": [
       "count    207648.000000\n",
       "mean        111.495531\n",
       "std          44.604060\n",
       "min           1.000000\n",
       "25%          75.000000\n",
       "50%         105.000000\n",
       "75%         140.000000\n",
       "max         400.000000\n",
       "Name: Power, dtype: float64"
      ]
     },
     "execution_count": 29,
     "metadata": {},
     "output_type": "execute_result"
    },
    {
     "data": {
      "image/png": "[encoded data removed]",
      "text/plain": [
       "<Figure size 864x648 with 1 Axes>"
      ]
     },
     "metadata": {
      "needs_background": "light"
     },
     "output_type": "display_data"
    }
   ],
   "source": [
    "filtr_df = filtr_df.query('0 < Power < 401')\n",
    "filtr_df['Power'].hist(bins=100, figsize=(12,9))\n",
    "filtr_df['Power'].describe()"
   ]
  },
  {
   "cell_type": "code",
   "execution_count": 30,
   "metadata": {},
   "outputs": [
    {
     "data": {
      "text/plain": [
       "count    207216.000000\n",
       "mean        111.552520\n",
       "std          44.138358\n",
       "min          25.000000\n",
       "25%          75.000000\n",
       "50%         105.000000\n",
       "75%         140.000000\n",
       "max         350.000000\n",
       "Name: Power, dtype: float64"
      ]
     },
     "execution_count": 30,
     "metadata": {},
     "output_type": "execute_result"
    },
    {
     "data": {
      "image/png": "[encoded data removed]",
      "text/plain": [
       "<Figure size 864x648 with 1 Axes>"
      ]
     },
     "metadata": {
      "needs_background": "light"
     },
     "output_type": "display_data"
    }
   ],
   "source": [
    "good_df = filtr_df.query('24 < Power < 351')\n",
    "good_df['Power'].hist(bins=100, figsize=(12,9))\n",
    "good_df['Power'].describe()"
   ]
  },
  {
   "cell_type": "code",
   "execution_count": 31,
   "metadata": {},
   "outputs": [
    {
     "name": "stdout",
     "output_type": "stream",
     "text": [
      "<class 'pandas.core.frame.DataFrame'>\n",
      "Int64Index: 207216 entries, 3 to 354368\n",
      "Data columns (total 10 columns):\n",
      "VehicleType         207216 non-null object\n",
      "Gearbox             207216 non-null object\n",
      "Power               207216 non-null int64\n",
      "Kilometer           207216 non-null int64\n",
      "FuelType            207216 non-null object\n",
      "Brand               207216 non-null object\n",
      "NotRepaired         207216 non-null object\n",
      "RegistrationYear    207216 non-null int64\n",
      "Model               207216 non-null object\n",
      "Price               207216 non-null int64\n",
      "dtypes: int64(4), object(6)\n",
      "memory usage: 17.4+ MB\n"
     ]
    }
   ],
   "source": [
    "good_df.info()"
   ]
  },
  {
   "cell_type": "markdown",
   "metadata": {},
   "source": [
    "Очистили данные от выбросов, теперь они выглядят как рай для перфекциониста. Почти. Надо еще провести замену столбцов Gearbox и NotRepaired на булев тип.  \n",
    "\n",
    "IsManualGearbox. 1(manual) - означает механическую коробку передач, 0(auto) - автоматическую.  \n",
    "IsNotRepaired. 1(yes) - означает машину без ремонта, 0(no) - с ремонтом."
   ]
  },
  {
   "cell_type": "code",
   "execution_count": 32,
   "metadata": {},
   "outputs": [
    {
     "data": {
      "text/plain": [
       "1    173534\n",
       "0     33682\n",
       "Name: IsManualGearbox, dtype: int64"
      ]
     },
     "metadata": {},
     "output_type": "display_data"
    },
    {
     "data": {
      "text/plain": [
       "manual    173534\n",
       "auto       33682\n",
       "Name: Gearbox, dtype: int64"
      ]
     },
     "execution_count": 32,
     "metadata": {},
     "output_type": "execute_result"
    }
   ],
   "source": [
    "good_df['IsManualGearbox'] = 0\n",
    "good_df.loc[good_df['Gearbox'] == 'manual', 'IsManualGearbox'] = 1\n",
    "display(good_df['IsManualGearbox'].value_counts())\n",
    "good_df['Gearbox'].value_counts()"
   ]
  },
  {
   "cell_type": "code",
   "execution_count": 33,
   "metadata": {},
   "outputs": [
    {
     "data": {
      "text/plain": [
       "0    157197\n",
       "1     50019\n",
       "Name: IsNotRepaired, dtype: int64"
      ]
     },
     "metadata": {},
     "output_type": "display_data"
    },
    {
     "data": {
      "text/plain": [
       "no     157197\n",
       "yes     50019\n",
       "Name: NotRepaired, dtype: int64"
      ]
     },
     "execution_count": 33,
     "metadata": {},
     "output_type": "execute_result"
    }
   ],
   "source": [
    "good_df['IsNotRepaired'] = 0\n",
    "good_df.loc[good_df['NotRepaired'] == 'yes', 'IsNotRepaired'] = 1\n",
    "display(good_df['IsNotRepaired'].value_counts())\n",
    "good_df['NotRepaired'].value_counts()"
   ]
  },
  {
   "cell_type": "code",
   "execution_count": 34,
   "metadata": {
    "scrolled": true
   },
   "outputs": [
    {
     "name": "stdout",
     "output_type": "stream",
     "text": [
      "<class 'pandas.core.frame.DataFrame'>\n",
      "Int64Index: 207216 entries, 3 to 354368\n",
      "Data columns (total 10 columns):\n",
      "VehicleType         207216 non-null object\n",
      "Power               207216 non-null int64\n",
      "Kilometer           207216 non-null int64\n",
      "FuelType            207216 non-null object\n",
      "Brand               207216 non-null object\n",
      "RegistrationYear    207216 non-null int64\n",
      "Model               207216 non-null object\n",
      "Price               207216 non-null int64\n",
      "IsManualGearbox     207216 non-null int64\n",
      "IsNotRepaired       207216 non-null int64\n",
      "dtypes: int64(6), object(4)\n",
      "memory usage: 17.4+ MB\n"
     ]
    }
   ],
   "source": [
    "good_df.drop(['NotRepaired','Gearbox'], inplace=True, axis=1)\n",
    "good_df.info()"
   ]
  },
  {
   "cell_type": "markdown",
   "metadata": {},
   "source": [
    "#### Выводы  \n",
    "\n",
    "В начале предобработки данных мы выделили признаки, необходимые для обучения модели, которые могут повлиять на цену. \n",
    "Это \n",
    "VehicleType,\n",
    "Gearbox, \n",
    "Power,\n",
    "Kilometer, \n",
    "FuelType, \n",
    "Brand,\n",
    "NotRepaired, \n",
    "RegistrationYear,\n",
    "Model.\n",
    "\n",
    "Остальные столбцы мы удалили, так как для модели не требуются, ибо не влияют на стоимость.  \n",
    "\n",
    "Затем обработали эти признаки, разобрались с пропущеными значениями, дубликатами, выбросами.   \n",
    "\n",
    "VehicleType - восстановили пропущенные значения по популярному типу из столбца Brand.  \n",
    "Gearbox - для всех NaN установили значение 'manual'.  \n",
    "Power - исправили на реальные значения в машинах.  \n",
    "FuelType - восстановили пропущенные значения по популярному типу из столбца Brand.  \n",
    "NotRepaired - для всех NaN установили значение 'yes'.  \n",
    "RegistrationYear - исправили на реальные значения в машинах.  \n",
    "Model - для всех NaN установили значение 'unknown'.  \n",
    "\n",
    "Данные готовы для обучения моделей. Го!"
   ]
  },
  {
   "cell_type": "markdown",
   "metadata": {},
   "source": [
    "## Обучение моделей"
   ]
  },
  {
   "cell_type": "markdown",
   "metadata": {},
   "source": [
    "Проведем обучение следующих моделей:\n",
    "\n",
    "LinearRegression  \n",
    "DecisionTreeRegressor  \n",
    "LGBMRegressor  \n",
    "\n",
    "В качестве метрики для всех моделей будем использовать MSE и в финальной таблице переведем в RMSE. \n",
    "Качество моделей будем проверять на кроссвалидации.\n",
    "\n",
    "Для этого нам понадобится три типа признаков для кроссвалидации:\n",
    "\n",
    "Неизмененные. Название original_features.  \n",
    "Закодированные методом OHE. Название ohe_features.  \n",
    "Закодированные методом OE. Название ordinal_features."
   ]
  },
  {
   "cell_type": "code",
   "execution_count": 35,
   "metadata": {},
   "outputs": [],
   "source": [
    "original_features = good_df.drop('Price', axis=1)\n",
    "\n",
    "encoder = OrdinalEncoder()\n",
    "cat_columns = ['VehicleType','FuelType','Brand','Model']\n",
    "cat_features = original_features[cat_columns]\n",
    "cat_features = pd.DataFrame(encoder.fit_transform(cat_features), \n",
    "                            columns=cat_features.columns, \n",
    "                            index=cat_features.index)\n",
    "ordinal_features = original_features.copy()\n",
    "for column in cat_columns:\n",
    "    ordinal_features[column] = cat_features[column]\n",
    "\n",
    "ohe_features = pd.get_dummies(original_features, drop_first=True)\n",
    "\n",
    "target = good_df['Price']"
   ]
  },
  {
   "cell_type": "code",
   "execution_count": 36,
   "metadata": {},
   "outputs": [],
   "source": [
    "original_features_train, original_features_test, target_train, target_test = train_test_split(\n",
    "    original_features, target, test_size=0.25, random_state=19072020)\n",
    "\n",
    "ordinal_features_train = ordinal_features.loc[original_features_train.index, :]\n",
    "ordinal_features_test = ordinal_features.loc[original_features_test.index, :]\n",
    "\n",
    "ohe_features_train = ohe_features.loc[original_features_train.index, :]\n",
    "ohe_features_test = ohe_features.loc[original_features_test.index, :]"
   ]
  },
  {
   "cell_type": "markdown",
   "metadata": {},
   "source": [
    "**Начнем с Линейной регрессии**"
   ]
  },
  {
   "cell_type": "code",
   "execution_count": 37,
   "metadata": {},
   "outputs": [
    {
     "name": "stdout",
     "output_type": "stream",
     "text": [
      "Mean RMSE from CV of LinearRegression = 1348.342754438422\n",
      "CPU times: user 57.6 s, sys: 25 s, total: 1min 22s\n",
      "Wall time: 1min 22s\n"
     ]
    }
   ],
   "source": [
    "%%time\n",
    "\n",
    "regressor = LinearRegression()\n",
    "cv_RMSE_LR = (cross_val_score(regressor, \n",
    "                              ohe_features_train, \n",
    "                              target_train, \n",
    "                              cv=5, \n",
    "                              scoring='neg_mean_squared_error').mean() * -1) ** 0.5\n",
    "print('Mean RMSE from CV of LinearRegression =', cv_RMSE_LR)"
   ]
  },
  {
   "cell_type": "code",
   "execution_count": 38,
   "metadata": {},
   "outputs": [
    {
     "name": "stdout",
     "output_type": "stream",
     "text": [
      "Mean RMSE from CV of LinearRegression = 2821845554728.0405\n",
      "CPU times: user 1min 1s, sys: 29.8 s, total: 1min 31s\n",
      "Wall time: 1min 32s\n"
     ]
    }
   ],
   "source": [
    "%%time\n",
    "\n",
    "regressor = LinearRegression()\n",
    "scaller = StandardScaler()\n",
    "pipeline = Pipeline([(\"standard_scaller\", scaller),(\"linear_regression\", regressor)])\n",
    "cv_RMSE_LR_S = (cross_val_score(pipeline, \n",
    "                                ohe_features_train, \n",
    "                                target_train, \n",
    "                                cv=5, \n",
    "                                scoring='neg_mean_squared_error').mean() * -1) ** 0.5\n",
    "print('Mean RMSE from CV of LinearRegression =', cv_RMSE_LR_S)"
   ]
  },
  {
   "cell_type": "markdown",
   "metadata": {},
   "source": [
    "Масштабирование признаков ухудшает модель. Откажемся от применения масштаба."
   ]
  },
  {
   "cell_type": "markdown",
   "metadata": {},
   "source": [
    "**Регрессия DecisionTreeRegressor** \n",
    "\n",
    "Проведем два эксперимента.\n",
    "\n",
    "Проверим модель на признаках, закодированных по методу OHE, затем по методу OE."
   ]
  },
  {
   "cell_type": "code",
   "execution_count": 39,
   "metadata": {},
   "outputs": [
    {
     "name": "stdout",
     "output_type": "stream",
     "text": [
      "Best parameters:\n",
      "\n",
      "{'criterion': 'mse', 'max_depth': 14, 'random_state': 19072020}\n",
      "\n",
      "Grid scores:\n",
      "\n",
      "1544.276950 for {'criterion': 'mse', 'max_depth': 2, 'random_state': 19072020}\n",
      "1459.952608 for {'criterion': 'mse', 'max_depth': 3, 'random_state': 19072020}\n",
      "1366.394920 for {'criterion': 'mse', 'max_depth': 4, 'random_state': 19072020}\n",
      "1311.269924 for {'criterion': 'mse', 'max_depth': 5, 'random_state': 19072020}\n",
      "1257.279781 for {'criterion': 'mse', 'max_depth': 6, 'random_state': 19072020}\n",
      "1210.280290 for {'criterion': 'mse', 'max_depth': 7, 'random_state': 19072020}\n",
      "1174.484180 for {'criterion': 'mse', 'max_depth': 8, 'random_state': 19072020}\n",
      "1142.497868 for {'criterion': 'mse', 'max_depth': 9, 'random_state': 19072020}\n",
      "1120.576999 for {'criterion': 'mse', 'max_depth': 10, 'random_state': 19072020}\n",
      "1105.059643 for {'criterion': 'mse', 'max_depth': 11, 'random_state': 19072020}\n",
      "1092.194112 for {'criterion': 'mse', 'max_depth': 12, 'random_state': 19072020}\n",
      "1084.988061 for {'criterion': 'mse', 'max_depth': 13, 'random_state': 19072020}\n",
      "1080.960206 for {'criterion': 'mse', 'max_depth': 14, 'random_state': 19072020}\n",
      "1081.642753 for {'criterion': 'mse', 'max_depth': 15, 'random_state': 19072020}\n",
      "1086.017112 for {'criterion': 'mse', 'max_depth': 16, 'random_state': 19072020}\n",
      "1090.564079 for {'criterion': 'mse', 'max_depth': 17, 'random_state': 19072020}\n",
      "1094.542301 for {'criterion': 'mse', 'max_depth': 18, 'random_state': 19072020}\n",
      "1102.485896 for {'criterion': 'mse', 'max_depth': 19, 'random_state': 19072020}\n",
      "1106.323974 for {'criterion': 'mse', 'max_depth': 20, 'random_state': 19072020}\n",
      "1109.698370 for {'criterion': 'mse', 'max_depth': 21, 'random_state': 19072020}\n",
      "1113.574739 for {'criterion': 'mse', 'max_depth': 22, 'random_state': 19072020}\n",
      "1118.603374 for {'criterion': 'mse', 'max_depth': 23, 'random_state': 19072020}\n",
      "1122.719510 for {'criterion': 'mse', 'max_depth': 24, 'random_state': 19072020}\n",
      "1128.443318 for {'criterion': 'mse', 'max_depth': 25, 'random_state': 19072020}\n",
      "1129.035184 for {'criterion': 'mse', 'max_depth': 26, 'random_state': 19072020}\n",
      "1130.745098 for {'criterion': 'mse', 'max_depth': 27, 'random_state': 19072020}\n",
      "1134.610334 for {'criterion': 'mse', 'max_depth': 28, 'random_state': 19072020}\n",
      "1137.355556 for {'criterion': 'mse', 'max_depth': 29, 'random_state': 19072020}\n",
      "1137.836853 for {'criterion': 'mse', 'max_depth': 30, 'random_state': 19072020}\n",
      "\n",
      "CPU times: user 4min 18s, sys: 11.6 s, total: 4min 30s\n",
      "Wall time: 4min 34s\n"
     ]
    }
   ],
   "source": [
    "%%time\n",
    "\n",
    "regressor = DecisionTreeRegressor() \n",
    "max_depth_list = [x for x in range(2, 31)]\n",
    "hyperparams = [{'criterion':['mse'], 'max_depth':max_depth_list, 'random_state':[19072020]}]\n",
    "\n",
    "clf = GridSearchCV(regressor, hyperparams, scoring='neg_mean_squared_error')\n",
    "clf.fit(ohe_features_train, target_train)\n",
    "print(\"Best parameters:\")\n",
    "print()\n",
    "print(clf.best_params_)\n",
    "print()\n",
    "print(\"Grid scores:\")\n",
    "print()\n",
    "means = clf.cv_results_['mean_test_score']\n",
    "stds = clf.cv_results_['std_test_score']\n",
    "for mean, std, params in zip(means, stds, clf.cv_results_['params']):\n",
    "    print(\"%0.6f for %r\"% ((mean*-1)** 0.5, params))\n",
    "print()\n",
    "\n",
    "cv_RMSE_DTR_ohe = (max(means)*-1) ** 0.5"
   ]
  },
  {
   "cell_type": "code",
   "execution_count": 40,
   "metadata": {},
   "outputs": [
    {
     "name": "stdout",
     "output_type": "stream",
     "text": [
      "Best parameters:\n",
      "\n",
      "{'criterion': 'mse', 'max_depth': 12, 'random_state': 19072020}\n",
      "\n",
      "Grid scores:\n",
      "\n",
      "1544.276950 for {'criterion': 'mse', 'max_depth': 2, 'random_state': 19072020}\n",
      "1456.183548 for {'criterion': 'mse', 'max_depth': 3, 'random_state': 19072020}\n",
      "1363.514235 for {'criterion': 'mse', 'max_depth': 4, 'random_state': 19072020}\n",
      "1308.206372 for {'criterion': 'mse', 'max_depth': 5, 'random_state': 19072020}\n",
      "1250.692740 for {'criterion': 'mse', 'max_depth': 6, 'random_state': 19072020}\n",
      "1206.316940 for {'criterion': 'mse', 'max_depth': 7, 'random_state': 19072020}\n",
      "1165.338949 for {'criterion': 'mse', 'max_depth': 8, 'random_state': 19072020}\n",
      "1135.413249 for {'criterion': 'mse', 'max_depth': 9, 'random_state': 19072020}\n",
      "1110.101091 for {'criterion': 'mse', 'max_depth': 10, 'random_state': 19072020}\n",
      "1093.836362 for {'criterion': 'mse', 'max_depth': 11, 'random_state': 19072020}\n",
      "1088.683567 for {'criterion': 'mse', 'max_depth': 12, 'random_state': 19072020}\n",
      "1089.264170 for {'criterion': 'mse', 'max_depth': 13, 'random_state': 19072020}\n",
      "1094.424742 for {'criterion': 'mse', 'max_depth': 14, 'random_state': 19072020}\n",
      "1102.448471 for {'criterion': 'mse', 'max_depth': 15, 'random_state': 19072020}\n",
      "1112.515480 for {'criterion': 'mse', 'max_depth': 16, 'random_state': 19072020}\n",
      "1126.435240 for {'criterion': 'mse', 'max_depth': 17, 'random_state': 19072020}\n",
      "1136.041138 for {'criterion': 'mse', 'max_depth': 18, 'random_state': 19072020}\n",
      "1146.261932 for {'criterion': 'mse', 'max_depth': 19, 'random_state': 19072020}\n",
      "1151.619334 for {'criterion': 'mse', 'max_depth': 20, 'random_state': 19072020}\n",
      "1159.944355 for {'criterion': 'mse', 'max_depth': 21, 'random_state': 19072020}\n",
      "1161.368604 for {'criterion': 'mse', 'max_depth': 22, 'random_state': 19072020}\n",
      "1163.767928 for {'criterion': 'mse', 'max_depth': 23, 'random_state': 19072020}\n",
      "1167.955327 for {'criterion': 'mse', 'max_depth': 24, 'random_state': 19072020}\n",
      "1167.425743 for {'criterion': 'mse', 'max_depth': 25, 'random_state': 19072020}\n",
      "1169.325076 for {'criterion': 'mse', 'max_depth': 26, 'random_state': 19072020}\n",
      "1170.239795 for {'criterion': 'mse', 'max_depth': 27, 'random_state': 19072020}\n",
      "1168.500504 for {'criterion': 'mse', 'max_depth': 28, 'random_state': 19072020}\n",
      "1170.297300 for {'criterion': 'mse', 'max_depth': 29, 'random_state': 19072020}\n",
      "1170.663727 for {'criterion': 'mse', 'max_depth': 30, 'random_state': 19072020}\n",
      "\n",
      "CPU times: user 28.2 s, sys: 0 ns, total: 28.2 s\n",
      "Wall time: 28.3 s\n"
     ]
    }
   ],
   "source": [
    "%%time\n",
    "\n",
    "regressor = DecisionTreeRegressor() \n",
    "max_depth_list = [x for x in range(2, 31)]\n",
    "hyperparams = [{'criterion':['mse'], 'max_depth':max_depth_list, 'random_state':[19072020]}]\n",
    "\n",
    "clf = GridSearchCV(regressor, hyperparams, scoring='neg_mean_squared_error')\n",
    "clf.fit(ordinal_features_train, target_train)\n",
    "print(\"Best parameters:\")\n",
    "print()\n",
    "print(clf.best_params_)\n",
    "print()\n",
    "print(\"Grid scores:\")\n",
    "print()\n",
    "means = clf.cv_results_['mean_test_score']\n",
    "stds = clf.cv_results_['std_test_score']\n",
    "for mean, std, params in zip(means, stds, clf.cv_results_['params']):\n",
    "    print(\"%0.6f for %r\"% ((mean*-1)** 0.5, params))\n",
    "print()\n",
    "\n",
    "cv_RMSE_DTR_ordinal = (max(means)*-1) ** 0.5"
   ]
  },
  {
   "cell_type": "markdown",
   "metadata": {},
   "source": [
    "Обучение на OHE данных дало похожий результат, что и порядковое кодирование признаков. Занесем оба эксперимента в финальную таблицу."
   ]
  },
  {
   "cell_type": "markdown",
   "metadata": {},
   "source": [
    "**Регрессия LGBMRegressor**"
   ]
  },
  {
   "cell_type": "code",
   "execution_count": 41,
   "metadata": {},
   "outputs": [
    {
     "name": "stdout",
     "output_type": "stream",
     "text": [
      "Best parameters:\n",
      "\n",
      "{'learning_rate': 0.1, 'num_leaves': 200, 'random_state': 19072020}\n",
      "\n",
      "Grid scores:\n",
      "\n",
      "984.673587 for {'learning_rate': 0.1, 'num_leaves': 31, 'random_state': 19072020}\n",
      "950.902265 for {'learning_rate': 0.1, 'num_leaves': 100, 'random_state': 19072020}\n",
      "938.641238 for {'learning_rate': 0.1, 'num_leaves': 200, 'random_state': 19072020}\n",
      "961.731185 for {'learning_rate': 0.3, 'num_leaves': 31, 'random_state': 19072020}\n",
      "943.444740 for {'learning_rate': 0.3, 'num_leaves': 100, 'random_state': 19072020}\n",
      "941.418401 for {'learning_rate': 0.3, 'num_leaves': 200, 'random_state': 19072020}\n",
      "961.792481 for {'learning_rate': 0.5, 'num_leaves': 31, 'random_state': 19072020}\n",
      "957.395269 for {'learning_rate': 0.5, 'num_leaves': 100, 'random_state': 19072020}\n",
      "963.516721 for {'learning_rate': 0.5, 'num_leaves': 200, 'random_state': 19072020}\n",
      "\n",
      "CPU times: user 4min 49s, sys: 2.23 s, total: 4min 51s\n",
      "Wall time: 4min 55s\n"
     ]
    }
   ],
   "source": [
    "%%time\n",
    "\n",
    "regressor = LGBMRegressor() \n",
    "hyperparams = [{'num_leaves':[31, 100, 200], 'learning_rate':[0.1, 0.3, 0.5], 'random_state':[19072020]}]\n",
    "\n",
    "clf = GridSearchCV(regressor, hyperparams, scoring='neg_mean_squared_error')\n",
    "clf.fit(ordinal_features_train, target_train)\n",
    "print(\"Best parameters:\")\n",
    "print()\n",
    "print(clf.best_params_)\n",
    "print()\n",
    "print(\"Grid scores:\")\n",
    "print()\n",
    "means = clf.cv_results_['mean_test_score']\n",
    "stds = clf.cv_results_['std_test_score']\n",
    "for mean, std, params in zip(means, stds, clf.cv_results_['params']):\n",
    "    print(\"%0.6f for %r\"% ((mean*-1)** 0.5, params))\n",
    "print()\n",
    "\n",
    "cv_RMSE_LGBMR = (max(means)*-1) ** 0.5"
   ]
  },
  {
   "cell_type": "markdown",
   "metadata": {},
   "source": [
    "#### Выводы \n",
    "\n",
    "Были изучены 3 регрессионных модели - LinearRegression, DecisionTreeRegressor, LGBMRegressor.  \n",
    "\n",
    "В качестве метрики для всех моделей использовалась RMSE.   \n",
    "\n",
    "Зафиксированы лучшие гиперпараметры и время их выполнения."
   ]
  },
  {
   "cell_type": "markdown",
   "metadata": {},
   "source": [
    "## Анализ моделей"
   ]
  },
  {
   "cell_type": "markdown",
   "metadata": {},
   "source": [
    "Проведем обучение на каждой модели с лучшими гиперпараметрами."
   ]
  },
  {
   "cell_type": "markdown",
   "metadata": {},
   "source": [
    "**Линейная регрессия**"
   ]
  },
  {
   "cell_type": "code",
   "execution_count": 42,
   "metadata": {},
   "outputs": [
    {
     "name": "stdout",
     "output_type": "stream",
     "text": [
      "CPU times: user 12.6 s, sys: 3.72 s, total: 16.4 s\n",
      "Wall time: 16.4 s\n"
     ]
    },
    {
     "data": {
      "text/plain": [
       "LinearRegression(copy_X=True, fit_intercept=True, n_jobs=None, normalize=False)"
      ]
     },
     "execution_count": 42,
     "metadata": {},
     "output_type": "execute_result"
    }
   ],
   "source": [
    "%%time\n",
    "\n",
    "model = LinearRegression()\n",
    "model.fit(ohe_features_train, target_train)"
   ]
  },
  {
   "cell_type": "code",
   "execution_count": 43,
   "metadata": {},
   "outputs": [
    {
     "name": "stdout",
     "output_type": "stream",
     "text": [
      "CPU times: user 83.6 ms, sys: 124 ms, total: 207 ms\n",
      "Wall time: 203 ms\n"
     ]
    }
   ],
   "source": [
    "%%time\n",
    "\n",
    "target_predict = model.predict(ohe_features_test)"
   ]
  },
  {
   "cell_type": "code",
   "execution_count": 44,
   "metadata": {},
   "outputs": [
    {
     "data": {
      "text/plain": [
       "1350.155093172977"
      ]
     },
     "execution_count": 44,
     "metadata": {},
     "output_type": "execute_result"
    }
   ],
   "source": [
    "final_RMSE_LR = mean_squared_error(target_test, target_predict) ** 0.5\n",
    "final_RMSE_LR"
   ]
  },
  {
   "cell_type": "markdown",
   "metadata": {},
   "source": [
    "**DecisionTreeRegressor**"
   ]
  },
  {
   "cell_type": "code",
   "execution_count": 45,
   "metadata": {},
   "outputs": [
    {
     "name": "stdout",
     "output_type": "stream",
     "text": [
      "CPU times: user 3.88 s, sys: 135 ms, total: 4.01 s\n",
      "Wall time: 4.03 s\n"
     ]
    },
    {
     "data": {
      "text/plain": [
       "DecisionTreeRegressor(criterion='mse', max_depth=15, max_features=None,\n",
       "                      max_leaf_nodes=None, min_impurity_decrease=0.0,\n",
       "                      min_impurity_split=None, min_samples_leaf=1,\n",
       "                      min_samples_split=2, min_weight_fraction_leaf=0.0,\n",
       "                      presort=False, random_state=19072020, splitter='best')"
      ]
     },
     "execution_count": 45,
     "metadata": {},
     "output_type": "execute_result"
    }
   ],
   "source": [
    "%%time\n",
    "\n",
    "model = DecisionTreeRegressor(criterion='mse', max_depth=15, random_state=19072020) \n",
    "model.fit(ohe_features_train, target_train)"
   ]
  },
  {
   "cell_type": "code",
   "execution_count": 46,
   "metadata": {},
   "outputs": [
    {
     "name": "stdout",
     "output_type": "stream",
     "text": [
      "CPU times: user 63.5 ms, sys: 49.5 ms, total: 113 ms\n",
      "Wall time: 123 ms\n"
     ]
    }
   ],
   "source": [
    "%%time\n",
    "\n",
    "target_predict = model.predict(ohe_features_test)"
   ]
  },
  {
   "cell_type": "code",
   "execution_count": 47,
   "metadata": {},
   "outputs": [
    {
     "data": {
      "text/plain": [
       "1053.950410550508"
      ]
     },
     "execution_count": 47,
     "metadata": {},
     "output_type": "execute_result"
    }
   ],
   "source": [
    "final_RMSE_DTR_ohe = mean_squared_error(target_test, target_predict) ** 0.5\n",
    "final_RMSE_DTR_ohe"
   ]
  },
  {
   "cell_type": "code",
   "execution_count": 48,
   "metadata": {},
   "outputs": [
    {
     "name": "stdout",
     "output_type": "stream",
     "text": [
      "CPU times: user 394 ms, sys: 2.42 ms, total: 397 ms\n",
      "Wall time: 415 ms\n"
     ]
    },
    {
     "data": {
      "text/plain": [
       "DecisionTreeRegressor(criterion='mse', max_depth=13, max_features=None,\n",
       "                      max_leaf_nodes=None, min_impurity_decrease=0.0,\n",
       "                      min_impurity_split=None, min_samples_leaf=1,\n",
       "                      min_samples_split=2, min_weight_fraction_leaf=0.0,\n",
       "                      presort=False, random_state=19072020, splitter='best')"
      ]
     },
     "execution_count": 48,
     "metadata": {},
     "output_type": "execute_result"
    }
   ],
   "source": [
    "%%time\n",
    "\n",
    "model = DecisionTreeRegressor(criterion='mse', max_depth=13, random_state=19072020) \n",
    "model.fit(ordinal_features_train, target_train)"
   ]
  },
  {
   "cell_type": "code",
   "execution_count": 49,
   "metadata": {},
   "outputs": [
    {
     "name": "stdout",
     "output_type": "stream",
     "text": [
      "CPU times: user 14.2 ms, sys: 140 µs, total: 14.4 ms\n",
      "Wall time: 12.5 ms\n"
     ]
    }
   ],
   "source": [
    "%%time\n",
    "\n",
    "target_predict = model.predict(ordinal_features_test)"
   ]
  },
  {
   "cell_type": "code",
   "execution_count": 50,
   "metadata": {},
   "outputs": [
    {
     "data": {
      "text/plain": [
       "1064.4862333916724"
      ]
     },
     "execution_count": 50,
     "metadata": {},
     "output_type": "execute_result"
    }
   ],
   "source": [
    "final_RMSE_DTR_ordinal = mean_squared_error(target_test, target_predict) ** 0.5\n",
    "final_RMSE_DTR_ordinal"
   ]
  },
  {
   "cell_type": "markdown",
   "metadata": {},
   "source": [
    "**LGBMRegressor**"
   ]
  },
  {
   "cell_type": "code",
   "execution_count": 51,
   "metadata": {},
   "outputs": [
    {
     "name": "stdout",
     "output_type": "stream",
     "text": [
      "CPU times: user 15.2 s, sys: 132 ms, total: 15.3 s\n",
      "Wall time: 15.6 s\n"
     ]
    },
    {
     "data": {
      "text/plain": [
       "LGBMRegressor(boosting_type='gbdt', class_weight=None, colsample_bytree=1.0,\n",
       "              importance_type='split', learning_rate=0.1, max_depth=-1,\n",
       "              min_child_samples=20, min_child_weight=0.001, min_split_gain=0.0,\n",
       "              n_estimators=100, n_jobs=-1, num_leaves=200, objective=None,\n",
       "              random_state=19072020, reg_alpha=0.0, reg_lambda=0.0, silent=True,\n",
       "              subsample=1.0, subsample_for_bin=200000, subsample_freq=0)"
      ]
     },
     "execution_count": 51,
     "metadata": {},
     "output_type": "execute_result"
    }
   ],
   "source": [
    "%%time\n",
    "\n",
    "model = LGBMRegressor(learning_rate=0.1, \n",
    "                      num_leaves=200, \n",
    "                      random_state=19072020)\n",
    "model.fit(ordinal_features_train, target_train)"
   ]
  },
  {
   "cell_type": "code",
   "execution_count": 52,
   "metadata": {},
   "outputs": [
    {
     "name": "stdout",
     "output_type": "stream",
     "text": [
      "CPU times: user 1.09 s, sys: 0 ns, total: 1.09 s\n",
      "Wall time: 1.1 s\n"
     ]
    }
   ],
   "source": [
    "%%time\n",
    "\n",
    "target_predict = model.predict(ordinal_features_test)"
   ]
  },
  {
   "cell_type": "code",
   "execution_count": 53,
   "metadata": {},
   "outputs": [
    {
     "data": {
      "text/plain": [
       "932.5241205545585"
      ]
     },
     "execution_count": 53,
     "metadata": {},
     "output_type": "execute_result"
    }
   ],
   "source": [
    "final_RMSE_LGBMR = mean_squared_error(target_test, target_predict) ** 0.5\n",
    "final_RMSE_LGBMR"
   ]
  },
  {
   "cell_type": "markdown",
   "metadata": {},
   "source": [
    "Наконец, сведем все значения в общую таблицу!"
   ]
  },
  {
   "cell_type": "code",
   "execution_count": 55,
   "metadata": {
    "scrolled": true
   },
   "outputs": [
    {
     "data": {
      "text/html": [
       "<div>\n",
       "<style scoped>\n",
       "    .dataframe tbody tr th:only-of-type {\n",
       "        vertical-align: middle;\n",
       "    }\n",
       "\n",
       "    .dataframe tbody tr th {\n",
       "        vertical-align: top;\n",
       "    }\n",
       "\n",
       "    .dataframe thead th {\n",
       "        text-align: right;\n",
       "    }\n",
       "</style>\n",
       "<table border=\"1\" class=\"dataframe\">\n",
       "  <thead>\n",
       "    <tr style=\"text-align: right;\">\n",
       "      <th></th>\n",
       "      <th>RMSE на CV, евро</th>\n",
       "      <th>Время обучения на CV, сек</th>\n",
       "      <th>RMSE модели на тестовой выборке, евро</th>\n",
       "      <th>Время обучения модели, сек</th>\n",
       "      <th>Время предсказания модели, сек</th>\n",
       "    </tr>\n",
       "  </thead>\n",
       "  <tbody>\n",
       "    <tr>\n",
       "      <td>LinearRegression</td>\n",
       "      <td>1348.342754</td>\n",
       "      <td>82.0</td>\n",
       "      <td>1350.155093</td>\n",
       "      <td>16.400</td>\n",
       "      <td>0.203</td>\n",
       "    </tr>\n",
       "    <tr>\n",
       "      <td>DecisionTreeRegressor on OHE features</td>\n",
       "      <td>1080.960206</td>\n",
       "      <td>274.0</td>\n",
       "      <td>1053.950411</td>\n",
       "      <td>4.030</td>\n",
       "      <td>0.123</td>\n",
       "    </tr>\n",
       "    <tr>\n",
       "      <td>DecisionTreeRegressor on OE features</td>\n",
       "      <td>1088.683567</td>\n",
       "      <td>28.3</td>\n",
       "      <td>1064.486233</td>\n",
       "      <td>0.415</td>\n",
       "      <td>0.012</td>\n",
       "    </tr>\n",
       "    <tr>\n",
       "      <td>LGBMRegressor</td>\n",
       "      <td>938.641238</td>\n",
       "      <td>295.0</td>\n",
       "      <td>932.524121</td>\n",
       "      <td>15.600</td>\n",
       "      <td>1.100</td>\n",
       "    </tr>\n",
       "  </tbody>\n",
       "</table>\n",
       "</div>"
      ],
      "text/plain": [
       "                                       RMSE на CV, евро  \\\n",
       "LinearRegression                            1348.342754   \n",
       "DecisionTreeRegressor on OHE features       1080.960206   \n",
       "DecisionTreeRegressor on OE features        1088.683567   \n",
       "LGBMRegressor                                938.641238   \n",
       "\n",
       "                                       Время обучения на CV, сек  \\\n",
       "LinearRegression                                            82.0   \n",
       "DecisionTreeRegressor on OHE features                      274.0   \n",
       "DecisionTreeRegressor on OE features                        28.3   \n",
       "LGBMRegressor                                              295.0   \n",
       "\n",
       "                                       RMSE модели на тестовой выборке, евро  \\\n",
       "LinearRegression                                                 1350.155093   \n",
       "DecisionTreeRegressor on OHE features                            1053.950411   \n",
       "DecisionTreeRegressor on OE features                             1064.486233   \n",
       "LGBMRegressor                                                     932.524121   \n",
       "\n",
       "                                       Время обучения модели, сек  \\\n",
       "LinearRegression                                           16.400   \n",
       "DecisionTreeRegressor on OHE features                       4.030   \n",
       "DecisionTreeRegressor on OE features                        0.415   \n",
       "LGBMRegressor                                              15.600   \n",
       "\n",
       "                                       Время предсказания модели, сек  \n",
       "LinearRegression                                                0.203  \n",
       "DecisionTreeRegressor on OHE features                           0.123  \n",
       "DecisionTreeRegressor on OE features                            0.012  \n",
       "LGBMRegressor                                                   1.100  "
      ]
     },
     "execution_count": 55,
     "metadata": {},
     "output_type": "execute_result"
    }
   ],
   "source": [
    "index = ['LinearRegression',\n",
    "         'DecisionTreeRegressor on OHE features',\n",
    "         'DecisionTreeRegressor on OE features',\n",
    "         'LGBMRegressor']\n",
    "data = {'RMSE на CV, евро':[cv_RMSE_LR,\n",
    "                            cv_RMSE_DTR_ohe,\n",
    "                            cv_RMSE_DTR_ordinal,\n",
    "                            cv_RMSE_LGBMR],\n",
    "        'Время обучения на CV, сек':[82,\n",
    "                                     274,\n",
    "                                     28.3,\n",
    "                                     295],\n",
    "        'RMSE модели на тестовой выборке, евро':[final_RMSE_LR,\n",
    "                                                final_RMSE_DTR_ohe,\n",
    "                                                final_RMSE_DTR_ordinal,\n",
    "                                                final_RMSE_LGBMR],\n",
    "        'Время обучения модели, сек':[16.4,\n",
    "                                      4.03,\n",
    "                                      0.415,\n",
    "                                      15.6],\n",
    "        'Время предсказания модели, сек':[0.203,\n",
    "                                          0.123,\n",
    "                                          0.012,\n",
    "                                          1.1]}\n",
    "\n",
    "scores_data = pd.DataFrame(data=data, index=index)\n",
    "scores_data"
   ]
  },
  {
   "cell_type": "markdown",
   "metadata": {},
   "source": [
    "#### Выводы \n",
    "\n",
    "Лучшей моделью в целом по трем параметрам (качество, скорость обучения, скорость предсказания) можно выделить DecisionTreeRegressor с подготовленными признаками. Соотношение скорости и тточности на данной модели является лучшим из остальных моделей.   \n",
    "\n",
    "Если смотреть только на точность, то в лидеры выходит LGBMRegressor, затем DecisionTreeRegressor. \n",
    "\n",
    "LinearRegression показала себя на этой задаче очень слабо.  \n",
    "\n",
    "Иходя из анализа моделей можно сделать следующий вывод:   \n",
    "\n",
    "Для быстрых решений с хорошей точностью подойдет DecisionTreeRegressor с подготовленными признаками.  \n",
    "Если в задаче необходима точность и есть время для обучения, то LGBMRegressor поможет предсказать лучше всех. "
   ]
  }
 ],
 "metadata": {
  "ExecuteTimeLog": [
   {
    "duration": 493,
    "start_time": "2021-08-31T16:58:27.849Z"
   },
   {
    "duration": 764,
    "start_time": "2021-08-31T16:58:28.984Z"
   },
   {
    "duration": 18,
    "start_time": "2021-08-31T16:58:44.829Z"
   },
   {
    "duration": 115,
    "start_time": "2021-08-31T16:59:06.200Z"
   },
   {
    "duration": 116,
    "start_time": "2021-08-31T16:59:15.155Z"
   },
   {
    "duration": 412,
    "start_time": "2021-08-31T16:59:40.341Z"
   },
   {
    "duration": 94,
    "start_time": "2021-08-31T16:59:56.622Z"
   },
   {
    "duration": 118,
    "start_time": "2021-08-31T17:00:15.708Z"
   },
   {
    "duration": 850,
    "start_time": "2021-08-31T17:22:14.767Z"
   },
   {
    "duration": 14,
    "start_time": "2021-08-31T17:22:18.377Z"
   },
   {
    "duration": 590,
    "start_time": "2021-08-31T17:22:23.840Z"
   },
   {
    "duration": 14,
    "start_time": "2021-08-31T17:22:37.507Z"
   },
   {
    "duration": 137,
    "start_time": "2021-08-31T17:22:56.665Z"
   },
   {
    "duration": 477,
    "start_time": "2021-08-31T17:23:25.370Z"
   },
   {
    "duration": 301,
    "start_time": "2021-08-31T17:23:39.810Z"
   },
   {
    "duration": 47,
    "start_time": "2021-08-31T17:23:49.185Z"
   },
   {
    "duration": 472,
    "start_time": "2021-08-31T17:24:20.772Z"
   },
   {
    "duration": 388,
    "start_time": "2021-08-31T17:24:28.621Z"
   },
   {
    "duration": 114,
    "start_time": "2021-08-31T17:24:42.173Z"
   },
   {
    "duration": 33,
    "start_time": "2021-08-31T17:24:54.720Z"
   },
   {
    "duration": 88,
    "start_time": "2021-08-31T17:25:25.380Z"
   },
   {
    "duration": 24,
    "start_time": "2021-08-31T17:25:53.147Z"
   },
   {
    "duration": 88,
    "start_time": "2021-08-31T17:26:01.038Z"
   },
   {
    "duration": 6997,
    "start_time": "2021-08-31T17:26:27.231Z"
   },
   {
    "duration": 6989,
    "start_time": "2021-08-31T17:27:52.242Z"
   },
   {
    "duration": 6881,
    "start_time": "2021-08-31T17:29:05.546Z"
   },
   {
    "duration": 7092,
    "start_time": "2021-08-31T17:29:24.853Z"
   },
   {
    "duration": 6800,
    "start_time": "2021-08-31T17:32:32.859Z"
   },
   {
    "duration": 7286,
    "start_time": "2021-08-31T17:35:07.533Z"
   },
   {
    "duration": 7163,
    "start_time": "2021-08-31T17:35:53.272Z"
   },
   {
    "duration": 7234,
    "start_time": "2021-08-31T17:36:19.071Z"
   },
   {
    "duration": 1603,
    "start_time": "2021-09-02T17:04:01.837Z"
   },
   {
    "duration": 851,
    "start_time": "2021-09-02T17:04:03.443Z"
   },
   {
    "duration": 22,
    "start_time": "2021-09-02T17:04:05.254Z"
   },
   {
    "duration": 127,
    "start_time": "2021-09-02T17:04:08.122Z"
   },
   {
    "duration": 465,
    "start_time": "2021-09-02T17:04:09.491Z"
   },
   {
    "duration": 104,
    "start_time": "2021-09-02T17:04:10.737Z"
   },
   {
    "duration": 125,
    "start_time": "2021-09-02T17:04:11.851Z"
   },
   {
    "duration": 180,
    "start_time": "2021-09-02T17:11:59.854Z"
   },
   {
    "duration": 1390,
    "start_time": "2021-09-02T17:12:13.485Z"
   },
   {
    "duration": 10,
    "start_time": "2021-09-02T17:12:16.112Z"
   },
   {
    "duration": 1382,
    "start_time": "2021-09-02T17:29:59.238Z"
   },
   {
    "duration": 14,
    "start_time": "2021-09-02T17:30:03.075Z"
   },
   {
    "duration": 635,
    "start_time": "2021-09-02T17:31:22.870Z"
   },
   {
    "duration": 21,
    "start_time": "2021-09-02T17:31:56.303Z"
   },
   {
    "duration": 10,
    "start_time": "2021-09-02T17:32:50.268Z"
   },
   {
    "duration": 738,
    "start_time": "2021-09-02T17:34:54.505Z"
   },
   {
    "duration": 19,
    "start_time": "2021-09-02T17:44:47.929Z"
   },
   {
    "duration": 14,
    "start_time": "2021-09-02T17:44:54.077Z"
   },
   {
    "duration": 14,
    "start_time": "2021-09-02T17:45:03.565Z"
   },
   {
    "duration": 14,
    "start_time": "2021-09-02T17:45:18.190Z"
   },
   {
    "duration": 81,
    "start_time": "2021-09-02T18:14:26.905Z"
   },
   {
    "duration": 437,
    "start_time": "2021-09-02T18:14:55.788Z"
   },
   {
    "duration": 16,
    "start_time": "2021-09-02T18:16:33.776Z"
   },
   {
    "duration": -656,
    "start_time": "2021-09-02T18:20:54.804Z"
   },
   {
    "duration": 1544,
    "start_time": "2021-09-02T18:21:10.103Z"
   },
   {
    "duration": 875,
    "start_time": "2021-09-02T18:21:11.649Z"
   },
   {
    "duration": 28,
    "start_time": "2021-09-02T18:21:12.526Z"
   },
   {
    "duration": 135,
    "start_time": "2021-09-02T18:21:12.556Z"
   },
   {
    "duration": 474,
    "start_time": "2021-09-02T18:21:12.693Z"
   },
   {
    "duration": 108,
    "start_time": "2021-09-02T18:21:13.169Z"
   },
   {
    "duration": 134,
    "start_time": "2021-09-02T18:21:13.278Z"
   },
   {
    "duration": 1061,
    "start_time": "2021-09-02T18:21:13.416Z"
   },
   {
    "duration": 18,
    "start_time": "2021-09-02T18:21:14.480Z"
   },
   {
    "duration": 9,
    "start_time": "2021-09-02T18:21:14.500Z"
   },
   {
    "duration": 616,
    "start_time": "2021-09-02T18:21:14.511Z"
   },
   {
    "duration": 22,
    "start_time": "2021-09-02T18:21:15.130Z"
   },
   {
    "duration": 93,
    "start_time": "2021-09-02T18:21:15.154Z"
   },
   {
    "duration": 15,
    "start_time": "2021-09-02T18:21:15.249Z"
   },
   {
    "duration": 82,
    "start_time": "2021-09-02T18:21:15.265Z"
   },
   {
    "duration": 548,
    "start_time": "2021-09-02T18:21:15.350Z"
   },
   {
    "duration": 648,
    "start_time": "2021-09-02T18:21:15.901Z"
   },
   {
    "duration": 419,
    "start_time": "2021-09-02T18:21:16.551Z"
   },
   {
    "duration": 98,
    "start_time": "2021-09-02T18:21:16.972Z"
   },
   {
    "duration": 279,
    "start_time": "2021-09-02T18:21:17.072Z"
   },
   {
    "duration": 35,
    "start_time": "2021-09-02T18:21:17.353Z"
   },
   {
    "duration": 267,
    "start_time": "2021-09-02T18:21:17.391Z"
   },
   {
    "duration": 18027,
    "start_time": "2021-09-02T18:21:17.664Z"
   },
   {
    "duration": 17455,
    "start_time": "2021-09-02T18:21:35.694Z"
   },
   {
    "duration": 253,
    "start_time": "2021-09-02T18:21:53.151Z"
   },
   {
    "duration": 720,
    "start_time": "2021-09-02T18:21:53.406Z"
   },
   {
    "duration": 781,
    "start_time": "2021-09-02T18:21:54.129Z"
   },
   {
    "duration": 791,
    "start_time": "2021-09-02T18:21:54.913Z"
   },
   {
    "duration": 773,
    "start_time": "2021-09-02T18:21:55.706Z"
   },
   {
    "duration": 222,
    "start_time": "2021-09-02T18:21:56.481Z"
   },
   {
    "duration": 142,
    "start_time": "2021-09-02T18:21:56.705Z"
   },
   {
    "duration": 137,
    "start_time": "2021-09-02T18:21:56.849Z"
   },
   {
    "duration": 269,
    "start_time": "2021-09-02T18:21:56.988Z"
   },
   {
    "duration": 4223,
    "start_time": "2021-09-02T18:21:57.259Z"
   },
   {
    "duration": -831,
    "start_time": "2021-09-02T18:22:02.316Z"
   },
   {
    "duration": -889,
    "start_time": "2021-09-02T18:22:02.375Z"
   },
   {
    "duration": -900,
    "start_time": "2021-09-02T18:22:02.388Z"
   },
   {
    "duration": -910,
    "start_time": "2021-09-02T18:22:02.399Z"
   },
   {
    "duration": -919,
    "start_time": "2021-09-02T18:22:02.409Z"
   },
   {
    "duration": -929,
    "start_time": "2021-09-02T18:22:02.421Z"
   },
   {
    "duration": -938,
    "start_time": "2021-09-02T18:22:02.431Z"
   },
   {
    "duration": -950,
    "start_time": "2021-09-02T18:22:02.444Z"
   },
   {
    "duration": -959,
    "start_time": "2021-09-02T18:22:02.455Z"
   },
   {
    "duration": -968,
    "start_time": "2021-09-02T18:22:02.465Z"
   },
   {
    "duration": -1010,
    "start_time": "2021-09-02T18:22:02.509Z"
   },
   {
    "duration": -1024,
    "start_time": "2021-09-02T18:22:02.524Z"
   },
   {
    "duration": -1053,
    "start_time": "2021-09-02T18:22:02.554Z"
   },
   {
    "duration": -1064,
    "start_time": "2021-09-02T18:22:02.567Z"
   },
   {
    "duration": -1073,
    "start_time": "2021-09-02T18:22:02.577Z"
   },
   {
    "duration": -1084,
    "start_time": "2021-09-02T18:22:02.589Z"
   },
   {
    "duration": -1092,
    "start_time": "2021-09-02T18:22:02.599Z"
   },
   {
    "duration": -1130,
    "start_time": "2021-09-02T18:22:02.638Z"
   },
   {
    "duration": -1142,
    "start_time": "2021-09-02T18:22:02.651Z"
   },
   {
    "duration": -1152,
    "start_time": "2021-09-02T18:22:02.663Z"
   },
   {
    "duration": 393,
    "start_time": "2021-09-02T18:22:40.483Z"
   },
   {
    "duration": 551,
    "start_time": "2021-09-02T18:22:43.748Z"
   },
   {
    "duration": 574,
    "start_time": "2021-09-02T18:22:57.512Z"
   },
   {
    "duration": 1420,
    "start_time": "2021-09-02T18:23:20.128Z"
   },
   {
    "duration": 886,
    "start_time": "2021-09-02T18:23:21.551Z"
   },
   {
    "duration": 21,
    "start_time": "2021-09-02T18:23:22.439Z"
   },
   {
    "duration": 133,
    "start_time": "2021-09-02T18:23:22.462Z"
   },
   {
    "duration": 472,
    "start_time": "2021-09-02T18:23:22.597Z"
   },
   {
    "duration": 121,
    "start_time": "2021-09-02T18:23:23.071Z"
   },
   {
    "duration": 133,
    "start_time": "2021-09-02T18:23:23.194Z"
   },
   {
    "duration": 969,
    "start_time": "2021-09-02T18:23:23.330Z"
   },
   {
    "duration": 18,
    "start_time": "2021-09-02T18:23:24.301Z"
   },
   {
    "duration": 27,
    "start_time": "2021-09-02T18:23:24.321Z"
   },
   {
    "duration": 596,
    "start_time": "2021-09-02T18:23:24.350Z"
   },
   {
    "duration": 15,
    "start_time": "2021-09-02T18:23:24.947Z"
   },
   {
    "duration": 96,
    "start_time": "2021-09-02T18:23:24.964Z"
   },
   {
    "duration": 14,
    "start_time": "2021-09-02T18:23:25.062Z"
   },
   {
    "duration": 88,
    "start_time": "2021-09-02T18:23:25.078Z"
   },
   {
    "duration": 480,
    "start_time": "2021-09-02T18:23:25.167Z"
   },
   {
    "duration": 394,
    "start_time": "2021-09-02T18:23:25.649Z"
   },
   {
    "duration": 187,
    "start_time": "2021-09-02T18:23:26.046Z"
   },
   {
    "duration": 53,
    "start_time": "2021-09-02T18:23:26.235Z"
   },
   {
    "duration": 228,
    "start_time": "2021-09-02T18:23:26.290Z"
   },
   {
    "duration": -1210,
    "start_time": "2021-09-02T18:23:27.805Z"
   },
   {
    "duration": -1219,
    "start_time": "2021-09-02T18:23:27.815Z"
   },
   {
    "duration": -1232,
    "start_time": "2021-09-02T18:23:27.830Z"
   },
   {
    "duration": -1240,
    "start_time": "2021-09-02T18:23:27.840Z"
   },
   {
    "duration": -1251,
    "start_time": "2021-09-02T18:23:27.852Z"
   },
   {
    "duration": -1260,
    "start_time": "2021-09-02T18:23:27.863Z"
   },
   {
    "duration": -1273,
    "start_time": "2021-09-02T18:23:27.877Z"
   },
   {
    "duration": -1282,
    "start_time": "2021-09-02T18:23:27.888Z"
   },
   {
    "duration": -1325,
    "start_time": "2021-09-02T18:23:27.932Z"
   },
   {
    "duration": -1341,
    "start_time": "2021-09-02T18:23:27.950Z"
   },
   {
    "duration": -1352,
    "start_time": "2021-09-02T18:23:27.963Z"
   },
   {
    "duration": -1361,
    "start_time": "2021-09-02T18:23:27.973Z"
   },
   {
    "duration": -1375,
    "start_time": "2021-09-02T18:23:27.989Z"
   },
   {
    "duration": -1401,
    "start_time": "2021-09-02T18:23:28.016Z"
   },
   {
    "duration": -1457,
    "start_time": "2021-09-02T18:23:28.073Z"
   },
   {
    "duration": -1492,
    "start_time": "2021-09-02T18:23:28.109Z"
   },
   {
    "duration": -1569,
    "start_time": "2021-09-02T18:23:28.187Z"
   },
   {
    "duration": -1642,
    "start_time": "2021-09-02T18:23:28.260Z"
   },
   {
    "duration": -1716,
    "start_time": "2021-09-02T18:23:28.335Z"
   },
   {
    "duration": -1729,
    "start_time": "2021-09-02T18:23:28.348Z"
   },
   {
    "duration": -1733,
    "start_time": "2021-09-02T18:23:28.375Z"
   },
   {
    "duration": -1744,
    "start_time": "2021-09-02T18:23:28.387Z"
   },
   {
    "duration": -1833,
    "start_time": "2021-09-02T18:23:28.478Z"
   },
   {
    "duration": -1848,
    "start_time": "2021-09-02T18:23:28.495Z"
   },
   {
    "duration": -1859,
    "start_time": "2021-09-02T18:23:28.507Z"
   },
   {
    "duration": -1870,
    "start_time": "2021-09-02T18:23:28.521Z"
   },
   {
    "duration": -1881,
    "start_time": "2021-09-02T18:23:28.533Z"
   },
   {
    "duration": -1891,
    "start_time": "2021-09-02T18:23:28.545Z"
   },
   {
    "duration": -1901,
    "start_time": "2021-09-02T18:23:28.556Z"
   },
   {
    "duration": -1909,
    "start_time": "2021-09-02T18:23:28.566Z"
   },
   {
    "duration": -1953,
    "start_time": "2021-09-02T18:23:28.612Z"
   },
   {
    "duration": -1966,
    "start_time": "2021-09-02T18:23:28.627Z"
   },
   {
    "duration": -1976,
    "start_time": "2021-09-02T18:23:28.638Z"
   },
   {
    "duration": 87,
    "start_time": "2021-09-02T18:25:20.201Z"
   },
   {
    "duration": 92,
    "start_time": "2021-09-02T18:25:28.849Z"
   },
   {
    "duration": 84,
    "start_time": "2021-09-02T18:25:38.069Z"
   },
   {
    "duration": 38,
    "start_time": "2021-09-02T18:28:36.035Z"
   },
   {
    "duration": 90,
    "start_time": "2021-09-02T18:30:16.900Z"
   },
   {
    "duration": 72,
    "start_time": "2021-09-02T18:30:57.184Z"
   },
   {
    "duration": 21,
    "start_time": "2021-09-02T18:31:02.977Z"
   },
   {
    "duration": 34,
    "start_time": "2021-09-02T18:31:33.874Z"
   },
   {
    "duration": 7674,
    "start_time": "2021-09-02T18:33:55.885Z"
   },
   {
    "duration": 8892,
    "start_time": "2021-09-02T18:36:39.850Z"
   },
   {
    "duration": 96,
    "start_time": "2021-09-02T18:37:13.596Z"
   },
   {
    "duration": 1048,
    "start_time": "2021-09-02T18:37:41.579Z"
   },
   {
    "duration": 138,
    "start_time": "2021-09-02T18:37:50.455Z"
   },
   {
    "duration": 11112,
    "start_time": "2021-09-02T18:38:26.724Z"
   },
   {
    "duration": 103,
    "start_time": "2021-09-02T18:39:50.212Z"
   },
   {
    "duration": 771,
    "start_time": "2021-09-02T18:40:38.249Z"
   },
   {
    "duration": 16,
    "start_time": "2021-09-02T18:41:04.675Z"
   },
   {
    "duration": 467,
    "start_time": "2021-09-02T18:42:09.713Z"
   },
   {
    "duration": 475,
    "start_time": "2021-09-02T18:42:28.453Z"
   },
   {
    "duration": 469,
    "start_time": "2021-09-02T18:43:42.978Z"
   },
   {
    "duration": 55,
    "start_time": "2021-09-02T18:43:57.090Z"
   },
   {
    "duration": 977,
    "start_time": "2021-09-02T18:51:14.033Z"
   },
   {
    "duration": 57,
    "start_time": "2021-09-02T18:51:21.358Z"
   },
   {
    "duration": 56,
    "start_time": "2021-09-02T18:51:45.663Z"
   },
   {
    "duration": 47,
    "start_time": "2021-09-02T18:53:17.824Z"
   },
   {
    "duration": 559,
    "start_time": "2021-09-02T19:08:05.310Z"
   },
   {
    "duration": 568,
    "start_time": "2021-09-02T19:08:09.098Z"
   },
   {
    "duration": 56572,
    "start_time": "2021-09-02T19:08:19.177Z"
   },
   {
    "duration": 73622,
    "start_time": "2021-09-02T19:09:21.320Z"
   },
   {
    "duration": 226415,
    "start_time": "2021-09-02T19:10:51.991Z"
   },
   {
    "duration": 24253,
    "start_time": "2021-09-02T19:17:45.461Z"
   },
   {
    "duration": 1404,
    "start_time": "2021-09-04T10:39:46.450Z"
   },
   {
    "duration": 1068,
    "start_time": "2021-09-04T10:39:47.857Z"
   },
   {
    "duration": 37,
    "start_time": "2021-09-04T10:39:48.928Z"
   },
   {
    "duration": 152,
    "start_time": "2021-09-04T10:39:48.968Z"
   },
   {
    "duration": 655,
    "start_time": "2021-09-04T10:39:49.122Z"
   },
   {
    "duration": 129,
    "start_time": "2021-09-04T10:39:49.780Z"
   },
   {
    "duration": 163,
    "start_time": "2021-09-04T10:39:49.911Z"
   },
   {
    "duration": 1254,
    "start_time": "2021-09-04T10:39:50.077Z"
   },
   {
    "duration": 35,
    "start_time": "2021-09-04T10:39:51.334Z"
   },
   {
    "duration": 17,
    "start_time": "2021-09-04T10:39:51.371Z"
   },
   {
    "duration": 900,
    "start_time": "2021-09-04T10:39:51.390Z"
   },
   {
    "duration": 16,
    "start_time": "2021-09-04T10:39:52.292Z"
   },
   {
    "duration": 131,
    "start_time": "2021-09-04T10:39:52.311Z"
   },
   {
    "duration": 21,
    "start_time": "2021-09-04T10:39:52.444Z"
   },
   {
    "duration": 102,
    "start_time": "2021-09-04T10:39:52.467Z"
   },
   {
    "duration": 708,
    "start_time": "2021-09-04T10:39:52.572Z"
   },
   {
    "duration": 584,
    "start_time": "2021-09-04T10:39:53.283Z"
   },
   {
    "duration": 116,
    "start_time": "2021-09-04T10:39:53.870Z"
   },
   {
    "duration": 46,
    "start_time": "2021-09-04T10:39:53.989Z"
   },
   {
    "duration": 194,
    "start_time": "2021-09-04T10:39:54.055Z"
   },
   {
    "duration": 24,
    "start_time": "2021-09-04T10:39:54.255Z"
   },
   {
    "duration": 35,
    "start_time": "2021-09-04T10:39:54.282Z"
   },
   {
    "duration": 12640,
    "start_time": "2021-09-04T10:39:54.323Z"
   },
   {
    "duration": 145,
    "start_time": "2021-09-04T10:40:06.966Z"
   },
   {
    "duration": 13345,
    "start_time": "2021-09-04T10:40:07.114Z"
   },
   {
    "duration": 66,
    "start_time": "2021-09-04T10:40:20.461Z"
   },
   {
    "duration": 40,
    "start_time": "2021-09-04T10:40:20.529Z"
   },
   {
    "duration": 711,
    "start_time": "2021-09-04T10:40:20.571Z"
   },
   {
    "duration": 740,
    "start_time": "2021-09-04T10:40:21.285Z"
   },
   {
    "duration": 730,
    "start_time": "2021-09-04T10:40:22.028Z"
   },
   {
    "duration": 59,
    "start_time": "2021-09-04T10:40:22.760Z"
   },
   {
    "duration": 84,
    "start_time": "2021-09-04T10:40:22.822Z"
   },
   {
    "duration": 88,
    "start_time": "2021-09-04T10:40:22.908Z"
   },
   {
    "duration": 72,
    "start_time": "2021-09-04T10:40:22.998Z"
   },
   {
    "duration": 667,
    "start_time": "2021-09-04T10:40:23.072Z"
   },
   {
    "duration": 791,
    "start_time": "2021-09-04T10:40:23.742Z"
   },
   {
    "duration": 67926,
    "start_time": "2021-09-04T10:40:24.536Z"
   },
   {
    "duration": 75296,
    "start_time": "2021-09-04T10:41:32.465Z"
   },
   {
    "duration": 252908,
    "start_time": "2021-09-04T10:42:47.764Z"
   },
   {
    "duration": 31193,
    "start_time": "2021-09-04T10:47:00.675Z"
   },
   {
    "duration": 285490,
    "start_time": "2021-09-04T10:47:31.872Z"
   },
   {
    "duration": 16893,
    "start_time": "2021-09-04T10:52:17.364Z"
   },
   {
    "duration": 199,
    "start_time": "2021-09-04T10:52:34.260Z"
   },
   {
    "duration": 93,
    "start_time": "2021-09-04T10:52:34.463Z"
   },
   {
    "duration": 4012,
    "start_time": "2021-09-04T10:52:34.559Z"
   },
   {
    "duration": 134,
    "start_time": "2021-09-04T10:52:38.574Z"
   },
   {
    "duration": 4,
    "start_time": "2021-09-04T10:52:38.711Z"
   },
   {
    "duration": 410,
    "start_time": "2021-09-04T10:52:38.717Z"
   },
   {
    "duration": 35,
    "start_time": "2021-09-04T10:52:39.129Z"
   },
   {
    "duration": 5,
    "start_time": "2021-09-04T10:52:39.167Z"
   },
   {
    "duration": 15495,
    "start_time": "2021-09-04T10:52:39.174Z"
   },
   {
    "duration": 1101,
    "start_time": "2021-09-04T10:52:54.672Z"
   },
   {
    "duration": 82,
    "start_time": "2021-09-04T10:52:55.776Z"
   },
   {
    "duration": 37,
    "start_time": "2021-09-04T10:52:55.861Z"
   },
   {
    "duration": 1894,
    "start_time": "2021-09-04T19:03:07.791Z"
   },
   {
    "duration": 1626,
    "start_time": "2021-09-04T19:03:09.689Z"
   },
   {
    "duration": 56,
    "start_time": "2021-09-04T19:03:11.319Z"
   },
   {
    "duration": 277,
    "start_time": "2021-09-04T19:03:11.379Z"
   },
   {
    "duration": 980,
    "start_time": "2021-09-04T19:03:11.659Z"
   },
   {
    "duration": 192,
    "start_time": "2021-09-04T19:03:12.642Z"
   },
   {
    "duration": 290,
    "start_time": "2021-09-04T19:03:12.838Z"
   },
   {
    "duration": 1888,
    "start_time": "2021-09-04T19:03:13.134Z"
   },
   {
    "duration": 41,
    "start_time": "2021-09-04T19:03:15.026Z"
   },
   {
    "duration": 15,
    "start_time": "2021-09-04T19:03:15.070Z"
   },
   {
    "duration": 903,
    "start_time": "2021-09-04T19:03:15.088Z"
   },
   {
    "duration": 17,
    "start_time": "2021-09-04T19:03:15.993Z"
   },
   {
    "duration": 142,
    "start_time": "2021-09-04T19:03:16.013Z"
   },
   {
    "duration": 17,
    "start_time": "2021-09-04T19:03:16.157Z"
   },
   {
    "duration": 117,
    "start_time": "2021-09-04T19:03:16.177Z"
   },
   {
    "duration": 719,
    "start_time": "2021-09-04T19:03:16.296Z"
   },
   {
    "duration": 605,
    "start_time": "2021-09-04T19:03:17.017Z"
   },
   {
    "duration": 113,
    "start_time": "2021-09-04T19:03:17.625Z"
   },
   {
    "duration": 52,
    "start_time": "2021-09-04T19:03:17.740Z"
   },
   {
    "duration": 200,
    "start_time": "2021-09-04T19:03:17.795Z"
   },
   {
    "duration": 25,
    "start_time": "2021-09-04T19:03:17.997Z"
   },
   {
    "duration": 58,
    "start_time": "2021-09-04T19:03:18.024Z"
   },
   {
    "duration": 19881,
    "start_time": "2021-09-04T19:03:18.090Z"
   },
   {
    "duration": 220,
    "start_time": "2021-09-04T19:03:37.976Z"
   },
   {
    "duration": 25855,
    "start_time": "2021-09-04T19:03:38.200Z"
   },
   {
    "duration": 115,
    "start_time": "2021-09-04T19:04:04.059Z"
   },
   {
    "duration": 24,
    "start_time": "2021-09-04T19:04:04.177Z"
   },
   {
    "duration": 1156,
    "start_time": "2021-09-04T19:04:04.204Z"
   },
   {
    "duration": 743,
    "start_time": "2021-09-04T19:04:05.362Z"
   },
   {
    "duration": 735,
    "start_time": "2021-09-04T19:04:06.107Z"
   },
   {
    "duration": 66,
    "start_time": "2021-09-04T19:04:06.845Z"
   },
   {
    "duration": 86,
    "start_time": "2021-09-04T19:04:06.914Z"
   },
   {
    "duration": 84,
    "start_time": "2021-09-04T19:04:07.003Z"
   },
   {
    "duration": 83,
    "start_time": "2021-09-04T19:04:07.089Z"
   },
   {
    "duration": 670,
    "start_time": "2021-09-04T19:04:07.175Z"
   },
   {
    "duration": 869,
    "start_time": "2021-09-04T19:04:07.848Z"
   },
   {
    "duration": 82854,
    "start_time": "2021-09-04T19:04:08.719Z"
   },
   {
    "duration": 92410,
    "start_time": "2021-09-04T19:05:31.656Z"
   },
   {
    "duration": 274843,
    "start_time": "2021-09-04T19:07:04.069Z"
   },
   {
    "duration": 28260,
    "start_time": "2021-09-04T19:11:38.914Z"
   },
   {
    "duration": 295585,
    "start_time": "2021-09-04T19:12:07.177Z"
   },
   {
    "duration": 16401,
    "start_time": "2021-09-04T19:17:02.765Z"
   },
   {
    "duration": 209,
    "start_time": "2021-09-04T19:17:19.168Z"
   },
   {
    "duration": 83,
    "start_time": "2021-09-04T19:17:19.380Z"
   },
   {
    "duration": 4120,
    "start_time": "2021-09-04T19:17:19.467Z"
   },
   {
    "duration": 128,
    "start_time": "2021-09-04T19:17:23.589Z"
   },
   {
    "duration": 6,
    "start_time": "2021-09-04T19:17:23.719Z"
   },
   {
    "duration": 430,
    "start_time": "2021-09-04T19:17:23.727Z"
   },
   {
    "duration": 17,
    "start_time": "2021-09-04T19:17:24.160Z"
   },
   {
    "duration": 9,
    "start_time": "2021-09-04T19:17:24.180Z"
   },
   {
    "duration": 15572,
    "start_time": "2021-09-04T19:17:24.192Z"
   },
   {
    "duration": 1105,
    "start_time": "2021-09-04T19:17:39.767Z"
   },
   {
    "duration": 6,
    "start_time": "2021-09-04T19:17:40.874Z"
   },
   {
    "duration": 17,
    "start_time": "2021-09-04T19:17:40.954Z"
   },
   {
    "duration": 19,
    "start_time": "2021-09-04T19:42:21.535Z"
   }
  ],
  "kernelspec": {
   "display_name": "Python 3 (ipykernel)",
   "language": "python",
   "name": "python3"
  },
  "language_info": {
   "codemirror_mode": {
    "name": "ipython",
    "version": 3
   },
   "file_extension": ".py",
   "mimetype": "text/x-python",
   "name": "python",
   "nbconvert_exporter": "python",
   "pygments_lexer": "ipython3",
   "version": "3.9.5"
  },
  "toc": {
   "base_numbering": 1,
   "nav_menu": {},
   "number_sections": false,
   "sideBar": false,
   "skip_h1_title": true,
   "title_cell": "Table of Contents",
   "title_sidebar": "Contents",
   "toc_cell": false,
   "toc_position": {},
   "toc_section_display": false,
   "toc_window_display": false
  }
 },
 "nbformat": 4,
 "nbformat_minor": 2
}
