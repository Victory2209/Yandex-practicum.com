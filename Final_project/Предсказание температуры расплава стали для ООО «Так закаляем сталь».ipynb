{
 "cells": [
  {
   "cell_type": "markdown",
   "metadata": {},
   "source": [
    "#  Предсказание температуры расплава стали для ООО «Так закаляем сталь»\n",
    "\n",
    "\n",
    "## Задача проекта\n",
    "\n",
    "Чтобы оптимизировать производственные расходы, металлургический комбинат ООО «Так закаляем сталь» решил уменьшить потребление электроэнергии на этапе обработки стали. Вам предстоит построить модель, которая предскажет температуру стали.\n",
    "\n",
    "\n",
    "## Описание этапа обработки \n",
    "\n",
    "Сталь обрабатывают в металлическом ковше вместимостью около 100 тонн. Чтобы ковш выдерживал высокие температуры, изнутри его облицовывают огнеупорным кирпичом. Расплавленную сталь заливают в ковш и подогревают до нужной температуры графитовыми электродами. Они установлены в крышке ковша. \n",
    "\n",
    "Из сплава выводится сера (десульфурация), добавлением примесей корректируется химический состав и отбираются пробы. Сталь легируют — изменяют её состав — подавая куски сплава из бункера для сыпучих материалов или проволоку через специальный трайб-аппарат (англ. tribe, «масса»).\n",
    "\n",
    "Перед тем как первый раз ввести легирующие добавки, измеряют температуру стали и производят её химический анализ. Потом температуру на несколько минут повышают, добавляют легирующие материалы и продувают сплав инертным газом. Затем его перемешивают и снова проводят измерения. Такой цикл повторяется до достижения целевого химического состава и оптимальной температуры плавки.\n",
    "\n",
    "Тогда расплавленная сталь отправляется на доводку металла или поступает в машину непрерывной разливки. Оттуда готовый продукт выходит в виде заготовок-слябов (англ. *slab*, «плита»).\n",
    "\n",
    "\n",
    "## Описание данных \n",
    "\n",
    "Данные состоят из файлов, полученных из разных источников:\n",
    "\n",
    "- `data_arc.csv` — данные об электродах;\n",
    "- `data_bulk.csv` — данные о подаче сыпучих материалов (объём);\n",
    "- `data_bulk_time.csv` *—* данные о подаче сыпучих материалов (время);\n",
    "- `data_gas.csv` — данные о продувке сплава газом;\n",
    "- `data_temp.csv` — результаты измерения температуры;\n",
    "- `data_wire.csv` — данные о проволочных материалах (объём);\n",
    "- `data_wire_time.csv` — данные о проволочных материалах (время).\n",
    "\n",
    "Во всех файлах столбец `key` содержит номер партии. В файлах может быть несколько строк с одинаковым значением `key`: они соответствуют разным итерациям обработки."
   ]
  },
  {
   "cell_type": "markdown",
   "metadata": {},
   "source": [
    "## План работы \n",
    "\n",
    "**Предобработка данных, исследовательский анализ:** \n",
    "- преобразование типов данных где необходимо\n",
    "- удаление лишних временных меток\n",
    "- обработка пропусков и выбросов\n",
    "- анализ событий в течение одного цикла плавки, посчитать информацию по партиям\n",
    "- оставить только необходимые для обучения признаки \n",
    "- посчитать дополнительные признаки, которые помогут модели лучше обучиться\n",
    "- объединить необходимые данные в одну таблицу, мерджить по ключам (key)\n",
    "\n",
    "**Подготовка данных для модели:**\n",
    "- разделить датасет на тестовую и валидационную выборки\n",
    "- проверить равномерность выборок\n",
    "\n",
    "**Построение модели:**\n",
    "- выявить пулл подходов с помощью lazypredict, и найти регрессионную модель, удовлетворяющую необходимым характеристикам \n",
    "- обучить несколько моделей регрессии и сравнить качество предсказаний\n",
    "- найти факторы важности наилучшей модели\n",
    "- получить MAE < 6.0\n",
    "\n",
    "**Заключение:**\n",
    "- проанализировать результаты \n",
    "- оформить выводы\n",
    "- составить отчёт о проделанной работе!"
   ]
  },
  {
   "cell_type": "markdown",
   "metadata": {},
   "source": [
    "## Изучение данных"
   ]
  },
  {
   "cell_type": "code",
   "execution_count": 1,
   "metadata": {},
   "outputs": [
    {
     "name": "stdout",
     "output_type": "stream",
     "text": [
      "Defaulting to user installation because normal site-packages is not writeable\n",
      "Requirement already satisfied: catboost in /opt/conda/lib/python3.7/site-packages (0.20.2)\n",
      "Requirement already satisfied: graphviz in /opt/conda/lib/python3.7/site-packages (from catboost) (0.16)\n",
      "Requirement already satisfied: numpy>=1.16.0 in /opt/conda/lib/python3.7/site-packages (from catboost) (1.19.5)\n",
      "Requirement already satisfied: plotly in /opt/conda/lib/python3.7/site-packages (from catboost) (4.1.0)\n",
      "Requirement already satisfied: matplotlib in /opt/conda/lib/python3.7/site-packages (from catboost) (3.1.0)\n",
      "Requirement already satisfied: six in /opt/conda/lib/python3.7/site-packages (from catboost) (1.15.0)\n",
      "Requirement already satisfied: scipy in /opt/conda/lib/python3.7/site-packages (from catboost) (1.4.1)\n",
      "Requirement already satisfied: pandas>=0.24.0 in /opt/conda/lib/python3.7/site-packages (from catboost) (0.25.1)\n",
      "Requirement already satisfied: retrying>=1.3.3 in /opt/conda/lib/python3.7/site-packages (from plotly->catboost) (1.3.3)\n",
      "Requirement already satisfied: cycler>=0.10 in /opt/conda/lib/python3.7/site-packages (from matplotlib->catboost) (0.10.0)\n",
      "Requirement already satisfied: python-dateutil>=2.1 in /opt/conda/lib/python3.7/site-packages (from matplotlib->catboost) (2.8.1)\n",
      "Requirement already satisfied: kiwisolver>=1.0.1 in /opt/conda/lib/python3.7/site-packages (from matplotlib->catboost) (1.3.1)\n",
      "Requirement already satisfied: pyparsing!=2.0.4,!=2.1.2,!=2.1.6,>=2.0.1 in /opt/conda/lib/python3.7/site-packages (from matplotlib->catboost) (2.4.7)\n",
      "Requirement already satisfied: pytz>=2017.2 in /opt/conda/lib/python3.7/site-packages (from pandas>=0.24.0->catboost) (2021.1)\n"
     ]
    }
   ],
   "source": [
    "!pip3 install catboost "
   ]
  },
  {
   "cell_type": "code",
   "execution_count": 2,
   "metadata": {},
   "outputs": [],
   "source": [
    "import pandas as pd\n",
    "import numpy as np\n",
    "import matplotlib.pyplot as plt\n",
    "import seaborn as sns\n",
    "from sklearn.model_selection import train_test_split, cross_val_score, GridSearchCV\n",
    "from sklearn.metrics import mean_absolute_error as mae\n",
    "from sklearn.metrics import mean_absolute_error, mean_squared_error \n",
    "from sklearn.linear_model import LinearRegression\n",
    "from sklearn.ensemble import RandomForestRegressor, GradientBoostingRegressor\n",
    "from sklearn.tree import DecisionTreeRegressor \n",
    "from catboost import CatBoostRegressor"
   ]
  },
  {
   "cell_type": "code",
   "execution_count": 3,
   "metadata": {},
   "outputs": [],
   "source": [
    "data_arc = pd.read_csv('/datasets/final_steel/data_arc.csv')\n",
    "data_arc.name = 'data_arc'\n",
    "\n",
    "data_bulk = pd.read_csv('/datasets/final_steel/data_bulk.csv')\n",
    "data_bulk.name = 'data_bulk'\n",
    "\n",
    "data_bulk_time = pd.read_csv('/datasets/final_steel/data_bulk_time.csv')\n",
    "data_bulk_time.name = 'data_bulk_time'\n",
    "\n",
    "data_gas = pd.read_csv('/datasets/final_steel/data_gas.csv')\n",
    "data_gas.name = 'data_gas'\n",
    "\n",
    "data_temp = pd.read_csv('/datasets/final_steel/data_temp.csv')\n",
    "data_temp.name = 'data_temp'\n",
    "\n",
    "data_wire = pd.read_csv('/datasets/final_steel/data_wire.csv')\n",
    "data_wire.name = 'data_wire'\n",
    "\n",
    "data_wire_time = pd.read_csv('/datasets/final_steel/data_wire_time.csv')\n",
    "data_wire_time.name = 'data_wire_time'"
   ]
  },
  {
   "cell_type": "code",
   "execution_count": 4,
   "metadata": {},
   "outputs": [],
   "source": [
    "data_all = [data_arc, data_bulk, data_bulk_time, data_gas, data_temp, data_wire, data_wire_time]"
   ]
  },
  {
   "cell_type": "code",
   "execution_count": 5,
   "metadata": {},
   "outputs": [
    {
     "name": "stdout",
     "output_type": "stream",
     "text": [
      "<class 'pandas.core.frame.DataFrame'>\n",
      "RangeIndex: 14876 entries, 0 to 14875\n",
      "Data columns (total 5 columns):\n",
      "key                     14876 non-null int64\n",
      "Начало нагрева дугой    14876 non-null object\n",
      "Конец нагрева дугой     14876 non-null object\n",
      "Активная мощность       14876 non-null float64\n",
      "Реактивная мощность     14876 non-null float64\n",
      "dtypes: float64(2), int64(1), object(2)\n",
      "memory usage: 581.2+ KB\n"
     ]
    },
    {
     "data": {
      "text/plain": [
       "None"
      ]
     },
     "metadata": {},
     "output_type": "display_data"
    },
    {
     "data": {
      "text/html": [
       "<div>\n",
       "<style scoped>\n",
       "    .dataframe tbody tr th:only-of-type {\n",
       "        vertical-align: middle;\n",
       "    }\n",
       "\n",
       "    .dataframe tbody tr th {\n",
       "        vertical-align: top;\n",
       "    }\n",
       "\n",
       "    .dataframe thead th {\n",
       "        text-align: right;\n",
       "    }\n",
       "</style>\n",
       "<table border=\"1\" class=\"dataframe\">\n",
       "  <thead>\n",
       "    <tr style=\"text-align: right;\">\n",
       "      <th></th>\n",
       "      <th>key</th>\n",
       "      <th>Начало нагрева дугой</th>\n",
       "      <th>Конец нагрева дугой</th>\n",
       "      <th>Активная мощность</th>\n",
       "      <th>Реактивная мощность</th>\n",
       "    </tr>\n",
       "  </thead>\n",
       "  <tbody>\n",
       "    <tr>\n",
       "      <td>0</td>\n",
       "      <td>1</td>\n",
       "      <td>2019-05-03 11:02:14</td>\n",
       "      <td>2019-05-03 11:06:02</td>\n",
       "      <td>0.976059</td>\n",
       "      <td>0.687084</td>\n",
       "    </tr>\n",
       "    <tr>\n",
       "      <td>1</td>\n",
       "      <td>1</td>\n",
       "      <td>2019-05-03 11:07:28</td>\n",
       "      <td>2019-05-03 11:10:33</td>\n",
       "      <td>0.805607</td>\n",
       "      <td>0.520285</td>\n",
       "    </tr>\n",
       "    <tr>\n",
       "      <td>2</td>\n",
       "      <td>1</td>\n",
       "      <td>2019-05-03 11:11:44</td>\n",
       "      <td>2019-05-03 11:14:36</td>\n",
       "      <td>0.744363</td>\n",
       "      <td>0.498805</td>\n",
       "    </tr>\n",
       "    <tr>\n",
       "      <td>3</td>\n",
       "      <td>1</td>\n",
       "      <td>2019-05-03 11:18:14</td>\n",
       "      <td>2019-05-03 11:24:19</td>\n",
       "      <td>1.659363</td>\n",
       "      <td>1.062669</td>\n",
       "    </tr>\n",
       "    <tr>\n",
       "      <td>4</td>\n",
       "      <td>1</td>\n",
       "      <td>2019-05-03 11:26:09</td>\n",
       "      <td>2019-05-03 11:28:37</td>\n",
       "      <td>0.692755</td>\n",
       "      <td>0.414397</td>\n",
       "    </tr>\n",
       "  </tbody>\n",
       "</table>\n",
       "</div>"
      ],
      "text/plain": [
       "   key Начало нагрева дугой  Конец нагрева дугой  Активная мощность  \\\n",
       "0    1  2019-05-03 11:02:14  2019-05-03 11:06:02           0.976059   \n",
       "1    1  2019-05-03 11:07:28  2019-05-03 11:10:33           0.805607   \n",
       "2    1  2019-05-03 11:11:44  2019-05-03 11:14:36           0.744363   \n",
       "3    1  2019-05-03 11:18:14  2019-05-03 11:24:19           1.659363   \n",
       "4    1  2019-05-03 11:26:09  2019-05-03 11:28:37           0.692755   \n",
       "\n",
       "   Реактивная мощность  \n",
       "0             0.687084  \n",
       "1             0.520285  \n",
       "2             0.498805  \n",
       "3             1.062669  \n",
       "4             0.414397  "
      ]
     },
     "metadata": {},
     "output_type": "display_data"
    },
    {
     "name": "stdout",
     "output_type": "stream",
     "text": [
      "____________________________\n",
      "\n",
      "\n",
      "<class 'pandas.core.frame.DataFrame'>\n",
      "RangeIndex: 3129 entries, 0 to 3128\n",
      "Data columns (total 16 columns):\n",
      "key        3129 non-null int64\n",
      "Bulk 1     252 non-null float64\n",
      "Bulk 2     22 non-null float64\n",
      "Bulk 3     1298 non-null float64\n",
      "Bulk 4     1014 non-null float64\n",
      "Bulk 5     77 non-null float64\n",
      "Bulk 6     576 non-null float64\n",
      "Bulk 7     25 non-null float64\n",
      "Bulk 8     1 non-null float64\n",
      "Bulk 9     19 non-null float64\n",
      "Bulk 10    176 non-null float64\n",
      "Bulk 11    177 non-null float64\n",
      "Bulk 12    2450 non-null float64\n",
      "Bulk 13    18 non-null float64\n",
      "Bulk 14    2806 non-null float64\n",
      "Bulk 15    2248 non-null float64\n",
      "dtypes: float64(15), int64(1)\n",
      "memory usage: 391.2 KB\n"
     ]
    },
    {
     "data": {
      "text/plain": [
       "None"
      ]
     },
     "metadata": {},
     "output_type": "display_data"
    },
    {
     "data": {
      "text/html": [
       "<div>\n",
       "<style scoped>\n",
       "    .dataframe tbody tr th:only-of-type {\n",
       "        vertical-align: middle;\n",
       "    }\n",
       "\n",
       "    .dataframe tbody tr th {\n",
       "        vertical-align: top;\n",
       "    }\n",
       "\n",
       "    .dataframe thead th {\n",
       "        text-align: right;\n",
       "    }\n",
       "</style>\n",
       "<table border=\"1\" class=\"dataframe\">\n",
       "  <thead>\n",
       "    <tr style=\"text-align: right;\">\n",
       "      <th></th>\n",
       "      <th>key</th>\n",
       "      <th>Bulk 1</th>\n",
       "      <th>Bulk 2</th>\n",
       "      <th>Bulk 3</th>\n",
       "      <th>Bulk 4</th>\n",
       "      <th>Bulk 5</th>\n",
       "      <th>Bulk 6</th>\n",
       "      <th>Bulk 7</th>\n",
       "      <th>Bulk 8</th>\n",
       "      <th>Bulk 9</th>\n",
       "      <th>Bulk 10</th>\n",
       "      <th>Bulk 11</th>\n",
       "      <th>Bulk 12</th>\n",
       "      <th>Bulk 13</th>\n",
       "      <th>Bulk 14</th>\n",
       "      <th>Bulk 15</th>\n",
       "    </tr>\n",
       "  </thead>\n",
       "  <tbody>\n",
       "    <tr>\n",
       "      <td>0</td>\n",
       "      <td>1</td>\n",
       "      <td>NaN</td>\n",
       "      <td>NaN</td>\n",
       "      <td>NaN</td>\n",
       "      <td>43.0</td>\n",
       "      <td>NaN</td>\n",
       "      <td>NaN</td>\n",
       "      <td>NaN</td>\n",
       "      <td>NaN</td>\n",
       "      <td>NaN</td>\n",
       "      <td>NaN</td>\n",
       "      <td>NaN</td>\n",
       "      <td>206.0</td>\n",
       "      <td>NaN</td>\n",
       "      <td>150.0</td>\n",
       "      <td>154.0</td>\n",
       "    </tr>\n",
       "    <tr>\n",
       "      <td>1</td>\n",
       "      <td>2</td>\n",
       "      <td>NaN</td>\n",
       "      <td>NaN</td>\n",
       "      <td>NaN</td>\n",
       "      <td>73.0</td>\n",
       "      <td>NaN</td>\n",
       "      <td>NaN</td>\n",
       "      <td>NaN</td>\n",
       "      <td>NaN</td>\n",
       "      <td>NaN</td>\n",
       "      <td>NaN</td>\n",
       "      <td>NaN</td>\n",
       "      <td>206.0</td>\n",
       "      <td>NaN</td>\n",
       "      <td>149.0</td>\n",
       "      <td>154.0</td>\n",
       "    </tr>\n",
       "    <tr>\n",
       "      <td>2</td>\n",
       "      <td>3</td>\n",
       "      <td>NaN</td>\n",
       "      <td>NaN</td>\n",
       "      <td>NaN</td>\n",
       "      <td>34.0</td>\n",
       "      <td>NaN</td>\n",
       "      <td>NaN</td>\n",
       "      <td>NaN</td>\n",
       "      <td>NaN</td>\n",
       "      <td>NaN</td>\n",
       "      <td>NaN</td>\n",
       "      <td>NaN</td>\n",
       "      <td>205.0</td>\n",
       "      <td>NaN</td>\n",
       "      <td>152.0</td>\n",
       "      <td>153.0</td>\n",
       "    </tr>\n",
       "    <tr>\n",
       "      <td>3</td>\n",
       "      <td>4</td>\n",
       "      <td>NaN</td>\n",
       "      <td>NaN</td>\n",
       "      <td>NaN</td>\n",
       "      <td>81.0</td>\n",
       "      <td>NaN</td>\n",
       "      <td>NaN</td>\n",
       "      <td>NaN</td>\n",
       "      <td>NaN</td>\n",
       "      <td>NaN</td>\n",
       "      <td>NaN</td>\n",
       "      <td>NaN</td>\n",
       "      <td>207.0</td>\n",
       "      <td>NaN</td>\n",
       "      <td>153.0</td>\n",
       "      <td>154.0</td>\n",
       "    </tr>\n",
       "    <tr>\n",
       "      <td>4</td>\n",
       "      <td>5</td>\n",
       "      <td>NaN</td>\n",
       "      <td>NaN</td>\n",
       "      <td>NaN</td>\n",
       "      <td>78.0</td>\n",
       "      <td>NaN</td>\n",
       "      <td>NaN</td>\n",
       "      <td>NaN</td>\n",
       "      <td>NaN</td>\n",
       "      <td>NaN</td>\n",
       "      <td>NaN</td>\n",
       "      <td>NaN</td>\n",
       "      <td>203.0</td>\n",
       "      <td>NaN</td>\n",
       "      <td>151.0</td>\n",
       "      <td>152.0</td>\n",
       "    </tr>\n",
       "  </tbody>\n",
       "</table>\n",
       "</div>"
      ],
      "text/plain": [
       "   key  Bulk 1  Bulk 2  Bulk 3  Bulk 4  Bulk 5  Bulk 6  Bulk 7  Bulk 8  \\\n",
       "0    1     NaN     NaN     NaN    43.0     NaN     NaN     NaN     NaN   \n",
       "1    2     NaN     NaN     NaN    73.0     NaN     NaN     NaN     NaN   \n",
       "2    3     NaN     NaN     NaN    34.0     NaN     NaN     NaN     NaN   \n",
       "3    4     NaN     NaN     NaN    81.0     NaN     NaN     NaN     NaN   \n",
       "4    5     NaN     NaN     NaN    78.0     NaN     NaN     NaN     NaN   \n",
       "\n",
       "   Bulk 9  Bulk 10  Bulk 11  Bulk 12  Bulk 13  Bulk 14  Bulk 15  \n",
       "0     NaN      NaN      NaN    206.0      NaN    150.0    154.0  \n",
       "1     NaN      NaN      NaN    206.0      NaN    149.0    154.0  \n",
       "2     NaN      NaN      NaN    205.0      NaN    152.0    153.0  \n",
       "3     NaN      NaN      NaN    207.0      NaN    153.0    154.0  \n",
       "4     NaN      NaN      NaN    203.0      NaN    151.0    152.0  "
      ]
     },
     "metadata": {},
     "output_type": "display_data"
    },
    {
     "name": "stdout",
     "output_type": "stream",
     "text": [
      "____________________________\n",
      "\n",
      "\n",
      "<class 'pandas.core.frame.DataFrame'>\n",
      "RangeIndex: 3129 entries, 0 to 3128\n",
      "Data columns (total 16 columns):\n",
      "key        3129 non-null int64\n",
      "Bulk 1     252 non-null object\n",
      "Bulk 2     22 non-null object\n",
      "Bulk 3     1298 non-null object\n",
      "Bulk 4     1014 non-null object\n",
      "Bulk 5     77 non-null object\n",
      "Bulk 6     576 non-null object\n",
      "Bulk 7     25 non-null object\n",
      "Bulk 8     1 non-null object\n",
      "Bulk 9     19 non-null object\n",
      "Bulk 10    176 non-null object\n",
      "Bulk 11    177 non-null object\n",
      "Bulk 12    2450 non-null object\n",
      "Bulk 13    18 non-null object\n",
      "Bulk 14    2806 non-null object\n",
      "Bulk 15    2248 non-null object\n",
      "dtypes: int64(1), object(15)\n",
      "memory usage: 391.2+ KB\n"
     ]
    },
    {
     "data": {
      "text/plain": [
       "None"
      ]
     },
     "metadata": {},
     "output_type": "display_data"
    },
    {
     "data": {
      "text/html": [
       "<div>\n",
       "<style scoped>\n",
       "    .dataframe tbody tr th:only-of-type {\n",
       "        vertical-align: middle;\n",
       "    }\n",
       "\n",
       "    .dataframe tbody tr th {\n",
       "        vertical-align: top;\n",
       "    }\n",
       "\n",
       "    .dataframe thead th {\n",
       "        text-align: right;\n",
       "    }\n",
       "</style>\n",
       "<table border=\"1\" class=\"dataframe\">\n",
       "  <thead>\n",
       "    <tr style=\"text-align: right;\">\n",
       "      <th></th>\n",
       "      <th>key</th>\n",
       "      <th>Bulk 1</th>\n",
       "      <th>Bulk 2</th>\n",
       "      <th>Bulk 3</th>\n",
       "      <th>Bulk 4</th>\n",
       "      <th>Bulk 5</th>\n",
       "      <th>Bulk 6</th>\n",
       "      <th>Bulk 7</th>\n",
       "      <th>Bulk 8</th>\n",
       "      <th>Bulk 9</th>\n",
       "      <th>Bulk 10</th>\n",
       "      <th>Bulk 11</th>\n",
       "      <th>Bulk 12</th>\n",
       "      <th>Bulk 13</th>\n",
       "      <th>Bulk 14</th>\n",
       "      <th>Bulk 15</th>\n",
       "    </tr>\n",
       "  </thead>\n",
       "  <tbody>\n",
       "    <tr>\n",
       "      <td>0</td>\n",
       "      <td>1</td>\n",
       "      <td>NaN</td>\n",
       "      <td>NaN</td>\n",
       "      <td>NaN</td>\n",
       "      <td>2019-05-03 11:21:30</td>\n",
       "      <td>NaN</td>\n",
       "      <td>NaN</td>\n",
       "      <td>NaN</td>\n",
       "      <td>NaN</td>\n",
       "      <td>NaN</td>\n",
       "      <td>NaN</td>\n",
       "      <td>NaN</td>\n",
       "      <td>2019-05-03 11:03:52</td>\n",
       "      <td>NaN</td>\n",
       "      <td>2019-05-03 11:03:52</td>\n",
       "      <td>2019-05-03 11:03:52</td>\n",
       "    </tr>\n",
       "    <tr>\n",
       "      <td>1</td>\n",
       "      <td>2</td>\n",
       "      <td>NaN</td>\n",
       "      <td>NaN</td>\n",
       "      <td>NaN</td>\n",
       "      <td>2019-05-03 11:46:38</td>\n",
       "      <td>NaN</td>\n",
       "      <td>NaN</td>\n",
       "      <td>NaN</td>\n",
       "      <td>NaN</td>\n",
       "      <td>NaN</td>\n",
       "      <td>NaN</td>\n",
       "      <td>NaN</td>\n",
       "      <td>2019-05-03 11:40:20</td>\n",
       "      <td>NaN</td>\n",
       "      <td>2019-05-03 11:40:20</td>\n",
       "      <td>2019-05-03 11:40:20</td>\n",
       "    </tr>\n",
       "    <tr>\n",
       "      <td>2</td>\n",
       "      <td>3</td>\n",
       "      <td>NaN</td>\n",
       "      <td>NaN</td>\n",
       "      <td>NaN</td>\n",
       "      <td>2019-05-03 12:31:06</td>\n",
       "      <td>NaN</td>\n",
       "      <td>NaN</td>\n",
       "      <td>NaN</td>\n",
       "      <td>NaN</td>\n",
       "      <td>NaN</td>\n",
       "      <td>NaN</td>\n",
       "      <td>NaN</td>\n",
       "      <td>2019-05-03 12:09:40</td>\n",
       "      <td>NaN</td>\n",
       "      <td>2019-05-03 12:09:40</td>\n",
       "      <td>2019-05-03 12:09:40</td>\n",
       "    </tr>\n",
       "    <tr>\n",
       "      <td>3</td>\n",
       "      <td>4</td>\n",
       "      <td>NaN</td>\n",
       "      <td>NaN</td>\n",
       "      <td>NaN</td>\n",
       "      <td>2019-05-03 12:48:43</td>\n",
       "      <td>NaN</td>\n",
       "      <td>NaN</td>\n",
       "      <td>NaN</td>\n",
       "      <td>NaN</td>\n",
       "      <td>NaN</td>\n",
       "      <td>NaN</td>\n",
       "      <td>NaN</td>\n",
       "      <td>2019-05-03 12:41:24</td>\n",
       "      <td>NaN</td>\n",
       "      <td>2019-05-03 12:41:24</td>\n",
       "      <td>2019-05-03 12:41:24</td>\n",
       "    </tr>\n",
       "    <tr>\n",
       "      <td>4</td>\n",
       "      <td>5</td>\n",
       "      <td>NaN</td>\n",
       "      <td>NaN</td>\n",
       "      <td>NaN</td>\n",
       "      <td>2019-05-03 13:18:50</td>\n",
       "      <td>NaN</td>\n",
       "      <td>NaN</td>\n",
       "      <td>NaN</td>\n",
       "      <td>NaN</td>\n",
       "      <td>NaN</td>\n",
       "      <td>NaN</td>\n",
       "      <td>NaN</td>\n",
       "      <td>2019-05-03 13:12:56</td>\n",
       "      <td>NaN</td>\n",
       "      <td>2019-05-03 13:12:56</td>\n",
       "      <td>2019-05-03 13:12:56</td>\n",
       "    </tr>\n",
       "  </tbody>\n",
       "</table>\n",
       "</div>"
      ],
      "text/plain": [
       "   key Bulk 1 Bulk 2 Bulk 3               Bulk 4 Bulk 5 Bulk 6 Bulk 7 Bulk 8  \\\n",
       "0    1    NaN    NaN    NaN  2019-05-03 11:21:30    NaN    NaN    NaN    NaN   \n",
       "1    2    NaN    NaN    NaN  2019-05-03 11:46:38    NaN    NaN    NaN    NaN   \n",
       "2    3    NaN    NaN    NaN  2019-05-03 12:31:06    NaN    NaN    NaN    NaN   \n",
       "3    4    NaN    NaN    NaN  2019-05-03 12:48:43    NaN    NaN    NaN    NaN   \n",
       "4    5    NaN    NaN    NaN  2019-05-03 13:18:50    NaN    NaN    NaN    NaN   \n",
       "\n",
       "  Bulk 9 Bulk 10 Bulk 11              Bulk 12 Bulk 13              Bulk 14  \\\n",
       "0    NaN     NaN     NaN  2019-05-03 11:03:52     NaN  2019-05-03 11:03:52   \n",
       "1    NaN     NaN     NaN  2019-05-03 11:40:20     NaN  2019-05-03 11:40:20   \n",
       "2    NaN     NaN     NaN  2019-05-03 12:09:40     NaN  2019-05-03 12:09:40   \n",
       "3    NaN     NaN     NaN  2019-05-03 12:41:24     NaN  2019-05-03 12:41:24   \n",
       "4    NaN     NaN     NaN  2019-05-03 13:12:56     NaN  2019-05-03 13:12:56   \n",
       "\n",
       "               Bulk 15  \n",
       "0  2019-05-03 11:03:52  \n",
       "1  2019-05-03 11:40:20  \n",
       "2  2019-05-03 12:09:40  \n",
       "3  2019-05-03 12:41:24  \n",
       "4  2019-05-03 13:12:56  "
      ]
     },
     "metadata": {},
     "output_type": "display_data"
    },
    {
     "name": "stdout",
     "output_type": "stream",
     "text": [
      "____________________________\n",
      "\n",
      "\n",
      "<class 'pandas.core.frame.DataFrame'>\n",
      "RangeIndex: 3239 entries, 0 to 3238\n",
      "Data columns (total 2 columns):\n",
      "key      3239 non-null int64\n",
      "Газ 1    3239 non-null float64\n",
      "dtypes: float64(1), int64(1)\n",
      "memory usage: 50.7 KB\n"
     ]
    },
    {
     "data": {
      "text/plain": [
       "None"
      ]
     },
     "metadata": {},
     "output_type": "display_data"
    },
    {
     "data": {
      "text/html": [
       "<div>\n",
       "<style scoped>\n",
       "    .dataframe tbody tr th:only-of-type {\n",
       "        vertical-align: middle;\n",
       "    }\n",
       "\n",
       "    .dataframe tbody tr th {\n",
       "        vertical-align: top;\n",
       "    }\n",
       "\n",
       "    .dataframe thead th {\n",
       "        text-align: right;\n",
       "    }\n",
       "</style>\n",
       "<table border=\"1\" class=\"dataframe\">\n",
       "  <thead>\n",
       "    <tr style=\"text-align: right;\">\n",
       "      <th></th>\n",
       "      <th>key</th>\n",
       "      <th>Газ 1</th>\n",
       "    </tr>\n",
       "  </thead>\n",
       "  <tbody>\n",
       "    <tr>\n",
       "      <td>0</td>\n",
       "      <td>1</td>\n",
       "      <td>29.749986</td>\n",
       "    </tr>\n",
       "    <tr>\n",
       "      <td>1</td>\n",
       "      <td>2</td>\n",
       "      <td>12.555561</td>\n",
       "    </tr>\n",
       "    <tr>\n",
       "      <td>2</td>\n",
       "      <td>3</td>\n",
       "      <td>28.554793</td>\n",
       "    </tr>\n",
       "    <tr>\n",
       "      <td>3</td>\n",
       "      <td>4</td>\n",
       "      <td>18.841219</td>\n",
       "    </tr>\n",
       "    <tr>\n",
       "      <td>4</td>\n",
       "      <td>5</td>\n",
       "      <td>5.413692</td>\n",
       "    </tr>\n",
       "  </tbody>\n",
       "</table>\n",
       "</div>"
      ],
      "text/plain": [
       "   key      Газ 1\n",
       "0    1  29.749986\n",
       "1    2  12.555561\n",
       "2    3  28.554793\n",
       "3    4  18.841219\n",
       "4    5   5.413692"
      ]
     },
     "metadata": {},
     "output_type": "display_data"
    },
    {
     "name": "stdout",
     "output_type": "stream",
     "text": [
      "____________________________\n",
      "\n",
      "\n",
      "<class 'pandas.core.frame.DataFrame'>\n",
      "RangeIndex: 15907 entries, 0 to 15906\n",
      "Data columns (total 3 columns):\n",
      "key             15907 non-null int64\n",
      "Время замера    15907 non-null object\n",
      "Температура     13006 non-null float64\n",
      "dtypes: float64(1), int64(1), object(1)\n",
      "memory usage: 372.9+ KB\n"
     ]
    },
    {
     "data": {
      "text/plain": [
       "None"
      ]
     },
     "metadata": {},
     "output_type": "display_data"
    },
    {
     "data": {
      "text/html": [
       "<div>\n",
       "<style scoped>\n",
       "    .dataframe tbody tr th:only-of-type {\n",
       "        vertical-align: middle;\n",
       "    }\n",
       "\n",
       "    .dataframe tbody tr th {\n",
       "        vertical-align: top;\n",
       "    }\n",
       "\n",
       "    .dataframe thead th {\n",
       "        text-align: right;\n",
       "    }\n",
       "</style>\n",
       "<table border=\"1\" class=\"dataframe\">\n",
       "  <thead>\n",
       "    <tr style=\"text-align: right;\">\n",
       "      <th></th>\n",
       "      <th>key</th>\n",
       "      <th>Время замера</th>\n",
       "      <th>Температура</th>\n",
       "    </tr>\n",
       "  </thead>\n",
       "  <tbody>\n",
       "    <tr>\n",
       "      <td>0</td>\n",
       "      <td>1</td>\n",
       "      <td>2019-05-03 11:16:18</td>\n",
       "      <td>1571.0</td>\n",
       "    </tr>\n",
       "    <tr>\n",
       "      <td>1</td>\n",
       "      <td>1</td>\n",
       "      <td>2019-05-03 11:25:53</td>\n",
       "      <td>1604.0</td>\n",
       "    </tr>\n",
       "    <tr>\n",
       "      <td>2</td>\n",
       "      <td>1</td>\n",
       "      <td>2019-05-03 11:29:11</td>\n",
       "      <td>1618.0</td>\n",
       "    </tr>\n",
       "    <tr>\n",
       "      <td>3</td>\n",
       "      <td>1</td>\n",
       "      <td>2019-05-03 11:30:01</td>\n",
       "      <td>1601.0</td>\n",
       "    </tr>\n",
       "    <tr>\n",
       "      <td>4</td>\n",
       "      <td>1</td>\n",
       "      <td>2019-05-03 11:30:39</td>\n",
       "      <td>1613.0</td>\n",
       "    </tr>\n",
       "  </tbody>\n",
       "</table>\n",
       "</div>"
      ],
      "text/plain": [
       "   key         Время замера  Температура\n",
       "0    1  2019-05-03 11:16:18       1571.0\n",
       "1    1  2019-05-03 11:25:53       1604.0\n",
       "2    1  2019-05-03 11:29:11       1618.0\n",
       "3    1  2019-05-03 11:30:01       1601.0\n",
       "4    1  2019-05-03 11:30:39       1613.0"
      ]
     },
     "metadata": {},
     "output_type": "display_data"
    },
    {
     "name": "stdout",
     "output_type": "stream",
     "text": [
      "____________________________\n",
      "\n",
      "\n",
      "<class 'pandas.core.frame.DataFrame'>\n",
      "RangeIndex: 3081 entries, 0 to 3080\n",
      "Data columns (total 10 columns):\n",
      "key       3081 non-null int64\n",
      "Wire 1    3055 non-null float64\n",
      "Wire 2    1079 non-null float64\n",
      "Wire 3    63 non-null float64\n",
      "Wire 4    14 non-null float64\n",
      "Wire 5    1 non-null float64\n",
      "Wire 6    73 non-null float64\n",
      "Wire 7    11 non-null float64\n",
      "Wire 8    19 non-null float64\n",
      "Wire 9    29 non-null float64\n",
      "dtypes: float64(9), int64(1)\n",
      "memory usage: 240.8 KB\n"
     ]
    },
    {
     "data": {
      "text/plain": [
       "None"
      ]
     },
     "metadata": {},
     "output_type": "display_data"
    },
    {
     "data": {
      "text/html": [
       "<div>\n",
       "<style scoped>\n",
       "    .dataframe tbody tr th:only-of-type {\n",
       "        vertical-align: middle;\n",
       "    }\n",
       "\n",
       "    .dataframe tbody tr th {\n",
       "        vertical-align: top;\n",
       "    }\n",
       "\n",
       "    .dataframe thead th {\n",
       "        text-align: right;\n",
       "    }\n",
       "</style>\n",
       "<table border=\"1\" class=\"dataframe\">\n",
       "  <thead>\n",
       "    <tr style=\"text-align: right;\">\n",
       "      <th></th>\n",
       "      <th>key</th>\n",
       "      <th>Wire 1</th>\n",
       "      <th>Wire 2</th>\n",
       "      <th>Wire 3</th>\n",
       "      <th>Wire 4</th>\n",
       "      <th>Wire 5</th>\n",
       "      <th>Wire 6</th>\n",
       "      <th>Wire 7</th>\n",
       "      <th>Wire 8</th>\n",
       "      <th>Wire 9</th>\n",
       "    </tr>\n",
       "  </thead>\n",
       "  <tbody>\n",
       "    <tr>\n",
       "      <td>0</td>\n",
       "      <td>1</td>\n",
       "      <td>60.059998</td>\n",
       "      <td>NaN</td>\n",
       "      <td>NaN</td>\n",
       "      <td>NaN</td>\n",
       "      <td>NaN</td>\n",
       "      <td>NaN</td>\n",
       "      <td>NaN</td>\n",
       "      <td>NaN</td>\n",
       "      <td>NaN</td>\n",
       "    </tr>\n",
       "    <tr>\n",
       "      <td>1</td>\n",
       "      <td>2</td>\n",
       "      <td>96.052315</td>\n",
       "      <td>NaN</td>\n",
       "      <td>NaN</td>\n",
       "      <td>NaN</td>\n",
       "      <td>NaN</td>\n",
       "      <td>NaN</td>\n",
       "      <td>NaN</td>\n",
       "      <td>NaN</td>\n",
       "      <td>NaN</td>\n",
       "    </tr>\n",
       "    <tr>\n",
       "      <td>2</td>\n",
       "      <td>3</td>\n",
       "      <td>91.160157</td>\n",
       "      <td>NaN</td>\n",
       "      <td>NaN</td>\n",
       "      <td>NaN</td>\n",
       "      <td>NaN</td>\n",
       "      <td>NaN</td>\n",
       "      <td>NaN</td>\n",
       "      <td>NaN</td>\n",
       "      <td>NaN</td>\n",
       "    </tr>\n",
       "    <tr>\n",
       "      <td>3</td>\n",
       "      <td>4</td>\n",
       "      <td>89.063515</td>\n",
       "      <td>NaN</td>\n",
       "      <td>NaN</td>\n",
       "      <td>NaN</td>\n",
       "      <td>NaN</td>\n",
       "      <td>NaN</td>\n",
       "      <td>NaN</td>\n",
       "      <td>NaN</td>\n",
       "      <td>NaN</td>\n",
       "    </tr>\n",
       "    <tr>\n",
       "      <td>4</td>\n",
       "      <td>5</td>\n",
       "      <td>89.238236</td>\n",
       "      <td>9.11456</td>\n",
       "      <td>NaN</td>\n",
       "      <td>NaN</td>\n",
       "      <td>NaN</td>\n",
       "      <td>NaN</td>\n",
       "      <td>NaN</td>\n",
       "      <td>NaN</td>\n",
       "      <td>NaN</td>\n",
       "    </tr>\n",
       "  </tbody>\n",
       "</table>\n",
       "</div>"
      ],
      "text/plain": [
       "   key     Wire 1   Wire 2  Wire 3  Wire 4  Wire 5  Wire 6  Wire 7  Wire 8  \\\n",
       "0    1  60.059998      NaN     NaN     NaN     NaN     NaN     NaN     NaN   \n",
       "1    2  96.052315      NaN     NaN     NaN     NaN     NaN     NaN     NaN   \n",
       "2    3  91.160157      NaN     NaN     NaN     NaN     NaN     NaN     NaN   \n",
       "3    4  89.063515      NaN     NaN     NaN     NaN     NaN     NaN     NaN   \n",
       "4    5  89.238236  9.11456     NaN     NaN     NaN     NaN     NaN     NaN   \n",
       "\n",
       "   Wire 9  \n",
       "0     NaN  \n",
       "1     NaN  \n",
       "2     NaN  \n",
       "3     NaN  \n",
       "4     NaN  "
      ]
     },
     "metadata": {},
     "output_type": "display_data"
    },
    {
     "name": "stdout",
     "output_type": "stream",
     "text": [
      "____________________________\n",
      "\n",
      "\n",
      "<class 'pandas.core.frame.DataFrame'>\n",
      "RangeIndex: 3081 entries, 0 to 3080\n",
      "Data columns (total 10 columns):\n",
      "key       3081 non-null int64\n",
      "Wire 1    3055 non-null object\n",
      "Wire 2    1079 non-null object\n",
      "Wire 3    63 non-null object\n",
      "Wire 4    14 non-null object\n",
      "Wire 5    1 non-null object\n",
      "Wire 6    73 non-null object\n",
      "Wire 7    11 non-null object\n",
      "Wire 8    19 non-null object\n",
      "Wire 9    29 non-null object\n",
      "dtypes: int64(1), object(9)\n",
      "memory usage: 240.8+ KB\n"
     ]
    },
    {
     "data": {
      "text/plain": [
       "None"
      ]
     },
     "metadata": {},
     "output_type": "display_data"
    },
    {
     "data": {
      "text/html": [
       "<div>\n",
       "<style scoped>\n",
       "    .dataframe tbody tr th:only-of-type {\n",
       "        vertical-align: middle;\n",
       "    }\n",
       "\n",
       "    .dataframe tbody tr th {\n",
       "        vertical-align: top;\n",
       "    }\n",
       "\n",
       "    .dataframe thead th {\n",
       "        text-align: right;\n",
       "    }\n",
       "</style>\n",
       "<table border=\"1\" class=\"dataframe\">\n",
       "  <thead>\n",
       "    <tr style=\"text-align: right;\">\n",
       "      <th></th>\n",
       "      <th>key</th>\n",
       "      <th>Wire 1</th>\n",
       "      <th>Wire 2</th>\n",
       "      <th>Wire 3</th>\n",
       "      <th>Wire 4</th>\n",
       "      <th>Wire 5</th>\n",
       "      <th>Wire 6</th>\n",
       "      <th>Wire 7</th>\n",
       "      <th>Wire 8</th>\n",
       "      <th>Wire 9</th>\n",
       "    </tr>\n",
       "  </thead>\n",
       "  <tbody>\n",
       "    <tr>\n",
       "      <td>0</td>\n",
       "      <td>1</td>\n",
       "      <td>2019-05-03 11:11:41</td>\n",
       "      <td>NaN</td>\n",
       "      <td>NaN</td>\n",
       "      <td>NaN</td>\n",
       "      <td>NaN</td>\n",
       "      <td>NaN</td>\n",
       "      <td>NaN</td>\n",
       "      <td>NaN</td>\n",
       "      <td>NaN</td>\n",
       "    </tr>\n",
       "    <tr>\n",
       "      <td>1</td>\n",
       "      <td>2</td>\n",
       "      <td>2019-05-03 11:46:10</td>\n",
       "      <td>NaN</td>\n",
       "      <td>NaN</td>\n",
       "      <td>NaN</td>\n",
       "      <td>NaN</td>\n",
       "      <td>NaN</td>\n",
       "      <td>NaN</td>\n",
       "      <td>NaN</td>\n",
       "      <td>NaN</td>\n",
       "    </tr>\n",
       "    <tr>\n",
       "      <td>2</td>\n",
       "      <td>3</td>\n",
       "      <td>2019-05-03 12:13:47</td>\n",
       "      <td>NaN</td>\n",
       "      <td>NaN</td>\n",
       "      <td>NaN</td>\n",
       "      <td>NaN</td>\n",
       "      <td>NaN</td>\n",
       "      <td>NaN</td>\n",
       "      <td>NaN</td>\n",
       "      <td>NaN</td>\n",
       "    </tr>\n",
       "    <tr>\n",
       "      <td>3</td>\n",
       "      <td>4</td>\n",
       "      <td>2019-05-03 12:48:05</td>\n",
       "      <td>NaN</td>\n",
       "      <td>NaN</td>\n",
       "      <td>NaN</td>\n",
       "      <td>NaN</td>\n",
       "      <td>NaN</td>\n",
       "      <td>NaN</td>\n",
       "      <td>NaN</td>\n",
       "      <td>NaN</td>\n",
       "    </tr>\n",
       "    <tr>\n",
       "      <td>4</td>\n",
       "      <td>5</td>\n",
       "      <td>2019-05-03 13:18:15</td>\n",
       "      <td>2019-05-03 13:32:06</td>\n",
       "      <td>NaN</td>\n",
       "      <td>NaN</td>\n",
       "      <td>NaN</td>\n",
       "      <td>NaN</td>\n",
       "      <td>NaN</td>\n",
       "      <td>NaN</td>\n",
       "      <td>NaN</td>\n",
       "    </tr>\n",
       "  </tbody>\n",
       "</table>\n",
       "</div>"
      ],
      "text/plain": [
       "   key               Wire 1               Wire 2 Wire 3 Wire 4 Wire 5 Wire 6  \\\n",
       "0    1  2019-05-03 11:11:41                  NaN    NaN    NaN    NaN    NaN   \n",
       "1    2  2019-05-03 11:46:10                  NaN    NaN    NaN    NaN    NaN   \n",
       "2    3  2019-05-03 12:13:47                  NaN    NaN    NaN    NaN    NaN   \n",
       "3    4  2019-05-03 12:48:05                  NaN    NaN    NaN    NaN    NaN   \n",
       "4    5  2019-05-03 13:18:15  2019-05-03 13:32:06    NaN    NaN    NaN    NaN   \n",
       "\n",
       "  Wire 7 Wire 8 Wire 9  \n",
       "0    NaN    NaN    NaN  \n",
       "1    NaN    NaN    NaN  \n",
       "2    NaN    NaN    NaN  \n",
       "3    NaN    NaN    NaN  \n",
       "4    NaN    NaN    NaN  "
      ]
     },
     "metadata": {},
     "output_type": "display_data"
    },
    {
     "name": "stdout",
     "output_type": "stream",
     "text": [
      "____________________________\n",
      "\n",
      "\n"
     ]
    }
   ],
   "source": [
    "for df in data_all:\n",
    "    display(df.info())\n",
    "    display(df.head())\n",
    "    print('____________________________')\n",
    "    print('\\n')"
   ]
  },
  {
   "cell_type": "markdown",
   "metadata": {},
   "source": [
    "**Предоставленные данные имеют следующие аномалии, которые бросаются в глаза:**\n",
    "\n",
    "Пропуски значений в столбцах. В основном это data_bulk и data_wire, где каждый столбец соответствует определенному легируемому материалу. NaNы в данном случае заменяем нулями, потому что они (материалы) не были добавлены.\n",
    "\n",
    "Несоответсвующий тип данных. Есть столбцы, которые могут не использовать тип float, так как хранят только целые числа. Или столбцы с датой, но с типом данных object. Их надо перевести в формат datetime.\n",
    "\n",
    "Разноязычные названия столбцов. Имена столбцов нужно превести к одному формату и без пробелов. "
   ]
  },
  {
   "cell_type": "markdown",
   "metadata": {},
   "source": [
    "## Предобработка данных\n",
    "\n",
    "\n",
    "Меняем имена столбцов."
   ]
  },
  {
   "cell_type": "code",
   "execution_count": 6,
   "metadata": {},
   "outputs": [],
   "source": [
    "data_arc.rename(columns={'Начало нагрева дугой': 'time_start',\n",
    "                                    'Конец нагрева дугой': 'time_end',\n",
    "                                    'Активная мощность': 'active_power',\n",
    "                                    'Реактивная мощность': 'reactive_power'}, inplace=True)\n",
    "\n",
    "data_temp.rename(columns={'Время замера': 'time_temperature',\n",
    "                                      'Температура': 'temperature'}, inplace=True)\n",
    "\n",
    "data_gas.rename(columns={'Газ 1': 'gas'}, inplace=True)"
   ]
  },
  {
   "cell_type": "markdown",
   "metadata": {},
   "source": [
    "Переводим формат даты в datetime."
   ]
  },
  {
   "cell_type": "code",
   "execution_count": 7,
   "metadata": {},
   "outputs": [],
   "source": [
    "data_arc['time_start']=pd.to_datetime(data_arc['time_start'])\n",
    "data_arc['time_end']=pd.to_datetime(data_arc['time_end'])\n",
    "data_temp['time_temperature']=pd.to_datetime(data_temp['time_temperature'])"
   ]
  },
  {
   "cell_type": "markdown",
   "metadata": {},
   "source": [
    "Посмотрим на распределение активной и реактивной мощностей, и проверим их на наличие выбросов."
   ]
  },
  {
   "cell_type": "code",
   "execution_count": 8,
   "metadata": {},
   "outputs": [
    {
     "data": {
      "image/png": "[encoded data removed]",
      "text/plain": [
       "<Figure size 648x360 with 1 Axes>"
      ]
     },
     "metadata": {
      "needs_background": "light"
     },
     "output_type": "display_data"
    }
   ],
   "source": [
    "plt.figure(figsize=(9,5))\n",
    "data_arc.boxplot(['active_power','reactive_power'])\n",
    "plt.title('Распределение данных о мощностях', y=1.01)\n",
    "plt.ylabel('Значение')\n",
    "plt.show()"
   ]
  },
  {
   "cell_type": "markdown",
   "metadata": {},
   "source": [
    "Аномальное значение реактивной мощности. Скорее ошибочное значение, поэтому удалим его из таблицы."
   ]
  },
  {
   "cell_type": "code",
   "execution_count": 9,
   "metadata": {},
   "outputs": [],
   "source": [
    "data_arc[data_arc['reactive_power']<-100]\n",
    "data_arc=data_arc[data_arc['reactive_power']>-100]"
   ]
  },
  {
   "cell_type": "markdown",
   "metadata": {},
   "source": [
    "Посмотрим на распределение мощностей."
   ]
  },
  {
   "cell_type": "code",
   "execution_count": 10,
   "metadata": {},
   "outputs": [
    {
     "data": {
      "image/png": "[encoded data removed]",
      "text/plain": [
       "<Figure size 792x432 with 1 Axes>"
      ]
     },
     "metadata": {
      "needs_background": "light"
     },
     "output_type": "display_data"
    }
   ],
   "source": [
    "plt.figure(figsize=(11,6))\n",
    "data_arc['active_power'].plot(kind='hist', bins=50, legend=True)\n",
    "data_arc['reactive_power'].plot(kind='hist', bins=50, legend=True, alpha=0.7)\n",
    "plt.title('Распределение данных о мощностях', y=1.01)\n",
    "plt.xlabel('Значение')\n",
    "plt.ylabel('Количество')\n",
    "plt.show()"
   ]
  },
  {
   "cell_type": "markdown",
   "metadata": {},
   "source": [
    "Оставляем пока две мощности, на корреляционной матрице посмотрим, что больше подойдет для обучения.\n",
    "\n",
    "Теперь определим первую и последнюю замеры теператур."
   ]
  },
  {
   "cell_type": "code",
   "execution_count": 11,
   "metadata": {},
   "outputs": [
    {
     "data": {
      "text/html": [
       "<div>\n",
       "<style scoped>\n",
       "    .dataframe tbody tr th:only-of-type {\n",
       "        vertical-align: middle;\n",
       "    }\n",
       "\n",
       "    .dataframe tbody tr th {\n",
       "        vertical-align: top;\n",
       "    }\n",
       "\n",
       "    .dataframe thead th {\n",
       "        text-align: right;\n",
       "    }\n",
       "</style>\n",
       "<table border=\"1\" class=\"dataframe\">\n",
       "  <thead>\n",
       "    <tr style=\"text-align: right;\">\n",
       "      <th></th>\n",
       "      <th>key</th>\n",
       "      <th>time_temperature</th>\n",
       "      <th>temperature</th>\n",
       "    </tr>\n",
       "  </thead>\n",
       "  <tbody>\n",
       "    <tr>\n",
       "      <td>0</td>\n",
       "      <td>1</td>\n",
       "      <td>2019-05-03 11:16:18</td>\n",
       "      <td>1571.0</td>\n",
       "    </tr>\n",
       "    <tr>\n",
       "      <td>1</td>\n",
       "      <td>1</td>\n",
       "      <td>2019-05-03 11:25:53</td>\n",
       "      <td>1604.0</td>\n",
       "    </tr>\n",
       "    <tr>\n",
       "      <td>2</td>\n",
       "      <td>1</td>\n",
       "      <td>2019-05-03 11:29:11</td>\n",
       "      <td>1618.0</td>\n",
       "    </tr>\n",
       "    <tr>\n",
       "      <td>3</td>\n",
       "      <td>1</td>\n",
       "      <td>2019-05-03 11:30:01</td>\n",
       "      <td>1601.0</td>\n",
       "    </tr>\n",
       "    <tr>\n",
       "      <td>4</td>\n",
       "      <td>1</td>\n",
       "      <td>2019-05-03 11:30:39</td>\n",
       "      <td>1613.0</td>\n",
       "    </tr>\n",
       "  </tbody>\n",
       "</table>\n",
       "</div>"
      ],
      "text/plain": [
       "   key    time_temperature  temperature\n",
       "0    1 2019-05-03 11:16:18       1571.0\n",
       "1    1 2019-05-03 11:25:53       1604.0\n",
       "2    1 2019-05-03 11:29:11       1618.0\n",
       "3    1 2019-05-03 11:30:01       1601.0\n",
       "4    1 2019-05-03 11:30:39       1613.0"
      ]
     },
     "execution_count": 11,
     "metadata": {},
     "output_type": "execute_result"
    }
   ],
   "source": [
    "data_temp.head()"
   ]
  },
  {
   "cell_type": "code",
   "execution_count": 12,
   "metadata": {},
   "outputs": [
    {
     "data": {
      "text/html": [
       "<div>\n",
       "<style scoped>\n",
       "    .dataframe tbody tr th:only-of-type {\n",
       "        vertical-align: middle;\n",
       "    }\n",
       "\n",
       "    .dataframe tbody tr th {\n",
       "        vertical-align: top;\n",
       "    }\n",
       "\n",
       "    .dataframe thead th {\n",
       "        text-align: right;\n",
       "    }\n",
       "</style>\n",
       "<table border=\"1\" class=\"dataframe\">\n",
       "  <thead>\n",
       "    <tr style=\"text-align: right;\">\n",
       "      <th></th>\n",
       "      <th>key</th>\n",
       "      <th>temp_end</th>\n",
       "      <th>time_temperature</th>\n",
       "      <th>temp_start</th>\n",
       "      <th>start_time_temperature</th>\n",
       "    </tr>\n",
       "  </thead>\n",
       "  <tbody>\n",
       "    <tr>\n",
       "      <td>0</td>\n",
       "      <td>1</td>\n",
       "      <td>1618.0</td>\n",
       "      <td>2019-05-03 11:30:39</td>\n",
       "      <td>1571.0</td>\n",
       "      <td>2019-05-03 11:16:18</td>\n",
       "    </tr>\n",
       "    <tr>\n",
       "      <td>1</td>\n",
       "      <td>2</td>\n",
       "      <td>1608.0</td>\n",
       "      <td>2019-05-03 11:59:12</td>\n",
       "      <td>1577.0</td>\n",
       "      <td>2019-05-03 11:37:27</td>\n",
       "    </tr>\n",
       "    <tr>\n",
       "      <td>2</td>\n",
       "      <td>3</td>\n",
       "      <td>1599.0</td>\n",
       "      <td>2019-05-03 12:34:57</td>\n",
       "      <td>1596.0</td>\n",
       "      <td>2019-05-03 12:13:17</td>\n",
       "    </tr>\n",
       "    <tr>\n",
       "      <td>3</td>\n",
       "      <td>4</td>\n",
       "      <td>1625.0</td>\n",
       "      <td>2019-05-03 12:59:25</td>\n",
       "      <td>1601.0</td>\n",
       "      <td>2019-05-03 12:52:57</td>\n",
       "    </tr>\n",
       "    <tr>\n",
       "      <td>4</td>\n",
       "      <td>5</td>\n",
       "      <td>1602.0</td>\n",
       "      <td>2019-05-03 13:36:01</td>\n",
       "      <td>1576.0</td>\n",
       "      <td>2019-05-03 13:23:19</td>\n",
       "    </tr>\n",
       "  </tbody>\n",
       "</table>\n",
       "</div>"
      ],
      "text/plain": [
       "   key  temp_end    time_temperature  temp_start start_time_temperature\n",
       "0    1    1618.0 2019-05-03 11:30:39      1571.0    2019-05-03 11:16:18\n",
       "1    2    1608.0 2019-05-03 11:59:12      1577.0    2019-05-03 11:37:27\n",
       "2    3    1599.0 2019-05-03 12:34:57      1596.0    2019-05-03 12:13:17\n",
       "3    4    1625.0 2019-05-03 12:59:25      1601.0    2019-05-03 12:52:57\n",
       "4    5    1602.0 2019-05-03 13:36:01      1576.0    2019-05-03 13:23:19"
      ]
     },
     "execution_count": 12,
     "metadata": {},
     "output_type": "execute_result"
    }
   ],
   "source": [
    "data_temp_pivot = data_temp.pivot_table(index='key', aggfunc=['max','min'])\n",
    "data_temp_pivot=data_temp_pivot.reset_index()\n",
    "data_temp_pivot.columns=['key', 'temp_end', 'time_temperature', 'temp_start', 'start_time_temperature']\n",
    "data_temp_pivot.head()"
   ]
  },
  {
   "cell_type": "markdown",
   "metadata": {},
   "source": [
    "Удалим столбец \"temp_end\", так как присвоенные данные по последнему замеру температуры не соответствуют своему времени если были допущены пропуски. НО! Потом добавим температуру последнего замера по значению ключа и времени."
   ]
  },
  {
   "cell_type": "code",
   "execution_count": 13,
   "metadata": {},
   "outputs": [
    {
     "data": {
      "text/html": [
       "<div>\n",
       "<style scoped>\n",
       "    .dataframe tbody tr th:only-of-type {\n",
       "        vertical-align: middle;\n",
       "    }\n",
       "\n",
       "    .dataframe tbody tr th {\n",
       "        vertical-align: top;\n",
       "    }\n",
       "\n",
       "    .dataframe thead th {\n",
       "        text-align: right;\n",
       "    }\n",
       "</style>\n",
       "<table border=\"1\" class=\"dataframe\">\n",
       "  <thead>\n",
       "    <tr style=\"text-align: right;\">\n",
       "      <th></th>\n",
       "      <th>key</th>\n",
       "      <th>time_temperature</th>\n",
       "      <th>temp_start</th>\n",
       "      <th>start_time_temperature</th>\n",
       "    </tr>\n",
       "  </thead>\n",
       "  <tbody>\n",
       "    <tr>\n",
       "      <td>0</td>\n",
       "      <td>1</td>\n",
       "      <td>2019-05-03 11:30:39</td>\n",
       "      <td>1571.0</td>\n",
       "      <td>2019-05-03 11:16:18</td>\n",
       "    </tr>\n",
       "    <tr>\n",
       "      <td>1</td>\n",
       "      <td>2</td>\n",
       "      <td>2019-05-03 11:59:12</td>\n",
       "      <td>1577.0</td>\n",
       "      <td>2019-05-03 11:37:27</td>\n",
       "    </tr>\n",
       "    <tr>\n",
       "      <td>2</td>\n",
       "      <td>3</td>\n",
       "      <td>2019-05-03 12:34:57</td>\n",
       "      <td>1596.0</td>\n",
       "      <td>2019-05-03 12:13:17</td>\n",
       "    </tr>\n",
       "    <tr>\n",
       "      <td>3</td>\n",
       "      <td>4</td>\n",
       "      <td>2019-05-03 12:59:25</td>\n",
       "      <td>1601.0</td>\n",
       "      <td>2019-05-03 12:52:57</td>\n",
       "    </tr>\n",
       "    <tr>\n",
       "      <td>4</td>\n",
       "      <td>5</td>\n",
       "      <td>2019-05-03 13:36:01</td>\n",
       "      <td>1576.0</td>\n",
       "      <td>2019-05-03 13:23:19</td>\n",
       "    </tr>\n",
       "  </tbody>\n",
       "</table>\n",
       "</div>"
      ],
      "text/plain": [
       "   key    time_temperature  temp_start start_time_temperature\n",
       "0    1 2019-05-03 11:30:39      1571.0    2019-05-03 11:16:18\n",
       "1    2 2019-05-03 11:59:12      1577.0    2019-05-03 11:37:27\n",
       "2    3 2019-05-03 12:34:57      1596.0    2019-05-03 12:13:17\n",
       "3    4 2019-05-03 12:59:25      1601.0    2019-05-03 12:52:57\n",
       "4    5 2019-05-03 13:36:01      1576.0    2019-05-03 13:23:19"
      ]
     },
     "execution_count": 13,
     "metadata": {},
     "output_type": "execute_result"
    }
   ],
   "source": [
    "data_temp_pivot= data_temp_pivot.drop(columns=['temp_end'])\n",
    "data_temp_pivot.head()"
   ]
  },
  {
   "cell_type": "code",
   "execution_count": 14,
   "metadata": {},
   "outputs": [
    {
     "data": {
      "text/html": [
       "<div>\n",
       "<style scoped>\n",
       "    .dataframe tbody tr th:only-of-type {\n",
       "        vertical-align: middle;\n",
       "    }\n",
       "\n",
       "    .dataframe tbody tr th {\n",
       "        vertical-align: top;\n",
       "    }\n",
       "\n",
       "    .dataframe thead th {\n",
       "        text-align: right;\n",
       "    }\n",
       "</style>\n",
       "<table border=\"1\" class=\"dataframe\">\n",
       "  <thead>\n",
       "    <tr style=\"text-align: right;\">\n",
       "      <th></th>\n",
       "      <th>key</th>\n",
       "      <th>time_temperature</th>\n",
       "      <th>temp_start</th>\n",
       "      <th>start_time_temperature</th>\n",
       "      <th>temperature</th>\n",
       "    </tr>\n",
       "  </thead>\n",
       "  <tbody>\n",
       "    <tr>\n",
       "      <td>0</td>\n",
       "      <td>1</td>\n",
       "      <td>2019-05-03 11:30:39</td>\n",
       "      <td>1571.0</td>\n",
       "      <td>2019-05-03 11:16:18</td>\n",
       "      <td>1613.0</td>\n",
       "    </tr>\n",
       "    <tr>\n",
       "      <td>1</td>\n",
       "      <td>2</td>\n",
       "      <td>2019-05-03 11:59:12</td>\n",
       "      <td>1577.0</td>\n",
       "      <td>2019-05-03 11:37:27</td>\n",
       "      <td>1602.0</td>\n",
       "    </tr>\n",
       "    <tr>\n",
       "      <td>2</td>\n",
       "      <td>3</td>\n",
       "      <td>2019-05-03 12:34:57</td>\n",
       "      <td>1596.0</td>\n",
       "      <td>2019-05-03 12:13:17</td>\n",
       "      <td>1599.0</td>\n",
       "    </tr>\n",
       "    <tr>\n",
       "      <td>3</td>\n",
       "      <td>4</td>\n",
       "      <td>2019-05-03 12:59:25</td>\n",
       "      <td>1601.0</td>\n",
       "      <td>2019-05-03 12:52:57</td>\n",
       "      <td>1625.0</td>\n",
       "    </tr>\n",
       "    <tr>\n",
       "      <td>4</td>\n",
       "      <td>5</td>\n",
       "      <td>2019-05-03 13:36:01</td>\n",
       "      <td>1576.0</td>\n",
       "      <td>2019-05-03 13:23:19</td>\n",
       "      <td>1602.0</td>\n",
       "    </tr>\n",
       "    <tr>\n",
       "      <td>...</td>\n",
       "      <td>...</td>\n",
       "      <td>...</td>\n",
       "      <td>...</td>\n",
       "      <td>...</td>\n",
       "      <td>...</td>\n",
       "    </tr>\n",
       "    <tr>\n",
       "      <td>3211</td>\n",
       "      <td>3237</td>\n",
       "      <td>2019-08-31 23:05:43</td>\n",
       "      <td>1569.0</td>\n",
       "      <td>2019-08-31 22:44:04</td>\n",
       "      <td>NaN</td>\n",
       "    </tr>\n",
       "    <tr>\n",
       "      <td>3212</td>\n",
       "      <td>3238</td>\n",
       "      <td>2019-08-31 23:43:00</td>\n",
       "      <td>1584.0</td>\n",
       "      <td>2019-08-31 23:30:31</td>\n",
       "      <td>NaN</td>\n",
       "    </tr>\n",
       "    <tr>\n",
       "      <td>3213</td>\n",
       "      <td>3239</td>\n",
       "      <td>2019-09-01 02:24:15</td>\n",
       "      <td>1598.0</td>\n",
       "      <td>2019-09-01 01:31:47</td>\n",
       "      <td>NaN</td>\n",
       "    </tr>\n",
       "    <tr>\n",
       "      <td>3214</td>\n",
       "      <td>3240</td>\n",
       "      <td>2019-09-01 03:35:16</td>\n",
       "      <td>1617.0</td>\n",
       "      <td>2019-09-01 02:39:01</td>\n",
       "      <td>NaN</td>\n",
       "    </tr>\n",
       "    <tr>\n",
       "      <td>3215</td>\n",
       "      <td>3241</td>\n",
       "      <td>2019-09-01 04:38:08</td>\n",
       "      <td>1586.0</td>\n",
       "      <td>2019-09-01 04:03:30</td>\n",
       "      <td>NaN</td>\n",
       "    </tr>\n",
       "  </tbody>\n",
       "</table>\n",
       "<p>3216 rows × 5 columns</p>\n",
       "</div>"
      ],
      "text/plain": [
       "       key    time_temperature  temp_start start_time_temperature  temperature\n",
       "0        1 2019-05-03 11:30:39      1571.0    2019-05-03 11:16:18       1613.0\n",
       "1        2 2019-05-03 11:59:12      1577.0    2019-05-03 11:37:27       1602.0\n",
       "2        3 2019-05-03 12:34:57      1596.0    2019-05-03 12:13:17       1599.0\n",
       "3        4 2019-05-03 12:59:25      1601.0    2019-05-03 12:52:57       1625.0\n",
       "4        5 2019-05-03 13:36:01      1576.0    2019-05-03 13:23:19       1602.0\n",
       "...    ...                 ...         ...                    ...          ...\n",
       "3211  3237 2019-08-31 23:05:43      1569.0    2019-08-31 22:44:04          NaN\n",
       "3212  3238 2019-08-31 23:43:00      1584.0    2019-08-31 23:30:31          NaN\n",
       "3213  3239 2019-09-01 02:24:15      1598.0    2019-09-01 01:31:47          NaN\n",
       "3214  3240 2019-09-01 03:35:16      1617.0    2019-09-01 02:39:01          NaN\n",
       "3215  3241 2019-09-01 04:38:08      1586.0    2019-09-01 04:03:30          NaN\n",
       "\n",
       "[3216 rows x 5 columns]"
      ]
     },
     "execution_count": 14,
     "metadata": {},
     "output_type": "execute_result"
    }
   ],
   "source": [
    "data_temp_pivot=data_temp_pivot.merge(data_temp, on=['key','time_temperature'], how='left')\n",
    "data_temp_pivot"
   ]
  },
  {
   "cell_type": "code",
   "execution_count": 15,
   "metadata": {},
   "outputs": [
    {
     "name": "stdout",
     "output_type": "stream",
     "text": [
      "<class 'pandas.core.frame.DataFrame'>\n",
      "Int64Index: 3216 entries, 0 to 3215\n",
      "Data columns (total 5 columns):\n",
      "key                       3216 non-null int64\n",
      "time_temperature          3216 non-null datetime64[ns]\n",
      "temp_start                3216 non-null float64\n",
      "start_time_temperature    3216 non-null datetime64[ns]\n",
      "temperature               2477 non-null float64\n",
      "dtypes: datetime64[ns](2), float64(2), int64(1)\n",
      "memory usage: 150.8 KB\n"
     ]
    }
   ],
   "source": [
    "data_temp_pivot.info()"
   ]
  },
  {
   "cell_type": "markdown",
   "metadata": {},
   "source": [
    "Мы видим пропущенные значения в целевом признаке \"temperature\", мы эти данные никак не узнаем, ни через среднее, ни через медиану, пооэтому просто удалим строки без замеренных данных по температуре."
   ]
  },
  {
   "cell_type": "code",
   "execution_count": 16,
   "metadata": {},
   "outputs": [],
   "source": [
    "data_temp_pivot=data_temp_pivot.dropna(subset=['temperature'])"
   ]
  },
  {
   "cell_type": "code",
   "execution_count": 17,
   "metadata": {},
   "outputs": [
    {
     "data": {
      "text/html": [
       "<div>\n",
       "<style scoped>\n",
       "    .dataframe tbody tr th:only-of-type {\n",
       "        vertical-align: middle;\n",
       "    }\n",
       "\n",
       "    .dataframe tbody tr th {\n",
       "        vertical-align: top;\n",
       "    }\n",
       "\n",
       "    .dataframe thead th {\n",
       "        text-align: right;\n",
       "    }\n",
       "</style>\n",
       "<table border=\"1\" class=\"dataframe\">\n",
       "  <thead>\n",
       "    <tr style=\"text-align: right;\">\n",
       "      <th></th>\n",
       "      <th>key</th>\n",
       "      <th>time_temperature</th>\n",
       "      <th>temp_start</th>\n",
       "      <th>start_time_temperature</th>\n",
       "      <th>temperature</th>\n",
       "    </tr>\n",
       "  </thead>\n",
       "  <tbody>\n",
       "    <tr>\n",
       "      <td>0</td>\n",
       "      <td>1</td>\n",
       "      <td>2019-05-03 11:30:39</td>\n",
       "      <td>1571.0</td>\n",
       "      <td>2019-05-03 11:16:18</td>\n",
       "      <td>1613.0</td>\n",
       "    </tr>\n",
       "    <tr>\n",
       "      <td>1</td>\n",
       "      <td>2</td>\n",
       "      <td>2019-05-03 11:59:12</td>\n",
       "      <td>1577.0</td>\n",
       "      <td>2019-05-03 11:37:27</td>\n",
       "      <td>1602.0</td>\n",
       "    </tr>\n",
       "    <tr>\n",
       "      <td>2</td>\n",
       "      <td>3</td>\n",
       "      <td>2019-05-03 12:34:57</td>\n",
       "      <td>1596.0</td>\n",
       "      <td>2019-05-03 12:13:17</td>\n",
       "      <td>1599.0</td>\n",
       "    </tr>\n",
       "    <tr>\n",
       "      <td>3</td>\n",
       "      <td>4</td>\n",
       "      <td>2019-05-03 12:59:25</td>\n",
       "      <td>1601.0</td>\n",
       "      <td>2019-05-03 12:52:57</td>\n",
       "      <td>1625.0</td>\n",
       "    </tr>\n",
       "    <tr>\n",
       "      <td>4</td>\n",
       "      <td>5</td>\n",
       "      <td>2019-05-03 13:36:01</td>\n",
       "      <td>1576.0</td>\n",
       "      <td>2019-05-03 13:23:19</td>\n",
       "      <td>1602.0</td>\n",
       "    </tr>\n",
       "    <tr>\n",
       "      <td>...</td>\n",
       "      <td>...</td>\n",
       "      <td>...</td>\n",
       "      <td>...</td>\n",
       "      <td>...</td>\n",
       "      <td>...</td>\n",
       "    </tr>\n",
       "    <tr>\n",
       "      <td>2472</td>\n",
       "      <td>2495</td>\n",
       "      <td>2019-08-06 00:54:42</td>\n",
       "      <td>1570.0</td>\n",
       "      <td>2019-08-06 00:35:45</td>\n",
       "      <td>1591.0</td>\n",
       "    </tr>\n",
       "    <tr>\n",
       "      <td>2473</td>\n",
       "      <td>2496</td>\n",
       "      <td>2019-08-06 01:29:52</td>\n",
       "      <td>1554.0</td>\n",
       "      <td>2019-08-06 01:02:54</td>\n",
       "      <td>1591.0</td>\n",
       "    </tr>\n",
       "    <tr>\n",
       "      <td>2474</td>\n",
       "      <td>2497</td>\n",
       "      <td>2019-08-06 01:53:50</td>\n",
       "      <td>1571.0</td>\n",
       "      <td>2019-08-06 01:41:53</td>\n",
       "      <td>1589.0</td>\n",
       "    </tr>\n",
       "    <tr>\n",
       "      <td>2475</td>\n",
       "      <td>2498</td>\n",
       "      <td>2019-08-06 02:25:31</td>\n",
       "      <td>1570.0</td>\n",
       "      <td>2019-08-06 02:03:49</td>\n",
       "      <td>1594.0</td>\n",
       "    </tr>\n",
       "    <tr>\n",
       "      <td>2476</td>\n",
       "      <td>2499</td>\n",
       "      <td>2019-08-06 03:00:28</td>\n",
       "      <td>1569.0</td>\n",
       "      <td>2019-08-06 02:40:25</td>\n",
       "      <td>1603.0</td>\n",
       "    </tr>\n",
       "  </tbody>\n",
       "</table>\n",
       "<p>2477 rows × 5 columns</p>\n",
       "</div>"
      ],
      "text/plain": [
       "       key    time_temperature  temp_start start_time_temperature  temperature\n",
       "0        1 2019-05-03 11:30:39      1571.0    2019-05-03 11:16:18       1613.0\n",
       "1        2 2019-05-03 11:59:12      1577.0    2019-05-03 11:37:27       1602.0\n",
       "2        3 2019-05-03 12:34:57      1596.0    2019-05-03 12:13:17       1599.0\n",
       "3        4 2019-05-03 12:59:25      1601.0    2019-05-03 12:52:57       1625.0\n",
       "4        5 2019-05-03 13:36:01      1576.0    2019-05-03 13:23:19       1602.0\n",
       "...    ...                 ...         ...                    ...          ...\n",
       "2472  2495 2019-08-06 00:54:42      1570.0    2019-08-06 00:35:45       1591.0\n",
       "2473  2496 2019-08-06 01:29:52      1554.0    2019-08-06 01:02:54       1591.0\n",
       "2474  2497 2019-08-06 01:53:50      1571.0    2019-08-06 01:41:53       1589.0\n",
       "2475  2498 2019-08-06 02:25:31      1570.0    2019-08-06 02:03:49       1594.0\n",
       "2476  2499 2019-08-06 03:00:28      1569.0    2019-08-06 02:40:25       1603.0\n",
       "\n",
       "[2477 rows x 5 columns]"
      ]
     },
     "execution_count": 17,
     "metadata": {},
     "output_type": "execute_result"
    }
   ],
   "source": [
    "data_temp_pivot.columns = ['key', 'time_temperature', 'temp_start', 'start_time_temperature', 'temperature']\n",
    "data_temp_pivot"
   ]
  },
  {
   "cell_type": "markdown",
   "metadata": {},
   "source": [
    "Готово. Данные стали чище на 739 строк.\n",
    "\n",
    "Выведем распределение значения целевого признака на график."
   ]
  },
  {
   "cell_type": "code",
   "execution_count": 18,
   "metadata": {},
   "outputs": [
    {
     "data": {
      "image/png": "[encoded data removed]",
      "text/plain": [
       "<Figure size 792x432 with 1 Axes>"
      ]
     },
     "metadata": {
      "needs_background": "light"
     },
     "output_type": "display_data"
    }
   ],
   "source": [
    "plt.figure(figsize=(11,6))\n",
    "data_temp_pivot['temperature'].plot(kind='hist', bins=50, legend=True)\n",
    "plt.title('Распределение данных о температуре в конце замера', y=1.01)\n",
    "plt.xlabel('Значение')\n",
    "plt.ylabel('Количество')\n",
    "plt.show()"
   ]
  },
  {
   "cell_type": "markdown",
   "metadata": {},
   "source": [
    "Посмотрим визульно на распределение данных в нашей таблице при помощи pairplot"
   ]
  },
  {
   "cell_type": "code",
   "execution_count": 19,
   "metadata": {},
   "outputs": [
    {
     "data": {
      "image/png": "[encoded data removed]",
      "text/plain": [
       "<Figure size 540x540 with 12 Axes>"
      ]
     },
     "metadata": {
      "needs_background": "light"
     },
     "output_type": "display_data"
    }
   ],
   "source": [
    "sns.pairplot(data_temp_pivot, diag_kind=\"hist\")\n",
    "plt.suptitle(\"Визуальное распределение данных о температуре и времени\", y=1.02, fontsize=12)\n",
    "plt.show()"
   ]
  },
  {
   "cell_type": "markdown",
   "metadata": {},
   "source": [
    "Видим, что в каждой партии температура в начале замера находится в одном диапазоне, в конце же этот диапазон расширяется (температура может быть совершенно различной). Это и есть выбивающиеся значения.\n",
    "\n",
    "Чтобы модель лучше обучилась, добавим новые фичи. Найдем длительность времени между первым и последним замером температуры, суммарное время нагрева электродами (сумма значений по всем промежуткам между запусками нагрева электродов), количество запусков нагрева электродами, среднее соотношение потребления активной и реактивной мощности.\n",
    "\n",
    "Начнем с длительности времени между первым и последним замером температуры."
   ]
  },
  {
   "cell_type": "code",
   "execution_count": 20,
   "metadata": {},
   "outputs": [
    {
     "data": {
      "text/html": [
       "<div>\n",
       "<style scoped>\n",
       "    .dataframe tbody tr th:only-of-type {\n",
       "        vertical-align: middle;\n",
       "    }\n",
       "\n",
       "    .dataframe tbody tr th {\n",
       "        vertical-align: top;\n",
       "    }\n",
       "\n",
       "    .dataframe thead th {\n",
       "        text-align: right;\n",
       "    }\n",
       "</style>\n",
       "<table border=\"1\" class=\"dataframe\">\n",
       "  <thead>\n",
       "    <tr style=\"text-align: right;\">\n",
       "      <th></th>\n",
       "      <th>key</th>\n",
       "      <th>time_temperature</th>\n",
       "      <th>start_time_temperature</th>\n",
       "    </tr>\n",
       "  </thead>\n",
       "  <tbody>\n",
       "    <tr>\n",
       "      <td>0</td>\n",
       "      <td>1</td>\n",
       "      <td>2019-05-03 11:30:39</td>\n",
       "      <td>2019-05-03 11:16:18</td>\n",
       "    </tr>\n",
       "    <tr>\n",
       "      <td>1</td>\n",
       "      <td>2</td>\n",
       "      <td>2019-05-03 11:59:12</td>\n",
       "      <td>2019-05-03 11:37:27</td>\n",
       "    </tr>\n",
       "    <tr>\n",
       "      <td>2</td>\n",
       "      <td>3</td>\n",
       "      <td>2019-05-03 12:34:57</td>\n",
       "      <td>2019-05-03 12:13:17</td>\n",
       "    </tr>\n",
       "    <tr>\n",
       "      <td>3</td>\n",
       "      <td>4</td>\n",
       "      <td>2019-05-03 12:59:25</td>\n",
       "      <td>2019-05-03 12:52:57</td>\n",
       "    </tr>\n",
       "    <tr>\n",
       "      <td>4</td>\n",
       "      <td>5</td>\n",
       "      <td>2019-05-03 13:36:01</td>\n",
       "      <td>2019-05-03 13:23:19</td>\n",
       "    </tr>\n",
       "    <tr>\n",
       "      <td>...</td>\n",
       "      <td>...</td>\n",
       "      <td>...</td>\n",
       "      <td>...</td>\n",
       "    </tr>\n",
       "    <tr>\n",
       "      <td>3211</td>\n",
       "      <td>3237</td>\n",
       "      <td>2019-08-31 23:05:43</td>\n",
       "      <td>2019-08-31 22:44:04</td>\n",
       "    </tr>\n",
       "    <tr>\n",
       "      <td>3212</td>\n",
       "      <td>3238</td>\n",
       "      <td>2019-08-31 23:43:00</td>\n",
       "      <td>2019-08-31 23:30:31</td>\n",
       "    </tr>\n",
       "    <tr>\n",
       "      <td>3213</td>\n",
       "      <td>3239</td>\n",
       "      <td>2019-09-01 02:24:15</td>\n",
       "      <td>2019-09-01 01:31:47</td>\n",
       "    </tr>\n",
       "    <tr>\n",
       "      <td>3214</td>\n",
       "      <td>3240</td>\n",
       "      <td>2019-09-01 03:35:16</td>\n",
       "      <td>2019-09-01 02:39:01</td>\n",
       "    </tr>\n",
       "    <tr>\n",
       "      <td>3215</td>\n",
       "      <td>3241</td>\n",
       "      <td>2019-09-01 04:38:08</td>\n",
       "      <td>2019-09-01 04:03:30</td>\n",
       "    </tr>\n",
       "  </tbody>\n",
       "</table>\n",
       "<p>3216 rows × 3 columns</p>\n",
       "</div>"
      ],
      "text/plain": [
       "       key    time_temperature start_time_temperature\n",
       "0        1 2019-05-03 11:30:39    2019-05-03 11:16:18\n",
       "1        2 2019-05-03 11:59:12    2019-05-03 11:37:27\n",
       "2        3 2019-05-03 12:34:57    2019-05-03 12:13:17\n",
       "3        4 2019-05-03 12:59:25    2019-05-03 12:52:57\n",
       "4        5 2019-05-03 13:36:01    2019-05-03 13:23:19\n",
       "...    ...                 ...                    ...\n",
       "3211  3237 2019-08-31 23:05:43    2019-08-31 22:44:04\n",
       "3212  3238 2019-08-31 23:43:00    2019-08-31 23:30:31\n",
       "3213  3239 2019-09-01 02:24:15    2019-09-01 01:31:47\n",
       "3214  3240 2019-09-01 03:35:16    2019-09-01 02:39:01\n",
       "3215  3241 2019-09-01 04:38:08    2019-09-01 04:03:30\n",
       "\n",
       "[3216 rows x 3 columns]"
      ]
     },
     "execution_count": 20,
     "metadata": {},
     "output_type": "execute_result"
    }
   ],
   "source": [
    "first_last_temp=data_temp.groupby('key')['time_temperature'].agg({max,min})\n",
    "first_last_temp=first_last_temp.reset_index()\n",
    "first_last_temp.columns=['key', 'time_temperature','start_time_temperature']\n",
    "first_last_temp"
   ]
  },
  {
   "cell_type": "code",
   "execution_count": 21,
   "metadata": {},
   "outputs": [
    {
     "data": {
      "text/html": [
       "<div>\n",
       "<style scoped>\n",
       "    .dataframe tbody tr th:only-of-type {\n",
       "        vertical-align: middle;\n",
       "    }\n",
       "\n",
       "    .dataframe tbody tr th {\n",
       "        vertical-align: top;\n",
       "    }\n",
       "\n",
       "    .dataframe thead th {\n",
       "        text-align: right;\n",
       "    }\n",
       "</style>\n",
       "<table border=\"1\" class=\"dataframe\">\n",
       "  <thead>\n",
       "    <tr style=\"text-align: right;\">\n",
       "      <th></th>\n",
       "      <th>key</th>\n",
       "      <th>time_temperature</th>\n",
       "      <th>start_time_temperature</th>\n",
       "      <th>temperature_difference</th>\n",
       "    </tr>\n",
       "  </thead>\n",
       "  <tbody>\n",
       "    <tr>\n",
       "      <td>0</td>\n",
       "      <td>1</td>\n",
       "      <td>2019-05-03 11:30:39</td>\n",
       "      <td>2019-05-03 11:16:18</td>\n",
       "      <td>00:14:21</td>\n",
       "    </tr>\n",
       "    <tr>\n",
       "      <td>1</td>\n",
       "      <td>2</td>\n",
       "      <td>2019-05-03 11:59:12</td>\n",
       "      <td>2019-05-03 11:37:27</td>\n",
       "      <td>00:21:45</td>\n",
       "    </tr>\n",
       "    <tr>\n",
       "      <td>2</td>\n",
       "      <td>3</td>\n",
       "      <td>2019-05-03 12:34:57</td>\n",
       "      <td>2019-05-03 12:13:17</td>\n",
       "      <td>00:21:40</td>\n",
       "    </tr>\n",
       "    <tr>\n",
       "      <td>3</td>\n",
       "      <td>4</td>\n",
       "      <td>2019-05-03 12:59:25</td>\n",
       "      <td>2019-05-03 12:52:57</td>\n",
       "      <td>00:06:28</td>\n",
       "    </tr>\n",
       "    <tr>\n",
       "      <td>4</td>\n",
       "      <td>5</td>\n",
       "      <td>2019-05-03 13:36:01</td>\n",
       "      <td>2019-05-03 13:23:19</td>\n",
       "      <td>00:12:42</td>\n",
       "    </tr>\n",
       "    <tr>\n",
       "      <td>...</td>\n",
       "      <td>...</td>\n",
       "      <td>...</td>\n",
       "      <td>...</td>\n",
       "      <td>...</td>\n",
       "    </tr>\n",
       "    <tr>\n",
       "      <td>3211</td>\n",
       "      <td>3237</td>\n",
       "      <td>2019-08-31 23:05:43</td>\n",
       "      <td>2019-08-31 22:44:04</td>\n",
       "      <td>00:21:39</td>\n",
       "    </tr>\n",
       "    <tr>\n",
       "      <td>3212</td>\n",
       "      <td>3238</td>\n",
       "      <td>2019-08-31 23:43:00</td>\n",
       "      <td>2019-08-31 23:30:31</td>\n",
       "      <td>00:12:29</td>\n",
       "    </tr>\n",
       "    <tr>\n",
       "      <td>3213</td>\n",
       "      <td>3239</td>\n",
       "      <td>2019-09-01 02:24:15</td>\n",
       "      <td>2019-09-01 01:31:47</td>\n",
       "      <td>00:52:28</td>\n",
       "    </tr>\n",
       "    <tr>\n",
       "      <td>3214</td>\n",
       "      <td>3240</td>\n",
       "      <td>2019-09-01 03:35:16</td>\n",
       "      <td>2019-09-01 02:39:01</td>\n",
       "      <td>00:56:15</td>\n",
       "    </tr>\n",
       "    <tr>\n",
       "      <td>3215</td>\n",
       "      <td>3241</td>\n",
       "      <td>2019-09-01 04:38:08</td>\n",
       "      <td>2019-09-01 04:03:30</td>\n",
       "      <td>00:34:38</td>\n",
       "    </tr>\n",
       "  </tbody>\n",
       "</table>\n",
       "<p>3216 rows × 4 columns</p>\n",
       "</div>"
      ],
      "text/plain": [
       "       key    time_temperature start_time_temperature temperature_difference\n",
       "0        1 2019-05-03 11:30:39    2019-05-03 11:16:18               00:14:21\n",
       "1        2 2019-05-03 11:59:12    2019-05-03 11:37:27               00:21:45\n",
       "2        3 2019-05-03 12:34:57    2019-05-03 12:13:17               00:21:40\n",
       "3        4 2019-05-03 12:59:25    2019-05-03 12:52:57               00:06:28\n",
       "4        5 2019-05-03 13:36:01    2019-05-03 13:23:19               00:12:42\n",
       "...    ...                 ...                    ...                    ...\n",
       "3211  3237 2019-08-31 23:05:43    2019-08-31 22:44:04               00:21:39\n",
       "3212  3238 2019-08-31 23:43:00    2019-08-31 23:30:31               00:12:29\n",
       "3213  3239 2019-09-01 02:24:15    2019-09-01 01:31:47               00:52:28\n",
       "3214  3240 2019-09-01 03:35:16    2019-09-01 02:39:01               00:56:15\n",
       "3215  3241 2019-09-01 04:38:08    2019-09-01 04:03:30               00:34:38\n",
       "\n",
       "[3216 rows x 4 columns]"
      ]
     },
     "execution_count": 21,
     "metadata": {},
     "output_type": "execute_result"
    }
   ],
   "source": [
    "first_last_temp['temperature_difference'] = first_last_temp['time_temperature'] - first_last_temp['start_time_temperature']\n",
    "first_last_temp"
   ]
  },
  {
   "cell_type": "markdown",
   "metadata": {},
   "source": [
    "Далее, суммарное время нагрева электродами."
   ]
  },
  {
   "cell_type": "code",
   "execution_count": 22,
   "metadata": {},
   "outputs": [
    {
     "data": {
      "text/html": [
       "<div>\n",
       "<style scoped>\n",
       "    .dataframe tbody tr th:only-of-type {\n",
       "        vertical-align: middle;\n",
       "    }\n",
       "\n",
       "    .dataframe tbody tr th {\n",
       "        vertical-align: top;\n",
       "    }\n",
       "\n",
       "    .dataframe thead th {\n",
       "        text-align: right;\n",
       "    }\n",
       "</style>\n",
       "<table border=\"1\" class=\"dataframe\">\n",
       "  <thead>\n",
       "    <tr style=\"text-align: right;\">\n",
       "      <th></th>\n",
       "      <th>key</th>\n",
       "      <th>time_start</th>\n",
       "      <th>time_end</th>\n",
       "      <th>active_power</th>\n",
       "      <th>reactive_power</th>\n",
       "      <th>heating_time</th>\n",
       "    </tr>\n",
       "  </thead>\n",
       "  <tbody>\n",
       "    <tr>\n",
       "      <td>0</td>\n",
       "      <td>1</td>\n",
       "      <td>2019-05-03 11:02:14</td>\n",
       "      <td>2019-05-03 11:06:02</td>\n",
       "      <td>0.976059</td>\n",
       "      <td>0.687084</td>\n",
       "      <td>00:03:48</td>\n",
       "    </tr>\n",
       "    <tr>\n",
       "      <td>1</td>\n",
       "      <td>1</td>\n",
       "      <td>2019-05-03 11:07:28</td>\n",
       "      <td>2019-05-03 11:10:33</td>\n",
       "      <td>0.805607</td>\n",
       "      <td>0.520285</td>\n",
       "      <td>00:03:05</td>\n",
       "    </tr>\n",
       "    <tr>\n",
       "      <td>2</td>\n",
       "      <td>1</td>\n",
       "      <td>2019-05-03 11:11:44</td>\n",
       "      <td>2019-05-03 11:14:36</td>\n",
       "      <td>0.744363</td>\n",
       "      <td>0.498805</td>\n",
       "      <td>00:02:52</td>\n",
       "    </tr>\n",
       "    <tr>\n",
       "      <td>3</td>\n",
       "      <td>1</td>\n",
       "      <td>2019-05-03 11:18:14</td>\n",
       "      <td>2019-05-03 11:24:19</td>\n",
       "      <td>1.659363</td>\n",
       "      <td>1.062669</td>\n",
       "      <td>00:06:05</td>\n",
       "    </tr>\n",
       "    <tr>\n",
       "      <td>4</td>\n",
       "      <td>1</td>\n",
       "      <td>2019-05-03 11:26:09</td>\n",
       "      <td>2019-05-03 11:28:37</td>\n",
       "      <td>0.692755</td>\n",
       "      <td>0.414397</td>\n",
       "      <td>00:02:28</td>\n",
       "    </tr>\n",
       "    <tr>\n",
       "      <td>...</td>\n",
       "      <td>...</td>\n",
       "      <td>...</td>\n",
       "      <td>...</td>\n",
       "      <td>...</td>\n",
       "      <td>...</td>\n",
       "      <td>...</td>\n",
       "    </tr>\n",
       "    <tr>\n",
       "      <td>14871</td>\n",
       "      <td>3241</td>\n",
       "      <td>2019-09-01 03:58:58</td>\n",
       "      <td>2019-09-01 04:01:35</td>\n",
       "      <td>0.533670</td>\n",
       "      <td>0.354439</td>\n",
       "      <td>00:02:37</td>\n",
       "    </tr>\n",
       "    <tr>\n",
       "      <td>14872</td>\n",
       "      <td>3241</td>\n",
       "      <td>2019-09-01 04:05:04</td>\n",
       "      <td>2019-09-01 04:08:04</td>\n",
       "      <td>0.676604</td>\n",
       "      <td>0.523631</td>\n",
       "      <td>00:03:00</td>\n",
       "    </tr>\n",
       "    <tr>\n",
       "      <td>14873</td>\n",
       "      <td>3241</td>\n",
       "      <td>2019-09-01 04:16:41</td>\n",
       "      <td>2019-09-01 04:19:45</td>\n",
       "      <td>0.733899</td>\n",
       "      <td>0.475654</td>\n",
       "      <td>00:03:04</td>\n",
       "    </tr>\n",
       "    <tr>\n",
       "      <td>14874</td>\n",
       "      <td>3241</td>\n",
       "      <td>2019-09-01 04:31:51</td>\n",
       "      <td>2019-09-01 04:32:48</td>\n",
       "      <td>0.220694</td>\n",
       "      <td>0.145768</td>\n",
       "      <td>00:00:57</td>\n",
       "    </tr>\n",
       "    <tr>\n",
       "      <td>14875</td>\n",
       "      <td>3241</td>\n",
       "      <td>2019-09-01 04:34:47</td>\n",
       "      <td>2019-09-01 04:36:08</td>\n",
       "      <td>0.306580</td>\n",
       "      <td>0.196708</td>\n",
       "      <td>00:01:21</td>\n",
       "    </tr>\n",
       "  </tbody>\n",
       "</table>\n",
       "<p>14875 rows × 6 columns</p>\n",
       "</div>"
      ],
      "text/plain": [
       "        key          time_start            time_end  active_power  \\\n",
       "0         1 2019-05-03 11:02:14 2019-05-03 11:06:02      0.976059   \n",
       "1         1 2019-05-03 11:07:28 2019-05-03 11:10:33      0.805607   \n",
       "2         1 2019-05-03 11:11:44 2019-05-03 11:14:36      0.744363   \n",
       "3         1 2019-05-03 11:18:14 2019-05-03 11:24:19      1.659363   \n",
       "4         1 2019-05-03 11:26:09 2019-05-03 11:28:37      0.692755   \n",
       "...     ...                 ...                 ...           ...   \n",
       "14871  3241 2019-09-01 03:58:58 2019-09-01 04:01:35      0.533670   \n",
       "14872  3241 2019-09-01 04:05:04 2019-09-01 04:08:04      0.676604   \n",
       "14873  3241 2019-09-01 04:16:41 2019-09-01 04:19:45      0.733899   \n",
       "14874  3241 2019-09-01 04:31:51 2019-09-01 04:32:48      0.220694   \n",
       "14875  3241 2019-09-01 04:34:47 2019-09-01 04:36:08      0.306580   \n",
       "\n",
       "       reactive_power heating_time  \n",
       "0            0.687084     00:03:48  \n",
       "1            0.520285     00:03:05  \n",
       "2            0.498805     00:02:52  \n",
       "3            1.062669     00:06:05  \n",
       "4            0.414397     00:02:28  \n",
       "...               ...          ...  \n",
       "14871        0.354439     00:02:37  \n",
       "14872        0.523631     00:03:00  \n",
       "14873        0.475654     00:03:04  \n",
       "14874        0.145768     00:00:57  \n",
       "14875        0.196708     00:01:21  \n",
       "\n",
       "[14875 rows x 6 columns]"
      ]
     },
     "execution_count": 22,
     "metadata": {},
     "output_type": "execute_result"
    }
   ],
   "source": [
    "data_arc2 = data_arc.copy()\n",
    "data_arc2['heating_time'] = data_arc2['time_end']-data_arc2['time_start']\n",
    "data_arc2"
   ]
  },
  {
   "cell_type": "markdown",
   "metadata": {},
   "source": [
    "Найдём суммарное время нагрева электродами по каждому ключу."
   ]
  },
  {
   "cell_type": "code",
   "execution_count": 23,
   "metadata": {},
   "outputs": [
    {
     "data": {
      "text/html": [
       "<div>\n",
       "<style scoped>\n",
       "    .dataframe tbody tr th:only-of-type {\n",
       "        vertical-align: middle;\n",
       "    }\n",
       "\n",
       "    .dataframe tbody tr th {\n",
       "        vertical-align: top;\n",
       "    }\n",
       "\n",
       "    .dataframe thead th {\n",
       "        text-align: right;\n",
       "    }\n",
       "</style>\n",
       "<table border=\"1\" class=\"dataframe\">\n",
       "  <thead>\n",
       "    <tr style=\"text-align: right;\">\n",
       "      <th></th>\n",
       "      <th>key</th>\n",
       "      <th>heating_time_sum</th>\n",
       "    </tr>\n",
       "  </thead>\n",
       "  <tbody>\n",
       "    <tr>\n",
       "      <td>0</td>\n",
       "      <td>1</td>\n",
       "      <td>00:18:18</td>\n",
       "    </tr>\n",
       "    <tr>\n",
       "      <td>1</td>\n",
       "      <td>2</td>\n",
       "      <td>00:13:31</td>\n",
       "    </tr>\n",
       "    <tr>\n",
       "      <td>2</td>\n",
       "      <td>3</td>\n",
       "      <td>00:10:55</td>\n",
       "    </tr>\n",
       "    <tr>\n",
       "      <td>3</td>\n",
       "      <td>4</td>\n",
       "      <td>00:12:21</td>\n",
       "    </tr>\n",
       "    <tr>\n",
       "      <td>4</td>\n",
       "      <td>5</td>\n",
       "      <td>00:14:29</td>\n",
       "    </tr>\n",
       "    <tr>\n",
       "      <td>...</td>\n",
       "      <td>...</td>\n",
       "      <td>...</td>\n",
       "    </tr>\n",
       "    <tr>\n",
       "      <td>3209</td>\n",
       "      <td>3237</td>\n",
       "      <td>00:15:09</td>\n",
       "    </tr>\n",
       "    <tr>\n",
       "      <td>3210</td>\n",
       "      <td>3238</td>\n",
       "      <td>00:09:06</td>\n",
       "    </tr>\n",
       "    <tr>\n",
       "      <td>3211</td>\n",
       "      <td>3239</td>\n",
       "      <td>00:20:16</td>\n",
       "    </tr>\n",
       "    <tr>\n",
       "      <td>3212</td>\n",
       "      <td>3240</td>\n",
       "      <td>00:13:59</td>\n",
       "    </tr>\n",
       "    <tr>\n",
       "      <td>3213</td>\n",
       "      <td>3241</td>\n",
       "      <td>00:10:59</td>\n",
       "    </tr>\n",
       "  </tbody>\n",
       "</table>\n",
       "<p>3214 rows × 2 columns</p>\n",
       "</div>"
      ],
      "text/plain": [
       "       key heating_time_sum\n",
       "0        1         00:18:18\n",
       "1        2         00:13:31\n",
       "2        3         00:10:55\n",
       "3        4         00:12:21\n",
       "4        5         00:14:29\n",
       "...    ...              ...\n",
       "3209  3237         00:15:09\n",
       "3210  3238         00:09:06\n",
       "3211  3239         00:20:16\n",
       "3212  3240         00:13:59\n",
       "3213  3241         00:10:59\n",
       "\n",
       "[3214 rows x 2 columns]"
      ]
     },
     "execution_count": 23,
     "metadata": {},
     "output_type": "execute_result"
    }
   ],
   "source": [
    "time_per_key= data_arc2.groupby('key')['heating_time'].sum()\n",
    "time_per_key=time_per_key.reset_index()\n",
    "time_per_key.columns=['key','heating_time_sum']\n",
    "time_per_key"
   ]
  },
  {
   "cell_type": "markdown",
   "metadata": {},
   "source": [
    "Переходим к количеству запусков нагрева электродами."
   ]
  },
  {
   "cell_type": "code",
   "execution_count": 24,
   "metadata": {},
   "outputs": [
    {
     "data": {
      "text/html": [
       "<div>\n",
       "<style scoped>\n",
       "    .dataframe tbody tr th:only-of-type {\n",
       "        vertical-align: middle;\n",
       "    }\n",
       "\n",
       "    .dataframe tbody tr th {\n",
       "        vertical-align: top;\n",
       "    }\n",
       "\n",
       "    .dataframe thead th {\n",
       "        text-align: right;\n",
       "    }\n",
       "</style>\n",
       "<table border=\"1\" class=\"dataframe\">\n",
       "  <thead>\n",
       "    <tr style=\"text-align: right;\">\n",
       "      <th></th>\n",
       "      <th>key</th>\n",
       "      <th>heating_time_count</th>\n",
       "    </tr>\n",
       "  </thead>\n",
       "  <tbody>\n",
       "    <tr>\n",
       "      <td>0</td>\n",
       "      <td>1</td>\n",
       "      <td>5</td>\n",
       "    </tr>\n",
       "    <tr>\n",
       "      <td>1</td>\n",
       "      <td>2</td>\n",
       "      <td>4</td>\n",
       "    </tr>\n",
       "    <tr>\n",
       "      <td>2</td>\n",
       "      <td>3</td>\n",
       "      <td>5</td>\n",
       "    </tr>\n",
       "    <tr>\n",
       "      <td>3</td>\n",
       "      <td>4</td>\n",
       "      <td>4</td>\n",
       "    </tr>\n",
       "    <tr>\n",
       "      <td>4</td>\n",
       "      <td>5</td>\n",
       "      <td>4</td>\n",
       "    </tr>\n",
       "    <tr>\n",
       "      <td>...</td>\n",
       "      <td>...</td>\n",
       "      <td>...</td>\n",
       "    </tr>\n",
       "    <tr>\n",
       "      <td>3209</td>\n",
       "      <td>3237</td>\n",
       "      <td>5</td>\n",
       "    </tr>\n",
       "    <tr>\n",
       "      <td>3210</td>\n",
       "      <td>3238</td>\n",
       "      <td>3</td>\n",
       "    </tr>\n",
       "    <tr>\n",
       "      <td>3211</td>\n",
       "      <td>3239</td>\n",
       "      <td>8</td>\n",
       "    </tr>\n",
       "    <tr>\n",
       "      <td>3212</td>\n",
       "      <td>3240</td>\n",
       "      <td>5</td>\n",
       "    </tr>\n",
       "    <tr>\n",
       "      <td>3213</td>\n",
       "      <td>3241</td>\n",
       "      <td>5</td>\n",
       "    </tr>\n",
       "  </tbody>\n",
       "</table>\n",
       "<p>3214 rows × 2 columns</p>\n",
       "</div>"
      ],
      "text/plain": [
       "       key  heating_time_count\n",
       "0        1                   5\n",
       "1        2                   4\n",
       "2        3                   5\n",
       "3        4                   4\n",
       "4        5                   4\n",
       "...    ...                 ...\n",
       "3209  3237                   5\n",
       "3210  3238                   3\n",
       "3211  3239                   8\n",
       "3212  3240                   5\n",
       "3213  3241                   5\n",
       "\n",
       "[3214 rows x 2 columns]"
      ]
     },
     "execution_count": 24,
     "metadata": {},
     "output_type": "execute_result"
    }
   ],
   "source": [
    "count_heating = data_arc2.groupby('key')['heating_time'].count()\n",
    "count_heating=count_heating.reset_index()\n",
    "count_heating.columns = ['key','heating_time_count']\n",
    "count_heating"
   ]
  },
  {
   "cell_type": "code",
   "execution_count": 25,
   "metadata": {},
   "outputs": [
    {
     "data": {
      "image/png": "[encoded data removed]",
      "text/plain": [
       "<Figure size 1296x576 with 1 Axes>"
      ]
     },
     "metadata": {
      "needs_background": "light"
     },
     "output_type": "display_data"
    }
   ],
   "source": [
    "plt.figure(figsize=(18,8))\n",
    "sns.lineplot(data=count_heating, x='key',y='heating_time_count')\n",
    "plt.title('График количества запусков нагрева электродами', y=1.02)\n",
    "plt.show()"
   ]
  },
  {
   "cell_type": "markdown",
   "metadata": {},
   "source": [
    "И наконец, среднее соотношение потребления активной и реактивной мощности."
   ]
  },
  {
   "cell_type": "code",
   "execution_count": 26,
   "metadata": {},
   "outputs": [
    {
     "data": {
      "text/html": [
       "<div>\n",
       "<style scoped>\n",
       "    .dataframe tbody tr th:only-of-type {\n",
       "        vertical-align: middle;\n",
       "    }\n",
       "\n",
       "    .dataframe tbody tr th {\n",
       "        vertical-align: top;\n",
       "    }\n",
       "\n",
       "    .dataframe thead th {\n",
       "        text-align: right;\n",
       "    }\n",
       "</style>\n",
       "<table border=\"1\" class=\"dataframe\">\n",
       "  <thead>\n",
       "    <tr style=\"text-align: right;\">\n",
       "      <th></th>\n",
       "      <th>key</th>\n",
       "      <th>active_power_mean</th>\n",
       "      <th>reactive_power_mean</th>\n",
       "      <th>active_power\\reactive_power</th>\n",
       "    </tr>\n",
       "  </thead>\n",
       "  <tbody>\n",
       "    <tr>\n",
       "      <td>0</td>\n",
       "      <td>1</td>\n",
       "      <td>0.975629</td>\n",
       "      <td>0.636648</td>\n",
       "      <td>1.532447</td>\n",
       "    </tr>\n",
       "    <tr>\n",
       "      <td>1</td>\n",
       "      <td>2</td>\n",
       "      <td>0.763150</td>\n",
       "      <td>0.499528</td>\n",
       "      <td>1.527741</td>\n",
       "    </tr>\n",
       "    <tr>\n",
       "      <td>2</td>\n",
       "      <td>3</td>\n",
       "      <td>0.505176</td>\n",
       "      <td>0.319815</td>\n",
       "      <td>1.579589</td>\n",
       "    </tr>\n",
       "    <tr>\n",
       "      <td>3</td>\n",
       "      <td>4</td>\n",
       "      <td>0.802313</td>\n",
       "      <td>0.515074</td>\n",
       "      <td>1.557663</td>\n",
       "    </tr>\n",
       "    <tr>\n",
       "      <td>4</td>\n",
       "      <td>5</td>\n",
       "      <td>0.836793</td>\n",
       "      <td>0.563161</td>\n",
       "      <td>1.485887</td>\n",
       "    </tr>\n",
       "    <tr>\n",
       "      <td>...</td>\n",
       "      <td>...</td>\n",
       "      <td>...</td>\n",
       "      <td>...</td>\n",
       "      <td>...</td>\n",
       "    </tr>\n",
       "    <tr>\n",
       "      <td>3209</td>\n",
       "      <td>3237</td>\n",
       "      <td>0.786493</td>\n",
       "      <td>0.565692</td>\n",
       "      <td>1.390321</td>\n",
       "    </tr>\n",
       "    <tr>\n",
       "      <td>3210</td>\n",
       "      <td>3238</td>\n",
       "      <td>0.702176</td>\n",
       "      <td>0.560394</td>\n",
       "      <td>1.253004</td>\n",
       "    </tr>\n",
       "    <tr>\n",
       "      <td>3211</td>\n",
       "      <td>3239</td>\n",
       "      <td>0.583344</td>\n",
       "      <td>0.388952</td>\n",
       "      <td>1.499784</td>\n",
       "    </tr>\n",
       "    <tr>\n",
       "      <td>3212</td>\n",
       "      <td>3240</td>\n",
       "      <td>0.596817</td>\n",
       "      <td>0.496653</td>\n",
       "      <td>1.201676</td>\n",
       "    </tr>\n",
       "    <tr>\n",
       "      <td>3213</td>\n",
       "      <td>3241</td>\n",
       "      <td>0.494289</td>\n",
       "      <td>0.339240</td>\n",
       "      <td>1.457050</td>\n",
       "    </tr>\n",
       "  </tbody>\n",
       "</table>\n",
       "<p>3214 rows × 4 columns</p>\n",
       "</div>"
      ],
      "text/plain": [
       "       key  active_power_mean  reactive_power_mean  \\\n",
       "0        1           0.975629             0.636648   \n",
       "1        2           0.763150             0.499528   \n",
       "2        3           0.505176             0.319815   \n",
       "3        4           0.802313             0.515074   \n",
       "4        5           0.836793             0.563161   \n",
       "...    ...                ...                  ...   \n",
       "3209  3237           0.786493             0.565692   \n",
       "3210  3238           0.702176             0.560394   \n",
       "3211  3239           0.583344             0.388952   \n",
       "3212  3240           0.596817             0.496653   \n",
       "3213  3241           0.494289             0.339240   \n",
       "\n",
       "      active_power\\reactive_power  \n",
       "0                        1.532447  \n",
       "1                        1.527741  \n",
       "2                        1.579589  \n",
       "3                        1.557663  \n",
       "4                        1.485887  \n",
       "...                           ...  \n",
       "3209                     1.390321  \n",
       "3210                     1.253004  \n",
       "3211                     1.499784  \n",
       "3212                     1.201676  \n",
       "3213                     1.457050  \n",
       "\n",
       "[3214 rows x 4 columns]"
      ]
     },
     "execution_count": 26,
     "metadata": {},
     "output_type": "execute_result"
    }
   ],
   "source": [
    "mean_ratio_power = data_arc2.groupby('key')['active_power','reactive_power'].mean()\n",
    "mean_ratio_power = mean_ratio_power.reset_index()\n",
    "mean_ratio_power.columns=['key','active_power_mean','reactive_power_mean']\n",
    "mean_ratio_power['active_power\\reactive_power'] = mean_ratio_power['active_power_mean']/mean_ratio_power['reactive_power_mean']\n",
    "mean_ratio_power"
   ]
  },
  {
   "cell_type": "code",
   "execution_count": 27,
   "metadata": {},
   "outputs": [
    {
     "name": "stderr",
     "output_type": "stream",
     "text": [
      "/opt/conda/lib/python3.7/site-packages/matplotlib/backends/backend_agg.py:211: RuntimeWarning: Glyph 13 missing from current font.\n",
      "  font.set_text(s, 0.0, flags=flags)\n",
      "/opt/conda/lib/python3.7/site-packages/matplotlib/backends/backend_agg.py:180: RuntimeWarning: Glyph 13 missing from current font.\n",
      "  font.set_text(s, 0, flags=flags)\n"
     ]
    },
    {
     "data": {
      "image/png": "[encoded data removed]",
      "text/plain": [
       "<Figure size 576x576 with 1 Axes>"
      ]
     },
     "metadata": {
      "needs_background": "light"
     },
     "output_type": "display_data"
    }
   ],
   "source": [
    "plt.figure(figsize=(8,8))\n",
    "sns.regplot(x=\"active_power_mean\", y=\"reactive_power_mean\", data=mean_ratio_power)\n",
    "plt.title('active_power\\reactive_power',y=1.02)\n",
    "plt.show()"
   ]
  },
  {
   "cell_type": "markdown",
   "metadata": {},
   "source": [
    "Объеденим все полученные столбцы с основной таблицей. Мержить будем по ключу."
   ]
  },
  {
   "cell_type": "code",
   "execution_count": 28,
   "metadata": {},
   "outputs": [
    {
     "data": {
      "text/html": [
       "<div>\n",
       "<style scoped>\n",
       "    .dataframe tbody tr th:only-of-type {\n",
       "        vertical-align: middle;\n",
       "    }\n",
       "\n",
       "    .dataframe tbody tr th {\n",
       "        vertical-align: top;\n",
       "    }\n",
       "\n",
       "    .dataframe thead th {\n",
       "        text-align: right;\n",
       "    }\n",
       "</style>\n",
       "<table border=\"1\" class=\"dataframe\">\n",
       "  <thead>\n",
       "    <tr style=\"text-align: right;\">\n",
       "      <th></th>\n",
       "      <th>key</th>\n",
       "      <th>heating_time_sum</th>\n",
       "      <th>heating_time_count</th>\n",
       "    </tr>\n",
       "  </thead>\n",
       "  <tbody>\n",
       "    <tr>\n",
       "      <td>0</td>\n",
       "      <td>1</td>\n",
       "      <td>00:18:18</td>\n",
       "      <td>5</td>\n",
       "    </tr>\n",
       "    <tr>\n",
       "      <td>1</td>\n",
       "      <td>2</td>\n",
       "      <td>00:13:31</td>\n",
       "      <td>4</td>\n",
       "    </tr>\n",
       "    <tr>\n",
       "      <td>2</td>\n",
       "      <td>3</td>\n",
       "      <td>00:10:55</td>\n",
       "      <td>5</td>\n",
       "    </tr>\n",
       "    <tr>\n",
       "      <td>3</td>\n",
       "      <td>4</td>\n",
       "      <td>00:12:21</td>\n",
       "      <td>4</td>\n",
       "    </tr>\n",
       "    <tr>\n",
       "      <td>4</td>\n",
       "      <td>5</td>\n",
       "      <td>00:14:29</td>\n",
       "      <td>4</td>\n",
       "    </tr>\n",
       "  </tbody>\n",
       "</table>\n",
       "</div>"
      ],
      "text/plain": [
       "   key heating_time_sum  heating_time_count\n",
       "0    1         00:18:18                   5\n",
       "1    2         00:13:31                   4\n",
       "2    3         00:10:55                   5\n",
       "3    4         00:12:21                   4\n",
       "4    5         00:14:29                   4"
      ]
     },
     "execution_count": 28,
     "metadata": {},
     "output_type": "execute_result"
    }
   ],
   "source": [
    "table = time_per_key.merge(count_heating ,on='key')\n",
    "table.head()"
   ]
  },
  {
   "cell_type": "code",
   "execution_count": 29,
   "metadata": {},
   "outputs": [
    {
     "data": {
      "text/html": [
       "<div>\n",
       "<style scoped>\n",
       "    .dataframe tbody tr th:only-of-type {\n",
       "        vertical-align: middle;\n",
       "    }\n",
       "\n",
       "    .dataframe tbody tr th {\n",
       "        vertical-align: top;\n",
       "    }\n",
       "\n",
       "    .dataframe thead th {\n",
       "        text-align: right;\n",
       "    }\n",
       "</style>\n",
       "<table border=\"1\" class=\"dataframe\">\n",
       "  <thead>\n",
       "    <tr style=\"text-align: right;\">\n",
       "      <th></th>\n",
       "      <th>key</th>\n",
       "      <th>heating_time_sum</th>\n",
       "      <th>heating_time_count</th>\n",
       "      <th>active_power_mean</th>\n",
       "      <th>reactive_power_mean</th>\n",
       "      <th>active_power\\reactive_power</th>\n",
       "    </tr>\n",
       "  </thead>\n",
       "  <tbody>\n",
       "    <tr>\n",
       "      <td>0</td>\n",
       "      <td>1</td>\n",
       "      <td>00:18:18</td>\n",
       "      <td>5</td>\n",
       "      <td>0.975629</td>\n",
       "      <td>0.636648</td>\n",
       "      <td>1.532447</td>\n",
       "    </tr>\n",
       "    <tr>\n",
       "      <td>1</td>\n",
       "      <td>2</td>\n",
       "      <td>00:13:31</td>\n",
       "      <td>4</td>\n",
       "      <td>0.763150</td>\n",
       "      <td>0.499528</td>\n",
       "      <td>1.527741</td>\n",
       "    </tr>\n",
       "    <tr>\n",
       "      <td>2</td>\n",
       "      <td>3</td>\n",
       "      <td>00:10:55</td>\n",
       "      <td>5</td>\n",
       "      <td>0.505176</td>\n",
       "      <td>0.319815</td>\n",
       "      <td>1.579589</td>\n",
       "    </tr>\n",
       "    <tr>\n",
       "      <td>3</td>\n",
       "      <td>4</td>\n",
       "      <td>00:12:21</td>\n",
       "      <td>4</td>\n",
       "      <td>0.802313</td>\n",
       "      <td>0.515074</td>\n",
       "      <td>1.557663</td>\n",
       "    </tr>\n",
       "    <tr>\n",
       "      <td>4</td>\n",
       "      <td>5</td>\n",
       "      <td>00:14:29</td>\n",
       "      <td>4</td>\n",
       "      <td>0.836793</td>\n",
       "      <td>0.563161</td>\n",
       "      <td>1.485887</td>\n",
       "    </tr>\n",
       "  </tbody>\n",
       "</table>\n",
       "</div>"
      ],
      "text/plain": [
       "   key heating_time_sum  heating_time_count  active_power_mean  \\\n",
       "0    1         00:18:18                   5           0.975629   \n",
       "1    2         00:13:31                   4           0.763150   \n",
       "2    3         00:10:55                   5           0.505176   \n",
       "3    4         00:12:21                   4           0.802313   \n",
       "4    5         00:14:29                   4           0.836793   \n",
       "\n",
       "   reactive_power_mean  active_power\\reactive_power  \n",
       "0             0.636648                     1.532447  \n",
       "1             0.499528                     1.527741  \n",
       "2             0.319815                     1.579589  \n",
       "3             0.515074                     1.557663  \n",
       "4             0.563161                     1.485887  "
      ]
     },
     "execution_count": 29,
     "metadata": {},
     "output_type": "execute_result"
    }
   ],
   "source": [
    "table = table.merge(mean_ratio_power ,on='key')\n",
    "table.head()"
   ]
  },
  {
   "cell_type": "code",
   "execution_count": 30,
   "metadata": {},
   "outputs": [
    {
     "data": {
      "text/html": [
       "<div>\n",
       "<style scoped>\n",
       "    .dataframe tbody tr th:only-of-type {\n",
       "        vertical-align: middle;\n",
       "    }\n",
       "\n",
       "    .dataframe tbody tr th {\n",
       "        vertical-align: top;\n",
       "    }\n",
       "\n",
       "    .dataframe thead th {\n",
       "        text-align: right;\n",
       "    }\n",
       "</style>\n",
       "<table border=\"1\" class=\"dataframe\">\n",
       "  <thead>\n",
       "    <tr style=\"text-align: right;\">\n",
       "      <th></th>\n",
       "      <th>key</th>\n",
       "      <th>heating_time_sum</th>\n",
       "      <th>heating_time_count</th>\n",
       "      <th>active_power_mean</th>\n",
       "      <th>reactive_power_mean</th>\n",
       "      <th>active_power\\reactive_power</th>\n",
       "      <th>time_temperature</th>\n",
       "      <th>start_time_temperature</th>\n",
       "      <th>temperature_difference</th>\n",
       "    </tr>\n",
       "  </thead>\n",
       "  <tbody>\n",
       "    <tr>\n",
       "      <td>0</td>\n",
       "      <td>1</td>\n",
       "      <td>00:18:18</td>\n",
       "      <td>5</td>\n",
       "      <td>0.975629</td>\n",
       "      <td>0.636648</td>\n",
       "      <td>1.532447</td>\n",
       "      <td>2019-05-03 11:30:39</td>\n",
       "      <td>2019-05-03 11:16:18</td>\n",
       "      <td>00:14:21</td>\n",
       "    </tr>\n",
       "    <tr>\n",
       "      <td>1</td>\n",
       "      <td>2</td>\n",
       "      <td>00:13:31</td>\n",
       "      <td>4</td>\n",
       "      <td>0.763150</td>\n",
       "      <td>0.499528</td>\n",
       "      <td>1.527741</td>\n",
       "      <td>2019-05-03 11:59:12</td>\n",
       "      <td>2019-05-03 11:37:27</td>\n",
       "      <td>00:21:45</td>\n",
       "    </tr>\n",
       "    <tr>\n",
       "      <td>2</td>\n",
       "      <td>3</td>\n",
       "      <td>00:10:55</td>\n",
       "      <td>5</td>\n",
       "      <td>0.505176</td>\n",
       "      <td>0.319815</td>\n",
       "      <td>1.579589</td>\n",
       "      <td>2019-05-03 12:34:57</td>\n",
       "      <td>2019-05-03 12:13:17</td>\n",
       "      <td>00:21:40</td>\n",
       "    </tr>\n",
       "    <tr>\n",
       "      <td>3</td>\n",
       "      <td>4</td>\n",
       "      <td>00:12:21</td>\n",
       "      <td>4</td>\n",
       "      <td>0.802313</td>\n",
       "      <td>0.515074</td>\n",
       "      <td>1.557663</td>\n",
       "      <td>2019-05-03 12:59:25</td>\n",
       "      <td>2019-05-03 12:52:57</td>\n",
       "      <td>00:06:28</td>\n",
       "    </tr>\n",
       "    <tr>\n",
       "      <td>4</td>\n",
       "      <td>5</td>\n",
       "      <td>00:14:29</td>\n",
       "      <td>4</td>\n",
       "      <td>0.836793</td>\n",
       "      <td>0.563161</td>\n",
       "      <td>1.485887</td>\n",
       "      <td>2019-05-03 13:36:01</td>\n",
       "      <td>2019-05-03 13:23:19</td>\n",
       "      <td>00:12:42</td>\n",
       "    </tr>\n",
       "  </tbody>\n",
       "</table>\n",
       "</div>"
      ],
      "text/plain": [
       "   key heating_time_sum  heating_time_count  active_power_mean  \\\n",
       "0    1         00:18:18                   5           0.975629   \n",
       "1    2         00:13:31                   4           0.763150   \n",
       "2    3         00:10:55                   5           0.505176   \n",
       "3    4         00:12:21                   4           0.802313   \n",
       "4    5         00:14:29                   4           0.836793   \n",
       "\n",
       "   reactive_power_mean  active_power\\reactive_power    time_temperature  \\\n",
       "0             0.636648                     1.532447 2019-05-03 11:30:39   \n",
       "1             0.499528                     1.527741 2019-05-03 11:59:12   \n",
       "2             0.319815                     1.579589 2019-05-03 12:34:57   \n",
       "3             0.515074                     1.557663 2019-05-03 12:59:25   \n",
       "4             0.563161                     1.485887 2019-05-03 13:36:01   \n",
       "\n",
       "  start_time_temperature temperature_difference  \n",
       "0    2019-05-03 11:16:18               00:14:21  \n",
       "1    2019-05-03 11:37:27               00:21:45  \n",
       "2    2019-05-03 12:13:17               00:21:40  \n",
       "3    2019-05-03 12:52:57               00:06:28  \n",
       "4    2019-05-03 13:23:19               00:12:42  "
      ]
     },
     "execution_count": 30,
     "metadata": {},
     "output_type": "execute_result"
    }
   ],
   "source": [
    "table = table.merge(first_last_temp, on='key')\n",
    "table.head()"
   ]
  },
  {
   "cell_type": "code",
   "execution_count": 31,
   "metadata": {},
   "outputs": [
    {
     "name": "stdout",
     "output_type": "stream",
     "text": [
      "<class 'pandas.core.frame.DataFrame'>\n",
      "Int64Index: 3214 entries, 0 to 3213\n",
      "Data columns (total 9 columns):\n",
      "key                           3214 non-null int64\n",
      "heating_time_sum              3214 non-null timedelta64[ns]\n",
      "heating_time_count            3214 non-null int64\n",
      "active_power_mean             3214 non-null float64\n",
      "reactive_power_mean           3214 non-null float64\n",
      "eactive_power    3214 non-null float64\n",
      "time_temperature              3214 non-null datetime64[ns]\n",
      "start_time_temperature        3214 non-null datetime64[ns]\n",
      "temperature_difference        3214 non-null timedelta64[ns]\n",
      "dtypes: datetime64[ns](2), float64(3), int64(2), timedelta64[ns](2)\n",
      "memory usage: 251.1 KB\n"
     ]
    }
   ],
   "source": [
    "table.info()"
   ]
  },
  {
   "cell_type": "markdown",
   "metadata": {},
   "source": [
    "Объединим все интересующие нас признаки в одну таблицу."
   ]
  },
  {
   "cell_type": "code",
   "execution_count": 32,
   "metadata": {},
   "outputs": [
    {
     "data": {
      "text/html": [
       "<div>\n",
       "<style scoped>\n",
       "    .dataframe tbody tr th:only-of-type {\n",
       "        vertical-align: middle;\n",
       "    }\n",
       "\n",
       "    .dataframe tbody tr th {\n",
       "        vertical-align: top;\n",
       "    }\n",
       "\n",
       "    .dataframe thead th {\n",
       "        text-align: right;\n",
       "    }\n",
       "</style>\n",
       "<table border=\"1\" class=\"dataframe\">\n",
       "  <thead>\n",
       "    <tr style=\"text-align: right;\">\n",
       "      <th></th>\n",
       "      <th>key</th>\n",
       "      <th>time_temperature</th>\n",
       "      <th>temp_start</th>\n",
       "      <th>start_time_temperature</th>\n",
       "      <th>temperature</th>\n",
       "      <th>heating_time_sum</th>\n",
       "      <th>heating_time_count</th>\n",
       "      <th>active_power_mean</th>\n",
       "      <th>reactive_power_mean</th>\n",
       "      <th>active_power\\reactive_power</th>\n",
       "      <th>temperature_difference</th>\n",
       "    </tr>\n",
       "  </thead>\n",
       "  <tbody>\n",
       "    <tr>\n",
       "      <td>0</td>\n",
       "      <td>1</td>\n",
       "      <td>2019-05-03 11:30:39</td>\n",
       "      <td>1571.0</td>\n",
       "      <td>2019-05-03 11:16:18</td>\n",
       "      <td>1613.0</td>\n",
       "      <td>00:18:18</td>\n",
       "      <td>5.0</td>\n",
       "      <td>0.975629</td>\n",
       "      <td>0.636648</td>\n",
       "      <td>1.532447</td>\n",
       "      <td>00:14:21</td>\n",
       "    </tr>\n",
       "    <tr>\n",
       "      <td>1</td>\n",
       "      <td>2</td>\n",
       "      <td>2019-05-03 11:59:12</td>\n",
       "      <td>1577.0</td>\n",
       "      <td>2019-05-03 11:37:27</td>\n",
       "      <td>1602.0</td>\n",
       "      <td>00:13:31</td>\n",
       "      <td>4.0</td>\n",
       "      <td>0.763150</td>\n",
       "      <td>0.499528</td>\n",
       "      <td>1.527741</td>\n",
       "      <td>00:21:45</td>\n",
       "    </tr>\n",
       "    <tr>\n",
       "      <td>2</td>\n",
       "      <td>3</td>\n",
       "      <td>2019-05-03 12:34:57</td>\n",
       "      <td>1596.0</td>\n",
       "      <td>2019-05-03 12:13:17</td>\n",
       "      <td>1599.0</td>\n",
       "      <td>00:10:55</td>\n",
       "      <td>5.0</td>\n",
       "      <td>0.505176</td>\n",
       "      <td>0.319815</td>\n",
       "      <td>1.579589</td>\n",
       "      <td>00:21:40</td>\n",
       "    </tr>\n",
       "    <tr>\n",
       "      <td>3</td>\n",
       "      <td>4</td>\n",
       "      <td>2019-05-03 12:59:25</td>\n",
       "      <td>1601.0</td>\n",
       "      <td>2019-05-03 12:52:57</td>\n",
       "      <td>1625.0</td>\n",
       "      <td>00:12:21</td>\n",
       "      <td>4.0</td>\n",
       "      <td>0.802313</td>\n",
       "      <td>0.515074</td>\n",
       "      <td>1.557663</td>\n",
       "      <td>00:06:28</td>\n",
       "    </tr>\n",
       "    <tr>\n",
       "      <td>4</td>\n",
       "      <td>5</td>\n",
       "      <td>2019-05-03 13:36:01</td>\n",
       "      <td>1576.0</td>\n",
       "      <td>2019-05-03 13:23:19</td>\n",
       "      <td>1602.0</td>\n",
       "      <td>00:14:29</td>\n",
       "      <td>4.0</td>\n",
       "      <td>0.836793</td>\n",
       "      <td>0.563161</td>\n",
       "      <td>1.485887</td>\n",
       "      <td>00:12:42</td>\n",
       "    </tr>\n",
       "    <tr>\n",
       "      <td>...</td>\n",
       "      <td>...</td>\n",
       "      <td>...</td>\n",
       "      <td>...</td>\n",
       "      <td>...</td>\n",
       "      <td>...</td>\n",
       "      <td>...</td>\n",
       "      <td>...</td>\n",
       "      <td>...</td>\n",
       "      <td>...</td>\n",
       "      <td>...</td>\n",
       "      <td>...</td>\n",
       "    </tr>\n",
       "    <tr>\n",
       "      <td>2472</td>\n",
       "      <td>2495</td>\n",
       "      <td>2019-08-06 00:54:42</td>\n",
       "      <td>1570.0</td>\n",
       "      <td>2019-08-06 00:35:45</td>\n",
       "      <td>1591.0</td>\n",
       "      <td>00:12:03</td>\n",
       "      <td>4.0</td>\n",
       "      <td>0.802673</td>\n",
       "      <td>0.590194</td>\n",
       "      <td>1.360014</td>\n",
       "      <td>00:18:57</td>\n",
       "    </tr>\n",
       "    <tr>\n",
       "      <td>2473</td>\n",
       "      <td>2496</td>\n",
       "      <td>2019-08-06 01:29:52</td>\n",
       "      <td>1554.0</td>\n",
       "      <td>2019-08-06 01:02:54</td>\n",
       "      <td>1591.0</td>\n",
       "      <td>00:15:40</td>\n",
       "      <td>6.0</td>\n",
       "      <td>0.700511</td>\n",
       "      <td>0.468364</td>\n",
       "      <td>1.495654</td>\n",
       "      <td>00:26:58</td>\n",
       "    </tr>\n",
       "    <tr>\n",
       "      <td>2474</td>\n",
       "      <td>2497</td>\n",
       "      <td>2019-08-06 01:53:50</td>\n",
       "      <td>1571.0</td>\n",
       "      <td>2019-08-06 01:41:53</td>\n",
       "      <td>1589.0</td>\n",
       "      <td>00:09:29</td>\n",
       "      <td>3.0</td>\n",
       "      <td>0.737460</td>\n",
       "      <td>0.617090</td>\n",
       "      <td>1.195061</td>\n",
       "      <td>00:11:57</td>\n",
       "    </tr>\n",
       "    <tr>\n",
       "      <td>2475</td>\n",
       "      <td>2498</td>\n",
       "      <td>2019-08-06 02:25:31</td>\n",
       "      <td>1570.0</td>\n",
       "      <td>2019-08-06 02:03:49</td>\n",
       "      <td>1594.0</td>\n",
       "      <td>00:12:30</td>\n",
       "      <td>5.0</td>\n",
       "      <td>0.681745</td>\n",
       "      <td>0.471086</td>\n",
       "      <td>1.447179</td>\n",
       "      <td>00:21:42</td>\n",
       "    </tr>\n",
       "    <tr>\n",
       "      <td>2476</td>\n",
       "      <td>2499</td>\n",
       "      <td>2019-08-06 03:00:28</td>\n",
       "      <td>1569.0</td>\n",
       "      <td>2019-08-06 02:40:25</td>\n",
       "      <td>1603.0</td>\n",
       "      <td>00:14:43</td>\n",
       "      <td>4.0</td>\n",
       "      <td>1.024608</td>\n",
       "      <td>0.694466</td>\n",
       "      <td>1.475389</td>\n",
       "      <td>00:20:03</td>\n",
       "    </tr>\n",
       "  </tbody>\n",
       "</table>\n",
       "<p>2477 rows × 11 columns</p>\n",
       "</div>"
      ],
      "text/plain": [
       "       key    time_temperature  temp_start start_time_temperature  \\\n",
       "0        1 2019-05-03 11:30:39      1571.0    2019-05-03 11:16:18   \n",
       "1        2 2019-05-03 11:59:12      1577.0    2019-05-03 11:37:27   \n",
       "2        3 2019-05-03 12:34:57      1596.0    2019-05-03 12:13:17   \n",
       "3        4 2019-05-03 12:59:25      1601.0    2019-05-03 12:52:57   \n",
       "4        5 2019-05-03 13:36:01      1576.0    2019-05-03 13:23:19   \n",
       "...    ...                 ...         ...                    ...   \n",
       "2472  2495 2019-08-06 00:54:42      1570.0    2019-08-06 00:35:45   \n",
       "2473  2496 2019-08-06 01:29:52      1554.0    2019-08-06 01:02:54   \n",
       "2474  2497 2019-08-06 01:53:50      1571.0    2019-08-06 01:41:53   \n",
       "2475  2498 2019-08-06 02:25:31      1570.0    2019-08-06 02:03:49   \n",
       "2476  2499 2019-08-06 03:00:28      1569.0    2019-08-06 02:40:25   \n",
       "\n",
       "      temperature heating_time_sum  heating_time_count  active_power_mean  \\\n",
       "0          1613.0         00:18:18                 5.0           0.975629   \n",
       "1          1602.0         00:13:31                 4.0           0.763150   \n",
       "2          1599.0         00:10:55                 5.0           0.505176   \n",
       "3          1625.0         00:12:21                 4.0           0.802313   \n",
       "4          1602.0         00:14:29                 4.0           0.836793   \n",
       "...           ...              ...                 ...                ...   \n",
       "2472       1591.0         00:12:03                 4.0           0.802673   \n",
       "2473       1591.0         00:15:40                 6.0           0.700511   \n",
       "2474       1589.0         00:09:29                 3.0           0.737460   \n",
       "2475       1594.0         00:12:30                 5.0           0.681745   \n",
       "2476       1603.0         00:14:43                 4.0           1.024608   \n",
       "\n",
       "      reactive_power_mean  active_power\\reactive_power temperature_difference  \n",
       "0                0.636648                     1.532447               00:14:21  \n",
       "1                0.499528                     1.527741               00:21:45  \n",
       "2                0.319815                     1.579589               00:21:40  \n",
       "3                0.515074                     1.557663               00:06:28  \n",
       "4                0.563161                     1.485887               00:12:42  \n",
       "...                   ...                          ...                    ...  \n",
       "2472             0.590194                     1.360014               00:18:57  \n",
       "2473             0.468364                     1.495654               00:26:58  \n",
       "2474             0.617090                     1.195061               00:11:57  \n",
       "2475             0.471086                     1.447179               00:21:42  \n",
       "2476             0.694466                     1.475389               00:20:03  \n",
       "\n",
       "[2477 rows x 11 columns]"
      ]
     },
     "execution_count": 32,
     "metadata": {},
     "output_type": "execute_result"
    }
   ],
   "source": [
    "final_table=data_temp_pivot.merge(table, how='left', on=['key','time_temperature','start_time_temperature'])\n",
    "final_table"
   ]
  },
  {
   "cell_type": "markdown",
   "metadata": {},
   "source": [
    "Добавим дополнительные признаки о лигирующих присадках в общую таблицу."
   ]
  },
  {
   "cell_type": "code",
   "execution_count": 33,
   "metadata": {},
   "outputs": [
    {
     "data": {
      "text/html": [
       "<div>\n",
       "<style scoped>\n",
       "    .dataframe tbody tr th:only-of-type {\n",
       "        vertical-align: middle;\n",
       "    }\n",
       "\n",
       "    .dataframe tbody tr th {\n",
       "        vertical-align: top;\n",
       "    }\n",
       "\n",
       "    .dataframe thead th {\n",
       "        text-align: right;\n",
       "    }\n",
       "</style>\n",
       "<table border=\"1\" class=\"dataframe\">\n",
       "  <thead>\n",
       "    <tr style=\"text-align: right;\">\n",
       "      <th></th>\n",
       "      <th>key</th>\n",
       "      <th>Bulk 1</th>\n",
       "      <th>Bulk 2</th>\n",
       "      <th>Bulk 3</th>\n",
       "      <th>Bulk 4</th>\n",
       "      <th>Bulk 5</th>\n",
       "      <th>Bulk 6</th>\n",
       "      <th>Bulk 7</th>\n",
       "      <th>Bulk 8</th>\n",
       "      <th>Bulk 9</th>\n",
       "      <th>Bulk 10</th>\n",
       "      <th>Bulk 11</th>\n",
       "      <th>Bulk 12</th>\n",
       "      <th>Bulk 13</th>\n",
       "      <th>Bulk 14</th>\n",
       "      <th>Bulk 15</th>\n",
       "    </tr>\n",
       "  </thead>\n",
       "  <tbody>\n",
       "    <tr>\n",
       "      <td>0</td>\n",
       "      <td>1</td>\n",
       "      <td>NaN</td>\n",
       "      <td>NaN</td>\n",
       "      <td>NaN</td>\n",
       "      <td>43.0</td>\n",
       "      <td>NaN</td>\n",
       "      <td>NaN</td>\n",
       "      <td>NaN</td>\n",
       "      <td>NaN</td>\n",
       "      <td>NaN</td>\n",
       "      <td>NaN</td>\n",
       "      <td>NaN</td>\n",
       "      <td>206.0</td>\n",
       "      <td>NaN</td>\n",
       "      <td>150.0</td>\n",
       "      <td>154.0</td>\n",
       "    </tr>\n",
       "    <tr>\n",
       "      <td>1</td>\n",
       "      <td>2</td>\n",
       "      <td>NaN</td>\n",
       "      <td>NaN</td>\n",
       "      <td>NaN</td>\n",
       "      <td>73.0</td>\n",
       "      <td>NaN</td>\n",
       "      <td>NaN</td>\n",
       "      <td>NaN</td>\n",
       "      <td>NaN</td>\n",
       "      <td>NaN</td>\n",
       "      <td>NaN</td>\n",
       "      <td>NaN</td>\n",
       "      <td>206.0</td>\n",
       "      <td>NaN</td>\n",
       "      <td>149.0</td>\n",
       "      <td>154.0</td>\n",
       "    </tr>\n",
       "    <tr>\n",
       "      <td>2</td>\n",
       "      <td>3</td>\n",
       "      <td>NaN</td>\n",
       "      <td>NaN</td>\n",
       "      <td>NaN</td>\n",
       "      <td>34.0</td>\n",
       "      <td>NaN</td>\n",
       "      <td>NaN</td>\n",
       "      <td>NaN</td>\n",
       "      <td>NaN</td>\n",
       "      <td>NaN</td>\n",
       "      <td>NaN</td>\n",
       "      <td>NaN</td>\n",
       "      <td>205.0</td>\n",
       "      <td>NaN</td>\n",
       "      <td>152.0</td>\n",
       "      <td>153.0</td>\n",
       "    </tr>\n",
       "    <tr>\n",
       "      <td>3</td>\n",
       "      <td>4</td>\n",
       "      <td>NaN</td>\n",
       "      <td>NaN</td>\n",
       "      <td>NaN</td>\n",
       "      <td>81.0</td>\n",
       "      <td>NaN</td>\n",
       "      <td>NaN</td>\n",
       "      <td>NaN</td>\n",
       "      <td>NaN</td>\n",
       "      <td>NaN</td>\n",
       "      <td>NaN</td>\n",
       "      <td>NaN</td>\n",
       "      <td>207.0</td>\n",
       "      <td>NaN</td>\n",
       "      <td>153.0</td>\n",
       "      <td>154.0</td>\n",
       "    </tr>\n",
       "    <tr>\n",
       "      <td>4</td>\n",
       "      <td>5</td>\n",
       "      <td>NaN</td>\n",
       "      <td>NaN</td>\n",
       "      <td>NaN</td>\n",
       "      <td>78.0</td>\n",
       "      <td>NaN</td>\n",
       "      <td>NaN</td>\n",
       "      <td>NaN</td>\n",
       "      <td>NaN</td>\n",
       "      <td>NaN</td>\n",
       "      <td>NaN</td>\n",
       "      <td>NaN</td>\n",
       "      <td>203.0</td>\n",
       "      <td>NaN</td>\n",
       "      <td>151.0</td>\n",
       "      <td>152.0</td>\n",
       "    </tr>\n",
       "    <tr>\n",
       "      <td>...</td>\n",
       "      <td>...</td>\n",
       "      <td>...</td>\n",
       "      <td>...</td>\n",
       "      <td>...</td>\n",
       "      <td>...</td>\n",
       "      <td>...</td>\n",
       "      <td>...</td>\n",
       "      <td>...</td>\n",
       "      <td>...</td>\n",
       "      <td>...</td>\n",
       "      <td>...</td>\n",
       "      <td>...</td>\n",
       "      <td>...</td>\n",
       "      <td>...</td>\n",
       "      <td>...</td>\n",
       "      <td>...</td>\n",
       "    </tr>\n",
       "    <tr>\n",
       "      <td>3124</td>\n",
       "      <td>3237</td>\n",
       "      <td>NaN</td>\n",
       "      <td>NaN</td>\n",
       "      <td>170.0</td>\n",
       "      <td>NaN</td>\n",
       "      <td>NaN</td>\n",
       "      <td>NaN</td>\n",
       "      <td>NaN</td>\n",
       "      <td>NaN</td>\n",
       "      <td>NaN</td>\n",
       "      <td>NaN</td>\n",
       "      <td>NaN</td>\n",
       "      <td>252.0</td>\n",
       "      <td>NaN</td>\n",
       "      <td>130.0</td>\n",
       "      <td>206.0</td>\n",
       "    </tr>\n",
       "    <tr>\n",
       "      <td>3125</td>\n",
       "      <td>3238</td>\n",
       "      <td>NaN</td>\n",
       "      <td>NaN</td>\n",
       "      <td>126.0</td>\n",
       "      <td>NaN</td>\n",
       "      <td>NaN</td>\n",
       "      <td>NaN</td>\n",
       "      <td>NaN</td>\n",
       "      <td>NaN</td>\n",
       "      <td>NaN</td>\n",
       "      <td>NaN</td>\n",
       "      <td>NaN</td>\n",
       "      <td>254.0</td>\n",
       "      <td>NaN</td>\n",
       "      <td>108.0</td>\n",
       "      <td>106.0</td>\n",
       "    </tr>\n",
       "    <tr>\n",
       "      <td>3126</td>\n",
       "      <td>3239</td>\n",
       "      <td>NaN</td>\n",
       "      <td>NaN</td>\n",
       "      <td>NaN</td>\n",
       "      <td>NaN</td>\n",
       "      <td>NaN</td>\n",
       "      <td>114.0</td>\n",
       "      <td>NaN</td>\n",
       "      <td>NaN</td>\n",
       "      <td>NaN</td>\n",
       "      <td>NaN</td>\n",
       "      <td>NaN</td>\n",
       "      <td>158.0</td>\n",
       "      <td>NaN</td>\n",
       "      <td>270.0</td>\n",
       "      <td>88.0</td>\n",
       "    </tr>\n",
       "    <tr>\n",
       "      <td>3127</td>\n",
       "      <td>3240</td>\n",
       "      <td>NaN</td>\n",
       "      <td>NaN</td>\n",
       "      <td>NaN</td>\n",
       "      <td>NaN</td>\n",
       "      <td>NaN</td>\n",
       "      <td>26.0</td>\n",
       "      <td>NaN</td>\n",
       "      <td>NaN</td>\n",
       "      <td>NaN</td>\n",
       "      <td>NaN</td>\n",
       "      <td>NaN</td>\n",
       "      <td>NaN</td>\n",
       "      <td>NaN</td>\n",
       "      <td>192.0</td>\n",
       "      <td>54.0</td>\n",
       "    </tr>\n",
       "    <tr>\n",
       "      <td>3128</td>\n",
       "      <td>3241</td>\n",
       "      <td>NaN</td>\n",
       "      <td>NaN</td>\n",
       "      <td>NaN</td>\n",
       "      <td>NaN</td>\n",
       "      <td>NaN</td>\n",
       "      <td>NaN</td>\n",
       "      <td>NaN</td>\n",
       "      <td>NaN</td>\n",
       "      <td>NaN</td>\n",
       "      <td>NaN</td>\n",
       "      <td>NaN</td>\n",
       "      <td>NaN</td>\n",
       "      <td>NaN</td>\n",
       "      <td>180.0</td>\n",
       "      <td>52.0</td>\n",
       "    </tr>\n",
       "  </tbody>\n",
       "</table>\n",
       "<p>3129 rows × 16 columns</p>\n",
       "</div>"
      ],
      "text/plain": [
       "       key  Bulk 1  Bulk 2  Bulk 3  Bulk 4  Bulk 5  Bulk 6  Bulk 7  Bulk 8  \\\n",
       "0        1     NaN     NaN     NaN    43.0     NaN     NaN     NaN     NaN   \n",
       "1        2     NaN     NaN     NaN    73.0     NaN     NaN     NaN     NaN   \n",
       "2        3     NaN     NaN     NaN    34.0     NaN     NaN     NaN     NaN   \n",
       "3        4     NaN     NaN     NaN    81.0     NaN     NaN     NaN     NaN   \n",
       "4        5     NaN     NaN     NaN    78.0     NaN     NaN     NaN     NaN   \n",
       "...    ...     ...     ...     ...     ...     ...     ...     ...     ...   \n",
       "3124  3237     NaN     NaN   170.0     NaN     NaN     NaN     NaN     NaN   \n",
       "3125  3238     NaN     NaN   126.0     NaN     NaN     NaN     NaN     NaN   \n",
       "3126  3239     NaN     NaN     NaN     NaN     NaN   114.0     NaN     NaN   \n",
       "3127  3240     NaN     NaN     NaN     NaN     NaN    26.0     NaN     NaN   \n",
       "3128  3241     NaN     NaN     NaN     NaN     NaN     NaN     NaN     NaN   \n",
       "\n",
       "      Bulk 9  Bulk 10  Bulk 11  Bulk 12  Bulk 13  Bulk 14  Bulk 15  \n",
       "0        NaN      NaN      NaN    206.0      NaN    150.0    154.0  \n",
       "1        NaN      NaN      NaN    206.0      NaN    149.0    154.0  \n",
       "2        NaN      NaN      NaN    205.0      NaN    152.0    153.0  \n",
       "3        NaN      NaN      NaN    207.0      NaN    153.0    154.0  \n",
       "4        NaN      NaN      NaN    203.0      NaN    151.0    152.0  \n",
       "...      ...      ...      ...      ...      ...      ...      ...  \n",
       "3124     NaN      NaN      NaN    252.0      NaN    130.0    206.0  \n",
       "3125     NaN      NaN      NaN    254.0      NaN    108.0    106.0  \n",
       "3126     NaN      NaN      NaN    158.0      NaN    270.0     88.0  \n",
       "3127     NaN      NaN      NaN      NaN      NaN    192.0     54.0  \n",
       "3128     NaN      NaN      NaN      NaN      NaN    180.0     52.0  \n",
       "\n",
       "[3129 rows x 16 columns]"
      ]
     },
     "execution_count": 33,
     "metadata": {},
     "output_type": "execute_result"
    }
   ],
   "source": [
    "data_bulk"
   ]
  },
  {
   "cell_type": "code",
   "execution_count": 34,
   "metadata": {},
   "outputs": [
    {
     "name": "stdout",
     "output_type": "stream",
     "text": [
      "<class 'pandas.core.frame.DataFrame'>\n",
      "RangeIndex: 3129 entries, 0 to 3128\n",
      "Data columns (total 16 columns):\n",
      "key        3129 non-null int64\n",
      "Bulk 1     252 non-null float64\n",
      "Bulk 2     22 non-null float64\n",
      "Bulk 3     1298 non-null float64\n",
      "Bulk 4     1014 non-null float64\n",
      "Bulk 5     77 non-null float64\n",
      "Bulk 6     576 non-null float64\n",
      "Bulk 7     25 non-null float64\n",
      "Bulk 8     1 non-null float64\n",
      "Bulk 9     19 non-null float64\n",
      "Bulk 10    176 non-null float64\n",
      "Bulk 11    177 non-null float64\n",
      "Bulk 12    2450 non-null float64\n",
      "Bulk 13    18 non-null float64\n",
      "Bulk 14    2806 non-null float64\n",
      "Bulk 15    2248 non-null float64\n",
      "dtypes: float64(15), int64(1)\n",
      "memory usage: 391.2 KB\n"
     ]
    }
   ],
   "source": [
    "data_bulk.info()"
   ]
  },
  {
   "cell_type": "markdown",
   "metadata": {},
   "source": [
    "Заполним пропущенные значения по каждому столбцу 'Bulk' и возьмемм с собой в общую таблицу только те сыпучие материалы, которых больше по объему и которые могут сыграть большую роль в предсказании и обучении модели, а именно Bulk 12, Bulk 14, Bulk 15."
   ]
  },
  {
   "cell_type": "code",
   "execution_count": 35,
   "metadata": {},
   "outputs": [
    {
     "data": {
      "text/html": [
       "<div>\n",
       "<style scoped>\n",
       "    .dataframe tbody tr th:only-of-type {\n",
       "        vertical-align: middle;\n",
       "    }\n",
       "\n",
       "    .dataframe tbody tr th {\n",
       "        vertical-align: top;\n",
       "    }\n",
       "\n",
       "    .dataframe thead th {\n",
       "        text-align: right;\n",
       "    }\n",
       "</style>\n",
       "<table border=\"1\" class=\"dataframe\">\n",
       "  <thead>\n",
       "    <tr style=\"text-align: right;\">\n",
       "      <th></th>\n",
       "      <th>key</th>\n",
       "      <th>Bulk 12</th>\n",
       "      <th>Bulk 14</th>\n",
       "      <th>Bulk 15</th>\n",
       "    </tr>\n",
       "  </thead>\n",
       "  <tbody>\n",
       "    <tr>\n",
       "      <td>0</td>\n",
       "      <td>1</td>\n",
       "      <td>206.0</td>\n",
       "      <td>150.0</td>\n",
       "      <td>154.0</td>\n",
       "    </tr>\n",
       "    <tr>\n",
       "      <td>1</td>\n",
       "      <td>2</td>\n",
       "      <td>206.0</td>\n",
       "      <td>149.0</td>\n",
       "      <td>154.0</td>\n",
       "    </tr>\n",
       "    <tr>\n",
       "      <td>2</td>\n",
       "      <td>3</td>\n",
       "      <td>205.0</td>\n",
       "      <td>152.0</td>\n",
       "      <td>153.0</td>\n",
       "    </tr>\n",
       "    <tr>\n",
       "      <td>3</td>\n",
       "      <td>4</td>\n",
       "      <td>207.0</td>\n",
       "      <td>153.0</td>\n",
       "      <td>154.0</td>\n",
       "    </tr>\n",
       "    <tr>\n",
       "      <td>4</td>\n",
       "      <td>5</td>\n",
       "      <td>203.0</td>\n",
       "      <td>151.0</td>\n",
       "      <td>152.0</td>\n",
       "    </tr>\n",
       "    <tr>\n",
       "      <td>...</td>\n",
       "      <td>...</td>\n",
       "      <td>...</td>\n",
       "      <td>...</td>\n",
       "      <td>...</td>\n",
       "    </tr>\n",
       "    <tr>\n",
       "      <td>3124</td>\n",
       "      <td>3237</td>\n",
       "      <td>252.0</td>\n",
       "      <td>130.0</td>\n",
       "      <td>206.0</td>\n",
       "    </tr>\n",
       "    <tr>\n",
       "      <td>3125</td>\n",
       "      <td>3238</td>\n",
       "      <td>254.0</td>\n",
       "      <td>108.0</td>\n",
       "      <td>106.0</td>\n",
       "    </tr>\n",
       "    <tr>\n",
       "      <td>3126</td>\n",
       "      <td>3239</td>\n",
       "      <td>158.0</td>\n",
       "      <td>270.0</td>\n",
       "      <td>88.0</td>\n",
       "    </tr>\n",
       "    <tr>\n",
       "      <td>3127</td>\n",
       "      <td>3240</td>\n",
       "      <td>0.0</td>\n",
       "      <td>192.0</td>\n",
       "      <td>54.0</td>\n",
       "    </tr>\n",
       "    <tr>\n",
       "      <td>3128</td>\n",
       "      <td>3241</td>\n",
       "      <td>0.0</td>\n",
       "      <td>180.0</td>\n",
       "      <td>52.0</td>\n",
       "    </tr>\n",
       "  </tbody>\n",
       "</table>\n",
       "<p>3129 rows × 4 columns</p>\n",
       "</div>"
      ],
      "text/plain": [
       "       key  Bulk 12  Bulk 14  Bulk 15\n",
       "0        1    206.0    150.0    154.0\n",
       "1        2    206.0    149.0    154.0\n",
       "2        3    205.0    152.0    153.0\n",
       "3        4    207.0    153.0    154.0\n",
       "4        5    203.0    151.0    152.0\n",
       "...    ...      ...      ...      ...\n",
       "3124  3237    252.0    130.0    206.0\n",
       "3125  3238    254.0    108.0    106.0\n",
       "3126  3239    158.0    270.0     88.0\n",
       "3127  3240      0.0    192.0     54.0\n",
       "3128  3241      0.0    180.0     52.0\n",
       "\n",
       "[3129 rows x 4 columns]"
      ]
     },
     "execution_count": 35,
     "metadata": {},
     "output_type": "execute_result"
    }
   ],
   "source": [
    "bulk=data_bulk[['key','Bulk 12','Bulk 14','Bulk 15']]\n",
    "bulk=bulk.fillna(value=0)\n",
    "bulk"
   ]
  },
  {
   "cell_type": "code",
   "execution_count": 36,
   "metadata": {},
   "outputs": [
    {
     "name": "stdout",
     "output_type": "stream",
     "text": [
      "<class 'pandas.core.frame.DataFrame'>\n",
      "RangeIndex: 3129 entries, 0 to 3128\n",
      "Data columns (total 4 columns):\n",
      "key        3129 non-null int64\n",
      "Bulk 12    3129 non-null float64\n",
      "Bulk 14    3129 non-null float64\n",
      "Bulk 15    3129 non-null float64\n",
      "dtypes: float64(3), int64(1)\n",
      "memory usage: 97.9 KB\n"
     ]
    }
   ],
   "source": [
    "bulk.info()"
   ]
  },
  {
   "cell_type": "markdown",
   "metadata": {},
   "source": [
    "Выберем из таблицы data_wire единственный заполненный столбец 'Wire 1' и заполним пропуски средним значением по столбцу."
   ]
  },
  {
   "cell_type": "code",
   "execution_count": 37,
   "metadata": {},
   "outputs": [
    {
     "name": "stdout",
     "output_type": "stream",
     "text": [
      "<class 'pandas.core.frame.DataFrame'>\n",
      "RangeIndex: 3081 entries, 0 to 3080\n",
      "Data columns (total 10 columns):\n",
      "key       3081 non-null int64\n",
      "Wire 1    3055 non-null float64\n",
      "Wire 2    1079 non-null float64\n",
      "Wire 3    63 non-null float64\n",
      "Wire 4    14 non-null float64\n",
      "Wire 5    1 non-null float64\n",
      "Wire 6    73 non-null float64\n",
      "Wire 7    11 non-null float64\n",
      "Wire 8    19 non-null float64\n",
      "Wire 9    29 non-null float64\n",
      "dtypes: float64(9), int64(1)\n",
      "memory usage: 240.8 KB\n"
     ]
    }
   ],
   "source": [
    "data_wire.info()"
   ]
  },
  {
   "cell_type": "code",
   "execution_count": 38,
   "metadata": {},
   "outputs": [
    {
     "data": {
      "text/html": [
       "<div>\n",
       "<style scoped>\n",
       "    .dataframe tbody tr th:only-of-type {\n",
       "        vertical-align: middle;\n",
       "    }\n",
       "\n",
       "    .dataframe tbody tr th {\n",
       "        vertical-align: top;\n",
       "    }\n",
       "\n",
       "    .dataframe thead th {\n",
       "        text-align: right;\n",
       "    }\n",
       "</style>\n",
       "<table border=\"1\" class=\"dataframe\">\n",
       "  <thead>\n",
       "    <tr style=\"text-align: right;\">\n",
       "      <th></th>\n",
       "      <th>key</th>\n",
       "      <th>Wire 1</th>\n",
       "    </tr>\n",
       "  </thead>\n",
       "  <tbody>\n",
       "    <tr>\n",
       "      <td>0</td>\n",
       "      <td>1</td>\n",
       "      <td>60.059998</td>\n",
       "    </tr>\n",
       "    <tr>\n",
       "      <td>1</td>\n",
       "      <td>2</td>\n",
       "      <td>96.052315</td>\n",
       "    </tr>\n",
       "    <tr>\n",
       "      <td>2</td>\n",
       "      <td>3</td>\n",
       "      <td>91.160157</td>\n",
       "    </tr>\n",
       "    <tr>\n",
       "      <td>3</td>\n",
       "      <td>4</td>\n",
       "      <td>89.063515</td>\n",
       "    </tr>\n",
       "    <tr>\n",
       "      <td>4</td>\n",
       "      <td>5</td>\n",
       "      <td>89.238236</td>\n",
       "    </tr>\n",
       "    <tr>\n",
       "      <td>...</td>\n",
       "      <td>...</td>\n",
       "      <td>...</td>\n",
       "    </tr>\n",
       "    <tr>\n",
       "      <td>3076</td>\n",
       "      <td>3237</td>\n",
       "      <td>38.088959</td>\n",
       "    </tr>\n",
       "    <tr>\n",
       "      <td>3077</td>\n",
       "      <td>3238</td>\n",
       "      <td>56.128799</td>\n",
       "    </tr>\n",
       "    <tr>\n",
       "      <td>3078</td>\n",
       "      <td>3239</td>\n",
       "      <td>143.357761</td>\n",
       "    </tr>\n",
       "    <tr>\n",
       "      <td>3079</td>\n",
       "      <td>3240</td>\n",
       "      <td>34.070400</td>\n",
       "    </tr>\n",
       "    <tr>\n",
       "      <td>3080</td>\n",
       "      <td>3241</td>\n",
       "      <td>63.117595</td>\n",
       "    </tr>\n",
       "  </tbody>\n",
       "</table>\n",
       "<p>3081 rows × 2 columns</p>\n",
       "</div>"
      ],
      "text/plain": [
       "       key      Wire 1\n",
       "0        1   60.059998\n",
       "1        2   96.052315\n",
       "2        3   91.160157\n",
       "3        4   89.063515\n",
       "4        5   89.238236\n",
       "...    ...         ...\n",
       "3076  3237   38.088959\n",
       "3077  3238   56.128799\n",
       "3078  3239  143.357761\n",
       "3079  3240   34.070400\n",
       "3080  3241   63.117595\n",
       "\n",
       "[3081 rows x 2 columns]"
      ]
     },
     "execution_count": 38,
     "metadata": {},
     "output_type": "execute_result"
    }
   ],
   "source": [
    "wire=data_wire[['key','Wire 1']]\n",
    "wire=wire.fillna(0)\n",
    "wire"
   ]
  },
  {
   "cell_type": "markdown",
   "metadata": {},
   "source": [
    "Далее добавим данные по проволоке из таблицы wire, затем данные по присадкам из таблицы bulk, и наконец, данные по охлаждению газом из таблицы data_gas, в финальную таблицу по ключу key."
   ]
  },
  {
   "cell_type": "code",
   "execution_count": 39,
   "metadata": {},
   "outputs": [],
   "source": [
    "final_table=final_table.merge(wire,on='key', how='left')"
   ]
  },
  {
   "cell_type": "code",
   "execution_count": 40,
   "metadata": {},
   "outputs": [],
   "source": [
    "final_table=final_table.merge(bulk, on='key', how='left')"
   ]
  },
  {
   "cell_type": "code",
   "execution_count": 41,
   "metadata": {},
   "outputs": [],
   "source": [
    "final_table=final_table.merge(data_gas, on='key', how='left')"
   ]
  },
  {
   "cell_type": "markdown",
   "metadata": {},
   "source": [
    "Проверим наличие пропущенных значений NAN и удалим строки с пропусками."
   ]
  },
  {
   "cell_type": "code",
   "execution_count": 42,
   "metadata": {},
   "outputs": [
    {
     "name": "stdout",
     "output_type": "stream",
     "text": [
      "<class 'pandas.core.frame.DataFrame'>\n",
      "Int64Index: 2477 entries, 0 to 2476\n",
      "Data columns (total 16 columns):\n",
      "key                           2477 non-null int64\n",
      "time_temperature              2477 non-null datetime64[ns]\n",
      "temp_start                    2477 non-null float64\n",
      "start_time_temperature        2477 non-null datetime64[ns]\n",
      "temperature                   2477 non-null float64\n",
      "heating_time_sum              2475 non-null timedelta64[ns]\n",
      "heating_time_count            2475 non-null float64\n",
      "active_power_mean             2475 non-null float64\n",
      "reactive_power_mean           2475 non-null float64\n",
      "eactive_power    2475 non-null float64\n",
      "temperature_difference        2475 non-null timedelta64[ns]\n",
      "Wire 1                        2373 non-null float64\n",
      "Bulk 12                       2408 non-null float64\n",
      "Bulk 14                       2408 non-null float64\n",
      "Bulk 15                       2408 non-null float64\n",
      "gas                           2475 non-null float64\n",
      "dtypes: datetime64[ns](2), float64(11), int64(1), timedelta64[ns](2)\n",
      "memory usage: 329.0 KB\n"
     ]
    }
   ],
   "source": [
    "final_table.info()"
   ]
  },
  {
   "cell_type": "code",
   "execution_count": 43,
   "metadata": {},
   "outputs": [
    {
     "data": {
      "text/html": [
       "<div>\n",
       "<style scoped>\n",
       "    .dataframe tbody tr th:only-of-type {\n",
       "        vertical-align: middle;\n",
       "    }\n",
       "\n",
       "    .dataframe tbody tr th {\n",
       "        vertical-align: top;\n",
       "    }\n",
       "\n",
       "    .dataframe thead th {\n",
       "        text-align: right;\n",
       "    }\n",
       "</style>\n",
       "<table border=\"1\" class=\"dataframe\">\n",
       "  <thead>\n",
       "    <tr style=\"text-align: right;\">\n",
       "      <th></th>\n",
       "      <th>key</th>\n",
       "      <th>time_temperature</th>\n",
       "      <th>temp_start</th>\n",
       "      <th>start_time_temperature</th>\n",
       "      <th>temperature</th>\n",
       "      <th>heating_time_sum</th>\n",
       "      <th>heating_time_count</th>\n",
       "      <th>active_power_mean</th>\n",
       "      <th>reactive_power_mean</th>\n",
       "      <th>active_power\\reactive_power</th>\n",
       "      <th>temperature_difference</th>\n",
       "      <th>Wire 1</th>\n",
       "      <th>Bulk 12</th>\n",
       "      <th>Bulk 14</th>\n",
       "      <th>Bulk 15</th>\n",
       "      <th>gas</th>\n",
       "    </tr>\n",
       "  </thead>\n",
       "  <tbody>\n",
       "    <tr>\n",
       "      <td>0</td>\n",
       "      <td>1</td>\n",
       "      <td>2019-05-03 11:30:39</td>\n",
       "      <td>1571.0</td>\n",
       "      <td>2019-05-03 11:16:18</td>\n",
       "      <td>1613.0</td>\n",
       "      <td>00:18:18</td>\n",
       "      <td>5.0</td>\n",
       "      <td>0.975629</td>\n",
       "      <td>0.636648</td>\n",
       "      <td>1.532447</td>\n",
       "      <td>00:14:21</td>\n",
       "      <td>60.059998</td>\n",
       "      <td>206.0</td>\n",
       "      <td>150.0</td>\n",
       "      <td>154.0</td>\n",
       "      <td>29.749986</td>\n",
       "    </tr>\n",
       "    <tr>\n",
       "      <td>1</td>\n",
       "      <td>2</td>\n",
       "      <td>2019-05-03 11:59:12</td>\n",
       "      <td>1577.0</td>\n",
       "      <td>2019-05-03 11:37:27</td>\n",
       "      <td>1602.0</td>\n",
       "      <td>00:13:31</td>\n",
       "      <td>4.0</td>\n",
       "      <td>0.763150</td>\n",
       "      <td>0.499528</td>\n",
       "      <td>1.527741</td>\n",
       "      <td>00:21:45</td>\n",
       "      <td>96.052315</td>\n",
       "      <td>206.0</td>\n",
       "      <td>149.0</td>\n",
       "      <td>154.0</td>\n",
       "      <td>12.555561</td>\n",
       "    </tr>\n",
       "    <tr>\n",
       "      <td>2</td>\n",
       "      <td>3</td>\n",
       "      <td>2019-05-03 12:34:57</td>\n",
       "      <td>1596.0</td>\n",
       "      <td>2019-05-03 12:13:17</td>\n",
       "      <td>1599.0</td>\n",
       "      <td>00:10:55</td>\n",
       "      <td>5.0</td>\n",
       "      <td>0.505176</td>\n",
       "      <td>0.319815</td>\n",
       "      <td>1.579589</td>\n",
       "      <td>00:21:40</td>\n",
       "      <td>91.160157</td>\n",
       "      <td>205.0</td>\n",
       "      <td>152.0</td>\n",
       "      <td>153.0</td>\n",
       "      <td>28.554793</td>\n",
       "    </tr>\n",
       "    <tr>\n",
       "      <td>3</td>\n",
       "      <td>4</td>\n",
       "      <td>2019-05-03 12:59:25</td>\n",
       "      <td>1601.0</td>\n",
       "      <td>2019-05-03 12:52:57</td>\n",
       "      <td>1625.0</td>\n",
       "      <td>00:12:21</td>\n",
       "      <td>4.0</td>\n",
       "      <td>0.802313</td>\n",
       "      <td>0.515074</td>\n",
       "      <td>1.557663</td>\n",
       "      <td>00:06:28</td>\n",
       "      <td>89.063515</td>\n",
       "      <td>207.0</td>\n",
       "      <td>153.0</td>\n",
       "      <td>154.0</td>\n",
       "      <td>18.841219</td>\n",
       "    </tr>\n",
       "    <tr>\n",
       "      <td>4</td>\n",
       "      <td>5</td>\n",
       "      <td>2019-05-03 13:36:01</td>\n",
       "      <td>1576.0</td>\n",
       "      <td>2019-05-03 13:23:19</td>\n",
       "      <td>1602.0</td>\n",
       "      <td>00:14:29</td>\n",
       "      <td>4.0</td>\n",
       "      <td>0.836793</td>\n",
       "      <td>0.563161</td>\n",
       "      <td>1.485887</td>\n",
       "      <td>00:12:42</td>\n",
       "      <td>89.238236</td>\n",
       "      <td>203.0</td>\n",
       "      <td>151.0</td>\n",
       "      <td>152.0</td>\n",
       "      <td>5.413692</td>\n",
       "    </tr>\n",
       "    <tr>\n",
       "      <td>...</td>\n",
       "      <td>...</td>\n",
       "      <td>...</td>\n",
       "      <td>...</td>\n",
       "      <td>...</td>\n",
       "      <td>...</td>\n",
       "      <td>...</td>\n",
       "      <td>...</td>\n",
       "      <td>...</td>\n",
       "      <td>...</td>\n",
       "      <td>...</td>\n",
       "      <td>...</td>\n",
       "      <td>...</td>\n",
       "      <td>...</td>\n",
       "      <td>...</td>\n",
       "      <td>...</td>\n",
       "      <td>...</td>\n",
       "    </tr>\n",
       "    <tr>\n",
       "      <td>2472</td>\n",
       "      <td>2495</td>\n",
       "      <td>2019-08-06 00:54:42</td>\n",
       "      <td>1570.0</td>\n",
       "      <td>2019-08-06 00:35:45</td>\n",
       "      <td>1591.0</td>\n",
       "      <td>00:12:03</td>\n",
       "      <td>4.0</td>\n",
       "      <td>0.802673</td>\n",
       "      <td>0.590194</td>\n",
       "      <td>1.360014</td>\n",
       "      <td>00:18:57</td>\n",
       "      <td>89.150879</td>\n",
       "      <td>256.0</td>\n",
       "      <td>129.0</td>\n",
       "      <td>223.0</td>\n",
       "      <td>7.125735</td>\n",
       "    </tr>\n",
       "    <tr>\n",
       "      <td>2473</td>\n",
       "      <td>2496</td>\n",
       "      <td>2019-08-06 01:29:52</td>\n",
       "      <td>1554.0</td>\n",
       "      <td>2019-08-06 01:02:54</td>\n",
       "      <td>1591.0</td>\n",
       "      <td>00:15:40</td>\n",
       "      <td>6.0</td>\n",
       "      <td>0.700511</td>\n",
       "      <td>0.468364</td>\n",
       "      <td>1.495654</td>\n",
       "      <td>00:26:58</td>\n",
       "      <td>114.179527</td>\n",
       "      <td>256.0</td>\n",
       "      <td>129.0</td>\n",
       "      <td>226.0</td>\n",
       "      <td>9.412616</td>\n",
       "    </tr>\n",
       "    <tr>\n",
       "      <td>2474</td>\n",
       "      <td>2497</td>\n",
       "      <td>2019-08-06 01:53:50</td>\n",
       "      <td>1571.0</td>\n",
       "      <td>2019-08-06 01:41:53</td>\n",
       "      <td>1589.0</td>\n",
       "      <td>00:09:29</td>\n",
       "      <td>3.0</td>\n",
       "      <td>0.737460</td>\n",
       "      <td>0.617090</td>\n",
       "      <td>1.195061</td>\n",
       "      <td>00:11:57</td>\n",
       "      <td>94.086723</td>\n",
       "      <td>230.0</td>\n",
       "      <td>124.0</td>\n",
       "      <td>226.0</td>\n",
       "      <td>6.271699</td>\n",
       "    </tr>\n",
       "    <tr>\n",
       "      <td>2475</td>\n",
       "      <td>2498</td>\n",
       "      <td>2019-08-06 02:25:31</td>\n",
       "      <td>1570.0</td>\n",
       "      <td>2019-08-06 02:03:49</td>\n",
       "      <td>1594.0</td>\n",
       "      <td>00:12:30</td>\n",
       "      <td>5.0</td>\n",
       "      <td>0.681745</td>\n",
       "      <td>0.471086</td>\n",
       "      <td>1.447179</td>\n",
       "      <td>00:21:42</td>\n",
       "      <td>118.110717</td>\n",
       "      <td>206.0</td>\n",
       "      <td>129.0</td>\n",
       "      <td>207.0</td>\n",
       "      <td>14.953657</td>\n",
       "    </tr>\n",
       "    <tr>\n",
       "      <td>2476</td>\n",
       "      <td>2499</td>\n",
       "      <td>2019-08-06 03:00:28</td>\n",
       "      <td>1569.0</td>\n",
       "      <td>2019-08-06 02:40:25</td>\n",
       "      <td>1603.0</td>\n",
       "      <td>00:14:43</td>\n",
       "      <td>4.0</td>\n",
       "      <td>1.024608</td>\n",
       "      <td>0.694466</td>\n",
       "      <td>1.475389</td>\n",
       "      <td>00:20:03</td>\n",
       "      <td>110.160958</td>\n",
       "      <td>233.0</td>\n",
       "      <td>126.0</td>\n",
       "      <td>227.0</td>\n",
       "      <td>11.336151</td>\n",
       "    </tr>\n",
       "  </tbody>\n",
       "</table>\n",
       "<p>2329 rows × 16 columns</p>\n",
       "</div>"
      ],
      "text/plain": [
       "       key    time_temperature  temp_start start_time_temperature  \\\n",
       "0        1 2019-05-03 11:30:39      1571.0    2019-05-03 11:16:18   \n",
       "1        2 2019-05-03 11:59:12      1577.0    2019-05-03 11:37:27   \n",
       "2        3 2019-05-03 12:34:57      1596.0    2019-05-03 12:13:17   \n",
       "3        4 2019-05-03 12:59:25      1601.0    2019-05-03 12:52:57   \n",
       "4        5 2019-05-03 13:36:01      1576.0    2019-05-03 13:23:19   \n",
       "...    ...                 ...         ...                    ...   \n",
       "2472  2495 2019-08-06 00:54:42      1570.0    2019-08-06 00:35:45   \n",
       "2473  2496 2019-08-06 01:29:52      1554.0    2019-08-06 01:02:54   \n",
       "2474  2497 2019-08-06 01:53:50      1571.0    2019-08-06 01:41:53   \n",
       "2475  2498 2019-08-06 02:25:31      1570.0    2019-08-06 02:03:49   \n",
       "2476  2499 2019-08-06 03:00:28      1569.0    2019-08-06 02:40:25   \n",
       "\n",
       "      temperature heating_time_sum  heating_time_count  active_power_mean  \\\n",
       "0          1613.0         00:18:18                 5.0           0.975629   \n",
       "1          1602.0         00:13:31                 4.0           0.763150   \n",
       "2          1599.0         00:10:55                 5.0           0.505176   \n",
       "3          1625.0         00:12:21                 4.0           0.802313   \n",
       "4          1602.0         00:14:29                 4.0           0.836793   \n",
       "...           ...              ...                 ...                ...   \n",
       "2472       1591.0         00:12:03                 4.0           0.802673   \n",
       "2473       1591.0         00:15:40                 6.0           0.700511   \n",
       "2474       1589.0         00:09:29                 3.0           0.737460   \n",
       "2475       1594.0         00:12:30                 5.0           0.681745   \n",
       "2476       1603.0         00:14:43                 4.0           1.024608   \n",
       "\n",
       "      reactive_power_mean  active_power\\reactive_power temperature_difference  \\\n",
       "0                0.636648                     1.532447               00:14:21   \n",
       "1                0.499528                     1.527741               00:21:45   \n",
       "2                0.319815                     1.579589               00:21:40   \n",
       "3                0.515074                     1.557663               00:06:28   \n",
       "4                0.563161                     1.485887               00:12:42   \n",
       "...                   ...                          ...                    ...   \n",
       "2472             0.590194                     1.360014               00:18:57   \n",
       "2473             0.468364                     1.495654               00:26:58   \n",
       "2474             0.617090                     1.195061               00:11:57   \n",
       "2475             0.471086                     1.447179               00:21:42   \n",
       "2476             0.694466                     1.475389               00:20:03   \n",
       "\n",
       "          Wire 1  Bulk 12  Bulk 14  Bulk 15        gas  \n",
       "0      60.059998    206.0    150.0    154.0  29.749986  \n",
       "1      96.052315    206.0    149.0    154.0  12.555561  \n",
       "2      91.160157    205.0    152.0    153.0  28.554793  \n",
       "3      89.063515    207.0    153.0    154.0  18.841219  \n",
       "4      89.238236    203.0    151.0    152.0   5.413692  \n",
       "...          ...      ...      ...      ...        ...  \n",
       "2472   89.150879    256.0    129.0    223.0   7.125735  \n",
       "2473  114.179527    256.0    129.0    226.0   9.412616  \n",
       "2474   94.086723    230.0    124.0    226.0   6.271699  \n",
       "2475  118.110717    206.0    129.0    207.0  14.953657  \n",
       "2476  110.160958    233.0    126.0    227.0  11.336151  \n",
       "\n",
       "[2329 rows x 16 columns]"
      ]
     },
     "execution_count": 43,
     "metadata": {},
     "output_type": "execute_result"
    }
   ],
   "source": [
    "final_table=final_table.dropna()\n",
    "final_table"
   ]
  },
  {
   "cell_type": "markdown",
   "metadata": {},
   "source": [
    "Вытащим из колонки \"heating_time_sum\" (суммарное время нагрева электродами), который находится в формате timedelta значение в секундах, и добавим в финальную таблицу."
   ]
  },
  {
   "cell_type": "code",
   "execution_count": 44,
   "metadata": {},
   "outputs": [],
   "source": [
    "k=[]\n",
    "for i in final_table['heating_time_sum']:\n",
    "    y=i.total_seconds()\n",
    "    k.append(y)\n",
    "final_table['heating_time_seconds'] = k"
   ]
  },
  {
   "cell_type": "markdown",
   "metadata": {},
   "source": [
    "Вытащим из колонки \"temperature_difference\" (Длительность между замерами температур), который находится в формате timedelta значение в секундах, и добавим в финальную таблицу."
   ]
  },
  {
   "cell_type": "code",
   "execution_count": 45,
   "metadata": {},
   "outputs": [],
   "source": [
    "t=[]\n",
    "for i in final_table['temperature_difference']:\n",
    "    y=i.total_seconds()\n",
    "    t.append(y)\n",
    "final_table['temperature_difference_seconds']=t"
   ]
  },
  {
   "cell_type": "code",
   "execution_count": 46,
   "metadata": {},
   "outputs": [
    {
     "name": "stdout",
     "output_type": "stream",
     "text": [
      "<class 'pandas.core.frame.DataFrame'>\n",
      "Int64Index: 2329 entries, 0 to 2476\n",
      "Data columns (total 18 columns):\n",
      "key                               2329 non-null int64\n",
      "time_temperature                  2329 non-null datetime64[ns]\n",
      "temp_start                        2329 non-null float64\n",
      "start_time_temperature            2329 non-null datetime64[ns]\n",
      "temperature                       2329 non-null float64\n",
      "heating_time_sum                  2329 non-null timedelta64[ns]\n",
      "heating_time_count                2329 non-null float64\n",
      "active_power_mean                 2329 non-null float64\n",
      "reactive_power_mean               2329 non-null float64\n",
      "eactive_power        2329 non-null float64\n",
      "temperature_difference            2329 non-null timedelta64[ns]\n",
      "Wire 1                            2329 non-null float64\n",
      "Bulk 12                           2329 non-null float64\n",
      "Bulk 14                           2329 non-null float64\n",
      "Bulk 15                           2329 non-null float64\n",
      "gas                               2329 non-null float64\n",
      "heating_time_seconds              2329 non-null float64\n",
      "temperature_difference_seconds    2329 non-null float64\n",
      "dtypes: datetime64[ns](2), float64(13), int64(1), timedelta64[ns](2)\n",
      "memory usage: 345.7 KB\n"
     ]
    }
   ],
   "source": [
    "final_table.info()"
   ]
  },
  {
   "cell_type": "markdown",
   "metadata": {},
   "source": [
    "Удалим колонки с форматами timedelta и datetime для использования нашей таблицы в моделях, а так же колонку key, ибо эти данные не несут никаких бизнес-показателй для определения целевого признака."
   ]
  },
  {
   "cell_type": "markdown",
   "metadata": {},
   "source": [
    "👍 👍 "
   ]
  },
  {
   "cell_type": "code",
   "execution_count": 47,
   "metadata": {},
   "outputs": [
    {
     "data": {
      "text/html": [
       "<div>\n",
       "<style scoped>\n",
       "    .dataframe tbody tr th:only-of-type {\n",
       "        vertical-align: middle;\n",
       "    }\n",
       "\n",
       "    .dataframe tbody tr th {\n",
       "        vertical-align: top;\n",
       "    }\n",
       "\n",
       "    .dataframe thead th {\n",
       "        text-align: right;\n",
       "    }\n",
       "</style>\n",
       "<table border=\"1\" class=\"dataframe\">\n",
       "  <thead>\n",
       "    <tr style=\"text-align: right;\">\n",
       "      <th></th>\n",
       "      <th>temp_start</th>\n",
       "      <th>temperature</th>\n",
       "      <th>heating_time_count</th>\n",
       "      <th>active_power_mean</th>\n",
       "      <th>reactive_power_mean</th>\n",
       "      <th>active_power\\reactive_power</th>\n",
       "      <th>Wire 1</th>\n",
       "      <th>Bulk 12</th>\n",
       "      <th>Bulk 14</th>\n",
       "      <th>Bulk 15</th>\n",
       "      <th>gas</th>\n",
       "      <th>heating_time_seconds</th>\n",
       "      <th>temperature_difference_seconds</th>\n",
       "    </tr>\n",
       "  </thead>\n",
       "  <tbody>\n",
       "    <tr>\n",
       "      <td>0</td>\n",
       "      <td>1571.0</td>\n",
       "      <td>1613.0</td>\n",
       "      <td>5.0</td>\n",
       "      <td>0.975629</td>\n",
       "      <td>0.636648</td>\n",
       "      <td>1.532447</td>\n",
       "      <td>60.059998</td>\n",
       "      <td>206.0</td>\n",
       "      <td>150.0</td>\n",
       "      <td>154.0</td>\n",
       "      <td>29.749986</td>\n",
       "      <td>1098.0</td>\n",
       "      <td>861.0</td>\n",
       "    </tr>\n",
       "    <tr>\n",
       "      <td>1</td>\n",
       "      <td>1577.0</td>\n",
       "      <td>1602.0</td>\n",
       "      <td>4.0</td>\n",
       "      <td>0.763150</td>\n",
       "      <td>0.499528</td>\n",
       "      <td>1.527741</td>\n",
       "      <td>96.052315</td>\n",
       "      <td>206.0</td>\n",
       "      <td>149.0</td>\n",
       "      <td>154.0</td>\n",
       "      <td>12.555561</td>\n",
       "      <td>811.0</td>\n",
       "      <td>1305.0</td>\n",
       "    </tr>\n",
       "    <tr>\n",
       "      <td>2</td>\n",
       "      <td>1596.0</td>\n",
       "      <td>1599.0</td>\n",
       "      <td>5.0</td>\n",
       "      <td>0.505176</td>\n",
       "      <td>0.319815</td>\n",
       "      <td>1.579589</td>\n",
       "      <td>91.160157</td>\n",
       "      <td>205.0</td>\n",
       "      <td>152.0</td>\n",
       "      <td>153.0</td>\n",
       "      <td>28.554793</td>\n",
       "      <td>655.0</td>\n",
       "      <td>1300.0</td>\n",
       "    </tr>\n",
       "    <tr>\n",
       "      <td>3</td>\n",
       "      <td>1601.0</td>\n",
       "      <td>1625.0</td>\n",
       "      <td>4.0</td>\n",
       "      <td>0.802313</td>\n",
       "      <td>0.515074</td>\n",
       "      <td>1.557663</td>\n",
       "      <td>89.063515</td>\n",
       "      <td>207.0</td>\n",
       "      <td>153.0</td>\n",
       "      <td>154.0</td>\n",
       "      <td>18.841219</td>\n",
       "      <td>741.0</td>\n",
       "      <td>388.0</td>\n",
       "    </tr>\n",
       "    <tr>\n",
       "      <td>4</td>\n",
       "      <td>1576.0</td>\n",
       "      <td>1602.0</td>\n",
       "      <td>4.0</td>\n",
       "      <td>0.836793</td>\n",
       "      <td>0.563161</td>\n",
       "      <td>1.485887</td>\n",
       "      <td>89.238236</td>\n",
       "      <td>203.0</td>\n",
       "      <td>151.0</td>\n",
       "      <td>152.0</td>\n",
       "      <td>5.413692</td>\n",
       "      <td>869.0</td>\n",
       "      <td>762.0</td>\n",
       "    </tr>\n",
       "  </tbody>\n",
       "</table>\n",
       "</div>"
      ],
      "text/plain": [
       "   temp_start  temperature  heating_time_count  active_power_mean  \\\n",
       "0      1571.0       1613.0                 5.0           0.975629   \n",
       "1      1577.0       1602.0                 4.0           0.763150   \n",
       "2      1596.0       1599.0                 5.0           0.505176   \n",
       "3      1601.0       1625.0                 4.0           0.802313   \n",
       "4      1576.0       1602.0                 4.0           0.836793   \n",
       "\n",
       "   reactive_power_mean  active_power\\reactive_power     Wire 1  Bulk 12  \\\n",
       "0             0.636648                     1.532447  60.059998    206.0   \n",
       "1             0.499528                     1.527741  96.052315    206.0   \n",
       "2             0.319815                     1.579589  91.160157    205.0   \n",
       "3             0.515074                     1.557663  89.063515    207.0   \n",
       "4             0.563161                     1.485887  89.238236    203.0   \n",
       "\n",
       "   Bulk 14  Bulk 15        gas  heating_time_seconds  \\\n",
       "0    150.0    154.0  29.749986                1098.0   \n",
       "1    149.0    154.0  12.555561                 811.0   \n",
       "2    152.0    153.0  28.554793                 655.0   \n",
       "3    153.0    154.0  18.841219                 741.0   \n",
       "4    151.0    152.0   5.413692                 869.0   \n",
       "\n",
       "   temperature_difference_seconds  \n",
       "0                           861.0  \n",
       "1                          1305.0  \n",
       "2                          1300.0  \n",
       "3                           388.0  \n",
       "4                           762.0  "
      ]
     },
     "execution_count": 47,
     "metadata": {},
     "output_type": "execute_result"
    }
   ],
   "source": [
    "model_fin_table=final_table.copy()\n",
    "model_fin_table=model_fin_table.drop(columns=['key','time_temperature','start_time_temperature','heating_time_sum','temperature_difference'])\n",
    "model_fin_table.head()"
   ]
  },
  {
   "cell_type": "code",
   "execution_count": 48,
   "metadata": {},
   "outputs": [
    {
     "name": "stdout",
     "output_type": "stream",
     "text": [
      "<class 'pandas.core.frame.DataFrame'>\n",
      "Int64Index: 2329 entries, 0 to 2476\n",
      "Data columns (total 13 columns):\n",
      "temp_start                        2329 non-null float64\n",
      "temperature                       2329 non-null float64\n",
      "heating_time_count                2329 non-null float64\n",
      "active_power_mean                 2329 non-null float64\n",
      "reactive_power_mean               2329 non-null float64\n",
      "eactive_power        2329 non-null float64\n",
      "Wire 1                            2329 non-null float64\n",
      "Bulk 12                           2329 non-null float64\n",
      "Bulk 14                           2329 non-null float64\n",
      "Bulk 15                           2329 non-null float64\n",
      "gas                               2329 non-null float64\n",
      "heating_time_seconds              2329 non-null float64\n",
      "temperature_difference_seconds    2329 non-null float64\n",
      "dtypes: float64(13)\n",
      "memory usage: 254.7 KB\n"
     ]
    }
   ],
   "source": [
    "model_fin_table.info()"
   ]
  },
  {
   "cell_type": "markdown",
   "metadata": {},
   "source": [
    "Посмотрим на коррелирующие данные в нашей финальной таблице."
   ]
  },
  {
   "cell_type": "code",
   "execution_count": 49,
   "metadata": {},
   "outputs": [
    {
     "data": {
      "image/png": "[encoded data removed]",
      "text/plain": [
       "<Figure size 1152x360 with 2 Axes>"
      ]
     },
     "metadata": {
      "needs_background": "light"
     },
     "output_type": "display_data"
    }
   ],
   "source": [
    "plt.figure(figsize=(16, 5))\n",
    "sns.heatmap(model_fin_table[[\n",
    "    'temp_start', 'temperature', \n",
    "    'heating_time_count', 'active_power_mean', \n",
    "    'reactive_power_mean', 'active_power\\reactive_power', \n",
    "    'Wire 1', 'Bulk 12', 'Bulk 14', 'Bulk 15', 'gas', \n",
    "    'heating_time_seconds', 'temperature_difference_seconds'    \n",
    "]].corr().abs(), cmap='Greens', alpha=0.6,\n",
    "           annot=True, fmt='.2f'\n",
    "           );\n",
    "plt.title('Матрица корреляций признаков', fontsize=16)\n",
    "plt.show()"
   ]
  },
  {
   "cell_type": "markdown",
   "metadata": {},
   "source": [
    "Из полученной таблицы можем видеть сильную коррелирующую зависимость двух мощностей (активной и реактивной), а так же время нагрева в секундах от количества запусков нагрева электродами, при дальнейшем обучении моделей на этих данных они могут мешать и модели могут давать неточные прогнозы. Но для того, чтобы понять какие данные стоит оставить, а какие нет мы посмотрим на график важности наилучшей модели.\n",
    "\n",
    "Вывод:\n",
    "\n",
    "Данные предобработаны, с пропущенными значениями и аномалиями разобрались, все необходимые признаки собрали в финальную таблицу. Вперед к обучению модели!"
   ]
  },
  {
   "cell_type": "markdown",
   "metadata": {},
   "source": [
    "# Обучение модели\n",
    "\n",
    "## Выделим тестовую и тренировочную выборки "
   ]
  },
  {
   "cell_type": "markdown",
   "metadata": {},
   "source": [
    "Данные были подготовлены для обучения модели.   \n",
    "Выделим целевой признак конечной температуры 'temperature'. Остальные же столбцы, или фичи, будут использованы для предсказания.   \n",
    "Разобьем данные на train и test к соотношению 75/25. "
   ]
  },
  {
   "cell_type": "code",
   "execution_count": 50,
   "metadata": {},
   "outputs": [],
   "source": [
    "f = model_fin_table.drop(columns='temperature')\n",
    "t = model_fin_table['temperature']"
   ]
  },
  {
   "cell_type": "code",
   "execution_count": 51,
   "metadata": {},
   "outputs": [],
   "source": [
    "f_train, f_test, t_train, t_test = train_test_split(f, t, test_size=0.25, random_state=42, shuffle=True)"
   ]
  },
  {
   "cell_type": "code",
   "execution_count": 52,
   "metadata": {},
   "outputs": [
    {
     "name": "stdout",
     "output_type": "stream",
     "text": [
      "Размер тренировочной выборки- 75%\n",
      "Размер тестовой выборки - 25%\n"
     ]
    }
   ],
   "source": [
    "train_sample=f_train.shape[0]/f.shape[0]\n",
    "test_sample=f_test.shape[0]/f.shape[0]\n",
    "\n",
    "print('Размер тренировочной выборки- {:.0%}'.format(train_sample))\n",
    "print('Размер тестовой выборки - {:.0%}'.format(test_sample))"
   ]
  },
  {
   "cell_type": "markdown",
   "metadata": {},
   "source": [
    "Выберем следующие модели для задачи регрессии:\n",
    "\n",
    "DecisionTreeRegressor  \n",
    "LinearRegression  \n",
    "GradientBoostingRegressor  \n",
    "CatBoostRegressor"
   ]
  },
  {
   "cell_type": "markdown",
   "metadata": {},
   "source": [
    "Создадим функцию, которая будет выводить график зависимости предсказанных значений от истинных, и метрики качества предсказаний. "
   ]
  },
  {
   "cell_type": "code",
   "execution_count": 53,
   "metadata": {},
   "outputs": [],
   "source": [
    "def graph(name,predict):\n",
    "    plt.figure(figsize=(8,8))\n",
    "    sns.regplot(x=t_test, y=predict)\n",
    "    plt.title('График распределения зависимости предсказанных от истинных значений', y=1.01)\n",
    "    plt.ylabel('Предсказанные значения')\n",
    "    plt.xlabel('Истинные значения')\n",
    "    plt.show()\n",
    "\n",
    "    print('MAE модели '+ name,': %.2f' % mean_absolute_error(t_test, predict))\n",
    "    print('RMSE модели '+ name,': %.2f' % (mean_squared_error(t_test, predict))**0.5)"
   ]
  },
  {
   "cell_type": "markdown",
   "metadata": {},
   "source": [
    "### DecisionTreeRegressor\n",
    "\n",
    "В качестве алгоритма предсказания целевого признака начнем с модели решающего дерева. Кросс-валидация будет заложена в GridSearch с помощью параметра cv=5. Обучим модель, найдем параметры, посчитаем МАE на тренировочной выборке, а затем и на тестовой, вместе со значением RMSE."
   ]
  },
  {
   "cell_type": "code",
   "execution_count": 54,
   "metadata": {},
   "outputs": [
    {
     "name": "stdout",
     "output_type": "stream",
     "text": [
      "Значение MAE на тренировочных данных равно: 5.64 \n",
      "Максимальная глубина: 7\n"
     ]
    }
   ],
   "source": [
    "parametrs_r = { 'max_depth': range (1,10),\n",
    "               'min_samples_leaf': range (1,5)}\n",
    "model_d = DecisionTreeRegressor(random_state=12345)  \n",
    "grid_dt = GridSearchCV(model_d, parametrs_r, cv=5, scoring='neg_mean_absolute_error')\n",
    "grid_dt.fit(f_train,t_train)\n",
    "best_score_dt = -1*grid_dt.best_score_\n",
    "parametrs_dt = pd.Series(grid_dt.best_params_)[0]\n",
    "predict_dt=grid_dt.predict(f_test)\n",
    "print('Значение MAE на тренировочных данных равно: {:.2f}'.format(best_score_dt), '\\nМаксимальная глубина:',parametrs_dt)"
   ]
  },
  {
   "cell_type": "code",
   "execution_count": 55,
   "metadata": {},
   "outputs": [],
   "source": [
    "mae_dt= mean_absolute_error(t_test, predict_dt).round(2)\n",
    "rmse_dt= (mean_squared_error(t_test, predict_dt)**0.5).round(2)"
   ]
  },
  {
   "cell_type": "code",
   "execution_count": 56,
   "metadata": {},
   "outputs": [
    {
     "data": {
      "image/png": "[encoded data removed]",
      "text/plain": [
       "<Figure size 576x576 with 1 Axes>"
      ]
     },
     "metadata": {
      "needs_background": "light"
     },
     "output_type": "display_data"
    },
    {
     "name": "stdout",
     "output_type": "stream",
     "text": [
      "MAE модели DecisionTreeRegressor : 5.34\n",
      "RMSE модели DecisionTreeRegressor : 7.51\n"
     ]
    }
   ],
   "source": [
    "graph('DecisionTreeRegressor',predict_dt)"
   ]
  },
  {
   "cell_type": "markdown",
   "metadata": {},
   "source": [
    "### LinearRegression\n",
    "\n",
    "Аналогично предыдущему пункту обучим модель LinearRegression, посчитаем МАЕ на тренировочной и тестовой выборках."
   ]
  },
  {
   "cell_type": "code",
   "execution_count": 57,
   "metadata": {},
   "outputs": [
    {
     "name": "stdout",
     "output_type": "stream",
     "text": [
      "Значение MAE на тренировочных данных равно: 5.74\n"
     ]
    }
   ],
   "source": [
    "parametrs = { 'fit_intercept': [True],\n",
    "              'normalize': [True, False]}\n",
    "\n",
    "model_lr = LinearRegression()\n",
    "grid_lr = GridSearchCV(model_lr, parametrs, cv=5, scoring='neg_mean_absolute_error')\n",
    "grid_lr.fit(f_train,t_train)\n",
    "\n",
    "fit_intercept=pd.Series(grid_lr.best_params_)[0]\n",
    "normalize=pd.Series(grid_lr.best_params_)[1]\n",
    "predict_lr=grid_lr.predict(f_test)\n",
    "result_lr = -1*grid_lr.best_score_\n",
    "print('Значение MAE на тренировочных данных равно: {:.2f}'.format(result_lr))"
   ]
  },
  {
   "cell_type": "code",
   "execution_count": 58,
   "metadata": {},
   "outputs": [],
   "source": [
    "mae_lr= mean_absolute_error(t_test, predict_lr).round(2)\n",
    "rmse_lr= (mean_squared_error(t_test, predict_lr)**0.5).round(2)"
   ]
  },
  {
   "cell_type": "code",
   "execution_count": 59,
   "metadata": {},
   "outputs": [
    {
     "data": {
      "image/png": "[encoded data removed]",
      "text/plain": [
       "<Figure size 576x576 with 1 Axes>"
      ]
     },
     "metadata": {
      "needs_background": "light"
     },
     "output_type": "display_data"
    },
    {
     "name": "stdout",
     "output_type": "stream",
     "text": [
      "MAE модели LinearRegression : 6.06\n",
      "RMSE модели LinearRegression : 10.04\n"
     ]
    }
   ],
   "source": [
    "graph('LinearRegression',predict_lr)"
   ]
  },
  {
   "cell_type": "markdown",
   "metadata": {},
   "source": [
    "### GradientBoostingRegressor"
   ]
  },
  {
   "cell_type": "code",
   "execution_count": 60,
   "metadata": {},
   "outputs": [
    {
     "name": "stdout",
     "output_type": "stream",
     "text": [
      "Значение MAE на тренировочных данных равно: 4.90\n"
     ]
    }
   ],
   "source": [
    "parametrs_g = { 'loss' : ['ls'],\n",
    "        'learning_rate' : [i for i in np.arange(0.1,0.3,0.1)] , \n",
    "        'max_depth' : [i for i in np.arange(10,15,1)]}\n",
    "\n",
    "model_g = GradientBoostingRegressor(random_state = 123)\n",
    "grid_gbr = GridSearchCV(model_g, parametrs_g, cv=5, scoring = 'neg_mean_absolute_error')\n",
    "grid_gbr.fit(f_train,t_train)\n",
    "best_score_gbr = -1*grid_gbr.best_score_\n",
    "parametrs_gbr = pd.Series(grid_gbr.best_params_)[0]\n",
    "predict_gbr=grid_gbr.predict(f_test)\n",
    "print('Значение MAE на тренировочных данных равно: {:.2f}'.format(best_score_gbr))"
   ]
  },
  {
   "cell_type": "code",
   "execution_count": 61,
   "metadata": {},
   "outputs": [],
   "source": [
    "mae_gbr= mean_absolute_error(t_test, predict_gbr).round(2)\n",
    "rmse_gbr= (mean_squared_error(t_test, predict_gbr)**0.5).round(2)"
   ]
  },
  {
   "cell_type": "code",
   "execution_count": 62,
   "metadata": {},
   "outputs": [
    {
     "data": {
      "image/png": "[encoded data removed]",
      "text/plain": [
       "<Figure size 576x576 with 1 Axes>"
      ]
     },
     "metadata": {
      "needs_background": "light"
     },
     "output_type": "display_data"
    },
    {
     "name": "stdout",
     "output_type": "stream",
     "text": [
      "MAE модели GradientBoostingRegressor : 4.51\n",
      "RMSE модели GradientBoostingRegressor : 6.14\n"
     ]
    }
   ],
   "source": [
    "graph('GradientBoostingRegressor',predict_gbr)"
   ]
  },
  {
   "cell_type": "markdown",
   "metadata": {},
   "source": [
    "### CatBoostRegressor"
   ]
  },
  {
   "cell_type": "code",
   "execution_count": 63,
   "metadata": {},
   "outputs": [
    {
     "name": "stdout",
     "output_type": "stream",
     "text": [
      "0:\tlearn: 7.9826966\ttest: 8.0485925\tbest: 8.0485925 (0)\ttotal: 48.2ms\tremaining: 48.2s\n",
      "100:\tlearn: 5.8419697\ttest: 6.0838951\tbest: 6.0838951 (100)\ttotal: 653ms\tremaining: 5.81s\n",
      "200:\tlearn: 5.2159361\ttest: 5.5162544\tbest: 5.5162544 (200)\ttotal: 1.33s\tremaining: 5.28s\n",
      "300:\tlearn: 4.8821282\ttest: 5.2402821\tbest: 5.2402821 (300)\ttotal: 2s\tremaining: 4.66s\n",
      "400:\tlearn: 4.6467281\ttest: 5.0458280\tbest: 5.0458280 (400)\ttotal: 2.76s\tremaining: 4.13s\n",
      "500:\tlearn: 4.4768192\ttest: 4.9044549\tbest: 4.9044549 (500)\ttotal: 3.43s\tremaining: 3.41s\n",
      "600:\tlearn: 4.3557880\ttest: 4.8329822\tbest: 4.8318419 (599)\ttotal: 4.1s\tremaining: 2.72s\n",
      "700:\tlearn: 4.2530246\ttest: 4.7709688\tbest: 4.7709688 (700)\ttotal: 4.6s\tremaining: 1.96s\n",
      "800:\tlearn: 4.1623438\ttest: 4.7213681\tbest: 4.7213681 (800)\ttotal: 5.36s\tremaining: 1.33s\n",
      "900:\tlearn: 4.0826202\ttest: 4.6738675\tbest: 4.6738587 (899)\ttotal: 6.04s\tremaining: 663ms\n",
      "999:\tlearn: 4.0196785\ttest: 4.6308379\tbest: 4.6305996 (990)\ttotal: 6.7s\tremaining: 0us\n",
      "\n",
      "bestTest = 4.63059961\n",
      "bestIteration = 990\n",
      "\n",
      "Shrink model to first 991 iterations.\n"
     ]
    },
    {
     "data": {
      "text/plain": [
       "<catboost.core.CatBoostRegressor at 0x7fd7c053ad90>"
      ]
     },
     "execution_count": 63,
     "metadata": {},
     "output_type": "execute_result"
    }
   ],
   "source": [
    "model = CatBoostRegressor(iterations=1000, depth=2, loss_function=\"MAE\", verbose=100)\n",
    "model.fit(f_train,t_train, eval_set=(f_test,t_test))"
   ]
  },
  {
   "cell_type": "code",
   "execution_count": 64,
   "metadata": {},
   "outputs": [
    {
     "data": {
      "image/png": "[encoded data removed]",
      "text/plain": [
       "<Figure size 576x576 with 1 Axes>"
      ]
     },
     "metadata": {
      "needs_background": "light"
     },
     "output_type": "display_data"
    },
    {
     "name": "stdout",
     "output_type": "stream",
     "text": [
      "MAE модели CatBoostRegressor : 4.63\n",
      "RMSE модели CatBoostRegressor : 6.43\n"
     ]
    }
   ],
   "source": [
    "predict_cat=model.predict(f_test)\n",
    "graph('CatBoostRegressor',predict_cat)"
   ]
  },
  {
   "cell_type": "markdown",
   "metadata": {},
   "source": [
    "А теперь найдём факторы важности наилучшей модели, и посмотрим, какие признаки могут быть лишними, и которые мы удалим."
   ]
  },
  {
   "cell_type": "code",
   "execution_count": 65,
   "metadata": {},
   "outputs": [],
   "source": [
    "def importances(model,features):\n",
    "    features=features.columns\n",
    "    importances = model.feature_importances_\n",
    "    indices = np.argsort(importances)\n",
    "    \n",
    "    plt.figure(figsize=(11, 5))\n",
    "    plt.title('Важность функции')\n",
    "    plt.barh(range(len(indices)), importances[indices], color='#6495ED', align='center')\n",
    "    plt.yticks(range(len(indices)), features[indices])\n",
    "    plt.xlabel('Важность функции')\n",
    "    plt.show()\n",
    "        \n",
    "    feat_importances = pd.Series(importances, index=features).sort_values(ascending=False)\n",
    "    feat_importances = feat_importances.to_frame()\n",
    "    feat_importances.columns=['Важность функции']\n",
    "    display(feat_importances)"
   ]
  },
  {
   "cell_type": "code",
   "execution_count": 66,
   "metadata": {},
   "outputs": [
    {
     "name": "stderr",
     "output_type": "stream",
     "text": [
      "/opt/conda/lib/python3.7/site-packages/matplotlib/backends/backend_agg.py:211: RuntimeWarning: Glyph 13 missing from current font.\n",
      "  font.set_text(s, 0.0, flags=flags)\n",
      "/opt/conda/lib/python3.7/site-packages/matplotlib/backends/backend_agg.py:180: RuntimeWarning: Glyph 13 missing from current font.\n",
      "  font.set_text(s, 0, flags=flags)\n"
     ]
    },
    {
     "data": {
      "image/png": "[encoded data removed]",
      "text/plain": [
       "<Figure size 792x360 with 1 Axes>"
      ]
     },
     "metadata": {
      "needs_background": "light"
     },
     "output_type": "display_data"
    },
    {
     "data": {
      "text/html": [
       "<div>\n",
       "<style scoped>\n",
       "    .dataframe tbody tr th:only-of-type {\n",
       "        vertical-align: middle;\n",
       "    }\n",
       "\n",
       "    .dataframe tbody tr th {\n",
       "        vertical-align: top;\n",
       "    }\n",
       "\n",
       "    .dataframe thead th {\n",
       "        text-align: right;\n",
       "    }\n",
       "</style>\n",
       "<table border=\"1\" class=\"dataframe\">\n",
       "  <thead>\n",
       "    <tr style=\"text-align: right;\">\n",
       "      <th></th>\n",
       "      <th>Важность функции</th>\n",
       "    </tr>\n",
       "  </thead>\n",
       "  <tbody>\n",
       "    <tr>\n",
       "      <td>temp_start</td>\n",
       "      <td>52.761020</td>\n",
       "    </tr>\n",
       "    <tr>\n",
       "      <td>heating_time_seconds</td>\n",
       "      <td>18.281335</td>\n",
       "    </tr>\n",
       "    <tr>\n",
       "      <td>active_power_mean</td>\n",
       "      <td>8.777744</td>\n",
       "    </tr>\n",
       "    <tr>\n",
       "      <td>Wire 1</td>\n",
       "      <td>5.826735</td>\n",
       "    </tr>\n",
       "    <tr>\n",
       "      <td>temperature_difference_seconds</td>\n",
       "      <td>2.511171</td>\n",
       "    </tr>\n",
       "    <tr>\n",
       "      <td>heating_time_count</td>\n",
       "      <td>2.326633</td>\n",
       "    </tr>\n",
       "    <tr>\n",
       "      <td>Bulk 14</td>\n",
       "      <td>2.229538</td>\n",
       "    </tr>\n",
       "    <tr>\n",
       "      <td>reactive_power_mean</td>\n",
       "      <td>2.031501</td>\n",
       "    </tr>\n",
       "    <tr>\n",
       "      <td>Bulk 12</td>\n",
       "      <td>1.988620</td>\n",
       "    </tr>\n",
       "    <tr>\n",
       "      <td>active_power\\reactive_power</td>\n",
       "      <td>1.443527</td>\n",
       "    </tr>\n",
       "    <tr>\n",
       "      <td>Bulk 15</td>\n",
       "      <td>0.935248</td>\n",
       "    </tr>\n",
       "    <tr>\n",
       "      <td>gas</td>\n",
       "      <td>0.886928</td>\n",
       "    </tr>\n",
       "  </tbody>\n",
       "</table>\n",
       "</div>"
      ],
      "text/plain": [
       "                                Важность функции\n",
       "temp_start                             52.761020\n",
       "heating_time_seconds                   18.281335\n",
       "active_power_mean                       8.777744\n",
       "Wire 1                                  5.826735\n",
       "temperature_difference_seconds          2.511171\n",
       "heating_time_count                      2.326633\n",
       "Bulk 14                                 2.229538\n",
       "reactive_power_mean                     2.031501\n",
       "Bulk 12                                 1.988620\n",
       "active_power\\reactive_power             1.443527\n",
       "Bulk 15                                 0.935248\n",
       "gas                                     0.886928"
      ]
     },
     "metadata": {},
     "output_type": "display_data"
    }
   ],
   "source": [
    "importances(model,f_test)"
   ]
  },
  {
   "cell_type": "markdown",
   "metadata": {},
   "source": [
    "Исходя из графика относительной важности факторов, мы можем удалить такие признаки как gas и reactive_power_mean (средняя реактивная мощность), так как эот признак сильно коррелирует, а средняя активная мощность имеет больший вес, большую важность, в предсказании данных. \n",
    "\n",
    "Создадим копии нашего целевого признака и фичей, а затем удалим, описанные выше, признаки. "
   ]
  },
  {
   "cell_type": "code",
   "execution_count": 67,
   "metadata": {},
   "outputs": [
    {
     "name": "stdout",
     "output_type": "stream",
     "text": [
      "<class 'pandas.core.frame.DataFrame'>\n",
      "Int64Index: 1746 entries, 1680 to 923\n",
      "Data columns (total 10 columns):\n",
      "temp_start                        1746 non-null float64\n",
      "heating_time_count                1746 non-null float64\n",
      "active_power_mean                 1746 non-null float64\n",
      "eactive_power        1746 non-null float64\n",
      "Wire 1                            1746 non-null float64\n",
      "Bulk 12                           1746 non-null float64\n",
      "Bulk 14                           1746 non-null float64\n",
      "Bulk 15                           1746 non-null float64\n",
      "heating_time_seconds              1746 non-null float64\n",
      "temperature_difference_seconds    1746 non-null float64\n",
      "dtypes: float64(10)\n",
      "memory usage: 150.0 KB\n"
     ]
    }
   ],
   "source": [
    "f_train2 = f_train.copy()\n",
    "f_test2= f_test.copy()\n",
    "f_train2 = f_train2.drop(columns=['gas', 'reactive_power_mean'])\n",
    "f_test2= f_test2.drop(columns=['gas', 'reactive_power_mean'])\n",
    "f_train2.info()"
   ]
  },
  {
   "cell_type": "markdown",
   "metadata": {},
   "source": [
    "Проверим эти данные на моделях, которые показали наилучший результат до того, как мы дропнули наименее важные признаки.\n",
    "\n",
    "Модели **GradientBoostingRegressor и CatBoostRegressor**. "
   ]
  },
  {
   "cell_type": "code",
   "execution_count": 68,
   "metadata": {},
   "outputs": [
    {
     "data": {
      "image/png": "[encoded data removed]",
      "text/plain": [
       "<Figure size 576x576 with 1 Axes>"
      ]
     },
     "metadata": {
      "needs_background": "light"
     },
     "output_type": "display_data"
    },
    {
     "name": "stdout",
     "output_type": "stream",
     "text": [
      "MAE модели GradientBoostingRegressor : 4.41\n",
      "RMSE модели GradientBoostingRegressor : 5.91\n"
     ]
    }
   ],
   "source": [
    "model_gbr = GradientBoostingRegressor (random_state = 12345) \n",
    "model_gbr.fit(f_train2,t_train)\n",
    "predict_gbr=model_gbr.predict(f_test2)\n",
    "graph('GradientBoostingRegressor',predict_gbr)"
   ]
  },
  {
   "cell_type": "code",
   "execution_count": 69,
   "metadata": {},
   "outputs": [],
   "source": [
    "mae_gbr= mean_absolute_error(t_test, predict_gbr).round(2)\n",
    "rmse_gbr= (mean_squared_error(t_test, predict_gbr)**0.5).round(2)"
   ]
  },
  {
   "cell_type": "code",
   "execution_count": 70,
   "metadata": {},
   "outputs": [
    {
     "name": "stdout",
     "output_type": "stream",
     "text": [
      "0:\tlearn: 7.9771983\ttest: 8.0385068\tbest: 8.0385068 (0)\ttotal: 1.9ms\tremaining: 1.9s\n",
      "100:\tlearn: 5.8104336\ttest: 6.0416209\tbest: 6.0416209 (100)\ttotal: 724ms\tremaining: 6.45s\n",
      "200:\tlearn: 5.1908239\ttest: 5.4701809\tbest: 5.4701809 (200)\ttotal: 1.4s\tremaining: 5.56s\n",
      "300:\tlearn: 4.8492898\ttest: 5.1802655\tbest: 5.1802655 (300)\ttotal: 2.15s\tremaining: 5.01s\n",
      "400:\tlearn: 4.6009021\ttest: 4.9401029\tbest: 4.9401029 (400)\ttotal: 2.92s\tremaining: 4.37s\n",
      "500:\tlearn: 4.4433071\ttest: 4.8165276\tbest: 4.8165276 (500)\ttotal: 3.69s\tremaining: 3.68s\n",
      "600:\tlearn: 4.3227961\ttest: 4.7387417\tbest: 4.7387417 (600)\ttotal: 4.47s\tremaining: 2.97s\n",
      "700:\tlearn: 4.2337958\ttest: 4.6865904\tbest: 4.6865904 (700)\ttotal: 5.15s\tremaining: 2.2s\n",
      "800:\tlearn: 4.1440710\ttest: 4.6424763\tbest: 4.6424763 (800)\ttotal: 5.72s\tremaining: 1.42s\n",
      "900:\tlearn: 4.0838616\ttest: 4.5962055\tbest: 4.5962055 (900)\ttotal: 6.4s\tremaining: 704ms\n",
      "999:\tlearn: 4.0378820\ttest: 4.5650426\tbest: 4.5645135 (996)\ttotal: 7s\tremaining: 0us\n",
      "\n",
      "bestTest = 4.564513467\n",
      "bestIteration = 996\n",
      "\n",
      "Shrink model to first 997 iterations.\n"
     ]
    },
    {
     "data": {
      "image/png": "[encoded data removed]",
      "text/plain": [
       "<Figure size 576x576 with 1 Axes>"
      ]
     },
     "metadata": {
      "needs_background": "light"
     },
     "output_type": "display_data"
    },
    {
     "name": "stdout",
     "output_type": "stream",
     "text": [
      "MAE модели CatBoostRegressor : 4.56\n",
      "RMSE модели CatBoostRegressor : 6.31\n"
     ]
    }
   ],
   "source": [
    "model = CatBoostRegressor(iterations=1000, depth=2, loss_function=\"MAE\", verbose=100)\n",
    "model.fit(f_train2,t_train, eval_set=(f_test2,t_test))\n",
    "predict_cat=model.predict(f_test)\n",
    "graph('CatBoostRegressor',predict_cat)"
   ]
  },
  {
   "cell_type": "code",
   "execution_count": 71,
   "metadata": {},
   "outputs": [],
   "source": [
    "mae_cat= mean_absolute_error(t_test, predict_cat).round(2)\n",
    "rmse_cat= (mean_squared_error(t_test, predict_cat)**0.5).round(2)"
   ]
  },
  {
   "cell_type": "markdown",
   "metadata": {},
   "source": [
    "Итак, соберем все наши полученные данные в таблицу и найдем самую лучшую модель."
   ]
  },
  {
   "cell_type": "code",
   "execution_count": 72,
   "metadata": {},
   "outputs": [
    {
     "data": {
      "text/html": [
       "<style  type=\"text/css\" >\n",
       "    #T_904854c0_4b79_11ec_8f1b_02420a3953e3row1_col1 {\n",
       "            : ;\n",
       "            : ;\n",
       "            background-color:  coral;\n",
       "        }    #T_904854c0_4b79_11ec_8f1b_02420a3953e3row2_col1 {\n",
       "            background-color:  yellowgreen;\n",
       "            : ;\n",
       "            : ;\n",
       "        }</style><table id=\"T_904854c0_4b79_11ec_8f1b_02420a3953e3\" ><thead>    <tr>        <th class=\"blank level0\" ></th>        <th class=\"col_heading level0 col0\" >RMSE</th>        <th class=\"col_heading level0 col1\" >MAE</th>    </tr></thead><tbody>\n",
       "                <tr>\n",
       "                        <th id=\"T_904854c0_4b79_11ec_8f1b_02420a3953e3level0_row0\" class=\"row_heading level0 row0\" >DecisionTreeRegressor</th>\n",
       "                        <td id=\"T_904854c0_4b79_11ec_8f1b_02420a3953e3row0_col0\" class=\"data row0 col0\" >7.51</td>\n",
       "                        <td id=\"T_904854c0_4b79_11ec_8f1b_02420a3953e3row0_col1\" class=\"data row0 col1\" >5.34</td>\n",
       "            </tr>\n",
       "            <tr>\n",
       "                        <th id=\"T_904854c0_4b79_11ec_8f1b_02420a3953e3level0_row1\" class=\"row_heading level0 row1\" >LinearRegression</th>\n",
       "                        <td id=\"T_904854c0_4b79_11ec_8f1b_02420a3953e3row1_col0\" class=\"data row1 col0\" >10.04</td>\n",
       "                        <td id=\"T_904854c0_4b79_11ec_8f1b_02420a3953e3row1_col1\" class=\"data row1 col1\" >6.06</td>\n",
       "            </tr>\n",
       "            <tr>\n",
       "                        <th id=\"T_904854c0_4b79_11ec_8f1b_02420a3953e3level0_row2\" class=\"row_heading level0 row2\" >GradientBoostingRegressor</th>\n",
       "                        <td id=\"T_904854c0_4b79_11ec_8f1b_02420a3953e3row2_col0\" class=\"data row2 col0\" >5.91</td>\n",
       "                        <td id=\"T_904854c0_4b79_11ec_8f1b_02420a3953e3row2_col1\" class=\"data row2 col1\" >4.41</td>\n",
       "            </tr>\n",
       "            <tr>\n",
       "                        <th id=\"T_904854c0_4b79_11ec_8f1b_02420a3953e3level0_row3\" class=\"row_heading level0 row3\" >CatBoostRegressor</th>\n",
       "                        <td id=\"T_904854c0_4b79_11ec_8f1b_02420a3953e3row3_col0\" class=\"data row3 col0\" >6.31</td>\n",
       "                        <td id=\"T_904854c0_4b79_11ec_8f1b_02420a3953e3row3_col1\" class=\"data row3 col1\" >4.56</td>\n",
       "            </tr>\n",
       "    </tbody></table>"
      ],
      "text/plain": [
       "<pandas.io.formats.style.Styler at 0x7fd7c1155790>"
      ]
     },
     "execution_count": 72,
     "metadata": {},
     "output_type": "execute_result"
    }
   ],
   "source": [
    "column=['MAE']\n",
    "comparison_tabl = pd.DataFrame(index=['DecisionTreeRegressor','LinearRegression', 'GradientBoostingRegressor', 'CatBoostRegressor'], columns=['RMSE','MAE'])\n",
    "comparison_tabl['MAE'] = mae_dt,mae_lr, mae_gbr, mae_cat\n",
    "comparison_tabl['RMSE'] = rmse_dt,rmse_lr,rmse_gbr, rmse_cat\n",
    "\n",
    "comparison_tabl.style.highlight_min(color='yellowgreen',subset=column).highlight_null(null_color='lightgrey').highlight_max(color='coral',subset=column)"
   ]
  },
  {
   "cell_type": "markdown",
   "metadata": {},
   "source": [
    "## Вывод \n",
    "\n",
    "Мы использовали обработанные данные и обучили четыре модели DecisionTreeRegressor,LinearRegression, GradientBoostingRegressor и CatBoostRegressor.  \n",
    "По итогам сравнения метрик качества предсказаний из четырех моделей лидируют GradientBoostingRegressor и CatBoostRegressor, которые достигли значений в $4.41$ и  $4.56$ соответственно по метрике $MAE$. Этот результат показывает, что модель в среднем ошибается на 4-5 градусов температуры. \n",
    "Таким образом, мы выполнили задачу и достигли требуемого значения $MAE <6.00$, а так же дополнительно выяснили наиболее важные данные на которых строилось предсказание наших наилучших моделей, ТОП-3 из которых это \"temp_start, heating_time_seconds, active_power_mean\", то есть температура в начале замера, время нагрева в секундах и средняя активная мощность. "
   ]
  },
  {
   "cell_type": "markdown",
   "metadata": {},
   "source": [
    "# Отчет по решению \n",
    "\n",
    "Перед нами стояла задача оптимизировать производственные расходы, металлургический комбинат ООО «Так закаляем сталь» на этапе обработки стали. Для этого нам предстояло построить модель, которая предскажет температуру стали в последней точке измерения (целевой признак) имея данные об электродах, о подаче сыпучих материалов (объём и время), о продувке сплава газом, результаты измерения температуры и данные о проволочных материалах (объём и время). Целью поставлена метрика $MAE$ со значением $< 6.00$\n",
    "\n",
    "В ходе проделанной работы были выполнены все этапы плана: предобработка данных, исследовательский анализ данных, обучение и выбор моделей.\n",
    "\n",
    "Для обучения модели необходимо было объединить имеющиеся таблицы в одну финальную. Добавление проволочных материалов оказывает минимальное влияние на процесс поэтому было решено оставить только Wire 1, так как проволочные материалы этой группы используются чаще всего и смогут помочь модели обучиться. \n",
    "Сыпучие материалы поступающие из бункеров 12, 14, 15 используются наиболее часто, имеют выраженную мультиколлинеарность между собой, остальные сыпучие материалы мало влияют на процесс, поэтому было решено забрать в фичи именно эти присыпки. \n",
    "Более 700 записей в датасете имеют только одно измерение температуры. От них мы тоже отказались и удалили, так как грамотно заменить эти \"пропуски\" просто невозможно. \n",
    "\n",
    "Информация о времени начала и конца нагрева сплава, а также активная и реактивная мощности содержалась в таблице data_arc. Было принято решение в финальной таблице отказаться от временных признаков, так как они не решают никакую бизнес задачу и не нужны для обучения модели, но были выделены дополнительные признаки, о которых напишем чуть ниже. Активная и реактивная мощности показали выраженную мультиколлинеарность, но избавились от одной из них (реактивной) только после графика относительной важности факторов для обучения модели. \n",
    "\n",
    "В ходе решения задачи в исходные данные были добавлены новые признаки, на основе которых модель сможет лучше предсказывать целевое значение по темпратуре. Были добавлены дополнительные столбцы: длительность времени между первым и последним замером температуры, суммарное время нагрева электродами, количество запусков нагрева электродами, среднее соотношение потребления активной и реактивной мощности.\n",
    "\n",
    "В финальный датафрейм была включена следующая информация: \n",
    "- 'temp_start' - температура в начале замера,\n",
    "- 'temperature' - температура в конце замера,\n",
    "- 'heating_time_count' - количество запусков нагрева электродами, \n",
    "- 'active_power_mean' - средняя активная мощность, \n",
    "- 'reactive_power_mean' -  средняя реактивная мощность, \n",
    "- 'active_power\\reactive_power' - среднее соотношение потребления активной и реактивной мощностей, \n",
    "- 'Wire 1' - данные о проволочных материалах, \n",
    "- 'Bulk 12', 'Bulk 14', 'Bulk 15' - данные о сыпучих материалах, \n",
    "- 'gas' - данные о продувке сплава газом, \n",
    "- 'heating_time_seconds' - суммарное время нагрева электродами, \n",
    "- 'temperature_difference_seconds' - длительность времени между первым и последним замером температуры. \n",
    "\n",
    "В данных были удалены дубли, отрицательные значения мощностей, аномалии, были обработаны пропущенные значения. Было проведено исследование на наличие мультиколлинеарности в данных финального датафрейма, в ходе которого обнаружилась сильная коррелирующую зависимость двух мощностей (активной и реактивной), а также время нагрева в секундах от количества запусков нагрева электродами. После проделанных этапов, описанных выше, данные были очищены и готовы для построения модели предсказания конечной температуры сплава \"temperature\". \n",
    "   \n",
    "Для нахождения наилучего качества в предсказании мы обучили четыре модели DecisionTreeRegressor, LinearRegression, GradientBoostingRegressor и CatBoostRegressor и сравнили их показатели по двум метрикам $MAE$, $RMSE$. Сравнив показатели метрик остановились на GradientBoostingRegressor и CatBoostRegressor, у которых $MAE$ было равно $4.51$ и $4.63$ соответственно. Далее вывели на график важности основные группы данных, на котором определили лишние данные и исключили коррелирующую среднюю реактивную мощность из таблицы, после чего обучили выбранные наилучшие модели на более очищенных данных, тем самым улучшив показание метрики $MAE$ до $4.41$ и $4.56$. \n",
    "\n",
    "А так же на графике важности заметили, что основное влияние на предсказание модели влияет темпратура в начале измерения и время нагрева, а это значит, что вероятнее всего влияя на величину начальной темпратуры можно достигнуть цели по оптимизации производственных расходов на энергоресурсы.\n",
    "\n",
    "**Какие пункты плана были выполнены, а какие — нет (поясните почему)?**\n",
    "\n",
    "Были выполнены все пункты плана, кроме выявления пулла подходов с помощью lazypredict, который помог бы сразу найти регрессионную модель, удовлетворяющую необходимым характеристикам. Не удалось выполнить этот пункт плана, так как нужна версия  > Python 3.6. Пришлось потратить много времени и тщетных попыток прежде, чем понять это. \n",
    "В остальном все пункты плана были аналогичны прошлым спринтам и не составили труда реализовать их. \n",
    "\n",
    "**Какие трудности возникли и как вы их преодолели?**\n",
    "\n",
    "Для начала было сложно разобраться в самом процессе плавки стали, и что за чем следует. Помогла схема расписанная от руки + первая консультация с тимлидом, который еще лучше все разжевал и рассказал про требования заказчика. Но до сих пор думаю, что я не так глубоко поняла тему, что лишило меня возможности еще лучше поработать с аномалиями, выбросами и пропущенными значениями. \n",
    "\n",
    "**Какие ключевые шаги в решении задачи выделили?**\n",
    "\n",
    "Понимание процесса плавления стали,   \n",
    "Изучение данных, их структуры и необходимости для решения поставленной задачи,   \n",
    "А также работа с данными, пропущенными значениями и аномалиями,   \n",
    "Подготовка и построение модели,   \n",
    "Тестирование модели и проверка ее на адекватность. \n",
    "\n",
    "**Какая ваша итоговая модель и какое у неё качество?**\n",
    "\n",
    "Модель построена с помощью GradientBoostingRegressor со значением МАЕ $4.41$ на тестовой выборке. "
   ]
  }
 ],
 "metadata": {
  "ExecuteTimeLog": [
   {
    "duration": 1250,
    "start_time": "2021-11-19T15:59:56.118Z"
   },
   {
    "duration": 179,
    "start_time": "2021-11-19T16:00:04.597Z"
   },
   {
    "duration": 3,
    "start_time": "2021-11-19T16:00:12.545Z"
   },
   {
    "duration": 130,
    "start_time": "2021-11-19T16:00:20.043Z"
   },
   {
    "duration": 8,
    "start_time": "2021-11-19T16:01:59.589Z"
   },
   {
    "duration": 18,
    "start_time": "2021-11-19T16:02:16.417Z"
   },
   {
    "duration": 183,
    "start_time": "2021-11-19T16:02:33.610Z"
   },
   {
    "duration": 6,
    "start_time": "2021-11-19T16:02:50.879Z"
   },
   {
    "duration": 431,
    "start_time": "2021-11-19T16:03:05.843Z"
   },
   {
    "duration": 8,
    "start_time": "2021-11-19T16:03:23.426Z"
   },
   {
    "duration": 26,
    "start_time": "2021-11-19T16:03:30.647Z"
   },
   {
    "duration": 11,
    "start_time": "2021-11-19T16:03:48.000Z"
   },
   {
    "duration": 23,
    "start_time": "2021-11-19T16:03:56.786Z"
   },
   {
    "duration": 7,
    "start_time": "2021-11-19T16:04:04.811Z"
   },
   {
    "duration": 6,
    "start_time": "2021-11-19T16:04:22.340Z"
   },
   {
    "duration": 19,
    "start_time": "2021-11-19T16:04:30.276Z"
   },
   {
    "duration": 321,
    "start_time": "2021-11-19T16:04:48.673Z"
   },
   {
    "duration": 2483,
    "start_time": "2021-11-19T16:05:05.908Z"
   },
   {
    "duration": 14,
    "start_time": "2021-11-19T16:05:26.199Z"
   },
   {
    "duration": 13,
    "start_time": "2021-11-19T16:05:37.023Z"
   },
   {
    "duration": 16,
    "start_time": "2021-11-19T16:05:57.336Z"
   },
   {
    "duration": 423,
    "start_time": "2021-11-19T16:06:12.256Z"
   },
   {
    "duration": 12,
    "start_time": "2021-11-19T16:06:28.801Z"
   },
   {
    "duration": 622,
    "start_time": "2021-11-19T16:06:35.641Z"
   },
   {
    "duration": 23,
    "start_time": "2021-11-19T16:06:52.192Z"
   },
   {
    "duration": 652,
    "start_time": "2021-11-19T16:07:25.636Z"
   },
   {
    "duration": 12,
    "start_time": "2021-11-19T16:07:42.984Z"
   },
   {
    "duration": 14,
    "start_time": "2021-11-19T16:07:49.210Z"
   },
   {
    "duration": 18,
    "start_time": "2021-11-19T16:07:57.355Z"
   },
   {
    "duration": 8,
    "start_time": "2021-11-19T16:08:04.261Z"
   },
   {
    "duration": 28,
    "start_time": "2021-11-19T16:08:21.544Z"
   },
   {
    "duration": 27,
    "start_time": "2021-11-19T16:08:42.401Z"
   },
   {
    "duration": 7,
    "start_time": "2021-11-19T16:08:49.917Z"
   },
   {
    "duration": 13,
    "start_time": "2021-11-19T16:09:05.155Z"
   },
   {
    "duration": 6,
    "start_time": "2021-11-19T16:09:11.602Z"
   },
   {
    "duration": 6,
    "start_time": "2021-11-19T16:09:26.601Z"
   },
   {
    "duration": 10,
    "start_time": "2021-11-19T16:09:34.437Z"
   },
   {
    "duration": 8,
    "start_time": "2021-11-19T16:09:49.576Z"
   },
   {
    "duration": 8,
    "start_time": "2021-11-19T16:09:56.442Z"
   },
   {
    "duration": 8,
    "start_time": "2021-11-19T16:10:02.877Z"
   },
   {
    "duration": 9,
    "start_time": "2021-11-19T16:10:17.894Z"
   },
   {
    "duration": 26,
    "start_time": "2021-11-19T16:10:24.862Z"
   },
   {
    "duration": 16,
    "start_time": "2021-11-19T16:10:47.954Z"
   },
   {
    "duration": 16,
    "start_time": "2021-11-19T16:11:04.388Z"
   },
   {
    "duration": 8,
    "start_time": "2021-11-19T16:11:11.806Z"
   },
   {
    "duration": 16,
    "start_time": "2021-11-19T16:11:30.495Z"
   },
   {
    "duration": 8,
    "start_time": "2021-11-19T16:11:38.078Z"
   },
   {
    "duration": 1055,
    "start_time": "2021-11-19T16:11:54.927Z"
   },
   {
    "duration": 4,
    "start_time": "2021-11-19T16:53:18.089Z"
   },
   {
    "duration": 349,
    "start_time": "2021-11-19T16:53:22.057Z"
   },
   {
    "duration": 3,
    "start_time": "2021-11-19T16:53:58.023Z"
   },
   {
    "duration": 4,
    "start_time": "2021-11-19T16:54:14.625Z"
   },
   {
    "duration": 5,
    "start_time": "2021-11-19T16:54:15.548Z"
   },
   {
    "duration": 4,
    "start_time": "2021-11-19T16:54:37.140Z"
   },
   {
    "duration": 262,
    "start_time": "2021-11-19T17:39:06.160Z"
   },
   {
    "duration": 30342,
    "start_time": "2021-11-19T17:39:26.782Z"
   },
   {
    "duration": 644,
    "start_time": "2021-11-19T17:44:07.667Z"
   },
   {
    "duration": 6759,
    "start_time": "2021-11-19T17:44:33.072Z"
   },
   {
    "duration": 503,
    "start_time": "2021-11-19T17:45:06.463Z"
   },
   {
    "duration": 6952,
    "start_time": "2021-11-19T17:47:57.371Z"
   },
   {
    "duration": 348,
    "start_time": "2021-11-19T17:48:09.969Z"
   },
   {
    "duration": 329,
    "start_time": "2021-11-19T17:49:51.452Z"
   },
   {
    "duration": 256,
    "start_time": "2021-11-19T17:51:24.376Z"
   },
   {
    "duration": 323,
    "start_time": "2021-11-19T17:55:46.625Z"
   },
   {
    "duration": 86,
    "start_time": "2021-11-19T17:57:19.087Z"
   },
   {
    "duration": 13570,
    "start_time": "2021-11-19T17:57:25.407Z"
   },
   {
    "duration": 255,
    "start_time": "2021-11-19T17:57:45.114Z"
   },
   {
    "duration": 1610,
    "start_time": "2021-11-19T18:01:58.116Z"
   },
   {
    "duration": 266,
    "start_time": "2021-11-19T18:02:37.381Z"
   },
   {
    "duration": 410,
    "start_time": "2021-11-19T18:02:53.877Z"
   },
   {
    "duration": 323,
    "start_time": "2021-11-19T18:04:43.486Z"
   },
   {
    "duration": 339,
    "start_time": "2021-11-19T18:07:39.515Z"
   },
   {
    "duration": 268,
    "start_time": "2021-11-19T18:07:57.188Z"
   },
   {
    "duration": 326,
    "start_time": "2021-11-19T18:08:27.447Z"
   },
   {
    "duration": 315,
    "start_time": "2021-11-19T18:08:43.721Z"
   },
   {
    "duration": 289,
    "start_time": "2021-11-19T18:09:23.247Z"
   },
   {
    "duration": 3,
    "start_time": "2021-11-19T18:11:57.328Z"
   },
   {
    "duration": 2238,
    "start_time": "2021-11-19T18:17:55.881Z"
   },
   {
    "duration": 37,
    "start_time": "2021-11-19T18:18:10.173Z"
   },
   {
    "duration": 4,
    "start_time": "2021-11-19T18:25:35.122Z"
   },
   {
    "duration": 1342,
    "start_time": "2021-11-19T18:26:33.295Z"
   },
   {
    "duration": 5,
    "start_time": "2021-11-19T18:27:12.706Z"
   },
   {
    "duration": 710,
    "start_time": "2021-11-19T18:27:21.612Z"
   },
   {
    "duration": 5,
    "start_time": "2021-11-19T18:28:48.351Z"
   },
   {
    "duration": 1389,
    "start_time": "2021-11-19T18:28:50.576Z"
   },
   {
    "duration": 5,
    "start_time": "2021-11-19T18:28:54.242Z"
   },
   {
    "duration": 1038,
    "start_time": "2021-11-19T18:28:56.309Z"
   },
   {
    "duration": 4,
    "start_time": "2021-11-19T18:29:36.950Z"
   },
   {
    "duration": 1346,
    "start_time": "2021-11-19T18:29:38.623Z"
   },
   {
    "duration": 4,
    "start_time": "2021-11-19T18:29:39.971Z"
   },
   {
    "duration": 447,
    "start_time": "2021-11-19T18:29:41.636Z"
   },
   {
    "duration": 235,
    "start_time": "2021-11-19T18:31:07.723Z"
   },
   {
    "duration": 5,
    "start_time": "2021-11-19T18:31:30.699Z"
   },
   {
    "duration": 463,
    "start_time": "2021-11-19T18:31:33.529Z"
   },
   {
    "duration": 7793,
    "start_time": "2021-11-19T18:31:53.464Z"
   },
   {
    "duration": 527,
    "start_time": "2021-11-19T18:32:18.075Z"
   },
   {
    "duration": 5,
    "start_time": "2021-11-19T18:32:47.274Z"
   },
   {
    "duration": 214,
    "start_time": "2021-11-19T18:32:52.712Z"
   },
   {
    "duration": 10,
    "start_time": "2021-11-19T18:34:05.629Z"
   },
   {
    "duration": 7866,
    "start_time": "2021-11-19T18:34:32.578Z"
   },
   {
    "duration": 4,
    "start_time": "2021-11-19T18:35:33.175Z"
   },
   {
    "duration": 538,
    "start_time": "2021-11-19T18:35:49.613Z"
   },
   {
    "duration": 3366,
    "start_time": "2021-11-21T17:02:23.677Z"
   },
   {
    "duration": 1260,
    "start_time": "2021-11-21T17:02:42.718Z"
   },
   {
    "duration": 177,
    "start_time": "2021-11-21T17:02:45.209Z"
   },
   {
    "duration": 3,
    "start_time": "2021-11-21T17:02:48.040Z"
   },
   {
    "duration": 93,
    "start_time": "2021-11-21T17:02:49.358Z"
   },
   {
    "duration": 6,
    "start_time": "2021-11-21T17:02:53.724Z"
   },
   {
    "duration": 16,
    "start_time": "2021-11-21T17:02:56.138Z"
   },
   {
    "duration": 175,
    "start_time": "2021-11-21T17:02:57.808Z"
   },
   {
    "duration": 7,
    "start_time": "2021-11-21T17:03:01.485Z"
   },
   {
    "duration": 421,
    "start_time": "2021-11-21T17:03:03.541Z"
   },
   {
    "duration": 20,
    "start_time": "2021-11-21T17:03:06.685Z"
   },
   {
    "duration": 23,
    "start_time": "2021-11-21T17:03:07.940Z"
   },
   {
    "duration": 10,
    "start_time": "2021-11-21T17:03:09.902Z"
   },
   {
    "duration": 21,
    "start_time": "2021-11-21T17:03:11.330Z"
   },
   {
    "duration": 7,
    "start_time": "2021-11-21T17:03:12.636Z"
   },
   {
    "duration": 6,
    "start_time": "2021-11-21T17:03:15.030Z"
   },
   {
    "duration": 24,
    "start_time": "2021-11-21T17:03:16.280Z"
   },
   {
    "duration": 312,
    "start_time": "2021-11-21T17:03:18.789Z"
   },
   {
    "duration": 2284,
    "start_time": "2021-11-21T17:03:22.247Z"
   },
   {
    "duration": 17,
    "start_time": "2021-11-21T17:03:26.520Z"
   },
   {
    "duration": 14,
    "start_time": "2021-11-21T17:03:28.594Z"
   },
   {
    "duration": 13,
    "start_time": "2021-11-21T17:03:35.648Z"
   },
   {
    "duration": 423,
    "start_time": "2021-11-21T17:03:39.701Z"
   },
   {
    "duration": 16,
    "start_time": "2021-11-21T17:03:42.180Z"
   },
   {
    "duration": 583,
    "start_time": "2021-11-21T17:03:43.703Z"
   },
   {
    "duration": 38,
    "start_time": "2021-11-21T17:04:08.223Z"
   },
   {
    "duration": 621,
    "start_time": "2021-11-21T17:04:10.490Z"
   },
   {
    "duration": 10,
    "start_time": "2021-11-21T17:04:13.843Z"
   },
   {
    "duration": 14,
    "start_time": "2021-11-21T17:04:15.100Z"
   },
   {
    "duration": 14,
    "start_time": "2021-11-21T17:04:16.235Z"
   },
   {
    "duration": 7,
    "start_time": "2021-11-21T17:04:18.082Z"
   },
   {
    "duration": 28,
    "start_time": "2021-11-21T17:04:20.128Z"
   },
   {
    "duration": 16,
    "start_time": "2021-11-21T17:04:22.529Z"
   },
   {
    "duration": 6,
    "start_time": "2021-11-21T17:04:23.946Z"
   },
   {
    "duration": 11,
    "start_time": "2021-11-21T17:04:26.227Z"
   },
   {
    "duration": 6,
    "start_time": "2021-11-21T17:04:27.404Z"
   },
   {
    "duration": 8,
    "start_time": "2021-11-21T17:04:30.195Z"
   },
   {
    "duration": 10,
    "start_time": "2021-11-21T17:04:31.271Z"
   },
   {
    "duration": 7,
    "start_time": "2021-11-21T17:04:33.651Z"
   },
   {
    "duration": 7,
    "start_time": "2021-11-21T17:04:34.326Z"
   },
   {
    "duration": 8,
    "start_time": "2021-11-21T17:04:34.944Z"
   },
   {
    "duration": 8,
    "start_time": "2021-11-21T17:04:36.563Z"
   },
   {
    "duration": 24,
    "start_time": "2021-11-21T17:04:38.303Z"
   },
   {
    "duration": 14,
    "start_time": "2021-11-21T17:04:40.613Z"
   },
   {
    "duration": 19,
    "start_time": "2021-11-21T17:04:42.462Z"
   },
   {
    "duration": 7,
    "start_time": "2021-11-21T17:04:43.830Z"
   },
   {
    "duration": 14,
    "start_time": "2021-11-21T17:04:45.901Z"
   },
   {
    "duration": 7,
    "start_time": "2021-11-21T17:04:47.412Z"
   },
   {
    "duration": 1042,
    "start_time": "2021-11-21T17:04:50.454Z"
   },
   {
    "duration": 4,
    "start_time": "2021-11-21T17:04:56.415Z"
   },
   {
    "duration": 7,
    "start_time": "2021-11-21T17:04:57.283Z"
   },
   {
    "duration": 5,
    "start_time": "2021-11-21T17:04:58.298Z"
   },
   {
    "duration": 4,
    "start_time": "2021-11-21T17:05:03.356Z"
   },
   {
    "duration": 1364,
    "start_time": "2021-11-21T17:05:15.100Z"
   },
   {
    "duration": 4,
    "start_time": "2021-11-21T17:05:17.736Z"
   },
   {
    "duration": 458,
    "start_time": "2021-11-21T17:05:23.695Z"
   },
   {
    "duration": 129,
    "start_time": "2021-11-21T17:05:30.193Z"
   },
   {
    "duration": 4,
    "start_time": "2021-11-21T17:05:32.504Z"
   },
   {
    "duration": 431,
    "start_time": "2021-11-21T17:05:33.706Z"
   },
   {
    "duration": 43313,
    "start_time": "2021-11-21T17:05:37.205Z"
   },
   {
    "duration": 4,
    "start_time": "2021-11-21T17:09:21.534Z"
   },
   {
    "duration": 451,
    "start_time": "2021-11-21T17:09:56.565Z"
   },
   {
    "duration": 7895,
    "start_time": "2021-11-21T17:11:49.843Z"
   },
   {
    "duration": 449,
    "start_time": "2021-11-21T17:12:00.914Z"
   },
   {
    "duration": 5,
    "start_time": "2021-11-21T17:12:15.615Z"
   },
   {
    "duration": 212,
    "start_time": "2021-11-21T17:12:19.516Z"
   },
   {
    "duration": 9,
    "start_time": "2021-11-21T17:13:17.829Z"
   },
   {
    "duration": 41872,
    "start_time": "2021-11-21T17:18:09.682Z"
   },
   {
    "duration": 383,
    "start_time": "2021-11-21T17:24:24.250Z"
   },
   {
    "duration": 231,
    "start_time": "2021-11-21T17:25:51.536Z"
   },
   {
    "duration": 250,
    "start_time": "2021-11-21T17:26:00.906Z"
   },
   {
    "duration": 269,
    "start_time": "2021-11-21T17:26:27.087Z"
   },
   {
    "duration": 226,
    "start_time": "2021-11-21T17:27:06.657Z"
   },
   {
    "duration": 221,
    "start_time": "2021-11-21T17:27:50.401Z"
   },
   {
    "duration": 266,
    "start_time": "2021-11-21T17:28:50.358Z"
   },
   {
    "duration": 211,
    "start_time": "2021-11-21T17:30:04.628Z"
   },
   {
    "duration": 4308,
    "start_time": "2021-11-21T17:30:35.628Z"
   },
   {
    "duration": 448,
    "start_time": "2021-11-21T17:31:01.482Z"
   },
   {
    "duration": 506,
    "start_time": "2021-11-21T17:31:37.439Z"
   },
   {
    "duration": 7979,
    "start_time": "2021-11-21T17:31:52.120Z"
   },
   {
    "duration": 4,
    "start_time": "2021-11-21T17:32:59.563Z"
   },
   {
    "duration": 3,
    "start_time": "2021-11-21T17:33:11.292Z"
   },
   {
    "duration": 519,
    "start_time": "2021-11-21T17:35:07.870Z"
   },
   {
    "duration": 39195,
    "start_time": "2021-11-21T17:35:58.582Z"
   },
   {
    "duration": 1952,
    "start_time": "2021-11-21T17:37:39.658Z"
   },
   {
    "duration": 4,
    "start_time": "2021-11-21T17:37:41.612Z"
   },
   {
    "duration": 169,
    "start_time": "2021-11-21T17:37:41.617Z"
   },
   {
    "duration": 3,
    "start_time": "2021-11-21T17:37:41.788Z"
   },
   {
    "duration": 106,
    "start_time": "2021-11-21T17:37:41.792Z"
   },
   {
    "duration": 6,
    "start_time": "2021-11-21T17:37:41.900Z"
   },
   {
    "duration": 14,
    "start_time": "2021-11-21T17:37:41.907Z"
   },
   {
    "duration": 189,
    "start_time": "2021-11-21T17:37:41.923Z"
   },
   {
    "duration": 5,
    "start_time": "2021-11-21T17:37:42.114Z"
   },
   {
    "duration": 398,
    "start_time": "2021-11-21T17:37:42.120Z"
   },
   {
    "duration": 7,
    "start_time": "2021-11-21T17:37:42.519Z"
   },
   {
    "duration": 22,
    "start_time": "2021-11-21T17:37:42.527Z"
   },
   {
    "duration": 7,
    "start_time": "2021-11-21T17:37:42.551Z"
   },
   {
    "duration": 40,
    "start_time": "2021-11-21T17:37:42.560Z"
   },
   {
    "duration": 6,
    "start_time": "2021-11-21T17:37:42.601Z"
   },
   {
    "duration": 4,
    "start_time": "2021-11-21T17:37:42.608Z"
   },
   {
    "duration": 16,
    "start_time": "2021-11-21T17:37:42.614Z"
   },
   {
    "duration": 295,
    "start_time": "2021-11-21T17:37:42.632Z"
   },
   {
    "duration": 2333,
    "start_time": "2021-11-21T17:37:42.929Z"
   },
   {
    "duration": 13,
    "start_time": "2021-11-21T17:37:45.264Z"
   },
   {
    "duration": 18,
    "start_time": "2021-11-21T17:37:45.278Z"
   },
   {
    "duration": 12,
    "start_time": "2021-11-21T17:37:45.297Z"
   },
   {
    "duration": 360,
    "start_time": "2021-11-21T17:37:45.312Z"
   },
   {
    "duration": 14,
    "start_time": "2021-11-21T17:37:45.674Z"
   },
   {
    "duration": 546,
    "start_time": "2021-11-21T17:37:45.689Z"
   },
   {
    "duration": 14,
    "start_time": "2021-11-21T17:37:46.236Z"
   },
   {
    "duration": 609,
    "start_time": "2021-11-21T17:37:46.251Z"
   },
   {
    "duration": 10,
    "start_time": "2021-11-21T17:37:46.861Z"
   },
   {
    "duration": 23,
    "start_time": "2021-11-21T17:37:46.872Z"
   },
   {
    "duration": 30,
    "start_time": "2021-11-21T17:37:46.896Z"
   },
   {
    "duration": 11,
    "start_time": "2021-11-21T17:37:46.927Z"
   },
   {
    "duration": 48,
    "start_time": "2021-11-21T17:37:46.940Z"
   },
   {
    "duration": 15,
    "start_time": "2021-11-21T17:37:46.989Z"
   },
   {
    "duration": 19,
    "start_time": "2021-11-21T17:37:47.006Z"
   },
   {
    "duration": 23,
    "start_time": "2021-11-21T17:37:47.026Z"
   },
   {
    "duration": 14,
    "start_time": "2021-11-21T17:37:47.050Z"
   },
   {
    "duration": 20,
    "start_time": "2021-11-21T17:37:47.065Z"
   },
   {
    "duration": 25,
    "start_time": "2021-11-21T17:37:47.087Z"
   },
   {
    "duration": 13,
    "start_time": "2021-11-21T17:37:47.113Z"
   },
   {
    "duration": 12,
    "start_time": "2021-11-21T17:37:47.128Z"
   },
   {
    "duration": 12,
    "start_time": "2021-11-21T17:37:47.141Z"
   },
   {
    "duration": 13,
    "start_time": "2021-11-21T17:37:47.154Z"
   },
   {
    "duration": 36,
    "start_time": "2021-11-21T17:37:47.168Z"
   },
   {
    "duration": 13,
    "start_time": "2021-11-21T17:37:47.205Z"
   },
   {
    "duration": 31,
    "start_time": "2021-11-21T17:37:47.220Z"
   },
   {
    "duration": 20,
    "start_time": "2021-11-21T17:37:47.253Z"
   },
   {
    "duration": 23,
    "start_time": "2021-11-21T17:37:47.275Z"
   },
   {
    "duration": 30,
    "start_time": "2021-11-21T17:37:47.300Z"
   },
   {
    "duration": 855,
    "start_time": "2021-11-21T17:37:47.331Z"
   },
   {
    "duration": 3,
    "start_time": "2021-11-21T17:37:48.187Z"
   },
   {
    "duration": 10,
    "start_time": "2021-11-21T17:37:48.192Z"
   },
   {
    "duration": 9,
    "start_time": "2021-11-21T17:37:48.203Z"
   },
   {
    "duration": 5,
    "start_time": "2021-11-21T17:37:48.213Z"
   },
   {
    "duration": 1290,
    "start_time": "2021-11-21T17:37:48.219Z"
   },
   {
    "duration": 4,
    "start_time": "2021-11-21T17:37:49.511Z"
   },
   {
    "duration": 406,
    "start_time": "2021-11-21T17:37:49.517Z"
   },
   {
    "duration": 180,
    "start_time": "2021-11-21T17:37:49.925Z"
   },
   {
    "duration": 4,
    "start_time": "2021-11-21T17:37:50.107Z"
   },
   {
    "duration": 518,
    "start_time": "2021-11-21T17:37:50.113Z"
   },
   {
    "duration": 40038,
    "start_time": "2021-11-21T17:37:50.632Z"
   },
   {
    "duration": 4,
    "start_time": "2021-11-21T17:38:30.671Z"
   },
   {
    "duration": 473,
    "start_time": "2021-11-21T17:38:30.676Z"
   },
   {
    "duration": 6748,
    "start_time": "2021-11-21T17:38:31.151Z"
   },
   {
    "duration": 441,
    "start_time": "2021-11-21T17:38:37.901Z"
   },
   {
    "duration": 5,
    "start_time": "2021-11-21T17:38:38.344Z"
   },
   {
    "duration": 208,
    "start_time": "2021-11-21T17:38:38.351Z"
   },
   {
    "duration": 9,
    "start_time": "2021-11-21T17:38:38.561Z"
   },
   {
    "duration": 654,
    "start_time": "2021-11-21T17:38:38.590Z"
   },
   {
    "duration": 5,
    "start_time": "2021-11-21T17:38:39.245Z"
   },
   {
    "duration": 6758,
    "start_time": "2021-11-21T17:38:39.252Z"
   },
   {
    "duration": 4,
    "start_time": "2021-11-21T17:38:46.012Z"
   },
   {
    "duration": 20,
    "start_time": "2021-11-21T17:38:46.018Z"
   },
   {
    "duration": 4,
    "start_time": "2021-11-21T21:15:15.517Z"
   },
   {
    "duration": 400,
    "start_time": "2021-11-21T21:15:28.902Z"
   },
   {
    "duration": 117,
    "start_time": "2021-11-21T21:18:15.689Z"
   },
   {
    "duration": 440,
    "start_time": "2021-11-21T21:18:19.877Z"
   },
   {
    "duration": 415,
    "start_time": "2021-11-21T21:20:07.824Z"
   },
   {
    "duration": 444,
    "start_time": "2021-11-21T21:20:24.452Z"
   },
   {
    "duration": 20,
    "start_time": "2021-11-21T21:29:49.988Z"
   },
   {
    "duration": 18,
    "start_time": "2021-11-21T21:30:10.075Z"
   },
   {
    "duration": 22,
    "start_time": "2021-11-21T21:30:25.530Z"
   },
   {
    "duration": 2171,
    "start_time": "2021-11-21T21:54:33.672Z"
   },
   {
    "duration": 3,
    "start_time": "2021-11-21T21:54:35.845Z"
   },
   {
    "duration": 172,
    "start_time": "2021-11-21T21:54:35.850Z"
   },
   {
    "duration": 4,
    "start_time": "2021-11-21T21:54:36.023Z"
   },
   {
    "duration": 83,
    "start_time": "2021-11-21T21:54:36.028Z"
   },
   {
    "duration": 7,
    "start_time": "2021-11-21T21:54:36.112Z"
   },
   {
    "duration": 16,
    "start_time": "2021-11-21T21:54:36.120Z"
   },
   {
    "duration": 197,
    "start_time": "2021-11-21T21:54:36.139Z"
   },
   {
    "duration": 5,
    "start_time": "2021-11-21T21:54:36.338Z"
   },
   {
    "duration": 403,
    "start_time": "2021-11-21T21:54:36.344Z"
   },
   {
    "duration": 7,
    "start_time": "2021-11-21T21:54:36.749Z"
   },
   {
    "duration": 37,
    "start_time": "2021-11-21T21:54:36.758Z"
   },
   {
    "duration": 8,
    "start_time": "2021-11-21T21:54:36.796Z"
   },
   {
    "duration": 34,
    "start_time": "2021-11-21T21:54:36.805Z"
   },
   {
    "duration": 5,
    "start_time": "2021-11-21T21:54:36.841Z"
   },
   {
    "duration": 5,
    "start_time": "2021-11-21T21:54:36.848Z"
   },
   {
    "duration": 15,
    "start_time": "2021-11-21T21:54:36.854Z"
   },
   {
    "duration": 297,
    "start_time": "2021-11-21T21:54:36.870Z"
   },
   {
    "duration": 2371,
    "start_time": "2021-11-21T21:54:37.169Z"
   },
   {
    "duration": 17,
    "start_time": "2021-11-21T21:54:39.541Z"
   },
   {
    "duration": 28,
    "start_time": "2021-11-21T21:54:39.560Z"
   },
   {
    "duration": 16,
    "start_time": "2021-11-21T21:54:39.590Z"
   },
   {
    "duration": 369,
    "start_time": "2021-11-21T21:54:39.611Z"
   },
   {
    "duration": 12,
    "start_time": "2021-11-21T21:54:39.982Z"
   },
   {
    "duration": 565,
    "start_time": "2021-11-21T21:54:39.996Z"
   },
   {
    "duration": 28,
    "start_time": "2021-11-21T21:54:40.563Z"
   },
   {
    "duration": 554,
    "start_time": "2021-11-21T21:54:40.593Z"
   },
   {
    "duration": 11,
    "start_time": "2021-11-21T21:54:41.148Z"
   },
   {
    "duration": 28,
    "start_time": "2021-11-21T21:54:41.161Z"
   },
   {
    "duration": 15,
    "start_time": "2021-11-21T21:54:41.190Z"
   },
   {
    "duration": 6,
    "start_time": "2021-11-21T21:54:41.206Z"
   },
   {
    "duration": 33,
    "start_time": "2021-11-21T21:54:41.213Z"
   },
   {
    "duration": 15,
    "start_time": "2021-11-21T21:54:41.247Z"
   },
   {
    "duration": 27,
    "start_time": "2021-11-21T21:54:41.264Z"
   },
   {
    "duration": 10,
    "start_time": "2021-11-21T21:54:41.292Z"
   },
   {
    "duration": 15,
    "start_time": "2021-11-21T21:54:41.303Z"
   },
   {
    "duration": 22,
    "start_time": "2021-11-21T21:54:41.320Z"
   },
   {
    "duration": 8,
    "start_time": "2021-11-21T21:54:41.344Z"
   },
   {
    "duration": 23,
    "start_time": "2021-11-21T21:54:41.354Z"
   },
   {
    "duration": 15,
    "start_time": "2021-11-21T21:54:41.379Z"
   },
   {
    "duration": 12,
    "start_time": "2021-11-21T21:54:41.395Z"
   },
   {
    "duration": 28,
    "start_time": "2021-11-21T21:54:41.409Z"
   },
   {
    "duration": 22,
    "start_time": "2021-11-21T21:54:41.439Z"
   },
   {
    "duration": 15,
    "start_time": "2021-11-21T21:54:41.463Z"
   },
   {
    "duration": 38,
    "start_time": "2021-11-21T21:54:41.479Z"
   },
   {
    "duration": 10,
    "start_time": "2021-11-21T21:54:41.518Z"
   },
   {
    "duration": 35,
    "start_time": "2021-11-21T21:54:41.530Z"
   },
   {
    "duration": 31,
    "start_time": "2021-11-21T21:54:41.566Z"
   },
   {
    "duration": 961,
    "start_time": "2021-11-21T21:54:41.598Z"
   },
   {
    "duration": 4,
    "start_time": "2021-11-21T21:54:42.560Z"
   },
   {
    "duration": 12,
    "start_time": "2021-11-21T21:54:42.566Z"
   },
   {
    "duration": 9,
    "start_time": "2021-11-21T21:54:42.580Z"
   },
   {
    "duration": 11,
    "start_time": "2021-11-21T21:54:42.590Z"
   },
   {
    "duration": 1291,
    "start_time": "2021-11-21T21:54:42.602Z"
   },
   {
    "duration": 3,
    "start_time": "2021-11-21T21:54:43.895Z"
   },
   {
    "duration": 421,
    "start_time": "2021-11-21T21:54:43.899Z"
   },
   {
    "duration": 197,
    "start_time": "2021-11-21T21:54:44.321Z"
   },
   {
    "duration": 4,
    "start_time": "2021-11-21T21:54:44.589Z"
   },
   {
    "duration": 450,
    "start_time": "2021-11-21T21:54:44.595Z"
   },
   {
    "duration": 40673,
    "start_time": "2021-11-21T21:54:45.046Z"
   },
   {
    "duration": 3,
    "start_time": "2021-11-21T21:55:25.721Z"
   },
   {
    "duration": 436,
    "start_time": "2021-11-21T21:55:25.726Z"
   },
   {
    "duration": 7971,
    "start_time": "2021-11-21T21:55:26.164Z"
   },
   {
    "duration": 436,
    "start_time": "2021-11-21T21:55:34.137Z"
   },
   {
    "duration": 4,
    "start_time": "2021-11-21T21:55:34.575Z"
   },
   {
    "duration": 208,
    "start_time": "2021-11-21T21:55:34.588Z"
   },
   {
    "duration": 8,
    "start_time": "2021-11-21T21:55:34.797Z"
   },
   {
    "duration": 549,
    "start_time": "2021-11-21T21:55:34.809Z"
   },
   {
    "duration": 4,
    "start_time": "2021-11-21T21:55:35.361Z"
   },
   {
    "duration": 7047,
    "start_time": "2021-11-21T21:55:35.367Z"
   },
   {
    "duration": 3,
    "start_time": "2021-11-21T21:55:42.415Z"
   },
   {
    "duration": 20,
    "start_time": "2021-11-21T21:55:42.420Z"
   },
   {
    "duration": 52018,
    "start_time": "2021-11-22T09:45:30.302Z"
   },
   {
    "duration": 1490,
    "start_time": "2021-11-22T09:46:22.322Z"
   },
   {
    "duration": 197,
    "start_time": "2021-11-22T09:46:23.814Z"
   },
   {
    "duration": 3,
    "start_time": "2021-11-22T09:46:24.013Z"
   },
   {
    "duration": 104,
    "start_time": "2021-11-22T09:46:24.018Z"
   },
   {
    "duration": 7,
    "start_time": "2021-11-22T09:46:38.308Z"
   },
   {
    "duration": 17,
    "start_time": "2021-11-22T09:46:39.046Z"
   },
   {
    "duration": 178,
    "start_time": "2021-11-22T09:46:39.834Z"
   },
   {
    "duration": 6,
    "start_time": "2021-11-22T09:46:41.195Z"
   },
   {
    "duration": 393,
    "start_time": "2021-11-22T09:46:41.850Z"
   },
   {
    "duration": 8,
    "start_time": "2021-11-22T09:46:47.814Z"
   },
   {
    "duration": 23,
    "start_time": "2021-11-22T09:46:48.294Z"
   },
   {
    "duration": 9,
    "start_time": "2021-11-22T09:46:49.308Z"
   },
   {
    "duration": 20,
    "start_time": "2021-11-22T09:46:49.495Z"
   },
   {
    "duration": 8,
    "start_time": "2021-11-22T09:46:49.688Z"
   },
   {
    "duration": 5,
    "start_time": "2021-11-22T09:46:50.048Z"
   },
   {
    "duration": 17,
    "start_time": "2021-11-22T09:46:50.247Z"
   },
   {
    "duration": 439,
    "start_time": "2021-11-22T09:46:50.572Z"
   },
   {
    "duration": 2525,
    "start_time": "2021-11-22T09:46:51.014Z"
   },
   {
    "duration": 15,
    "start_time": "2021-11-22T09:46:53.542Z"
   },
   {
    "duration": 30,
    "start_time": "2021-11-22T09:46:53.559Z"
   },
   {
    "duration": 14,
    "start_time": "2021-11-22T09:46:53.591Z"
   },
   {
    "duration": 403,
    "start_time": "2021-11-22T09:46:53.607Z"
   },
   {
    "duration": 14,
    "start_time": "2021-11-22T09:46:54.012Z"
   },
   {
    "duration": 667,
    "start_time": "2021-11-22T09:46:54.028Z"
   },
   {
    "duration": 31,
    "start_time": "2021-11-22T09:46:54.697Z"
   },
   {
    "duration": 590,
    "start_time": "2021-11-22T09:46:54.730Z"
   },
   {
    "duration": 11,
    "start_time": "2021-11-22T09:46:55.322Z"
   },
   {
    "duration": 12,
    "start_time": "2021-11-22T09:46:55.335Z"
   },
   {
    "duration": 40,
    "start_time": "2021-11-22T09:46:55.349Z"
   },
   {
    "duration": 6,
    "start_time": "2021-11-22T09:46:55.391Z"
   },
   {
    "duration": 26,
    "start_time": "2021-11-22T09:46:55.399Z"
   },
   {
    "duration": 17,
    "start_time": "2021-11-22T09:46:55.427Z"
   },
   {
    "duration": 20,
    "start_time": "2021-11-22T09:46:55.475Z"
   },
   {
    "duration": 12,
    "start_time": "2021-11-22T09:46:55.849Z"
   },
   {
    "duration": 7,
    "start_time": "2021-11-22T09:46:56.036Z"
   },
   {
    "duration": 6,
    "start_time": "2021-11-22T09:46:56.409Z"
   },
   {
    "duration": 12,
    "start_time": "2021-11-22T09:46:56.587Z"
   },
   {
    "duration": 7,
    "start_time": "2021-11-22T09:46:56.940Z"
   },
   {
    "duration": 7,
    "start_time": "2021-11-22T09:46:57.148Z"
   },
   {
    "duration": 8,
    "start_time": "2021-11-22T09:46:57.345Z"
   },
   {
    "duration": 8,
    "start_time": "2021-11-22T09:46:57.648Z"
   },
   {
    "duration": 26,
    "start_time": "2021-11-22T09:46:57.822Z"
   },
   {
    "duration": 15,
    "start_time": "2021-11-22T09:46:58.143Z"
   },
   {
    "duration": 15,
    "start_time": "2021-11-22T09:46:58.489Z"
   },
   {
    "duration": 8,
    "start_time": "2021-11-22T09:46:58.667Z"
   },
   {
    "duration": 16,
    "start_time": "2021-11-22T09:46:59.002Z"
   },
   {
    "duration": 7,
    "start_time": "2021-11-22T09:46:59.182Z"
   },
   {
    "duration": 1024,
    "start_time": "2021-11-22T09:46:59.668Z"
   },
   {
    "duration": 4,
    "start_time": "2021-11-22T09:48:00.960Z"
   },
   {
    "duration": 5,
    "start_time": "2021-11-22T09:48:01.559Z"
   },
   {
    "duration": 4,
    "start_time": "2021-11-22T09:48:01.779Z"
   },
   {
    "duration": 4,
    "start_time": "2021-11-22T09:48:02.769Z"
   },
   {
    "duration": 1320,
    "start_time": "2021-11-22T09:48:03.250Z"
   },
   {
    "duration": 3,
    "start_time": "2021-11-22T09:48:04.572Z"
   },
   {
    "duration": 466,
    "start_time": "2021-11-22T09:48:04.577Z"
   },
   {
    "duration": 156,
    "start_time": "2021-11-22T09:48:05.045Z"
   },
   {
    "duration": 5,
    "start_time": "2021-11-22T09:48:05.203Z"
   },
   {
    "duration": 577,
    "start_time": "2021-11-22T09:48:05.210Z"
   },
   {
    "duration": 40686,
    "start_time": "2021-11-22T09:48:05.789Z"
   },
   {
    "duration": 11,
    "start_time": "2021-11-22T09:48:46.477Z"
   },
   {
    "duration": 449,
    "start_time": "2021-11-22T09:48:46.490Z"
   },
   {
    "duration": 8499,
    "start_time": "2021-11-22T09:48:46.942Z"
   },
   {
    "duration": 499,
    "start_time": "2021-11-22T09:48:55.443Z"
   },
   {
    "duration": 4,
    "start_time": "2021-11-22T09:48:55.944Z"
   },
   {
    "duration": 222,
    "start_time": "2021-11-22T09:48:55.950Z"
   },
   {
    "duration": 17,
    "start_time": "2021-11-22T09:48:56.174Z"
   },
   {
    "duration": 564,
    "start_time": "2021-11-22T09:48:56.193Z"
   },
   {
    "duration": 5,
    "start_time": "2021-11-22T09:48:56.759Z"
   },
   {
    "duration": 9411,
    "start_time": "2021-11-22T09:48:56.765Z"
   },
   {
    "duration": 12,
    "start_time": "2021-11-22T09:49:06.178Z"
   },
   {
    "duration": 56356,
    "start_time": "2021-11-22T09:49:06.192Z"
   }
  ],
  "kernelspec": {
   "display_name": "Python 3 (ipykernel)",
   "language": "python",
   "name": "python3"
  },
  "language_info": {
   "codemirror_mode": {
    "name": "ipython",
    "version": 3
   },
   "file_extension": ".py",
   "mimetype": "text/x-python",
   "name": "python",
   "nbconvert_exporter": "python",
   "pygments_lexer": "ipython3",
   "version": "3.9.5"
  },
  "toc": {
   "base_numbering": 1,
   "nav_menu": {},
   "number_sections": false,
   "sideBar": false,
   "skip_h1_title": true,
   "title_cell": "Table of Contents",
   "title_sidebar": "Contents",
   "toc_cell": false,
   "toc_position": {},
   "toc_section_display": false,
   "toc_window_display": false
  }
 },
 "nbformat": 4,
 "nbformat_minor": 2
}
