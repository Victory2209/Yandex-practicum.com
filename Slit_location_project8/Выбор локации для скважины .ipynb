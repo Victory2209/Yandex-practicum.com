{
 "cells": [
  {
   "cell_type": "markdown",
   "metadata": {},
   "source": [
    "# Выбор локации для скважины"
   ]
  },
  {
   "cell_type": "markdown",
   "metadata": {},
   "source": [
    "Вы работаете в добывающей компании «ГлавРосГосНефть». Нужно решить, где бурить новую скважину.\n",
    "\n",
    "Вам предоставлены пробы нефти в трёх регионах: в каждом 10 000 месторождений, где измерили качество нефти и объём её запасов. Постройте модель машинного обучения, которая поможет определить регион, где добыча принесёт наибольшую прибыль. Проанализируйте возможную прибыль и риски техникой *Bootstrap.*\n",
    "\n"
   ]
  },
  {
   "cell_type": "markdown",
   "metadata": {},
   "source": [
    "## Загрузка и подготовка данных"
   ]
  },
  {
   "cell_type": "code",
   "execution_count": 90,
   "metadata": {},
   "outputs": [],
   "source": [
    "import numpy as np\n",
    "import pandas as pd\n",
    "\n",
    "import matplotlib.pyplot as plt\n",
    "from sklearn.model_selection import train_test_split\n",
    "from sklearn.linear_model import LinearRegression\n",
    "from sklearn.metrics import mean_squared_error\n",
    "from sklearn.preprocessing import StandardScaler\n",
    "from sklearn.utils import shuffle\n",
    "import warnings\n",
    "warnings.filterwarnings('ignore')\n",
    "import itertools\n",
    "from scipy import stats"
   ]
  },
  {
   "cell_type": "markdown",
   "metadata": {},
   "source": [
    "Прочитаем датасеты и изучим данные таблиц. "
   ]
  },
  {
   "cell_type": "code",
   "execution_count": 49,
   "metadata": {},
   "outputs": [],
   "source": [
    "data_0 = pd.read_csv('/datasets/geo_data_0.csv')\n",
    "data_1 = pd.read_csv('/datasets/geo_data_1.csv')\n",
    "data_2 = pd.read_csv('/datasets/geo_data_2.csv')"
   ]
  },
  {
   "cell_type": "markdown",
   "metadata": {},
   "source": [
    "Шаги для выбора локации для скважины:\n",
    "\n",
    "- В избранном регионе ищут месторождения, для каждого определяют значения признаков;\n",
    "- Строят модель и оценивают объём запасов;\n",
    "- Выбирают месторождения с самым высокими оценками значений. Количество месторождений зависит от бюджета компании и стоимости разработки одной скважины;\n",
    "- Прибыль равна суммарной прибыли отобранных месторождений."
   ]
  },
  {
   "cell_type": "markdown",
   "metadata": {},
   "source": [
    "Создадим функцию, которая будет выводить запрашиваемую информацию о датасете. И посмотрим на данные: есть ли там пропущенные значения, ошибки или неподходящий тип данных."
   ]
  },
  {
   "cell_type": "code",
   "execution_count": 50,
   "metadata": {},
   "outputs": [],
   "source": [
    "def display_info(isFrame, **kwargs):\n",
    "    if isFrame:\n",
    "        out_func = display\n",
    "    else: \n",
    "        out_func = print\n",
    "        \n",
    "    for frame_name, args in kwargs.items():\n",
    "        for info_string,element in args.items():\n",
    "            if not info_string:\n",
    "                out_func(element)\n",
    "            else:\n",
    "                out_func(info_string,element)\n",
    "        print()"
   ]
  },
  {
   "cell_type": "code",
   "execution_count": 51,
   "metadata": {},
   "outputs": [
    {
     "data": {
      "text/plain": [
       "'Первый регион'"
      ]
     },
     "metadata": {},
     "output_type": "display_data"
    },
    {
     "data": {
      "text/html": [
       "<div>\n",
       "<style scoped>\n",
       "    .dataframe tbody tr th:only-of-type {\n",
       "        vertical-align: middle;\n",
       "    }\n",
       "\n",
       "    .dataframe tbody tr th {\n",
       "        vertical-align: top;\n",
       "    }\n",
       "\n",
       "    .dataframe thead th {\n",
       "        text-align: right;\n",
       "    }\n",
       "</style>\n",
       "<table border=\"1\" class=\"dataframe\">\n",
       "  <thead>\n",
       "    <tr style=\"text-align: right;\">\n",
       "      <th></th>\n",
       "      <th>id</th>\n",
       "      <th>f0</th>\n",
       "      <th>f1</th>\n",
       "      <th>f2</th>\n",
       "      <th>product</th>\n",
       "    </tr>\n",
       "  </thead>\n",
       "  <tbody>\n",
       "    <tr>\n",
       "      <td>0</td>\n",
       "      <td>txEyH</td>\n",
       "      <td>0.705745</td>\n",
       "      <td>-0.497823</td>\n",
       "      <td>1.221170</td>\n",
       "      <td>105.280062</td>\n",
       "    </tr>\n",
       "    <tr>\n",
       "      <td>1</td>\n",
       "      <td>2acmU</td>\n",
       "      <td>1.334711</td>\n",
       "      <td>-0.340164</td>\n",
       "      <td>4.365080</td>\n",
       "      <td>73.037750</td>\n",
       "    </tr>\n",
       "    <tr>\n",
       "      <td>2</td>\n",
       "      <td>409Wp</td>\n",
       "      <td>1.022732</td>\n",
       "      <td>0.151990</td>\n",
       "      <td>1.419926</td>\n",
       "      <td>85.265647</td>\n",
       "    </tr>\n",
       "    <tr>\n",
       "      <td>3</td>\n",
       "      <td>iJLyR</td>\n",
       "      <td>-0.032172</td>\n",
       "      <td>0.139033</td>\n",
       "      <td>2.978566</td>\n",
       "      <td>168.620776</td>\n",
       "    </tr>\n",
       "    <tr>\n",
       "      <td>4</td>\n",
       "      <td>Xdl7t</td>\n",
       "      <td>1.988431</td>\n",
       "      <td>0.155413</td>\n",
       "      <td>4.751769</td>\n",
       "      <td>154.036647</td>\n",
       "    </tr>\n",
       "  </tbody>\n",
       "</table>\n",
       "</div>"
      ],
      "text/plain": [
       "      id        f0        f1        f2     product\n",
       "0  txEyH  0.705745 -0.497823  1.221170  105.280062\n",
       "1  2acmU  1.334711 -0.340164  4.365080   73.037750\n",
       "2  409Wp  1.022732  0.151990  1.419926   85.265647\n",
       "3  iJLyR -0.032172  0.139033  2.978566  168.620776\n",
       "4  Xdl7t  1.988431  0.155413  4.751769  154.036647"
      ]
     },
     "metadata": {},
     "output_type": "display_data"
    },
    {
     "name": "stdout",
     "output_type": "stream",
     "text": [
      "\n"
     ]
    },
    {
     "data": {
      "text/plain": [
       "'Второй регион'"
      ]
     },
     "metadata": {},
     "output_type": "display_data"
    },
    {
     "data": {
      "text/html": [
       "<div>\n",
       "<style scoped>\n",
       "    .dataframe tbody tr th:only-of-type {\n",
       "        vertical-align: middle;\n",
       "    }\n",
       "\n",
       "    .dataframe tbody tr th {\n",
       "        vertical-align: top;\n",
       "    }\n",
       "\n",
       "    .dataframe thead th {\n",
       "        text-align: right;\n",
       "    }\n",
       "</style>\n",
       "<table border=\"1\" class=\"dataframe\">\n",
       "  <thead>\n",
       "    <tr style=\"text-align: right;\">\n",
       "      <th></th>\n",
       "      <th>id</th>\n",
       "      <th>f0</th>\n",
       "      <th>f1</th>\n",
       "      <th>f2</th>\n",
       "      <th>product</th>\n",
       "    </tr>\n",
       "  </thead>\n",
       "  <tbody>\n",
       "    <tr>\n",
       "      <td>0</td>\n",
       "      <td>kBEdx</td>\n",
       "      <td>-15.001348</td>\n",
       "      <td>-8.276000</td>\n",
       "      <td>-0.005876</td>\n",
       "      <td>3.179103</td>\n",
       "    </tr>\n",
       "    <tr>\n",
       "      <td>1</td>\n",
       "      <td>62mP7</td>\n",
       "      <td>14.272088</td>\n",
       "      <td>-3.475083</td>\n",
       "      <td>0.999183</td>\n",
       "      <td>26.953261</td>\n",
       "    </tr>\n",
       "    <tr>\n",
       "      <td>2</td>\n",
       "      <td>vyE1P</td>\n",
       "      <td>6.263187</td>\n",
       "      <td>-5.948386</td>\n",
       "      <td>5.001160</td>\n",
       "      <td>134.766305</td>\n",
       "    </tr>\n",
       "    <tr>\n",
       "      <td>3</td>\n",
       "      <td>KcrkZ</td>\n",
       "      <td>-13.081196</td>\n",
       "      <td>-11.506057</td>\n",
       "      <td>4.999415</td>\n",
       "      <td>137.945408</td>\n",
       "    </tr>\n",
       "    <tr>\n",
       "      <td>4</td>\n",
       "      <td>AHL4O</td>\n",
       "      <td>12.702195</td>\n",
       "      <td>-8.147433</td>\n",
       "      <td>5.004363</td>\n",
       "      <td>134.766305</td>\n",
       "    </tr>\n",
       "  </tbody>\n",
       "</table>\n",
       "</div>"
      ],
      "text/plain": [
       "      id         f0         f1        f2     product\n",
       "0  kBEdx -15.001348  -8.276000 -0.005876    3.179103\n",
       "1  62mP7  14.272088  -3.475083  0.999183   26.953261\n",
       "2  vyE1P   6.263187  -5.948386  5.001160  134.766305\n",
       "3  KcrkZ -13.081196 -11.506057  4.999415  137.945408\n",
       "4  AHL4O  12.702195  -8.147433  5.004363  134.766305"
      ]
     },
     "metadata": {},
     "output_type": "display_data"
    },
    {
     "name": "stdout",
     "output_type": "stream",
     "text": [
      "\n"
     ]
    },
    {
     "data": {
      "text/plain": [
       "'Третий регион'"
      ]
     },
     "metadata": {},
     "output_type": "display_data"
    },
    {
     "data": {
      "text/html": [
       "<div>\n",
       "<style scoped>\n",
       "    .dataframe tbody tr th:only-of-type {\n",
       "        vertical-align: middle;\n",
       "    }\n",
       "\n",
       "    .dataframe tbody tr th {\n",
       "        vertical-align: top;\n",
       "    }\n",
       "\n",
       "    .dataframe thead th {\n",
       "        text-align: right;\n",
       "    }\n",
       "</style>\n",
       "<table border=\"1\" class=\"dataframe\">\n",
       "  <thead>\n",
       "    <tr style=\"text-align: right;\">\n",
       "      <th></th>\n",
       "      <th>id</th>\n",
       "      <th>f0</th>\n",
       "      <th>f1</th>\n",
       "      <th>f2</th>\n",
       "      <th>product</th>\n",
       "    </tr>\n",
       "  </thead>\n",
       "  <tbody>\n",
       "    <tr>\n",
       "      <td>0</td>\n",
       "      <td>fwXo0</td>\n",
       "      <td>-1.146987</td>\n",
       "      <td>0.963328</td>\n",
       "      <td>-0.828965</td>\n",
       "      <td>27.758673</td>\n",
       "    </tr>\n",
       "    <tr>\n",
       "      <td>1</td>\n",
       "      <td>WJtFt</td>\n",
       "      <td>0.262778</td>\n",
       "      <td>0.269839</td>\n",
       "      <td>-2.530187</td>\n",
       "      <td>56.069697</td>\n",
       "    </tr>\n",
       "    <tr>\n",
       "      <td>2</td>\n",
       "      <td>ovLUW</td>\n",
       "      <td>0.194587</td>\n",
       "      <td>0.289035</td>\n",
       "      <td>-5.586433</td>\n",
       "      <td>62.871910</td>\n",
       "    </tr>\n",
       "    <tr>\n",
       "      <td>3</td>\n",
       "      <td>q6cA6</td>\n",
       "      <td>2.236060</td>\n",
       "      <td>-0.553760</td>\n",
       "      <td>0.930038</td>\n",
       "      <td>114.572842</td>\n",
       "    </tr>\n",
       "    <tr>\n",
       "      <td>4</td>\n",
       "      <td>WPMUX</td>\n",
       "      <td>-0.515993</td>\n",
       "      <td>1.716266</td>\n",
       "      <td>5.899011</td>\n",
       "      <td>149.600746</td>\n",
       "    </tr>\n",
       "  </tbody>\n",
       "</table>\n",
       "</div>"
      ],
      "text/plain": [
       "      id        f0        f1        f2     product\n",
       "0  fwXo0 -1.146987  0.963328 -0.828965   27.758673\n",
       "1  WJtFt  0.262778  0.269839 -2.530187   56.069697\n",
       "2  ovLUW  0.194587  0.289035 -5.586433   62.871910\n",
       "3  q6cA6  2.236060 -0.553760  0.930038  114.572842\n",
       "4  WPMUX -0.515993  1.716266  5.899011  149.600746"
      ]
     },
     "metadata": {},
     "output_type": "display_data"
    },
    {
     "name": "stdout",
     "output_type": "stream",
     "text": [
      "\n"
     ]
    }
   ],
   "source": [
    "display_info(True,\n",
    "             data_0 = {'Первый регион':data_0.head()},\n",
    "             data_1 = {'Второй регион':data_1.head()},\n",
    "             data_2 = {'Третий регион':data_2.head()})"
   ]
  },
  {
   "cell_type": "markdown",
   "metadata": {},
   "source": [
    "Видим, что признаки точек имеют отрицательные значения во всех трех регионах. В описании данных было отмечено, что неважно, что означают эти признаки, главное их значимость. Столбец с объемом запасов в скважине имеет большие разбросы даже по первым пяти объектам. Посмотрим на тип данных."
   ]
  },
  {
   "cell_type": "code",
   "execution_count": 52,
   "metadata": {},
   "outputs": [
    {
     "name": "stdout",
     "output_type": "stream",
     "text": [
      "<class 'pandas.core.frame.DataFrame'>\n",
      "RangeIndex: 100000 entries, 0 to 99999\n",
      "Data columns (total 5 columns):\n",
      "id         100000 non-null object\n",
      "f0         100000 non-null float64\n",
      "f1         100000 non-null float64\n",
      "f2         100000 non-null float64\n",
      "product    100000 non-null float64\n",
      "dtypes: float64(4), object(1)\n",
      "memory usage: 3.8+ MB\n",
      "<class 'pandas.core.frame.DataFrame'>\n",
      "RangeIndex: 100000 entries, 0 to 99999\n",
      "Data columns (total 5 columns):\n",
      "id         100000 non-null object\n",
      "f0         100000 non-null float64\n",
      "f1         100000 non-null float64\n",
      "f2         100000 non-null float64\n",
      "product    100000 non-null float64\n",
      "dtypes: float64(4), object(1)\n",
      "memory usage: 3.8+ MB\n",
      "<class 'pandas.core.frame.DataFrame'>\n",
      "RangeIndex: 100000 entries, 0 to 99999\n",
      "Data columns (total 5 columns):\n",
      "id         100000 non-null object\n",
      "f0         100000 non-null float64\n",
      "f1         100000 non-null float64\n",
      "f2         100000 non-null float64\n",
      "product    100000 non-null float64\n",
      "dtypes: float64(4), object(1)\n",
      "memory usage: 3.8+ MB\n"
     ]
    },
    {
     "data": {
      "text/plain": [
       "None"
      ]
     },
     "metadata": {},
     "output_type": "display_data"
    },
    {
     "name": "stdout",
     "output_type": "stream",
     "text": [
      "\n"
     ]
    },
    {
     "data": {
      "text/plain": [
       "None"
      ]
     },
     "metadata": {},
     "output_type": "display_data"
    },
    {
     "name": "stdout",
     "output_type": "stream",
     "text": [
      "\n"
     ]
    },
    {
     "data": {
      "text/plain": [
       "None"
      ]
     },
     "metadata": {},
     "output_type": "display_data"
    },
    {
     "name": "stdout",
     "output_type": "stream",
     "text": [
      "\n"
     ]
    }
   ],
   "source": [
    "display_info(True,\n",
    "             data_0 = {'':data_0.info()},\n",
    "             data_1 = {'':data_1.info()},\n",
    "             data_2 = {'':data_2.info()})"
   ]
  },
  {
   "cell_type": "markdown",
   "metadata": {},
   "source": [
    "В каждом датасете по 10000 объектов, нужно их будет проверить на наличие дубликатов. Типы данных в каждом датасете соответствуют параметрам для машинного обучения - три признака и объем запасов в скважине имеюют тип данных float64, и только у id строчной тип данных, но если дубликатов не будет обнаружено, то этот столбец мы сможем легко удалить, так как он не несет никакой значимости для машинного обучения. Пропущенных значений нигде не обнаружено. Далее посмотрим еще внимательнее на значения датасетов. "
   ]
  },
  {
   "cell_type": "code",
   "execution_count": 53,
   "metadata": {},
   "outputs": [
    {
     "data": {
      "text/plain": [
       "'Первый регион'"
      ]
     },
     "metadata": {},
     "output_type": "display_data"
    },
    {
     "data": {
      "text/html": [
       "<div>\n",
       "<style scoped>\n",
       "    .dataframe tbody tr th:only-of-type {\n",
       "        vertical-align: middle;\n",
       "    }\n",
       "\n",
       "    .dataframe tbody tr th {\n",
       "        vertical-align: top;\n",
       "    }\n",
       "\n",
       "    .dataframe thead th {\n",
       "        text-align: right;\n",
       "    }\n",
       "</style>\n",
       "<table border=\"1\" class=\"dataframe\">\n",
       "  <thead>\n",
       "    <tr style=\"text-align: right;\">\n",
       "      <th></th>\n",
       "      <th>f0</th>\n",
       "      <th>f1</th>\n",
       "      <th>f2</th>\n",
       "      <th>product</th>\n",
       "    </tr>\n",
       "  </thead>\n",
       "  <tbody>\n",
       "    <tr>\n",
       "      <td>count</td>\n",
       "      <td>100000.000000</td>\n",
       "      <td>100000.000000</td>\n",
       "      <td>100000.000000</td>\n",
       "      <td>100000.000000</td>\n",
       "    </tr>\n",
       "    <tr>\n",
       "      <td>mean</td>\n",
       "      <td>0.500419</td>\n",
       "      <td>0.250143</td>\n",
       "      <td>2.502647</td>\n",
       "      <td>92.500000</td>\n",
       "    </tr>\n",
       "    <tr>\n",
       "      <td>std</td>\n",
       "      <td>0.871832</td>\n",
       "      <td>0.504433</td>\n",
       "      <td>3.248248</td>\n",
       "      <td>44.288691</td>\n",
       "    </tr>\n",
       "    <tr>\n",
       "      <td>min</td>\n",
       "      <td>-1.408605</td>\n",
       "      <td>-0.848218</td>\n",
       "      <td>-12.088328</td>\n",
       "      <td>0.000000</td>\n",
       "    </tr>\n",
       "    <tr>\n",
       "      <td>25%</td>\n",
       "      <td>-0.072580</td>\n",
       "      <td>-0.200881</td>\n",
       "      <td>0.287748</td>\n",
       "      <td>56.497507</td>\n",
       "    </tr>\n",
       "    <tr>\n",
       "      <td>50%</td>\n",
       "      <td>0.502360</td>\n",
       "      <td>0.250252</td>\n",
       "      <td>2.515969</td>\n",
       "      <td>91.849972</td>\n",
       "    </tr>\n",
       "    <tr>\n",
       "      <td>75%</td>\n",
       "      <td>1.073581</td>\n",
       "      <td>0.700646</td>\n",
       "      <td>4.715088</td>\n",
       "      <td>128.564089</td>\n",
       "    </tr>\n",
       "    <tr>\n",
       "      <td>max</td>\n",
       "      <td>2.362331</td>\n",
       "      <td>1.343769</td>\n",
       "      <td>16.003790</td>\n",
       "      <td>185.364347</td>\n",
       "    </tr>\n",
       "  </tbody>\n",
       "</table>\n",
       "</div>"
      ],
      "text/plain": [
       "                  f0             f1             f2        product\n",
       "count  100000.000000  100000.000000  100000.000000  100000.000000\n",
       "mean        0.500419       0.250143       2.502647      92.500000\n",
       "std         0.871832       0.504433       3.248248      44.288691\n",
       "min        -1.408605      -0.848218     -12.088328       0.000000\n",
       "25%        -0.072580      -0.200881       0.287748      56.497507\n",
       "50%         0.502360       0.250252       2.515969      91.849972\n",
       "75%         1.073581       0.700646       4.715088     128.564089\n",
       "max         2.362331       1.343769      16.003790     185.364347"
      ]
     },
     "metadata": {},
     "output_type": "display_data"
    },
    {
     "name": "stdout",
     "output_type": "stream",
     "text": [
      "\n"
     ]
    },
    {
     "data": {
      "text/plain": [
       "'Второй регион'"
      ]
     },
     "metadata": {},
     "output_type": "display_data"
    },
    {
     "data": {
      "text/html": [
       "<div>\n",
       "<style scoped>\n",
       "    .dataframe tbody tr th:only-of-type {\n",
       "        vertical-align: middle;\n",
       "    }\n",
       "\n",
       "    .dataframe tbody tr th {\n",
       "        vertical-align: top;\n",
       "    }\n",
       "\n",
       "    .dataframe thead th {\n",
       "        text-align: right;\n",
       "    }\n",
       "</style>\n",
       "<table border=\"1\" class=\"dataframe\">\n",
       "  <thead>\n",
       "    <tr style=\"text-align: right;\">\n",
       "      <th></th>\n",
       "      <th>f0</th>\n",
       "      <th>f1</th>\n",
       "      <th>f2</th>\n",
       "      <th>product</th>\n",
       "    </tr>\n",
       "  </thead>\n",
       "  <tbody>\n",
       "    <tr>\n",
       "      <td>count</td>\n",
       "      <td>100000.000000</td>\n",
       "      <td>100000.000000</td>\n",
       "      <td>100000.000000</td>\n",
       "      <td>100000.000000</td>\n",
       "    </tr>\n",
       "    <tr>\n",
       "      <td>mean</td>\n",
       "      <td>1.141296</td>\n",
       "      <td>-4.796579</td>\n",
       "      <td>2.494541</td>\n",
       "      <td>68.825000</td>\n",
       "    </tr>\n",
       "    <tr>\n",
       "      <td>std</td>\n",
       "      <td>8.965932</td>\n",
       "      <td>5.119872</td>\n",
       "      <td>1.703572</td>\n",
       "      <td>45.944423</td>\n",
       "    </tr>\n",
       "    <tr>\n",
       "      <td>min</td>\n",
       "      <td>-31.609576</td>\n",
       "      <td>-26.358598</td>\n",
       "      <td>-0.018144</td>\n",
       "      <td>0.000000</td>\n",
       "    </tr>\n",
       "    <tr>\n",
       "      <td>25%</td>\n",
       "      <td>-6.298551</td>\n",
       "      <td>-8.267985</td>\n",
       "      <td>1.000021</td>\n",
       "      <td>26.953261</td>\n",
       "    </tr>\n",
       "    <tr>\n",
       "      <td>50%</td>\n",
       "      <td>1.153055</td>\n",
       "      <td>-4.813172</td>\n",
       "      <td>2.011479</td>\n",
       "      <td>57.085625</td>\n",
       "    </tr>\n",
       "    <tr>\n",
       "      <td>75%</td>\n",
       "      <td>8.621015</td>\n",
       "      <td>-1.332816</td>\n",
       "      <td>3.999904</td>\n",
       "      <td>107.813044</td>\n",
       "    </tr>\n",
       "    <tr>\n",
       "      <td>max</td>\n",
       "      <td>29.421755</td>\n",
       "      <td>18.734063</td>\n",
       "      <td>5.019721</td>\n",
       "      <td>137.945408</td>\n",
       "    </tr>\n",
       "  </tbody>\n",
       "</table>\n",
       "</div>"
      ],
      "text/plain": [
       "                  f0             f1             f2        product\n",
       "count  100000.000000  100000.000000  100000.000000  100000.000000\n",
       "mean        1.141296      -4.796579       2.494541      68.825000\n",
       "std         8.965932       5.119872       1.703572      45.944423\n",
       "min       -31.609576     -26.358598      -0.018144       0.000000\n",
       "25%        -6.298551      -8.267985       1.000021      26.953261\n",
       "50%         1.153055      -4.813172       2.011479      57.085625\n",
       "75%         8.621015      -1.332816       3.999904     107.813044\n",
       "max        29.421755      18.734063       5.019721     137.945408"
      ]
     },
     "metadata": {},
     "output_type": "display_data"
    },
    {
     "name": "stdout",
     "output_type": "stream",
     "text": [
      "\n"
     ]
    },
    {
     "data": {
      "text/plain": [
       "'Третий регион'"
      ]
     },
     "metadata": {},
     "output_type": "display_data"
    },
    {
     "data": {
      "text/html": [
       "<div>\n",
       "<style scoped>\n",
       "    .dataframe tbody tr th:only-of-type {\n",
       "        vertical-align: middle;\n",
       "    }\n",
       "\n",
       "    .dataframe tbody tr th {\n",
       "        vertical-align: top;\n",
       "    }\n",
       "\n",
       "    .dataframe thead th {\n",
       "        text-align: right;\n",
       "    }\n",
       "</style>\n",
       "<table border=\"1\" class=\"dataframe\">\n",
       "  <thead>\n",
       "    <tr style=\"text-align: right;\">\n",
       "      <th></th>\n",
       "      <th>f0</th>\n",
       "      <th>f1</th>\n",
       "      <th>f2</th>\n",
       "      <th>product</th>\n",
       "    </tr>\n",
       "  </thead>\n",
       "  <tbody>\n",
       "    <tr>\n",
       "      <td>count</td>\n",
       "      <td>100000.000000</td>\n",
       "      <td>100000.000000</td>\n",
       "      <td>100000.000000</td>\n",
       "      <td>100000.000000</td>\n",
       "    </tr>\n",
       "    <tr>\n",
       "      <td>mean</td>\n",
       "      <td>0.002023</td>\n",
       "      <td>-0.002081</td>\n",
       "      <td>2.495128</td>\n",
       "      <td>95.000000</td>\n",
       "    </tr>\n",
       "    <tr>\n",
       "      <td>std</td>\n",
       "      <td>1.732045</td>\n",
       "      <td>1.730417</td>\n",
       "      <td>3.473445</td>\n",
       "      <td>44.749921</td>\n",
       "    </tr>\n",
       "    <tr>\n",
       "      <td>min</td>\n",
       "      <td>-8.760004</td>\n",
       "      <td>-7.084020</td>\n",
       "      <td>-11.970335</td>\n",
       "      <td>0.000000</td>\n",
       "    </tr>\n",
       "    <tr>\n",
       "      <td>25%</td>\n",
       "      <td>-1.162288</td>\n",
       "      <td>-1.174820</td>\n",
       "      <td>0.130359</td>\n",
       "      <td>59.450441</td>\n",
       "    </tr>\n",
       "    <tr>\n",
       "      <td>50%</td>\n",
       "      <td>0.009424</td>\n",
       "      <td>-0.009482</td>\n",
       "      <td>2.484236</td>\n",
       "      <td>94.925613</td>\n",
       "    </tr>\n",
       "    <tr>\n",
       "      <td>75%</td>\n",
       "      <td>1.158535</td>\n",
       "      <td>1.163678</td>\n",
       "      <td>4.858794</td>\n",
       "      <td>130.595027</td>\n",
       "    </tr>\n",
       "    <tr>\n",
       "      <td>max</td>\n",
       "      <td>7.238262</td>\n",
       "      <td>7.844801</td>\n",
       "      <td>16.739402</td>\n",
       "      <td>190.029838</td>\n",
       "    </tr>\n",
       "  </tbody>\n",
       "</table>\n",
       "</div>"
      ],
      "text/plain": [
       "                  f0             f1             f2        product\n",
       "count  100000.000000  100000.000000  100000.000000  100000.000000\n",
       "mean        0.002023      -0.002081       2.495128      95.000000\n",
       "std         1.732045       1.730417       3.473445      44.749921\n",
       "min        -8.760004      -7.084020     -11.970335       0.000000\n",
       "25%        -1.162288      -1.174820       0.130359      59.450441\n",
       "50%         0.009424      -0.009482       2.484236      94.925613\n",
       "75%         1.158535       1.163678       4.858794     130.595027\n",
       "max         7.238262       7.844801      16.739402     190.029838"
      ]
     },
     "metadata": {},
     "output_type": "display_data"
    },
    {
     "name": "stdout",
     "output_type": "stream",
     "text": [
      "\n"
     ]
    }
   ],
   "source": [
    "display_info(True,\n",
    "             data_0 = {'Первый регион':data_0.describe()},\n",
    "             data_1 = {'Второй регион':data_1.describe()},\n",
    "             data_2 = {'Третий регион':data_2.describe()})"
   ]
  },
  {
   "cell_type": "markdown",
   "metadata": {},
   "source": [
    "В первом регионе средний объем запасов в скважине - 92.5 тыс. баррелей.\n",
    "Во втором регионе - 68.8 тыс. баррелей.\n",
    "В третьем регионе - 95 тыс. баррелей.\n",
    "\n",
    "Теперь же посмотрим на наличчие дубликатов."
   ]
  },
  {
   "cell_type": "code",
   "execution_count": 54,
   "metadata": {},
   "outputs": [
    {
     "name": "stdout",
     "output_type": "stream",
     "text": [
      "Количество дубликатов в первом датасете: 0\n",
      "\n",
      "Количество дубликатов во втором датасете: 0\n",
      "\n",
      "Количество дубликатов в третьем датасете: 0\n",
      "\n"
     ]
    }
   ],
   "source": [
    "display_info(False,\n",
    "             data_0 = {'Количество дубликатов в первом датасете:':data_0.duplicated().sum()},\n",
    "             data_1 = {'Количество дубликатов во втором датасете:':data_1.duplicated().sum()},\n",
    "             data_2 = {'Количество дубликатов в третьем датасете:':data_2.duplicated().sum()})"
   ]
  },
  {
   "cell_type": "markdown",
   "metadata": {},
   "source": [
    "Создадим функцию по подсчету нулевых значений в датасетах и их процентной доле. Посмотрим их количество в столбце 'product', затем в каких строчках эти нулевые значения."
   ]
  },
  {
   "cell_type": "code",
   "execution_count": 55,
   "metadata": {},
   "outputs": [],
   "source": [
    "def check_zeros(df, target_name):\n",
    "    zeros = df[df[target_name] == 0][target_name].count()\n",
    "    percent = zeros / df.shape[0]\n",
    "    print('Количество нулевых значений -', zeros)\n",
    "    print('Процент нулевых значений -', percent)"
   ]
  },
  {
   "cell_type": "code",
   "execution_count": 56,
   "metadata": {},
   "outputs": [
    {
     "name": "stdout",
     "output_type": "stream",
     "text": [
      "Количество нулевых значений - 1\n",
      "Процент нулевых значений - 1e-05\n",
      "Количество нулевых значений - 8235\n",
      "Процент нулевых значений - 0.08235\n",
      "Количество нулевых значений - 1\n",
      "Процент нулевых значений - 1e-05\n"
     ]
    }
   ],
   "source": [
    "check_zeros(data_0, 'product')\n",
    "check_zeros(data_1, 'product')\n",
    "check_zeros(data_2, 'product')"
   ]
  },
  {
   "cell_type": "code",
   "execution_count": 57,
   "metadata": {},
   "outputs": [
    {
     "data": {
      "text/html": [
       "<div>\n",
       "<style scoped>\n",
       "    .dataframe tbody tr th:only-of-type {\n",
       "        vertical-align: middle;\n",
       "    }\n",
       "\n",
       "    .dataframe tbody tr th {\n",
       "        vertical-align: top;\n",
       "    }\n",
       "\n",
       "    .dataframe thead th {\n",
       "        text-align: right;\n",
       "    }\n",
       "</style>\n",
       "<table border=\"1\" class=\"dataframe\">\n",
       "  <thead>\n",
       "    <tr style=\"text-align: right;\">\n",
       "      <th></th>\n",
       "      <th>id</th>\n",
       "      <th>f0</th>\n",
       "      <th>f1</th>\n",
       "      <th>f2</th>\n",
       "      <th>product</th>\n",
       "    </tr>\n",
       "  </thead>\n",
       "  <tbody>\n",
       "    <tr>\n",
       "      <td>57263</td>\n",
       "      <td>zCM5W</td>\n",
       "      <td>-0.702064</td>\n",
       "      <td>0.375992</td>\n",
       "      <td>0.236572</td>\n",
       "      <td>0.0</td>\n",
       "    </tr>\n",
       "  </tbody>\n",
       "</table>\n",
       "</div>"
      ],
      "text/plain": [
       "          id        f0        f1        f2  product\n",
       "57263  zCM5W -0.702064  0.375992  0.236572      0.0"
      ]
     },
     "execution_count": 57,
     "metadata": {},
     "output_type": "execute_result"
    }
   ],
   "source": [
    "data_0[data_0['product'] == 0]"
   ]
  },
  {
   "cell_type": "code",
   "execution_count": 58,
   "metadata": {},
   "outputs": [
    {
     "data": {
      "text/html": [
       "<div>\n",
       "<style scoped>\n",
       "    .dataframe tbody tr th:only-of-type {\n",
       "        vertical-align: middle;\n",
       "    }\n",
       "\n",
       "    .dataframe tbody tr th {\n",
       "        vertical-align: top;\n",
       "    }\n",
       "\n",
       "    .dataframe thead th {\n",
       "        text-align: right;\n",
       "    }\n",
       "</style>\n",
       "<table border=\"1\" class=\"dataframe\">\n",
       "  <thead>\n",
       "    <tr style=\"text-align: right;\">\n",
       "      <th></th>\n",
       "      <th>id</th>\n",
       "      <th>f0</th>\n",
       "      <th>f1</th>\n",
       "      <th>f2</th>\n",
       "      <th>product</th>\n",
       "    </tr>\n",
       "  </thead>\n",
       "  <tbody>\n",
       "    <tr>\n",
       "      <td>11</td>\n",
       "      <td>OXyvW</td>\n",
       "      <td>16.320755</td>\n",
       "      <td>-0.562946</td>\n",
       "      <td>-0.001783</td>\n",
       "      <td>0.0</td>\n",
       "    </tr>\n",
       "    <tr>\n",
       "      <td>13</td>\n",
       "      <td>igmai</td>\n",
       "      <td>6.695604</td>\n",
       "      <td>-0.749449</td>\n",
       "      <td>-0.007630</td>\n",
       "      <td>0.0</td>\n",
       "    </tr>\n",
       "    <tr>\n",
       "      <td>62</td>\n",
       "      <td>Qjy5w</td>\n",
       "      <td>21.418478</td>\n",
       "      <td>-5.134490</td>\n",
       "      <td>-0.002836</td>\n",
       "      <td>0.0</td>\n",
       "    </tr>\n",
       "    <tr>\n",
       "      <td>63</td>\n",
       "      <td>G6WCj</td>\n",
       "      <td>6.822701</td>\n",
       "      <td>3.104979</td>\n",
       "      <td>-0.000723</td>\n",
       "      <td>0.0</td>\n",
       "    </tr>\n",
       "    <tr>\n",
       "      <td>77</td>\n",
       "      <td>MzQhL</td>\n",
       "      <td>6.750150</td>\n",
       "      <td>-11.893512</td>\n",
       "      <td>-0.001601</td>\n",
       "      <td>0.0</td>\n",
       "    </tr>\n",
       "    <tr>\n",
       "      <td>...</td>\n",
       "      <td>...</td>\n",
       "      <td>...</td>\n",
       "      <td>...</td>\n",
       "      <td>...</td>\n",
       "      <td>...</td>\n",
       "    </tr>\n",
       "    <tr>\n",
       "      <td>99936</td>\n",
       "      <td>YrRU8</td>\n",
       "      <td>5.085749</td>\n",
       "      <td>-3.980305</td>\n",
       "      <td>0.005063</td>\n",
       "      <td>0.0</td>\n",
       "    </tr>\n",
       "    <tr>\n",
       "      <td>99948</td>\n",
       "      <td>Jbnur</td>\n",
       "      <td>8.277805</td>\n",
       "      <td>-9.178818</td>\n",
       "      <td>0.003275</td>\n",
       "      <td>0.0</td>\n",
       "    </tr>\n",
       "    <tr>\n",
       "      <td>99956</td>\n",
       "      <td>aV1cJ</td>\n",
       "      <td>13.343983</td>\n",
       "      <td>-1.290200</td>\n",
       "      <td>0.005980</td>\n",
       "      <td>0.0</td>\n",
       "    </tr>\n",
       "    <tr>\n",
       "      <td>99961</td>\n",
       "      <td>Zjbn2</td>\n",
       "      <td>13.854163</td>\n",
       "      <td>-11.528089</td>\n",
       "      <td>-0.005556</td>\n",
       "      <td>0.0</td>\n",
       "    </tr>\n",
       "    <tr>\n",
       "      <td>99973</td>\n",
       "      <td>VsayB</td>\n",
       "      <td>12.698645</td>\n",
       "      <td>-4.384673</td>\n",
       "      <td>-0.002600</td>\n",
       "      <td>0.0</td>\n",
       "    </tr>\n",
       "  </tbody>\n",
       "</table>\n",
       "<p>8235 rows × 5 columns</p>\n",
       "</div>"
      ],
      "text/plain": [
       "          id         f0         f1        f2  product\n",
       "11     OXyvW  16.320755  -0.562946 -0.001783      0.0\n",
       "13     igmai   6.695604  -0.749449 -0.007630      0.0\n",
       "62     Qjy5w  21.418478  -5.134490 -0.002836      0.0\n",
       "63     G6WCj   6.822701   3.104979 -0.000723      0.0\n",
       "77     MzQhL   6.750150 -11.893512 -0.001601      0.0\n",
       "...      ...        ...        ...       ...      ...\n",
       "99936  YrRU8   5.085749  -3.980305  0.005063      0.0\n",
       "99948  Jbnur   8.277805  -9.178818  0.003275      0.0\n",
       "99956  aV1cJ  13.343983  -1.290200  0.005980      0.0\n",
       "99961  Zjbn2  13.854163 -11.528089 -0.005556      0.0\n",
       "99973  VsayB  12.698645  -4.384673 -0.002600      0.0\n",
       "\n",
       "[8235 rows x 5 columns]"
      ]
     },
     "execution_count": 58,
     "metadata": {},
     "output_type": "execute_result"
    }
   ],
   "source": [
    "data_1[data_1['product'] == 0]"
   ]
  },
  {
   "cell_type": "code",
   "execution_count": 59,
   "metadata": {},
   "outputs": [
    {
     "data": {
      "text/html": [
       "<div>\n",
       "<style scoped>\n",
       "    .dataframe tbody tr th:only-of-type {\n",
       "        vertical-align: middle;\n",
       "    }\n",
       "\n",
       "    .dataframe tbody tr th {\n",
       "        vertical-align: top;\n",
       "    }\n",
       "\n",
       "    .dataframe thead th {\n",
       "        text-align: right;\n",
       "    }\n",
       "</style>\n",
       "<table border=\"1\" class=\"dataframe\">\n",
       "  <thead>\n",
       "    <tr style=\"text-align: right;\">\n",
       "      <th></th>\n",
       "      <th>id</th>\n",
       "      <th>f0</th>\n",
       "      <th>f1</th>\n",
       "      <th>f2</th>\n",
       "      <th>product</th>\n",
       "    </tr>\n",
       "  </thead>\n",
       "  <tbody>\n",
       "    <tr>\n",
       "      <td>68149</td>\n",
       "      <td>qeefd</td>\n",
       "      <td>-0.865596</td>\n",
       "      <td>-1.615247</td>\n",
       "      <td>-4.126441</td>\n",
       "      <td>0.0</td>\n",
       "    </tr>\n",
       "  </tbody>\n",
       "</table>\n",
       "</div>"
      ],
      "text/plain": [
       "          id        f0        f1        f2  product\n",
       "68149  qeefd -0.865596 -1.615247 -4.126441      0.0"
      ]
     },
     "execution_count": 59,
     "metadata": {},
     "output_type": "execute_result"
    }
   ],
   "source": [
    "data_2[data_2['product'] == 0]"
   ]
  },
  {
   "cell_type": "markdown",
   "metadata": {},
   "source": [
    "Видим, что во втором регионе очень много нулевых значений. Данные либо потеряны, либо скважины изначально не были изучены. Мы ничего делать с этими значениями не будем, так как не владеем достаточным количеством информации."
   ]
  },
  {
   "cell_type": "markdown",
   "metadata": {},
   "source": [
    "Посмотрим визуально на объем запасов нефти. "
   ]
  },
  {
   "cell_type": "code",
   "execution_count": 60,
   "metadata": {},
   "outputs": [
    {
     "data": {
      "image/png": "[encoded data removed]",
      "text/plain": [
       "<Figure size 1440x1080 with 12 Axes>"
      ]
     },
     "metadata": {
      "needs_background": "light"
     },
     "output_type": "display_data"
    }
   ],
   "source": [
    "fig,ax = plt.subplots(3,4,figsize = (20,15))\n",
    "\n",
    "all_frames = [\"data_0\",\"data_1\",\"data_2\"]\n",
    "num_columns = data_0.columns[1:]\n",
    "num_columns_with_columns = zip(data_0.columns[1:],range(4))\n",
    "all_frames_with_rows = zip([data_0,data_1,data_2],range(3))\n",
    "\n",
    "for column in list(itertools.product(all_frames_with_rows,num_columns_with_columns)):\n",
    "    ax[column[0][1]][column[1][1]].boxplot(column[0][0][column[1][0]])\n",
    "\n",
    "for row in range(3):\n",
    "    ax[row][0].set_ylabel(all_frames[row])\n",
    "\n",
    "for column in range(4):\n",
    "    ax[0][column].set_title(num_columns[column])"
   ]
  },
  {
   "cell_type": "markdown",
   "metadata": {},
   "source": [
    "В первом регионе очень большой разброс значений у третьего признака.  \n",
    "Второй регион имеет выбросы во втором признаке.  \n",
    "Третий регион богат на выбросы по всем трем признакам."
   ]
  },
  {
   "cell_type": "markdown",
   "metadata": {},
   "source": [
    "Изучим корреляцию между признаками."
   ]
  },
  {
   "cell_type": "code",
   "execution_count": 61,
   "metadata": {},
   "outputs": [
    {
     "data": {
      "text/plain": [
       "'Первый регион'"
      ]
     },
     "metadata": {},
     "output_type": "display_data"
    },
    {
     "data": {
      "text/html": [
       "<div>\n",
       "<style scoped>\n",
       "    .dataframe tbody tr th:only-of-type {\n",
       "        vertical-align: middle;\n",
       "    }\n",
       "\n",
       "    .dataframe tbody tr th {\n",
       "        vertical-align: top;\n",
       "    }\n",
       "\n",
       "    .dataframe thead th {\n",
       "        text-align: right;\n",
       "    }\n",
       "</style>\n",
       "<table border=\"1\" class=\"dataframe\">\n",
       "  <thead>\n",
       "    <tr style=\"text-align: right;\">\n",
       "      <th></th>\n",
       "      <th>f0</th>\n",
       "      <th>f1</th>\n",
       "      <th>f2</th>\n",
       "      <th>product</th>\n",
       "    </tr>\n",
       "  </thead>\n",
       "  <tbody>\n",
       "    <tr>\n",
       "      <td>f0</td>\n",
       "      <td>1.000000</td>\n",
       "      <td>-0.440723</td>\n",
       "      <td>-0.003153</td>\n",
       "      <td>0.143536</td>\n",
       "    </tr>\n",
       "    <tr>\n",
       "      <td>f1</td>\n",
       "      <td>-0.440723</td>\n",
       "      <td>1.000000</td>\n",
       "      <td>0.001724</td>\n",
       "      <td>-0.192356</td>\n",
       "    </tr>\n",
       "    <tr>\n",
       "      <td>f2</td>\n",
       "      <td>-0.003153</td>\n",
       "      <td>0.001724</td>\n",
       "      <td>1.000000</td>\n",
       "      <td>0.483663</td>\n",
       "    </tr>\n",
       "    <tr>\n",
       "      <td>product</td>\n",
       "      <td>0.143536</td>\n",
       "      <td>-0.192356</td>\n",
       "      <td>0.483663</td>\n",
       "      <td>1.000000</td>\n",
       "    </tr>\n",
       "  </tbody>\n",
       "</table>\n",
       "</div>"
      ],
      "text/plain": [
       "               f0        f1        f2   product\n",
       "f0       1.000000 -0.440723 -0.003153  0.143536\n",
       "f1      -0.440723  1.000000  0.001724 -0.192356\n",
       "f2      -0.003153  0.001724  1.000000  0.483663\n",
       "product  0.143536 -0.192356  0.483663  1.000000"
      ]
     },
     "metadata": {},
     "output_type": "display_data"
    },
    {
     "name": "stdout",
     "output_type": "stream",
     "text": [
      "\n"
     ]
    },
    {
     "data": {
      "text/plain": [
       "'Второй регион'"
      ]
     },
     "metadata": {},
     "output_type": "display_data"
    },
    {
     "data": {
      "text/html": [
       "<div>\n",
       "<style scoped>\n",
       "    .dataframe tbody tr th:only-of-type {\n",
       "        vertical-align: middle;\n",
       "    }\n",
       "\n",
       "    .dataframe tbody tr th {\n",
       "        vertical-align: top;\n",
       "    }\n",
       "\n",
       "    .dataframe thead th {\n",
       "        text-align: right;\n",
       "    }\n",
       "</style>\n",
       "<table border=\"1\" class=\"dataframe\">\n",
       "  <thead>\n",
       "    <tr style=\"text-align: right;\">\n",
       "      <th></th>\n",
       "      <th>f0</th>\n",
       "      <th>f1</th>\n",
       "      <th>f2</th>\n",
       "      <th>product</th>\n",
       "    </tr>\n",
       "  </thead>\n",
       "  <tbody>\n",
       "    <tr>\n",
       "      <td>f0</td>\n",
       "      <td>1.000000</td>\n",
       "      <td>0.182287</td>\n",
       "      <td>-0.001777</td>\n",
       "      <td>-0.030491</td>\n",
       "    </tr>\n",
       "    <tr>\n",
       "      <td>f1</td>\n",
       "      <td>0.182287</td>\n",
       "      <td>1.000000</td>\n",
       "      <td>-0.002595</td>\n",
       "      <td>-0.010155</td>\n",
       "    </tr>\n",
       "    <tr>\n",
       "      <td>f2</td>\n",
       "      <td>-0.001777</td>\n",
       "      <td>-0.002595</td>\n",
       "      <td>1.000000</td>\n",
       "      <td>0.999397</td>\n",
       "    </tr>\n",
       "    <tr>\n",
       "      <td>product</td>\n",
       "      <td>-0.030491</td>\n",
       "      <td>-0.010155</td>\n",
       "      <td>0.999397</td>\n",
       "      <td>1.000000</td>\n",
       "    </tr>\n",
       "  </tbody>\n",
       "</table>\n",
       "</div>"
      ],
      "text/plain": [
       "               f0        f1        f2   product\n",
       "f0       1.000000  0.182287 -0.001777 -0.030491\n",
       "f1       0.182287  1.000000 -0.002595 -0.010155\n",
       "f2      -0.001777 -0.002595  1.000000  0.999397\n",
       "product -0.030491 -0.010155  0.999397  1.000000"
      ]
     },
     "metadata": {},
     "output_type": "display_data"
    },
    {
     "name": "stdout",
     "output_type": "stream",
     "text": [
      "\n"
     ]
    },
    {
     "data": {
      "text/plain": [
       "'Третий регион'"
      ]
     },
     "metadata": {},
     "output_type": "display_data"
    },
    {
     "data": {
      "text/html": [
       "<div>\n",
       "<style scoped>\n",
       "    .dataframe tbody tr th:only-of-type {\n",
       "        vertical-align: middle;\n",
       "    }\n",
       "\n",
       "    .dataframe tbody tr th {\n",
       "        vertical-align: top;\n",
       "    }\n",
       "\n",
       "    .dataframe thead th {\n",
       "        text-align: right;\n",
       "    }\n",
       "</style>\n",
       "<table border=\"1\" class=\"dataframe\">\n",
       "  <thead>\n",
       "    <tr style=\"text-align: right;\">\n",
       "      <th></th>\n",
       "      <th>f0</th>\n",
       "      <th>f1</th>\n",
       "      <th>f2</th>\n",
       "      <th>product</th>\n",
       "    </tr>\n",
       "  </thead>\n",
       "  <tbody>\n",
       "    <tr>\n",
       "      <td>f0</td>\n",
       "      <td>1.000000</td>\n",
       "      <td>0.000528</td>\n",
       "      <td>-0.000448</td>\n",
       "      <td>-0.001987</td>\n",
       "    </tr>\n",
       "    <tr>\n",
       "      <td>f1</td>\n",
       "      <td>0.000528</td>\n",
       "      <td>1.000000</td>\n",
       "      <td>0.000779</td>\n",
       "      <td>-0.001012</td>\n",
       "    </tr>\n",
       "    <tr>\n",
       "      <td>f2</td>\n",
       "      <td>-0.000448</td>\n",
       "      <td>0.000779</td>\n",
       "      <td>1.000000</td>\n",
       "      <td>0.445871</td>\n",
       "    </tr>\n",
       "    <tr>\n",
       "      <td>product</td>\n",
       "      <td>-0.001987</td>\n",
       "      <td>-0.001012</td>\n",
       "      <td>0.445871</td>\n",
       "      <td>1.000000</td>\n",
       "    </tr>\n",
       "  </tbody>\n",
       "</table>\n",
       "</div>"
      ],
      "text/plain": [
       "               f0        f1        f2   product\n",
       "f0       1.000000  0.000528 -0.000448 -0.001987\n",
       "f1       0.000528  1.000000  0.000779 -0.001012\n",
       "f2      -0.000448  0.000779  1.000000  0.445871\n",
       "product -0.001987 -0.001012  0.445871  1.000000"
      ]
     },
     "metadata": {},
     "output_type": "display_data"
    },
    {
     "name": "stdout",
     "output_type": "stream",
     "text": [
      "\n"
     ]
    }
   ],
   "source": [
    "display_info(True,\n",
    "             data_0 = {'Первый регион':data_0.corr()},\n",
    "             data_1 = {'Второй регион':data_1.corr()},\n",
    "             data_2 = {'Третий регион':data_2.corr()})"
   ]
  },
  {
   "cell_type": "markdown",
   "metadata": {},
   "source": [
    "Заметим, что в первом регионе признаки f0 и f1 отрицательно коррелируют относительно друг друга и f2 слабо положительно коррелирует с целевым признаком.   \n",
    "Во втором регионе очень сильно коррелирует целевой признак и f2.   \n",
    "В третьем регионе так же есть коррелирующие признаки, такие как f2 и product."
   ]
  },
  {
   "cell_type": "markdown",
   "metadata": {},
   "source": [
    "Так как в данных нет пропущенных значений, то мы можем удалить столбцы с id, ведь они не несут никакой важной значимости для машинного обучения. "
   ]
  },
  {
   "cell_type": "code",
   "execution_count": 62,
   "metadata": {},
   "outputs": [],
   "source": [
    "data_0 = data_0.drop(['id'], axis=1)\n",
    "data_1 = data_1.drop(['id'], axis=1)\n",
    "data_2 = data_2.drop(['id'], axis=1)"
   ]
  },
  {
   "cell_type": "markdown",
   "metadata": {},
   "source": [
    "#### Выводы "
   ]
  },
  {
   "cell_type": "markdown",
   "metadata": {},
   "source": [
    "По результатам подготовки данных - \n",
    "\n",
    "Пропуски не обнаружены в датасетах,    \n",
    "Типы данных соответствуют параметрам для машинного обучения,   \n",
    "Названия столбцов верны,   \n",
    "Дубликаты в данных не обнаружены,    \n",
    "Объем запасов везде положительный,    \n",
    "Коррелирующие признаки изучены.\n"
   ]
  },
  {
   "cell_type": "markdown",
   "metadata": {},
   "source": [
    "## Обучение и проверка модели"
   ]
  },
  {
   "cell_type": "markdown",
   "metadata": {},
   "source": [
    "Выделим целевой признак и разобъем датасет на обучающую и валидационную выборки в соотношении 75:25.\n",
    "Проверим качество модели линейной регрессии с текущим значением признаков и с масштабируемыми. Проверим эту гипотезу на нулевом датасете, то есть на первом регионе. "
   ]
  },
  {
   "cell_type": "code",
   "execution_count": 63,
   "metadata": {},
   "outputs": [],
   "source": [
    "def test_split(df, target):\n",
    "    features = df.drop([target] , axis=1)\n",
    "    target = df[target]\n",
    "\n",
    "    features_train, features_valid, target_train, target_valid = train_test_split(\n",
    "    features, target, test_size=0.25, random_state=5062020)\n",
    "    \n",
    "    return features_train, features_valid, target_train, target_valid"
   ]
  },
  {
   "cell_type": "code",
   "execution_count": 64,
   "metadata": {},
   "outputs": [
    {
     "data": {
      "text/html": [
       "<div>\n",
       "<style scoped>\n",
       "    .dataframe tbody tr th:only-of-type {\n",
       "        vertical-align: middle;\n",
       "    }\n",
       "\n",
       "    .dataframe tbody tr th {\n",
       "        vertical-align: top;\n",
       "    }\n",
       "\n",
       "    .dataframe thead th {\n",
       "        text-align: right;\n",
       "    }\n",
       "</style>\n",
       "<table border=\"1\" class=\"dataframe\">\n",
       "  <thead>\n",
       "    <tr style=\"text-align: right;\">\n",
       "      <th></th>\n",
       "      <th>f0</th>\n",
       "      <th>f1</th>\n",
       "      <th>f2</th>\n",
       "    </tr>\n",
       "  </thead>\n",
       "  <tbody>\n",
       "    <tr>\n",
       "      <td>78638</td>\n",
       "      <td>0.602333</td>\n",
       "      <td>-0.445623</td>\n",
       "      <td>3.165303</td>\n",
       "    </tr>\n",
       "    <tr>\n",
       "      <td>67323</td>\n",
       "      <td>-0.984306</td>\n",
       "      <td>0.046746</td>\n",
       "      <td>0.400594</td>\n",
       "    </tr>\n",
       "    <tr>\n",
       "      <td>25303</td>\n",
       "      <td>0.085069</td>\n",
       "      <td>0.050226</td>\n",
       "      <td>-0.374703</td>\n",
       "    </tr>\n",
       "    <tr>\n",
       "      <td>80751</td>\n",
       "      <td>0.174317</td>\n",
       "      <td>0.011649</td>\n",
       "      <td>4.180446</td>\n",
       "    </tr>\n",
       "    <tr>\n",
       "      <td>28950</td>\n",
       "      <td>0.372650</td>\n",
       "      <td>1.031981</td>\n",
       "      <td>2.904160</td>\n",
       "    </tr>\n",
       "  </tbody>\n",
       "</table>\n",
       "</div>"
      ],
      "text/plain": [
       "             f0        f1        f2\n",
       "78638  0.602333 -0.445623  3.165303\n",
       "67323 -0.984306  0.046746  0.400594\n",
       "25303  0.085069  0.050226 -0.374703\n",
       "80751  0.174317  0.011649  4.180446\n",
       "28950  0.372650  1.031981  2.904160"
      ]
     },
     "execution_count": 64,
     "metadata": {},
     "output_type": "execute_result"
    }
   ],
   "source": [
    "features_train_0, features_valid_0, target_train_0, target_valid_0 = test_split(data_0, 'product')\n",
    "features_train_0.head()"
   ]
  },
  {
   "cell_type": "markdown",
   "metadata": {},
   "source": [
    "Теперь создадим функцию дла масштабирования."
   ]
  },
  {
   "cell_type": "code",
   "execution_count": 65,
   "metadata": {},
   "outputs": [],
   "source": [
    "def test_split_scaled(df, numeric, target):\n",
    "    data_s = df.copy()\n",
    "\n",
    "    features_s = data_s.drop([target] , axis=1)\n",
    "    target_s = data_s[target]\n",
    "\n",
    "    features_train_s, features_valid_s, target_train_s, target_valid_s = train_test_split(\n",
    "        features_s, target_s, test_size=0.25, random_state=5062020)\n",
    "\n",
    "    scaler = StandardScaler()\n",
    "    scaler.fit(features_train_s[numeric])\n",
    "    features_train_s[numeric] = scaler.transform(features_train_s[numeric])\n",
    "    features_valid_s[numeric] = scaler.transform(features_valid_s[numeric])\n",
    "\n",
    "    return features_train_s, features_valid_s, target_train_s, target_valid_s"
   ]
  },
  {
   "cell_type": "markdown",
   "metadata": {},
   "source": [
    "Сравним качество данных без изменений с масштабированием."
   ]
  },
  {
   "cell_type": "code",
   "execution_count": 66,
   "metadata": {},
   "outputs": [
    {
     "name": "stdout",
     "output_type": "stream",
     "text": [
      "RMSE - 37.401957199217094\n",
      "RMSE - 37.401957199217094\n"
     ]
    }
   ],
   "source": [
    "model = LinearRegression()\n",
    "\n",
    "model.fit(features_train_0, target_train_0)\n",
    "predicted_target_0 = model.predict(features_valid_0)\n",
    "print('RMSE -', mean_squared_error(target_valid_0, predicted_target_0)**0.5)\n",
    "\n",
    "\n",
    "\n",
    "features_train_0s, features_valid_0s, target_train_0s, target_valid_0s = test_split_scaled(\n",
    "                                                                        data_0, ['f0', 'f1', 'f2'], 'product')\n",
    "model.fit(features_train_0s, target_train_0s)\n",
    "predicted_target_0s = model.predict(features_valid_0s)\n",
    "print('RMSE -', mean_squared_error(target_valid_0s, predicted_target_0s)**0.5)"
   ]
  },
  {
   "cell_type": "code",
   "execution_count": 67,
   "metadata": {},
   "outputs": [
    {
     "name": "stdout",
     "output_type": "stream",
     "text": [
      "RMSE - 0.8874258342572853\n",
      "RMSE - 0.887425834257285\n"
     ]
    }
   ],
   "source": [
    "features_train_1, features_valid_1, target_train_1, target_valid_1 = test_split(data_1, 'product')\n",
    "model.fit(features_train_1, target_train_1)\n",
    "predicted_target_1 = model.predict(features_valid_1)\n",
    "print('RMSE -', mean_squared_error(target_valid_1, predicted_target_1)**0.5)\n",
    "\n",
    "\n",
    "\n",
    "features_train_1s, features_valid_1s, target_train_1s, target_valid_1s = test_split_scaled(\n",
    "                                                                        data_1, ['f0', 'f1', 'f2'], 'product')\n",
    "model.fit(features_train_1s, target_train_1s)\n",
    "predicted_target_1s = model.predict(features_valid_1s)\n",
    "print('RMSE -', mean_squared_error(target_valid_1s, predicted_target_1s)**0.5)"
   ]
  },
  {
   "cell_type": "code",
   "execution_count": 68,
   "metadata": {},
   "outputs": [
    {
     "name": "stdout",
     "output_type": "stream",
     "text": [
      "RMSE - 40.18553497171235\n",
      "RMSE - 40.18553497171235\n"
     ]
    }
   ],
   "source": [
    "features_train_2, features_valid_2, target_train_2, target_valid_2 = test_split(data_2, 'product')\n",
    "model.fit(features_train_2, target_train_2)\n",
    "predicted_target_2 = model.predict(features_valid_2)\n",
    "print('RMSE -', mean_squared_error(target_valid_2, predicted_target_2)**0.5)\n",
    "\n",
    "\n",
    "\n",
    "features_train_2s, features_valid_2s, target_train_2s, target_valid_2s = test_split_scaled(\n",
    "                                                                        data_2, ['f0', 'f1', 'f2'], 'product')\n",
    "model.fit(features_train_2s, target_train_2s)\n",
    "predicted_target_2s = model.predict(features_valid_2s)\n",
    "print('RMSE -', mean_squared_error(target_valid_2s, predicted_target_2s)**0.5)"
   ]
  },
  {
   "cell_type": "markdown",
   "metadata": {},
   "source": [
    "Данные во всех трех регионах не изменились, соответственно масштабирование не требуется. Посмотрим как поведет себя среднеквадратическая ошибка при других гиперпараметрах модели."
   ]
  },
  {
   "cell_type": "code",
   "execution_count": 69,
   "metadata": {},
   "outputs": [
    {
     "name": "stdout",
     "output_type": "stream",
     "text": [
      "RMSE - 37.401957199217094\n"
     ]
    }
   ],
   "source": [
    "model = LinearRegression(normalize=True)\n",
    "model.fit(features_train_0, target_train_0)\n",
    "predicted_target_0 = model.predict(features_valid_0)\n",
    "print('RMSE -', mean_squared_error(target_valid_0, predicted_target_0)**0.5)"
   ]
  },
  {
   "cell_type": "code",
   "execution_count": 70,
   "metadata": {},
   "outputs": [
    {
     "name": "stdout",
     "output_type": "stream",
     "text": [
      "RMSE - 60.749819777751355\n"
     ]
    }
   ],
   "source": [
    "model = LinearRegression(fit_intercept=False)\n",
    "model.fit(features_train_0, target_train_0)\n",
    "predicted_target_0 = model.predict(features_valid_0)\n",
    "print('RMSE -', mean_squared_error(target_valid_0, predicted_target_0)**0.5)"
   ]
  },
  {
   "cell_type": "markdown",
   "metadata": {},
   "source": [
    "Изменение стандартных значений гиперпараметров не улучшило модель. Попробуем сделать вывод предсказанного запаса с реальным и выведем RMSE."
   ]
  },
  {
   "cell_type": "code",
   "execution_count": 71,
   "metadata": {},
   "outputs": [],
   "source": [
    "model = LinearRegression()\n",
    "\n",
    "def oil_predict(df, target_name):\n",
    "    features = df.drop([target_name] , axis=1)\n",
    "    target = df[target_name]\n",
    "    \n",
    "    features_train, features_valid, target_train, target_valid = train_test_split(\n",
    "    features, target, test_size=0.25, random_state=5062020)\n",
    "    \n",
    "    model.fit(features_train, target_train)\n",
    "    predicted_target = model.predict(features_valid)\n",
    "    data = {'real_product' : target_valid,\n",
    "            'predicted_product' : predicted_target         \n",
    "    }\n",
    "    data_frame = pd.DataFrame(data, columns = ['real_product', 'predicted_product'])\n",
    "    rmse = mean_squared_error(target_valid, predicted_target)**0.5\n",
    "    mean = data_frame['predicted_product'].mean()\n",
    "    oil_sum = data_frame['predicted_product'].sum()\n",
    "    return data_frame, rmse, mean, oil_sum"
   ]
  },
  {
   "cell_type": "code",
   "execution_count": 72,
   "metadata": {},
   "outputs": [
    {
     "data": {
      "text/html": [
       "<div>\n",
       "<style scoped>\n",
       "    .dataframe tbody tr th:only-of-type {\n",
       "        vertical-align: middle;\n",
       "    }\n",
       "\n",
       "    .dataframe tbody tr th {\n",
       "        vertical-align: top;\n",
       "    }\n",
       "\n",
       "    .dataframe thead th {\n",
       "        text-align: right;\n",
       "    }\n",
       "</style>\n",
       "<table border=\"1\" class=\"dataframe\">\n",
       "  <thead>\n",
       "    <tr style=\"text-align: right;\">\n",
       "      <th></th>\n",
       "      <th>real_product</th>\n",
       "      <th>predicted_product</th>\n",
       "    </tr>\n",
       "  </thead>\n",
       "  <tbody>\n",
       "    <tr>\n",
       "      <td>87351</td>\n",
       "      <td>145.407098</td>\n",
       "      <td>110.644337</td>\n",
       "    </tr>\n",
       "    <tr>\n",
       "      <td>52805</td>\n",
       "      <td>131.589165</td>\n",
       "      <td>76.793446</td>\n",
       "    </tr>\n",
       "    <tr>\n",
       "      <td>6583</td>\n",
       "      <td>101.596316</td>\n",
       "      <td>103.711077</td>\n",
       "    </tr>\n",
       "    <tr>\n",
       "      <td>34986</td>\n",
       "      <td>8.123407</td>\n",
       "      <td>53.135348</td>\n",
       "    </tr>\n",
       "    <tr>\n",
       "      <td>8253</td>\n",
       "      <td>169.834019</td>\n",
       "      <td>151.656408</td>\n",
       "    </tr>\n",
       "  </tbody>\n",
       "</table>\n",
       "</div>"
      ],
      "text/plain": [
       "       real_product  predicted_product\n",
       "87351    145.407098         110.644337\n",
       "52805    131.589165          76.793446\n",
       "6583     101.596316         103.711077\n",
       "34986      8.123407          53.135348\n",
       "8253     169.834019         151.656408"
      ]
     },
     "metadata": {},
     "output_type": "display_data"
    },
    {
     "name": "stdout",
     "output_type": "stream",
     "text": [
      "RMSE - 37.401957199217094\n",
      "Средний запас сырья - 92.52620585803335\n"
     ]
    }
   ],
   "source": [
    "data_0_predicted, data_0_rmse, data_0_predicted_mean, data_0_predicted_sum = oil_predict(data_0, 'product')\n",
    "display(data_0_predicted.head())\n",
    "print('RMSE -', data_0_rmse)\n",
    "print('Средний запас сырья -', data_0_predicted_mean)"
   ]
  },
  {
   "cell_type": "code",
   "execution_count": 73,
   "metadata": {},
   "outputs": [
    {
     "data": {
      "text/html": [
       "<div>\n",
       "<style scoped>\n",
       "    .dataframe tbody tr th:only-of-type {\n",
       "        vertical-align: middle;\n",
       "    }\n",
       "\n",
       "    .dataframe tbody tr th {\n",
       "        vertical-align: top;\n",
       "    }\n",
       "\n",
       "    .dataframe thead th {\n",
       "        text-align: right;\n",
       "    }\n",
       "</style>\n",
       "<table border=\"1\" class=\"dataframe\">\n",
       "  <thead>\n",
       "    <tr style=\"text-align: right;\">\n",
       "      <th></th>\n",
       "      <th>real_product</th>\n",
       "      <th>predicted_product</th>\n",
       "    </tr>\n",
       "  </thead>\n",
       "  <tbody>\n",
       "    <tr>\n",
       "      <td>87351</td>\n",
       "      <td>53.906522</td>\n",
       "      <td>54.336477</td>\n",
       "    </tr>\n",
       "    <tr>\n",
       "      <td>52805</td>\n",
       "      <td>3.179103</td>\n",
       "      <td>3.756436</td>\n",
       "    </tr>\n",
       "    <tr>\n",
       "      <td>6583</td>\n",
       "      <td>30.132364</td>\n",
       "      <td>31.266991</td>\n",
       "    </tr>\n",
       "    <tr>\n",
       "      <td>34986</td>\n",
       "      <td>26.953261</td>\n",
       "      <td>26.692436</td>\n",
       "    </tr>\n",
       "    <tr>\n",
       "      <td>8253</td>\n",
       "      <td>30.132364</td>\n",
       "      <td>31.128898</td>\n",
       "    </tr>\n",
       "  </tbody>\n",
       "</table>\n",
       "</div>"
      ],
      "text/plain": [
       "       real_product  predicted_product\n",
       "87351     53.906522          54.336477\n",
       "52805      3.179103           3.756436\n",
       "6583      30.132364          31.266991\n",
       "34986     26.953261          26.692436\n",
       "8253      30.132364          31.128898"
      ]
     },
     "metadata": {},
     "output_type": "display_data"
    },
    {
     "name": "stdout",
     "output_type": "stream",
     "text": [
      "RMSE - 0.8874258342572853\n",
      "Средний запас сырья - 68.27820207556354\n"
     ]
    }
   ],
   "source": [
    "data_1_predicted, data_1_rmse, data_1_predicted_mean, data_1_predicted_sum = oil_predict(data_1, 'product')\n",
    "display(data_1_predicted.head())\n",
    "print('RMSE -', data_1_rmse)\n",
    "print('Средний запас сырья -', data_1_predicted_mean)"
   ]
  },
  {
   "cell_type": "code",
   "execution_count": 74,
   "metadata": {},
   "outputs": [
    {
     "data": {
      "text/html": [
       "<div>\n",
       "<style scoped>\n",
       "    .dataframe tbody tr th:only-of-type {\n",
       "        vertical-align: middle;\n",
       "    }\n",
       "\n",
       "    .dataframe tbody tr th {\n",
       "        vertical-align: top;\n",
       "    }\n",
       "\n",
       "    .dataframe thead th {\n",
       "        text-align: right;\n",
       "    }\n",
       "</style>\n",
       "<table border=\"1\" class=\"dataframe\">\n",
       "  <thead>\n",
       "    <tr style=\"text-align: right;\">\n",
       "      <th></th>\n",
       "      <th>real_product</th>\n",
       "      <th>predicted_product</th>\n",
       "    </tr>\n",
       "  </thead>\n",
       "  <tbody>\n",
       "    <tr>\n",
       "      <td>87351</td>\n",
       "      <td>140.971569</td>\n",
       "      <td>62.929196</td>\n",
       "    </tr>\n",
       "    <tr>\n",
       "      <td>52805</td>\n",
       "      <td>125.190694</td>\n",
       "      <td>98.323840</td>\n",
       "    </tr>\n",
       "    <tr>\n",
       "      <td>6583</td>\n",
       "      <td>94.544056</td>\n",
       "      <td>79.920918</td>\n",
       "    </tr>\n",
       "    <tr>\n",
       "      <td>34986</td>\n",
       "      <td>107.208380</td>\n",
       "      <td>104.706020</td>\n",
       "    </tr>\n",
       "    <tr>\n",
       "      <td>8253</td>\n",
       "      <td>173.924418</td>\n",
       "      <td>114.066050</td>\n",
       "    </tr>\n",
       "  </tbody>\n",
       "</table>\n",
       "</div>"
      ],
      "text/plain": [
       "       real_product  predicted_product\n",
       "87351    140.971569          62.929196\n",
       "52805    125.190694          98.323840\n",
       "6583      94.544056          79.920918\n",
       "34986    107.208380         104.706020\n",
       "8253     173.924418         114.066050"
      ]
     },
     "metadata": {},
     "output_type": "display_data"
    },
    {
     "name": "stdout",
     "output_type": "stream",
     "text": [
      "RMSE - 40.18553497171235\n",
      "Средний запас сырья - 94.94294307153748\n"
     ]
    }
   ],
   "source": [
    "data_2_predicted, data_2_rmse, data_2_predicted_mean, data_2_predicted_sum = oil_predict(data_2, 'product')\n",
    "display(data_2_predicted.head())\n",
    "print('RMSE -', data_2_rmse)\n",
    "print('Средний запас сырья -', data_2_predicted_mean)"
   ]
  },
  {
   "cell_type": "markdown",
   "metadata": {},
   "source": [
    "По результатам анализа, первый регион богат на запасы сырья, в то время как второй регион имеет наименьшее значение корня из средней квадратичной ошибки, что может говорить о сильном переобучении модели или, наоорот, как о хорошей модели. "
   ]
  },
  {
   "cell_type": "code",
   "execution_count": 75,
   "metadata": {},
   "outputs": [
    {
     "name": "stdout",
     "output_type": "stream",
     "text": [
      "Суммарный предсказанный запас в 1 регионе - 2313155.146450834\n",
      "Суммарный реальный запас в 1 регионе - 2313395.805667925\n",
      "\n",
      "Суммарный предсказанный запас во 2 регионе - 1706955.0518890887\n",
      "Суммарный реальный запас во 2 регионе - 1706710.3444370048\n",
      "\n",
      "Суммарный предсказанный запас в 3 регионе - 2373573.576788437\n",
      "Суммарный реальный запас в 3 регионе - 2378821.7815969232\n"
     ]
    }
   ],
   "source": [
    "print('Суммарный предсказанный запас в 1 регионе -', data_0_predicted_sum)\n",
    "print('Суммарный реальный запас в 1 регионе -', data_0_predicted['real_product'].sum())\n",
    "print()\n",
    "print('Суммарный предсказанный запас во 2 регионе -', data_1_predicted_sum)\n",
    "print('Суммарный реальный запас во 2 регионе -', data_1_predicted['real_product'].sum())\n",
    "print()\n",
    "print('Суммарный предсказанный запас в 3 регионе -', data_2_predicted_sum)\n",
    "print('Суммарный реальный запас в 3 регионе -', data_2_predicted['real_product'].sum())"
   ]
  },
  {
   "cell_type": "markdown",
   "metadata": {},
   "source": [
    "#### Выводы \n",
    "\n",
    "Масштабирование нам не понадобилось.\n",
    "\n",
    "Данные предсказаний о количестве нефти по сумме примерно совпадают по сумме с предсказанными значениями. Лучше всего модель предсказала запасы во втором регионе (RMSE - 0.88), далее в первом и третьем соотвественно.\n",
    "\n",
    "Помним, что во втором регионе было очень много нулевых значений, то есть данные были либо утеряны, либо не изучены изначально. Это могло сказаться на модели и на ее переобучении. \n",
    "\n",
    "Далее изучим все регионы на риски и прибыль,и выберем самый прибыльные регион с наименьшим процентом риска. "
   ]
  },
  {
   "cell_type": "markdown",
   "metadata": {},
   "source": [
    "## Подготовка к расчёту прибыли"
   ]
  },
  {
   "cell_type": "markdown",
   "metadata": {},
   "source": [
    "Создадим переменные, в которых укажем всю необходимую информацию для экономических рассчетов. "
   ]
  },
  {
   "cell_type": "code",
   "execution_count": 98,
   "metadata": {},
   "outputs": [],
   "source": [
    "BUDGET = 10_000_000_000\n",
    "CHOSEN_POINTS = 500\n",
    "BEST_POINTS = 200\n",
    "PRICE_PER_BARREL = 450000"
   ]
  },
  {
   "cell_type": "markdown",
   "metadata": {},
   "source": [
    "Посчитаем разработку сырья на 200 месторождениях без убытка. Затем найдем средний объем запаса нефти на скважину."
   ]
  },
  {
   "cell_type": "code",
   "execution_count": 99,
   "metadata": {},
   "outputs": [
    {
     "name": "stdout",
     "output_type": "stream",
     "text": [
      "Средняя прибыль на лучшую точку - 50000000.0 тыс.руб.\n",
      "Средний объем нефти на точку - 111.11111111111111 тыс. баррелей\n",
      "Средний объем нефти на регион - 22222.222222222223 тыс. баррелей\n"
     ]
    }
   ],
   "source": [
    "average_profit_per_point = BUDGET / BEST_POINTS\n",
    "print('Средняя прибыль на лучшую точку -', average_profit_per_point, 'тыс.руб.')\n",
    "\n",
    "average_barrels_per_point = average_profit_per_point  / PRICE_PER_BARREL\n",
    "print('Средний объем нефти на точку -',average_barrels_per_point, 'тыс. баррелей')\n",
    "\n",
    "average_barrels = BUDGET / PRICE_PER_BARREL\n",
    "print('Средний объем нефти на регион -',average_barrels, 'тыс. баррелей')"
   ]
  },
  {
   "cell_type": "code",
   "execution_count": 100,
   "metadata": {},
   "outputs": [
    {
     "name": "stdout",
     "output_type": "stream",
     "text": [
      "Средний запас фактичекой нефти на скважину в регионе 1 -  92.50000000000001\n",
      "Средний запас фактичекой нефти на скважину в регионе 2 -  68.82500000000002\n",
      "Средний запас фактичекой нефти на скважину в регионе 3 -  95.00000000000004\n"
     ]
    }
   ],
   "source": [
    "print('Средний запас фактичекой нефти на скважину в регионе 1 - ', data_0['product'].mean())\n",
    "print('Средний запас фактичекой нефти на скважину в регионе 2 - ', data_1['product'].mean())\n",
    "print('Средний запас фактичекой нефти на скважину в регионе 3 - ', data_2['product'].mean())"
   ]
  },
  {
   "cell_type": "markdown",
   "metadata": {},
   "source": [
    "Второй регион все также выделяется и показывает наименьший средний запас нефти на скважину - 68 тыс. баррелей.   \n",
    "Создадим функцию для расчета прибыли на 500 разведанных точек."
   ]
  },
  {
   "cell_type": "code",
   "execution_count": 114,
   "metadata": {},
   "outputs": [],
   "source": [
    "def oil_profit_calculation(target, probabilities, count):\n",
    "    probs_sorted = probabilities.sort_values(ascending=False)\n",
    "    selected = target[probs_sorted.index][:count]\n",
    "    return ((PRICE_PER_BARREL * selected.sum()) - BUDGET)  "
   ]
  },
  {
   "cell_type": "markdown",
   "metadata": {},
   "source": [
    "Создадим функцию для построения гистограмм и посмотрим эти распределения по регионам."
   ]
  },
  {
   "cell_type": "code",
   "execution_count": 102,
   "metadata": {},
   "outputs": [],
   "source": [
    "def oil_hist(seria, bins, xlim_max, ylim_max):\n",
    "    plt.figure(figsize=[12,9])\n",
    "\n",
    "    plt.hist(seria, bins=bins)\n",
    "\n",
    "    plt.xlim([0,xlim_max])\n",
    "    plt.ylim([0,ylim_max])\n",
    "\n",
    "    plt.xlabel(\"Объем нефти на скважину, тыс. барелей\")\n",
    "    plt.ylabel(\"Количество скважин\")\n",
    "\n",
    "    plt.title(\"Гистограмма распределения по объему скважин\")\n",
    "    plt.show()"
   ]
  },
  {
   "cell_type": "markdown",
   "metadata": {},
   "source": [
    "Ниже преддставлены распределения предсказанных значений."
   ]
  },
  {
   "cell_type": "code",
   "execution_count": 103,
   "metadata": {},
   "outputs": [
    {
     "data": {
      "image/png": "[encoded data removed]",
      "text/plain": [
       "<Figure size 864x648 with 1 Axes>"
      ]
     },
     "metadata": {
      "needs_background": "light"
     },
     "output_type": "display_data"
    }
   ],
   "source": [
    "oil_hist(data_0_predicted['predicted_product'], 200, 190, 500)"
   ]
  },
  {
   "cell_type": "code",
   "execution_count": 104,
   "metadata": {},
   "outputs": [
    {
     "data": {
      "image/png": "[encoded data removed]",
      "text/plain": [
       "<Figure size 864x648 with 1 Axes>"
      ]
     },
     "metadata": {
      "needs_background": "light"
     },
     "output_type": "display_data"
    }
   ],
   "source": [
    "oil_hist(data_1_predicted['predicted_product'], 20, 150, 5000)"
   ]
  },
  {
   "cell_type": "code",
   "execution_count": 105,
   "metadata": {},
   "outputs": [
    {
     "data": {
      "image/png": "[encoded data removed]",
      "text/plain": [
       "<Figure size 864x648 with 1 Axes>"
      ]
     },
     "metadata": {
      "needs_background": "light"
     },
     "output_type": "display_data"
    }
   ],
   "source": [
    "oil_hist(data_2_predicted['predicted_product'], 200, 190, 500)"
   ]
  },
  {
   "cell_type": "markdown",
   "metadata": {},
   "source": [
    "#### Выводы "
   ]
  },
  {
   "cell_type": "markdown",
   "metadata": {},
   "source": [
    "Были подготовлены все необходимые переменные для рассчетов средней оценки прибыли за скважину и среднего объема нефти на скважину. С помощью этих переменных мы написали функцию по расчету прибыли.\n",
    "\n",
    "Анализ средних объемов на скважину для каждого региона получился следующий:\n",
    "\n",
    "Изучены средние фактические запасы. Для первого и третьего регионов есть высокая вероятность окупить затраты, так как объем нефти намного больше, чем во втором регионе. Разброс значений вокруг среднего 92.5 и 95 свидетельствует о том, что существует достаточно много скважин, где запасы больше необходимого среднего.\n",
    "\n",
    "Во втором регионе есть вероятность того, что выбранные скважины окажутся больше среднего объема нефти на точку (111), несмотря на то, что среднее значение запаса фактичекой нефти на скважину равно 68.  "
   ]
  },
  {
   "cell_type": "markdown",
   "metadata": {},
   "source": [
    "## Расчёт прибыли и рисков "
   ]
  },
  {
   "cell_type": "markdown",
   "metadata": {},
   "source": [
    "Пишем функцию для рассчета прибыли и рисков, применяя технику Bootstrap с 1000 выборок. \n",
    "Также найдем среднюю прибыль, 95%-й доверительный интервал и риск убытков."
   ]
  },
  {
   "cell_type": "code",
   "execution_count": 134,
   "metadata": {},
   "outputs": [],
   "source": [
    "state = np.random.RandomState(5062020)\n",
    "def bootstrap_1000(target, probs):\n",
    "    values=[]\n",
    "    #lost = 0\n",
    "    for i in range(1000):\n",
    "        target_sample = target.sample(replace=True, random_state=state, n=CHOSEN_POINTS)\n",
    "        probs_sample = probs[target_sample.index]\n",
    "        profit = oil_profit_calculation(target_sample, probs_sample, BEST_POINTS)\n",
    "        #if profit < 0:\n",
    "            #lost +=1\n",
    "        values.append(profit)\n",
    "    \n",
    "    values = pd.Series(values)\n",
    "    lower = values.quantile(0.025)\n",
    "    upper = values.quantile(0.975)\n",
    "    average = values.mean()\n",
    "    #risk = lost / 1000\n",
    "    risk = stats.percentileofscore(values, 0) / 100\n",
    "    return average, lower, upper, risk"
   ]
  },
  {
   "cell_type": "code",
   "execution_count": 135,
   "metadata": {},
   "outputs": [
    {
     "name": "stdout",
     "output_type": "stream",
     "text": [
      "Данные по первому региону.\n",
      "Средняя прибыль по региону = 472119934.92 тыс.руб.\n",
      "95% доверительный интервал от -45239375.62 до 991985585.30 тыс.руб.\n",
      "Процент риска 3.90%\n"
     ]
    }
   ],
   "source": [
    "average_0, lower_0, upper_0, risk_0 = bootstrap_1000(data_0_predicted['real_product'], \n",
    "                                                     data_0_predicted['predicted_product'])\n",
    "print('Данные по первому региону.')\n",
    "print('Средняя прибыль по региону = {:.2f} тыс.руб.'.format(average_0))\n",
    "print('95% доверительный интервал от {:.2f} до {:.2f} тыс.руб.'.format(lower_0, upper_0))\n",
    "print('Процент риска {:.2%}'.format(risk_0))"
   ]
  },
  {
   "cell_type": "code",
   "execution_count": 136,
   "metadata": {},
   "outputs": [
    {
     "name": "stdout",
     "output_type": "stream",
     "text": [
      "Данные по второму региону.\n",
      "Средняя прибыль по региону = 462690411.56 тыс.руб.\n",
      "95% доверительный интервал от 31089936.72 до 900786663.77 тыс.руб.\n",
      "Процент риска 1.90%\n"
     ]
    }
   ],
   "source": [
    "average_1, lower_1, upper_1, risk_1 = bootstrap_1000(data_1_predicted['real_product'], \n",
    "                                                     data_1_predicted['predicted_product'])\n",
    "print('Данные по второму региону.')\n",
    "print('Средняя прибыль по региону = {:.2f} тыс.руб.'.format(average_1))\n",
    "print('95% доверительный интервал от {:.2f} до {:.2f} тыс.руб.'.format(lower_1, upper_1))\n",
    "print('Процент риска {:.2%}'.format(risk_1))"
   ]
  },
  {
   "cell_type": "code",
   "execution_count": 137,
   "metadata": {},
   "outputs": [
    {
     "name": "stdout",
     "output_type": "stream",
     "text": [
      "Данные по третьему региону.\n",
      "Средняя прибыль по региону = 427165393.39 тыс.руб.\n",
      "95% доверительный интервал от -133949760.97 до 953500752.49 тыс.руб.\n",
      "Процент риска 6.30%\n"
     ]
    }
   ],
   "source": [
    "average_2, lower_2, upper_2, risk_2 = bootstrap_1000(data_2_predicted['real_product'], \n",
    "                                                     data_2_predicted['predicted_product'])\n",
    "print('Данные по третьему региону.')\n",
    "print('Средняя прибыль по региону = {:.2f} тыс.руб.'.format(average_2))\n",
    "print('95% доверительный интервал от {:.2f} до {:.2f} тыс.руб.'.format(lower_2, upper_2))\n",
    "print('Процент риска {:.2%}'.format(risk_2))"
   ]
  },
  {
   "cell_type": "markdown",
   "metadata": {},
   "source": [
    "#### Выводы \n",
    "\n",
    "В результате исследования, мы отсеиваем первый и третий регионы, так как процент риска в них больше, чем во втором регионе. Методом исключения получается второй регион, где рисков намного меньше, несмотря на то, что данные в соответствующем датасете с самого начала не выглядели нормально распределенными, да еще и с большим количеством утерянных значений.\n",
    "\n",
    "Также доверительный интервал показывает, что разработка скважин может окупиться, даже если выбор этих точек будет не совсем удачным.\n",
    "\n",
    "Второй регион получился одним из лучших по показателям предсказывания, на нем и остановимся!"
   ]
  }
 ],
 "metadata": {
  "ExecuteTimeLog": [
   {
    "duration": 769,
    "start_time": "2021-07-20T18:20:16.514Z"
   },
   {
    "duration": 182,
    "start_time": "2021-07-20T18:20:17.285Z"
   },
   {
    "duration": 27,
    "start_time": "2021-07-20T18:20:18.594Z"
   },
   {
    "duration": 12,
    "start_time": "2021-07-20T18:20:32.355Z"
   },
   {
    "duration": 166,
    "start_time": "2021-07-20T18:20:47.866Z"
   },
   {
    "duration": 14,
    "start_time": "2021-07-20T18:20:49.892Z"
   },
   {
    "duration": 194,
    "start_time": "2021-07-20T18:20:53.336Z"
   },
   {
    "duration": 13,
    "start_time": "2021-07-20T18:20:54.522Z"
   },
   {
    "duration": 412,
    "start_time": "2021-07-21T12:44:31.695Z"
   },
   {
    "duration": 1118,
    "start_time": "2021-07-23T18:52:39.681Z"
   },
   {
    "duration": 3,
    "start_time": "2021-07-23T19:04:52.922Z"
   },
   {
    "duration": 257,
    "start_time": "2021-07-23T19:04:54.290Z"
   },
   {
    "duration": 181,
    "start_time": "2021-07-23T19:05:14.917Z"
   },
   {
    "duration": 786,
    "start_time": "2021-07-23T19:06:31.770Z"
   },
   {
    "duration": 103,
    "start_time": "2021-07-23T19:06:33.201Z"
   },
   {
    "duration": 3,
    "start_time": "2021-07-23T19:06:47.438Z"
   },
   {
    "duration": 369,
    "start_time": "2021-07-23T19:06:48.449Z"
   },
   {
    "duration": 95,
    "start_time": "2021-07-23T19:06:49.873Z"
   },
   {
    "duration": 3,
    "start_time": "2021-07-23T19:11:41.025Z"
   },
   {
    "duration": 365,
    "start_time": "2021-07-23T19:11:42.952Z"
   },
   {
    "duration": 429,
    "start_time": "2021-07-23T19:11:44.645Z"
   },
   {
    "duration": 2,
    "start_time": "2021-07-23T19:21:53.857Z"
   },
   {
    "duration": 353,
    "start_time": "2021-07-23T19:21:55.554Z"
   },
   {
    "duration": 264,
    "start_time": "2021-07-23T19:21:56.289Z"
   },
   {
    "duration": 261,
    "start_time": "2021-07-23T19:23:16.468Z"
   },
   {
    "duration": 4,
    "start_time": "2021-07-23T19:24:16.110Z"
   },
   {
    "duration": 355,
    "start_time": "2021-07-23T19:24:17.282Z"
   },
   {
    "duration": 299,
    "start_time": "2021-07-23T19:24:18.210Z"
   },
   {
    "duration": 4,
    "start_time": "2021-07-23T19:24:36.612Z"
   },
   {
    "duration": 380,
    "start_time": "2021-07-23T19:24:38.118Z"
   },
   {
    "duration": 97,
    "start_time": "2021-07-23T19:24:39.059Z"
   },
   {
    "duration": 178,
    "start_time": "2021-07-23T19:24:58.967Z"
   },
   {
    "duration": 97,
    "start_time": "2021-07-23T19:25:34.524Z"
   },
   {
    "duration": 104,
    "start_time": "2021-07-23T19:26:18.794Z"
   },
   {
    "duration": 1106,
    "start_time": "2021-07-27T12:34:25.596Z"
   },
   {
    "duration": 4,
    "start_time": "2021-07-27T12:35:07.354Z"
   },
   {
    "duration": 387,
    "start_time": "2021-07-27T12:35:27.005Z"
   },
   {
    "duration": 4,
    "start_time": "2021-07-27T12:35:29.041Z"
   },
   {
    "duration": 103,
    "start_time": "2021-07-27T12:38:50.737Z"
   },
   {
    "duration": 31,
    "start_time": "2021-07-27T12:39:26.587Z"
   },
   {
    "duration": 24,
    "start_time": "2021-07-27T12:39:41.290Z"
   },
   {
    "duration": 25,
    "start_time": "2021-07-27T12:39:50.018Z"
   },
   {
    "duration": 24,
    "start_time": "2021-07-27T12:40:56.702Z"
   },
   {
    "duration": 24,
    "start_time": "2021-07-27T12:41:22.910Z"
   },
   {
    "duration": 43,
    "start_time": "2021-07-27T12:41:35.694Z"
   },
   {
    "duration": 70,
    "start_time": "2021-07-27T12:41:45.447Z"
   },
   {
    "duration": 347,
    "start_time": "2021-07-27T12:41:50.035Z"
   },
   {
    "duration": 24,
    "start_time": "2021-07-27T12:42:15.292Z"
   },
   {
    "duration": 73,
    "start_time": "2021-07-27T12:42:29.691Z"
   },
   {
    "duration": 464,
    "start_time": "2021-07-27T12:42:33.831Z"
   },
   {
    "duration": 552,
    "start_time": "2021-07-27T12:42:47.936Z"
   },
   {
    "duration": 501,
    "start_time": "2021-07-27T12:43:07.410Z"
   },
   {
    "duration": 656,
    "start_time": "2021-07-27T12:43:23.046Z"
   },
   {
    "duration": 332,
    "start_time": "2021-07-27T12:45:09.387Z"
   },
   {
    "duration": 27,
    "start_time": "2021-07-27T12:45:34.702Z"
   },
   {
    "duration": 22,
    "start_time": "2021-07-27T12:45:41.236Z"
   },
   {
    "duration": 25,
    "start_time": "2021-07-27T12:45:54.962Z"
   },
   {
    "duration": 29,
    "start_time": "2021-07-27T12:46:02.294Z"
   },
   {
    "duration": 22,
    "start_time": "2021-07-27T12:47:30.238Z"
   },
   {
    "duration": 23,
    "start_time": "2021-07-27T12:47:48.543Z"
   },
   {
    "duration": 107,
    "start_time": "2021-07-27T12:48:33.214Z"
   },
   {
    "duration": 105,
    "start_time": "2021-07-27T12:48:40.862Z"
   },
   {
    "duration": 17,
    "start_time": "2021-07-27T12:49:48.326Z"
   },
   {
    "duration": 305,
    "start_time": "2021-07-27T12:50:52.228Z"
   },
   {
    "duration": 3,
    "start_time": "2021-07-27T12:51:31.201Z"
   },
   {
    "duration": 358,
    "start_time": "2021-07-27T12:51:31.804Z"
   },
   {
    "duration": 4,
    "start_time": "2021-07-27T12:51:33.652Z"
   },
   {
    "duration": 28,
    "start_time": "2021-07-27T12:51:34.338Z"
   },
   {
    "duration": 33,
    "start_time": "2021-07-27T12:51:36.297Z"
   },
   {
    "duration": 100,
    "start_time": "2021-07-27T12:51:37.101Z"
   },
   {
    "duration": 95,
    "start_time": "2021-07-27T12:51:40.117Z"
   },
   {
    "duration": 16,
    "start_time": "2021-07-27T12:51:42.573Z"
   },
   {
    "duration": 4,
    "start_time": "2021-07-27T12:52:31.041Z"
   },
   {
    "duration": 10,
    "start_time": "2021-07-27T12:52:40.760Z"
   },
   {
    "duration": 9,
    "start_time": "2021-07-27T12:57:25.518Z"
   },
   {
    "duration": 12,
    "start_time": "2021-07-27T14:13:08.251Z"
   },
   {
    "duration": 3,
    "start_time": "2021-07-27T14:19:39.561Z"
   },
   {
    "duration": 9,
    "start_time": "2021-07-27T14:19:40.271Z"
   },
   {
    "duration": 13,
    "start_time": "2021-07-27T14:20:17.266Z"
   },
   {
    "duration": 10,
    "start_time": "2021-07-27T14:20:20.699Z"
   },
   {
    "duration": 1749,
    "start_time": "2021-07-27T14:25:42.824Z"
   },
   {
    "duration": 3,
    "start_time": "2021-07-27T14:26:21.909Z"
   },
   {
    "duration": 1633,
    "start_time": "2021-07-27T14:26:30.953Z"
   },
   {
    "duration": 1590,
    "start_time": "2021-07-27T14:28:26.164Z"
   },
   {
    "duration": 3,
    "start_time": "2021-07-27T14:29:52.905Z"
   },
   {
    "duration": 363,
    "start_time": "2021-07-27T14:29:53.457Z"
   },
   {
    "duration": 3,
    "start_time": "2021-07-27T14:29:54.640Z"
   },
   {
    "duration": 34,
    "start_time": "2021-07-27T14:29:55.274Z"
   },
   {
    "duration": 32,
    "start_time": "2021-07-27T14:29:55.916Z"
   },
   {
    "duration": 97,
    "start_time": "2021-07-27T14:29:56.567Z"
   },
   {
    "duration": 95,
    "start_time": "2021-07-27T14:29:57.393Z"
   },
   {
    "duration": 3,
    "start_time": "2021-07-27T14:29:58.786Z"
   },
   {
    "duration": 11,
    "start_time": "2021-07-27T14:29:59.631Z"
   },
   {
    "duration": 10,
    "start_time": "2021-07-27T14:30:00.659Z"
   },
   {
    "duration": 14,
    "start_time": "2021-07-27T14:30:01.521Z"
   },
   {
    "duration": 10,
    "start_time": "2021-07-27T14:30:02.272Z"
   },
   {
    "duration": 1501,
    "start_time": "2021-07-27T14:30:06.877Z"
   },
   {
    "duration": 31,
    "start_time": "2021-07-27T14:31:08.940Z"
   },
   {
    "duration": 11,
    "start_time": "2021-07-27T14:31:15.848Z"
   },
   {
    "duration": 3,
    "start_time": "2021-07-27T14:35:53.160Z"
   },
   {
    "duration": 19,
    "start_time": "2021-07-27T14:36:05.188Z"
   },
   {
    "duration": 4,
    "start_time": "2021-07-27T14:37:39.708Z"
   },
   {
    "duration": 14,
    "start_time": "2021-07-27T14:37:50.566Z"
   },
   {
    "duration": 373,
    "start_time": "2021-07-27T14:38:09.726Z"
   },
   {
    "duration": 4,
    "start_time": "2021-07-27T14:38:20.055Z"
   },
   {
    "duration": 11,
    "start_time": "2021-07-27T14:38:21.541Z"
   },
   {
    "duration": 35,
    "start_time": "2021-07-27T14:38:23.174Z"
   },
   {
    "duration": 255,
    "start_time": "2021-07-27T14:38:45.865Z"
   },
   {
    "duration": 166,
    "start_time": "2021-07-27T14:39:40.038Z"
   },
   {
    "duration": 195,
    "start_time": "2021-07-27T14:39:56.804Z"
   },
   {
    "duration": 248,
    "start_time": "2021-07-27T14:40:16.143Z"
   },
   {
    "duration": 12,
    "start_time": "2021-07-27T14:40:25.728Z"
   },
   {
    "duration": 11,
    "start_time": "2021-07-27T14:40:28.345Z"
   },
   {
    "duration": 4,
    "start_time": "2021-07-27T14:41:12.863Z"
   },
   {
    "duration": 99,
    "start_time": "2021-07-27T14:42:24.387Z"
   },
   {
    "duration": 82,
    "start_time": "2021-07-27T14:42:53.505Z"
   },
   {
    "duration": 158,
    "start_time": "2021-07-27T14:43:19.428Z"
   },
   {
    "duration": 6,
    "start_time": "2021-07-27T14:43:38.573Z"
   },
   {
    "duration": 2,
    "start_time": "2021-07-27T14:44:43.215Z"
   },
   {
    "duration": 5,
    "start_time": "2021-07-27T14:44:55.788Z"
   },
   {
    "duration": 7,
    "start_time": "2021-07-27T14:45:13.684Z"
   },
   {
    "duration": 3,
    "start_time": "2021-07-27T14:45:23.291Z"
   },
   {
    "duration": 207,
    "start_time": "2021-07-27T14:45:34.096Z"
   },
   {
    "duration": 4,
    "start_time": "2021-07-27T14:48:01.036Z"
   },
   {
    "duration": 594,
    "start_time": "2021-07-27T14:48:06.739Z"
   },
   {
    "duration": 281,
    "start_time": "2021-07-27T14:48:10.255Z"
   },
   {
    "duration": 564,
    "start_time": "2021-07-27T14:48:13.164Z"
   },
   {
    "duration": 5,
    "start_time": "2021-07-27T14:51:02.593Z"
   },
   {
    "duration": 2549,
    "start_time": "2021-07-27T14:51:03.755Z"
   },
   {
    "duration": 2542,
    "start_time": "2021-07-27T14:51:15.890Z"
   },
   {
    "duration": 2538,
    "start_time": "2021-07-27T14:51:37.160Z"
   },
   {
    "duration": 1988,
    "start_time": "2021-07-28T11:17:09.846Z"
   },
   {
    "duration": 719,
    "start_time": "2021-07-28T11:17:11.837Z"
   },
   {
    "duration": 7,
    "start_time": "2021-07-28T11:17:12.562Z"
   },
   {
    "duration": 92,
    "start_time": "2021-07-28T11:17:12.572Z"
   },
   {
    "duration": 41,
    "start_time": "2021-07-28T11:17:12.872Z"
   },
   {
    "duration": 146,
    "start_time": "2021-07-28T11:17:13.693Z"
   },
   {
    "duration": 193,
    "start_time": "2021-07-28T11:17:14.555Z"
   },
   {
    "duration": 5,
    "start_time": "2021-07-28T11:17:16.085Z"
   },
   {
    "duration": 17,
    "start_time": "2021-07-28T11:17:16.666Z"
   },
   {
    "duration": 17,
    "start_time": "2021-07-28T11:17:17.266Z"
   },
   {
    "duration": 18,
    "start_time": "2021-07-28T11:17:18.209Z"
   },
   {
    "duration": 13,
    "start_time": "2021-07-28T11:17:18.797Z"
   },
   {
    "duration": 3622,
    "start_time": "2021-07-28T11:17:20.798Z"
   },
   {
    "duration": 70,
    "start_time": "2021-07-28T11:17:25.695Z"
   },
   {
    "duration": 27,
    "start_time": "2021-07-28T11:17:27.372Z"
   },
   {
    "duration": 5,
    "start_time": "2021-07-28T11:17:30.181Z"
   },
   {
    "duration": 28,
    "start_time": "2021-07-28T11:17:30.765Z"
   },
   {
    "duration": 6,
    "start_time": "2021-07-28T11:17:31.452Z"
   },
   {
    "duration": 280,
    "start_time": "2021-07-28T11:17:31.986Z"
   },
   {
    "duration": 168,
    "start_time": "2021-07-28T11:17:33.206Z"
   },
   {
    "duration": 190,
    "start_time": "2021-07-28T11:17:38.981Z"
   },
   {
    "duration": 21,
    "start_time": "2021-07-28T11:17:40.246Z"
   },
   {
    "duration": 23,
    "start_time": "2021-07-28T11:17:42.480Z"
   },
   {
    "duration": 9,
    "start_time": "2021-07-28T11:17:43.354Z"
   },
   {
    "duration": 245,
    "start_time": "2021-07-28T11:17:45.619Z"
   },
   {
    "duration": 201,
    "start_time": "2021-07-28T11:17:46.667Z"
   },
   {
    "duration": 247,
    "start_time": "2021-07-28T11:17:47.735Z"
   },
   {
    "duration": 11,
    "start_time": "2021-07-28T11:17:50.998Z"
   },
   {
    "duration": 4,
    "start_time": "2021-07-28T11:17:56.472Z"
   },
   {
    "duration": 8,
    "start_time": "2021-07-28T11:17:59.659Z"
   },
   {
    "duration": 11,
    "start_time": "2021-07-28T11:18:00.430Z"
   },
   {
    "duration": 5,
    "start_time": "2021-07-28T11:18:01.197Z"
   },
   {
    "duration": 5,
    "start_time": "2021-07-28T11:18:03.438Z"
   },
   {
    "duration": 1010,
    "start_time": "2021-07-28T11:18:04.178Z"
   },
   {
    "duration": 482,
    "start_time": "2021-07-28T11:18:07.656Z"
   },
   {
    "duration": 1080,
    "start_time": "2021-07-28T11:18:10.477Z"
   },
   {
    "duration": 8,
    "start_time": "2021-07-28T11:18:18.199Z"
   },
   {
    "duration": 5004,
    "start_time": "2021-07-28T11:18:24.957Z"
   },
   {
    "duration": 4545,
    "start_time": "2021-07-28T11:18:37.563Z"
   },
   {
    "duration": 5350,
    "start_time": "2021-07-28T11:19:34.280Z"
   },
   {
    "duration": 4677,
    "start_time": "2021-07-28T11:19:42.279Z"
   },
   {
    "duration": 234,
    "start_time": "2021-07-28T17:57:55.548Z"
   },
   {
    "duration": 1113,
    "start_time": "2021-07-28T17:58:00.509Z"
   },
   {
    "duration": 618,
    "start_time": "2021-07-28T17:58:01.623Z"
   },
   {
    "duration": 4,
    "start_time": "2021-07-28T17:58:02.683Z"
   },
   {
    "duration": 32,
    "start_time": "2021-07-28T17:58:03.374Z"
   },
   {
    "duration": 44,
    "start_time": "2021-07-28T17:58:22.174Z"
   },
   {
    "duration": 36,
    "start_time": "2021-07-28T17:58:35.567Z"
   },
   {
    "duration": 114,
    "start_time": "2021-07-28T17:59:20.241Z"
   },
   {
    "duration": 140,
    "start_time": "2021-07-28T18:00:09.583Z"
   },
   {
    "duration": 3,
    "start_time": "2021-07-28T18:00:10.921Z"
   },
   {
    "duration": 10,
    "start_time": "2021-07-28T18:00:11.892Z"
   },
   {
    "duration": 10,
    "start_time": "2021-07-28T18:00:13.674Z"
   },
   {
    "duration": 23,
    "start_time": "2021-07-28T18:00:16.086Z"
   },
   {
    "duration": 10,
    "start_time": "2021-07-28T18:00:17.189Z"
   },
   {
    "duration": 30,
    "start_time": "2021-07-28T18:35:38.529Z"
   },
   {
    "duration": 102,
    "start_time": "2021-07-28T18:38:11.598Z"
   },
   {
    "duration": 4,
    "start_time": "2021-07-28T18:44:58.314Z"
   },
   {
    "duration": 11,
    "start_time": "2021-07-28T18:44:59.648Z"
   },
   {
    "duration": 11,
    "start_time": "2021-07-28T18:45:05.921Z"
   },
   {
    "duration": 14,
    "start_time": "2021-07-28T18:45:08.767Z"
   },
   {
    "duration": 9,
    "start_time": "2021-07-28T18:45:09.578Z"
   },
   {
    "duration": 40,
    "start_time": "2021-07-28T18:57:56.398Z"
   },
   {
    "duration": 37,
    "start_time": "2021-07-28T18:58:16.704Z"
   },
   {
    "duration": 17,
    "start_time": "2021-07-28T19:05:58.632Z"
   },
   {
    "duration": 3,
    "start_time": "2021-07-28T19:06:39.628Z"
   },
   {
    "duration": 23,
    "start_time": "2021-07-28T19:06:40.325Z"
   },
   {
    "duration": 6,
    "start_time": "2021-07-28T19:07:33.984Z"
   },
   {
    "duration": 6,
    "start_time": "2021-07-28T19:08:06.499Z"
   },
   {
    "duration": 194,
    "start_time": "2021-07-28T19:23:09.920Z"
   },
   {
    "duration": 231,
    "start_time": "2021-07-28T19:23:29.478Z"
   },
   {
    "duration": 274,
    "start_time": "2021-07-28T19:23:33.318Z"
   },
   {
    "duration": 13,
    "start_time": "2021-07-28T19:24:47.323Z"
   },
   {
    "duration": 13,
    "start_time": "2021-07-28T19:24:49.073Z"
   },
   {
    "duration": 4,
    "start_time": "2021-07-28T19:26:28.621Z"
   },
   {
    "duration": 5,
    "start_time": "2021-07-28T19:27:25.884Z"
   },
   {
    "duration": 30,
    "start_time": "2021-07-28T19:27:26.636Z"
   },
   {
    "duration": 29,
    "start_time": "2021-07-28T19:27:27.449Z"
   },
   {
    "duration": 31,
    "start_time": "2021-07-28T19:27:28.240Z"
   },
   {
    "duration": 7,
    "start_time": "2021-07-28T19:38:42.656Z"
   },
   {
    "duration": 7,
    "start_time": "2021-07-28T19:43:36.512Z"
   },
   {
    "duration": 2,
    "start_time": "2021-07-28T19:44:30.706Z"
   },
   {
    "duration": 4,
    "start_time": "2021-07-28T19:51:07.403Z"
   },
   {
    "duration": 5,
    "start_time": "2021-07-28T19:51:42.377Z"
   },
   {
    "duration": 5,
    "start_time": "2021-07-28T19:52:46.516Z"
   },
   {
    "duration": 7,
    "start_time": "2021-07-28T19:52:47.175Z"
   },
   {
    "duration": 4,
    "start_time": "2021-07-28T19:55:17.921Z"
   },
   {
    "duration": 719,
    "start_time": "2021-07-28T19:55:53.139Z"
   },
   {
    "duration": 311,
    "start_time": "2021-07-28T19:55:54.826Z"
   },
   {
    "duration": 640,
    "start_time": "2021-07-28T19:55:56.104Z"
   },
   {
    "duration": 5,
    "start_time": "2021-07-28T20:21:41.157Z"
   },
   {
    "duration": 413,
    "start_time": "2021-07-28T20:21:42.021Z"
   },
   {
    "duration": 4,
    "start_time": "2021-07-28T20:21:59.691Z"
   },
   {
    "duration": 6,
    "start_time": "2021-07-28T20:22:03.959Z"
   },
   {
    "duration": 2737,
    "start_time": "2021-07-28T20:22:04.643Z"
   },
   {
    "duration": 2674,
    "start_time": "2021-07-28T20:22:08.786Z"
   },
   {
    "duration": 2667,
    "start_time": "2021-07-28T20:22:17.012Z"
   },
   {
    "duration": 5,
    "start_time": "2021-07-28T20:22:26.356Z"
   },
   {
    "duration": 373,
    "start_time": "2021-07-28T20:22:26.363Z"
   },
   {
    "duration": 3,
    "start_time": "2021-07-28T20:22:26.738Z"
   },
   {
    "duration": 48,
    "start_time": "2021-07-28T20:22:26.744Z"
   },
   {
    "duration": 28,
    "start_time": "2021-07-28T20:22:26.794Z"
   },
   {
    "duration": 130,
    "start_time": "2021-07-28T20:22:26.824Z"
   },
   {
    "duration": 119,
    "start_time": "2021-07-28T20:22:26.956Z"
   },
   {
    "duration": 10,
    "start_time": "2021-07-28T20:22:27.077Z"
   },
   {
    "duration": 10,
    "start_time": "2021-07-28T20:22:27.090Z"
   },
   {
    "duration": 10,
    "start_time": "2021-07-28T20:22:27.102Z"
   },
   {
    "duration": 14,
    "start_time": "2021-07-28T20:22:27.113Z"
   },
   {
    "duration": 9,
    "start_time": "2021-07-28T20:22:27.129Z"
   },
   {
    "duration": 1368,
    "start_time": "2021-07-28T20:22:27.140Z"
   },
   {
    "duration": 36,
    "start_time": "2021-07-28T20:22:28.510Z"
   },
   {
    "duration": 37,
    "start_time": "2021-07-28T20:22:28.548Z"
   },
   {
    "duration": 3,
    "start_time": "2021-07-28T20:22:28.587Z"
   },
   {
    "duration": 23,
    "start_time": "2021-07-28T20:22:28.592Z"
   },
   {
    "duration": 4,
    "start_time": "2021-07-28T20:22:28.617Z"
   },
   {
    "duration": 183,
    "start_time": "2021-07-28T20:22:28.622Z"
   },
   {
    "duration": 394,
    "start_time": "2021-07-28T20:22:28.807Z"
   },
   {
    "duration": 393,
    "start_time": "2021-07-28T20:22:29.203Z"
   },
   {
    "duration": 187,
    "start_time": "2021-07-28T20:22:29.598Z"
   },
   {
    "duration": 102,
    "start_time": "2021-07-28T20:22:29.788Z"
   },
   {
    "duration": 90,
    "start_time": "2021-07-28T20:22:29.897Z"
   },
   {
    "duration": 198,
    "start_time": "2021-07-28T20:22:29.991Z"
   },
   {
    "duration": 191,
    "start_time": "2021-07-28T20:22:30.194Z"
   },
   {
    "duration": 199,
    "start_time": "2021-07-28T20:22:30.387Z"
   },
   {
    "duration": 98,
    "start_time": "2021-07-28T20:22:30.588Z"
   },
   {
    "duration": 3,
    "start_time": "2021-07-28T20:22:30.688Z"
   },
   {
    "duration": 13,
    "start_time": "2021-07-28T20:22:30.693Z"
   },
   {
    "duration": 20,
    "start_time": "2021-07-28T20:22:30.708Z"
   },
   {
    "duration": 4,
    "start_time": "2021-07-28T20:22:30.730Z"
   },
   {
    "duration": 20,
    "start_time": "2021-07-28T20:22:30.736Z"
   },
   {
    "duration": 571,
    "start_time": "2021-07-28T20:22:30.757Z"
   },
   {
    "duration": 295,
    "start_time": "2021-07-28T20:22:31.330Z"
   },
   {
    "duration": 641,
    "start_time": "2021-07-28T20:22:31.627Z"
   },
   {
    "duration": 5,
    "start_time": "2021-07-28T20:22:32.269Z"
   },
   {
    "duration": 2541,
    "start_time": "2021-07-28T20:22:32.276Z"
   },
   {
    "duration": 2579,
    "start_time": "2021-07-28T20:22:34.818Z"
   },
   {
    "duration": 2541,
    "start_time": "2021-07-28T20:22:37.399Z"
   },
   {
    "duration": 4,
    "start_time": "2021-07-28T20:23:00.247Z"
   },
   {
    "duration": 350,
    "start_time": "2021-07-28T20:23:01.888Z"
   },
   {
    "duration": 3,
    "start_time": "2021-07-28T20:23:03.733Z"
   },
   {
    "duration": 25,
    "start_time": "2021-07-28T20:23:04.926Z"
   },
   {
    "duration": 33,
    "start_time": "2021-07-28T20:23:07.014Z"
   },
   {
    "duration": 97,
    "start_time": "2021-07-28T20:23:08.835Z"
   },
   {
    "duration": 94,
    "start_time": "2021-07-28T20:23:11.038Z"
   },
   {
    "duration": 4,
    "start_time": "2021-07-28T20:23:13.064Z"
   },
   {
    "duration": 11,
    "start_time": "2021-07-28T20:23:13.994Z"
   },
   {
    "duration": 9,
    "start_time": "2021-07-28T20:23:14.886Z"
   },
   {
    "duration": 14,
    "start_time": "2021-07-28T20:23:15.923Z"
   },
   {
    "duration": 10,
    "start_time": "2021-07-28T20:23:16.875Z"
   },
   {
    "duration": 1312,
    "start_time": "2021-07-28T20:23:19.544Z"
   },
   {
    "duration": 35,
    "start_time": "2021-07-28T20:23:23.562Z"
   },
   {
    "duration": 11,
    "start_time": "2021-07-28T20:23:26.107Z"
   },
   {
    "duration": 3,
    "start_time": "2021-07-28T20:23:30.202Z"
   },
   {
    "duration": 20,
    "start_time": "2021-07-28T20:23:31.029Z"
   },
   {
    "duration": 4,
    "start_time": "2021-07-28T20:23:32.731Z"
   },
   {
    "duration": 231,
    "start_time": "2021-07-28T20:23:34.655Z"
   },
   {
    "duration": 193,
    "start_time": "2021-07-28T20:23:35.704Z"
   },
   {
    "duration": 165,
    "start_time": "2021-07-28T20:23:36.732Z"
   },
   {
    "duration": 12,
    "start_time": "2021-07-28T20:23:38.367Z"
   },
   {
    "duration": 12,
    "start_time": "2021-07-28T20:23:39.076Z"
   },
   {
    "duration": 5,
    "start_time": "2021-07-28T20:23:40.713Z"
   },
   {
    "duration": 38,
    "start_time": "2021-07-28T20:23:41.648Z"
   },
   {
    "duration": 30,
    "start_time": "2021-07-28T20:23:42.454Z"
   },
   {
    "duration": 114,
    "start_time": "2021-07-28T20:23:43.270Z"
   },
   {
    "duration": 7,
    "start_time": "2021-07-28T20:23:44.743Z"
   },
   {
    "duration": 3,
    "start_time": "2021-07-28T20:23:47.856Z"
   },
   {
    "duration": 4,
    "start_time": "2021-07-28T20:23:49.392Z"
   },
   {
    "duration": 6,
    "start_time": "2021-07-28T20:23:50.221Z"
   },
   {
    "duration": 3,
    "start_time": "2021-07-28T20:23:52.193Z"
   },
   {
    "duration": 4,
    "start_time": "2021-07-28T20:23:53.838Z"
   },
   {
    "duration": 569,
    "start_time": "2021-07-28T20:23:55.515Z"
   },
   {
    "duration": 275,
    "start_time": "2021-07-28T20:23:56.340Z"
   },
   {
    "duration": 715,
    "start_time": "2021-07-28T20:23:57.536Z"
   },
   {
    "duration": 6,
    "start_time": "2021-07-28T20:24:02.658Z"
   },
   {
    "duration": 2626,
    "start_time": "2021-07-28T20:24:04.958Z"
   },
   {
    "duration": 2767,
    "start_time": "2021-07-28T20:24:09.303Z"
   },
   {
    "duration": 2586,
    "start_time": "2021-07-28T20:24:14.032Z"
   },
   {
    "duration": 1108,
    "start_time": "2021-07-28T20:31:51.860Z"
   },
   {
    "duration": 369,
    "start_time": "2021-07-28T20:31:52.970Z"
   },
   {
    "duration": 4,
    "start_time": "2021-07-28T20:31:53.343Z"
   },
   {
    "duration": 47,
    "start_time": "2021-07-28T20:31:53.348Z"
   },
   {
    "duration": 26,
    "start_time": "2021-07-28T20:31:53.397Z"
   },
   {
    "duration": 124,
    "start_time": "2021-07-28T20:31:53.425Z"
   },
   {
    "duration": 121,
    "start_time": "2021-07-28T20:31:53.551Z"
   },
   {
    "duration": 3,
    "start_time": "2021-07-28T20:31:53.685Z"
   },
   {
    "duration": 12,
    "start_time": "2021-07-28T20:31:53.690Z"
   },
   {
    "duration": 9,
    "start_time": "2021-07-28T20:31:53.704Z"
   },
   {
    "duration": 12,
    "start_time": "2021-07-28T20:31:53.715Z"
   },
   {
    "duration": 8,
    "start_time": "2021-07-28T20:31:53.729Z"
   },
   {
    "duration": 1376,
    "start_time": "2021-07-28T20:31:53.739Z"
   },
   {
    "duration": 35,
    "start_time": "2021-07-28T20:31:55.117Z"
   },
   {
    "duration": 41,
    "start_time": "2021-07-28T20:31:55.153Z"
   },
   {
    "duration": 7,
    "start_time": "2021-07-28T20:31:55.196Z"
   },
   {
    "duration": 25,
    "start_time": "2021-07-28T20:31:55.205Z"
   },
   {
    "duration": 4,
    "start_time": "2021-07-28T20:31:55.232Z"
   },
   {
    "duration": 173,
    "start_time": "2021-07-28T20:31:55.237Z"
   },
   {
    "duration": 320,
    "start_time": "2021-07-28T20:31:55.486Z"
   },
   {
    "duration": 320,
    "start_time": "2021-07-28T20:31:55.884Z"
   },
   {
    "duration": 86,
    "start_time": "2021-07-28T20:31:56.208Z"
   },
   {
    "duration": 101,
    "start_time": "2021-07-28T20:31:56.387Z"
   },
   {
    "duration": 94,
    "start_time": "2021-07-28T20:31:56.491Z"
   },
   {
    "duration": 116,
    "start_time": "2021-07-28T20:31:56.588Z"
   },
   {
    "duration": 199,
    "start_time": "2021-07-28T20:31:56.791Z"
   },
   {
    "duration": 196,
    "start_time": "2021-07-28T20:31:56.995Z"
   },
   {
    "duration": 95,
    "start_time": "2021-07-28T20:31:57.193Z"
   },
   {
    "duration": 7,
    "start_time": "2021-07-28T20:31:57.290Z"
   },
   {
    "duration": 8,
    "start_time": "2021-07-28T20:31:57.298Z"
   },
   {
    "duration": 10,
    "start_time": "2021-07-28T20:31:57.308Z"
   },
   {
    "duration": 5,
    "start_time": "2021-07-28T20:31:57.319Z"
   },
   {
    "duration": 10,
    "start_time": "2021-07-28T20:31:57.326Z"
   },
   {
    "duration": 658,
    "start_time": "2021-07-28T20:31:57.337Z"
   },
   {
    "duration": 287,
    "start_time": "2021-07-28T20:31:57.997Z"
   },
   {
    "duration": 563,
    "start_time": "2021-07-28T20:31:58.286Z"
   },
   {
    "duration": 5,
    "start_time": "2021-07-28T20:31:58.851Z"
   },
   {
    "duration": 2611,
    "start_time": "2021-07-28T20:31:58.858Z"
   },
   {
    "duration": 2618,
    "start_time": "2021-07-28T20:32:01.470Z"
   },
   {
    "duration": 2717,
    "start_time": "2021-07-28T20:32:04.090Z"
   },
   {
    "duration": 1554,
    "start_time": "2021-07-29T14:32:07.847Z"
   },
   {
    "duration": 461,
    "start_time": "2021-07-29T14:32:09.404Z"
   },
   {
    "duration": 4,
    "start_time": "2021-07-29T14:32:09.869Z"
   },
   {
    "duration": 82,
    "start_time": "2021-07-29T14:32:09.876Z"
   },
   {
    "duration": 43,
    "start_time": "2021-07-29T14:32:09.961Z"
   },
   {
    "duration": 191,
    "start_time": "2021-07-29T14:32:10.007Z"
   },
   {
    "duration": 225,
    "start_time": "2021-07-29T14:32:10.200Z"
   },
   {
    "duration": 5,
    "start_time": "2021-07-29T14:32:10.428Z"
   },
   {
    "duration": 33,
    "start_time": "2021-07-29T14:32:10.436Z"
   },
   {
    "duration": 18,
    "start_time": "2021-07-29T14:32:10.472Z"
   },
   {
    "duration": 30,
    "start_time": "2021-07-29T14:32:10.493Z"
   },
   {
    "duration": 42,
    "start_time": "2021-07-29T14:32:10.526Z"
   },
   {
    "duration": 3205,
    "start_time": "2021-07-29T14:32:10.571Z"
   },
   {
    "duration": 93,
    "start_time": "2021-07-29T14:32:13.779Z"
   },
   {
    "duration": 20,
    "start_time": "2021-07-29T14:32:13.875Z"
   },
   {
    "duration": 7,
    "start_time": "2021-07-29T14:32:13.898Z"
   },
   {
    "duration": 72,
    "start_time": "2021-07-29T14:32:13.907Z"
   },
   {
    "duration": 7,
    "start_time": "2021-07-29T14:32:13.982Z"
   },
   {
    "duration": 272,
    "start_time": "2021-07-29T14:32:13.992Z"
   },
   {
    "duration": 300,
    "start_time": "2021-07-29T14:32:14.357Z"
   },
   {
    "duration": 402,
    "start_time": "2021-07-29T14:32:14.662Z"
   },
   {
    "duration": 191,
    "start_time": "2021-07-29T14:32:15.069Z"
   },
   {
    "duration": 100,
    "start_time": "2021-07-29T14:32:15.356Z"
   },
   {
    "duration": 98,
    "start_time": "2021-07-29T14:32:15.460Z"
   },
   {
    "duration": 103,
    "start_time": "2021-07-29T14:32:15.561Z"
   },
   {
    "duration": 102,
    "start_time": "2021-07-29T14:32:15.756Z"
   },
   {
    "duration": 204,
    "start_time": "2021-07-29T14:32:15.861Z"
   },
   {
    "duration": 11,
    "start_time": "2021-07-29T14:32:16.157Z"
   },
   {
    "duration": 7,
    "start_time": "2021-07-29T14:32:16.171Z"
   },
   {
    "duration": 14,
    "start_time": "2021-07-29T14:32:16.181Z"
   },
   {
    "duration": 20,
    "start_time": "2021-07-29T14:32:16.198Z"
   },
   {
    "duration": 5,
    "start_time": "2021-07-29T14:32:16.221Z"
   },
   {
    "duration": 30,
    "start_time": "2021-07-29T14:32:16.229Z"
   },
   {
    "duration": 1052,
    "start_time": "2021-07-29T14:32:16.263Z"
   },
   {
    "duration": 480,
    "start_time": "2021-07-29T14:32:17.317Z"
   },
   {
    "duration": 948,
    "start_time": "2021-07-29T14:32:17.799Z"
   },
   {
    "duration": 7,
    "start_time": "2021-07-29T14:32:18.750Z"
   },
   {
    "duration": 4445,
    "start_time": "2021-07-29T14:32:18.759Z"
   },
   {
    "duration": 4588,
    "start_time": "2021-07-29T14:32:23.206Z"
   },
   {
    "duration": 4455,
    "start_time": "2021-07-29T14:32:27.797Z"
   },
   {
    "duration": 5,
    "start_time": "2021-07-29T14:40:49.252Z"
   },
   {
    "duration": 6,
    "start_time": "2021-07-29T14:41:31.849Z"
   },
   {
    "duration": 23,
    "start_time": "2021-07-29T14:43:08.272Z"
   },
   {
    "duration": 5172,
    "start_time": "2021-07-29T14:43:08.702Z"
   },
   {
    "duration": 5134,
    "start_time": "2021-07-29T14:43:13.877Z"
   },
   {
    "duration": 6129,
    "start_time": "2021-07-29T14:44:56.398Z"
   },
   {
    "duration": 1492,
    "start_time": "2021-07-29T17:37:17.995Z"
   },
   {
    "duration": 496,
    "start_time": "2021-07-29T17:37:19.490Z"
   },
   {
    "duration": 5,
    "start_time": "2021-07-29T17:37:20.976Z"
   },
   {
    "duration": 43,
    "start_time": "2021-07-29T17:37:21.603Z"
   },
   {
    "duration": 39,
    "start_time": "2021-07-29T17:37:23.329Z"
   },
   {
    "duration": 153,
    "start_time": "2021-07-29T17:37:25.714Z"
   },
   {
    "duration": 198,
    "start_time": "2021-07-29T17:37:27.995Z"
   },
   {
    "duration": 5,
    "start_time": "2021-07-29T17:37:29.941Z"
   },
   {
    "duration": 13,
    "start_time": "2021-07-29T17:37:31.475Z"
   },
   {
    "duration": 14,
    "start_time": "2021-07-29T17:37:32.620Z"
   },
   {
    "duration": 20,
    "start_time": "2021-07-29T17:37:36.019Z"
   },
   {
    "duration": 13,
    "start_time": "2021-07-29T17:37:36.924Z"
   },
   {
    "duration": 2449,
    "start_time": "2021-07-29T17:37:40.575Z"
   },
   {
    "duration": 47,
    "start_time": "2021-07-29T17:37:48.735Z"
   },
   {
    "duration": 21,
    "start_time": "2021-07-29T17:37:52.528Z"
   },
   {
    "duration": 6,
    "start_time": "2021-07-29T17:37:57.059Z"
   },
   {
    "duration": 29,
    "start_time": "2021-07-29T17:37:57.962Z"
   },
   {
    "duration": 6,
    "start_time": "2021-07-29T17:38:04.980Z"
   },
   {
    "duration": 247,
    "start_time": "2021-07-29T17:38:07.449Z"
   },
   {
    "duration": 255,
    "start_time": "2021-07-29T17:38:09.647Z"
   },
   {
    "duration": 232,
    "start_time": "2021-07-29T17:38:10.567Z"
   },
   {
    "duration": 17,
    "start_time": "2021-07-29T17:38:13.765Z"
   },
   {
    "duration": 15,
    "start_time": "2021-07-29T17:38:14.844Z"
   },
   {
    "duration": 6,
    "start_time": "2021-07-29T17:38:25.519Z"
   },
   {
    "duration": 144,
    "start_time": "2021-07-29T17:38:26.925Z"
   },
   {
    "duration": 155,
    "start_time": "2021-07-29T17:38:42.315Z"
   },
   {
    "duration": 202,
    "start_time": "2021-07-29T17:39:00.665Z"
   },
   {
    "duration": 102,
    "start_time": "2021-07-29T17:39:10.369Z"
   },
   {
    "duration": 64,
    "start_time": "2021-07-29T17:39:14.008Z"
   },
   {
    "duration": 11,
    "start_time": "2021-07-29T17:39:19.204Z"
   },
   {
    "duration": 4,
    "start_time": "2021-07-29T17:40:40.163Z"
   },
   {
    "duration": 578,
    "start_time": "2021-07-29T17:41:29.731Z"
   },
   {
    "duration": 4,
    "start_time": "2021-07-29T17:41:52.975Z"
   },
   {
    "duration": 6,
    "start_time": "2021-07-29T17:41:56.292Z"
   },
   {
    "duration": 9,
    "start_time": "2021-07-29T17:42:45.486Z"
   },
   {
    "duration": 4,
    "start_time": "2021-07-29T17:42:58.000Z"
   },
   {
    "duration": 7,
    "start_time": "2021-07-29T17:43:01.761Z"
   },
   {
    "duration": 1109,
    "start_time": "2021-07-29T17:43:02.989Z"
   },
   {
    "duration": 486,
    "start_time": "2021-07-29T17:43:04.100Z"
   },
   {
    "duration": 989,
    "start_time": "2021-07-29T17:43:04.588Z"
   },
   {
    "duration": 7,
    "start_time": "2021-07-29T17:44:30.042Z"
   },
   {
    "duration": 1173,
    "start_time": "2021-07-29T17:44:44.839Z"
   },
   {
    "duration": 4,
    "start_time": "2021-07-29T17:46:23.753Z"
   },
   {
    "duration": 10,
    "start_time": "2021-07-29T17:46:30.163Z"
   },
   {
    "duration": 5433,
    "start_time": "2021-07-29T17:46:33.728Z"
   },
   {
    "duration": 5573,
    "start_time": "2021-07-29T17:47:06.033Z"
   },
   {
    "duration": 5935,
    "start_time": "2021-07-29T17:47:23.291Z"
   },
   {
    "duration": 5,
    "start_time": "2021-07-29T17:47:52.105Z"
   },
   {
    "duration": 470,
    "start_time": "2021-07-29T17:47:52.113Z"
   },
   {
    "duration": 5,
    "start_time": "2021-07-29T17:47:52.585Z"
   },
   {
    "duration": 41,
    "start_time": "2021-07-29T17:47:52.593Z"
   },
   {
    "duration": 40,
    "start_time": "2021-07-29T17:47:52.668Z"
   },
   {
    "duration": 178,
    "start_time": "2021-07-29T17:47:52.710Z"
   },
   {
    "duration": 207,
    "start_time": "2021-07-29T17:47:52.891Z"
   },
   {
    "duration": 4,
    "start_time": "2021-07-29T17:47:53.101Z"
   },
   {
    "duration": 15,
    "start_time": "2021-07-29T17:47:53.110Z"
   },
   {
    "duration": 40,
    "start_time": "2021-07-29T17:47:53.128Z"
   },
   {
    "duration": 20,
    "start_time": "2021-07-29T17:47:53.171Z"
   },
   {
    "duration": 13,
    "start_time": "2021-07-29T17:47:53.193Z"
   },
   {
    "duration": 2332,
    "start_time": "2021-07-29T17:47:53.208Z"
   },
   {
    "duration": 62,
    "start_time": "2021-07-29T17:47:55.542Z"
   },
   {
    "duration": 13,
    "start_time": "2021-07-29T17:47:55.607Z"
   },
   {
    "duration": 8,
    "start_time": "2021-07-29T17:47:55.623Z"
   },
   {
    "duration": 61,
    "start_time": "2021-07-29T17:47:55.633Z"
   },
   {
    "duration": 6,
    "start_time": "2021-07-29T17:47:55.696Z"
   },
   {
    "duration": 311,
    "start_time": "2021-07-29T17:47:55.704Z"
   },
   {
    "duration": 333,
    "start_time": "2021-07-29T17:47:56.066Z"
   },
   {
    "duration": 328,
    "start_time": "2021-07-29T17:47:56.467Z"
   },
   {
    "duration": 109,
    "start_time": "2021-07-29T17:47:56.867Z"
   },
   {
    "duration": 195,
    "start_time": "2021-07-29T17:47:56.979Z"
   },
   {
    "duration": 99,
    "start_time": "2021-07-29T17:47:57.177Z"
   },
   {
    "duration": 192,
    "start_time": "2021-07-29T17:47:57.280Z"
   },
   {
    "duration": 203,
    "start_time": "2021-07-29T17:47:57.475Z"
   },
   {
    "duration": 197,
    "start_time": "2021-07-29T17:47:57.771Z"
   },
   {
    "duration": 11,
    "start_time": "2021-07-29T17:47:57.972Z"
   },
   {
    "duration": 4,
    "start_time": "2021-07-29T17:47:57.985Z"
   },
   {
    "duration": 8,
    "start_time": "2021-07-29T17:47:57.992Z"
   },
   {
    "duration": 9,
    "start_time": "2021-07-29T17:47:58.002Z"
   },
   {
    "duration": 54,
    "start_time": "2021-07-29T17:47:58.013Z"
   },
   {
    "duration": 5,
    "start_time": "2021-07-29T17:47:58.070Z"
   },
   {
    "duration": 994,
    "start_time": "2021-07-29T17:47:58.077Z"
   },
   {
    "duration": 483,
    "start_time": "2021-07-29T17:47:59.073Z"
   },
   {
    "duration": 1013,
    "start_time": "2021-07-29T17:47:59.558Z"
   },
   {
    "duration": 8,
    "start_time": "2021-07-29T17:48:00.573Z"
   },
   {
    "duration": 5563,
    "start_time": "2021-07-29T17:48:00.584Z"
   },
   {
    "duration": 5588,
    "start_time": "2021-07-29T17:48:06.149Z"
   },
   {
    "duration": 5555,
    "start_time": "2021-07-29T17:48:11.740Z"
   },
   {
    "duration": 8,
    "start_time": "2021-07-29T17:53:06.002Z"
   },
   {
    "duration": 6404,
    "start_time": "2021-07-29T17:53:08.690Z"
   },
   {
    "duration": 5,
    "start_time": "2021-07-29T17:53:56.530Z"
   },
   {
    "duration": 7,
    "start_time": "2021-07-29T17:54:03.384Z"
   },
   {
    "duration": 5233,
    "start_time": "2021-07-29T17:54:07.337Z"
   },
   {
    "duration": 8,
    "start_time": "2021-07-29T18:00:02.945Z"
   },
   {
    "duration": 4668,
    "start_time": "2021-07-29T18:00:05.234Z"
   },
   {
    "duration": 5,
    "start_time": "2021-07-29T18:02:48.592Z"
   },
   {
    "duration": 8,
    "start_time": "2021-07-29T18:02:56.190Z"
   },
   {
    "duration": 7949,
    "start_time": "2021-07-29T18:02:58.311Z"
   },
   {
    "duration": 3,
    "start_time": "2021-07-29T18:05:56.851Z"
   },
   {
    "duration": 7,
    "start_time": "2021-07-29T18:06:00.576Z"
   },
   {
    "duration": 9,
    "start_time": "2021-07-29T18:06:05.889Z"
   },
   {
    "duration": 4,
    "start_time": "2021-07-29T18:06:13.380Z"
   },
   {
    "duration": 5,
    "start_time": "2021-07-29T18:06:16.281Z"
   },
   {
    "duration": 1064,
    "start_time": "2021-07-29T18:06:18.021Z"
   },
   {
    "duration": 576,
    "start_time": "2021-07-29T18:06:20.640Z"
   },
   {
    "duration": 988,
    "start_time": "2021-07-29T18:06:21.524Z"
   },
   {
    "duration": 7,
    "start_time": "2021-07-29T18:06:30.797Z"
   },
   {
    "duration": 5440,
    "start_time": "2021-07-29T18:06:34.817Z"
   },
   {
    "duration": 5830,
    "start_time": "2021-07-29T18:06:46.821Z"
   },
   {
    "duration": 5305,
    "start_time": "2021-07-29T18:06:54.318Z"
   },
   {
    "duration": 7,
    "start_time": "2021-07-29T18:08:21.032Z"
   },
   {
    "duration": 840,
    "start_time": "2021-07-29T18:08:23.856Z"
   },
   {
    "duration": 7,
    "start_time": "2021-07-29T18:08:33.322Z"
   },
   {
    "duration": 5327,
    "start_time": "2021-07-29T18:08:52.401Z"
   },
   {
    "duration": 4,
    "start_time": "2021-07-29T18:12:10.471Z"
   },
   {
    "duration": 7,
    "start_time": "2021-07-29T18:12:15.453Z"
   },
   {
    "duration": 5466,
    "start_time": "2021-07-29T18:12:18.180Z"
   },
   {
    "duration": 5522,
    "start_time": "2021-07-29T18:12:40.394Z"
   },
   {
    "duration": 5568,
    "start_time": "2021-07-29T18:12:50.450Z"
   },
   {
    "duration": 12,
    "start_time": "2021-07-29T18:13:59.065Z"
   },
   {
    "duration": 5994,
    "start_time": "2021-07-29T18:14:06.681Z"
   },
   {
    "duration": 5589,
    "start_time": "2021-07-29T18:14:15.341Z"
   },
   {
    "duration": 5555,
    "start_time": "2021-07-29T18:14:22.702Z"
   },
   {
    "duration": 139,
    "start_time": "2021-07-29T18:19:57.031Z"
   },
   {
    "duration": 147,
    "start_time": "2021-07-29T18:20:02.364Z"
   },
   {
    "duration": 145,
    "start_time": "2021-07-29T18:20:53.695Z"
   },
   {
    "duration": 132,
    "start_time": "2021-07-29T18:21:30.872Z"
   },
   {
    "duration": 131,
    "start_time": "2021-07-29T18:21:43.980Z"
   },
   {
    "duration": 130,
    "start_time": "2021-07-29T18:22:18.383Z"
   },
   {
    "duration": 141,
    "start_time": "2021-07-29T18:23:16.644Z"
   },
   {
    "duration": 7,
    "start_time": "2021-07-29T18:28:01.083Z"
   },
   {
    "duration": 5565,
    "start_time": "2021-07-29T18:28:04.003Z"
   },
   {
    "duration": 7,
    "start_time": "2021-07-29T18:28:30.095Z"
   },
   {
    "duration": 5476,
    "start_time": "2021-07-29T18:28:32.993Z"
   },
   {
    "duration": 7,
    "start_time": "2021-07-29T18:28:50.073Z"
   },
   {
    "duration": 5510,
    "start_time": "2021-07-29T18:28:54.605Z"
   },
   {
    "duration": 5586,
    "start_time": "2021-07-29T18:29:15.228Z"
   },
   {
    "duration": 5702,
    "start_time": "2021-07-29T18:29:25.805Z"
   }
  ],
  "kernelspec": {
   "display_name": "Python 3 (ipykernel)",
   "language": "python",
   "name": "python3"
  },
  "language_info": {
   "codemirror_mode": {
    "name": "ipython",
    "version": 3
   },
   "file_extension": ".py",
   "mimetype": "text/x-python",
   "name": "python",
   "nbconvert_exporter": "python",
   "pygments_lexer": "ipython3",
   "version": "3.9.5"
  },
  "toc": {
   "base_numbering": 1,
   "nav_menu": {},
   "number_sections": false,
   "sideBar": false,
   "skip_h1_title": true,
   "title_cell": "Table of Contents",
   "title_sidebar": "Contents",
   "toc_cell": false,
   "toc_position": {},
   "toc_section_display": false,
   "toc_window_display": false
  }
 },
 "nbformat": 4,
 "nbformat_minor": 2
}
