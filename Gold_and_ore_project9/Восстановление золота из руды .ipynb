{
 "cells": [
  {
   "cell_type": "markdown",
   "metadata": {},
   "source": [
    "# Восстановление золота из руды"
   ]
  },
  {
   "cell_type": "markdown",
   "metadata": {},
   "source": [
    "Необходимо подготовить прототип модели машинного обучения для «Цифры». Компания разрабатывает решения для эффективной работы промышленных предприятий.\n",
    "\n",
    "Модель должна предсказать коэффициент восстановления золота из золотосодержащей руды. Используем данные с параметрами добычи и очистки. \n",
    "\n",
    "Модель поможет оптимизировать производство, чтобы не запускать предприятие с убыточными характеристиками."
   ]
  },
  {
   "cell_type": "markdown",
   "metadata": {},
   "source": [
    "#### Описание данных\n",
    "Технологический процесс  \n",
    "Rougher feed — исходное сырье  \n",
    "Rougher additions (или reagent additions) — флотационные реагенты: Xanthate, Sulphate, Depressant  \n",
    "Xanthate ** — ксантогенат (промотер, или активатор флотации);  \n",
    "Sulphate — сульфат (на данном производстве сульфид натрия);  \n",
    "Depressant — депрессант (силикат натрия).  \n",
    "Rougher process (англ. «грубый процесс») —  флотация   \n",
    "Rougher tails — отвальные хвосты  \n",
    "Float banks — флотационная установка  \n",
    "Cleaner process — очистка  \n",
    "Rougher Au — черновой концентрат золота  \n",
    "Final Au — финальный концентрат золота  \n",
    "\n",
    "#### Параметры этапов  \n",
    "air amount — объём воздуха  \n",
    "fluid levels — уровень жидкости  \n",
    "feed size — размер гранул сырья  \n",
    "feed rate — скорость подачи  \n",
    "\n",
    "#### Наименование признаков\n",
    "Наименование признаков должно быть такое: [этап].[тип_параметра].[название_параметра]  \n",
    "Пример: rougher.input.feed_ag  \n",
    "Возможные значения для блока [этап]:  \n",
    "rougher — флотация  \n",
    "primary_cleaner — первичная очистка  \n",
    "secondary_cleaner — вторичная очистка  \n",
    "final — финальные характеристики  \n",
    "Возможные значения для блока [тип_параметра]:  \n",
    "input — параметры сырья  \n",
    "output — параметры продукта  \n",
    "state — параметры, характеризующие текущее состояние этапа  \n",
    "calculation — расчётные характеристики  \n",
    "\n"
   ]
  },
  {
   "cell_type": "markdown",
   "metadata": {},
   "source": [
    "## Подготовка данных"
   ]
  },
  {
   "cell_type": "markdown",
   "metadata": {},
   "source": [
    "KNNImputer никак не хотел импортироваться, поэтому пришлось апгрейдить библиотеку scikit-learn."
   ]
  },
  {
   "cell_type": "code",
   "execution_count": 1,
   "metadata": {},
   "outputs": [
    {
     "name": "stdout",
     "output_type": "stream",
     "text": [
      "Requirement already up-to-date: scikit-learn in /home/jovyan/.local/lib/python3.7/site-packages (0.24.2)\n",
      "Requirement already satisfied, skipping upgrade: scipy>=0.19.1 in /opt/conda/lib/python3.7/site-packages (from scikit-learn) (1.4.1)\n",
      "Requirement already satisfied, skipping upgrade: threadpoolctl>=2.0.0 in /home/jovyan/.local/lib/python3.7/site-packages (from scikit-learn) (2.2.0)\n",
      "Requirement already satisfied, skipping upgrade: joblib>=0.11 in /opt/conda/lib/python3.7/site-packages (from scikit-learn) (1.0.1)\n",
      "Requirement already satisfied, skipping upgrade: numpy>=1.13.3 in /opt/conda/lib/python3.7/site-packages (from scikit-learn) (1.19.5)\n",
      "Note: you may need to restart the kernel to use updated packages.\n"
     ]
    }
   ],
   "source": [
    "pip install -U scikit-learn --user"
   ]
  },
  {
   "cell_type": "markdown",
   "metadata": {},
   "source": [
    "### Импорт библиотек "
   ]
  },
  {
   "cell_type": "code",
   "execution_count": 2,
   "metadata": {},
   "outputs": [],
   "source": [
    "import numpy as np\n",
    "import pandas as pd\n",
    "\n",
    "from sklearn.metrics import mean_absolute_error as MAE\n",
    "from sklearn.pipeline import  make_pipeline\n",
    "pd.set_option('display.max_columns', None)\n",
    "from sklearn.impute import KNNImputer\n",
    "from sklearn.ensemble import RandomForestRegressor\n",
    "from sklearn.preprocessing import StandardScaler\n",
    "from sklearn.model_selection import cross_val_score, GridSearchCV\n",
    "from sklearn.preprocessing import PolynomialFeatures\n",
    "from sklearn.linear_model import LinearRegression\n",
    "from sklearn.tree import DecisionTreeRegressor\n",
    "import matplotlib.pyplot as plt\n",
    "from sklearn.metrics import make_scorer\n",
    "from sklearn.dummy import DummyRegressor\n",
    "import seaborn as sns\n",
    "import warnings\n",
    "warnings.simplefilter(action='ignore', category=FutureWarning)\n",
    "import collections"
   ]
  },
  {
   "cell_type": "markdown",
   "metadata": {},
   "source": [
    "Открываем файлы и изучаем на наличие аномалий, пропусков и ошибок. "
   ]
  },
  {
   "cell_type": "code",
   "execution_count": 3,
   "metadata": {},
   "outputs": [],
   "source": [
    "test_frame = pd.read_csv('/datasets/gold_recovery_test_new.csv')\n",
    "train_frame = pd.read_csv('/datasets/gold_recovery_train_new.csv')\n",
    "full_frame = pd.read_csv('/datasets/gold_recovery_full_new.csv')"
   ]
  },
  {
   "cell_type": "markdown",
   "metadata": {},
   "source": [
    "Посмотрим структуру датасетов на примере обучающей выборки."
   ]
  },
  {
   "cell_type": "code",
   "execution_count": 4,
   "metadata": {},
   "outputs": [
    {
     "name": "stdout",
     "output_type": "stream",
     "text": [
      "<class 'pandas.core.frame.DataFrame'>\n",
      "RangeIndex: 14149 entries, 0 to 14148\n",
      "Data columns (total 87 columns):\n",
      "date                                                  14149 non-null object\n",
      "final.output.concentrate_ag                           14148 non-null float64\n",
      "final.output.concentrate_pb                           14148 non-null float64\n",
      "final.output.concentrate_sol                          13938 non-null float64\n",
      "final.output.concentrate_au                           14149 non-null float64\n",
      "final.output.recovery                                 14149 non-null float64\n",
      "final.output.tail_ag                                  14149 non-null float64\n",
      "final.output.tail_pb                                  14049 non-null float64\n",
      "final.output.tail_sol                                 14144 non-null float64\n",
      "final.output.tail_au                                  14149 non-null float64\n",
      "primary_cleaner.input.sulfate                         14129 non-null float64\n",
      "primary_cleaner.input.depressant                      14117 non-null float64\n",
      "primary_cleaner.input.feed_size                       14149 non-null float64\n",
      "primary_cleaner.input.xanthate                        14049 non-null float64\n",
      "primary_cleaner.output.concentrate_ag                 14149 non-null float64\n",
      "primary_cleaner.output.concentrate_pb                 14063 non-null float64\n",
      "primary_cleaner.output.concentrate_sol                13863 non-null float64\n",
      "primary_cleaner.output.concentrate_au                 14149 non-null float64\n",
      "primary_cleaner.output.tail_ag                        14148 non-null float64\n",
      "primary_cleaner.output.tail_pb                        14134 non-null float64\n",
      "primary_cleaner.output.tail_sol                       14103 non-null float64\n",
      "primary_cleaner.output.tail_au                        14149 non-null float64\n",
      "primary_cleaner.state.floatbank8_a_air                14145 non-null float64\n",
      "primary_cleaner.state.floatbank8_a_level              14148 non-null float64\n",
      "primary_cleaner.state.floatbank8_b_air                14145 non-null float64\n",
      "primary_cleaner.state.floatbank8_b_level              14148 non-null float64\n",
      "primary_cleaner.state.floatbank8_c_air                14147 non-null float64\n",
      "primary_cleaner.state.floatbank8_c_level              14148 non-null float64\n",
      "primary_cleaner.state.floatbank8_d_air                14146 non-null float64\n",
      "primary_cleaner.state.floatbank8_d_level              14148 non-null float64\n",
      "rougher.calculation.sulfate_to_au_concentrate         14148 non-null float64\n",
      "rougher.calculation.floatbank10_sulfate_to_au_feed    14148 non-null float64\n",
      "rougher.calculation.floatbank11_sulfate_to_au_feed    14148 non-null float64\n",
      "rougher.calculation.au_pb_ratio                       14149 non-null float64\n",
      "rougher.input.feed_ag                                 14149 non-null float64\n",
      "rougher.input.feed_pb                                 14049 non-null float64\n",
      "rougher.input.feed_rate                               14141 non-null float64\n",
      "rougher.input.feed_size                               14005 non-null float64\n",
      "rougher.input.feed_sol                                14071 non-null float64\n",
      "rougher.input.feed_au                                 14149 non-null float64\n",
      "rougher.input.floatbank10_sulfate                     14120 non-null float64\n",
      "rougher.input.floatbank10_xanthate                    14141 non-null float64\n",
      "rougher.input.floatbank11_sulfate                     14113 non-null float64\n",
      "rougher.input.floatbank11_xanthate                    13721 non-null float64\n",
      "rougher.output.concentrate_ag                         14149 non-null float64\n",
      "rougher.output.concentrate_pb                         14149 non-null float64\n",
      "rougher.output.concentrate_sol                        14127 non-null float64\n",
      "rougher.output.concentrate_au                         14149 non-null float64\n",
      "rougher.output.recovery                               14149 non-null float64\n",
      "rougher.output.tail_ag                                14148 non-null float64\n",
      "rougher.output.tail_pb                                14149 non-null float64\n",
      "rougher.output.tail_sol                               14149 non-null float64\n",
      "rougher.output.tail_au                                14149 non-null float64\n",
      "rougher.state.floatbank10_a_air                       14148 non-null float64\n",
      "rougher.state.floatbank10_a_level                     14148 non-null float64\n",
      "rougher.state.floatbank10_b_air                       14148 non-null float64\n",
      "rougher.state.floatbank10_b_level                     14148 non-null float64\n",
      "rougher.state.floatbank10_c_air                       14148 non-null float64\n",
      "rougher.state.floatbank10_c_level                     14148 non-null float64\n",
      "rougher.state.floatbank10_d_air                       14149 non-null float64\n",
      "rougher.state.floatbank10_d_level                     14149 non-null float64\n",
      "rougher.state.floatbank10_e_air                       13713 non-null float64\n",
      "rougher.state.floatbank10_e_level                     14149 non-null float64\n",
      "rougher.state.floatbank10_f_air                       14149 non-null float64\n",
      "rougher.state.floatbank10_f_level                     14149 non-null float64\n",
      "secondary_cleaner.output.tail_ag                      14147 non-null float64\n",
      "secondary_cleaner.output.tail_pb                      14139 non-null float64\n",
      "secondary_cleaner.output.tail_sol                     12544 non-null float64\n",
      "secondary_cleaner.output.tail_au                      14149 non-null float64\n",
      "secondary_cleaner.state.floatbank2_a_air              13932 non-null float64\n",
      "secondary_cleaner.state.floatbank2_a_level            14148 non-null float64\n",
      "secondary_cleaner.state.floatbank2_b_air              14128 non-null float64\n",
      "secondary_cleaner.state.floatbank2_b_level            14148 non-null float64\n",
      "secondary_cleaner.state.floatbank3_a_air              14145 non-null float64\n",
      "secondary_cleaner.state.floatbank3_a_level            14148 non-null float64\n",
      "secondary_cleaner.state.floatbank3_b_air              14148 non-null float64\n",
      "secondary_cleaner.state.floatbank3_b_level            14148 non-null float64\n",
      "secondary_cleaner.state.floatbank4_a_air              14143 non-null float64\n",
      "secondary_cleaner.state.floatbank4_a_level            14148 non-null float64\n",
      "secondary_cleaner.state.floatbank4_b_air              14148 non-null float64\n",
      "secondary_cleaner.state.floatbank4_b_level            14148 non-null float64\n",
      "secondary_cleaner.state.floatbank5_a_air              14148 non-null float64\n",
      "secondary_cleaner.state.floatbank5_a_level            14148 non-null float64\n",
      "secondary_cleaner.state.floatbank5_b_air              14148 non-null float64\n",
      "secondary_cleaner.state.floatbank5_b_level            14148 non-null float64\n",
      "secondary_cleaner.state.floatbank6_a_air              14147 non-null float64\n",
      "secondary_cleaner.state.floatbank6_a_level            14148 non-null float64\n",
      "dtypes: float64(86), object(1)\n",
      "memory usage: 9.4+ MB\n"
     ]
    }
   ],
   "source": [
    "train_frame.info()"
   ]
  },
  {
   "cell_type": "markdown",
   "metadata": {},
   "source": [
    "У нас имеется 87 столбцов и 14149 строк в обучающей выборке. Для обучения модели, для конкретно поставленной задачи предсказания коэффициента восстановления золота из золотосодержащей руды нам не понадобятся все столбцы из датасетов. Соответственно, не нужно обрабатывать все колонки и тратить на них свое драгоценное время. Видим, что пропущенные значения имеются во многих столбцах, но их доля невелика. Тип данных во всех столбцах, кроме даты, float64 числовой. "
   ]
  },
  {
   "cell_type": "code",
   "execution_count": 5,
   "metadata": {},
   "outputs": [
    {
     "data": {
      "text/html": [
       "<div>\n",
       "<style scoped>\n",
       "    .dataframe tbody tr th:only-of-type {\n",
       "        vertical-align: middle;\n",
       "    }\n",
       "\n",
       "    .dataframe tbody tr th {\n",
       "        vertical-align: top;\n",
       "    }\n",
       "\n",
       "    .dataframe thead th {\n",
       "        text-align: right;\n",
       "    }\n",
       "</style>\n",
       "<table border=\"1\" class=\"dataframe\">\n",
       "  <thead>\n",
       "    <tr style=\"text-align: right;\">\n",
       "      <th></th>\n",
       "      <th>date</th>\n",
       "      <th>final.output.concentrate_ag</th>\n",
       "      <th>final.output.concentrate_pb</th>\n",
       "      <th>final.output.concentrate_sol</th>\n",
       "      <th>final.output.concentrate_au</th>\n",
       "      <th>final.output.recovery</th>\n",
       "      <th>final.output.tail_ag</th>\n",
       "      <th>final.output.tail_pb</th>\n",
       "      <th>final.output.tail_sol</th>\n",
       "      <th>final.output.tail_au</th>\n",
       "      <th>primary_cleaner.input.sulfate</th>\n",
       "      <th>primary_cleaner.input.depressant</th>\n",
       "      <th>primary_cleaner.input.feed_size</th>\n",
       "      <th>primary_cleaner.input.xanthate</th>\n",
       "      <th>primary_cleaner.output.concentrate_ag</th>\n",
       "      <th>primary_cleaner.output.concentrate_pb</th>\n",
       "      <th>primary_cleaner.output.concentrate_sol</th>\n",
       "      <th>primary_cleaner.output.concentrate_au</th>\n",
       "      <th>primary_cleaner.output.tail_ag</th>\n",
       "      <th>primary_cleaner.output.tail_pb</th>\n",
       "      <th>primary_cleaner.output.tail_sol</th>\n",
       "      <th>primary_cleaner.output.tail_au</th>\n",
       "      <th>primary_cleaner.state.floatbank8_a_air</th>\n",
       "      <th>primary_cleaner.state.floatbank8_a_level</th>\n",
       "      <th>primary_cleaner.state.floatbank8_b_air</th>\n",
       "      <th>primary_cleaner.state.floatbank8_b_level</th>\n",
       "      <th>primary_cleaner.state.floatbank8_c_air</th>\n",
       "      <th>primary_cleaner.state.floatbank8_c_level</th>\n",
       "      <th>primary_cleaner.state.floatbank8_d_air</th>\n",
       "      <th>primary_cleaner.state.floatbank8_d_level</th>\n",
       "      <th>rougher.calculation.sulfate_to_au_concentrate</th>\n",
       "      <th>rougher.calculation.floatbank10_sulfate_to_au_feed</th>\n",
       "      <th>rougher.calculation.floatbank11_sulfate_to_au_feed</th>\n",
       "      <th>rougher.calculation.au_pb_ratio</th>\n",
       "      <th>rougher.input.feed_ag</th>\n",
       "      <th>rougher.input.feed_pb</th>\n",
       "      <th>rougher.input.feed_rate</th>\n",
       "      <th>rougher.input.feed_size</th>\n",
       "      <th>rougher.input.feed_sol</th>\n",
       "      <th>rougher.input.feed_au</th>\n",
       "      <th>rougher.input.floatbank10_sulfate</th>\n",
       "      <th>rougher.input.floatbank10_xanthate</th>\n",
       "      <th>rougher.input.floatbank11_sulfate</th>\n",
       "      <th>rougher.input.floatbank11_xanthate</th>\n",
       "      <th>rougher.output.concentrate_ag</th>\n",
       "      <th>rougher.output.concentrate_pb</th>\n",
       "      <th>rougher.output.concentrate_sol</th>\n",
       "      <th>rougher.output.concentrate_au</th>\n",
       "      <th>rougher.output.recovery</th>\n",
       "      <th>rougher.output.tail_ag</th>\n",
       "      <th>rougher.output.tail_pb</th>\n",
       "      <th>rougher.output.tail_sol</th>\n",
       "      <th>rougher.output.tail_au</th>\n",
       "      <th>rougher.state.floatbank10_a_air</th>\n",
       "      <th>rougher.state.floatbank10_a_level</th>\n",
       "      <th>rougher.state.floatbank10_b_air</th>\n",
       "      <th>rougher.state.floatbank10_b_level</th>\n",
       "      <th>rougher.state.floatbank10_c_air</th>\n",
       "      <th>rougher.state.floatbank10_c_level</th>\n",
       "      <th>rougher.state.floatbank10_d_air</th>\n",
       "      <th>rougher.state.floatbank10_d_level</th>\n",
       "      <th>rougher.state.floatbank10_e_air</th>\n",
       "      <th>rougher.state.floatbank10_e_level</th>\n",
       "      <th>rougher.state.floatbank10_f_air</th>\n",
       "      <th>rougher.state.floatbank10_f_level</th>\n",
       "      <th>secondary_cleaner.output.tail_ag</th>\n",
       "      <th>secondary_cleaner.output.tail_pb</th>\n",
       "      <th>secondary_cleaner.output.tail_sol</th>\n",
       "      <th>secondary_cleaner.output.tail_au</th>\n",
       "      <th>secondary_cleaner.state.floatbank2_a_air</th>\n",
       "      <th>secondary_cleaner.state.floatbank2_a_level</th>\n",
       "      <th>secondary_cleaner.state.floatbank2_b_air</th>\n",
       "      <th>secondary_cleaner.state.floatbank2_b_level</th>\n",
       "      <th>secondary_cleaner.state.floatbank3_a_air</th>\n",
       "      <th>secondary_cleaner.state.floatbank3_a_level</th>\n",
       "      <th>secondary_cleaner.state.floatbank3_b_air</th>\n",
       "      <th>secondary_cleaner.state.floatbank3_b_level</th>\n",
       "      <th>secondary_cleaner.state.floatbank4_a_air</th>\n",
       "      <th>secondary_cleaner.state.floatbank4_a_level</th>\n",
       "      <th>secondary_cleaner.state.floatbank4_b_air</th>\n",
       "      <th>secondary_cleaner.state.floatbank4_b_level</th>\n",
       "      <th>secondary_cleaner.state.floatbank5_a_air</th>\n",
       "      <th>secondary_cleaner.state.floatbank5_a_level</th>\n",
       "      <th>secondary_cleaner.state.floatbank5_b_air</th>\n",
       "      <th>secondary_cleaner.state.floatbank5_b_level</th>\n",
       "      <th>secondary_cleaner.state.floatbank6_a_air</th>\n",
       "      <th>secondary_cleaner.state.floatbank6_a_level</th>\n",
       "    </tr>\n",
       "  </thead>\n",
       "  <tbody>\n",
       "    <tr>\n",
       "      <td>0</td>\n",
       "      <td>2016-01-15 00:00:00</td>\n",
       "      <td>6.055403</td>\n",
       "      <td>9.889648</td>\n",
       "      <td>5.507324</td>\n",
       "      <td>42.192020</td>\n",
       "      <td>70.541216</td>\n",
       "      <td>10.411962</td>\n",
       "      <td>0.895447</td>\n",
       "      <td>16.904297</td>\n",
       "      <td>2.143149</td>\n",
       "      <td>127.092003</td>\n",
       "      <td>10.128295</td>\n",
       "      <td>7.25</td>\n",
       "      <td>0.988759</td>\n",
       "      <td>8.547551</td>\n",
       "      <td>10.389648</td>\n",
       "      <td>19.529297</td>\n",
       "      <td>34.174427</td>\n",
       "      <td>14.936526</td>\n",
       "      <td>2.534912</td>\n",
       "      <td>7.476074</td>\n",
       "      <td>2.106679</td>\n",
       "      <td>1549.775757</td>\n",
       "      <td>-498.912140</td>\n",
       "      <td>1551.434204</td>\n",
       "      <td>-516.403442</td>\n",
       "      <td>1549.873901</td>\n",
       "      <td>-498.666595</td>\n",
       "      <td>1554.367432</td>\n",
       "      <td>-493.428131</td>\n",
       "      <td>41885.707031</td>\n",
       "      <td>3481.779053</td>\n",
       "      <td>3520.337158</td>\n",
       "      <td>2.838687</td>\n",
       "      <td>6.100378</td>\n",
       "      <td>2.284912</td>\n",
       "      <td>523.546326</td>\n",
       "      <td>55.486599</td>\n",
       "      <td>36.808594</td>\n",
       "      <td>6.486150</td>\n",
       "      <td>11.986616</td>\n",
       "      <td>6.007990</td>\n",
       "      <td>11.836743</td>\n",
       "      <td>6.005818</td>\n",
       "      <td>11.500771</td>\n",
       "      <td>7.101074</td>\n",
       "      <td>28.029297</td>\n",
       "      <td>19.793808</td>\n",
       "      <td>87.107763</td>\n",
       "      <td>5.008018</td>\n",
       "      <td>0.508728</td>\n",
       "      <td>19.154297</td>\n",
       "      <td>1.170244</td>\n",
       "      <td>999.706909</td>\n",
       "      <td>-404.066986</td>\n",
       "      <td>1603.011353</td>\n",
       "      <td>-434.715027</td>\n",
       "      <td>1602.375000</td>\n",
       "      <td>-442.204468</td>\n",
       "      <td>1598.937256</td>\n",
       "      <td>-451.294128</td>\n",
       "      <td>1404.472046</td>\n",
       "      <td>-455.462982</td>\n",
       "      <td>1416.354980</td>\n",
       "      <td>-451.939636</td>\n",
       "      <td>14.500184</td>\n",
       "      <td>4.694824</td>\n",
       "      <td>8.764648</td>\n",
       "      <td>2.606185</td>\n",
       "      <td>25.853109</td>\n",
       "      <td>-498.526489</td>\n",
       "      <td>23.893660</td>\n",
       "      <td>-501.406281</td>\n",
       "      <td>23.961798</td>\n",
       "      <td>-495.262817</td>\n",
       "      <td>21.940409</td>\n",
       "      <td>-499.340973</td>\n",
       "      <td>14.016835</td>\n",
       "      <td>-502.488007</td>\n",
       "      <td>12.099931</td>\n",
       "      <td>-504.715942</td>\n",
       "      <td>9.925633</td>\n",
       "      <td>-498.310211</td>\n",
       "      <td>8.079666</td>\n",
       "      <td>-500.470978</td>\n",
       "      <td>14.151341</td>\n",
       "      <td>-605.841980</td>\n",
       "    </tr>\n",
       "    <tr>\n",
       "      <td>1</td>\n",
       "      <td>2016-01-15 01:00:00</td>\n",
       "      <td>6.029369</td>\n",
       "      <td>9.968944</td>\n",
       "      <td>5.257781</td>\n",
       "      <td>42.701629</td>\n",
       "      <td>69.266198</td>\n",
       "      <td>10.462676</td>\n",
       "      <td>0.927452</td>\n",
       "      <td>16.634514</td>\n",
       "      <td>2.224930</td>\n",
       "      <td>125.629232</td>\n",
       "      <td>10.296251</td>\n",
       "      <td>7.25</td>\n",
       "      <td>1.002663</td>\n",
       "      <td>8.558743</td>\n",
       "      <td>10.497069</td>\n",
       "      <td>19.369147</td>\n",
       "      <td>34.118526</td>\n",
       "      <td>16.250511</td>\n",
       "      <td>3.049646</td>\n",
       "      <td>6.733907</td>\n",
       "      <td>2.353017</td>\n",
       "      <td>1576.166671</td>\n",
       "      <td>-500.904965</td>\n",
       "      <td>1575.950626</td>\n",
       "      <td>-499.865889</td>\n",
       "      <td>1575.994189</td>\n",
       "      <td>-499.315107</td>\n",
       "      <td>1574.479259</td>\n",
       "      <td>-498.931665</td>\n",
       "      <td>42050.861809</td>\n",
       "      <td>3498.370979</td>\n",
       "      <td>3489.981857</td>\n",
       "      <td>2.858998</td>\n",
       "      <td>6.161113</td>\n",
       "      <td>2.266033</td>\n",
       "      <td>525.290581</td>\n",
       "      <td>57.278666</td>\n",
       "      <td>35.753385</td>\n",
       "      <td>6.478583</td>\n",
       "      <td>11.971193</td>\n",
       "      <td>6.005766</td>\n",
       "      <td>11.996163</td>\n",
       "      <td>6.012594</td>\n",
       "      <td>11.615865</td>\n",
       "      <td>7.278807</td>\n",
       "      <td>28.067063</td>\n",
       "      <td>20.050975</td>\n",
       "      <td>86.843261</td>\n",
       "      <td>4.955378</td>\n",
       "      <td>0.536689</td>\n",
       "      <td>18.965234</td>\n",
       "      <td>1.184827</td>\n",
       "      <td>1000.286398</td>\n",
       "      <td>-400.065196</td>\n",
       "      <td>1600.754587</td>\n",
       "      <td>-449.953435</td>\n",
       "      <td>1600.479580</td>\n",
       "      <td>-449.830646</td>\n",
       "      <td>1600.527589</td>\n",
       "      <td>-449.953649</td>\n",
       "      <td>1399.227084</td>\n",
       "      <td>-450.869848</td>\n",
       "      <td>1399.719514</td>\n",
       "      <td>-450.119001</td>\n",
       "      <td>14.265474</td>\n",
       "      <td>4.592547</td>\n",
       "      <td>9.001494</td>\n",
       "      <td>2.488248</td>\n",
       "      <td>25.880539</td>\n",
       "      <td>-499.989656</td>\n",
       "      <td>23.889530</td>\n",
       "      <td>-500.372428</td>\n",
       "      <td>23.970550</td>\n",
       "      <td>-500.085473</td>\n",
       "      <td>22.085714</td>\n",
       "      <td>-499.446897</td>\n",
       "      <td>13.992281</td>\n",
       "      <td>-505.503262</td>\n",
       "      <td>11.950531</td>\n",
       "      <td>-501.331529</td>\n",
       "      <td>10.039245</td>\n",
       "      <td>-500.169983</td>\n",
       "      <td>7.984757</td>\n",
       "      <td>-500.582168</td>\n",
       "      <td>13.998353</td>\n",
       "      <td>-599.787184</td>\n",
       "    </tr>\n",
       "    <tr>\n",
       "      <td>2</td>\n",
       "      <td>2016-01-15 02:00:00</td>\n",
       "      <td>6.055926</td>\n",
       "      <td>10.213995</td>\n",
       "      <td>5.383759</td>\n",
       "      <td>42.657501</td>\n",
       "      <td>68.116445</td>\n",
       "      <td>10.507046</td>\n",
       "      <td>0.953716</td>\n",
       "      <td>16.208849</td>\n",
       "      <td>2.257889</td>\n",
       "      <td>123.819808</td>\n",
       "      <td>11.316280</td>\n",
       "      <td>7.25</td>\n",
       "      <td>0.991265</td>\n",
       "      <td>8.603505</td>\n",
       "      <td>10.354494</td>\n",
       "      <td>19.167579</td>\n",
       "      <td>33.969464</td>\n",
       "      <td>16.491823</td>\n",
       "      <td>3.124664</td>\n",
       "      <td>6.471768</td>\n",
       "      <td>2.416800</td>\n",
       "      <td>1601.556163</td>\n",
       "      <td>-499.997791</td>\n",
       "      <td>1600.386685</td>\n",
       "      <td>-500.607762</td>\n",
       "      <td>1602.003542</td>\n",
       "      <td>-500.870069</td>\n",
       "      <td>1599.541515</td>\n",
       "      <td>-499.827444</td>\n",
       "      <td>42018.101184</td>\n",
       "      <td>3495.348910</td>\n",
       "      <td>3502.359819</td>\n",
       "      <td>2.945989</td>\n",
       "      <td>6.116455</td>\n",
       "      <td>2.159622</td>\n",
       "      <td>530.026610</td>\n",
       "      <td>57.510649</td>\n",
       "      <td>35.971630</td>\n",
       "      <td>6.362222</td>\n",
       "      <td>11.920603</td>\n",
       "      <td>6.197377</td>\n",
       "      <td>11.920305</td>\n",
       "      <td>6.204633</td>\n",
       "      <td>11.695753</td>\n",
       "      <td>7.216833</td>\n",
       "      <td>27.454037</td>\n",
       "      <td>19.737170</td>\n",
       "      <td>86.842308</td>\n",
       "      <td>4.843460</td>\n",
       "      <td>0.546416</td>\n",
       "      <td>18.808533</td>\n",
       "      <td>1.162562</td>\n",
       "      <td>999.719565</td>\n",
       "      <td>-400.074028</td>\n",
       "      <td>1599.337330</td>\n",
       "      <td>-450.008530</td>\n",
       "      <td>1599.672797</td>\n",
       "      <td>-449.954491</td>\n",
       "      <td>1599.849325</td>\n",
       "      <td>-449.954185</td>\n",
       "      <td>1399.180945</td>\n",
       "      <td>-449.937588</td>\n",
       "      <td>1400.316682</td>\n",
       "      <td>-450.527147</td>\n",
       "      <td>14.115662</td>\n",
       "      <td>4.624775</td>\n",
       "      <td>8.842896</td>\n",
       "      <td>2.458187</td>\n",
       "      <td>26.005245</td>\n",
       "      <td>-499.929616</td>\n",
       "      <td>23.886657</td>\n",
       "      <td>-499.951928</td>\n",
       "      <td>23.913535</td>\n",
       "      <td>-499.442343</td>\n",
       "      <td>23.957717</td>\n",
       "      <td>-499.901982</td>\n",
       "      <td>14.015015</td>\n",
       "      <td>-502.520901</td>\n",
       "      <td>11.912783</td>\n",
       "      <td>-501.133383</td>\n",
       "      <td>10.070913</td>\n",
       "      <td>-500.129135</td>\n",
       "      <td>8.013877</td>\n",
       "      <td>-500.517572</td>\n",
       "      <td>14.028663</td>\n",
       "      <td>-601.427363</td>\n",
       "    </tr>\n",
       "    <tr>\n",
       "      <td>3</td>\n",
       "      <td>2016-01-15 03:00:00</td>\n",
       "      <td>6.047977</td>\n",
       "      <td>9.977019</td>\n",
       "      <td>4.858634</td>\n",
       "      <td>42.689819</td>\n",
       "      <td>68.347543</td>\n",
       "      <td>10.422762</td>\n",
       "      <td>0.883763</td>\n",
       "      <td>16.532835</td>\n",
       "      <td>2.146849</td>\n",
       "      <td>122.270188</td>\n",
       "      <td>11.322140</td>\n",
       "      <td>7.25</td>\n",
       "      <td>0.996739</td>\n",
       "      <td>7.221879</td>\n",
       "      <td>8.496563</td>\n",
       "      <td>15.978538</td>\n",
       "      <td>28.260743</td>\n",
       "      <td>16.024359</td>\n",
       "      <td>2.960362</td>\n",
       "      <td>6.843791</td>\n",
       "      <td>2.262051</td>\n",
       "      <td>1599.968720</td>\n",
       "      <td>-500.951778</td>\n",
       "      <td>1600.659236</td>\n",
       "      <td>-499.677094</td>\n",
       "      <td>1600.304144</td>\n",
       "      <td>-500.727997</td>\n",
       "      <td>1600.449520</td>\n",
       "      <td>-500.052575</td>\n",
       "      <td>42029.447991</td>\n",
       "      <td>3498.578313</td>\n",
       "      <td>3499.162912</td>\n",
       "      <td>3.002340</td>\n",
       "      <td>6.043309</td>\n",
       "      <td>2.037807</td>\n",
       "      <td>542.590390</td>\n",
       "      <td>57.792734</td>\n",
       "      <td>36.862241</td>\n",
       "      <td>6.118189</td>\n",
       "      <td>11.630094</td>\n",
       "      <td>6.203177</td>\n",
       "      <td>11.692450</td>\n",
       "      <td>6.196578</td>\n",
       "      <td>11.915047</td>\n",
       "      <td>7.175616</td>\n",
       "      <td>27.341277</td>\n",
       "      <td>19.320810</td>\n",
       "      <td>87.226430</td>\n",
       "      <td>4.655288</td>\n",
       "      <td>0.542525</td>\n",
       "      <td>19.330200</td>\n",
       "      <td>1.079755</td>\n",
       "      <td>999.814770</td>\n",
       "      <td>-400.200179</td>\n",
       "      <td>1600.059442</td>\n",
       "      <td>-450.619948</td>\n",
       "      <td>1600.012842</td>\n",
       "      <td>-449.910497</td>\n",
       "      <td>1597.725177</td>\n",
       "      <td>-450.130127</td>\n",
       "      <td>1400.943157</td>\n",
       "      <td>-450.030142</td>\n",
       "      <td>1400.234743</td>\n",
       "      <td>-449.790835</td>\n",
       "      <td>13.732071</td>\n",
       "      <td>4.482453</td>\n",
       "      <td>9.122857</td>\n",
       "      <td>2.322062</td>\n",
       "      <td>25.942508</td>\n",
       "      <td>-499.176749</td>\n",
       "      <td>23.955516</td>\n",
       "      <td>-499.848796</td>\n",
       "      <td>23.966838</td>\n",
       "      <td>-500.008812</td>\n",
       "      <td>23.954443</td>\n",
       "      <td>-499.944710</td>\n",
       "      <td>14.036510</td>\n",
       "      <td>-500.857308</td>\n",
       "      <td>11.999550</td>\n",
       "      <td>-501.193686</td>\n",
       "      <td>9.970366</td>\n",
       "      <td>-499.201640</td>\n",
       "      <td>7.977324</td>\n",
       "      <td>-500.255908</td>\n",
       "      <td>14.005551</td>\n",
       "      <td>-599.996129</td>\n",
       "    </tr>\n",
       "    <tr>\n",
       "      <td>4</td>\n",
       "      <td>2016-01-15 04:00:00</td>\n",
       "      <td>6.148599</td>\n",
       "      <td>10.142511</td>\n",
       "      <td>4.939416</td>\n",
       "      <td>42.774141</td>\n",
       "      <td>66.927016</td>\n",
       "      <td>10.360302</td>\n",
       "      <td>0.792826</td>\n",
       "      <td>16.525686</td>\n",
       "      <td>2.055292</td>\n",
       "      <td>117.988169</td>\n",
       "      <td>11.913613</td>\n",
       "      <td>7.25</td>\n",
       "      <td>1.009869</td>\n",
       "      <td>9.089428</td>\n",
       "      <td>9.986786</td>\n",
       "      <td>19.199864</td>\n",
       "      <td>33.044932</td>\n",
       "      <td>16.480185</td>\n",
       "      <td>3.112100</td>\n",
       "      <td>6.550154</td>\n",
       "      <td>2.277073</td>\n",
       "      <td>1601.339707</td>\n",
       "      <td>-498.975456</td>\n",
       "      <td>1601.437854</td>\n",
       "      <td>-500.323246</td>\n",
       "      <td>1599.581894</td>\n",
       "      <td>-500.888152</td>\n",
       "      <td>1602.649541</td>\n",
       "      <td>-500.593010</td>\n",
       "      <td>42125.354245</td>\n",
       "      <td>3494.800771</td>\n",
       "      <td>3506.679315</td>\n",
       "      <td>3.169615</td>\n",
       "      <td>6.060915</td>\n",
       "      <td>1.786875</td>\n",
       "      <td>540.531893</td>\n",
       "      <td>56.047189</td>\n",
       "      <td>34.347666</td>\n",
       "      <td>5.663707</td>\n",
       "      <td>10.957755</td>\n",
       "      <td>6.198826</td>\n",
       "      <td>10.960521</td>\n",
       "      <td>6.194897</td>\n",
       "      <td>12.411054</td>\n",
       "      <td>7.240205</td>\n",
       "      <td>27.041023</td>\n",
       "      <td>19.216101</td>\n",
       "      <td>86.688794</td>\n",
       "      <td>4.552800</td>\n",
       "      <td>0.515438</td>\n",
       "      <td>19.267422</td>\n",
       "      <td>1.012642</td>\n",
       "      <td>999.678690</td>\n",
       "      <td>-399.752729</td>\n",
       "      <td>1600.208824</td>\n",
       "      <td>-449.599614</td>\n",
       "      <td>1600.357732</td>\n",
       "      <td>-450.034364</td>\n",
       "      <td>1599.759049</td>\n",
       "      <td>-449.909799</td>\n",
       "      <td>1401.560902</td>\n",
       "      <td>-448.877187</td>\n",
       "      <td>1401.160227</td>\n",
       "      <td>-450.407128</td>\n",
       "      <td>14.079996</td>\n",
       "      <td>4.470737</td>\n",
       "      <td>8.871028</td>\n",
       "      <td>2.330448</td>\n",
       "      <td>26.024787</td>\n",
       "      <td>-500.279091</td>\n",
       "      <td>23.955345</td>\n",
       "      <td>-500.593614</td>\n",
       "      <td>23.985703</td>\n",
       "      <td>-500.083811</td>\n",
       "      <td>23.958945</td>\n",
       "      <td>-499.990309</td>\n",
       "      <td>14.027298</td>\n",
       "      <td>-499.838632</td>\n",
       "      <td>11.953070</td>\n",
       "      <td>-501.053894</td>\n",
       "      <td>9.925709</td>\n",
       "      <td>-501.686727</td>\n",
       "      <td>7.894242</td>\n",
       "      <td>-500.356035</td>\n",
       "      <td>13.996647</td>\n",
       "      <td>-601.496691</td>\n",
       "    </tr>\n",
       "  </tbody>\n",
       "</table>\n",
       "</div>"
      ],
      "text/plain": [
       "                  date  final.output.concentrate_ag  \\\n",
       "0  2016-01-15 00:00:00                     6.055403   \n",
       "1  2016-01-15 01:00:00                     6.029369   \n",
       "2  2016-01-15 02:00:00                     6.055926   \n",
       "3  2016-01-15 03:00:00                     6.047977   \n",
       "4  2016-01-15 04:00:00                     6.148599   \n",
       "\n",
       "   final.output.concentrate_pb  final.output.concentrate_sol  \\\n",
       "0                     9.889648                      5.507324   \n",
       "1                     9.968944                      5.257781   \n",
       "2                    10.213995                      5.383759   \n",
       "3                     9.977019                      4.858634   \n",
       "4                    10.142511                      4.939416   \n",
       "\n",
       "   final.output.concentrate_au  final.output.recovery  final.output.tail_ag  \\\n",
       "0                    42.192020              70.541216             10.411962   \n",
       "1                    42.701629              69.266198             10.462676   \n",
       "2                    42.657501              68.116445             10.507046   \n",
       "3                    42.689819              68.347543             10.422762   \n",
       "4                    42.774141              66.927016             10.360302   \n",
       "\n",
       "   final.output.tail_pb  final.output.tail_sol  final.output.tail_au  \\\n",
       "0              0.895447              16.904297              2.143149   \n",
       "1              0.927452              16.634514              2.224930   \n",
       "2              0.953716              16.208849              2.257889   \n",
       "3              0.883763              16.532835              2.146849   \n",
       "4              0.792826              16.525686              2.055292   \n",
       "\n",
       "   primary_cleaner.input.sulfate  primary_cleaner.input.depressant  \\\n",
       "0                     127.092003                         10.128295   \n",
       "1                     125.629232                         10.296251   \n",
       "2                     123.819808                         11.316280   \n",
       "3                     122.270188                         11.322140   \n",
       "4                     117.988169                         11.913613   \n",
       "\n",
       "   primary_cleaner.input.feed_size  primary_cleaner.input.xanthate  \\\n",
       "0                             7.25                        0.988759   \n",
       "1                             7.25                        1.002663   \n",
       "2                             7.25                        0.991265   \n",
       "3                             7.25                        0.996739   \n",
       "4                             7.25                        1.009869   \n",
       "\n",
       "   primary_cleaner.output.concentrate_ag  \\\n",
       "0                               8.547551   \n",
       "1                               8.558743   \n",
       "2                               8.603505   \n",
       "3                               7.221879   \n",
       "4                               9.089428   \n",
       "\n",
       "   primary_cleaner.output.concentrate_pb  \\\n",
       "0                              10.389648   \n",
       "1                              10.497069   \n",
       "2                              10.354494   \n",
       "3                               8.496563   \n",
       "4                               9.986786   \n",
       "\n",
       "   primary_cleaner.output.concentrate_sol  \\\n",
       "0                               19.529297   \n",
       "1                               19.369147   \n",
       "2                               19.167579   \n",
       "3                               15.978538   \n",
       "4                               19.199864   \n",
       "\n",
       "   primary_cleaner.output.concentrate_au  primary_cleaner.output.tail_ag  \\\n",
       "0                              34.174427                       14.936526   \n",
       "1                              34.118526                       16.250511   \n",
       "2                              33.969464                       16.491823   \n",
       "3                              28.260743                       16.024359   \n",
       "4                              33.044932                       16.480185   \n",
       "\n",
       "   primary_cleaner.output.tail_pb  primary_cleaner.output.tail_sol  \\\n",
       "0                        2.534912                         7.476074   \n",
       "1                        3.049646                         6.733907   \n",
       "2                        3.124664                         6.471768   \n",
       "3                        2.960362                         6.843791   \n",
       "4                        3.112100                         6.550154   \n",
       "\n",
       "   primary_cleaner.output.tail_au  primary_cleaner.state.floatbank8_a_air  \\\n",
       "0                        2.106679                             1549.775757   \n",
       "1                        2.353017                             1576.166671   \n",
       "2                        2.416800                             1601.556163   \n",
       "3                        2.262051                             1599.968720   \n",
       "4                        2.277073                             1601.339707   \n",
       "\n",
       "   primary_cleaner.state.floatbank8_a_level  \\\n",
       "0                               -498.912140   \n",
       "1                               -500.904965   \n",
       "2                               -499.997791   \n",
       "3                               -500.951778   \n",
       "4                               -498.975456   \n",
       "\n",
       "   primary_cleaner.state.floatbank8_b_air  \\\n",
       "0                             1551.434204   \n",
       "1                             1575.950626   \n",
       "2                             1600.386685   \n",
       "3                             1600.659236   \n",
       "4                             1601.437854   \n",
       "\n",
       "   primary_cleaner.state.floatbank8_b_level  \\\n",
       "0                               -516.403442   \n",
       "1                               -499.865889   \n",
       "2                               -500.607762   \n",
       "3                               -499.677094   \n",
       "4                               -500.323246   \n",
       "\n",
       "   primary_cleaner.state.floatbank8_c_air  \\\n",
       "0                             1549.873901   \n",
       "1                             1575.994189   \n",
       "2                             1602.003542   \n",
       "3                             1600.304144   \n",
       "4                             1599.581894   \n",
       "\n",
       "   primary_cleaner.state.floatbank8_c_level  \\\n",
       "0                               -498.666595   \n",
       "1                               -499.315107   \n",
       "2                               -500.870069   \n",
       "3                               -500.727997   \n",
       "4                               -500.888152   \n",
       "\n",
       "   primary_cleaner.state.floatbank8_d_air  \\\n",
       "0                             1554.367432   \n",
       "1                             1574.479259   \n",
       "2                             1599.541515   \n",
       "3                             1600.449520   \n",
       "4                             1602.649541   \n",
       "\n",
       "   primary_cleaner.state.floatbank8_d_level  \\\n",
       "0                               -493.428131   \n",
       "1                               -498.931665   \n",
       "2                               -499.827444   \n",
       "3                               -500.052575   \n",
       "4                               -500.593010   \n",
       "\n",
       "   rougher.calculation.sulfate_to_au_concentrate  \\\n",
       "0                                   41885.707031   \n",
       "1                                   42050.861809   \n",
       "2                                   42018.101184   \n",
       "3                                   42029.447991   \n",
       "4                                   42125.354245   \n",
       "\n",
       "   rougher.calculation.floatbank10_sulfate_to_au_feed  \\\n",
       "0                                        3481.779053    \n",
       "1                                        3498.370979    \n",
       "2                                        3495.348910    \n",
       "3                                        3498.578313    \n",
       "4                                        3494.800771    \n",
       "\n",
       "   rougher.calculation.floatbank11_sulfate_to_au_feed  \\\n",
       "0                                        3520.337158    \n",
       "1                                        3489.981857    \n",
       "2                                        3502.359819    \n",
       "3                                        3499.162912    \n",
       "4                                        3506.679315    \n",
       "\n",
       "   rougher.calculation.au_pb_ratio  rougher.input.feed_ag  \\\n",
       "0                         2.838687               6.100378   \n",
       "1                         2.858998               6.161113   \n",
       "2                         2.945989               6.116455   \n",
       "3                         3.002340               6.043309   \n",
       "4                         3.169615               6.060915   \n",
       "\n",
       "   rougher.input.feed_pb  rougher.input.feed_rate  rougher.input.feed_size  \\\n",
       "0               2.284912               523.546326                55.486599   \n",
       "1               2.266033               525.290581                57.278666   \n",
       "2               2.159622               530.026610                57.510649   \n",
       "3               2.037807               542.590390                57.792734   \n",
       "4               1.786875               540.531893                56.047189   \n",
       "\n",
       "   rougher.input.feed_sol  rougher.input.feed_au  \\\n",
       "0               36.808594               6.486150   \n",
       "1               35.753385               6.478583   \n",
       "2               35.971630               6.362222   \n",
       "3               36.862241               6.118189   \n",
       "4               34.347666               5.663707   \n",
       "\n",
       "   rougher.input.floatbank10_sulfate  rougher.input.floatbank10_xanthate  \\\n",
       "0                          11.986616                            6.007990   \n",
       "1                          11.971193                            6.005766   \n",
       "2                          11.920603                            6.197377   \n",
       "3                          11.630094                            6.203177   \n",
       "4                          10.957755                            6.198826   \n",
       "\n",
       "   rougher.input.floatbank11_sulfate  rougher.input.floatbank11_xanthate  \\\n",
       "0                          11.836743                            6.005818   \n",
       "1                          11.996163                            6.012594   \n",
       "2                          11.920305                            6.204633   \n",
       "3                          11.692450                            6.196578   \n",
       "4                          10.960521                            6.194897   \n",
       "\n",
       "   rougher.output.concentrate_ag  rougher.output.concentrate_pb  \\\n",
       "0                      11.500771                       7.101074   \n",
       "1                      11.615865                       7.278807   \n",
       "2                      11.695753                       7.216833   \n",
       "3                      11.915047                       7.175616   \n",
       "4                      12.411054                       7.240205   \n",
       "\n",
       "   rougher.output.concentrate_sol  rougher.output.concentrate_au  \\\n",
       "0                       28.029297                      19.793808   \n",
       "1                       28.067063                      20.050975   \n",
       "2                       27.454037                      19.737170   \n",
       "3                       27.341277                      19.320810   \n",
       "4                       27.041023                      19.216101   \n",
       "\n",
       "   rougher.output.recovery  rougher.output.tail_ag  rougher.output.tail_pb  \\\n",
       "0                87.107763                5.008018                0.508728   \n",
       "1                86.843261                4.955378                0.536689   \n",
       "2                86.842308                4.843460                0.546416   \n",
       "3                87.226430                4.655288                0.542525   \n",
       "4                86.688794                4.552800                0.515438   \n",
       "\n",
       "   rougher.output.tail_sol  rougher.output.tail_au  \\\n",
       "0                19.154297                1.170244   \n",
       "1                18.965234                1.184827   \n",
       "2                18.808533                1.162562   \n",
       "3                19.330200                1.079755   \n",
       "4                19.267422                1.012642   \n",
       "\n",
       "   rougher.state.floatbank10_a_air  rougher.state.floatbank10_a_level  \\\n",
       "0                       999.706909                        -404.066986   \n",
       "1                      1000.286398                        -400.065196   \n",
       "2                       999.719565                        -400.074028   \n",
       "3                       999.814770                        -400.200179   \n",
       "4                       999.678690                        -399.752729   \n",
       "\n",
       "   rougher.state.floatbank10_b_air  rougher.state.floatbank10_b_level  \\\n",
       "0                      1603.011353                        -434.715027   \n",
       "1                      1600.754587                        -449.953435   \n",
       "2                      1599.337330                        -450.008530   \n",
       "3                      1600.059442                        -450.619948   \n",
       "4                      1600.208824                        -449.599614   \n",
       "\n",
       "   rougher.state.floatbank10_c_air  rougher.state.floatbank10_c_level  \\\n",
       "0                      1602.375000                        -442.204468   \n",
       "1                      1600.479580                        -449.830646   \n",
       "2                      1599.672797                        -449.954491   \n",
       "3                      1600.012842                        -449.910497   \n",
       "4                      1600.357732                        -450.034364   \n",
       "\n",
       "   rougher.state.floatbank10_d_air  rougher.state.floatbank10_d_level  \\\n",
       "0                      1598.937256                        -451.294128   \n",
       "1                      1600.527589                        -449.953649   \n",
       "2                      1599.849325                        -449.954185   \n",
       "3                      1597.725177                        -450.130127   \n",
       "4                      1599.759049                        -449.909799   \n",
       "\n",
       "   rougher.state.floatbank10_e_air  rougher.state.floatbank10_e_level  \\\n",
       "0                      1404.472046                        -455.462982   \n",
       "1                      1399.227084                        -450.869848   \n",
       "2                      1399.180945                        -449.937588   \n",
       "3                      1400.943157                        -450.030142   \n",
       "4                      1401.560902                        -448.877187   \n",
       "\n",
       "   rougher.state.floatbank10_f_air  rougher.state.floatbank10_f_level  \\\n",
       "0                      1416.354980                        -451.939636   \n",
       "1                      1399.719514                        -450.119001   \n",
       "2                      1400.316682                        -450.527147   \n",
       "3                      1400.234743                        -449.790835   \n",
       "4                      1401.160227                        -450.407128   \n",
       "\n",
       "   secondary_cleaner.output.tail_ag  secondary_cleaner.output.tail_pb  \\\n",
       "0                         14.500184                          4.694824   \n",
       "1                         14.265474                          4.592547   \n",
       "2                         14.115662                          4.624775   \n",
       "3                         13.732071                          4.482453   \n",
       "4                         14.079996                          4.470737   \n",
       "\n",
       "   secondary_cleaner.output.tail_sol  secondary_cleaner.output.tail_au  \\\n",
       "0                           8.764648                          2.606185   \n",
       "1                           9.001494                          2.488248   \n",
       "2                           8.842896                          2.458187   \n",
       "3                           9.122857                          2.322062   \n",
       "4                           8.871028                          2.330448   \n",
       "\n",
       "   secondary_cleaner.state.floatbank2_a_air  \\\n",
       "0                                 25.853109   \n",
       "1                                 25.880539   \n",
       "2                                 26.005245   \n",
       "3                                 25.942508   \n",
       "4                                 26.024787   \n",
       "\n",
       "   secondary_cleaner.state.floatbank2_a_level  \\\n",
       "0                                 -498.526489   \n",
       "1                                 -499.989656   \n",
       "2                                 -499.929616   \n",
       "3                                 -499.176749   \n",
       "4                                 -500.279091   \n",
       "\n",
       "   secondary_cleaner.state.floatbank2_b_air  \\\n",
       "0                                 23.893660   \n",
       "1                                 23.889530   \n",
       "2                                 23.886657   \n",
       "3                                 23.955516   \n",
       "4                                 23.955345   \n",
       "\n",
       "   secondary_cleaner.state.floatbank2_b_level  \\\n",
       "0                                 -501.406281   \n",
       "1                                 -500.372428   \n",
       "2                                 -499.951928   \n",
       "3                                 -499.848796   \n",
       "4                                 -500.593614   \n",
       "\n",
       "   secondary_cleaner.state.floatbank3_a_air  \\\n",
       "0                                 23.961798   \n",
       "1                                 23.970550   \n",
       "2                                 23.913535   \n",
       "3                                 23.966838   \n",
       "4                                 23.985703   \n",
       "\n",
       "   secondary_cleaner.state.floatbank3_a_level  \\\n",
       "0                                 -495.262817   \n",
       "1                                 -500.085473   \n",
       "2                                 -499.442343   \n",
       "3                                 -500.008812   \n",
       "4                                 -500.083811   \n",
       "\n",
       "   secondary_cleaner.state.floatbank3_b_air  \\\n",
       "0                                 21.940409   \n",
       "1                                 22.085714   \n",
       "2                                 23.957717   \n",
       "3                                 23.954443   \n",
       "4                                 23.958945   \n",
       "\n",
       "   secondary_cleaner.state.floatbank3_b_level  \\\n",
       "0                                 -499.340973   \n",
       "1                                 -499.446897   \n",
       "2                                 -499.901982   \n",
       "3                                 -499.944710   \n",
       "4                                 -499.990309   \n",
       "\n",
       "   secondary_cleaner.state.floatbank4_a_air  \\\n",
       "0                                 14.016835   \n",
       "1                                 13.992281   \n",
       "2                                 14.015015   \n",
       "3                                 14.036510   \n",
       "4                                 14.027298   \n",
       "\n",
       "   secondary_cleaner.state.floatbank4_a_level  \\\n",
       "0                                 -502.488007   \n",
       "1                                 -505.503262   \n",
       "2                                 -502.520901   \n",
       "3                                 -500.857308   \n",
       "4                                 -499.838632   \n",
       "\n",
       "   secondary_cleaner.state.floatbank4_b_air  \\\n",
       "0                                 12.099931   \n",
       "1                                 11.950531   \n",
       "2                                 11.912783   \n",
       "3                                 11.999550   \n",
       "4                                 11.953070   \n",
       "\n",
       "   secondary_cleaner.state.floatbank4_b_level  \\\n",
       "0                                 -504.715942   \n",
       "1                                 -501.331529   \n",
       "2                                 -501.133383   \n",
       "3                                 -501.193686   \n",
       "4                                 -501.053894   \n",
       "\n",
       "   secondary_cleaner.state.floatbank5_a_air  \\\n",
       "0                                  9.925633   \n",
       "1                                 10.039245   \n",
       "2                                 10.070913   \n",
       "3                                  9.970366   \n",
       "4                                  9.925709   \n",
       "\n",
       "   secondary_cleaner.state.floatbank5_a_level  \\\n",
       "0                                 -498.310211   \n",
       "1                                 -500.169983   \n",
       "2                                 -500.129135   \n",
       "3                                 -499.201640   \n",
       "4                                 -501.686727   \n",
       "\n",
       "   secondary_cleaner.state.floatbank5_b_air  \\\n",
       "0                                  8.079666   \n",
       "1                                  7.984757   \n",
       "2                                  8.013877   \n",
       "3                                  7.977324   \n",
       "4                                  7.894242   \n",
       "\n",
       "   secondary_cleaner.state.floatbank5_b_level  \\\n",
       "0                                 -500.470978   \n",
       "1                                 -500.582168   \n",
       "2                                 -500.517572   \n",
       "3                                 -500.255908   \n",
       "4                                 -500.356035   \n",
       "\n",
       "   secondary_cleaner.state.floatbank6_a_air  \\\n",
       "0                                 14.151341   \n",
       "1                                 13.998353   \n",
       "2                                 14.028663   \n",
       "3                                 14.005551   \n",
       "4                                 13.996647   \n",
       "\n",
       "   secondary_cleaner.state.floatbank6_a_level  \n",
       "0                                 -605.841980  \n",
       "1                                 -599.787184  \n",
       "2                                 -601.427363  \n",
       "3                                 -599.996129  \n",
       "4                                 -601.496691  "
      ]
     },
     "metadata": {},
     "output_type": "display_data"
    }
   ],
   "source": [
    "display(train_frame.head())"
   ]
  },
  {
   "cell_type": "markdown",
   "metadata": {},
   "source": [
    "Проверим, что эффективность обогащения рассчитана правильно. Вычислим её на обучающей выборке для признака rougher.output.recovery. Найдем MAE между нашими расчётами и значением признака. Для этого создадим функцию для подсчета эффективности обогащения, где:  \n",
    "output_au — доля золота в концентрате после флотации/очистки;  \n",
    "input_au — доля золота в сырье/концентрате до флотации/очистки;  \n",
    "output_tail — доля золота в отвальных хвостах после флотации/очистки.  "
   ]
  },
  {
   "cell_type": "code",
   "execution_count": 6,
   "metadata": {},
   "outputs": [],
   "source": [
    "def apply_recovery(row):\n",
    "    (input_au,\n",
    "     output_au,\n",
    "     output_tail) = (row[\"rougher.input.feed_au\"],\n",
    "                     row[\"rougher.output.concentrate_au\"],\n",
    "                     row[\"rougher.output.tail_au\"])\n",
    "    recovery_metric = (((output_au) * ((input_au) - (output_tail)))/\n",
    "                       (((input_au) * ((output_au) - (output_tail))))) * 100\n",
    "    return recovery_metric"
   ]
  },
  {
   "cell_type": "code",
   "execution_count": 7,
   "metadata": {},
   "outputs": [],
   "source": [
    "test = train_frame.dropna(subset = [\"rougher.input.feed_au\",\n",
    "                                    \"rougher.output.concentrate_au\",\n",
    "                                    \"rougher.output.tail_au\",\n",
    "                                    \"rougher.output.recovery\"],axis = 0).apply(\n",
    "                                                                        apply_recovery,axis = 1)"
   ]
  },
  {
   "cell_type": "code",
   "execution_count": 8,
   "metadata": {},
   "outputs": [
    {
     "data": {
      "text/plain": [
       "9.682896147825551e-15"
      ]
     },
     "execution_count": 8,
     "metadata": {},
     "output_type": "execute_result"
    }
   ],
   "source": [
    "MAE(train_frame.dropna(subset = [\"rougher.input.feed_au\",\n",
    "                                    \"rougher.output.concentrate_au\",\n",
    "                                    \"rougher.output.tail_au\",\n",
    "                                    \"rougher.output.recovery\"])[\"rougher.output.recovery\"],\n",
    "                       test)\n"
   ]
  },
  {
   "cell_type": "markdown",
   "metadata": {},
   "source": [
    "Значение метрики МАЕ в порядке e-15. Это говорит о том, что расчитанные данные и данные в таблице по recovery равны и рассчитаны верно. Идем дальше. "
   ]
  },
  {
   "cell_type": "markdown",
   "metadata": {},
   "source": [
    "Проанализируем признаки, недоступные в тестовой выборке. Посмотрим, что это за параметры, и к какому типу относятся. Создадим переменную list_columns, в которую войдут все столбцы, не вошедшие в тестовую выборку. "
   ]
  },
  {
   "cell_type": "code",
   "execution_count": 9,
   "metadata": {},
   "outputs": [
    {
     "data": {
      "text/plain": [
       "{'final.output.concentrate_ag',\n",
       " 'final.output.concentrate_au',\n",
       " 'final.output.concentrate_pb',\n",
       " 'final.output.concentrate_sol',\n",
       " 'final.output.recovery',\n",
       " 'final.output.tail_ag',\n",
       " 'final.output.tail_au',\n",
       " 'final.output.tail_pb',\n",
       " 'final.output.tail_sol',\n",
       " 'primary_cleaner.output.concentrate_ag',\n",
       " 'primary_cleaner.output.concentrate_au',\n",
       " 'primary_cleaner.output.concentrate_pb',\n",
       " 'primary_cleaner.output.concentrate_sol',\n",
       " 'primary_cleaner.output.tail_ag',\n",
       " 'primary_cleaner.output.tail_au',\n",
       " 'primary_cleaner.output.tail_pb',\n",
       " 'primary_cleaner.output.tail_sol',\n",
       " 'rougher.calculation.au_pb_ratio',\n",
       " 'rougher.calculation.floatbank10_sulfate_to_au_feed',\n",
       " 'rougher.calculation.floatbank11_sulfate_to_au_feed',\n",
       " 'rougher.calculation.sulfate_to_au_concentrate',\n",
       " 'rougher.output.concentrate_ag',\n",
       " 'rougher.output.concentrate_au',\n",
       " 'rougher.output.concentrate_pb',\n",
       " 'rougher.output.concentrate_sol',\n",
       " 'rougher.output.recovery',\n",
       " 'rougher.output.tail_ag',\n",
       " 'rougher.output.tail_au',\n",
       " 'rougher.output.tail_pb',\n",
       " 'rougher.output.tail_sol',\n",
       " 'secondary_cleaner.output.tail_ag',\n",
       " 'secondary_cleaner.output.tail_au',\n",
       " 'secondary_cleaner.output.tail_pb',\n",
       " 'secondary_cleaner.output.tail_sol'}"
      ]
     },
     "execution_count": 9,
     "metadata": {},
     "output_type": "execute_result"
    }
   ],
   "source": [
    "list_columns = set(full_frame.columns) - set(test_frame.columns)\n",
    "list_columns"
   ]
  },
  {
   "cell_type": "code",
   "execution_count": 10,
   "metadata": {},
   "outputs": [],
   "source": [
    "step = collections.Counter()\n",
    "type_step = collections.Counter()\n",
    "data = collections.Counter()\n",
    "for i in list_columns:\n",
    "    words = list(map(str,i.split(\".\")))\n",
    "    step[words[0]] += 1\n",
    "    type_step[words[1]] += 1\n",
    "    data[words[2]] += 1"
   ]
  },
  {
   "cell_type": "code",
   "execution_count": 11,
   "metadata": {},
   "outputs": [
    {
     "data": {
      "text/plain": [
       "(Counter({'final': 9,\n",
       "          'rougher': 13,\n",
       "          'primary_cleaner': 8,\n",
       "          'secondary_cleaner': 4}),\n",
       " '\\n',\n",
       " Counter({'output': 30, 'calculation': 4}),\n",
       " '\\n',\n",
       " Counter({'concentrate_sol': 3,\n",
       "          'tail_ag': 4,\n",
       "          'tail_pb': 4,\n",
       "          'concentrate_pb': 3,\n",
       "          'concentrate_au': 3,\n",
       "          'recovery': 2,\n",
       "          'concentrate_ag': 3,\n",
       "          'tail_au': 4,\n",
       "          'tail_sol': 4,\n",
       "          'sulfate_to_au_concentrate': 1,\n",
       "          'floatbank10_sulfate_to_au_feed': 1,\n",
       "          'au_pb_ratio': 1,\n",
       "          'floatbank11_sulfate_to_au_feed': 1}))"
      ]
     },
     "execution_count": 11,
     "metadata": {},
     "output_type": "execute_result"
    }
   ],
   "source": [
    "step,\"\\n\",type_step,\"\\n\",data"
   ]
  },
  {
   "cell_type": "markdown",
   "metadata": {},
   "source": [
    "Получилось, что данные разделились на две категории:\n",
    "\n",
    "Расчетные, которые получаются из других данных(например rougher.calculation и final.output.recovery)  \n",
    "Измеряемые, которые являются изначальными параметрами продукта (например final.output.concentrate_au и rougher.output.tail_sol).\n",
    "\n",
    "Видим, что на всех этапах отсутствует информация о хвостовых частях."
   ]
  },
  {
   "cell_type": "markdown",
   "metadata": {},
   "source": [
    "Теперь проверим возможность восстановления параметра recovery."
   ]
  },
  {
   "cell_type": "code",
   "execution_count": 12,
   "metadata": {},
   "outputs": [],
   "source": [
    "train_frame = train_frame.dropna(subset=[\"rougher.output.recovery\",\"final.output.recovery\"],axis = 0)"
   ]
  },
  {
   "cell_type": "markdown",
   "metadata": {},
   "source": [
    "Наконец, проведем предобработку данных.Обработаем пропуски.  \n",
    "Воспользуемся KNNImputer из sklearn.impute, заполняющий пропуски средним от указанных соседних значений в обучающей выборке:"
   ]
  },
  {
   "cell_type": "code",
   "execution_count": 13,
   "metadata": {},
   "outputs": [],
   "source": [
    "imputer = KNNImputer()\n",
    "without_nan = pd.DataFrame(data = imputer.fit_transform(train_frame.drop(['date'],axis = 1)),\n",
    "             columns= train_frame.drop(['date'],axis = 1).columns,\n",
    "             index = train_frame.index)"
   ]
  },
  {
   "cell_type": "markdown",
   "metadata": {},
   "source": [
    "Так как в тестовой выборке отсутствует некоторое количесвто столбцов, в том числе rougher.output.recovery и final.output.recovery, которые понадобятся для обучения модели, то объединим тестовую выборку с исходными данными по дате."
   ]
  },
  {
   "cell_type": "code",
   "execution_count": 14,
   "metadata": {},
   "outputs": [],
   "source": [
    "test_frame = test_frame.dropna(subset= ['date'],axis = 0)"
   ]
  },
  {
   "cell_type": "code",
   "execution_count": 15,
   "metadata": {},
   "outputs": [
    {
     "data": {
      "text/html": [
       "<div>\n",
       "<style scoped>\n",
       "    .dataframe tbody tr th:only-of-type {\n",
       "        vertical-align: middle;\n",
       "    }\n",
       "\n",
       "    .dataframe tbody tr th {\n",
       "        vertical-align: top;\n",
       "    }\n",
       "\n",
       "    .dataframe thead th {\n",
       "        text-align: right;\n",
       "    }\n",
       "</style>\n",
       "<table border=\"1\" class=\"dataframe\">\n",
       "  <thead>\n",
       "    <tr style=\"text-align: right;\">\n",
       "      <th></th>\n",
       "      <th>date</th>\n",
       "      <th>primary_cleaner.input.sulfate</th>\n",
       "      <th>primary_cleaner.input.depressant</th>\n",
       "      <th>primary_cleaner.input.feed_size</th>\n",
       "      <th>primary_cleaner.input.xanthate</th>\n",
       "      <th>primary_cleaner.state.floatbank8_a_air</th>\n",
       "      <th>primary_cleaner.state.floatbank8_a_level</th>\n",
       "      <th>primary_cleaner.state.floatbank8_b_air</th>\n",
       "      <th>primary_cleaner.state.floatbank8_b_level</th>\n",
       "      <th>primary_cleaner.state.floatbank8_c_air</th>\n",
       "      <th>primary_cleaner.state.floatbank8_c_level</th>\n",
       "      <th>primary_cleaner.state.floatbank8_d_air</th>\n",
       "      <th>primary_cleaner.state.floatbank8_d_level</th>\n",
       "      <th>rougher.input.feed_ag</th>\n",
       "      <th>rougher.input.feed_pb</th>\n",
       "      <th>rougher.input.feed_rate</th>\n",
       "      <th>rougher.input.feed_size</th>\n",
       "      <th>rougher.input.feed_sol</th>\n",
       "      <th>rougher.input.feed_au</th>\n",
       "      <th>rougher.input.floatbank10_sulfate</th>\n",
       "      <th>rougher.input.floatbank10_xanthate</th>\n",
       "      <th>rougher.input.floatbank11_sulfate</th>\n",
       "      <th>rougher.input.floatbank11_xanthate</th>\n",
       "      <th>rougher.state.floatbank10_a_air</th>\n",
       "      <th>rougher.state.floatbank10_a_level</th>\n",
       "      <th>rougher.state.floatbank10_b_air</th>\n",
       "      <th>rougher.state.floatbank10_b_level</th>\n",
       "      <th>rougher.state.floatbank10_c_air</th>\n",
       "      <th>rougher.state.floatbank10_c_level</th>\n",
       "      <th>rougher.state.floatbank10_d_air</th>\n",
       "      <th>rougher.state.floatbank10_d_level</th>\n",
       "      <th>rougher.state.floatbank10_e_air</th>\n",
       "      <th>rougher.state.floatbank10_e_level</th>\n",
       "      <th>rougher.state.floatbank10_f_air</th>\n",
       "      <th>rougher.state.floatbank10_f_level</th>\n",
       "      <th>secondary_cleaner.state.floatbank2_a_air</th>\n",
       "      <th>secondary_cleaner.state.floatbank2_a_level</th>\n",
       "      <th>secondary_cleaner.state.floatbank2_b_air</th>\n",
       "      <th>secondary_cleaner.state.floatbank2_b_level</th>\n",
       "      <th>secondary_cleaner.state.floatbank3_a_air</th>\n",
       "      <th>secondary_cleaner.state.floatbank3_a_level</th>\n",
       "      <th>secondary_cleaner.state.floatbank3_b_air</th>\n",
       "      <th>secondary_cleaner.state.floatbank3_b_level</th>\n",
       "      <th>secondary_cleaner.state.floatbank4_a_air</th>\n",
       "      <th>secondary_cleaner.state.floatbank4_a_level</th>\n",
       "      <th>secondary_cleaner.state.floatbank4_b_air</th>\n",
       "      <th>secondary_cleaner.state.floatbank4_b_level</th>\n",
       "      <th>secondary_cleaner.state.floatbank5_a_air</th>\n",
       "      <th>secondary_cleaner.state.floatbank5_a_level</th>\n",
       "      <th>secondary_cleaner.state.floatbank5_b_air</th>\n",
       "      <th>secondary_cleaner.state.floatbank5_b_level</th>\n",
       "      <th>secondary_cleaner.state.floatbank6_a_air</th>\n",
       "      <th>secondary_cleaner.state.floatbank6_a_level</th>\n",
       "      <th>rougher.output.recovery</th>\n",
       "      <th>final.output.recovery</th>\n",
       "    </tr>\n",
       "  </thead>\n",
       "  <tbody>\n",
       "    <tr>\n",
       "      <td>0</td>\n",
       "      <td>2016-09-01 00:59:59</td>\n",
       "      <td>210.800909</td>\n",
       "      <td>14.993118</td>\n",
       "      <td>8.080000</td>\n",
       "      <td>1.005021</td>\n",
       "      <td>1398.981301</td>\n",
       "      <td>-500.225577</td>\n",
       "      <td>1399.144926</td>\n",
       "      <td>-499.919735</td>\n",
       "      <td>1400.102998</td>\n",
       "      <td>-500.704369</td>\n",
       "      <td>1399.001695</td>\n",
       "      <td>-499.485144</td>\n",
       "      <td>13.128569</td>\n",
       "      <td>5.636710</td>\n",
       "      <td>489.793655</td>\n",
       "      <td>62.710452</td>\n",
       "      <td>42.022440</td>\n",
       "      <td>12.084103</td>\n",
       "      <td>16.922877</td>\n",
       "      <td>6.153479</td>\n",
       "      <td>16.867518</td>\n",
       "      <td>6.150709</td>\n",
       "      <td>1001.849317</td>\n",
       "      <td>-350.301265</td>\n",
       "      <td>1249.738612</td>\n",
       "      <td>-399.107531</td>\n",
       "      <td>1249.750520</td>\n",
       "      <td>-399.396730</td>\n",
       "      <td>1198.287855</td>\n",
       "      <td>-399.488594</td>\n",
       "      <td>999.472250</td>\n",
       "      <td>-399.530962</td>\n",
       "      <td>949.566189</td>\n",
       "      <td>-398.180807</td>\n",
       "      <td>24.938200</td>\n",
       "      <td>-500.490963</td>\n",
       "      <td>14.947607</td>\n",
       "      <td>-500.013837</td>\n",
       "      <td>20.018166</td>\n",
       "      <td>-450.395995</td>\n",
       "      <td>13.987058</td>\n",
       "      <td>-449.831513</td>\n",
       "      <td>12.023554</td>\n",
       "      <td>-497.795834</td>\n",
       "      <td>8.016656</td>\n",
       "      <td>-501.289139</td>\n",
       "      <td>7.946562</td>\n",
       "      <td>-432.317850</td>\n",
       "      <td>4.872511</td>\n",
       "      <td>-500.037437</td>\n",
       "      <td>26.705889</td>\n",
       "      <td>-499.709414</td>\n",
       "      <td>89.993421</td>\n",
       "      <td>70.273583</td>\n",
       "    </tr>\n",
       "    <tr>\n",
       "      <td>1</td>\n",
       "      <td>2016-09-01 01:59:59</td>\n",
       "      <td>215.392455</td>\n",
       "      <td>14.987471</td>\n",
       "      <td>8.080000</td>\n",
       "      <td>0.990469</td>\n",
       "      <td>1398.777912</td>\n",
       "      <td>-500.057435</td>\n",
       "      <td>1398.055362</td>\n",
       "      <td>-499.778182</td>\n",
       "      <td>1396.151033</td>\n",
       "      <td>-499.240168</td>\n",
       "      <td>1399.508091</td>\n",
       "      <td>-500.416324</td>\n",
       "      <td>13.036280</td>\n",
       "      <td>5.526065</td>\n",
       "      <td>490.104534</td>\n",
       "      <td>61.961163</td>\n",
       "      <td>41.187903</td>\n",
       "      <td>11.918977</td>\n",
       "      <td>17.002532</td>\n",
       "      <td>5.999043</td>\n",
       "      <td>16.996063</td>\n",
       "      <td>6.002315</td>\n",
       "      <td>998.690785</td>\n",
       "      <td>-350.425704</td>\n",
       "      <td>1248.395457</td>\n",
       "      <td>-399.946025</td>\n",
       "      <td>1249.514451</td>\n",
       "      <td>-399.630810</td>\n",
       "      <td>1200.506459</td>\n",
       "      <td>-399.942434</td>\n",
       "      <td>1000.002114</td>\n",
       "      <td>-399.491528</td>\n",
       "      <td>950.200009</td>\n",
       "      <td>-405.787514</td>\n",
       "      <td>24.923466</td>\n",
       "      <td>-499.813963</td>\n",
       "      <td>14.930873</td>\n",
       "      <td>-500.764452</td>\n",
       "      <td>19.988503</td>\n",
       "      <td>-450.114024</td>\n",
       "      <td>14.092981</td>\n",
       "      <td>-450.059163</td>\n",
       "      <td>12.058140</td>\n",
       "      <td>-498.695773</td>\n",
       "      <td>8.130979</td>\n",
       "      <td>-499.634209</td>\n",
       "      <td>7.958270</td>\n",
       "      <td>-525.839648</td>\n",
       "      <td>4.878850</td>\n",
       "      <td>-500.162375</td>\n",
       "      <td>25.019940</td>\n",
       "      <td>-499.819438</td>\n",
       "      <td>88.089657</td>\n",
       "      <td>68.910432</td>\n",
       "    </tr>\n",
       "    <tr>\n",
       "      <td>2</td>\n",
       "      <td>2016-09-01 02:59:59</td>\n",
       "      <td>215.259946</td>\n",
       "      <td>12.884934</td>\n",
       "      <td>7.786667</td>\n",
       "      <td>0.996043</td>\n",
       "      <td>1398.493666</td>\n",
       "      <td>-500.868360</td>\n",
       "      <td>1398.860436</td>\n",
       "      <td>-499.764529</td>\n",
       "      <td>1398.075709</td>\n",
       "      <td>-502.151509</td>\n",
       "      <td>1399.497088</td>\n",
       "      <td>-499.715479</td>\n",
       "      <td>13.138412</td>\n",
       "      <td>5.426561</td>\n",
       "      <td>489.617969</td>\n",
       "      <td>66.903807</td>\n",
       "      <td>42.546294</td>\n",
       "      <td>12.091332</td>\n",
       "      <td>16.992520</td>\n",
       "      <td>5.850632</td>\n",
       "      <td>16.982096</td>\n",
       "      <td>5.853594</td>\n",
       "      <td>998.516720</td>\n",
       "      <td>-349.783538</td>\n",
       "      <td>1247.440748</td>\n",
       "      <td>-400.264330</td>\n",
       "      <td>1248.207204</td>\n",
       "      <td>-401.074405</td>\n",
       "      <td>1199.770026</td>\n",
       "      <td>-400.790582</td>\n",
       "      <td>999.925519</td>\n",
       "      <td>-399.236999</td>\n",
       "      <td>950.320481</td>\n",
       "      <td>-400.864340</td>\n",
       "      <td>24.908732</td>\n",
       "      <td>-500.304035</td>\n",
       "      <td>14.996511</td>\n",
       "      <td>-500.993821</td>\n",
       "      <td>20.039689</td>\n",
       "      <td>-450.263164</td>\n",
       "      <td>14.077881</td>\n",
       "      <td>-449.660997</td>\n",
       "      <td>11.962366</td>\n",
       "      <td>-498.767484</td>\n",
       "      <td>8.096893</td>\n",
       "      <td>-500.827423</td>\n",
       "      <td>8.071056</td>\n",
       "      <td>-500.801673</td>\n",
       "      <td>4.905125</td>\n",
       "      <td>-499.828510</td>\n",
       "      <td>24.994862</td>\n",
       "      <td>-500.622559</td>\n",
       "      <td>88.412756</td>\n",
       "      <td>68.143213</td>\n",
       "    </tr>\n",
       "    <tr>\n",
       "      <td>3</td>\n",
       "      <td>2016-09-01 03:59:59</td>\n",
       "      <td>215.336236</td>\n",
       "      <td>12.006805</td>\n",
       "      <td>7.640000</td>\n",
       "      <td>0.863514</td>\n",
       "      <td>1399.618111</td>\n",
       "      <td>-498.863574</td>\n",
       "      <td>1397.440120</td>\n",
       "      <td>-499.211024</td>\n",
       "      <td>1400.129303</td>\n",
       "      <td>-498.355873</td>\n",
       "      <td>1401.065165</td>\n",
       "      <td>-501.038738</td>\n",
       "      <td>12.400507</td>\n",
       "      <td>5.114758</td>\n",
       "      <td>476.618130</td>\n",
       "      <td>59.865919</td>\n",
       "      <td>41.060195</td>\n",
       "      <td>12.181597</td>\n",
       "      <td>16.532144</td>\n",
       "      <td>5.801935</td>\n",
       "      <td>16.515277</td>\n",
       "      <td>5.803657</td>\n",
       "      <td>1000.276604</td>\n",
       "      <td>-350.172597</td>\n",
       "      <td>1251.322675</td>\n",
       "      <td>-398.655289</td>\n",
       "      <td>1250.493702</td>\n",
       "      <td>-399.746728</td>\n",
       "      <td>1199.398691</td>\n",
       "      <td>-397.503052</td>\n",
       "      <td>1001.930679</td>\n",
       "      <td>-400.437573</td>\n",
       "      <td>950.735324</td>\n",
       "      <td>-399.802986</td>\n",
       "      <td>24.893998</td>\n",
       "      <td>-499.382374</td>\n",
       "      <td>14.916674</td>\n",
       "      <td>-499.862299</td>\n",
       "      <td>20.031100</td>\n",
       "      <td>-449.372570</td>\n",
       "      <td>14.013968</td>\n",
       "      <td>-449.526900</td>\n",
       "      <td>12.033091</td>\n",
       "      <td>-498.350935</td>\n",
       "      <td>8.074946</td>\n",
       "      <td>-499.474407</td>\n",
       "      <td>7.897085</td>\n",
       "      <td>-500.868509</td>\n",
       "      <td>4.931400</td>\n",
       "      <td>-499.963623</td>\n",
       "      <td>24.948919</td>\n",
       "      <td>-498.709987</td>\n",
       "      <td>87.360133</td>\n",
       "      <td>67.776393</td>\n",
       "    </tr>\n",
       "    <tr>\n",
       "      <td>4</td>\n",
       "      <td>2016-09-01 04:59:59</td>\n",
       "      <td>199.099327</td>\n",
       "      <td>10.682530</td>\n",
       "      <td>7.530000</td>\n",
       "      <td>0.805575</td>\n",
       "      <td>1401.268123</td>\n",
       "      <td>-500.808305</td>\n",
       "      <td>1398.128818</td>\n",
       "      <td>-499.504543</td>\n",
       "      <td>1402.172226</td>\n",
       "      <td>-500.810606</td>\n",
       "      <td>1399.480508</td>\n",
       "      <td>-499.374053</td>\n",
       "      <td>11.327427</td>\n",
       "      <td>4.767383</td>\n",
       "      <td>488.248117</td>\n",
       "      <td>63.315324</td>\n",
       "      <td>41.269161</td>\n",
       "      <td>11.290425</td>\n",
       "      <td>13.607257</td>\n",
       "      <td>5.738081</td>\n",
       "      <td>13.650053</td>\n",
       "      <td>5.739634</td>\n",
       "      <td>996.541302</td>\n",
       "      <td>-350.562517</td>\n",
       "      <td>1304.658848</td>\n",
       "      <td>-399.511519</td>\n",
       "      <td>1306.455515</td>\n",
       "      <td>-399.050685</td>\n",
       "      <td>1248.699349</td>\n",
       "      <td>-400.876894</td>\n",
       "      <td>1058.839106</td>\n",
       "      <td>-398.988239</td>\n",
       "      <td>949.645313</td>\n",
       "      <td>-399.277632</td>\n",
       "      <td>24.886905</td>\n",
       "      <td>-499.357375</td>\n",
       "      <td>14.979233</td>\n",
       "      <td>-500.186804</td>\n",
       "      <td>19.962364</td>\n",
       "      <td>-450.638828</td>\n",
       "      <td>14.009245</td>\n",
       "      <td>-450.022259</td>\n",
       "      <td>12.025367</td>\n",
       "      <td>-500.786497</td>\n",
       "      <td>8.054678</td>\n",
       "      <td>-500.397500</td>\n",
       "      <td>8.107890</td>\n",
       "      <td>-509.526725</td>\n",
       "      <td>4.957674</td>\n",
       "      <td>-500.360026</td>\n",
       "      <td>25.003331</td>\n",
       "      <td>-500.856333</td>\n",
       "      <td>83.236367</td>\n",
       "      <td>61.467078</td>\n",
       "    </tr>\n",
       "  </tbody>\n",
       "</table>\n",
       "</div>"
      ],
      "text/plain": [
       "                  date  primary_cleaner.input.sulfate  \\\n",
       "0  2016-09-01 00:59:59                     210.800909   \n",
       "1  2016-09-01 01:59:59                     215.392455   \n",
       "2  2016-09-01 02:59:59                     215.259946   \n",
       "3  2016-09-01 03:59:59                     215.336236   \n",
       "4  2016-09-01 04:59:59                     199.099327   \n",
       "\n",
       "   primary_cleaner.input.depressant  primary_cleaner.input.feed_size  \\\n",
       "0                         14.993118                         8.080000   \n",
       "1                         14.987471                         8.080000   \n",
       "2                         12.884934                         7.786667   \n",
       "3                         12.006805                         7.640000   \n",
       "4                         10.682530                         7.530000   \n",
       "\n",
       "   primary_cleaner.input.xanthate  primary_cleaner.state.floatbank8_a_air  \\\n",
       "0                        1.005021                             1398.981301   \n",
       "1                        0.990469                             1398.777912   \n",
       "2                        0.996043                             1398.493666   \n",
       "3                        0.863514                             1399.618111   \n",
       "4                        0.805575                             1401.268123   \n",
       "\n",
       "   primary_cleaner.state.floatbank8_a_level  \\\n",
       "0                               -500.225577   \n",
       "1                               -500.057435   \n",
       "2                               -500.868360   \n",
       "3                               -498.863574   \n",
       "4                               -500.808305   \n",
       "\n",
       "   primary_cleaner.state.floatbank8_b_air  \\\n",
       "0                             1399.144926   \n",
       "1                             1398.055362   \n",
       "2                             1398.860436   \n",
       "3                             1397.440120   \n",
       "4                             1398.128818   \n",
       "\n",
       "   primary_cleaner.state.floatbank8_b_level  \\\n",
       "0                               -499.919735   \n",
       "1                               -499.778182   \n",
       "2                               -499.764529   \n",
       "3                               -499.211024   \n",
       "4                               -499.504543   \n",
       "\n",
       "   primary_cleaner.state.floatbank8_c_air  \\\n",
       "0                             1400.102998   \n",
       "1                             1396.151033   \n",
       "2                             1398.075709   \n",
       "3                             1400.129303   \n",
       "4                             1402.172226   \n",
       "\n",
       "   primary_cleaner.state.floatbank8_c_level  \\\n",
       "0                               -500.704369   \n",
       "1                               -499.240168   \n",
       "2                               -502.151509   \n",
       "3                               -498.355873   \n",
       "4                               -500.810606   \n",
       "\n",
       "   primary_cleaner.state.floatbank8_d_air  \\\n",
       "0                             1399.001695   \n",
       "1                             1399.508091   \n",
       "2                             1399.497088   \n",
       "3                             1401.065165   \n",
       "4                             1399.480508   \n",
       "\n",
       "   primary_cleaner.state.floatbank8_d_level  rougher.input.feed_ag  \\\n",
       "0                               -499.485144              13.128569   \n",
       "1                               -500.416324              13.036280   \n",
       "2                               -499.715479              13.138412   \n",
       "3                               -501.038738              12.400507   \n",
       "4                               -499.374053              11.327427   \n",
       "\n",
       "   rougher.input.feed_pb  rougher.input.feed_rate  rougher.input.feed_size  \\\n",
       "0               5.636710               489.793655                62.710452   \n",
       "1               5.526065               490.104534                61.961163   \n",
       "2               5.426561               489.617969                66.903807   \n",
       "3               5.114758               476.618130                59.865919   \n",
       "4               4.767383               488.248117                63.315324   \n",
       "\n",
       "   rougher.input.feed_sol  rougher.input.feed_au  \\\n",
       "0               42.022440              12.084103   \n",
       "1               41.187903              11.918977   \n",
       "2               42.546294              12.091332   \n",
       "3               41.060195              12.181597   \n",
       "4               41.269161              11.290425   \n",
       "\n",
       "   rougher.input.floatbank10_sulfate  rougher.input.floatbank10_xanthate  \\\n",
       "0                          16.922877                            6.153479   \n",
       "1                          17.002532                            5.999043   \n",
       "2                          16.992520                            5.850632   \n",
       "3                          16.532144                            5.801935   \n",
       "4                          13.607257                            5.738081   \n",
       "\n",
       "   rougher.input.floatbank11_sulfate  rougher.input.floatbank11_xanthate  \\\n",
       "0                          16.867518                            6.150709   \n",
       "1                          16.996063                            6.002315   \n",
       "2                          16.982096                            5.853594   \n",
       "3                          16.515277                            5.803657   \n",
       "4                          13.650053                            5.739634   \n",
       "\n",
       "   rougher.state.floatbank10_a_air  rougher.state.floatbank10_a_level  \\\n",
       "0                      1001.849317                        -350.301265   \n",
       "1                       998.690785                        -350.425704   \n",
       "2                       998.516720                        -349.783538   \n",
       "3                      1000.276604                        -350.172597   \n",
       "4                       996.541302                        -350.562517   \n",
       "\n",
       "   rougher.state.floatbank10_b_air  rougher.state.floatbank10_b_level  \\\n",
       "0                      1249.738612                        -399.107531   \n",
       "1                      1248.395457                        -399.946025   \n",
       "2                      1247.440748                        -400.264330   \n",
       "3                      1251.322675                        -398.655289   \n",
       "4                      1304.658848                        -399.511519   \n",
       "\n",
       "   rougher.state.floatbank10_c_air  rougher.state.floatbank10_c_level  \\\n",
       "0                      1249.750520                        -399.396730   \n",
       "1                      1249.514451                        -399.630810   \n",
       "2                      1248.207204                        -401.074405   \n",
       "3                      1250.493702                        -399.746728   \n",
       "4                      1306.455515                        -399.050685   \n",
       "\n",
       "   rougher.state.floatbank10_d_air  rougher.state.floatbank10_d_level  \\\n",
       "0                      1198.287855                        -399.488594   \n",
       "1                      1200.506459                        -399.942434   \n",
       "2                      1199.770026                        -400.790582   \n",
       "3                      1199.398691                        -397.503052   \n",
       "4                      1248.699349                        -400.876894   \n",
       "\n",
       "   rougher.state.floatbank10_e_air  rougher.state.floatbank10_e_level  \\\n",
       "0                       999.472250                        -399.530962   \n",
       "1                      1000.002114                        -399.491528   \n",
       "2                       999.925519                        -399.236999   \n",
       "3                      1001.930679                        -400.437573   \n",
       "4                      1058.839106                        -398.988239   \n",
       "\n",
       "   rougher.state.floatbank10_f_air  rougher.state.floatbank10_f_level  \\\n",
       "0                       949.566189                        -398.180807   \n",
       "1                       950.200009                        -405.787514   \n",
       "2                       950.320481                        -400.864340   \n",
       "3                       950.735324                        -399.802986   \n",
       "4                       949.645313                        -399.277632   \n",
       "\n",
       "   secondary_cleaner.state.floatbank2_a_air  \\\n",
       "0                                 24.938200   \n",
       "1                                 24.923466   \n",
       "2                                 24.908732   \n",
       "3                                 24.893998   \n",
       "4                                 24.886905   \n",
       "\n",
       "   secondary_cleaner.state.floatbank2_a_level  \\\n",
       "0                                 -500.490963   \n",
       "1                                 -499.813963   \n",
       "2                                 -500.304035   \n",
       "3                                 -499.382374   \n",
       "4                                 -499.357375   \n",
       "\n",
       "   secondary_cleaner.state.floatbank2_b_air  \\\n",
       "0                                 14.947607   \n",
       "1                                 14.930873   \n",
       "2                                 14.996511   \n",
       "3                                 14.916674   \n",
       "4                                 14.979233   \n",
       "\n",
       "   secondary_cleaner.state.floatbank2_b_level  \\\n",
       "0                                 -500.013837   \n",
       "1                                 -500.764452   \n",
       "2                                 -500.993821   \n",
       "3                                 -499.862299   \n",
       "4                                 -500.186804   \n",
       "\n",
       "   secondary_cleaner.state.floatbank3_a_air  \\\n",
       "0                                 20.018166   \n",
       "1                                 19.988503   \n",
       "2                                 20.039689   \n",
       "3                                 20.031100   \n",
       "4                                 19.962364   \n",
       "\n",
       "   secondary_cleaner.state.floatbank3_a_level  \\\n",
       "0                                 -450.395995   \n",
       "1                                 -450.114024   \n",
       "2                                 -450.263164   \n",
       "3                                 -449.372570   \n",
       "4                                 -450.638828   \n",
       "\n",
       "   secondary_cleaner.state.floatbank3_b_air  \\\n",
       "0                                 13.987058   \n",
       "1                                 14.092981   \n",
       "2                                 14.077881   \n",
       "3                                 14.013968   \n",
       "4                                 14.009245   \n",
       "\n",
       "   secondary_cleaner.state.floatbank3_b_level  \\\n",
       "0                                 -449.831513   \n",
       "1                                 -450.059163   \n",
       "2                                 -449.660997   \n",
       "3                                 -449.526900   \n",
       "4                                 -450.022259   \n",
       "\n",
       "   secondary_cleaner.state.floatbank4_a_air  \\\n",
       "0                                 12.023554   \n",
       "1                                 12.058140   \n",
       "2                                 11.962366   \n",
       "3                                 12.033091   \n",
       "4                                 12.025367   \n",
       "\n",
       "   secondary_cleaner.state.floatbank4_a_level  \\\n",
       "0                                 -497.795834   \n",
       "1                                 -498.695773   \n",
       "2                                 -498.767484   \n",
       "3                                 -498.350935   \n",
       "4                                 -500.786497   \n",
       "\n",
       "   secondary_cleaner.state.floatbank4_b_air  \\\n",
       "0                                  8.016656   \n",
       "1                                  8.130979   \n",
       "2                                  8.096893   \n",
       "3                                  8.074946   \n",
       "4                                  8.054678   \n",
       "\n",
       "   secondary_cleaner.state.floatbank4_b_level  \\\n",
       "0                                 -501.289139   \n",
       "1                                 -499.634209   \n",
       "2                                 -500.827423   \n",
       "3                                 -499.474407   \n",
       "4                                 -500.397500   \n",
       "\n",
       "   secondary_cleaner.state.floatbank5_a_air  \\\n",
       "0                                  7.946562   \n",
       "1                                  7.958270   \n",
       "2                                  8.071056   \n",
       "3                                  7.897085   \n",
       "4                                  8.107890   \n",
       "\n",
       "   secondary_cleaner.state.floatbank5_a_level  \\\n",
       "0                                 -432.317850   \n",
       "1                                 -525.839648   \n",
       "2                                 -500.801673   \n",
       "3                                 -500.868509   \n",
       "4                                 -509.526725   \n",
       "\n",
       "   secondary_cleaner.state.floatbank5_b_air  \\\n",
       "0                                  4.872511   \n",
       "1                                  4.878850   \n",
       "2                                  4.905125   \n",
       "3                                  4.931400   \n",
       "4                                  4.957674   \n",
       "\n",
       "   secondary_cleaner.state.floatbank5_b_level  \\\n",
       "0                                 -500.037437   \n",
       "1                                 -500.162375   \n",
       "2                                 -499.828510   \n",
       "3                                 -499.963623   \n",
       "4                                 -500.360026   \n",
       "\n",
       "   secondary_cleaner.state.floatbank6_a_air  \\\n",
       "0                                 26.705889   \n",
       "1                                 25.019940   \n",
       "2                                 24.994862   \n",
       "3                                 24.948919   \n",
       "4                                 25.003331   \n",
       "\n",
       "   secondary_cleaner.state.floatbank6_a_level  rougher.output.recovery  \\\n",
       "0                                 -499.709414                89.993421   \n",
       "1                                 -499.819438                88.089657   \n",
       "2                                 -500.622559                88.412756   \n",
       "3                                 -498.709987                87.360133   \n",
       "4                                 -500.856333                83.236367   \n",
       "\n",
       "   final.output.recovery  \n",
       "0              70.273583  \n",
       "1              68.910432  \n",
       "2              68.143213  \n",
       "3              67.776393  \n",
       "4              61.467078  "
      ]
     },
     "execution_count": 15,
     "metadata": {},
     "output_type": "execute_result"
    }
   ],
   "source": [
    "test_frame_for_target = test_frame.merge(full_frame.loc[:,['date',\"rougher.output.recovery\",\"final.output.recovery\"]],\n",
    "                                         on = 'date')\n",
    "test_frame_for_target.head()"
   ]
  },
  {
   "cell_type": "markdown",
   "metadata": {},
   "source": [
    "Дропнем пропущенные значения в нужных столбцах и затем выделим наши два целевых признака по тестовой выборке. \n",
    "И наконец, воспользуемся снова KNNImputer из sklearn.impute, заполняющий пропуски средним от указанных соседних значений, но уже в втестовой выборке."
   ]
  },
  {
   "cell_type": "code",
   "execution_count": 16,
   "metadata": {},
   "outputs": [],
   "source": [
    "test_frame_for_target = test_frame_for_target.dropna(subset=[\"rougher.output.recovery\",\"final.output.recovery\"],\n",
    "                                                     axis = 0)"
   ]
  },
  {
   "cell_type": "code",
   "execution_count": 17,
   "metadata": {},
   "outputs": [],
   "source": [
    "test_frame = test_frame_for_target.loc[:,test_frame.columns]"
   ]
  },
  {
   "cell_type": "code",
   "execution_count": 18,
   "metadata": {},
   "outputs": [],
   "source": [
    "target_test_rougher = test_frame_for_target[\"rougher.output.recovery\"]\n",
    "target_test_final = test_frame_for_target[\"final.output.recovery\"]"
   ]
  },
  {
   "cell_type": "code",
   "execution_count": 19,
   "metadata": {},
   "outputs": [],
   "source": [
    "test_frame = test_frame.drop(\"date\",axis =1)"
   ]
  },
  {
   "cell_type": "code",
   "execution_count": 20,
   "metadata": {},
   "outputs": [],
   "source": [
    "imputer_test = KNNImputer()\n",
    "test_without_nan = pd.DataFrame(data = imputer_test.fit_transform(test_frame), \n",
    "                                columns= test_frame.columns, \n",
    "                                index = test_frame.index)"
   ]
  },
  {
   "cell_type": "markdown",
   "metadata": {},
   "source": [
    "### Выводы\n",
    "\n",
    "1. Данные предобработаны для дальнейшего анализа и построения моделей.  \n",
    "2. Эффективность обогащения рассчитана правильно. MAE между нашими расчётами и значением признака одинаковы.Значение метрики МАЕ в порядке e-15. Это говорит о том, что расчитанные данные и данные в таблице по recovery равны и рассчитаны верно. \n",
    "Проанализированы признаки, недоступные в тестовой выборке. \n",
    "Получилось, что отсутствующие данные разделились на две категории:\n",
    "Расчетные, которые получаются из других данных(например rougher.calculation и final.output.recovery)\n",
    "Измеряемые, которые являются изначальными параметрами продукта (например final.output.concentrate_au и rougher.output.tail_sol). \n",
    "3. Для обучения модели нам понадобятся недостающие значения rougher.output.recovery и final.output.recovery, которые мы благополучно смогли добавить в тестовую выборку с помощью merge. "
   ]
  },
  {
   "cell_type": "markdown",
   "metadata": {},
   "source": [
    "## Анализ данных"
   ]
  },
  {
   "cell_type": "markdown",
   "metadata": {},
   "source": [
    " Посмотрим, как меняется концентрация металлов (Au, Ag, Pb) на различных этапах очистки."
   ]
  },
  {
   "cell_type": "code",
   "execution_count": 21,
   "metadata": {},
   "outputs": [
    {
     "name": "stdout",
     "output_type": "stream",
     "text": [
      "Концентрация до флотации\n",
      "Концентрация Серебра: 8.58,Свинца: 3.52,Золота: 7.87\n",
      "\n",
      "Концентрация после флотации\n",
      "Коцентрация Серебра: 11.78,Свинца: 7.66,Золота: 19.44\n",
      "\n",
      "Концентрация после первичной очистки\n",
      "Концентрация Серебра: 8.20,Свинца: 9.58,Золота: 32.39\n",
      "\n",
      "Концентрация поле вторичной очистки\n",
      "Концентрация Серебра: 5.14,Свинца: 10.13,Золота: 44.00\n"
     ]
    }
   ],
   "source": [
    "print(\"Концентрация до флотации\")\n",
    "print(\"Концентрация Серебра:{: 0.2f},Свинца:{: 0.2f},Золота:{: 0.2f}\".\n",
    "format(without_nan[\"rougher.input.feed_ag\"].mean(),\n",
    "without_nan[\"rougher.input.feed_pb\"].mean(),\n",
    "without_nan[\"rougher.input.feed_au\"].mean()))\n",
    "print()\n",
    "print(\"Концентрация после флотации\")\n",
    "print(\"Коцентрация Серебра:{: 0.2f},Свинца:{: 0.2f},Золота:{: 0.2f}\".\n",
    "format(without_nan[\"rougher.output.concentrate_ag\"].mean(),\n",
    "without_nan[\"rougher.output.concentrate_pb\"].mean(),\n",
    "without_nan[\"rougher.output.concentrate_au\"].mean()))\n",
    "print()\n",
    "print(\"Концентрация после первичной очистки\")\n",
    "print(\"Концентрация Серебра:{: 0.2f},Свинца:{: 0.2f},Золота:{: 0.2f}\".\n",
    "format(without_nan[\"primary_cleaner.output.concentrate_ag\"].mean(),\n",
    "without_nan[\"primary_cleaner.output.concentrate_pb\"].mean(),\n",
    "without_nan[\"primary_cleaner.output.concentrate_au\"].mean()))\n",
    "print()\n",
    "print(\"Концентрация поле вторичной очистки\")\n",
    "print(\"Концентрация Серебра:{: 0.2f},Свинца:{: 0.2f},Золота:{: 0.2f}\".\n",
    "format(without_nan[\"final.output.concentrate_ag\"].mean(),\n",
    "without_nan[\"final.output.concentrate_pb\"].mean(),\n",
    "without_nan[\"final.output.concentrate_au\"].mean()))"
   ]
  },
  {
   "cell_type": "code",
   "execution_count": 22,
   "metadata": {},
   "outputs": [],
   "source": [
    "df_concentrate = train_frame[['rougher.input.feed_ag', 'rougher.input.feed_pb', 'rougher.input.feed_au',\n",
    "                           'rougher.output.concentrate_ag', 'primary_cleaner.output.concentrate_ag', 'final.output.concentrate_ag',\n",
    "                           'rougher.output.concentrate_pb', 'primary_cleaner.output.concentrate_pb', 'final.output.concentrate_pb',\n",
    "                           'rougher.output.concentrate_au', 'primary_cleaner.output.concentrate_au', 'final.output.concentrate_au']]"
   ]
  },
  {
   "cell_type": "code",
   "execution_count": 23,
   "metadata": {},
   "outputs": [
    {
     "data": {
      "image/png": "[encoded data removed]",
      "text/plain": [
       "<Figure size 1080x720 with 1 Axes>"
      ]
     },
     "metadata": {
      "needs_background": "light"
     },
     "output_type": "display_data"
    }
   ],
   "source": [
    "plt.figure(figsize=(15,10))\n",
    "sns.boxplot(data=df_concentrate, orient='h').set(xlabel='Концентрация', \n",
    "                                                 ylabel='Этап. Металл', \n",
    "                                                 title='Содержание металлов на разных стадиях обработки');"
   ]
  },
  {
   "cell_type": "code",
   "execution_count": 24,
   "metadata": {},
   "outputs": [
    {
     "data": {
      "text/html": [
       "<div>\n",
       "<style scoped>\n",
       "    .dataframe tbody tr th:only-of-type {\n",
       "        vertical-align: middle;\n",
       "    }\n",
       "\n",
       "    .dataframe tbody tr th {\n",
       "        vertical-align: top;\n",
       "    }\n",
       "\n",
       "    .dataframe thead th {\n",
       "        text-align: right;\n",
       "    }\n",
       "</style>\n",
       "<table border=\"1\" class=\"dataframe\">\n",
       "  <thead>\n",
       "    <tr style=\"text-align: right;\">\n",
       "      <th></th>\n",
       "      <th>rougher.input.feed_ag</th>\n",
       "      <th>rougher.input.feed_pb</th>\n",
       "      <th>rougher.input.feed_au</th>\n",
       "      <th>rougher.output.concentrate_ag</th>\n",
       "      <th>primary_cleaner.output.concentrate_ag</th>\n",
       "      <th>final.output.concentrate_ag</th>\n",
       "      <th>rougher.output.concentrate_pb</th>\n",
       "      <th>primary_cleaner.output.concentrate_pb</th>\n",
       "      <th>final.output.concentrate_pb</th>\n",
       "      <th>rougher.output.concentrate_au</th>\n",
       "      <th>primary_cleaner.output.concentrate_au</th>\n",
       "      <th>final.output.concentrate_au</th>\n",
       "    </tr>\n",
       "  </thead>\n",
       "  <tbody>\n",
       "    <tr>\n",
       "      <td>count</td>\n",
       "      <td>14149.000000</td>\n",
       "      <td>14049.000000</td>\n",
       "      <td>14149.000000</td>\n",
       "      <td>14149.000000</td>\n",
       "      <td>14149.000000</td>\n",
       "      <td>14148.000000</td>\n",
       "      <td>14149.000000</td>\n",
       "      <td>14063.000000</td>\n",
       "      <td>14148.000000</td>\n",
       "      <td>14149.000000</td>\n",
       "      <td>14149.000000</td>\n",
       "      <td>14149.000000</td>\n",
       "    </tr>\n",
       "    <tr>\n",
       "      <td>mean</td>\n",
       "      <td>8.579195</td>\n",
       "      <td>3.522778</td>\n",
       "      <td>7.866577</td>\n",
       "      <td>11.775812</td>\n",
       "      <td>8.200916</td>\n",
       "      <td>5.142034</td>\n",
       "      <td>7.664555</td>\n",
       "      <td>9.588862</td>\n",
       "      <td>10.132960</td>\n",
       "      <td>19.439958</td>\n",
       "      <td>32.386836</td>\n",
       "      <td>44.003792</td>\n",
       "    </tr>\n",
       "    <tr>\n",
       "      <td>std</td>\n",
       "      <td>1.896284</td>\n",
       "      <td>1.073394</td>\n",
       "      <td>1.919506</td>\n",
       "      <td>2.731747</td>\n",
       "      <td>2.005185</td>\n",
       "      <td>1.369586</td>\n",
       "      <td>1.856279</td>\n",
       "      <td>2.694296</td>\n",
       "      <td>1.654930</td>\n",
       "      <td>3.765192</td>\n",
       "      <td>5.798843</td>\n",
       "      <td>4.905261</td>\n",
       "    </tr>\n",
       "    <tr>\n",
       "      <td>min</td>\n",
       "      <td>0.010000</td>\n",
       "      <td>0.010000</td>\n",
       "      <td>0.010000</td>\n",
       "      <td>0.000000</td>\n",
       "      <td>0.000000</td>\n",
       "      <td>0.000000</td>\n",
       "      <td>0.000000</td>\n",
       "      <td>0.000000</td>\n",
       "      <td>0.000000</td>\n",
       "      <td>0.000000</td>\n",
       "      <td>0.000000</td>\n",
       "      <td>0.000000</td>\n",
       "    </tr>\n",
       "    <tr>\n",
       "      <td>25%</td>\n",
       "      <td>7.132802</td>\n",
       "      <td>2.780010</td>\n",
       "      <td>6.596217</td>\n",
       "      <td>10.486871</td>\n",
       "      <td>7.107126</td>\n",
       "      <td>4.211620</td>\n",
       "      <td>6.850501</td>\n",
       "      <td>8.333489</td>\n",
       "      <td>9.297355</td>\n",
       "      <td>18.432161</td>\n",
       "      <td>30.857764</td>\n",
       "      <td>43.276111</td>\n",
       "    </tr>\n",
       "    <tr>\n",
       "      <td>50%</td>\n",
       "      <td>8.156092</td>\n",
       "      <td>3.422677</td>\n",
       "      <td>7.649138</td>\n",
       "      <td>11.747362</td>\n",
       "      <td>8.226247</td>\n",
       "      <td>4.994652</td>\n",
       "      <td>7.760435</td>\n",
       "      <td>9.933520</td>\n",
       "      <td>10.297144</td>\n",
       "      <td>19.947312</td>\n",
       "      <td>33.225835</td>\n",
       "      <td>44.872436</td>\n",
       "    </tr>\n",
       "    <tr>\n",
       "      <td>75%</td>\n",
       "      <td>9.918304</td>\n",
       "      <td>4.226107</td>\n",
       "      <td>9.066976</td>\n",
       "      <td>13.426419</td>\n",
       "      <td>9.504924</td>\n",
       "      <td>5.859540</td>\n",
       "      <td>8.601927</td>\n",
       "      <td>11.310817</td>\n",
       "      <td>11.170603</td>\n",
       "      <td>21.392714</td>\n",
       "      <td>35.330145</td>\n",
       "      <td>46.166425</td>\n",
       "    </tr>\n",
       "    <tr>\n",
       "      <td>max</td>\n",
       "      <td>14.596026</td>\n",
       "      <td>7.142594</td>\n",
       "      <td>13.126043</td>\n",
       "      <td>24.480271</td>\n",
       "      <td>16.081632</td>\n",
       "      <td>16.001945</td>\n",
       "      <td>13.617072</td>\n",
       "      <td>17.081278</td>\n",
       "      <td>17.031899</td>\n",
       "      <td>28.146838</td>\n",
       "      <td>45.933934</td>\n",
       "      <td>52.756638</td>\n",
       "    </tr>\n",
       "  </tbody>\n",
       "</table>\n",
       "</div>"
      ],
      "text/plain": [
       "       rougher.input.feed_ag  rougher.input.feed_pb  rougher.input.feed_au  \\\n",
       "count           14149.000000           14049.000000           14149.000000   \n",
       "mean                8.579195               3.522778               7.866577   \n",
       "std                 1.896284               1.073394               1.919506   \n",
       "min                 0.010000               0.010000               0.010000   \n",
       "25%                 7.132802               2.780010               6.596217   \n",
       "50%                 8.156092               3.422677               7.649138   \n",
       "75%                 9.918304               4.226107               9.066976   \n",
       "max                14.596026               7.142594              13.126043   \n",
       "\n",
       "       rougher.output.concentrate_ag  primary_cleaner.output.concentrate_ag  \\\n",
       "count                   14149.000000                           14149.000000   \n",
       "mean                       11.775812                               8.200916   \n",
       "std                         2.731747                               2.005185   \n",
       "min                         0.000000                               0.000000   \n",
       "25%                        10.486871                               7.107126   \n",
       "50%                        11.747362                               8.226247   \n",
       "75%                        13.426419                               9.504924   \n",
       "max                        24.480271                              16.081632   \n",
       "\n",
       "       final.output.concentrate_ag  rougher.output.concentrate_pb  \\\n",
       "count                 14148.000000                   14149.000000   \n",
       "mean                      5.142034                       7.664555   \n",
       "std                       1.369586                       1.856279   \n",
       "min                       0.000000                       0.000000   \n",
       "25%                       4.211620                       6.850501   \n",
       "50%                       4.994652                       7.760435   \n",
       "75%                       5.859540                       8.601927   \n",
       "max                      16.001945                      13.617072   \n",
       "\n",
       "       primary_cleaner.output.concentrate_pb  final.output.concentrate_pb  \\\n",
       "count                           14063.000000                 14148.000000   \n",
       "mean                                9.588862                    10.132960   \n",
       "std                                 2.694296                     1.654930   \n",
       "min                                 0.000000                     0.000000   \n",
       "25%                                 8.333489                     9.297355   \n",
       "50%                                 9.933520                    10.297144   \n",
       "75%                                11.310817                    11.170603   \n",
       "max                                17.081278                    17.031899   \n",
       "\n",
       "       rougher.output.concentrate_au  primary_cleaner.output.concentrate_au  \\\n",
       "count                   14149.000000                           14149.000000   \n",
       "mean                       19.439958                              32.386836   \n",
       "std                         3.765192                               5.798843   \n",
       "min                         0.000000                               0.000000   \n",
       "25%                        18.432161                              30.857764   \n",
       "50%                        19.947312                              33.225835   \n",
       "75%                        21.392714                              35.330145   \n",
       "max                        28.146838                              45.933934   \n",
       "\n",
       "       final.output.concentrate_au  \n",
       "count                 14149.000000  \n",
       "mean                     44.003792  \n",
       "std                       4.905261  \n",
       "min                       0.000000  \n",
       "25%                      43.276111  \n",
       "50%                      44.872436  \n",
       "75%                      46.166425  \n",
       "max                      52.756638  "
      ]
     },
     "execution_count": 24,
     "metadata": {},
     "output_type": "execute_result"
    }
   ],
   "source": [
    "df_concentrate.describe()"
   ]
  },
  {
   "cell_type": "markdown",
   "metadata": {},
   "source": [
    "По представленным выше данным отчетливо видно, что с каждым этапом увеличивается концентрация золота и немного свинца, в то время как концентрация серебра уменьшается."
   ]
  },
  {
   "cell_type": "markdown",
   "metadata": {},
   "source": [
    "Сравним распределения размеров гранул сырья на обучающей и тестовой выборках. Если распределения сильно отличаются друг от друга, оценка модели будет неправильной."
   ]
  },
  {
   "cell_type": "code",
   "execution_count": 25,
   "metadata": {},
   "outputs": [
    {
     "data": {
      "image/png": "[encoded data removed]",
      "text/plain": [
       "<Figure size 1080x360 with 1 Axes>"
      ]
     },
     "metadata": {
      "needs_background": "light"
     },
     "output_type": "display_data"
    }
   ],
   "source": [
    "plt.figure(figsize=(15,5))\n",
    "sns.boxplot(data=(train_frame['rougher.input.feed_size'], \n",
    "                  test_frame['rougher.input.feed_size']), orient='h').set(xlabel='Размер гранул', \n",
    "                                                                          ylabel='Выборка', \n",
    "                                                                          title='Распределение размеров гранул сырья')\n",
    "plt.yticks([0,1], ['Обучающая', 'Тестовая']);"
   ]
  },
  {
   "cell_type": "code",
   "execution_count": 26,
   "metadata": {},
   "outputs": [
    {
     "data": {
      "image/png": "[encoded data removed]",
      "text/plain": [
       "<Figure size 432x288 with 1 Axes>"
      ]
     },
     "metadata": {
      "needs_background": "light"
     },
     "output_type": "display_data"
    }
   ],
   "source": [
    "for frame,name in zip([without_nan,test_without_nan],\n",
    "                       [\"train\",\"test\"]):\n",
    "    subset = frame[\"rougher.input.feed_size\"]\n",
    "\n",
    "    sns.distplot(subset, \n",
    "                 hist = False, \n",
    "                 kde = True,\n",
    "                 label = name)\n",
    "plt.legend(prop={'size': 10}, title = 'Frame')\n",
    "plt.title('Размер гранул');"
   ]
  },
  {
   "cell_type": "markdown",
   "metadata": {},
   "source": [
    "Распределения немного отличаются. В обучающей выборке преобладают значения около порога 50 и выше, в то же время как в тестовой выборке достаточно большое количество объектов сконцентрированы до порога 50. Так же это заметно и на средних значениях, среднее значение обучающей выборки немного больше среднего по тестовой выборке. Значит, это не должно оказать существенного влияния на построение модели."
   ]
  },
  {
   "cell_type": "markdown",
   "metadata": {},
   "source": [
    "Исследуем суммарную концентрацию всех веществ на разных стадиях: в сырье, в черновом и финальном концентратах."
   ]
  },
  {
   "cell_type": "code",
   "execution_count": 27,
   "metadata": {},
   "outputs": [],
   "source": [
    "def summary_concentarution(row):\n",
    "    list_of_steps = [\"rougher\",\"primary_cleaner\",\"final\"]\n",
    "    input_feed_au = row[\"rougher.input.feed_au\"]\n",
    "    input_feed_ag = row[\"rougher.input.feed_ag\"]\n",
    "    input_feed_pb = row[\"rougher.input.feed_pb\"]\n",
    "    input_feed_sol = row[\"rougher.input.feed_sol\"]\n",
    "    out_rougher = []\n",
    "    out_primary_cleaner = []\n",
    "    out_final = []\n",
    "    list_of_arrays =[out_rougher,out_primary_cleaner,out_final]\n",
    "    for step,array in zip(list_of_steps,list_of_arrays):\n",
    "        array.append(row[step+\".output.concentrate_au\"])\n",
    "        array.append(row[step+\".output.concentrate_ag\"])\n",
    "        array.append(row[step+\".output.concentrate_pb\"])\n",
    "        array.append(row[step+\".output.concentrate_sol\"])\n",
    "    sum_before_steps = input_feed_ag+input_feed_au+input_feed_pb+input_feed_sol\n",
    "    sum_rougher = sum(out_rougher)\n",
    "    sum_primary = sum(out_primary_cleaner)\n",
    "    sum_final = sum(out_final)\n",
    "    return pd.Series([sum_before_steps,sum_rougher,sum_primary,sum_final])"
   ]
  },
  {
   "cell_type": "code",
   "execution_count": 28,
   "metadata": {},
   "outputs": [],
   "source": [
    "sum_values = without_nan.apply(summary_concentarution,axis = 1)\n",
    "sum_values.columns = [\"before_rougher\",\"rougher\",\"primary_cleaner\",\"final\"]"
   ]
  },
  {
   "cell_type": "code",
   "execution_count": 29,
   "metadata": {},
   "outputs": [
    {
     "data": {
      "text/html": [
       "<div>\n",
       "<style scoped>\n",
       "    .dataframe tbody tr th:only-of-type {\n",
       "        vertical-align: middle;\n",
       "    }\n",
       "\n",
       "    .dataframe tbody tr th {\n",
       "        vertical-align: top;\n",
       "    }\n",
       "\n",
       "    .dataframe thead th {\n",
       "        text-align: right;\n",
       "    }\n",
       "</style>\n",
       "<table border=\"1\" class=\"dataframe\">\n",
       "  <thead>\n",
       "    <tr style=\"text-align: right;\">\n",
       "      <th></th>\n",
       "      <th>before_rougher</th>\n",
       "      <th>rougher</th>\n",
       "      <th>primary_cleaner</th>\n",
       "      <th>final</th>\n",
       "    </tr>\n",
       "  </thead>\n",
       "  <tbody>\n",
       "    <tr>\n",
       "      <td>0</td>\n",
       "      <td>51.680034</td>\n",
       "      <td>66.424950</td>\n",
       "      <td>72.640924</td>\n",
       "      <td>63.644396</td>\n",
       "    </tr>\n",
       "    <tr>\n",
       "      <td>1</td>\n",
       "      <td>50.659114</td>\n",
       "      <td>67.012710</td>\n",
       "      <td>72.543485</td>\n",
       "      <td>63.957723</td>\n",
       "    </tr>\n",
       "    <tr>\n",
       "      <td>2</td>\n",
       "      <td>50.609929</td>\n",
       "      <td>66.103793</td>\n",
       "      <td>72.095042</td>\n",
       "      <td>64.311180</td>\n",
       "    </tr>\n",
       "    <tr>\n",
       "      <td>3</td>\n",
       "      <td>51.061546</td>\n",
       "      <td>65.752751</td>\n",
       "      <td>59.957723</td>\n",
       "      <td>63.573449</td>\n",
       "    </tr>\n",
       "    <tr>\n",
       "      <td>4</td>\n",
       "      <td>47.859163</td>\n",
       "      <td>65.908382</td>\n",
       "      <td>71.321010</td>\n",
       "      <td>64.004667</td>\n",
       "    </tr>\n",
       "    <tr>\n",
       "      <td>...</td>\n",
       "      <td>...</td>\n",
       "      <td>...</td>\n",
       "      <td>...</td>\n",
       "      <td>...</td>\n",
       "    </tr>\n",
       "    <tr>\n",
       "      <td>14144</td>\n",
       "      <td>53.415050</td>\n",
       "      <td>70.781325</td>\n",
       "      <td>59.001692</td>\n",
       "      <td>68.098589</td>\n",
       "    </tr>\n",
       "    <tr>\n",
       "      <td>14145</td>\n",
       "      <td>53.696482</td>\n",
       "      <td>70.539603</td>\n",
       "      <td>59.703912</td>\n",
       "      <td>68.274362</td>\n",
       "    </tr>\n",
       "    <tr>\n",
       "      <td>14146</td>\n",
       "      <td>54.589604</td>\n",
       "      <td>55.376330</td>\n",
       "      <td>59.561096</td>\n",
       "      <td>68.226068</td>\n",
       "    </tr>\n",
       "    <tr>\n",
       "      <td>14147</td>\n",
       "      <td>54.027355</td>\n",
       "      <td>69.201689</td>\n",
       "      <td>57.216686</td>\n",
       "      <td>68.200449</td>\n",
       "    </tr>\n",
       "    <tr>\n",
       "      <td>14148</td>\n",
       "      <td>53.535054</td>\n",
       "      <td>69.544003</td>\n",
       "      <td>55.748041</td>\n",
       "      <td>68.353154</td>\n",
       "    </tr>\n",
       "  </tbody>\n",
       "</table>\n",
       "<p>14149 rows × 4 columns</p>\n",
       "</div>"
      ],
      "text/plain": [
       "       before_rougher    rougher  primary_cleaner      final\n",
       "0           51.680034  66.424950        72.640924  63.644396\n",
       "1           50.659114  67.012710        72.543485  63.957723\n",
       "2           50.609929  66.103793        72.095042  64.311180\n",
       "3           51.061546  65.752751        59.957723  63.573449\n",
       "4           47.859163  65.908382        71.321010  64.004667\n",
       "...               ...        ...              ...        ...\n",
       "14144       53.415050  70.781325        59.001692  68.098589\n",
       "14145       53.696482  70.539603        59.703912  68.274362\n",
       "14146       54.589604  55.376330        59.561096  68.226068\n",
       "14147       54.027355  69.201689        57.216686  68.200449\n",
       "14148       53.535054  69.544003        55.748041  68.353154\n",
       "\n",
       "[14149 rows x 4 columns]"
      ]
     },
     "execution_count": 29,
     "metadata": {},
     "output_type": "execute_result"
    }
   ],
   "source": [
    "sum_values"
   ]
  },
  {
   "cell_type": "code",
   "execution_count": 30,
   "metadata": {},
   "outputs": [
    {
     "data": {
      "image/png": "[encoded data removed]",
      "text/plain": [
       "<Figure size 1440x504 with 1 Axes>"
      ]
     },
     "metadata": {
      "needs_background": "light"
     },
     "output_type": "display_data"
    }
   ],
   "source": [
    "plt.figure(figsize=(20,7))\n",
    "sns.boxplot(data=(sum_values), orient='h').set(xlabel='Концентрация', \n",
    "                                               ylabel='Концентрат', \n",
    "                                               title='Суммарная концентрация веществ на разных этапах обработки сырья')\n",
    "plt.yticks([0,1,2,3], ['Руда', 'Черновой', 'Первой очистки', 'Финальный']);"
   ]
  },
  {
   "cell_type": "markdown",
   "metadata": {},
   "source": [
    "Можно заметить, что во всех распределениях присутствуют нулевые значения. Они очень далеки от общего распределения, их следует удалить. Так же это стоит проделать и в тестовой выборке, так они носят характер выбросов."
   ]
  },
  {
   "cell_type": "code",
   "execution_count": 31,
   "metadata": {},
   "outputs": [],
   "source": [
    "sum_values = sum_values.drop(index = sum_values[sum_values[\"before_rougher\"] < 1].index,\n",
    "                               axis = 0)\n",
    "sum_values = sum_values.drop(index = sum_values[sum_values[\"rougher\"] < 1].index,\n",
    "                               axis = 0)\n",
    "sum_values = sum_values.drop(index = sum_values[sum_values[\"primary_cleaner\"] < 1].index,\n",
    "                               axis = 0)\n",
    "sum_values = sum_values.drop(index = sum_values[sum_values[\"final\"] < 1].index,\n",
    "                               axis = 0)"
   ]
  },
  {
   "cell_type": "code",
   "execution_count": 32,
   "metadata": {},
   "outputs": [
    {
     "data": {
      "image/png": "[encoded data removed]",
      "text/plain": [
       "<Figure size 1440x504 with 1 Axes>"
      ]
     },
     "metadata": {
      "needs_background": "light"
     },
     "output_type": "display_data"
    }
   ],
   "source": [
    "plt.figure(figsize=(20,7))\n",
    "sns.boxplot(data=(sum_values), orient='h').set(xlabel='Концентрация', \n",
    "                                               ylabel='Концентрат', \n",
    "                                               title='Суммарная концентрация веществ на разных этапах обработки сырья')\n",
    "plt.yticks([0,1,2,3], ['Руда', 'Черновой', 'Первой очистки', 'Финальный']);"
   ]
  },
  {
   "cell_type": "code",
   "execution_count": 33,
   "metadata": {},
   "outputs": [],
   "source": [
    "test_frame = test_frame.drop(index = test_frame[test_frame[\"rougher.input.feed_au\"] < 1].index,\n",
    "                               axis = 0)\n",
    "test_frame = test_frame.drop(index = test_frame[test_frame[\"rougher.input.feed_ag\"] < 1].index,\n",
    "                               axis = 0)\n",
    "test_frame = test_frame.drop(index = test_frame[test_frame[\"rougher.input.feed_pb\"] < 1].index,\n",
    "                               axis = 0)\n",
    "test_frame = test_frame.drop(index = test_frame[test_frame[\"rougher.input.feed_sol\"] < 1].index,\n",
    "                               axis = 0)"
   ]
  },
  {
   "cell_type": "markdown",
   "metadata": {},
   "source": [
    "Поле того, как мы избавились от выбросов, перейдем к формированию признаков и целевых признаков в обучающей выборке."
   ]
  },
  {
   "cell_type": "code",
   "execution_count": 34,
   "metadata": {},
   "outputs": [],
   "source": [
    "train_features_dataset_rougher = without_nan.loc[:,test_frame.columns]\n",
    "train_target_dataset_rougher = without_nan['rougher.output.recovery']\n",
    "train_features_dataset_final = train_features_dataset_rougher \n",
    "train_target_dataset_final = without_nan['final.output.recovery'] "
   ]
  },
  {
   "cell_type": "markdown",
   "metadata": {},
   "source": [
    "### Выводы\n",
    "\n",
    "1. В ходе анализа данных было обнаружено, что с каждым этапом обработки увеличивается концентрация золота и немного свинца, в то время как концентрация серебра уменьшается.  \n",
    "2. Распределения размеров гранул сырья на обучающей и тестовой выборках немного отличаются. В обучающей выборке преобладают значения около порога 50 и выше, в то же время как в тестовой выборке достаточно большое количество объектов сконцентрированы до порога 50. Так же это заметно и на средних значениях, среднее значение обучающей выборки немного больше среднего по тестовой выборке. Значит, это не должно оказать существенного влияния на построение модели.  \n",
    "3. Суммарная концентрация всех веществ на разных стадиях показала нам, что во всех распределениях присутствуют нулевые значения. Они очень далеки от общего распределения, их нужно было удалить. Аналогично и с тестовой выборкой, так эти нулевые значения носят характер выбросов."
   ]
  },
  {
   "cell_type": "markdown",
   "metadata": {},
   "source": [
    "## Модель"
   ]
  },
  {
   "cell_type": "markdown",
   "metadata": {},
   "source": [
    "Для начала напишем функцию для вычисления итоговой sMAPE - симметричное среднее абсолютное процентное отклонение."
   ]
  },
  {
   "cell_type": "code",
   "execution_count": 35,
   "metadata": {},
   "outputs": [],
   "source": [
    "def sMAPE(y_true,y_pred):\n",
    "    error = np.mean(abs(y_true - y_pred)/((abs(y_true)+abs(y_pred))/2))*100\n",
    "    return error"
   ]
  },
  {
   "cell_type": "code",
   "execution_count": 36,
   "metadata": {},
   "outputs": [],
   "source": [
    "def final_sMAPE(sMAPE_rougher,sMAPE_final):\n",
    "    return (0.25*sMAPE_rougher + 0.75*sMAPE_final)"
   ]
  },
  {
   "cell_type": "code",
   "execution_count": 37,
   "metadata": {},
   "outputs": [],
   "source": [
    "custom_score = make_scorer(sMAPE,greater_is_better=False)"
   ]
  },
  {
   "cell_type": "markdown",
   "metadata": {},
   "source": [
    " Обучим разные модели и оценим их качество кросс-валидацией. Выберем лучшую модель и проверим её на тестовой выборке.\n",
    " Для этого автоматизируем наше машинное обучение еще больше с помощью утилиты Pipeline, которая создает конвейер, объединяющий  линейную последовательность преобразований данных. В нашем случае это стандартизация данных и модель Случайного Леса или Дерева Решений.\n",
    " \n",
    " Затем мы инициализируем параметры для GridSearchCV. При добавлении параметра cv=5 конечный результат проекта не меняется. По идее в GridSearchCV уже включена кросс-валидация, поэтому в этом моменте я не до конца уверена. "
   ]
  },
  {
   "cell_type": "code",
   "execution_count": 38,
   "metadata": {},
   "outputs": [],
   "source": [
    "model = make_pipeline(StandardScaler(),RandomForestRegressor())\n",
    "model2 = make_pipeline(StandardScaler(),DecisionTreeRegressor())"
   ]
  },
  {
   "cell_type": "code",
   "execution_count": 39,
   "metadata": {},
   "outputs": [],
   "source": [
    "params_RF = {\"randomforestregressor__n_estimators\":[5,100],\n",
    "             \"randomforestregressor__max_depth\":[1,10]}\n",
    "params_DT= {\"decisiontreeregressor__max_depth\":[1,10]}"
   ]
  },
  {
   "cell_type": "code",
   "execution_count": 40,
   "metadata": {},
   "outputs": [],
   "source": [
    "grid_rougher = GridSearchCV(model,param_grid = params_RF,scoring=custom_score, cv=5)\n",
    "grid_final = GridSearchCV(model,param_grid = params_RF,scoring=custom_score, cv=5)\n",
    "grid_rougher_DT = GridSearchCV(model2,param_grid = params_DT,scoring=custom_score, cv=5)\n",
    "grid_final_DT = GridSearchCV(model2,param_grid = params_DT,scoring=custom_score, cv=5)"
   ]
  },
  {
   "cell_type": "markdown",
   "metadata": {},
   "source": [
    "Обучаем модели и находим лучшие, с лучшими параметрами."
   ]
  },
  {
   "cell_type": "code",
   "execution_count": 41,
   "metadata": {},
   "outputs": [
    {
     "data": {
      "text/plain": [
       "GridSearchCV(cv=5,\n",
       "             estimator=Pipeline(steps=[('standardscaler', StandardScaler()),\n",
       "                                       ('decisiontreeregressor',\n",
       "                                        DecisionTreeRegressor())]),\n",
       "             param_grid={'decisiontreeregressor__max_depth': [1, 10]},\n",
       "             scoring=make_scorer(sMAPE, greater_is_better=False))"
      ]
     },
     "execution_count": 41,
     "metadata": {},
     "output_type": "execute_result"
    }
   ],
   "source": [
    "grid_rougher.fit(train_features_dataset_rougher,train_target_dataset_rougher)\n",
    "grid_final.fit(train_features_dataset_final,train_target_dataset_final)\n",
    "grid_rougher_DT.fit(train_features_dataset_rougher,train_target_dataset_rougher)\n",
    "grid_final_DT.fit(train_features_dataset_final,train_target_dataset_final)"
   ]
  },
  {
   "cell_type": "code",
   "execution_count": 42,
   "metadata": {},
   "outputs": [
    {
     "name": "stdout",
     "output_type": "stream",
     "text": [
      "Лучшие модели\n",
      "Pipeline(steps=[('standardscaler', StandardScaler()),\n",
      "                ('randomforestregressor',\n",
      "                 RandomForestRegressor(max_depth=1, n_estimators=5))])\n",
      "Pipeline(steps=[('standardscaler', StandardScaler()),\n",
      "                ('randomforestregressor', RandomForestRegressor(max_depth=1))])\n",
      "Pipeline(steps=[('standardscaler', StandardScaler()),\n",
      "                ('decisiontreeregressor', DecisionTreeRegressor(max_depth=1))])\n",
      "Pipeline(steps=[('standardscaler', StandardScaler()),\n",
      "                ('decisiontreeregressor', DecisionTreeRegressor(max_depth=1))])\n"
     ]
    }
   ],
   "source": [
    "print(\"Лучшие модели\")\n",
    "print(grid_rougher.best_estimator_)\n",
    "print(grid_final.best_estimator_) \n",
    "print(grid_rougher_DT.best_estimator_)\n",
    "print(grid_final_DT.best_estimator_)"
   ]
  },
  {
   "cell_type": "markdown",
   "metadata": {},
   "source": [
    "Определим лучшую модель для каждого целевого признака."
   ]
  },
  {
   "cell_type": "code",
   "execution_count": 43,
   "metadata": {},
   "outputs": [],
   "source": [
    "best_score_rougher = grid_rougher.best_score_\n",
    "best_score_final = grid_final.best_score_\n",
    "best_score_rougher_DT = grid_rougher_DT.best_score_\n",
    "best_score_final_DT = grid_final_DT.best_score_"
   ]
  },
  {
   "cell_type": "code",
   "execution_count": 44,
   "metadata": {},
   "outputs": [
    {
     "name": "stdout",
     "output_type": "stream",
     "text": [
      "rougher\n",
      "RandomForest -12.43001278013831 DecisionTree -12.463448579275124\n",
      "final\n",
      "RandomForest -10.810944225405033 DecisionTree -11.037567187433641\n"
     ]
    }
   ],
   "source": [
    "print(\"rougher\")\n",
    "print(\"RandomForest\",best_score_rougher,\"DecisionTree\",best_score_rougher_DT)\n",
    "print(\"final\")\n",
    "print(\"RandomForest\",best_score_final,\"DecisionTree\",best_score_final_DT)"
   ]
  },
  {
   "cell_type": "markdown",
   "metadata": {},
   "source": [
    "Мы видим, что лучше справляется RandomForest (Случайный Лес), так что за лучшую модель возьмем именно его. \n",
    "\n",
    "Рассчитаем финальный sMAPE для Случайного Лесаа и для Дерева Решений на обучающей выборке. "
   ]
  },
  {
   "cell_type": "code",
   "execution_count": 45,
   "metadata": {},
   "outputs": [
    {
     "data": {
      "text/plain": [
       "-11.215711364088353"
      ]
     },
     "execution_count": 45,
     "metadata": {},
     "output_type": "execute_result"
    }
   ],
   "source": [
    "final_sMAPE(best_score_rougher,best_score_final)"
   ]
  },
  {
   "cell_type": "code",
   "execution_count": 46,
   "metadata": {},
   "outputs": [
    {
     "data": {
      "text/plain": [
       "-11.394037535394013"
      ]
     },
     "execution_count": 46,
     "metadata": {},
     "output_type": "execute_result"
    }
   ],
   "source": [
    "final_sMAPE(best_score_rougher_DT,best_score_final_DT)"
   ]
  },
  {
   "cell_type": "markdown",
   "metadata": {},
   "source": [
    "Наименьшую ошибку мы получили при использовании Рандомного Леса!"
   ]
  },
  {
   "cell_type": "markdown",
   "metadata": {},
   "source": [
    "Рассчитаем финальный sMAPE на тестовой выборке, предварительно рассчитав необходимые для этого аргументы. "
   ]
  },
  {
   "cell_type": "code",
   "execution_count": 47,
   "metadata": {},
   "outputs": [],
   "source": [
    "rogher_test = grid_rougher.predict(test_without_nan)"
   ]
  },
  {
   "cell_type": "code",
   "execution_count": 48,
   "metadata": {},
   "outputs": [],
   "source": [
    "final_test = grid_final.predict(test_without_nan)"
   ]
  },
  {
   "cell_type": "code",
   "execution_count": 49,
   "metadata": {},
   "outputs": [
    {
     "data": {
      "text/plain": [
       "9.699265483979296"
      ]
     },
     "execution_count": 49,
     "metadata": {},
     "output_type": "execute_result"
    }
   ],
   "source": [
    "final_sMAPE(sMAPE(target_test_rougher,rogher_test),sMAPE(target_test_final,final_test))"
   ]
  },
  {
   "cell_type": "markdown",
   "metadata": {},
   "source": [
    "Финальная ошибка на тестовой выборке 9.69"
   ]
  },
  {
   "cell_type": "markdown",
   "metadata": {},
   "source": [
    "Инициализируем и обучим константную модель. Предкажем метки и аналогично рассчитаем финальную ошику для сравнения с лучшей моделью."
   ]
  },
  {
   "cell_type": "code",
   "execution_count": 50,
   "metadata": {},
   "outputs": [],
   "source": [
    "base = DummyRegressor(strategy=\"median\")\n",
    "base_final = DummyRegressor(strategy=\"median\")"
   ]
  },
  {
   "cell_type": "code",
   "execution_count": 51,
   "metadata": {},
   "outputs": [
    {
     "data": {
      "text/plain": [
       "DummyRegressor(strategy='median')"
      ]
     },
     "execution_count": 51,
     "metadata": {},
     "output_type": "execute_result"
    }
   ],
   "source": [
    "base.fit(train_features_dataset_rougher,train_target_dataset_rougher)\n",
    "base_final.fit(train_features_dataset_final,train_target_dataset_final)"
   ]
  },
  {
   "cell_type": "code",
   "execution_count": 52,
   "metadata": {},
   "outputs": [],
   "source": [
    "base_rougher = base.predict(test_without_nan)\n",
    "base_final_pred = base_final.predict(test_without_nan)"
   ]
  },
  {
   "cell_type": "code",
   "execution_count": 53,
   "metadata": {},
   "outputs": [
    {
     "data": {
      "text/plain": [
       "9.47991919812286"
      ]
     },
     "execution_count": 53,
     "metadata": {},
     "output_type": "execute_result"
    }
   ],
   "source": [
    "final_sMAPE(sMAPE(target_test_rougher,base_rougher),sMAPE(target_test_final,base_final_pred))"
   ]
  },
  {
   "cell_type": "markdown",
   "metadata": {},
   "source": [
    "Получается, что ошибка на тестовой выборке приемлемая, так как она не намного больше константной."
   ]
  },
  {
   "cell_type": "markdown",
   "metadata": {},
   "source": [
    "### Выводы\n",
    "Из всех моделей, модель Случайного леса, с получеными гиперпараметрами, показала лучший результат по метрике sMAPE. Поэтому итоговая модель построена на алгоритме RandomForest.  \n",
    "Итоговое sMAPE на тестовой выборке: 9.69 %  \n",
    "Такая ошибка является приемлемой, так как константная модель показала финальный sMAPE - 9.47%"
   ]
  },
  {
   "cell_type": "markdown",
   "metadata": {},
   "source": [
    "## Общие выводы \n",
    "\n",
    "- В начале работы мы убедились, что эффективность обогащения рассчитана правильно. MAE между нашими расчётами и значением признака одинаковы.Значение метрики МАЕ в порядке e-15. Это говорит о том, что расчитанные данные и данные в таблице по recovery равны и рассчитаны верно, а значит мы можем продолжить работу.  \n",
    "Проанализированы признаки, недоступные в тестовой выборке. Получилось, что отсутствующие данные разделились на две категории:   Расчетные, которые получаются из других данных(например rougher.calculation и final.output.recovery)   \n",
    "Измеряемые, которые являются изначальными параметрами продукта (например final.output.concentrate_au и rougher.output.tail_sol).  \n",
    "Для обучения модели нам понадобятся недостающие значения rougher.output.recovery и final.output.recovery, которые мы благополучно смогли добавить в тестовую выборку с помощью объединения датасетов тестовой выборки и исходных данных.\n",
    "\n",
    "- В ходе анализа данных было обнаружено, что с каждым этапом обработки увеличивается концентрация золота и немного свинца, в то время как концентрация серебра уменьшается.  \n",
    "Распределения размеров гранул сырья на обучающей и тестовой выборках немного отличаются. В обучающей выборке преобладают значения около порога 50 и выше, в то же время как в тестовой выборке достаточно большое количество объектов сконцентрированы до порога 50. Так же это заметно и на средних значениях, среднее значение обучающей выборки немного больше среднего по тестовой выборке. Значит, это не должно оказать существенного влияния на построение модели.  \n",
    "Суммарная концентрация всех веществ на разных стадиях показала нам, что во всех распределениях присутствуют нулевые значения. Они очень далеки от общего распределения, их нужно было удалить. Аналогично и с тестовой выборкой, так эти нулевые значения носят характер выбросов.\n",
    "\n",
    "- В ходе обучения моделей и всех рассчетов финальной ошибки, мы пришли к тому, что из всех моделей Случайный Лес, с получеными гиперпараметрами, показала лучший результат по метрике sMAPE. Поэтому итоговая модель построена на алгоритме RandomForest.  \n",
    "Итоговое sMAPE на тестовой выборке: 9.69 %.  \n",
    "Такая ошибка является приемлемой, так как константная модель показала финальный sMAPE - 9.47%"
   ]
  }
 ],
 "metadata": {
  "ExecuteTimeLog": [
   {
    "duration": 2008,
    "start_time": "2021-08-03T14:56:43.987Z"
   },
   {
    "duration": 863,
    "start_time": "2021-08-03T14:57:59.909Z"
   },
   {
    "duration": 258,
    "start_time": "2021-08-03T14:58:22.476Z"
   },
   {
    "duration": 274,
    "start_time": "2021-08-03T14:58:46.707Z"
   },
   {
    "duration": 309,
    "start_time": "2021-08-03T14:59:03.123Z"
   },
   {
    "duration": 317,
    "start_time": "2021-08-03T14:59:47.372Z"
   },
   {
    "duration": 2060,
    "start_time": "2021-08-03T14:59:54.470Z"
   },
   {
    "duration": 2120,
    "start_time": "2021-08-03T15:01:35.865Z"
   },
   {
    "duration": 272,
    "start_time": "2021-08-03T15:01:49.289Z"
   },
   {
    "duration": 2225,
    "start_time": "2021-08-03T15:01:52.887Z"
   },
   {
    "duration": 2322,
    "start_time": "2021-08-03T15:03:07.096Z"
   },
   {
    "duration": 936,
    "start_time": "2021-08-03T15:04:01.789Z"
   },
   {
    "duration": 34,
    "start_time": "2021-08-03T15:04:11.898Z"
   },
   {
    "duration": 21,
    "start_time": "2021-08-03T15:04:17.556Z"
   },
   {
    "duration": 77,
    "start_time": "2021-08-03T15:04:48.656Z"
   },
   {
    "duration": 5,
    "start_time": "2021-08-03T15:16:30.614Z"
   },
   {
    "duration": 290,
    "start_time": "2021-08-03T15:16:33.086Z"
   },
   {
    "duration": 13,
    "start_time": "2021-08-03T15:43:42.022Z"
   },
   {
    "duration": 283,
    "start_time": "2021-08-03T15:43:46.120Z"
   },
   {
    "duration": 933,
    "start_time": "2021-08-03T15:43:49.299Z"
   },
   {
    "duration": 20,
    "start_time": "2021-08-03T15:43:50.514Z"
   },
   {
    "duration": 16,
    "start_time": "2021-08-03T15:43:51.899Z"
   },
   {
    "duration": 415,
    "start_time": "2021-08-03T15:44:43.711Z"
   },
   {
    "duration": 1256,
    "start_time": "2021-08-03T15:46:51.849Z"
   },
   {
    "duration": 30,
    "start_time": "2021-08-03T15:46:53.191Z"
   },
   {
    "duration": 25,
    "start_time": "2021-08-03T15:46:56.032Z"
   },
   {
    "duration": 91,
    "start_time": "2021-08-03T15:47:00.474Z"
   },
   {
    "duration": 5,
    "start_time": "2021-08-03T15:47:03.529Z"
   },
   {
    "duration": 669,
    "start_time": "2021-08-03T15:47:05.712Z"
   },
   {
    "duration": 15,
    "start_time": "2021-08-03T15:47:17.726Z"
   },
   {
    "duration": 351,
    "start_time": "2021-08-03T15:47:25.198Z"
   },
   {
    "duration": 4,
    "start_time": "2021-08-03T15:47:58.087Z"
   },
   {
    "duration": 6,
    "start_time": "2021-08-03T15:48:11.736Z"
   },
   {
    "duration": 6,
    "start_time": "2021-08-03T15:48:15.605Z"
   },
   {
    "duration": 7,
    "start_time": "2021-08-03T15:48:21.960Z"
   },
   {
    "duration": 15,
    "start_time": "2021-08-03T15:48:28.720Z"
   },
   {
    "duration": 273,
    "start_time": "2021-08-03T15:48:40.782Z"
   },
   {
    "duration": 9,
    "start_time": "2021-08-03T15:48:48.812Z"
   },
   {
    "duration": 19,
    "start_time": "2021-08-03T15:48:51.325Z"
   },
   {
    "duration": 11,
    "start_time": "2021-08-03T15:48:53.325Z"
   },
   {
    "duration": 7,
    "start_time": "2021-08-03T15:48:54.573Z"
   },
   {
    "duration": 4,
    "start_time": "2021-08-03T15:48:56.187Z"
   },
   {
    "duration": 5,
    "start_time": "2021-08-03T15:48:58.964Z"
   },
   {
    "duration": 280,
    "start_time": "2021-08-03T15:49:00.443Z"
   },
   {
    "duration": 1267,
    "start_time": "2021-08-04T17:30:40.694Z"
   },
   {
    "duration": -924,
    "start_time": "2021-08-04T17:30:42.889Z"
   },
   {
    "duration": -950,
    "start_time": "2021-08-04T17:30:42.916Z"
   },
   {
    "duration": -966,
    "start_time": "2021-08-04T17:30:42.933Z"
   },
   {
    "duration": -981,
    "start_time": "2021-08-04T17:30:42.949Z"
   },
   {
    "duration": -995,
    "start_time": "2021-08-04T17:30:42.964Z"
   },
   {
    "duration": -1007,
    "start_time": "2021-08-04T17:30:42.977Z"
   },
   {
    "duration": -1044,
    "start_time": "2021-08-04T17:30:43.015Z"
   },
   {
    "duration": -1061,
    "start_time": "2021-08-04T17:30:43.033Z"
   },
   {
    "duration": -1076,
    "start_time": "2021-08-04T17:30:43.048Z"
   },
   {
    "duration": -1089,
    "start_time": "2021-08-04T17:30:43.062Z"
   },
   {
    "duration": -1104,
    "start_time": "2021-08-04T17:30:43.078Z"
   },
   {
    "duration": -1116,
    "start_time": "2021-08-04T17:30:43.091Z"
   },
   {
    "duration": -1132,
    "start_time": "2021-08-04T17:30:43.107Z"
   },
   {
    "duration": -1166,
    "start_time": "2021-08-04T17:30:43.142Z"
   },
   {
    "duration": -1182,
    "start_time": "2021-08-04T17:30:43.159Z"
   },
   {
    "duration": -1193,
    "start_time": "2021-08-04T17:30:43.171Z"
   },
   {
    "duration": -1215,
    "start_time": "2021-08-04T17:30:43.193Z"
   },
   {
    "duration": -1230,
    "start_time": "2021-08-04T17:30:43.209Z"
   },
   {
    "duration": -1248,
    "start_time": "2021-08-04T17:30:43.228Z"
   },
   {
    "duration": -1298,
    "start_time": "2021-08-04T17:30:43.279Z"
   },
   {
    "duration": -1319,
    "start_time": "2021-08-04T17:30:43.301Z"
   },
   {
    "duration": -1348,
    "start_time": "2021-08-04T17:30:43.331Z"
   },
   {
    "duration": -1372,
    "start_time": "2021-08-04T17:30:43.356Z"
   },
   {
    "duration": -1412,
    "start_time": "2021-08-04T17:30:43.397Z"
   },
   {
    "duration": -1440,
    "start_time": "2021-08-04T17:30:43.425Z"
   },
   {
    "duration": -1461,
    "start_time": "2021-08-04T17:30:43.447Z"
   },
   {
    "duration": -1480,
    "start_time": "2021-08-04T17:30:43.467Z"
   },
   {
    "duration": -1492,
    "start_time": "2021-08-04T17:30:43.481Z"
   },
   {
    "duration": -1531,
    "start_time": "2021-08-04T17:30:43.521Z"
   },
   {
    "duration": -1550,
    "start_time": "2021-08-04T17:30:43.541Z"
   },
   {
    "duration": -1565,
    "start_time": "2021-08-04T17:30:43.557Z"
   },
   {
    "duration": -1590,
    "start_time": "2021-08-04T17:30:43.583Z"
   },
   {
    "duration": -1607,
    "start_time": "2021-08-04T17:30:43.601Z"
   },
   {
    "duration": -1643,
    "start_time": "2021-08-04T17:30:43.638Z"
   },
   {
    "duration": -1660,
    "start_time": "2021-08-04T17:30:43.656Z"
   },
   {
    "duration": -1671,
    "start_time": "2021-08-04T17:30:43.668Z"
   },
   {
    "duration": -1689,
    "start_time": "2021-08-04T17:30:43.687Z"
   },
   {
    "duration": -1711,
    "start_time": "2021-08-04T17:30:43.710Z"
   },
   {
    "duration": -1728,
    "start_time": "2021-08-04T17:30:43.728Z"
   },
   {
    "duration": -1767,
    "start_time": "2021-08-04T17:30:43.768Z"
   },
   {
    "duration": -1785,
    "start_time": "2021-08-04T17:30:43.787Z"
   },
   {
    "duration": -1799,
    "start_time": "2021-08-04T17:30:43.802Z"
   },
   {
    "duration": -1822,
    "start_time": "2021-08-04T17:30:43.826Z"
   },
   {
    "duration": -1839,
    "start_time": "2021-08-04T17:30:43.844Z"
   },
   {
    "duration": -1856,
    "start_time": "2021-08-04T17:30:43.862Z"
   },
   {
    "duration": -1888,
    "start_time": "2021-08-04T17:30:43.895Z"
   },
   {
    "duration": -1904,
    "start_time": "2021-08-04T17:30:43.912Z"
   },
   {
    "duration": -1915,
    "start_time": "2021-08-04T17:30:43.924Z"
   },
   {
    "duration": -1930,
    "start_time": "2021-08-04T17:30:43.940Z"
   },
   {
    "duration": -1942,
    "start_time": "2021-08-04T17:30:43.953Z"
   },
   {
    "duration": -1955,
    "start_time": "2021-08-04T17:30:43.967Z"
   },
   {
    "duration": -1966,
    "start_time": "2021-08-04T17:30:43.979Z"
   },
   {
    "duration": -2004,
    "start_time": "2021-08-04T17:30:44.018Z"
   },
   {
    "duration": -2017,
    "start_time": "2021-08-04T17:30:44.032Z"
   },
   {
    "duration": -2029,
    "start_time": "2021-08-04T17:30:44.045Z"
   },
   {
    "duration": -2041,
    "start_time": "2021-08-04T17:30:44.058Z"
   },
   {
    "duration": -2056,
    "start_time": "2021-08-04T17:30:44.074Z"
   },
   {
    "duration": -2066,
    "start_time": "2021-08-04T17:30:44.085Z"
   },
   {
    "duration": -2080,
    "start_time": "2021-08-04T17:30:44.100Z"
   },
   {
    "duration": -2115,
    "start_time": "2021-08-04T17:30:44.136Z"
   },
   {
    "duration": -2132,
    "start_time": "2021-08-04T17:30:44.154Z"
   },
   {
    "duration": -2147,
    "start_time": "2021-08-04T17:30:44.170Z"
   },
   {
    "duration": 182,
    "start_time": "2021-08-04T17:31:37.297Z"
   },
   {
    "duration": 69,
    "start_time": "2021-08-04T17:34:10.897Z"
   },
   {
    "duration": 8332,
    "start_time": "2021-08-04T17:40:38.951Z"
   },
   {
    "duration": 185,
    "start_time": "2021-08-04T17:40:55.708Z"
   },
   {
    "duration": 2142,
    "start_time": "2021-08-04T17:41:06.627Z"
   },
   {
    "duration": 1452,
    "start_time": "2021-08-04T17:41:08.771Z"
   },
   {
    "duration": 667,
    "start_time": "2021-08-04T17:41:10.225Z"
   },
   {
    "duration": 17,
    "start_time": "2021-08-04T17:41:10.893Z"
   },
   {
    "duration": 14,
    "start_time": "2021-08-04T17:41:10.911Z"
   },
   {
    "duration": 81,
    "start_time": "2021-08-04T17:41:10.927Z"
   },
   {
    "duration": 3,
    "start_time": "2021-08-04T17:41:11.010Z"
   },
   {
    "duration": 406,
    "start_time": "2021-08-04T17:41:11.015Z"
   },
   {
    "duration": 9,
    "start_time": "2021-08-04T17:41:11.423Z"
   },
   {
    "duration": 4,
    "start_time": "2021-08-04T17:41:11.434Z"
   },
   {
    "duration": 4,
    "start_time": "2021-08-04T17:41:11.440Z"
   },
   {
    "duration": 7,
    "start_time": "2021-08-04T17:41:11.445Z"
   },
   {
    "duration": 36,
    "start_time": "2021-08-04T17:41:11.453Z"
   },
   {
    "duration": 11222,
    "start_time": "2021-08-04T17:41:11.491Z"
   },
   {
    "duration": 6,
    "start_time": "2021-08-04T17:41:22.715Z"
   },
   {
    "duration": 13,
    "start_time": "2021-08-04T17:41:22.723Z"
   },
   {
    "duration": 7,
    "start_time": "2021-08-04T17:41:22.738Z"
   },
   {
    "duration": 4,
    "start_time": "2021-08-04T17:41:22.746Z"
   },
   {
    "duration": 32,
    "start_time": "2021-08-04T17:41:22.752Z"
   },
   {
    "duration": 7,
    "start_time": "2021-08-04T17:41:22.786Z"
   },
   {
    "duration": 323,
    "start_time": "2021-08-04T17:41:22.794Z"
   },
   {
    "duration": 11,
    "start_time": "2021-08-04T17:41:23.119Z"
   },
   {
    "duration": 300,
    "start_time": "2021-08-04T17:41:23.135Z"
   },
   {
    "duration": -654,
    "start_time": "2021-08-04T17:41:24.092Z"
   },
   {
    "duration": -665,
    "start_time": "2021-08-04T17:41:24.104Z"
   },
   {
    "duration": -672,
    "start_time": "2021-08-04T17:41:24.112Z"
   },
   {
    "duration": -680,
    "start_time": "2021-08-04T17:41:24.121Z"
   },
   {
    "duration": -686,
    "start_time": "2021-08-04T17:41:24.129Z"
   },
   {
    "duration": -692,
    "start_time": "2021-08-04T17:41:24.136Z"
   },
   {
    "duration": -699,
    "start_time": "2021-08-04T17:41:24.144Z"
   },
   {
    "duration": -861,
    "start_time": "2021-08-04T17:41:24.307Z"
   },
   {
    "duration": -869,
    "start_time": "2021-08-04T17:41:24.317Z"
   },
   {
    "duration": -878,
    "start_time": "2021-08-04T17:41:24.327Z"
   },
   {
    "duration": -885,
    "start_time": "2021-08-04T17:41:24.335Z"
   },
   {
    "duration": -891,
    "start_time": "2021-08-04T17:41:24.342Z"
   },
   {
    "duration": -918,
    "start_time": "2021-08-04T17:41:24.371Z"
   },
   {
    "duration": -927,
    "start_time": "2021-08-04T17:41:24.381Z"
   },
   {
    "duration": -933,
    "start_time": "2021-08-04T17:41:24.388Z"
   },
   {
    "duration": -939,
    "start_time": "2021-08-04T17:41:24.396Z"
   },
   {
    "duration": -950,
    "start_time": "2021-08-04T17:41:24.408Z"
   },
   {
    "duration": -954,
    "start_time": "2021-08-04T17:41:24.415Z"
   },
   {
    "duration": -961,
    "start_time": "2021-08-04T17:41:24.423Z"
   },
   {
    "duration": -966,
    "start_time": "2021-08-04T17:41:24.430Z"
   },
   {
    "duration": -972,
    "start_time": "2021-08-04T17:41:24.437Z"
   },
   {
    "duration": -982,
    "start_time": "2021-08-04T17:41:24.448Z"
   },
   {
    "duration": -991,
    "start_time": "2021-08-04T17:41:24.459Z"
   },
   {
    "duration": -997,
    "start_time": "2021-08-04T17:41:24.466Z"
   },
   {
    "duration": -1024,
    "start_time": "2021-08-04T17:41:24.495Z"
   },
   {
    "duration": -1031,
    "start_time": "2021-08-04T17:41:24.503Z"
   },
   {
    "duration": -1028,
    "start_time": "2021-08-04T17:41:24.511Z"
   },
   {
    "duration": -1033,
    "start_time": "2021-08-04T17:41:24.518Z"
   },
   {
    "duration": -1040,
    "start_time": "2021-08-04T17:41:24.526Z"
   },
   {
    "duration": -1047,
    "start_time": "2021-08-04T17:41:24.535Z"
   },
   {
    "duration": -1057,
    "start_time": "2021-08-04T17:41:24.546Z"
   },
   {
    "duration": -1062,
    "start_time": "2021-08-04T17:41:24.553Z"
   },
   {
    "duration": -1068,
    "start_time": "2021-08-04T17:41:24.560Z"
   },
   {
    "duration": -1077,
    "start_time": "2021-08-04T17:41:24.570Z"
   },
   {
    "duration": -1084,
    "start_time": "2021-08-04T17:41:24.579Z"
   },
   {
    "duration": -1090,
    "start_time": "2021-08-04T17:41:24.586Z"
   },
   {
    "duration": -1109,
    "start_time": "2021-08-04T17:41:24.607Z"
   },
   {
    "duration": -1113,
    "start_time": "2021-08-04T17:41:24.612Z"
   },
   {
    "duration": -1121,
    "start_time": "2021-08-04T17:41:24.621Z"
   },
   {
    "duration": -1125,
    "start_time": "2021-08-04T17:41:24.627Z"
   },
   {
    "duration": -1129,
    "start_time": "2021-08-04T17:41:24.632Z"
   },
   {
    "duration": 61,
    "start_time": "2021-08-04T17:52:09.675Z"
   },
   {
    "duration": 235,
    "start_time": "2021-08-04T17:53:06.291Z"
   },
   {
    "duration": 224,
    "start_time": "2021-08-04T17:53:24.749Z"
   },
   {
    "duration": 179,
    "start_time": "2021-08-04T17:53:31.038Z"
   },
   {
    "duration": 22,
    "start_time": "2021-08-04T17:53:48.763Z"
   },
   {
    "duration": 15,
    "start_time": "2021-08-04T17:54:03.551Z"
   },
   {
    "duration": 16,
    "start_time": "2021-08-04T17:54:06.897Z"
   },
   {
    "duration": 17,
    "start_time": "2021-08-04T17:54:22.658Z"
   },
   {
    "duration": 20,
    "start_time": "2021-08-04T17:54:31.429Z"
   },
   {
    "duration": 93,
    "start_time": "2021-08-04T17:54:36.063Z"
   },
   {
    "duration": 381,
    "start_time": "2021-08-04T17:54:54.507Z"
   },
   {
    "duration": 10,
    "start_time": "2021-08-04T17:55:01.703Z"
   },
   {
    "duration": 117,
    "start_time": "2021-08-04T17:56:14.278Z"
   },
   {
    "duration": 403,
    "start_time": "2021-08-04T17:56:23.263Z"
   },
   {
    "duration": 181,
    "start_time": "2021-08-04T17:56:29.262Z"
   },
   {
    "duration": 4,
    "start_time": "2021-08-04T17:56:41.051Z"
   },
   {
    "duration": 18,
    "start_time": "2021-08-04T17:57:05.816Z"
   },
   {
    "duration": 38,
    "start_time": "2021-08-04T17:57:13.086Z"
   },
   {
    "duration": 37,
    "start_time": "2021-08-04T17:57:20.979Z"
   },
   {
    "duration": 35,
    "start_time": "2021-08-04T17:57:34.110Z"
   },
   {
    "duration": 13,
    "start_time": "2021-08-04T17:57:45.310Z"
   },
   {
    "duration": 91,
    "start_time": "2021-08-04T17:58:24.129Z"
   },
   {
    "duration": 189,
    "start_time": "2021-08-04T17:58:36.317Z"
   },
   {
    "duration": 29,
    "start_time": "2021-08-04T17:58:48.375Z"
   },
   {
    "duration": 7,
    "start_time": "2021-08-04T17:58:56.220Z"
   },
   {
    "duration": 5,
    "start_time": "2021-08-04T17:59:04.056Z"
   },
   {
    "duration": 13,
    "start_time": "2021-08-04T17:59:07.046Z"
   },
   {
    "duration": 3,
    "start_time": "2021-08-04T17:59:15.042Z"
   },
   {
    "duration": 4,
    "start_time": "2021-08-04T17:59:19.694Z"
   },
   {
    "duration": 3,
    "start_time": "2021-08-04T17:59:22.981Z"
   },
   {
    "duration": 3,
    "start_time": "2021-08-04T17:59:26.280Z"
   },
   {
    "duration": 3,
    "start_time": "2021-08-04T17:59:28.228Z"
   },
   {
    "duration": 7,
    "start_time": "2021-08-04T17:59:33.093Z"
   },
   {
    "duration": 213,
    "start_time": "2021-08-04T17:59:41.189Z"
   },
   {
    "duration": 2,
    "start_time": "2021-08-04T18:04:31.149Z"
   },
   {
    "duration": 29,
    "start_time": "2021-08-04T18:04:32.556Z"
   },
   {
    "duration": 368,
    "start_time": "2021-08-04T18:10:08.902Z"
   },
   {
    "duration": 339,
    "start_time": "2021-08-04T18:11:02.635Z"
   },
   {
    "duration": 20,
    "start_time": "2021-08-04T18:11:12.693Z"
   },
   {
    "duration": 348,
    "start_time": "2021-08-04T18:11:16.441Z"
   },
   {
    "duration": 6,
    "start_time": "2021-08-04T18:13:38.856Z"
   },
   {
    "duration": 179,
    "start_time": "2021-08-04T18:14:36.808Z"
   },
   {
    "duration": 176,
    "start_time": "2021-08-04T18:15:16.745Z"
   },
   {
    "duration": 7,
    "start_time": "2021-08-04T18:20:53.668Z"
   },
   {
    "duration": 348,
    "start_time": "2021-08-04T18:20:57.498Z"
   },
   {
    "duration": 202,
    "start_time": "2021-08-04T18:21:28.959Z"
   },
   {
    "duration": 4,
    "start_time": "2021-08-04T18:24:02.216Z"
   },
   {
    "duration": 5,
    "start_time": "2021-08-04T18:24:05.298Z"
   },
   {
    "duration": 3,
    "start_time": "2021-08-04T18:24:08.332Z"
   },
   {
    "duration": 18,
    "start_time": "2021-08-04T18:24:09.251Z"
   },
   {
    "duration": 6,
    "start_time": "2021-08-04T18:24:10.129Z"
   },
   {
    "duration": 4352,
    "start_time": "2021-08-04T18:24:14.833Z"
   },
   {
    "duration": 207,
    "start_time": "2021-08-04T18:25:00.771Z"
   },
   {
    "duration": 4,
    "start_time": "2021-08-04T18:27:13.080Z"
   },
   {
    "duration": 6,
    "start_time": "2021-08-04T18:27:16.307Z"
   },
   {
    "duration": 272,
    "start_time": "2021-08-04T18:28:02.878Z"
   },
   {
    "duration": 4,
    "start_time": "2021-08-04T18:31:53.724Z"
   },
   {
    "duration": 6,
    "start_time": "2021-08-04T18:32:36.223Z"
   },
   {
    "duration": 604,
    "start_time": "2021-08-04T18:32:40.118Z"
   },
   {
    "duration": 2447,
    "start_time": "2021-08-04T18:33:29.071Z"
   },
   {
    "duration": 1483,
    "start_time": "2021-08-04T18:33:31.521Z"
   },
   {
    "duration": 727,
    "start_time": "2021-08-04T18:33:33.006Z"
   },
   {
    "duration": 20,
    "start_time": "2021-08-04T18:33:33.735Z"
   },
   {
    "duration": 43,
    "start_time": "2021-08-04T18:33:33.757Z"
   },
   {
    "duration": 86,
    "start_time": "2021-08-04T18:33:33.803Z"
   },
   {
    "duration": 6,
    "start_time": "2021-08-04T18:33:33.893Z"
   },
   {
    "duration": 463,
    "start_time": "2021-08-04T18:33:33.903Z"
   },
   {
    "duration": 22,
    "start_time": "2021-08-04T18:33:34.369Z"
   },
   {
    "duration": 6,
    "start_time": "2021-08-04T18:33:34.397Z"
   },
   {
    "duration": 13,
    "start_time": "2021-08-04T18:33:34.405Z"
   },
   {
    "duration": 14,
    "start_time": "2021-08-04T18:33:34.420Z"
   },
   {
    "duration": 19,
    "start_time": "2021-08-04T18:33:34.437Z"
   },
   {
    "duration": 13025,
    "start_time": "2021-08-04T18:33:34.459Z"
   },
   {
    "duration": 8,
    "start_time": "2021-08-04T18:33:47.487Z"
   },
   {
    "duration": 18,
    "start_time": "2021-08-04T18:33:47.498Z"
   },
   {
    "duration": 7,
    "start_time": "2021-08-04T18:33:47.518Z"
   },
   {
    "duration": 6,
    "start_time": "2021-08-04T18:33:47.527Z"
   },
   {
    "duration": 6,
    "start_time": "2021-08-04T18:33:47.535Z"
   },
   {
    "duration": 63,
    "start_time": "2021-08-04T18:33:47.543Z"
   },
   {
    "duration": 319,
    "start_time": "2021-08-04T18:33:47.609Z"
   },
   {
    "duration": 81,
    "start_time": "2021-08-04T18:33:47.931Z"
   },
   {
    "duration": 13,
    "start_time": "2021-08-04T18:33:48.019Z"
   },
   {
    "duration": 266,
    "start_time": "2021-08-04T18:33:48.035Z"
   },
   {
    "duration": 230,
    "start_time": "2021-08-04T18:33:48.303Z"
   },
   {
    "duration": 23,
    "start_time": "2021-08-04T18:33:48.535Z"
   },
   {
    "duration": 40,
    "start_time": "2021-08-04T18:33:48.560Z"
   },
   {
    "duration": 17,
    "start_time": "2021-08-04T18:33:48.604Z"
   },
   {
    "duration": 21,
    "start_time": "2021-08-04T18:33:48.623Z"
   },
   {
    "duration": 117,
    "start_time": "2021-08-04T18:33:48.646Z"
   },
   {
    "duration": 38,
    "start_time": "2021-08-04T18:33:48.765Z"
   },
   {
    "duration": 305,
    "start_time": "2021-08-04T18:33:48.806Z"
   },
   {
    "duration": 13,
    "start_time": "2021-08-04T18:33:49.113Z"
   },
   {
    "duration": 116,
    "start_time": "2021-08-04T18:33:49.129Z"
   },
   {
    "duration": 325,
    "start_time": "2021-08-04T18:33:49.247Z"
   },
   {
    "duration": 18,
    "start_time": "2021-08-04T18:33:49.574Z"
   },
   {
    "duration": 19,
    "start_time": "2021-08-04T18:33:49.594Z"
   },
   {
    "duration": 28,
    "start_time": "2021-08-04T18:33:49.615Z"
   },
   {
    "duration": 67,
    "start_time": "2021-08-04T18:33:49.645Z"
   },
   {
    "duration": 30,
    "start_time": "2021-08-04T18:33:49.714Z"
   },
   {
    "duration": 48,
    "start_time": "2021-08-04T18:33:49.746Z"
   },
   {
    "duration": 121,
    "start_time": "2021-08-04T18:33:49.796Z"
   },
   {
    "duration": 21,
    "start_time": "2021-08-04T18:33:49.918Z"
   },
   {
    "duration": 8,
    "start_time": "2021-08-04T18:33:49.941Z"
   },
   {
    "duration": 7,
    "start_time": "2021-08-04T18:33:49.989Z"
   },
   {
    "duration": 28,
    "start_time": "2021-08-04T18:33:49.998Z"
   },
   {
    "duration": 5,
    "start_time": "2021-08-04T18:33:50.028Z"
   },
   {
    "duration": 9,
    "start_time": "2021-08-04T18:33:50.035Z"
   },
   {
    "duration": 5,
    "start_time": "2021-08-04T18:33:50.047Z"
   },
   {
    "duration": 33,
    "start_time": "2021-08-04T18:33:50.054Z"
   },
   {
    "duration": 6,
    "start_time": "2021-08-04T18:33:50.088Z"
   },
   {
    "duration": 11,
    "start_time": "2021-08-04T18:33:50.105Z"
   },
   {
    "duration": 4,
    "start_time": "2021-08-04T18:33:50.118Z"
   },
   {
    "duration": 4,
    "start_time": "2021-08-04T18:33:50.124Z"
   },
   {
    "duration": 8,
    "start_time": "2021-08-04T18:33:50.130Z"
   },
   {
    "duration": 370,
    "start_time": "2021-08-04T18:33:50.140Z"
   },
   {
    "duration": -2294,
    "start_time": "2021-08-04T18:33:52.807Z"
   },
   {
    "duration": -2316,
    "start_time": "2021-08-04T18:33:52.830Z"
   },
   {
    "duration": -2333,
    "start_time": "2021-08-04T18:33:52.849Z"
   },
   {
    "duration": -2345,
    "start_time": "2021-08-04T18:33:52.862Z"
   },
   {
    "duration": -2371,
    "start_time": "2021-08-04T18:33:52.890Z"
   },
   {
    "duration": -2417,
    "start_time": "2021-08-04T18:33:52.937Z"
   },
   {
    "duration": -2429,
    "start_time": "2021-08-04T18:33:52.951Z"
   },
   {
    "duration": -2441,
    "start_time": "2021-08-04T18:33:52.964Z"
   },
   {
    "duration": -2460,
    "start_time": "2021-08-04T18:33:52.984Z"
   },
   {
    "duration": -2471,
    "start_time": "2021-08-04T18:33:52.997Z"
   },
   {
    "duration": -2487,
    "start_time": "2021-08-04T18:33:53.014Z"
   },
   {
    "duration": -2520,
    "start_time": "2021-08-04T18:33:53.048Z"
   },
   {
    "duration": 14,
    "start_time": "2021-08-04T18:34:37.434Z"
   },
   {
    "duration": 1138,
    "start_time": "2021-08-04T18:34:55.496Z"
   },
   {
    "duration": 6,
    "start_time": "2021-08-04T18:35:26.000Z"
   },
   {
    "duration": 70,
    "start_time": "2021-08-04T18:38:47.920Z"
   },
   {
    "duration": 11,
    "start_time": "2021-08-04T18:38:51.265Z"
   },
   {
    "duration": 4,
    "start_time": "2021-08-04T18:46:16.996Z"
   },
   {
    "duration": 3,
    "start_time": "2021-08-04T18:46:17.969Z"
   },
   {
    "duration": 3,
    "start_time": "2021-08-04T18:46:18.782Z"
   },
   {
    "duration": 4,
    "start_time": "2021-08-04T18:46:21.899Z"
   },
   {
    "duration": 34,
    "start_time": "2021-08-04T18:46:23.865Z"
   },
   {
    "duration": 4,
    "start_time": "2021-08-04T18:46:25.053Z"
   },
   {
    "duration": 4,
    "start_time": "2021-08-04T18:46:28.157Z"
   },
   {
    "duration": 186,
    "start_time": "2021-08-04T18:46:29.396Z"
   },
   {
    "duration": 8,
    "start_time": "2021-08-04T18:46:57.485Z"
   },
   {
    "duration": 7,
    "start_time": "2021-08-04T18:47:05.878Z"
   },
   {
    "duration": 3,
    "start_time": "2021-08-04T18:47:10.767Z"
   },
   {
    "duration": 1315,
    "start_time": "2021-08-04T18:47:20.868Z"
   },
   {
    "duration": 3,
    "start_time": "2021-08-04T18:48:35.412Z"
   },
   {
    "duration": 3,
    "start_time": "2021-08-04T18:48:45.775Z"
   },
   {
    "duration": 20,
    "start_time": "2021-08-04T18:48:46.622Z"
   },
   {
    "duration": 3,
    "start_time": "2021-08-04T18:48:47.502Z"
   },
   {
    "duration": 3,
    "start_time": "2021-08-04T18:48:48.304Z"
   },
   {
    "duration": 3,
    "start_time": "2021-08-04T18:48:49.098Z"
   },
   {
    "duration": 4,
    "start_time": "2021-08-04T18:48:49.922Z"
   },
   {
    "duration": 1299,
    "start_time": "2021-08-04T18:48:51.978Z"
   },
   {
    "duration": 3,
    "start_time": "2021-08-04T18:49:17.481Z"
   },
   {
    "duration": 3,
    "start_time": "2021-08-04T18:49:19.555Z"
   },
   {
    "duration": 3,
    "start_time": "2021-08-04T18:49:20.307Z"
   },
   {
    "duration": 7953,
    "start_time": "2021-08-04T18:49:20.975Z"
   },
   {
    "duration": 173,
    "start_time": "2021-08-04T18:49:55.935Z"
   },
   {
    "duration": 2359,
    "start_time": "2021-08-04T18:52:14.319Z"
   },
   {
    "duration": 1437,
    "start_time": "2021-08-04T18:52:16.680Z"
   },
   {
    "duration": 725,
    "start_time": "2021-08-04T18:52:18.119Z"
   },
   {
    "duration": 18,
    "start_time": "2021-08-04T18:52:18.846Z"
   },
   {
    "duration": 37,
    "start_time": "2021-08-04T18:52:18.866Z"
   },
   {
    "duration": 80,
    "start_time": "2021-08-04T18:52:18.905Z"
   },
   {
    "duration": 5,
    "start_time": "2021-08-04T18:52:18.988Z"
   },
   {
    "duration": 457,
    "start_time": "2021-08-04T18:52:18.998Z"
   },
   {
    "duration": 12,
    "start_time": "2021-08-04T18:52:19.457Z"
   },
   {
    "duration": 26,
    "start_time": "2021-08-04T18:52:19.471Z"
   },
   {
    "duration": 9,
    "start_time": "2021-08-04T18:52:19.500Z"
   },
   {
    "duration": 5,
    "start_time": "2021-08-04T18:52:19.512Z"
   },
   {
    "duration": 12,
    "start_time": "2021-08-04T18:52:19.519Z"
   },
   {
    "duration": 17403,
    "start_time": "2021-08-04T18:52:19.533Z"
   },
   {
    "duration": 6,
    "start_time": "2021-08-04T18:52:36.938Z"
   },
   {
    "duration": 19,
    "start_time": "2021-08-04T18:52:36.945Z"
   },
   {
    "duration": 20,
    "start_time": "2021-08-04T18:52:36.965Z"
   },
   {
    "duration": 9,
    "start_time": "2021-08-04T18:52:36.987Z"
   },
   {
    "duration": 4,
    "start_time": "2021-08-04T18:52:37.000Z"
   },
   {
    "duration": 7,
    "start_time": "2021-08-04T18:52:37.009Z"
   },
   {
    "duration": 296,
    "start_time": "2021-08-04T18:52:37.019Z"
   },
   {
    "duration": 78,
    "start_time": "2021-08-04T18:52:37.317Z"
   },
   {
    "duration": 20,
    "start_time": "2021-08-04T18:52:37.405Z"
   },
   {
    "duration": 256,
    "start_time": "2021-08-04T18:52:37.427Z"
   },
   {
    "duration": 251,
    "start_time": "2021-08-04T18:52:37.685Z"
   },
   {
    "duration": 20,
    "start_time": "2021-08-04T18:52:37.938Z"
   },
   {
    "duration": 34,
    "start_time": "2021-08-04T18:52:37.960Z"
   },
   {
    "duration": 25,
    "start_time": "2021-08-04T18:52:37.997Z"
   },
   {
    "duration": 15,
    "start_time": "2021-08-04T18:52:38.025Z"
   },
   {
    "duration": 52,
    "start_time": "2021-08-04T18:52:38.042Z"
   },
   {
    "duration": 107,
    "start_time": "2021-08-04T18:52:38.096Z"
   },
   {
    "duration": 341,
    "start_time": "2021-08-04T18:52:38.206Z"
   },
   {
    "duration": 10,
    "start_time": "2021-08-04T18:52:38.549Z"
   },
   {
    "duration": 91,
    "start_time": "2021-08-04T18:52:38.561Z"
   },
   {
    "duration": 319,
    "start_time": "2021-08-04T18:52:38.654Z"
   },
   {
    "duration": 12,
    "start_time": "2021-08-04T18:52:38.976Z"
   },
   {
    "duration": 66,
    "start_time": "2021-08-04T18:52:38.990Z"
   },
   {
    "duration": 27,
    "start_time": "2021-08-04T18:52:39.058Z"
   },
   {
    "duration": 37,
    "start_time": "2021-08-04T18:52:39.088Z"
   },
   {
    "duration": 26,
    "start_time": "2021-08-04T18:52:39.127Z"
   },
   {
    "duration": 56,
    "start_time": "2021-08-04T18:52:39.155Z"
   },
   {
    "duration": 26,
    "start_time": "2021-08-04T18:52:39.213Z"
   },
   {
    "duration": 87,
    "start_time": "2021-08-04T18:52:39.240Z"
   },
   {
    "duration": 18,
    "start_time": "2021-08-04T18:52:39.329Z"
   },
   {
    "duration": 7,
    "start_time": "2021-08-04T18:52:39.349Z"
   },
   {
    "duration": 7,
    "start_time": "2021-08-04T18:52:39.386Z"
   },
   {
    "duration": 31,
    "start_time": "2021-08-04T18:52:39.395Z"
   },
   {
    "duration": 7,
    "start_time": "2021-08-04T18:52:39.427Z"
   },
   {
    "duration": 19,
    "start_time": "2021-08-04T18:52:39.436Z"
   },
   {
    "duration": 62,
    "start_time": "2021-08-04T18:52:39.456Z"
   },
   {
    "duration": 4,
    "start_time": "2021-08-04T18:52:39.520Z"
   },
   {
    "duration": 14,
    "start_time": "2021-08-04T18:52:39.526Z"
   },
   {
    "duration": 19,
    "start_time": "2021-08-04T18:52:39.542Z"
   },
   {
    "duration": 15,
    "start_time": "2021-08-04T18:52:39.562Z"
   },
   {
    "duration": 8159,
    "start_time": "2021-08-04T18:52:39.579Z"
   },
   {
    "duration": 174,
    "start_time": "2021-08-04T18:52:47.740Z"
   },
   {
    "duration": 164,
    "start_time": "2021-08-04T18:55:50.496Z"
   },
   {
    "duration": 8,
    "start_time": "2021-08-04T19:12:28.218Z"
   },
   {
    "duration": 7,
    "start_time": "2021-08-04T19:12:51.040Z"
   },
   {
    "duration": 7,
    "start_time": "2021-08-04T19:13:02.886Z"
   },
   {
    "duration": 6,
    "start_time": "2021-08-04T19:13:12.407Z"
   },
   {
    "duration": 8,
    "start_time": "2021-08-04T19:13:19.632Z"
   },
   {
    "duration": 7,
    "start_time": "2021-08-04T19:21:30.062Z"
   },
   {
    "duration": 10483,
    "start_time": "2021-08-04T19:29:05.435Z"
   },
   {
    "duration": 8,
    "start_time": "2021-08-04T19:29:18.277Z"
   },
   {
    "duration": 10,
    "start_time": "2021-08-04T19:29:19.780Z"
   },
   {
    "duration": 282,
    "start_time": "2021-08-04T19:29:21.336Z"
   },
   {
    "duration": 5,
    "start_time": "2021-08-04T19:29:22.531Z"
   },
   {
    "duration": 4282,
    "start_time": "2021-08-04T19:29:23.917Z"
   },
   {
    "duration": 13293,
    "start_time": "2021-08-04T19:30:33.993Z"
   },
   {
    "duration": 36,
    "start_time": "2021-08-04T19:32:33.500Z"
   },
   {
    "duration": 214,
    "start_time": "2021-08-04T19:33:06.261Z"
   },
   {
    "duration": 10,
    "start_time": "2021-08-04T19:33:07.453Z"
   },
   {
    "duration": 11,
    "start_time": "2021-08-04T19:33:08.595Z"
   },
   {
    "duration": 188,
    "start_time": "2021-08-04T19:33:10.521Z"
   },
   {
    "duration": 195,
    "start_time": "2021-08-04T19:33:23.174Z"
   },
   {
    "duration": 62,
    "start_time": "2021-08-04T19:33:33.673Z"
   },
   {
    "duration": 70,
    "start_time": "2021-08-04T19:33:39.437Z"
   },
   {
    "duration": 11,
    "start_time": "2021-08-04T19:33:44.193Z"
   },
   {
    "duration": 210,
    "start_time": "2021-08-04T19:33:49.238Z"
   },
   {
    "duration": 187,
    "start_time": "2021-08-04T19:33:53.621Z"
   },
   {
    "duration": 22,
    "start_time": "2021-08-04T19:33:57.561Z"
   },
   {
    "duration": 13,
    "start_time": "2021-08-04T19:34:01.191Z"
   },
   {
    "duration": 15,
    "start_time": "2021-08-04T19:34:04.697Z"
   },
   {
    "duration": 15,
    "start_time": "2021-08-04T19:34:10.238Z"
   },
   {
    "duration": 16,
    "start_time": "2021-08-04T19:34:11.716Z"
   },
   {
    "duration": 15,
    "start_time": "2021-08-04T19:34:14.390Z"
   },
   {
    "duration": 258,
    "start_time": "2021-08-04T19:34:23.450Z"
   },
   {
    "duration": 9,
    "start_time": "2021-08-04T19:34:26.199Z"
   },
   {
    "duration": 2408,
    "start_time": "2021-08-04T19:40:14.607Z"
   },
   {
    "duration": 1336,
    "start_time": "2021-08-04T19:40:17.017Z"
   },
   {
    "duration": 695,
    "start_time": "2021-08-04T19:40:18.355Z"
   },
   {
    "duration": 18,
    "start_time": "2021-08-04T19:40:19.052Z"
   },
   {
    "duration": 22,
    "start_time": "2021-08-04T19:40:19.071Z"
   },
   {
    "duration": 57,
    "start_time": "2021-08-04T19:40:19.096Z"
   },
   {
    "duration": 3,
    "start_time": "2021-08-04T19:40:19.155Z"
   },
   {
    "duration": 445,
    "start_time": "2021-08-04T19:40:19.160Z"
   },
   {
    "duration": 10,
    "start_time": "2021-08-04T19:40:19.606Z"
   },
   {
    "duration": 4,
    "start_time": "2021-08-04T19:40:19.618Z"
   },
   {
    "duration": 5,
    "start_time": "2021-08-04T19:40:19.623Z"
   },
   {
    "duration": 6,
    "start_time": "2021-08-04T19:40:19.630Z"
   },
   {
    "duration": 3,
    "start_time": "2021-08-04T19:40:19.637Z"
   },
   {
    "duration": 11526,
    "start_time": "2021-08-04T19:40:19.641Z"
   },
   {
    "duration": 16,
    "start_time": "2021-08-04T19:40:31.169Z"
   },
   {
    "duration": 11,
    "start_time": "2021-08-04T19:40:31.186Z"
   },
   {
    "duration": 19063,
    "start_time": "2021-08-04T19:40:31.199Z"
   },
   {
    "duration": 9,
    "start_time": "2021-08-04T19:40:50.266Z"
   },
   {
    "duration": 11,
    "start_time": "2021-08-04T19:40:50.285Z"
   },
   {
    "duration": 59,
    "start_time": "2021-08-04T19:40:50.297Z"
   },
   {
    "duration": 72,
    "start_time": "2021-08-04T19:40:50.358Z"
   },
   {
    "duration": 257,
    "start_time": "2021-08-04T19:40:50.431Z"
   },
   {
    "duration": -1596,
    "start_time": "2021-08-04T19:40:52.286Z"
   },
   {
    "duration": -1614,
    "start_time": "2021-08-04T19:40:52.305Z"
   },
   {
    "duration": -1628,
    "start_time": "2021-08-04T19:40:52.320Z"
   },
   {
    "duration": -1645,
    "start_time": "2021-08-04T19:40:52.339Z"
   },
   {
    "duration": -1658,
    "start_time": "2021-08-04T19:40:52.353Z"
   },
   {
    "duration": -1709,
    "start_time": "2021-08-04T19:40:52.405Z"
   },
   {
    "duration": -1729,
    "start_time": "2021-08-04T19:40:52.426Z"
   },
   {
    "duration": -1745,
    "start_time": "2021-08-04T19:40:52.443Z"
   },
   {
    "duration": -1761,
    "start_time": "2021-08-04T19:40:52.460Z"
   },
   {
    "duration": -1775,
    "start_time": "2021-08-04T19:40:52.475Z"
   },
   {
    "duration": -1789,
    "start_time": "2021-08-04T19:40:52.490Z"
   },
   {
    "duration": -1835,
    "start_time": "2021-08-04T19:40:52.537Z"
   },
   {
    "duration": -1862,
    "start_time": "2021-08-04T19:40:52.565Z"
   },
   {
    "duration": -1878,
    "start_time": "2021-08-04T19:40:52.582Z"
   },
   {
    "duration": -1896,
    "start_time": "2021-08-04T19:40:52.601Z"
   },
   {
    "duration": -1914,
    "start_time": "2021-08-04T19:40:52.620Z"
   },
   {
    "duration": -1960,
    "start_time": "2021-08-04T19:40:52.667Z"
   },
   {
    "duration": -1984,
    "start_time": "2021-08-04T19:40:52.692Z"
   },
   {
    "duration": -2004,
    "start_time": "2021-08-04T19:40:52.713Z"
   },
   {
    "duration": -2023,
    "start_time": "2021-08-04T19:40:52.733Z"
   },
   {
    "duration": -2045,
    "start_time": "2021-08-04T19:40:52.756Z"
   },
   {
    "duration": -2113,
    "start_time": "2021-08-04T19:40:52.825Z"
   },
   {
    "duration": -2023,
    "start_time": "2021-08-04T19:40:52.847Z"
   },
   {
    "duration": -2036,
    "start_time": "2021-08-04T19:40:52.861Z"
   },
   {
    "duration": -2050,
    "start_time": "2021-08-04T19:40:52.876Z"
   },
   {
    "duration": -2072,
    "start_time": "2021-08-04T19:40:52.899Z"
   },
   {
    "duration": -2124,
    "start_time": "2021-08-04T19:40:52.952Z"
   },
   {
    "duration": -2149,
    "start_time": "2021-08-04T19:40:52.978Z"
   },
   {
    "duration": -2162,
    "start_time": "2021-08-04T19:40:52.994Z"
   },
   {
    "duration": -2182,
    "start_time": "2021-08-04T19:40:53.015Z"
   },
   {
    "duration": -2198,
    "start_time": "2021-08-04T19:40:53.032Z"
   },
   {
    "duration": -2249,
    "start_time": "2021-08-04T19:40:53.084Z"
   },
   {
    "duration": -2299,
    "start_time": "2021-08-04T19:40:53.135Z"
   },
   {
    "duration": -2316,
    "start_time": "2021-08-04T19:40:53.153Z"
   },
   {
    "duration": -2330,
    "start_time": "2021-08-04T19:40:53.168Z"
   },
   {
    "duration": -2379,
    "start_time": "2021-08-04T19:40:53.219Z"
   },
   {
    "duration": -2497,
    "start_time": "2021-08-04T19:40:53.338Z"
   },
   {
    "duration": -2555,
    "start_time": "2021-08-04T19:40:53.439Z"
   },
   {
    "duration": -2574,
    "start_time": "2021-08-04T19:40:53.459Z"
   },
   {
    "duration": -2589,
    "start_time": "2021-08-04T19:40:53.476Z"
   },
   {
    "duration": -2606,
    "start_time": "2021-08-04T19:40:53.494Z"
   },
   {
    "duration": -2621,
    "start_time": "2021-08-04T19:40:53.510Z"
   },
   {
    "duration": -2636,
    "start_time": "2021-08-04T19:40:53.526Z"
   },
   {
    "duration": -2694,
    "start_time": "2021-08-04T19:40:53.585Z"
   },
   {
    "duration": 1339,
    "start_time": "2021-08-05T06:40:46.882Z"
   },
   {
    "duration": 6127,
    "start_time": "2021-08-05T06:40:50.644Z"
   },
   {
    "duration": 236,
    "start_time": "2021-08-05T06:40:59.367Z"
   },
   {
    "duration": 239,
    "start_time": "2021-08-05T06:41:06.540Z"
   },
   {
    "duration": 2380,
    "start_time": "2021-08-05T06:41:11.717Z"
   },
   {
    "duration": 253,
    "start_time": "2021-08-05T06:41:17.479Z"
   },
   {
    "duration": 2430,
    "start_time": "2021-08-05T06:41:44.430Z"
   },
   {
    "duration": 279,
    "start_time": "2021-08-05T06:41:46.862Z"
   },
   {
    "duration": -58,
    "start_time": "2021-08-05T06:41:47.203Z"
   },
   {
    "duration": -62,
    "start_time": "2021-08-05T06:41:47.208Z"
   },
   {
    "duration": -71,
    "start_time": "2021-08-05T06:41:47.218Z"
   },
   {
    "duration": -72,
    "start_time": "2021-08-05T06:41:47.220Z"
   },
   {
    "duration": -84,
    "start_time": "2021-08-05T06:41:47.232Z"
   },
   {
    "duration": -86,
    "start_time": "2021-08-05T06:41:47.235Z"
   },
   {
    "duration": -87,
    "start_time": "2021-08-05T06:41:47.237Z"
   },
   {
    "duration": -88,
    "start_time": "2021-08-05T06:41:47.239Z"
   },
   {
    "duration": -96,
    "start_time": "2021-08-05T06:41:47.248Z"
   },
   {
    "duration": -98,
    "start_time": "2021-08-05T06:41:47.251Z"
   },
   {
    "duration": -100,
    "start_time": "2021-08-05T06:41:47.254Z"
   },
   {
    "duration": -102,
    "start_time": "2021-08-05T06:41:47.257Z"
   },
   {
    "duration": -109,
    "start_time": "2021-08-05T06:41:47.265Z"
   },
   {
    "duration": -111,
    "start_time": "2021-08-05T06:41:47.268Z"
   },
   {
    "duration": -112,
    "start_time": "2021-08-05T06:41:47.270Z"
   },
   {
    "duration": -115,
    "start_time": "2021-08-05T06:41:47.274Z"
   },
   {
    "duration": -125,
    "start_time": "2021-08-05T06:41:47.284Z"
   },
   {
    "duration": -127,
    "start_time": "2021-08-05T06:41:47.287Z"
   },
   {
    "duration": -129,
    "start_time": "2021-08-05T06:41:47.290Z"
   },
   {
    "duration": -137,
    "start_time": "2021-08-05T06:41:47.299Z"
   },
   {
    "duration": -140,
    "start_time": "2021-08-05T06:41:47.303Z"
   },
   {
    "duration": -141,
    "start_time": "2021-08-05T06:41:47.305Z"
   },
   {
    "duration": -147,
    "start_time": "2021-08-05T06:41:47.312Z"
   },
   {
    "duration": -149,
    "start_time": "2021-08-05T06:41:47.315Z"
   },
   {
    "duration": -150,
    "start_time": "2021-08-05T06:41:47.317Z"
   },
   {
    "duration": -151,
    "start_time": "2021-08-05T06:41:47.319Z"
   },
   {
    "duration": -153,
    "start_time": "2021-08-05T06:41:47.321Z"
   },
   {
    "duration": -155,
    "start_time": "2021-08-05T06:41:47.324Z"
   },
   {
    "duration": -162,
    "start_time": "2021-08-05T06:41:47.332Z"
   },
   {
    "duration": -164,
    "start_time": "2021-08-05T06:41:47.335Z"
   },
   {
    "duration": -165,
    "start_time": "2021-08-05T06:41:47.337Z"
   },
   {
    "duration": -167,
    "start_time": "2021-08-05T06:41:47.340Z"
   },
   {
    "duration": -175,
    "start_time": "2021-08-05T06:41:47.349Z"
   },
   {
    "duration": -176,
    "start_time": "2021-08-05T06:41:47.351Z"
   },
   {
    "duration": -179,
    "start_time": "2021-08-05T06:41:47.354Z"
   },
   {
    "duration": -181,
    "start_time": "2021-08-05T06:41:47.357Z"
   },
   {
    "duration": -189,
    "start_time": "2021-08-05T06:41:47.366Z"
   },
   {
    "duration": -191,
    "start_time": "2021-08-05T06:41:47.369Z"
   },
   {
    "duration": -192,
    "start_time": "2021-08-05T06:41:47.371Z"
   },
   {
    "duration": -199,
    "start_time": "2021-08-05T06:41:47.379Z"
   },
   {
    "duration": -202,
    "start_time": "2021-08-05T06:41:47.383Z"
   },
   {
    "duration": -205,
    "start_time": "2021-08-05T06:41:47.386Z"
   },
   {
    "duration": -206,
    "start_time": "2021-08-05T06:41:47.388Z"
   },
   {
    "duration": -218,
    "start_time": "2021-08-05T06:41:47.401Z"
   },
   {
    "duration": -220,
    "start_time": "2021-08-05T06:41:47.404Z"
   },
   {
    "duration": -223,
    "start_time": "2021-08-05T06:41:47.407Z"
   },
   {
    "duration": -230,
    "start_time": "2021-08-05T06:41:47.415Z"
   },
   {
    "duration": -233,
    "start_time": "2021-08-05T06:41:47.418Z"
   },
   {
    "duration": -235,
    "start_time": "2021-08-05T06:41:47.421Z"
   },
   {
    "duration": -234,
    "start_time": "2021-08-05T06:41:47.424Z"
   },
   {
    "duration": -241,
    "start_time": "2021-08-05T06:41:47.432Z"
   },
   {
    "duration": -243,
    "start_time": "2021-08-05T06:41:47.435Z"
   },
   {
    "duration": -244,
    "start_time": "2021-08-05T06:41:47.437Z"
   },
   {
    "duration": -246,
    "start_time": "2021-08-05T06:41:47.439Z"
   },
   {
    "duration": -252,
    "start_time": "2021-08-05T06:41:47.446Z"
   },
   {
    "duration": -255,
    "start_time": "2021-08-05T06:41:47.450Z"
   },
   {
    "duration": -256,
    "start_time": "2021-08-05T06:41:47.452Z"
   },
   {
    "duration": -257,
    "start_time": "2021-08-05T06:41:47.454Z"
   },
   {
    "duration": -259,
    "start_time": "2021-08-05T06:41:47.457Z"
   },
   {
    "duration": -267,
    "start_time": "2021-08-05T06:41:47.466Z"
   },
   {
    "duration": -269,
    "start_time": "2021-08-05T06:41:47.469Z"
   },
   {
    "duration": -270,
    "start_time": "2021-08-05T06:41:47.471Z"
   },
   {
    "duration": -271,
    "start_time": "2021-08-05T06:41:47.473Z"
   },
   {
    "duration": -277,
    "start_time": "2021-08-05T06:41:47.479Z"
   },
   {
    "duration": 2771,
    "start_time": "2021-08-05T06:42:05.251Z"
   },
   {
    "duration": 2390,
    "start_time": "2021-08-05T06:42:32.186Z"
   },
   {
    "duration": 1599,
    "start_time": "2021-08-05T06:42:34.579Z"
   },
   {
    "duration": 663,
    "start_time": "2021-08-05T06:42:36.180Z"
   },
   {
    "duration": 2,
    "start_time": "2021-08-05T06:42:36.844Z"
   },
   {
    "duration": 21,
    "start_time": "2021-08-05T06:42:36.847Z"
   },
   {
    "duration": 54,
    "start_time": "2021-08-05T06:42:36.869Z"
   },
   {
    "duration": 3,
    "start_time": "2021-08-05T06:42:36.925Z"
   },
   {
    "duration": 411,
    "start_time": "2021-08-05T06:42:36.930Z"
   },
   {
    "duration": 12,
    "start_time": "2021-08-05T06:42:37.343Z"
   },
   {
    "duration": 4,
    "start_time": "2021-08-05T06:42:37.356Z"
   },
   {
    "duration": 4,
    "start_time": "2021-08-05T06:42:37.361Z"
   },
   {
    "duration": 24,
    "start_time": "2021-08-05T06:42:37.367Z"
   },
   {
    "duration": 2,
    "start_time": "2021-08-05T06:42:37.393Z"
   },
   {
    "duration": 11083,
    "start_time": "2021-08-05T06:42:37.396Z"
   },
   {
    "duration": 16,
    "start_time": "2021-08-05T06:42:48.480Z"
   },
   {
    "duration": 10,
    "start_time": "2021-08-05T06:42:48.497Z"
   },
   {
    "duration": 19255,
    "start_time": "2021-08-05T06:42:48.508Z"
   },
   {
    "duration": 9,
    "start_time": "2021-08-05T06:43:07.765Z"
   },
   {
    "duration": 21,
    "start_time": "2021-08-05T06:43:07.775Z"
   },
   {
    "duration": 58,
    "start_time": "2021-08-05T06:43:07.798Z"
   },
   {
    "duration": 56,
    "start_time": "2021-08-05T06:43:07.857Z"
   },
   {
    "duration": 343,
    "start_time": "2021-08-05T06:43:07.915Z"
   },
   {
    "duration": -38,
    "start_time": "2021-08-05T06:43:08.358Z"
   },
   {
    "duration": -48,
    "start_time": "2021-08-05T06:43:08.369Z"
   },
   {
    "duration": -50,
    "start_time": "2021-08-05T06:43:08.372Z"
   },
   {
    "duration": -59,
    "start_time": "2021-08-05T06:43:08.382Z"
   },
   {
    "duration": -60,
    "start_time": "2021-08-05T06:43:08.384Z"
   },
   {
    "duration": -62,
    "start_time": "2021-08-05T06:43:08.387Z"
   },
   {
    "duration": -65,
    "start_time": "2021-08-05T06:43:08.390Z"
   },
   {
    "duration": -72,
    "start_time": "2021-08-05T06:43:08.399Z"
   },
   {
    "duration": -75,
    "start_time": "2021-08-05T06:43:08.402Z"
   },
   {
    "duration": -77,
    "start_time": "2021-08-05T06:43:08.405Z"
   },
   {
    "duration": -86,
    "start_time": "2021-08-05T06:43:08.415Z"
   },
   {
    "duration": -88,
    "start_time": "2021-08-05T06:43:08.418Z"
   },
   {
    "duration": -89,
    "start_time": "2021-08-05T06:43:08.420Z"
   },
   {
    "duration": -95,
    "start_time": "2021-08-05T06:43:08.427Z"
   },
   {
    "duration": -98,
    "start_time": "2021-08-05T06:43:08.431Z"
   },
   {
    "duration": -100,
    "start_time": "2021-08-05T06:43:08.434Z"
   },
   {
    "duration": -101,
    "start_time": "2021-08-05T06:43:08.436Z"
   },
   {
    "duration": -102,
    "start_time": "2021-08-05T06:43:08.438Z"
   },
   {
    "duration": -111,
    "start_time": "2021-08-05T06:43:08.448Z"
   },
   {
    "duration": -113,
    "start_time": "2021-08-05T06:43:08.451Z"
   },
   {
    "duration": -114,
    "start_time": "2021-08-05T06:43:08.453Z"
   },
   {
    "duration": -122,
    "start_time": "2021-08-05T06:43:08.463Z"
   },
   {
    "duration": -123,
    "start_time": "2021-08-05T06:43:08.465Z"
   },
   {
    "duration": -136,
    "start_time": "2021-08-05T06:43:08.479Z"
   },
   {
    "duration": -138,
    "start_time": "2021-08-05T06:43:08.482Z"
   },
   {
    "duration": -139,
    "start_time": "2021-08-05T06:43:08.484Z"
   },
   {
    "duration": -140,
    "start_time": "2021-08-05T06:43:08.486Z"
   },
   {
    "duration": -142,
    "start_time": "2021-08-05T06:43:08.488Z"
   },
   {
    "duration": -149,
    "start_time": "2021-08-05T06:43:08.496Z"
   },
   {
    "duration": -151,
    "start_time": "2021-08-05T06:43:08.499Z"
   },
   {
    "duration": -153,
    "start_time": "2021-08-05T06:43:08.501Z"
   },
   {
    "duration": -154,
    "start_time": "2021-08-05T06:43:08.503Z"
   },
   {
    "duration": -155,
    "start_time": "2021-08-05T06:43:08.505Z"
   },
   {
    "duration": -125,
    "start_time": "2021-08-05T06:43:08.516Z"
   },
   {
    "duration": -126,
    "start_time": "2021-08-05T06:43:08.518Z"
   },
   {
    "duration": -127,
    "start_time": "2021-08-05T06:43:08.520Z"
   },
   {
    "duration": -136,
    "start_time": "2021-08-05T06:43:08.529Z"
   },
   {
    "duration": -138,
    "start_time": "2021-08-05T06:43:08.532Z"
   },
   {
    "duration": -139,
    "start_time": "2021-08-05T06:43:08.534Z"
   },
   {
    "duration": -139,
    "start_time": "2021-08-05T06:43:08.535Z"
   },
   {
    "duration": -147,
    "start_time": "2021-08-05T06:43:08.544Z"
   },
   {
    "duration": -151,
    "start_time": "2021-08-05T06:43:08.548Z"
   },
   {
    "duration": -152,
    "start_time": "2021-08-05T06:43:08.550Z"
   },
   {
    "duration": -153,
    "start_time": "2021-08-05T06:43:08.552Z"
   },
   {
    "duration": 298,
    "start_time": "2021-08-05T07:10:28.701Z"
   },
   {
    "duration": 9,
    "start_time": "2021-08-05T07:11:10.313Z"
   },
   {
    "duration": 7,
    "start_time": "2021-08-05T07:11:13.830Z"
   },
   {
    "duration": 8,
    "start_time": "2021-08-05T07:11:17.726Z"
   },
   {
    "duration": 11199,
    "start_time": "2021-08-05T07:11:27.945Z"
   },
   {
    "duration": 9,
    "start_time": "2021-08-05T07:23:10.955Z"
   },
   {
    "duration": 11,
    "start_time": "2021-08-05T07:23:12.098Z"
   },
   {
    "duration": 45,
    "start_time": "2021-08-05T07:23:14.204Z"
   },
   {
    "duration": 8,
    "start_time": "2021-08-05T07:23:15.979Z"
   },
   {
    "duration": 6022,
    "start_time": "2021-08-05T07:23:16.756Z"
   },
   {
    "duration": -80,
    "start_time": "2021-08-05T07:23:22.860Z"
   },
   {
    "duration": 5779,
    "start_time": "2021-08-05T07:23:54.710Z"
   },
   {
    "duration": 5542,
    "start_time": "2021-08-05T07:26:19.230Z"
   },
   {
    "duration": 9,
    "start_time": "2021-08-05T07:26:34.763Z"
   },
   {
    "duration": 24,
    "start_time": "2021-08-05T07:26:36.907Z"
   },
   {
    "duration": 6,
    "start_time": "2021-08-05T07:26:39.390Z"
   },
   {
    "duration": 5733,
    "start_time": "2021-08-05T07:26:40.594Z"
   },
   {
    "duration": 2377,
    "start_time": "2021-08-05T07:26:55.987Z"
   },
   {
    "duration": 1502,
    "start_time": "2021-08-05T07:26:58.367Z"
   },
   {
    "duration": 672,
    "start_time": "2021-08-05T07:26:59.871Z"
   },
   {
    "duration": 2,
    "start_time": "2021-08-05T07:27:00.545Z"
   },
   {
    "duration": 21,
    "start_time": "2021-08-05T07:27:00.549Z"
   },
   {
    "duration": 59,
    "start_time": "2021-08-05T07:27:00.571Z"
   },
   {
    "duration": 3,
    "start_time": "2021-08-05T07:27:00.632Z"
   },
   {
    "duration": 424,
    "start_time": "2021-08-05T07:27:00.637Z"
   },
   {
    "duration": 13,
    "start_time": "2021-08-05T07:27:01.063Z"
   },
   {
    "duration": 14,
    "start_time": "2021-08-05T07:27:01.078Z"
   },
   {
    "duration": 7,
    "start_time": "2021-08-05T07:27:01.093Z"
   },
   {
    "duration": 14,
    "start_time": "2021-08-05T07:27:01.101Z"
   },
   {
    "duration": 12,
    "start_time": "2021-08-05T07:27:01.116Z"
   },
   {
    "duration": 282,
    "start_time": "2021-08-05T07:27:01.130Z"
   },
   {
    "duration": 11,
    "start_time": "2021-08-05T07:27:01.414Z"
   },
   {
    "duration": 17,
    "start_time": "2021-08-05T07:27:01.427Z"
   },
   {
    "duration": 34,
    "start_time": "2021-08-05T07:27:01.446Z"
   },
   {
    "duration": 11587,
    "start_time": "2021-08-05T07:27:01.483Z"
   },
   {
    "duration": 8,
    "start_time": "2021-08-05T07:27:13.071Z"
   },
   {
    "duration": 19,
    "start_time": "2021-08-05T07:27:13.080Z"
   },
   {
    "duration": 257,
    "start_time": "2021-08-05T07:27:13.101Z"
   },
   {
    "duration": 6,
    "start_time": "2021-08-05T07:27:13.360Z"
   },
   {
    "duration": 22,
    "start_time": "2021-08-05T07:27:13.370Z"
   },
   {
    "duration": 15761,
    "start_time": "2021-08-05T07:27:13.395Z"
   },
   {
    "duration": 11,
    "start_time": "2021-08-05T07:27:29.157Z"
   },
   {
    "duration": 22,
    "start_time": "2021-08-05T07:27:29.169Z"
   },
   {
    "duration": 4,
    "start_time": "2021-08-05T07:27:29.193Z"
   },
   {
    "duration": 51,
    "start_time": "2021-08-05T07:27:29.198Z"
   },
   {
    "duration": 317,
    "start_time": "2021-08-05T07:27:29.251Z"
   },
   {
    "duration": -56,
    "start_time": "2021-08-05T07:27:29.626Z"
   },
   {
    "duration": -62,
    "start_time": "2021-08-05T07:27:29.632Z"
   },
   {
    "duration": -69,
    "start_time": "2021-08-05T07:27:29.640Z"
   },
   {
    "duration": -72,
    "start_time": "2021-08-05T07:27:29.644Z"
   },
   {
    "duration": -75,
    "start_time": "2021-08-05T07:27:29.648Z"
   },
   {
    "duration": -80,
    "start_time": "2021-08-05T07:27:29.654Z"
   },
   {
    "duration": -84,
    "start_time": "2021-08-05T07:27:29.659Z"
   },
   {
    "duration": -87,
    "start_time": "2021-08-05T07:27:29.663Z"
   },
   {
    "duration": -89,
    "start_time": "2021-08-05T07:27:29.666Z"
   },
   {
    "duration": -96,
    "start_time": "2021-08-05T07:27:29.674Z"
   },
   {
    "duration": -98,
    "start_time": "2021-08-05T07:27:29.677Z"
   },
   {
    "duration": -101,
    "start_time": "2021-08-05T07:27:29.680Z"
   },
   {
    "duration": -103,
    "start_time": "2021-08-05T07:27:29.683Z"
   },
   {
    "duration": -107,
    "start_time": "2021-08-05T07:27:29.688Z"
   },
   {
    "duration": -110,
    "start_time": "2021-08-05T07:27:29.692Z"
   },
   {
    "duration": -113,
    "start_time": "2021-08-05T07:27:29.696Z"
   },
   {
    "duration": -117,
    "start_time": "2021-08-05T07:27:29.700Z"
   },
   {
    "duration": -122,
    "start_time": "2021-08-05T07:27:29.706Z"
   },
   {
    "duration": -125,
    "start_time": "2021-08-05T07:27:29.710Z"
   },
   {
    "duration": -127,
    "start_time": "2021-08-05T07:27:29.713Z"
   },
   {
    "duration": -130,
    "start_time": "2021-08-05T07:27:29.716Z"
   },
   {
    "duration": -133,
    "start_time": "2021-08-05T07:27:29.720Z"
   },
   {
    "duration": -137,
    "start_time": "2021-08-05T07:27:29.725Z"
   },
   {
    "duration": -140,
    "start_time": "2021-08-05T07:27:29.729Z"
   },
   {
    "duration": -142,
    "start_time": "2021-08-05T07:27:29.732Z"
   },
   {
    "duration": -144,
    "start_time": "2021-08-05T07:27:29.735Z"
   },
   {
    "duration": -147,
    "start_time": "2021-08-05T07:27:29.739Z"
   },
   {
    "duration": -148,
    "start_time": "2021-08-05T07:27:29.741Z"
   },
   {
    "duration": -150,
    "start_time": "2021-08-05T07:27:29.744Z"
   },
   {
    "duration": -151,
    "start_time": "2021-08-05T07:27:29.746Z"
   },
   {
    "duration": -153,
    "start_time": "2021-08-05T07:27:29.749Z"
   },
   {
    "duration": -156,
    "start_time": "2021-08-05T07:27:29.753Z"
   },
   {
    "duration": -161,
    "start_time": "2021-08-05T07:27:29.758Z"
   },
   {
    "duration": -163,
    "start_time": "2021-08-05T07:27:29.761Z"
   },
   {
    "duration": -165,
    "start_time": "2021-08-05T07:27:29.764Z"
   },
   {
    "duration": -168,
    "start_time": "2021-08-05T07:27:29.768Z"
   },
   {
    "duration": -172,
    "start_time": "2021-08-05T07:27:29.773Z"
   },
   {
    "duration": -174,
    "start_time": "2021-08-05T07:27:29.776Z"
   },
   {
    "duration": -177,
    "start_time": "2021-08-05T07:27:29.779Z"
   },
   {
    "duration": -179,
    "start_time": "2021-08-05T07:27:29.782Z"
   },
   {
    "duration": -184,
    "start_time": "2021-08-05T07:27:29.787Z"
   },
   {
    "duration": -187,
    "start_time": "2021-08-05T07:27:29.791Z"
   },
   {
    "duration": -190,
    "start_time": "2021-08-05T07:27:29.795Z"
   },
   {
    "duration": -193,
    "start_time": "2021-08-05T07:27:29.798Z"
   },
   {
    "duration": 14,
    "start_time": "2021-08-05T10:00:46.151Z"
   },
   {
    "duration": 464,
    "start_time": "2021-08-05T10:01:10.160Z"
   },
   {
    "duration": 260,
    "start_time": "2021-08-05T13:10:19.303Z"
   },
   {
    "duration": 225,
    "start_time": "2021-08-05T13:10:52.668Z"
   },
   {
    "duration": 4,
    "start_time": "2021-08-05T13:15:47.942Z"
   },
   {
    "duration": 242,
    "start_time": "2021-08-05T13:15:57.468Z"
   },
   {
    "duration": 354,
    "start_time": "2021-08-05T13:16:16.759Z"
   },
   {
    "duration": 21,
    "start_time": "2021-08-05T13:17:03.441Z"
   },
   {
    "duration": 12,
    "start_time": "2021-08-05T13:17:15.244Z"
   },
   {
    "duration": 16,
    "start_time": "2021-08-05T13:17:17.630Z"
   },
   {
    "duration": 14,
    "start_time": "2021-08-05T13:17:24.915Z"
   },
   {
    "duration": 14,
    "start_time": "2021-08-05T13:17:31.821Z"
   },
   {
    "duration": 15,
    "start_time": "2021-08-05T13:17:44.971Z"
   },
   {
    "duration": 235,
    "start_time": "2021-08-05T13:19:07.685Z"
   },
   {
    "duration": 8,
    "start_time": "2021-08-05T13:19:32.824Z"
   },
   {
    "duration": 2444,
    "start_time": "2021-08-05T13:19:42.400Z"
   },
   {
    "duration": 1443,
    "start_time": "2021-08-05T13:19:44.846Z"
   },
   {
    "duration": 671,
    "start_time": "2021-08-05T13:19:46.291Z"
   },
   {
    "duration": 2,
    "start_time": "2021-08-05T13:19:46.964Z"
   },
   {
    "duration": 25,
    "start_time": "2021-08-05T13:19:46.967Z"
   },
   {
    "duration": 51,
    "start_time": "2021-08-05T13:19:46.993Z"
   },
   {
    "duration": 3,
    "start_time": "2021-08-05T13:19:47.045Z"
   },
   {
    "duration": 416,
    "start_time": "2021-08-05T13:19:47.050Z"
   },
   {
    "duration": 12,
    "start_time": "2021-08-05T13:19:47.468Z"
   },
   {
    "duration": 11,
    "start_time": "2021-08-05T13:19:47.482Z"
   },
   {
    "duration": 4,
    "start_time": "2021-08-05T13:19:47.494Z"
   },
   {
    "duration": 10,
    "start_time": "2021-08-05T13:19:47.499Z"
   },
   {
    "duration": 5,
    "start_time": "2021-08-05T13:19:47.511Z"
   },
   {
    "duration": 264,
    "start_time": "2021-08-05T13:19:47.517Z"
   },
   {
    "duration": 9,
    "start_time": "2021-08-05T13:19:47.783Z"
   },
   {
    "duration": 6,
    "start_time": "2021-08-05T13:19:47.793Z"
   },
   {
    "duration": 9,
    "start_time": "2021-08-05T13:19:47.801Z"
   },
   {
    "duration": 10923,
    "start_time": "2021-08-05T13:19:47.811Z"
   },
   {
    "duration": 8,
    "start_time": "2021-08-05T13:19:58.736Z"
   },
   {
    "duration": 10,
    "start_time": "2021-08-05T13:19:58.745Z"
   },
   {
    "duration": 296,
    "start_time": "2021-08-05T13:19:58.757Z"
   },
   {
    "duration": 6,
    "start_time": "2021-08-05T13:19:59.055Z"
   },
   {
    "duration": 27,
    "start_time": "2021-08-05T13:19:59.064Z"
   },
   {
    "duration": 17950,
    "start_time": "2021-08-05T13:19:59.094Z"
   },
   {
    "duration": 9,
    "start_time": "2021-08-05T13:20:17.046Z"
   },
   {
    "duration": 11,
    "start_time": "2021-08-05T13:20:17.057Z"
   },
   {
    "duration": 4,
    "start_time": "2021-08-05T13:20:17.069Z"
   },
   {
    "duration": 65,
    "start_time": "2021-08-05T13:20:17.075Z"
   },
   {
    "duration": 15,
    "start_time": "2021-08-05T13:20:17.141Z"
   },
   {
    "duration": 470,
    "start_time": "2021-08-05T13:20:17.158Z"
   },
   {
    "duration": 289,
    "start_time": "2021-08-05T13:20:17.630Z"
   },
   {
    "duration": 3,
    "start_time": "2021-08-05T13:20:17.921Z"
   },
   {
    "duration": 359,
    "start_time": "2021-08-05T13:20:17.926Z"
   },
   {
    "duration": 19,
    "start_time": "2021-08-05T13:20:18.287Z"
   },
   {
    "duration": 22,
    "start_time": "2021-08-05T13:20:18.308Z"
   },
   {
    "duration": 16,
    "start_time": "2021-08-05T13:20:18.331Z"
   },
   {
    "duration": 13,
    "start_time": "2021-08-05T13:20:18.348Z"
   },
   {
    "duration": 30,
    "start_time": "2021-08-05T13:20:18.362Z"
   },
   {
    "duration": 13,
    "start_time": "2021-08-05T13:20:18.394Z"
   },
   {
    "duration": 242,
    "start_time": "2021-08-05T13:20:18.409Z"
   },
   {
    "duration": 7,
    "start_time": "2021-08-05T13:20:18.653Z"
   },
   {
    "duration": 68,
    "start_time": "2021-08-05T13:20:18.662Z"
   },
   {
    "duration": 235,
    "start_time": "2021-08-05T13:20:18.732Z"
   },
   {
    "duration": 2,
    "start_time": "2021-08-05T13:20:18.968Z"
   },
   {
    "duration": 55,
    "start_time": "2021-08-05T13:20:18.972Z"
   },
   {
    "duration": 9,
    "start_time": "2021-08-05T13:20:19.028Z"
   },
   {
    "duration": 18,
    "start_time": "2021-08-05T13:20:19.039Z"
   },
   {
    "duration": 39,
    "start_time": "2021-08-05T13:20:19.059Z"
   },
   {
    "duration": 16,
    "start_time": "2021-08-05T13:20:19.100Z"
   },
   {
    "duration": 9,
    "start_time": "2021-08-05T13:20:19.118Z"
   },
   {
    "duration": 72,
    "start_time": "2021-08-05T13:20:19.129Z"
   },
   {
    "duration": 18,
    "start_time": "2021-08-05T13:20:19.203Z"
   },
   {
    "duration": 6,
    "start_time": "2021-08-05T13:20:19.223Z"
   },
   {
    "duration": 10,
    "start_time": "2021-08-05T13:20:19.231Z"
   },
   {
    "duration": 13,
    "start_time": "2021-08-05T13:20:19.242Z"
   },
   {
    "duration": 3,
    "start_time": "2021-08-05T13:20:19.256Z"
   },
   {
    "duration": 5,
    "start_time": "2021-08-05T13:20:19.260Z"
   },
   {
    "duration": 47,
    "start_time": "2021-08-05T13:20:19.266Z"
   },
   {
    "duration": 2,
    "start_time": "2021-08-05T13:20:19.315Z"
   },
   {
    "duration": 5,
    "start_time": "2021-08-05T13:20:19.319Z"
   },
   {
    "duration": 8,
    "start_time": "2021-08-05T13:20:19.325Z"
   },
   {
    "duration": 7,
    "start_time": "2021-08-05T13:20:19.335Z"
   },
   {
    "duration": 209783,
    "start_time": "2021-08-05T13:20:19.344Z"
   },
   {
    "duration": 3,
    "start_time": "2021-08-05T13:23:49.128Z"
   },
   {
    "duration": 15,
    "start_time": "2021-08-05T13:23:49.133Z"
   },
   {
    "duration": 2485,
    "start_time": "2021-08-05T13:26:30.512Z"
   },
   {
    "duration": 1567,
    "start_time": "2021-08-05T13:26:32.998Z"
   },
   {
    "duration": 656,
    "start_time": "2021-08-05T13:26:34.567Z"
   },
   {
    "duration": 2,
    "start_time": "2021-08-05T13:26:35.225Z"
   },
   {
    "duration": 19,
    "start_time": "2021-08-05T13:26:35.229Z"
   },
   {
    "duration": 58,
    "start_time": "2021-08-05T13:26:35.249Z"
   },
   {
    "duration": 2,
    "start_time": "2021-08-05T13:26:35.309Z"
   },
   {
    "duration": 12,
    "start_time": "2021-08-05T13:26:35.313Z"
   },
   {
    "duration": 14,
    "start_time": "2021-08-05T13:26:35.326Z"
   },
   {
    "duration": 5,
    "start_time": "2021-08-05T13:26:35.341Z"
   },
   {
    "duration": 7,
    "start_time": "2021-08-05T13:26:35.348Z"
   },
   {
    "duration": 6,
    "start_time": "2021-08-05T13:26:35.357Z"
   },
   {
    "duration": 28,
    "start_time": "2021-08-05T13:26:35.364Z"
   },
   {
    "duration": 4,
    "start_time": "2021-08-05T13:26:35.394Z"
   },
   {
    "duration": 257,
    "start_time": "2021-08-05T13:26:35.399Z"
   },
   {
    "duration": 9,
    "start_time": "2021-08-05T13:26:35.657Z"
   },
   {
    "duration": 7,
    "start_time": "2021-08-05T13:26:35.667Z"
   },
   {
    "duration": 22,
    "start_time": "2021-08-05T13:26:35.675Z"
   },
   {
    "duration": 10865,
    "start_time": "2021-08-05T13:26:35.699Z"
   },
   {
    "duration": 8,
    "start_time": "2021-08-05T13:26:46.566Z"
   },
   {
    "duration": 18,
    "start_time": "2021-08-05T13:26:46.575Z"
   },
   {
    "duration": 261,
    "start_time": "2021-08-05T13:26:46.594Z"
   },
   {
    "duration": 5,
    "start_time": "2021-08-05T13:26:46.859Z"
   },
   {
    "duration": 7,
    "start_time": "2021-08-05T13:26:46.866Z"
   },
   {
    "duration": 17458,
    "start_time": "2021-08-05T13:26:46.892Z"
   },
   {
    "duration": 9,
    "start_time": "2021-08-05T13:27:04.352Z"
   },
   {
    "duration": 11,
    "start_time": "2021-08-05T13:27:04.362Z"
   },
   {
    "duration": 4,
    "start_time": "2021-08-05T13:27:04.374Z"
   },
   {
    "duration": 55,
    "start_time": "2021-08-05T13:27:04.392Z"
   },
   {
    "duration": 14,
    "start_time": "2021-08-05T13:27:04.448Z"
   },
   {
    "duration": 489,
    "start_time": "2021-08-05T13:27:04.463Z"
   },
   {
    "duration": 263,
    "start_time": "2021-08-05T13:27:04.954Z"
   },
   {
    "duration": 4,
    "start_time": "2021-08-05T13:27:05.218Z"
   },
   {
    "duration": 364,
    "start_time": "2021-08-05T13:27:05.223Z"
   },
   {
    "duration": 20,
    "start_time": "2021-08-05T13:27:05.592Z"
   },
   {
    "duration": 18,
    "start_time": "2021-08-05T13:27:05.613Z"
   },
   {
    "duration": 16,
    "start_time": "2021-08-05T13:27:05.633Z"
   },
   {
    "duration": 13,
    "start_time": "2021-08-05T13:27:05.651Z"
   },
   {
    "duration": 33,
    "start_time": "2021-08-05T13:27:05.666Z"
   },
   {
    "duration": 13,
    "start_time": "2021-08-05T13:27:05.701Z"
   },
   {
    "duration": 256,
    "start_time": "2021-08-05T13:27:05.716Z"
   },
   {
    "duration": 17,
    "start_time": "2021-08-05T13:27:05.974Z"
   },
   {
    "duration": 53,
    "start_time": "2021-08-05T13:27:05.993Z"
   },
   {
    "duration": 244,
    "start_time": "2021-08-05T13:27:06.047Z"
   },
   {
    "duration": 2,
    "start_time": "2021-08-05T13:27:06.293Z"
   },
   {
    "duration": 49,
    "start_time": "2021-08-05T13:27:06.297Z"
   },
   {
    "duration": 9,
    "start_time": "2021-08-05T13:27:06.348Z"
   },
   {
    "duration": 36,
    "start_time": "2021-08-05T13:27:06.359Z"
   },
   {
    "duration": 24,
    "start_time": "2021-08-05T13:27:06.396Z"
   },
   {
    "duration": 21,
    "start_time": "2021-08-05T13:27:06.422Z"
   },
   {
    "duration": 12,
    "start_time": "2021-08-05T13:27:06.445Z"
   },
   {
    "duration": 74,
    "start_time": "2021-08-05T13:27:06.458Z"
   },
   {
    "duration": 16,
    "start_time": "2021-08-05T13:27:06.534Z"
   },
   {
    "duration": 6,
    "start_time": "2021-08-05T13:27:06.552Z"
   },
   {
    "duration": 8,
    "start_time": "2021-08-05T13:27:06.560Z"
   },
   {
    "duration": 27,
    "start_time": "2021-08-05T13:27:06.569Z"
   },
   {
    "duration": 3,
    "start_time": "2021-08-05T13:27:06.598Z"
   },
   {
    "duration": 6,
    "start_time": "2021-08-05T13:27:06.603Z"
   },
   {
    "duration": 29,
    "start_time": "2021-08-05T13:27:06.611Z"
   },
   {
    "duration": 3,
    "start_time": "2021-08-05T13:27:06.642Z"
   },
   {
    "duration": 6,
    "start_time": "2021-08-05T13:27:06.646Z"
   },
   {
    "duration": 7,
    "start_time": "2021-08-05T13:27:06.654Z"
   },
   {
    "duration": 8,
    "start_time": "2021-08-05T13:27:06.663Z"
   },
   {
    "duration": 210561,
    "start_time": "2021-08-05T13:27:06.672Z"
   },
   {
    "duration": 3,
    "start_time": "2021-08-05T13:30:37.235Z"
   },
   {
    "duration": 8,
    "start_time": "2021-08-05T13:30:37.240Z"
   },
   {
    "duration": 285797,
    "start_time": "2021-08-05T13:30:37.250Z"
   },
   {
    "duration": 3,
    "start_time": "2021-08-05T13:35:23.051Z"
   },
   {
    "duration": 6,
    "start_time": "2021-08-05T13:35:23.055Z"
   },
   {
    "duration": 6,
    "start_time": "2021-08-05T13:35:23.063Z"
   },
   {
    "duration": 2454,
    "start_time": "2021-08-05T13:44:06.119Z"
   },
   {
    "duration": 1660,
    "start_time": "2021-08-05T13:44:08.575Z"
   },
   {
    "duration": 660,
    "start_time": "2021-08-05T13:44:10.237Z"
   },
   {
    "duration": 16,
    "start_time": "2021-08-05T13:44:10.899Z"
   },
   {
    "duration": 14,
    "start_time": "2021-08-05T13:44:10.917Z"
   },
   {
    "duration": 71,
    "start_time": "2021-08-05T13:44:10.932Z"
   },
   {
    "duration": 3,
    "start_time": "2021-08-05T13:44:11.004Z"
   },
   {
    "duration": 533,
    "start_time": "2021-08-05T13:44:11.010Z"
   },
   {
    "duration": 11,
    "start_time": "2021-08-05T13:44:11.545Z"
   },
   {
    "duration": 8,
    "start_time": "2021-08-05T13:44:11.557Z"
   },
   {
    "duration": 5,
    "start_time": "2021-08-05T13:44:11.566Z"
   },
   {
    "duration": 20,
    "start_time": "2021-08-05T13:44:11.572Z"
   },
   {
    "duration": 8,
    "start_time": "2021-08-05T13:44:11.593Z"
   },
   {
    "duration": 11512,
    "start_time": "2021-08-05T13:44:11.603Z"
   },
   {
    "duration": 7,
    "start_time": "2021-08-05T13:44:23.117Z"
   },
   {
    "duration": 13,
    "start_time": "2021-08-05T13:44:23.126Z"
   },
   {
    "duration": 6,
    "start_time": "2021-08-05T13:44:23.141Z"
   },
   {
    "duration": 3,
    "start_time": "2021-08-05T13:44:23.149Z"
   },
   {
    "duration": 5,
    "start_time": "2021-08-05T13:44:23.153Z"
   },
   {
    "duration": 13,
    "start_time": "2021-08-05T13:44:23.160Z"
   },
   {
    "duration": 227,
    "start_time": "2021-08-05T13:44:23.191Z"
   },
   {
    "duration": 48,
    "start_time": "2021-08-05T13:44:23.419Z"
   },
   {
    "duration": 27,
    "start_time": "2021-08-05T13:44:23.471Z"
   },
   {
    "duration": 223,
    "start_time": "2021-08-05T13:44:23.501Z"
   },
   {
    "duration": 202,
    "start_time": "2021-08-05T13:44:23.726Z"
   },
   {
    "duration": 5,
    "start_time": "2021-08-05T13:44:23.930Z"
   },
   {
    "duration": 3792,
    "start_time": "2021-08-05T13:44:23.936Z"
   },
   {
    "duration": 8,
    "start_time": "2021-08-05T13:44:27.730Z"
   },
   {
    "duration": 1385,
    "start_time": "2021-08-05T13:44:27.740Z"
   },
   {
    "duration": 355,
    "start_time": "2021-08-05T13:44:29.126Z"
   },
   {
    "duration": -62,
    "start_time": "2021-08-05T13:44:29.545Z"
   },
   {
    "duration": -86,
    "start_time": "2021-08-05T13:44:29.570Z"
   },
   {
    "duration": -91,
    "start_time": "2021-08-05T13:44:29.576Z"
   },
   {
    "duration": -95,
    "start_time": "2021-08-05T13:44:29.581Z"
   },
   {
    "duration": -101,
    "start_time": "2021-08-05T13:44:29.587Z"
   },
   {
    "duration": -107,
    "start_time": "2021-08-05T13:44:29.594Z"
   },
   {
    "duration": -114,
    "start_time": "2021-08-05T13:44:29.602Z"
   },
   {
    "duration": -119,
    "start_time": "2021-08-05T13:44:29.608Z"
   },
   {
    "duration": -122,
    "start_time": "2021-08-05T13:44:29.612Z"
   },
   {
    "duration": -137,
    "start_time": "2021-08-05T13:44:29.628Z"
   },
   {
    "duration": -143,
    "start_time": "2021-08-05T13:44:29.635Z"
   },
   {
    "duration": -151,
    "start_time": "2021-08-05T13:44:29.644Z"
   },
   {
    "duration": -160,
    "start_time": "2021-08-05T13:44:29.654Z"
   },
   {
    "duration": -168,
    "start_time": "2021-08-05T13:44:29.663Z"
   },
   {
    "duration": -194,
    "start_time": "2021-08-05T13:44:29.690Z"
   },
   {
    "duration": -204,
    "start_time": "2021-08-05T13:44:29.701Z"
   },
   {
    "duration": -211,
    "start_time": "2021-08-05T13:44:29.709Z"
   },
   {
    "duration": -242,
    "start_time": "2021-08-05T13:44:29.741Z"
   },
   {
    "duration": -257,
    "start_time": "2021-08-05T13:44:29.756Z"
   },
   {
    "duration": -271,
    "start_time": "2021-08-05T13:44:29.771Z"
   },
   {
    "duration": -279,
    "start_time": "2021-08-05T13:44:29.781Z"
   },
   {
    "duration": -292,
    "start_time": "2021-08-05T13:44:29.795Z"
   },
   {
    "duration": -308,
    "start_time": "2021-08-05T13:44:29.812Z"
   },
   {
    "duration": -316,
    "start_time": "2021-08-05T13:44:29.821Z"
   },
   {
    "duration": 2,
    "start_time": "2021-08-05T14:02:33.226Z"
   },
   {
    "duration": 57,
    "start_time": "2021-08-05T14:02:33.866Z"
   },
   {
    "duration": 1195,
    "start_time": "2021-08-05T14:02:34.960Z"
   },
   {
    "duration": 225,
    "start_time": "2021-08-05T14:02:36.157Z"
   },
   {
    "duration": 2,
    "start_time": "2021-08-05T14:02:54.266Z"
   },
   {
    "duration": 11,
    "start_time": "2021-08-05T14:02:56.107Z"
   },
   {
    "duration": 5,
    "start_time": "2021-08-05T14:02:57.441Z"
   },
   {
    "duration": 3,
    "start_time": "2021-08-05T14:03:02.663Z"
   },
   {
    "duration": 2,
    "start_time": "2021-08-05T14:03:03.492Z"
   },
   {
    "duration": 3,
    "start_time": "2021-08-05T14:03:04.413Z"
   },
   {
    "duration": 3,
    "start_time": "2021-08-05T14:03:06.792Z"
   },
   {
    "duration": 3,
    "start_time": "2021-08-05T14:03:08.415Z"
   },
   {
    "duration": 3,
    "start_time": "2021-08-05T14:03:09.572Z"
   },
   {
    "duration": 343618,
    "start_time": "2021-08-05T14:03:10.948Z"
   },
   {
    "duration": 9,
    "start_time": "2021-08-05T14:09:17.043Z"
   },
   {
    "duration": 2,
    "start_time": "2021-08-05T14:09:19.243Z"
   },
   {
    "duration": 4,
    "start_time": "2021-08-05T14:09:21.020Z"
   },
   {
    "duration": 4,
    "start_time": "2021-08-05T14:09:24.002Z"
   },
   {
    "duration": 4,
    "start_time": "2021-08-05T14:09:25.675Z"
   },
   {
    "duration": 36,
    "start_time": "2021-08-05T14:09:26.768Z"
   },
   {
    "duration": 17,
    "start_time": "2021-08-05T14:09:27.841Z"
   },
   {
    "duration": 7,
    "start_time": "2021-08-05T14:09:30.696Z"
   },
   {
    "duration": 2,
    "start_time": "2021-08-05T14:09:32.206Z"
   },
   {
    "duration": 5,
    "start_time": "2021-08-05T14:09:33.733Z"
   },
   {
    "duration": 3,
    "start_time": "2021-08-05T14:09:34.558Z"
   },
   {
    "duration": 6,
    "start_time": "2021-08-05T14:09:35.499Z"
   },
   {
    "duration": 7160,
    "start_time": "2021-08-05T17:01:16.132Z"
   },
   {
    "duration": 1812,
    "start_time": "2021-08-05T17:01:23.294Z"
   },
   {
    "duration": 698,
    "start_time": "2021-08-05T17:01:25.108Z"
   },
   {
    "duration": 17,
    "start_time": "2021-08-05T17:01:25.808Z"
   },
   {
    "duration": 24,
    "start_time": "2021-08-05T17:01:25.827Z"
   },
   {
    "duration": 54,
    "start_time": "2021-08-05T17:01:25.853Z"
   },
   {
    "duration": 5,
    "start_time": "2021-08-05T17:01:25.909Z"
   },
   {
    "duration": 416,
    "start_time": "2021-08-05T17:01:25.942Z"
   },
   {
    "duration": 12,
    "start_time": "2021-08-05T17:01:26.360Z"
   },
   {
    "duration": 5,
    "start_time": "2021-08-05T17:01:26.374Z"
   },
   {
    "duration": 8,
    "start_time": "2021-08-05T17:01:26.380Z"
   },
   {
    "duration": 19,
    "start_time": "2021-08-05T17:01:26.389Z"
   },
   {
    "duration": 13,
    "start_time": "2021-08-05T17:01:26.409Z"
   },
   {
    "duration": 11484,
    "start_time": "2021-08-05T17:01:26.423Z"
   },
   {
    "duration": 7,
    "start_time": "2021-08-05T17:01:37.909Z"
   },
   {
    "duration": 23,
    "start_time": "2021-08-05T17:01:37.918Z"
   },
   {
    "duration": 9,
    "start_time": "2021-08-05T17:01:37.942Z"
   },
   {
    "duration": 6,
    "start_time": "2021-08-05T17:01:37.952Z"
   },
   {
    "duration": 8,
    "start_time": "2021-08-05T17:01:37.960Z"
   },
   {
    "duration": 9,
    "start_time": "2021-08-05T17:01:37.970Z"
   },
   {
    "duration": 291,
    "start_time": "2021-08-05T17:01:37.980Z"
   },
   {
    "duration": 50,
    "start_time": "2021-08-05T17:01:38.273Z"
   },
   {
    "duration": 11,
    "start_time": "2021-08-05T17:01:38.342Z"
   },
   {
    "duration": 214,
    "start_time": "2021-08-05T17:01:38.355Z"
   },
   {
    "duration": 205,
    "start_time": "2021-08-05T17:01:38.570Z"
   },
   {
    "duration": 5,
    "start_time": "2021-08-05T17:01:38.776Z"
   },
   {
    "duration": 3738,
    "start_time": "2021-08-05T17:01:38.782Z"
   },
   {
    "duration": 10,
    "start_time": "2021-08-05T17:01:42.522Z"
   },
   {
    "duration": 1227,
    "start_time": "2021-08-05T17:01:42.541Z"
   },
   {
    "duration": 2,
    "start_time": "2021-08-05T17:01:43.770Z"
   },
   {
    "duration": 75,
    "start_time": "2021-08-05T17:01:43.773Z"
   },
   {
    "duration": 1277,
    "start_time": "2021-08-05T17:01:43.849Z"
   },
   {
    "duration": 2,
    "start_time": "2021-08-05T17:01:45.128Z"
   },
   {
    "duration": 12,
    "start_time": "2021-08-05T17:01:45.140Z"
   },
   {
    "duration": 5,
    "start_time": "2021-08-05T17:01:45.153Z"
   },
   {
    "duration": 7,
    "start_time": "2021-08-05T17:01:45.160Z"
   },
   {
    "duration": 5,
    "start_time": "2021-08-05T17:01:45.169Z"
   },
   {
    "duration": 5,
    "start_time": "2021-08-05T17:01:45.175Z"
   },
   {
    "duration": 5,
    "start_time": "2021-08-05T17:01:45.181Z"
   },
   {
    "duration": 10,
    "start_time": "2021-08-05T17:01:45.187Z"
   },
   {
    "duration": 5,
    "start_time": "2021-08-05T17:01:45.199Z"
   },
   {
    "duration": 403298,
    "start_time": "2021-08-05T17:01:45.206Z"
   },
   {
    "duration": 10,
    "start_time": "2021-08-05T17:08:28.506Z"
   },
   {
    "duration": 8,
    "start_time": "2021-08-05T17:08:28.517Z"
   },
   {
    "duration": 18,
    "start_time": "2021-08-05T17:08:28.527Z"
   },
   {
    "duration": 10,
    "start_time": "2021-08-05T17:08:28.546Z"
   },
   {
    "duration": 9,
    "start_time": "2021-08-05T17:08:28.557Z"
   },
   {
    "duration": 42,
    "start_time": "2021-08-05T17:08:28.568Z"
   },
   {
    "duration": 52,
    "start_time": "2021-08-05T17:08:28.611Z"
   },
   {
    "duration": 7,
    "start_time": "2021-08-05T17:08:28.665Z"
   },
   {
    "duration": 11,
    "start_time": "2021-08-05T17:08:28.674Z"
   },
   {
    "duration": 17,
    "start_time": "2021-08-05T17:08:28.687Z"
   },
   {
    "duration": 12,
    "start_time": "2021-08-05T17:08:28.705Z"
   },
   {
    "duration": 28,
    "start_time": "2021-08-05T17:08:28.718Z"
   },
   {
    "duration": 5,
    "start_time": "2021-08-05T17:46:59.210Z"
   },
   {
    "duration": 524,
    "start_time": "2021-08-05T17:47:00.659Z"
   },
   {
    "duration": 424,
    "start_time": "2021-08-05T17:50:16.919Z"
   },
   {
    "duration": 378,
    "start_time": "2021-08-05T17:51:39.885Z"
   },
   {
    "duration": 230,
    "start_time": "2021-08-05T17:52:41.349Z"
   },
   {
    "duration": 228,
    "start_time": "2021-08-05T17:54:25.211Z"
   },
   {
    "duration": 2470,
    "start_time": "2021-08-05T17:55:13.758Z"
   },
   {
    "duration": 1820,
    "start_time": "2021-08-05T17:55:16.230Z"
   },
   {
    "duration": 693,
    "start_time": "2021-08-05T17:55:18.052Z"
   },
   {
    "duration": 18,
    "start_time": "2021-08-05T17:55:18.746Z"
   },
   {
    "duration": 14,
    "start_time": "2021-08-05T17:55:18.766Z"
   },
   {
    "duration": 73,
    "start_time": "2021-08-05T17:55:18.782Z"
   },
   {
    "duration": 3,
    "start_time": "2021-08-05T17:55:18.856Z"
   },
   {
    "duration": 402,
    "start_time": "2021-08-05T17:55:18.862Z"
   },
   {
    "duration": 10,
    "start_time": "2021-08-05T17:55:19.266Z"
   },
   {
    "duration": 8,
    "start_time": "2021-08-05T17:55:19.278Z"
   },
   {
    "duration": 4,
    "start_time": "2021-08-05T17:55:19.288Z"
   },
   {
    "duration": 10,
    "start_time": "2021-08-05T17:55:19.294Z"
   },
   {
    "duration": 13,
    "start_time": "2021-08-05T17:55:19.306Z"
   },
   {
    "duration": 12526,
    "start_time": "2021-08-05T17:55:19.321Z"
   },
   {
    "duration": 6,
    "start_time": "2021-08-05T17:55:31.849Z"
   },
   {
    "duration": 14,
    "start_time": "2021-08-05T17:55:31.857Z"
   },
   {
    "duration": 5,
    "start_time": "2021-08-05T17:55:31.873Z"
   },
   {
    "duration": 5,
    "start_time": "2021-08-05T17:55:31.880Z"
   },
   {
    "duration": 5,
    "start_time": "2021-08-05T17:55:31.887Z"
   },
   {
    "duration": 8,
    "start_time": "2021-08-05T17:55:31.893Z"
   },
   {
    "duration": 462,
    "start_time": "2021-08-05T17:55:31.902Z"
   },
   {
    "duration": 49,
    "start_time": "2021-08-05T17:55:32.366Z"
   },
   {
    "duration": 29,
    "start_time": "2021-08-05T17:55:32.419Z"
   },
   {
    "duration": 5,
    "start_time": "2021-08-05T17:55:32.452Z"
   },
   {
    "duration": 499,
    "start_time": "2021-08-05T17:55:32.459Z"
   },
   {
    "duration": 269,
    "start_time": "2021-08-05T17:55:32.960Z"
   },
   {
    "duration": 188,
    "start_time": "2021-08-05T17:55:33.231Z"
   },
   {
    "duration": 4,
    "start_time": "2021-08-05T17:55:33.421Z"
   },
   {
    "duration": 3663,
    "start_time": "2021-08-05T17:55:33.427Z"
   },
   {
    "duration": 9,
    "start_time": "2021-08-05T17:55:37.092Z"
   },
   {
    "duration": 248,
    "start_time": "2021-08-05T17:55:37.103Z"
   },
   {
    "duration": 1241,
    "start_time": "2021-08-05T17:55:37.353Z"
   },
   {
    "duration": 74,
    "start_time": "2021-08-05T17:55:38.596Z"
   },
   {
    "duration": 253,
    "start_time": "2021-08-05T17:55:38.672Z"
   },
   {
    "duration": 1334,
    "start_time": "2021-08-05T17:55:38.926Z"
   },
   {
    "duration": 12,
    "start_time": "2021-08-05T17:55:40.262Z"
   },
   {
    "duration": 5,
    "start_time": "2021-08-05T17:55:40.276Z"
   },
   {
    "duration": 8,
    "start_time": "2021-08-05T17:55:40.283Z"
   },
   {
    "duration": 5,
    "start_time": "2021-08-05T17:55:40.293Z"
   },
   {
    "duration": 4,
    "start_time": "2021-08-05T17:55:40.300Z"
   },
   {
    "duration": 5,
    "start_time": "2021-08-05T17:55:40.306Z"
   },
   {
    "duration": 5,
    "start_time": "2021-08-05T17:55:40.312Z"
   },
   {
    "duration": 5,
    "start_time": "2021-08-05T17:55:40.341Z"
   },
   {
    "duration": 377489,
    "start_time": "2021-08-05T17:55:40.347Z"
   },
   {
    "duration": 79,
    "start_time": "2021-08-05T18:01:57.838Z"
   },
   {
    "duration": -1390,
    "start_time": "2021-08-05T18:01:59.309Z"
   },
   {
    "duration": -1416,
    "start_time": "2021-08-05T18:01:59.336Z"
   },
   {
    "duration": -1442,
    "start_time": "2021-08-05T18:01:59.363Z"
   },
   {
    "duration": -1465,
    "start_time": "2021-08-05T18:01:59.387Z"
   },
   {
    "duration": -1544,
    "start_time": "2021-08-05T18:01:59.467Z"
   },
   {
    "duration": -1562,
    "start_time": "2021-08-05T18:01:59.486Z"
   },
   {
    "duration": -1578,
    "start_time": "2021-08-05T18:01:59.503Z"
   },
   {
    "duration": -1591,
    "start_time": "2021-08-05T18:01:59.517Z"
   },
   {
    "duration": -1607,
    "start_time": "2021-08-05T18:01:59.533Z"
   },
   {
    "duration": -1618,
    "start_time": "2021-08-05T18:01:59.545Z"
   },
   {
    "duration": -1629,
    "start_time": "2021-08-05T18:01:59.557Z"
   },
   {
    "duration": 10,
    "start_time": "2021-08-05T18:05:21.100Z"
   },
   {
    "duration": 3,
    "start_time": "2021-08-05T18:05:29.169Z"
   },
   {
    "duration": 5,
    "start_time": "2021-08-05T18:05:30.359Z"
   },
   {
    "duration": 4,
    "start_time": "2021-08-05T18:05:32.381Z"
   },
   {
    "duration": 4,
    "start_time": "2021-08-05T18:05:33.120Z"
   },
   {
    "duration": 35,
    "start_time": "2021-08-05T18:05:33.731Z"
   },
   {
    "duration": 18,
    "start_time": "2021-08-05T18:05:34.464Z"
   },
   {
    "duration": 7,
    "start_time": "2021-08-05T18:05:35.733Z"
   },
   {
    "duration": 4,
    "start_time": "2021-08-05T18:05:37.125Z"
   },
   {
    "duration": 6,
    "start_time": "2021-08-05T18:05:37.862Z"
   },
   {
    "duration": 4,
    "start_time": "2021-08-05T18:05:38.588Z"
   },
   {
    "duration": 7,
    "start_time": "2021-08-05T18:05:39.430Z"
   },
   {
    "duration": 11252,
    "start_time": "2021-08-06T17:38:18.170Z"
   },
   {
    "duration": 2121,
    "start_time": "2021-08-06T17:38:29.425Z"
   },
   {
    "duration": 916,
    "start_time": "2021-08-06T17:38:31.549Z"
   },
   {
    "duration": 34,
    "start_time": "2021-08-06T17:38:32.467Z"
   },
   {
    "duration": 24,
    "start_time": "2021-08-06T17:38:32.503Z"
   },
   {
    "duration": 114,
    "start_time": "2021-08-06T17:38:32.530Z"
   },
   {
    "duration": 5,
    "start_time": "2021-08-06T17:38:32.647Z"
   },
   {
    "duration": 716,
    "start_time": "2021-08-06T17:38:32.656Z"
   },
   {
    "duration": 24,
    "start_time": "2021-08-06T17:38:33.375Z"
   },
   {
    "duration": 7,
    "start_time": "2021-08-06T17:38:33.401Z"
   },
   {
    "duration": 17,
    "start_time": "2021-08-06T17:38:33.410Z"
   },
   {
    "duration": 12,
    "start_time": "2021-08-06T17:38:33.429Z"
   },
   {
    "duration": 14,
    "start_time": "2021-08-06T17:38:33.444Z"
   },
   {
    "duration": 14744,
    "start_time": "2021-08-06T17:38:33.487Z"
   },
   {
    "duration": 9,
    "start_time": "2021-08-06T17:38:48.233Z"
   },
   {
    "duration": 24,
    "start_time": "2021-08-06T17:38:48.244Z"
   },
   {
    "duration": 22,
    "start_time": "2021-08-06T17:38:48.271Z"
   },
   {
    "duration": 6,
    "start_time": "2021-08-06T17:38:48.296Z"
   },
   {
    "duration": 13,
    "start_time": "2021-08-06T17:38:48.304Z"
   },
   {
    "duration": 7,
    "start_time": "2021-08-06T17:38:48.320Z"
   },
   {
    "duration": 301,
    "start_time": "2021-08-06T17:38:48.330Z"
   },
   {
    "duration": 98,
    "start_time": "2021-08-06T17:38:48.634Z"
   },
   {
    "duration": 14,
    "start_time": "2021-08-06T17:38:48.738Z"
   },
   {
    "duration": 30,
    "start_time": "2021-08-06T17:38:48.755Z"
   },
   {
    "duration": 860,
    "start_time": "2021-08-06T17:38:48.788Z"
   },
   {
    "duration": 436,
    "start_time": "2021-08-06T17:38:49.650Z"
   },
   {
    "duration": 316,
    "start_time": "2021-08-06T17:38:50.088Z"
   },
   {
    "duration": 6,
    "start_time": "2021-08-06T17:38:50.407Z"
   },
   {
    "duration": 6940,
    "start_time": "2021-08-06T17:38:50.415Z"
   },
   {
    "duration": 15,
    "start_time": "2021-08-06T17:38:57.357Z"
   },
   {
    "duration": 440,
    "start_time": "2021-08-06T17:38:57.386Z"
   },
   {
    "duration": 2308,
    "start_time": "2021-08-06T17:38:57.829Z"
   },
   {
    "duration": 122,
    "start_time": "2021-08-06T17:39:00.140Z"
   },
   {
    "duration": 435,
    "start_time": "2021-08-06T17:39:00.265Z"
   },
   {
    "duration": 2417,
    "start_time": "2021-08-06T17:39:00.703Z"
   },
   {
    "duration": 17,
    "start_time": "2021-08-06T17:39:03.122Z"
   },
   {
    "duration": 19,
    "start_time": "2021-08-06T17:39:03.141Z"
   },
   {
    "duration": 23,
    "start_time": "2021-08-06T17:39:03.162Z"
   },
   {
    "duration": 19,
    "start_time": "2021-08-06T17:39:03.188Z"
   },
   {
    "duration": 19,
    "start_time": "2021-08-06T17:39:03.210Z"
   },
   {
    "duration": 12,
    "start_time": "2021-08-06T17:39:03.232Z"
   },
   {
    "duration": 29,
    "start_time": "2021-08-06T17:39:03.247Z"
   },
   {
    "duration": 17,
    "start_time": "2021-08-06T17:39:03.279Z"
   },
   {
    "duration": 498445,
    "start_time": "2021-08-06T17:39:03.298Z"
   },
   {
    "duration": 16,
    "start_time": "2021-08-06T17:47:21.745Z"
   },
   {
    "duration": 22,
    "start_time": "2021-08-06T17:47:21.763Z"
   },
   {
    "duration": 31,
    "start_time": "2021-08-06T17:47:21.788Z"
   },
   {
    "duration": 19,
    "start_time": "2021-08-06T17:47:21.821Z"
   },
   {
    "duration": 27,
    "start_time": "2021-08-06T17:47:21.842Z"
   },
   {
    "duration": 76,
    "start_time": "2021-08-06T17:47:21.872Z"
   },
   {
    "duration": 29,
    "start_time": "2021-08-06T17:47:21.950Z"
   },
   {
    "duration": 11,
    "start_time": "2021-08-06T17:47:21.981Z"
   },
   {
    "duration": 10,
    "start_time": "2021-08-06T17:47:21.995Z"
   },
   {
    "duration": 28,
    "start_time": "2021-08-06T17:47:22.008Z"
   },
   {
    "duration": 18,
    "start_time": "2021-08-06T17:47:22.039Z"
   },
   {
    "duration": 24,
    "start_time": "2021-08-06T17:47:22.060Z"
   },
   {
    "duration": 3783,
    "start_time": "2021-08-06T18:00:37.664Z"
   },
   {
    "duration": 2365,
    "start_time": "2021-08-06T18:00:41.450Z"
   },
   {
    "duration": 924,
    "start_time": "2021-08-06T18:00:43.819Z"
   },
   {
    "duration": 3,
    "start_time": "2021-08-06T18:00:44.746Z"
   },
   {
    "duration": 44,
    "start_time": "2021-08-06T18:00:44.752Z"
   },
   {
    "duration": 101,
    "start_time": "2021-08-06T18:00:44.798Z"
   },
   {
    "duration": 5,
    "start_time": "2021-08-06T18:00:44.902Z"
   },
   {
    "duration": 713,
    "start_time": "2021-08-06T18:00:44.910Z"
   },
   {
    "duration": 21,
    "start_time": "2021-08-06T18:00:45.627Z"
   },
   {
    "duration": 7,
    "start_time": "2021-08-06T18:00:45.651Z"
   },
   {
    "duration": 28,
    "start_time": "2021-08-06T18:00:45.661Z"
   },
   {
    "duration": 11,
    "start_time": "2021-08-06T18:00:45.692Z"
   },
   {
    "duration": 14,
    "start_time": "2021-08-06T18:00:45.706Z"
   },
   {
    "duration": 14338,
    "start_time": "2021-08-06T18:00:45.722Z"
   },
   {
    "duration": 10,
    "start_time": "2021-08-06T18:01:00.062Z"
   },
   {
    "duration": 20,
    "start_time": "2021-08-06T18:01:00.085Z"
   },
   {
    "duration": 10,
    "start_time": "2021-08-06T18:01:00.107Z"
   },
   {
    "duration": 10,
    "start_time": "2021-08-06T18:01:00.120Z"
   },
   {
    "duration": 9,
    "start_time": "2021-08-06T18:01:00.133Z"
   },
   {
    "duration": 9,
    "start_time": "2021-08-06T18:01:00.144Z"
   },
   {
    "duration": 321,
    "start_time": "2021-08-06T18:01:00.186Z"
   },
   {
    "duration": 107,
    "start_time": "2021-08-06T18:01:00.509Z"
   },
   {
    "duration": 15,
    "start_time": "2021-08-06T18:01:00.622Z"
   },
   {
    "duration": 11,
    "start_time": "2021-08-06T18:01:00.642Z"
   },
   {
    "duration": 868,
    "start_time": "2021-08-06T18:01:00.656Z"
   },
   {
    "duration": 431,
    "start_time": "2021-08-06T18:01:01.527Z"
   },
   {
    "duration": 331,
    "start_time": "2021-08-06T18:01:01.961Z"
   },
   {
    "duration": 8,
    "start_time": "2021-08-06T18:01:02.294Z"
   },
   {
    "duration": 6996,
    "start_time": "2021-08-06T18:01:02.305Z"
   },
   {
    "duration": 15,
    "start_time": "2021-08-06T18:01:09.303Z"
   },
   {
    "duration": 439,
    "start_time": "2021-08-06T18:01:09.321Z"
   },
   {
    "duration": 2310,
    "start_time": "2021-08-06T18:01:09.763Z"
   },
   {
    "duration": 90,
    "start_time": "2021-08-06T18:01:12.076Z"
   },
   {
    "duration": 453,
    "start_time": "2021-08-06T18:01:12.168Z"
   },
   {
    "duration": 2477,
    "start_time": "2021-08-06T18:01:12.624Z"
   },
   {
    "duration": 18,
    "start_time": "2021-08-06T18:01:15.103Z"
   },
   {
    "duration": 374,
    "start_time": "2021-08-06T18:01:15.123Z"
   },
   {
    "duration": 10,
    "start_time": "2021-08-06T18:01:15.499Z"
   },
   {
    "duration": 7,
    "start_time": "2021-08-06T18:01:15.512Z"
   },
   {
    "duration": 10,
    "start_time": "2021-08-06T18:01:15.521Z"
   },
   {
    "duration": 14,
    "start_time": "2021-08-06T18:01:15.534Z"
   },
   {
    "duration": 16,
    "start_time": "2021-08-06T18:01:15.550Z"
   },
   {
    "duration": 15,
    "start_time": "2021-08-06T18:01:15.568Z"
   },
   {
    "duration": 491493,
    "start_time": "2021-08-06T18:01:15.585Z"
   },
   {
    "duration": 16,
    "start_time": "2021-08-06T18:09:27.085Z"
   },
   {
    "duration": 6,
    "start_time": "2021-08-06T18:09:27.103Z"
   },
   {
    "duration": 11,
    "start_time": "2021-08-06T18:09:27.111Z"
   },
   {
    "duration": 6,
    "start_time": "2021-08-06T18:09:27.124Z"
   },
   {
    "duration": 9,
    "start_time": "2021-08-06T18:09:27.133Z"
   },
   {
    "duration": 103,
    "start_time": "2021-08-06T18:09:27.144Z"
   },
   {
    "duration": 11,
    "start_time": "2021-08-06T18:09:27.249Z"
   },
   {
    "duration": 28,
    "start_time": "2021-08-06T18:09:27.262Z"
   },
   {
    "duration": 7,
    "start_time": "2021-08-06T18:09:27.293Z"
   },
   {
    "duration": 14,
    "start_time": "2021-08-06T18:09:27.302Z"
   },
   {
    "duration": 5,
    "start_time": "2021-08-06T18:09:27.318Z"
   },
   {
    "duration": 11,
    "start_time": "2021-08-06T18:09:27.325Z"
   },
   {
    "duration": 466,
    "start_time": "2021-08-06T19:31:06.917Z"
   },
   {
    "duration": 3799,
    "start_time": "2021-08-06T19:31:24.387Z"
   },
   {
    "duration": 2249,
    "start_time": "2021-08-06T19:31:28.189Z"
   },
   {
    "duration": 899,
    "start_time": "2021-08-06T19:31:30.441Z"
   },
   {
    "duration": 26,
    "start_time": "2021-08-06T19:31:31.343Z"
   },
   {
    "duration": 124,
    "start_time": "2021-08-06T19:31:31.371Z"
   },
   {
    "duration": 5,
    "start_time": "2021-08-06T19:31:31.498Z"
   },
   {
    "duration": 731,
    "start_time": "2021-08-06T19:31:31.506Z"
   },
   {
    "duration": 19,
    "start_time": "2021-08-06T19:31:32.243Z"
   },
   {
    "duration": 22,
    "start_time": "2021-08-06T19:31:32.266Z"
   },
   {
    "duration": 10,
    "start_time": "2021-08-06T19:31:32.292Z"
   },
   {
    "duration": 13,
    "start_time": "2021-08-06T19:31:32.305Z"
   },
   {
    "duration": 24,
    "start_time": "2021-08-06T19:31:32.322Z"
   },
   {
    "duration": 20438,
    "start_time": "2021-08-06T19:31:32.349Z"
   },
   {
    "duration": 10,
    "start_time": "2021-08-06T19:31:52.790Z"
   },
   {
    "duration": 96,
    "start_time": "2021-08-06T19:31:52.803Z"
   },
   {
    "duration": 9,
    "start_time": "2021-08-06T19:31:52.901Z"
   },
   {
    "duration": 7,
    "start_time": "2021-08-06T19:31:52.913Z"
   },
   {
    "duration": 6,
    "start_time": "2021-08-06T19:31:52.922Z"
   },
   {
    "duration": 9,
    "start_time": "2021-08-06T19:31:52.930Z"
   },
   {
    "duration": 288,
    "start_time": "2021-08-06T19:31:52.941Z"
   },
   {
    "duration": 15,
    "start_time": "2021-08-06T19:31:53.231Z"
   },
   {
    "duration": 5,
    "start_time": "2021-08-06T19:31:53.249Z"
   },
   {
    "duration": 906,
    "start_time": "2021-08-06T19:31:53.259Z"
   },
   {
    "duration": 422,
    "start_time": "2021-08-06T19:31:54.169Z"
   },
   {
    "duration": 326,
    "start_time": "2021-08-06T19:31:54.594Z"
   },
   {
    "duration": 7,
    "start_time": "2021-08-06T19:31:54.923Z"
   },
   {
    "duration": 7267,
    "start_time": "2021-08-06T19:31:54.932Z"
   },
   {
    "duration": 15,
    "start_time": "2021-08-06T19:32:02.202Z"
   },
   {
    "duration": 557,
    "start_time": "2021-08-06T19:32:02.220Z"
   },
   {
    "duration": 2797,
    "start_time": "2021-08-06T19:32:02.780Z"
   },
   {
    "duration": 82,
    "start_time": "2021-08-06T19:32:05.581Z"
   },
   {
    "duration": 449,
    "start_time": "2021-08-06T19:32:05.665Z"
   },
   {
    "duration": 2408,
    "start_time": "2021-08-06T19:32:06.117Z"
   },
   {
    "duration": 17,
    "start_time": "2021-08-06T19:32:08.527Z"
   },
   {
    "duration": 6,
    "start_time": "2021-08-06T19:32:08.547Z"
   },
   {
    "duration": 29,
    "start_time": "2021-08-06T19:32:08.556Z"
   },
   {
    "duration": 6,
    "start_time": "2021-08-06T19:32:08.588Z"
   },
   {
    "duration": 10,
    "start_time": "2021-08-06T19:32:08.596Z"
   },
   {
    "duration": 7,
    "start_time": "2021-08-06T19:32:08.608Z"
   },
   {
    "duration": 10,
    "start_time": "2021-08-06T19:32:08.618Z"
   },
   {
    "duration": 8,
    "start_time": "2021-08-06T19:32:08.630Z"
   },
   {
    "duration": 547979,
    "start_time": "2021-08-06T19:32:08.641Z"
   },
   {
    "duration": 15,
    "start_time": "2021-08-06T19:41:16.623Z"
   },
   {
    "duration": 13,
    "start_time": "2021-08-06T19:41:16.641Z"
   },
   {
    "duration": 29,
    "start_time": "2021-08-06T19:41:16.656Z"
   },
   {
    "duration": 13,
    "start_time": "2021-08-06T19:41:16.687Z"
   },
   {
    "duration": 9,
    "start_time": "2021-08-06T19:41:16.703Z"
   },
   {
    "duration": 77,
    "start_time": "2021-08-06T19:41:16.715Z"
   },
   {
    "duration": 56,
    "start_time": "2021-08-06T19:41:16.795Z"
   },
   {
    "duration": 10,
    "start_time": "2021-08-06T19:41:16.854Z"
   },
   {
    "duration": 4,
    "start_time": "2021-08-06T19:41:16.886Z"
   },
   {
    "duration": 18,
    "start_time": "2021-08-06T19:41:16.892Z"
   },
   {
    "duration": 8,
    "start_time": "2021-08-06T19:41:16.912Z"
   },
   {
    "duration": 21,
    "start_time": "2021-08-06T19:41:16.922Z"
   },
   {
    "duration": 310,
    "start_time": "2021-08-06T20:26:14.381Z"
   },
   {
    "duration": 8918,
    "start_time": "2021-08-07T09:29:28.774Z"
   },
   {
    "duration": 2033,
    "start_time": "2021-08-07T09:29:37.695Z"
   },
   {
    "duration": 862,
    "start_time": "2021-08-07T09:29:39.731Z"
   },
   {
    "duration": 25,
    "start_time": "2021-08-07T09:29:40.596Z"
   },
   {
    "duration": 108,
    "start_time": "2021-08-07T09:29:40.623Z"
   },
   {
    "duration": 4,
    "start_time": "2021-08-07T09:29:40.734Z"
   },
   {
    "duration": 719,
    "start_time": "2021-08-07T09:29:40.741Z"
   },
   {
    "duration": 19,
    "start_time": "2021-08-07T09:29:41.463Z"
   },
   {
    "duration": 6,
    "start_time": "2021-08-07T09:29:41.485Z"
   },
   {
    "duration": 6,
    "start_time": "2021-08-07T09:29:41.494Z"
   },
   {
    "duration": 12,
    "start_time": "2021-08-07T09:29:41.502Z"
   },
   {
    "duration": 14,
    "start_time": "2021-08-07T09:29:41.555Z"
   },
   {
    "duration": 14060,
    "start_time": "2021-08-07T09:29:41.571Z"
   },
   {
    "duration": 9,
    "start_time": "2021-08-07T09:29:55.634Z"
   },
   {
    "duration": 95,
    "start_time": "2021-08-07T09:29:55.646Z"
   },
   {
    "duration": 13,
    "start_time": "2021-08-07T09:29:55.744Z"
   },
   {
    "duration": 15,
    "start_time": "2021-08-07T09:29:55.760Z"
   },
   {
    "duration": 27,
    "start_time": "2021-08-07T09:29:55.778Z"
   },
   {
    "duration": 23,
    "start_time": "2021-08-07T09:29:55.808Z"
   },
   {
    "duration": 265,
    "start_time": "2021-08-07T09:29:55.833Z"
   },
   {
    "duration": 15,
    "start_time": "2021-08-07T09:29:56.100Z"
   },
   {
    "duration": 28,
    "start_time": "2021-08-07T09:29:56.118Z"
   },
   {
    "duration": 842,
    "start_time": "2021-08-07T09:29:56.155Z"
   },
   {
    "duration": 424,
    "start_time": "2021-08-07T09:29:57.000Z"
   },
   {
    "duration": 312,
    "start_time": "2021-08-07T09:29:57.427Z"
   },
   {
    "duration": 13,
    "start_time": "2021-08-07T09:29:57.741Z"
   },
   {
    "duration": 7116,
    "start_time": "2021-08-07T09:29:57.757Z"
   },
   {
    "duration": 15,
    "start_time": "2021-08-07T09:30:04.876Z"
   },
   {
    "duration": 441,
    "start_time": "2021-08-07T09:30:04.894Z"
   },
   {
    "duration": 125,
    "start_time": "2021-08-07T09:30:05.338Z"
   },
   {
    "duration": 17,
    "start_time": "2021-08-07T09:30:05.466Z"
   },
   {
    "duration": 18,
    "start_time": "2021-08-07T09:30:05.485Z"
   },
   {
    "duration": 24,
    "start_time": "2021-08-07T09:30:05.505Z"
   },
   {
    "duration": 25,
    "start_time": "2021-08-07T09:30:05.531Z"
   },
   {
    "duration": 20,
    "start_time": "2021-08-07T09:30:05.558Z"
   },
   {
    "duration": 23,
    "start_time": "2021-08-07T09:30:05.581Z"
   },
   {
    "duration": 44,
    "start_time": "2021-08-07T09:30:05.607Z"
   },
   {
    "duration": 411,
    "start_time": "2021-08-07T09:30:05.653Z"
   },
   {
    "duration": -928,
    "start_time": "2021-08-07T09:30:06.994Z"
   },
   {
    "duration": -954,
    "start_time": "2021-08-07T09:30:07.022Z"
   },
   {
    "duration": -974,
    "start_time": "2021-08-07T09:30:07.044Z"
   },
   {
    "duration": -986,
    "start_time": "2021-08-07T09:30:07.057Z"
   },
   {
    "duration": -1027,
    "start_time": "2021-08-07T09:30:07.100Z"
   },
   {
    "duration": -1043,
    "start_time": "2021-08-07T09:30:07.118Z"
   },
   {
    "duration": -1056,
    "start_time": "2021-08-07T09:30:07.133Z"
   },
   {
    "duration": -1069,
    "start_time": "2021-08-07T09:30:07.147Z"
   },
   {
    "duration": -1087,
    "start_time": "2021-08-07T09:30:07.167Z"
   },
   {
    "duration": -1101,
    "start_time": "2021-08-07T09:30:07.182Z"
   },
   {
    "duration": -1136,
    "start_time": "2021-08-07T09:30:07.219Z"
   },
   {
    "duration": -1149,
    "start_time": "2021-08-07T09:30:07.233Z"
   },
   {
    "duration": -1165,
    "start_time": "2021-08-07T09:30:07.251Z"
   },
   {
    "duration": 5,
    "start_time": "2021-08-07T09:33:17.470Z"
   },
   {
    "duration": 489793,
    "start_time": "2021-08-07T09:34:07.662Z"
   },
   {
    "duration": 23,
    "start_time": "2021-08-07T09:58:00.108Z"
   },
   {
    "duration": 5,
    "start_time": "2021-08-07T09:58:02.112Z"
   },
   {
    "duration": 8,
    "start_time": "2021-08-07T09:58:03.754Z"
   },
   {
    "duration": 7,
    "start_time": "2021-08-07T09:58:08.031Z"
   },
   {
    "duration": 5,
    "start_time": "2021-08-07T09:58:09.008Z"
   },
   {
    "duration": 87,
    "start_time": "2021-08-07T09:58:09.843Z"
   },
   {
    "duration": 47,
    "start_time": "2021-08-07T09:58:10.811Z"
   },
   {
    "duration": 13,
    "start_time": "2021-08-07T09:58:12.224Z"
   },
   {
    "duration": 5,
    "start_time": "2021-08-07T09:58:15.764Z"
   },
   {
    "duration": 9,
    "start_time": "2021-08-07T09:58:16.723Z"
   },
   {
    "duration": 6,
    "start_time": "2021-08-07T09:58:17.642Z"
   },
   {
    "duration": 11,
    "start_time": "2021-08-07T09:58:20.485Z"
   },
   {
    "duration": 3807,
    "start_time": "2021-08-07T11:25:52.134Z"
   },
   {
    "duration": 2072,
    "start_time": "2021-08-07T11:25:55.945Z"
   },
   {
    "duration": 871,
    "start_time": "2021-08-07T11:25:58.020Z"
   },
   {
    "duration": 27,
    "start_time": "2021-08-07T11:25:58.894Z"
   },
   {
    "duration": 115,
    "start_time": "2021-08-07T11:25:58.924Z"
   },
   {
    "duration": 14,
    "start_time": "2021-08-07T11:25:59.043Z"
   },
   {
    "duration": 848,
    "start_time": "2021-08-07T11:25:59.060Z"
   },
   {
    "duration": 16,
    "start_time": "2021-08-07T11:25:59.913Z"
   },
   {
    "duration": 24,
    "start_time": "2021-08-07T11:25:59.932Z"
   },
   {
    "duration": 11,
    "start_time": "2021-08-07T11:25:59.958Z"
   },
   {
    "duration": 12,
    "start_time": "2021-08-07T11:25:59.971Z"
   },
   {
    "duration": 23,
    "start_time": "2021-08-07T11:25:59.986Z"
   },
   {
    "duration": 14820,
    "start_time": "2021-08-07T11:26:00.012Z"
   },
   {
    "duration": 10,
    "start_time": "2021-08-07T11:26:14.834Z"
   },
   {
    "duration": 79,
    "start_time": "2021-08-07T11:26:14.855Z"
   },
   {
    "duration": 23,
    "start_time": "2021-08-07T11:26:14.937Z"
   },
   {
    "duration": 5,
    "start_time": "2021-08-07T11:26:14.963Z"
   },
   {
    "duration": 6,
    "start_time": "2021-08-07T11:26:14.971Z"
   },
   {
    "duration": 13,
    "start_time": "2021-08-07T11:26:14.979Z"
   },
   {
    "duration": 435,
    "start_time": "2021-08-07T11:26:14.995Z"
   },
   {
    "duration": 29,
    "start_time": "2021-08-07T11:26:15.433Z"
   },
   {
    "duration": 6,
    "start_time": "2021-08-07T11:26:15.464Z"
   },
   {
    "duration": 870,
    "start_time": "2021-08-07T11:26:15.476Z"
   },
   {
    "duration": 424,
    "start_time": "2021-08-07T11:26:16.354Z"
   },
   {
    "duration": 314,
    "start_time": "2021-08-07T11:26:16.780Z"
   },
   {
    "duration": 7,
    "start_time": "2021-08-07T11:26:17.096Z"
   },
   {
    "duration": 7043,
    "start_time": "2021-08-07T11:26:17.106Z"
   },
   {
    "duration": 16,
    "start_time": "2021-08-07T11:26:24.154Z"
   },
   {
    "duration": 524,
    "start_time": "2021-08-07T11:26:24.174Z"
   },
   {
    "duration": 113,
    "start_time": "2021-08-07T11:26:24.701Z"
   },
   {
    "duration": 16,
    "start_time": "2021-08-07T11:26:24.816Z"
   },
   {
    "duration": 21,
    "start_time": "2021-08-07T11:26:24.835Z"
   },
   {
    "duration": 20,
    "start_time": "2021-08-07T11:26:24.858Z"
   },
   {
    "duration": 19,
    "start_time": "2021-08-07T11:26:24.880Z"
   },
   {
    "duration": 31,
    "start_time": "2021-08-07T11:26:24.901Z"
   },
   {
    "duration": 17,
    "start_time": "2021-08-07T11:26:24.935Z"
   },
   {
    "duration": 20,
    "start_time": "2021-08-07T11:26:24.955Z"
   },
   {
    "duration": 17,
    "start_time": "2021-08-07T11:26:24.977Z"
   },
   {
    "duration": 544974,
    "start_time": "2021-08-07T11:26:24.996Z"
   },
   {
    "duration": 15,
    "start_time": "2021-08-07T11:35:29.972Z"
   },
   {
    "duration": 4,
    "start_time": "2021-08-07T11:35:29.990Z"
   },
   {
    "duration": 19,
    "start_time": "2021-08-07T11:35:29.996Z"
   },
   {
    "duration": 18,
    "start_time": "2021-08-07T11:35:30.018Z"
   },
   {
    "duration": 9,
    "start_time": "2021-08-07T11:35:30.055Z"
   },
   {
    "duration": 71,
    "start_time": "2021-08-07T11:35:30.066Z"
   },
   {
    "duration": 61,
    "start_time": "2021-08-07T11:35:30.140Z"
   },
   {
    "duration": 10,
    "start_time": "2021-08-07T11:35:30.204Z"
   },
   {
    "duration": 10,
    "start_time": "2021-08-07T11:35:30.216Z"
   },
   {
    "duration": 34,
    "start_time": "2021-08-07T11:35:30.229Z"
   },
   {
    "duration": 7,
    "start_time": "2021-08-07T11:35:30.265Z"
   },
   {
    "duration": 24,
    "start_time": "2021-08-07T11:35:30.275Z"
   },
   {
    "duration": 7339,
    "start_time": "2021-08-08T13:47:36.114Z"
   },
   {
    "duration": 1600,
    "start_time": "2021-08-08T13:47:43.456Z"
   },
   {
    "duration": 684,
    "start_time": "2021-08-08T13:47:45.058Z"
   },
   {
    "duration": 19,
    "start_time": "2021-08-08T13:47:45.744Z"
   },
   {
    "duration": 56,
    "start_time": "2021-08-08T13:47:45.765Z"
   },
   {
    "duration": 3,
    "start_time": "2021-08-08T13:47:45.823Z"
   },
   {
    "duration": 424,
    "start_time": "2021-08-08T13:47:45.827Z"
   },
   {
    "duration": 13,
    "start_time": "2021-08-08T13:47:46.254Z"
   },
   {
    "duration": 4,
    "start_time": "2021-08-08T13:47:46.269Z"
   },
   {
    "duration": 17,
    "start_time": "2021-08-08T13:47:46.275Z"
   },
   {
    "duration": 8,
    "start_time": "2021-08-08T13:47:46.294Z"
   },
   {
    "duration": 9,
    "start_time": "2021-08-08T13:47:46.303Z"
   },
   {
    "duration": 12516,
    "start_time": "2021-08-08T13:47:46.314Z"
   },
   {
    "duration": 6,
    "start_time": "2021-08-08T13:47:58.832Z"
   },
   {
    "duration": 52,
    "start_time": "2021-08-08T13:47:58.840Z"
   },
   {
    "duration": 7,
    "start_time": "2021-08-08T13:47:58.894Z"
   },
   {
    "duration": 6,
    "start_time": "2021-08-08T13:47:58.903Z"
   },
   {
    "duration": 7,
    "start_time": "2021-08-08T13:47:58.910Z"
   },
   {
    "duration": 9,
    "start_time": "2021-08-08T13:47:58.919Z"
   },
   {
    "duration": 305,
    "start_time": "2021-08-08T13:47:58.930Z"
   },
   {
    "duration": 10,
    "start_time": "2021-08-08T13:47:59.237Z"
   },
   {
    "duration": 8,
    "start_time": "2021-08-08T13:47:59.249Z"
   },
   {
    "duration": 534,
    "start_time": "2021-08-08T13:47:59.260Z"
   },
   {
    "duration": 284,
    "start_time": "2021-08-08T13:47:59.796Z"
   },
   {
    "duration": 194,
    "start_time": "2021-08-08T13:48:00.081Z"
   },
   {
    "duration": 6,
    "start_time": "2021-08-08T13:48:00.277Z"
   },
   {
    "duration": 3956,
    "start_time": "2021-08-08T13:48:00.291Z"
   },
   {
    "duration": 9,
    "start_time": "2021-08-08T13:48:04.249Z"
   },
   {
    "duration": 229,
    "start_time": "2021-08-08T13:48:04.259Z"
   },
   {
    "duration": 6207,
    "start_time": "2021-08-08T13:48:04.491Z"
   },
   {
    "duration": -71,
    "start_time": "2021-08-08T13:48:10.771Z"
   },
   {
    "duration": -80,
    "start_time": "2021-08-08T13:48:10.781Z"
   },
   {
    "duration": -82,
    "start_time": "2021-08-08T13:48:10.784Z"
   },
   {
    "duration": -84,
    "start_time": "2021-08-08T13:48:10.787Z"
   },
   {
    "duration": -95,
    "start_time": "2021-08-08T13:48:10.798Z"
   },
   {
    "duration": -98,
    "start_time": "2021-08-08T13:48:10.802Z"
   },
   {
    "duration": -101,
    "start_time": "2021-08-08T13:48:10.806Z"
   },
   {
    "duration": -110,
    "start_time": "2021-08-08T13:48:10.815Z"
   },
   {
    "duration": -112,
    "start_time": "2021-08-08T13:48:10.818Z"
   },
   {
    "duration": -115,
    "start_time": "2021-08-08T13:48:10.822Z"
   },
   {
    "duration": -124,
    "start_time": "2021-08-08T13:48:10.832Z"
   },
   {
    "duration": -127,
    "start_time": "2021-08-08T13:48:10.836Z"
   },
   {
    "duration": -134,
    "start_time": "2021-08-08T13:48:10.844Z"
   },
   {
    "duration": -137,
    "start_time": "2021-08-08T13:48:10.847Z"
   },
   {
    "duration": -140,
    "start_time": "2021-08-08T13:48:10.851Z"
   },
   {
    "duration": -143,
    "start_time": "2021-08-08T13:48:10.855Z"
   },
   {
    "duration": -152,
    "start_time": "2021-08-08T13:48:10.865Z"
   },
   {
    "duration": -156,
    "start_time": "2021-08-08T13:48:10.869Z"
   },
   {
    "duration": -166,
    "start_time": "2021-08-08T13:48:10.880Z"
   },
   {
    "duration": -176,
    "start_time": "2021-08-08T13:48:10.891Z"
   },
   {
    "duration": -185,
    "start_time": "2021-08-08T13:48:10.901Z"
   },
   {
    "duration": 76,
    "start_time": "2021-08-08T14:21:37.322Z"
   },
   {
    "duration": 104,
    "start_time": "2021-08-08T14:22:08.116Z"
   },
   {
    "duration": 1464,
    "start_time": "2021-08-08T14:22:23.747Z"
   },
   {
    "duration": 16,
    "start_time": "2021-08-08T14:27:46.052Z"
   },
   {
    "duration": 5419,
    "start_time": "2021-08-08T14:28:32.827Z"
   },
   {
    "duration": 5485,
    "start_time": "2021-08-08T14:29:04.653Z"
   },
   {
    "duration": 5784,
    "start_time": "2021-08-08T14:35:45.196Z"
   },
   {
    "duration": 5,
    "start_time": "2021-08-08T14:36:55.781Z"
   },
   {
    "duration": 11,
    "start_time": "2021-08-08T14:37:21.247Z"
   },
   {
    "duration": 9,
    "start_time": "2021-08-08T14:38:04.514Z"
   },
   {
    "duration": 8,
    "start_time": "2021-08-08T14:38:12.500Z"
   },
   {
    "duration": 9,
    "start_time": "2021-08-08T14:38:17.649Z"
   },
   {
    "duration": 9,
    "start_time": "2021-08-08T14:42:43.885Z"
   },
   {
    "duration": 269,
    "start_time": "2021-08-08T14:42:54.616Z"
   },
   {
    "duration": 232,
    "start_time": "2021-08-08T14:43:01.340Z"
   },
   {
    "duration": 248,
    "start_time": "2021-08-08T14:43:05.295Z"
   },
   {
    "duration": 2339,
    "start_time": "2021-08-08T14:43:18.612Z"
   },
   {
    "duration": 1407,
    "start_time": "2021-08-08T14:43:20.953Z"
   },
   {
    "duration": 681,
    "start_time": "2021-08-08T14:43:22.362Z"
   },
   {
    "duration": 15,
    "start_time": "2021-08-08T14:43:23.045Z"
   },
   {
    "duration": 52,
    "start_time": "2021-08-08T14:43:23.061Z"
   },
   {
    "duration": 3,
    "start_time": "2021-08-08T14:43:23.114Z"
   },
   {
    "duration": 410,
    "start_time": "2021-08-08T14:43:23.119Z"
   },
   {
    "duration": 12,
    "start_time": "2021-08-08T14:43:23.531Z"
   },
   {
    "duration": 3,
    "start_time": "2021-08-08T14:43:23.545Z"
   },
   {
    "duration": 6,
    "start_time": "2021-08-08T14:43:23.550Z"
   },
   {
    "duration": 7,
    "start_time": "2021-08-08T14:43:23.557Z"
   },
   {
    "duration": 27,
    "start_time": "2021-08-08T14:43:23.565Z"
   },
   {
    "duration": 10616,
    "start_time": "2021-08-08T14:43:23.593Z"
   },
   {
    "duration": 7,
    "start_time": "2021-08-08T14:43:34.210Z"
   },
   {
    "duration": 44,
    "start_time": "2021-08-08T14:43:34.218Z"
   },
   {
    "duration": 6,
    "start_time": "2021-08-08T14:43:34.263Z"
   },
   {
    "duration": 21,
    "start_time": "2021-08-08T14:43:34.271Z"
   },
   {
    "duration": 6,
    "start_time": "2021-08-08T14:43:34.294Z"
   },
   {
    "duration": 13,
    "start_time": "2021-08-08T14:43:34.301Z"
   },
   {
    "duration": 317,
    "start_time": "2021-08-08T14:43:34.315Z"
   },
   {
    "duration": 12,
    "start_time": "2021-08-08T14:43:34.634Z"
   },
   {
    "duration": 7,
    "start_time": "2021-08-08T14:43:34.648Z"
   },
   {
    "duration": 476,
    "start_time": "2021-08-08T14:43:34.658Z"
   },
   {
    "duration": 267,
    "start_time": "2021-08-08T14:43:35.136Z"
   },
   {
    "duration": 169,
    "start_time": "2021-08-08T14:43:35.405Z"
   },
   {
    "duration": 5,
    "start_time": "2021-08-08T14:43:35.575Z"
   },
   {
    "duration": 3420,
    "start_time": "2021-08-08T14:43:35.581Z"
   },
   {
    "duration": 10,
    "start_time": "2021-08-08T14:43:39.002Z"
   },
   {
    "duration": 234,
    "start_time": "2021-08-08T14:43:39.014Z"
   },
   {
    "duration": 9,
    "start_time": "2021-08-08T14:43:39.250Z"
   },
   {
    "duration": 30,
    "start_time": "2021-08-08T14:43:39.261Z"
   },
   {
    "duration": 5,
    "start_time": "2021-08-08T14:43:39.293Z"
   },
   {
    "duration": 6,
    "start_time": "2021-08-08T14:43:39.299Z"
   },
   {
    "duration": 5,
    "start_time": "2021-08-08T14:43:39.307Z"
   },
   {
    "duration": 5,
    "start_time": "2021-08-08T14:43:39.314Z"
   },
   {
    "duration": 5,
    "start_time": "2021-08-08T14:43:39.320Z"
   },
   {
    "duration": 6,
    "start_time": "2021-08-08T14:43:39.327Z"
   },
   {
    "duration": 11,
    "start_time": "2021-08-08T14:43:39.335Z"
   },
   {
    "duration": 336266,
    "start_time": "2021-08-08T14:43:39.348Z"
   },
   {
    "duration": 8,
    "start_time": "2021-08-08T14:49:15.616Z"
   },
   {
    "duration": 9,
    "start_time": "2021-08-08T14:49:15.626Z"
   },
   {
    "duration": 6,
    "start_time": "2021-08-08T14:49:15.636Z"
   },
   {
    "duration": 7,
    "start_time": "2021-08-08T14:49:15.644Z"
   },
   {
    "duration": 6,
    "start_time": "2021-08-08T14:49:15.652Z"
   },
   {
    "duration": 32,
    "start_time": "2021-08-08T14:49:15.659Z"
   },
   {
    "duration": 6,
    "start_time": "2021-08-08T14:49:15.692Z"
   },
   {
    "duration": 12,
    "start_time": "2021-08-08T14:49:15.700Z"
   },
   {
    "duration": 12,
    "start_time": "2021-08-08T14:49:15.714Z"
   },
   {
    "duration": 15,
    "start_time": "2021-08-08T14:49:15.727Z"
   },
   {
    "duration": 13,
    "start_time": "2021-08-08T14:49:15.744Z"
   },
   {
    "duration": 13,
    "start_time": "2021-08-08T14:49:15.759Z"
   },
   {
    "duration": 273,
    "start_time": "2021-08-08T14:49:15.774Z"
   },
   {
    "duration": 227,
    "start_time": "2021-08-08T14:50:36.656Z"
   },
   {
    "duration": 249,
    "start_time": "2021-08-08T14:50:42.309Z"
   },
   {
    "duration": 195,
    "start_time": "2021-08-08T14:50:47.863Z"
   },
   {
    "duration": 293,
    "start_time": "2021-08-08T14:50:57.726Z"
   },
   {
    "duration": 325,
    "start_time": "2021-08-08T14:51:03.581Z"
   },
   {
    "duration": 398,
    "start_time": "2021-08-08T14:51:13.194Z"
   },
   {
    "duration": 2247,
    "start_time": "2021-08-08T14:51:26.000Z"
   },
   {
    "duration": 1406,
    "start_time": "2021-08-08T14:51:28.249Z"
   },
   {
    "duration": 674,
    "start_time": "2021-08-08T14:51:29.658Z"
   },
   {
    "duration": 16,
    "start_time": "2021-08-08T14:51:30.334Z"
   },
   {
    "duration": 63,
    "start_time": "2021-08-08T14:51:30.352Z"
   },
   {
    "duration": 5,
    "start_time": "2021-08-08T14:51:30.417Z"
   },
   {
    "duration": 420,
    "start_time": "2021-08-08T14:51:30.423Z"
   },
   {
    "duration": 13,
    "start_time": "2021-08-08T14:51:30.846Z"
   },
   {
    "duration": 30,
    "start_time": "2021-08-08T14:51:30.861Z"
   },
   {
    "duration": 17,
    "start_time": "2021-08-08T14:51:30.893Z"
   },
   {
    "duration": 11,
    "start_time": "2021-08-08T14:51:30.912Z"
   },
   {
    "duration": 24,
    "start_time": "2021-08-08T14:51:30.924Z"
   },
   {
    "duration": 10999,
    "start_time": "2021-08-08T14:51:30.950Z"
   },
   {
    "duration": 7,
    "start_time": "2021-08-08T14:51:41.951Z"
   },
   {
    "duration": 49,
    "start_time": "2021-08-08T14:51:41.960Z"
   },
   {
    "duration": 6,
    "start_time": "2021-08-08T14:51:42.011Z"
   },
   {
    "duration": 4,
    "start_time": "2021-08-08T14:51:42.019Z"
   },
   {
    "duration": 9,
    "start_time": "2021-08-08T14:51:42.027Z"
   },
   {
    "duration": 11,
    "start_time": "2021-08-08T14:51:42.037Z"
   },
   {
    "duration": 268,
    "start_time": "2021-08-08T14:51:42.050Z"
   },
   {
    "duration": 11,
    "start_time": "2021-08-08T14:51:42.320Z"
   },
   {
    "duration": 15,
    "start_time": "2021-08-08T14:51:42.332Z"
   },
   {
    "duration": 585,
    "start_time": "2021-08-08T14:51:42.350Z"
   },
   {
    "duration": 263,
    "start_time": "2021-08-08T14:51:42.938Z"
   },
   {
    "duration": 165,
    "start_time": "2021-08-08T14:51:43.203Z"
   },
   {
    "duration": 5,
    "start_time": "2021-08-08T14:51:43.369Z"
   },
   {
    "duration": 3304,
    "start_time": "2021-08-08T14:51:43.375Z"
   },
   {
    "duration": 15,
    "start_time": "2021-08-08T14:51:46.680Z"
   },
   {
    "duration": 382,
    "start_time": "2021-08-08T14:51:46.696Z"
   },
   {
    "duration": 69,
    "start_time": "2021-08-08T14:51:47.080Z"
   },
   {
    "duration": -69,
    "start_time": "2021-08-08T14:51:47.220Z"
   },
   {
    "duration": -72,
    "start_time": "2021-08-08T14:51:47.224Z"
   },
   {
    "duration": -75,
    "start_time": "2021-08-08T14:51:47.228Z"
   },
   {
    "duration": -76,
    "start_time": "2021-08-08T14:51:47.230Z"
   },
   {
    "duration": -88,
    "start_time": "2021-08-08T14:51:47.242Z"
   },
   {
    "duration": -91,
    "start_time": "2021-08-08T14:51:47.246Z"
   },
   {
    "duration": -96,
    "start_time": "2021-08-08T14:51:47.252Z"
   },
   {
    "duration": -103,
    "start_time": "2021-08-08T14:51:47.260Z"
   },
   {
    "duration": -106,
    "start_time": "2021-08-08T14:51:47.264Z"
   },
   {
    "duration": -111,
    "start_time": "2021-08-08T14:51:47.270Z"
   },
   {
    "duration": -114,
    "start_time": "2021-08-08T14:51:47.274Z"
   },
   {
    "duration": -118,
    "start_time": "2021-08-08T14:51:47.279Z"
   },
   {
    "duration": -119,
    "start_time": "2021-08-08T14:51:47.281Z"
   },
   {
    "duration": -127,
    "start_time": "2021-08-08T14:51:47.290Z"
   },
   {
    "duration": -131,
    "start_time": "2021-08-08T14:51:47.295Z"
   },
   {
    "duration": -135,
    "start_time": "2021-08-08T14:51:47.300Z"
   },
   {
    "duration": -142,
    "start_time": "2021-08-08T14:51:47.308Z"
   },
   {
    "duration": -145,
    "start_time": "2021-08-08T14:51:47.312Z"
   },
   {
    "duration": -148,
    "start_time": "2021-08-08T14:51:47.316Z"
   },
   {
    "duration": -153,
    "start_time": "2021-08-08T14:51:47.321Z"
   },
   {
    "duration": -155,
    "start_time": "2021-08-08T14:51:47.325Z"
   },
   {
    "duration": 189,
    "start_time": "2021-08-08T14:53:22.853Z"
   },
   {
    "duration": 15,
    "start_time": "2021-08-08T14:55:29.301Z"
   },
   {
    "duration": 53,
    "start_time": "2021-08-08T14:56:11.265Z"
   },
   {
    "duration": 334,
    "start_time": "2021-08-08T15:00:34.482Z"
   },
   {
    "duration": 70,
    "start_time": "2021-08-08T15:00:44.182Z"
   },
   {
    "duration": 7,
    "start_time": "2021-08-08T15:00:48.484Z"
   },
   {
    "duration": 7,
    "start_time": "2021-08-08T15:01:03.141Z"
   },
   {
    "duration": 75,
    "start_time": "2021-08-08T15:01:15.847Z"
   },
   {
    "duration": 7,
    "start_time": "2021-08-08T15:01:23.816Z"
   },
   {
    "duration": 7,
    "start_time": "2021-08-08T15:01:30.292Z"
   },
   {
    "duration": 222,
    "start_time": "2021-08-08T15:02:31.704Z"
   },
   {
    "duration": 252,
    "start_time": "2021-08-08T15:02:37.374Z"
   },
   {
    "duration": 230,
    "start_time": "2021-08-08T15:02:44.705Z"
   },
   {
    "duration": 252,
    "start_time": "2021-08-08T15:02:56.005Z"
   },
   {
    "duration": 285,
    "start_time": "2021-08-08T15:03:06.837Z"
   },
   {
    "duration": 2293,
    "start_time": "2021-08-08T15:05:38.515Z"
   },
   {
    "duration": 1475,
    "start_time": "2021-08-08T15:05:40.810Z"
   },
   {
    "duration": 668,
    "start_time": "2021-08-08T15:05:42.288Z"
   },
   {
    "duration": 14,
    "start_time": "2021-08-08T15:05:42.957Z"
   },
   {
    "duration": 56,
    "start_time": "2021-08-08T15:05:42.973Z"
   },
   {
    "duration": 3,
    "start_time": "2021-08-08T15:05:43.031Z"
   },
   {
    "duration": 401,
    "start_time": "2021-08-08T15:05:43.036Z"
   },
   {
    "duration": 12,
    "start_time": "2021-08-08T15:05:43.439Z"
   },
   {
    "duration": 4,
    "start_time": "2021-08-08T15:05:43.454Z"
   },
   {
    "duration": 10,
    "start_time": "2021-08-08T15:05:43.460Z"
   },
   {
    "duration": 22,
    "start_time": "2021-08-08T15:05:43.471Z"
   },
   {
    "duration": 9,
    "start_time": "2021-08-08T15:05:43.495Z"
   },
   {
    "duration": 10518,
    "start_time": "2021-08-08T15:05:43.505Z"
   },
   {
    "duration": 6,
    "start_time": "2021-08-08T15:05:54.025Z"
   },
   {
    "duration": 42,
    "start_time": "2021-08-08T15:05:54.033Z"
   },
   {
    "duration": 14,
    "start_time": "2021-08-08T15:05:54.077Z"
   },
   {
    "duration": 4,
    "start_time": "2021-08-08T15:05:54.092Z"
   },
   {
    "duration": 6,
    "start_time": "2021-08-08T15:05:54.097Z"
   },
   {
    "duration": 7,
    "start_time": "2021-08-08T15:05:54.104Z"
   },
   {
    "duration": 204,
    "start_time": "2021-08-08T15:05:54.112Z"
   },
   {
    "duration": 10,
    "start_time": "2021-08-08T15:05:54.318Z"
   },
   {
    "duration": 6,
    "start_time": "2021-08-08T15:05:54.330Z"
   },
   {
    "duration": 473,
    "start_time": "2021-08-08T15:05:54.339Z"
   },
   {
    "duration": 118,
    "start_time": "2021-08-08T15:05:54.814Z"
   },
   {
    "duration": 187,
    "start_time": "2021-08-08T15:05:54.933Z"
   },
   {
    "duration": 171,
    "start_time": "2021-08-08T15:05:55.122Z"
   },
   {
    "duration": 5,
    "start_time": "2021-08-08T15:05:55.294Z"
   },
   {
    "duration": 3424,
    "start_time": "2021-08-08T15:05:55.300Z"
   },
   {
    "duration": 10,
    "start_time": "2021-08-08T15:05:58.725Z"
   },
   {
    "duration": 14,
    "start_time": "2021-08-08T15:05:58.736Z"
   },
   {
    "duration": 293,
    "start_time": "2021-08-08T15:05:58.751Z"
   },
   {
    "duration": 12,
    "start_time": "2021-08-08T15:05:59.046Z"
   },
   {
    "duration": 5,
    "start_time": "2021-08-08T15:05:59.060Z"
   },
   {
    "duration": 6,
    "start_time": "2021-08-08T15:05:59.067Z"
   },
   {
    "duration": 17,
    "start_time": "2021-08-08T15:05:59.075Z"
   },
   {
    "duration": 6,
    "start_time": "2021-08-08T15:05:59.093Z"
   },
   {
    "duration": 5,
    "start_time": "2021-08-08T15:05:59.101Z"
   },
   {
    "duration": 7,
    "start_time": "2021-08-08T15:05:59.107Z"
   },
   {
    "duration": 9,
    "start_time": "2021-08-08T15:05:59.115Z"
   },
   {
    "duration": 340212,
    "start_time": "2021-08-08T15:05:59.125Z"
   },
   {
    "duration": 8,
    "start_time": "2021-08-08T15:11:39.339Z"
   },
   {
    "duration": 6,
    "start_time": "2021-08-08T15:11:39.349Z"
   },
   {
    "duration": 8,
    "start_time": "2021-08-08T15:11:39.356Z"
   },
   {
    "duration": 5,
    "start_time": "2021-08-08T15:11:39.365Z"
   },
   {
    "duration": 22,
    "start_time": "2021-08-08T15:11:39.371Z"
   },
   {
    "duration": 8,
    "start_time": "2021-08-08T15:11:39.394Z"
   },
   {
    "duration": 15,
    "start_time": "2021-08-08T15:11:39.404Z"
   },
   {
    "duration": 6,
    "start_time": "2021-08-08T15:11:39.420Z"
   },
   {
    "duration": 5,
    "start_time": "2021-08-08T15:11:39.428Z"
   },
   {
    "duration": 12,
    "start_time": "2021-08-08T15:11:39.434Z"
   },
   {
    "duration": 81,
    "start_time": "2021-08-08T15:11:39.448Z"
   },
   {
    "duration": 12,
    "start_time": "2021-08-08T15:11:39.531Z"
   },
   {
    "duration": 15482,
    "start_time": "2021-08-08T20:51:53.962Z"
   },
   {
    "duration": 2236,
    "start_time": "2021-08-08T20:52:16.608Z"
   },
   {
    "duration": 4354,
    "start_time": "2021-08-08T20:54:14.690Z"
   },
   {
    "duration": 27,
    "start_time": "2021-08-08T20:54:22.321Z"
   },
   {
    "duration": 96,
    "start_time": "2021-08-08T20:54:25.966Z"
   },
   {
    "duration": 5,
    "start_time": "2021-08-08T20:54:29.947Z"
   },
   {
    "duration": 664,
    "start_time": "2021-08-08T20:54:34.424Z"
   },
   {
    "duration": 18,
    "start_time": "2021-08-08T20:54:35.490Z"
   },
   {
    "duration": 3826,
    "start_time": "2021-08-08T21:29:44.917Z"
   },
   {
    "duration": 2297,
    "start_time": "2021-08-08T21:29:48.746Z"
   },
   {
    "duration": 934,
    "start_time": "2021-08-08T21:29:51.046Z"
   },
   {
    "duration": 25,
    "start_time": "2021-08-08T21:29:51.985Z"
   },
   {
    "duration": 119,
    "start_time": "2021-08-08T21:29:52.013Z"
   },
   {
    "duration": 5,
    "start_time": "2021-08-08T21:29:52.134Z"
   },
   {
    "duration": 1002,
    "start_time": "2021-08-08T21:29:52.141Z"
   },
   {
    "duration": 18,
    "start_time": "2021-08-08T21:29:53.148Z"
   },
   {
    "duration": 7,
    "start_time": "2021-08-08T21:29:53.186Z"
   },
   {
    "duration": 7,
    "start_time": "2021-08-08T21:29:53.195Z"
   },
   {
    "duration": 10,
    "start_time": "2021-08-08T21:29:53.205Z"
   },
   {
    "duration": 13,
    "start_time": "2021-08-08T21:29:53.218Z"
   },
   {
    "duration": 17020,
    "start_time": "2021-08-08T21:29:53.234Z"
   },
   {
    "duration": 10,
    "start_time": "2021-08-08T21:30:10.256Z"
   },
   {
    "duration": 87,
    "start_time": "2021-08-08T21:30:10.268Z"
   },
   {
    "duration": 30,
    "start_time": "2021-08-08T21:30:10.358Z"
   },
   {
    "duration": 6,
    "start_time": "2021-08-08T21:30:10.390Z"
   },
   {
    "duration": 10,
    "start_time": "2021-08-08T21:30:10.398Z"
   },
   {
    "duration": 11,
    "start_time": "2021-08-08T21:30:10.410Z"
   },
   {
    "duration": 409,
    "start_time": "2021-08-08T21:30:10.424Z"
   },
   {
    "duration": 19,
    "start_time": "2021-08-08T21:30:10.835Z"
   },
   {
    "duration": 5,
    "start_time": "2021-08-08T21:30:10.857Z"
   },
   {
    "duration": 1277,
    "start_time": "2021-08-08T21:30:10.867Z"
   },
   {
    "duration": 172,
    "start_time": "2021-08-08T21:30:12.147Z"
   },
   {
    "duration": 373,
    "start_time": "2021-08-08T21:30:12.322Z"
   },
   {
    "duration": 333,
    "start_time": "2021-08-08T21:30:12.699Z"
   },
   {
    "duration": 9,
    "start_time": "2021-08-08T21:30:13.036Z"
   },
   {
    "duration": 7259,
    "start_time": "2021-08-08T21:30:13.047Z"
   },
   {
    "duration": 20,
    "start_time": "2021-08-08T21:30:20.309Z"
   },
   {
    "duration": 27,
    "start_time": "2021-08-08T21:30:20.332Z"
   },
   {
    "duration": 563,
    "start_time": "2021-08-08T21:30:20.362Z"
   },
   {
    "duration": 17,
    "start_time": "2021-08-08T21:30:20.928Z"
   },
   {
    "duration": 41,
    "start_time": "2021-08-08T21:30:20.947Z"
   },
   {
    "duration": 104,
    "start_time": "2021-08-08T21:30:20.990Z"
   },
   {
    "duration": -489,
    "start_time": "2021-08-08T21:30:21.586Z"
   },
   {
    "duration": -504,
    "start_time": "2021-08-08T21:30:21.603Z"
   },
   {
    "duration": -520,
    "start_time": "2021-08-08T21:30:21.621Z"
   },
   {
    "duration": -533,
    "start_time": "2021-08-08T21:30:21.636Z"
   },
   {
    "duration": -570,
    "start_time": "2021-08-08T21:30:21.675Z"
   },
   {
    "duration": -581,
    "start_time": "2021-08-08T21:30:21.688Z"
   },
   {
    "duration": -595,
    "start_time": "2021-08-08T21:30:21.705Z"
   },
   {
    "duration": -608,
    "start_time": "2021-08-08T21:30:21.720Z"
   },
   {
    "duration": -620,
    "start_time": "2021-08-08T21:30:21.734Z"
   },
   {
    "duration": -631,
    "start_time": "2021-08-08T21:30:21.747Z"
   },
   {
    "duration": -645,
    "start_time": "2021-08-08T21:30:21.764Z"
   },
   {
    "duration": -679,
    "start_time": "2021-08-08T21:30:21.800Z"
   },
   {
    "duration": -694,
    "start_time": "2021-08-08T21:30:21.817Z"
   },
   {
    "duration": -767,
    "start_time": "2021-08-08T21:30:21.892Z"
   },
   {
    "duration": -817,
    "start_time": "2021-08-08T21:30:21.944Z"
   },
   {
    "duration": -829,
    "start_time": "2021-08-08T21:30:21.958Z"
   },
   {
    "duration": -841,
    "start_time": "2021-08-08T21:30:21.973Z"
   },
   {
    "duration": -850,
    "start_time": "2021-08-08T21:30:21.985Z"
   },
   {
    "duration": -814,
    "start_time": "2021-08-08T21:30:22.000Z"
   },
   {
    "duration": 564,
    "start_time": "2021-08-08T21:31:26.943Z"
   },
   {
    "duration": 4172,
    "start_time": "2021-08-08T21:32:38.123Z"
   },
   {
    "duration": 2651,
    "start_time": "2021-08-08T21:32:42.298Z"
   },
   {
    "duration": 946,
    "start_time": "2021-08-08T21:32:44.953Z"
   },
   {
    "duration": 25,
    "start_time": "2021-08-08T21:32:45.902Z"
   },
   {
    "duration": 111,
    "start_time": "2021-08-08T21:32:45.929Z"
   },
   {
    "duration": 5,
    "start_time": "2021-08-08T21:32:46.042Z"
   },
   {
    "duration": 728,
    "start_time": "2021-08-08T21:32:46.049Z"
   },
   {
    "duration": 18,
    "start_time": "2021-08-08T21:32:46.784Z"
   },
   {
    "duration": 9,
    "start_time": "2021-08-08T21:32:46.806Z"
   },
   {
    "duration": 9,
    "start_time": "2021-08-08T21:32:46.818Z"
   },
   {
    "duration": 8,
    "start_time": "2021-08-08T21:32:46.831Z"
   },
   {
    "duration": 53,
    "start_time": "2021-08-08T21:32:46.842Z"
   },
   {
    "duration": 23148,
    "start_time": "2021-08-08T21:32:46.898Z"
   },
   {
    "duration": 10,
    "start_time": "2021-08-08T21:33:10.048Z"
   },
   {
    "duration": 97,
    "start_time": "2021-08-08T21:33:10.062Z"
   },
   {
    "duration": 26,
    "start_time": "2021-08-08T21:33:10.161Z"
   },
   {
    "duration": 6,
    "start_time": "2021-08-08T21:33:10.190Z"
   },
   {
    "duration": 7,
    "start_time": "2021-08-08T21:33:10.199Z"
   },
   {
    "duration": 9,
    "start_time": "2021-08-08T21:33:10.208Z"
   },
   {
    "duration": 410,
    "start_time": "2021-08-08T21:33:10.220Z"
   },
   {
    "duration": 19,
    "start_time": "2021-08-08T21:33:10.633Z"
   },
   {
    "duration": 31,
    "start_time": "2021-08-08T21:33:10.655Z"
   },
   {
    "duration": 857,
    "start_time": "2021-08-08T21:33:10.695Z"
   },
   {
    "duration": 163,
    "start_time": "2021-08-08T21:33:11.556Z"
   },
   {
    "duration": 346,
    "start_time": "2021-08-08T21:33:11.722Z"
   },
   {
    "duration": 323,
    "start_time": "2021-08-08T21:33:12.071Z"
   },
   {
    "duration": 7,
    "start_time": "2021-08-08T21:33:12.396Z"
   },
   {
    "duration": 8019,
    "start_time": "2021-08-08T21:33:12.406Z"
   },
   {
    "duration": 15,
    "start_time": "2021-08-08T21:33:20.427Z"
   },
   {
    "duration": 22,
    "start_time": "2021-08-08T21:33:20.445Z"
   },
   {
    "duration": 755,
    "start_time": "2021-08-08T21:33:20.469Z"
   },
   {
    "duration": 18,
    "start_time": "2021-08-08T21:33:21.227Z"
   },
   {
    "duration": 775,
    "start_time": "2021-08-08T21:33:21.248Z"
   },
   {
    "duration": 23,
    "start_time": "2021-08-08T21:33:22.027Z"
   },
   {
    "duration": 8,
    "start_time": "2021-08-08T21:33:22.054Z"
   },
   {
    "duration": 22,
    "start_time": "2021-08-08T21:33:22.065Z"
   },
   {
    "duration": 11,
    "start_time": "2021-08-08T21:33:22.089Z"
   },
   {
    "duration": 6,
    "start_time": "2021-08-08T21:33:22.103Z"
   },
   {
    "duration": 6,
    "start_time": "2021-08-08T21:33:22.111Z"
   },
   {
    "duration": 6,
    "start_time": "2021-08-08T21:33:22.119Z"
   },
   {
    "duration": 6,
    "start_time": "2021-08-08T21:33:22.128Z"
   },
   {
    "duration": 540779,
    "start_time": "2021-08-08T21:33:22.137Z"
   },
   {
    "duration": 15,
    "start_time": "2021-08-08T21:42:22.918Z"
   },
   {
    "duration": 8,
    "start_time": "2021-08-08T21:42:22.935Z"
   },
   {
    "duration": 8,
    "start_time": "2021-08-08T21:42:22.946Z"
   },
   {
    "duration": 6,
    "start_time": "2021-08-08T21:42:22.987Z"
   },
   {
    "duration": 29,
    "start_time": "2021-08-08T21:42:22.996Z"
   },
   {
    "duration": 59,
    "start_time": "2021-08-08T21:42:23.028Z"
   },
   {
    "duration": 11,
    "start_time": "2021-08-08T21:42:23.089Z"
   },
   {
    "duration": 11,
    "start_time": "2021-08-08T21:42:23.103Z"
   },
   {
    "duration": 9,
    "start_time": "2021-08-08T21:42:23.117Z"
   },
   {
    "duration": 16,
    "start_time": "2021-08-08T21:42:23.129Z"
   },
   {
    "duration": 38,
    "start_time": "2021-08-08T21:42:23.148Z"
   },
   {
    "duration": 12,
    "start_time": "2021-08-08T21:42:23.189Z"
   },
   {
    "duration": 3883,
    "start_time": "2021-08-08T21:54:14.730Z"
   },
   {
    "duration": 2157,
    "start_time": "2021-08-08T21:54:18.617Z"
   },
   {
    "duration": 921,
    "start_time": "2021-08-08T21:54:20.778Z"
   },
   {
    "duration": 27,
    "start_time": "2021-08-08T21:54:21.702Z"
   },
   {
    "duration": 119,
    "start_time": "2021-08-08T21:54:21.733Z"
   },
   {
    "duration": 5,
    "start_time": "2021-08-08T21:54:21.854Z"
   },
   {
    "duration": 699,
    "start_time": "2021-08-08T21:54:21.886Z"
   },
   {
    "duration": 19,
    "start_time": "2021-08-08T21:54:22.589Z"
   },
   {
    "duration": 6,
    "start_time": "2021-08-08T21:54:22.611Z"
   },
   {
    "duration": 5,
    "start_time": "2021-08-08T21:54:22.620Z"
   },
   {
    "duration": 13,
    "start_time": "2021-08-08T21:54:22.628Z"
   },
   {
    "duration": 48,
    "start_time": "2021-08-08T21:54:22.643Z"
   },
   {
    "duration": 16464,
    "start_time": "2021-08-08T21:54:22.693Z"
   },
   {
    "duration": 9,
    "start_time": "2021-08-08T21:54:39.160Z"
   },
   {
    "duration": 89,
    "start_time": "2021-08-08T21:54:39.171Z"
   },
   {
    "duration": 27,
    "start_time": "2021-08-08T21:54:39.262Z"
   },
   {
    "duration": 5,
    "start_time": "2021-08-08T21:54:39.291Z"
   },
   {
    "duration": 8,
    "start_time": "2021-08-08T21:54:39.299Z"
   },
   {
    "duration": 11,
    "start_time": "2021-08-08T21:54:39.309Z"
   },
   {
    "duration": 307,
    "start_time": "2021-08-08T21:54:39.322Z"
   },
   {
    "duration": 15,
    "start_time": "2021-08-08T21:54:39.632Z"
   },
   {
    "duration": 5,
    "start_time": "2021-08-08T21:54:39.650Z"
   },
   {
    "duration": 906,
    "start_time": "2021-08-08T21:54:39.689Z"
   },
   {
    "duration": 157,
    "start_time": "2021-08-08T21:54:40.598Z"
   },
   {
    "duration": 357,
    "start_time": "2021-08-08T21:54:40.757Z"
   },
   {
    "duration": 312,
    "start_time": "2021-08-08T21:54:41.116Z"
   },
   {
    "duration": 7,
    "start_time": "2021-08-08T21:54:41.430Z"
   },
   {
    "duration": 7134,
    "start_time": "2021-08-08T21:54:41.439Z"
   },
   {
    "duration": 21,
    "start_time": "2021-08-08T21:54:48.576Z"
   },
   {
    "duration": 18,
    "start_time": "2021-08-08T21:54:48.600Z"
   },
   {
    "duration": 545,
    "start_time": "2021-08-08T21:54:48.620Z"
   },
   {
    "duration": 25,
    "start_time": "2021-08-08T21:54:49.168Z"
   },
   {
    "duration": 556,
    "start_time": "2021-08-08T21:54:49.195Z"
   },
   {
    "duration": 31,
    "start_time": "2021-08-08T21:54:49.754Z"
   },
   {
    "duration": 8,
    "start_time": "2021-08-08T21:54:49.788Z"
   },
   {
    "duration": 11,
    "start_time": "2021-08-08T21:54:49.798Z"
   },
   {
    "duration": 10,
    "start_time": "2021-08-08T21:54:49.811Z"
   },
   {
    "duration": 8,
    "start_time": "2021-08-08T21:54:49.823Z"
   },
   {
    "duration": 7,
    "start_time": "2021-08-08T21:54:49.833Z"
   },
   {
    "duration": 6,
    "start_time": "2021-08-08T21:54:49.843Z"
   },
   {
    "duration": 33,
    "start_time": "2021-08-08T21:54:49.852Z"
   },
   {
    "duration": 534280,
    "start_time": "2021-08-08T21:54:49.888Z"
   },
   {
    "duration": 22,
    "start_time": "2021-08-08T22:03:44.171Z"
   },
   {
    "duration": 9,
    "start_time": "2021-08-08T22:03:44.196Z"
   },
   {
    "duration": 10,
    "start_time": "2021-08-08T22:03:44.208Z"
   },
   {
    "duration": 7,
    "start_time": "2021-08-08T22:03:44.220Z"
   },
   {
    "duration": 9,
    "start_time": "2021-08-08T22:03:44.229Z"
   },
   {
    "duration": 79,
    "start_time": "2021-08-08T22:03:44.240Z"
   },
   {
    "duration": 28,
    "start_time": "2021-08-08T22:03:44.322Z"
   },
   {
    "duration": 10,
    "start_time": "2021-08-08T22:03:44.352Z"
   },
   {
    "duration": 4,
    "start_time": "2021-08-08T22:03:44.386Z"
   },
   {
    "duration": 13,
    "start_time": "2021-08-08T22:03:44.393Z"
   },
   {
    "duration": 4,
    "start_time": "2021-08-08T22:03:44.408Z"
   },
   {
    "duration": 13,
    "start_time": "2021-08-08T22:03:44.414Z"
   },
   {
    "duration": 3860,
    "start_time": "2021-08-08T22:05:53.396Z"
   },
   {
    "duration": 2207,
    "start_time": "2021-08-08T22:05:57.259Z"
   },
   {
    "duration": 937,
    "start_time": "2021-08-08T22:05:59.470Z"
   },
   {
    "duration": 27,
    "start_time": "2021-08-08T22:06:00.410Z"
   },
   {
    "duration": 122,
    "start_time": "2021-08-08T22:06:00.440Z"
   },
   {
    "duration": 4,
    "start_time": "2021-08-08T22:06:00.565Z"
   },
   {
    "duration": 731,
    "start_time": "2021-08-08T22:06:00.572Z"
   },
   {
    "duration": 18,
    "start_time": "2021-08-08T22:06:01.306Z"
   },
   {
    "duration": 27,
    "start_time": "2021-08-08T22:06:01.327Z"
   },
   {
    "duration": 27,
    "start_time": "2021-08-08T22:06:01.356Z"
   },
   {
    "duration": 31,
    "start_time": "2021-08-08T22:06:01.386Z"
   },
   {
    "duration": 19,
    "start_time": "2021-08-08T22:06:01.419Z"
   },
   {
    "duration": 15088,
    "start_time": "2021-08-08T22:06:01.440Z"
   },
   {
    "duration": 10,
    "start_time": "2021-08-08T22:06:16.530Z"
   },
   {
    "duration": 90,
    "start_time": "2021-08-08T22:06:16.542Z"
   },
   {
    "duration": 9,
    "start_time": "2021-08-08T22:06:16.634Z"
   },
   {
    "duration": 5,
    "start_time": "2021-08-08T22:06:16.646Z"
   },
   {
    "duration": 31,
    "start_time": "2021-08-08T22:06:16.654Z"
   },
   {
    "duration": 6,
    "start_time": "2021-08-08T22:06:16.687Z"
   },
   {
    "duration": 331,
    "start_time": "2021-08-08T22:06:16.695Z"
   },
   {
    "duration": 17,
    "start_time": "2021-08-08T22:06:17.029Z"
   },
   {
    "duration": 9,
    "start_time": "2021-08-08T22:06:17.048Z"
   },
   {
    "duration": 835,
    "start_time": "2021-08-08T22:06:17.087Z"
   },
   {
    "duration": 150,
    "start_time": "2021-08-08T22:06:17.925Z"
   },
   {
    "duration": 347,
    "start_time": "2021-08-08T22:06:18.077Z"
   },
   {
    "duration": 316,
    "start_time": "2021-08-08T22:06:18.426Z"
   },
   {
    "duration": 7,
    "start_time": "2021-08-08T22:06:18.745Z"
   },
   {
    "duration": 6836,
    "start_time": "2021-08-08T22:06:18.754Z"
   },
   {
    "duration": 16,
    "start_time": "2021-08-08T22:06:25.592Z"
   },
   {
    "duration": 554,
    "start_time": "2021-08-08T22:06:25.610Z"
   },
   {
    "duration": 25,
    "start_time": "2021-08-08T22:06:26.167Z"
   },
   {
    "duration": 543,
    "start_time": "2021-08-08T22:06:26.194Z"
   },
   {
    "duration": 17,
    "start_time": "2021-08-08T22:06:26.739Z"
   },
   {
    "duration": 27,
    "start_time": "2021-08-08T22:06:26.759Z"
   },
   {
    "duration": 12,
    "start_time": "2021-08-08T22:06:26.789Z"
   },
   {
    "duration": 8,
    "start_time": "2021-08-08T22:06:26.804Z"
   },
   {
    "duration": 7,
    "start_time": "2021-08-08T22:06:26.815Z"
   },
   {
    "duration": 8,
    "start_time": "2021-08-08T22:06:26.824Z"
   },
   {
    "duration": 6,
    "start_time": "2021-08-08T22:06:26.834Z"
   },
   {
    "duration": 7,
    "start_time": "2021-08-08T22:06:26.843Z"
   },
   {
    "duration": 491460,
    "start_time": "2021-08-08T22:06:26.853Z"
   },
   {
    "duration": 15,
    "start_time": "2021-08-08T22:14:38.315Z"
   },
   {
    "duration": 6,
    "start_time": "2021-08-08T22:14:38.332Z"
   },
   {
    "duration": 13,
    "start_time": "2021-08-08T22:14:38.340Z"
   },
   {
    "duration": 32,
    "start_time": "2021-08-08T22:14:38.355Z"
   },
   {
    "duration": 5,
    "start_time": "2021-08-08T22:14:38.389Z"
   },
   {
    "duration": 15,
    "start_time": "2021-08-08T22:14:38.397Z"
   },
   {
    "duration": 29,
    "start_time": "2021-08-08T22:14:38.414Z"
   },
   {
    "duration": 40,
    "start_time": "2021-08-08T22:14:38.445Z"
   },
   {
    "duration": 4,
    "start_time": "2021-08-08T22:14:38.487Z"
   },
   {
    "duration": 9,
    "start_time": "2021-08-08T22:14:38.493Z"
   },
   {
    "duration": 5,
    "start_time": "2021-08-08T22:14:38.504Z"
   },
   {
    "duration": 14,
    "start_time": "2021-08-08T22:14:38.511Z"
   }
  ],
  "kernelspec": {
   "display_name": "Python 3 (ipykernel)",
   "language": "python",
   "name": "python3"
  },
  "language_info": {
   "codemirror_mode": {
    "name": "ipython",
    "version": 3
   },
   "file_extension": ".py",
   "mimetype": "text/x-python",
   "name": "python",
   "nbconvert_exporter": "python",
   "pygments_lexer": "ipython3",
   "version": "3.9.5"
  },
  "toc": {
   "base_numbering": 1,
   "nav_menu": {},
   "number_sections": false,
   "sideBar": false,
   "skip_h1_title": true,
   "title_cell": "Содержание",
   "title_sidebar": "Contents",
   "toc_cell": false,
   "toc_position": {},
   "toc_section_display": false,
   "toc_window_display": false
  }
 },
 "nbformat": 4,
 "nbformat_minor": 2
}
