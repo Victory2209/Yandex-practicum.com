{
 "cells": [
  {
   "cell_type": "markdown",
   "metadata": {},
   "source": [
    "# Отток клиентов"
   ]
  },
  {
   "cell_type": "markdown",
   "metadata": {},
   "source": [
    "Из «Бета-Банка» стали уходить клиенты. Каждый месяц. Немного, но заметно. Банковские маркетологи посчитали: сохранять текущих клиентов дешевле, чем привлекать новых.\n",
    "\n",
    "Нужно спрогнозировать, уйдёт клиент из банка в ближайшее время или нет. Вам предоставлены исторические данные о поведении клиентов и расторжении договоров с банком. \n",
    "\n",
    "Постройте модель с предельно большим значением *F1*-меры. Чтобы сдать проект успешно, нужно довести метрику до 0.59. Проверьте *F1*-меру на тестовой выборке самостоятельно.\n",
    "\n",
    "Дополнительно измеряйте *AUC-ROC*, сравнивайте её значение с *F1*-мерой."
   ]
  },
  {
   "cell_type": "markdown",
   "metadata": {},
   "source": [
    "## Подготовка данных"
   ]
  },
  {
   "cell_type": "code",
   "execution_count": 2,
   "metadata": {},
   "outputs": [],
   "source": [
    "import pandas as pd \n",
    "import numpy as np\n",
    "import matplotlib.pyplot as plt\n",
    "from sklearn.model_selection import train_test_split, GridSearchCV\n",
    "from sklearn.preprocessing import StandardScaler\n",
    "from sklearn.tree import DecisionTreeClassifier\n",
    "from sklearn.ensemble import RandomForestClassifier, RandomForestRegressor\n",
    "from sklearn.linear_model import LogisticRegression\n",
    "from sklearn.metrics import accuracy_score, confusion_matrix, recall_score, precision_score, f1_score, roc_auc_score, roc_curve\n",
    "from sklearn.utils import shuffle "
   ]
  },
  {
   "cell_type": "code",
   "execution_count": 3,
   "metadata": {},
   "outputs": [
    {
     "data": {
      "text/html": [
       "<div>\n",
       "<style scoped>\n",
       "    .dataframe tbody tr th:only-of-type {\n",
       "        vertical-align: middle;\n",
       "    }\n",
       "\n",
       "    .dataframe tbody tr th {\n",
       "        vertical-align: top;\n",
       "    }\n",
       "\n",
       "    .dataframe thead th {\n",
       "        text-align: right;\n",
       "    }\n",
       "</style>\n",
       "<table border=\"1\" class=\"dataframe\">\n",
       "  <thead>\n",
       "    <tr style=\"text-align: right;\">\n",
       "      <th></th>\n",
       "      <th>RowNumber</th>\n",
       "      <th>CustomerId</th>\n",
       "      <th>Surname</th>\n",
       "      <th>CreditScore</th>\n",
       "      <th>Geography</th>\n",
       "      <th>Gender</th>\n",
       "      <th>Age</th>\n",
       "      <th>Tenure</th>\n",
       "      <th>Balance</th>\n",
       "      <th>NumOfProducts</th>\n",
       "      <th>HasCrCard</th>\n",
       "      <th>IsActiveMember</th>\n",
       "      <th>EstimatedSalary</th>\n",
       "      <th>Exited</th>\n",
       "    </tr>\n",
       "  </thead>\n",
       "  <tbody>\n",
       "    <tr>\n",
       "      <td>0</td>\n",
       "      <td>1</td>\n",
       "      <td>15634602</td>\n",
       "      <td>Hargrave</td>\n",
       "      <td>619</td>\n",
       "      <td>France</td>\n",
       "      <td>Female</td>\n",
       "      <td>42</td>\n",
       "      <td>2.0</td>\n",
       "      <td>0.00</td>\n",
       "      <td>1</td>\n",
       "      <td>1</td>\n",
       "      <td>1</td>\n",
       "      <td>101348.88</td>\n",
       "      <td>1</td>\n",
       "    </tr>\n",
       "    <tr>\n",
       "      <td>1</td>\n",
       "      <td>2</td>\n",
       "      <td>15647311</td>\n",
       "      <td>Hill</td>\n",
       "      <td>608</td>\n",
       "      <td>Spain</td>\n",
       "      <td>Female</td>\n",
       "      <td>41</td>\n",
       "      <td>1.0</td>\n",
       "      <td>83807.86</td>\n",
       "      <td>1</td>\n",
       "      <td>0</td>\n",
       "      <td>1</td>\n",
       "      <td>112542.58</td>\n",
       "      <td>0</td>\n",
       "    </tr>\n",
       "    <tr>\n",
       "      <td>2</td>\n",
       "      <td>3</td>\n",
       "      <td>15619304</td>\n",
       "      <td>Onio</td>\n",
       "      <td>502</td>\n",
       "      <td>France</td>\n",
       "      <td>Female</td>\n",
       "      <td>42</td>\n",
       "      <td>8.0</td>\n",
       "      <td>159660.80</td>\n",
       "      <td>3</td>\n",
       "      <td>1</td>\n",
       "      <td>0</td>\n",
       "      <td>113931.57</td>\n",
       "      <td>1</td>\n",
       "    </tr>\n",
       "    <tr>\n",
       "      <td>3</td>\n",
       "      <td>4</td>\n",
       "      <td>15701354</td>\n",
       "      <td>Boni</td>\n",
       "      <td>699</td>\n",
       "      <td>France</td>\n",
       "      <td>Female</td>\n",
       "      <td>39</td>\n",
       "      <td>1.0</td>\n",
       "      <td>0.00</td>\n",
       "      <td>2</td>\n",
       "      <td>0</td>\n",
       "      <td>0</td>\n",
       "      <td>93826.63</td>\n",
       "      <td>0</td>\n",
       "    </tr>\n",
       "    <tr>\n",
       "      <td>4</td>\n",
       "      <td>5</td>\n",
       "      <td>15737888</td>\n",
       "      <td>Mitchell</td>\n",
       "      <td>850</td>\n",
       "      <td>Spain</td>\n",
       "      <td>Female</td>\n",
       "      <td>43</td>\n",
       "      <td>2.0</td>\n",
       "      <td>125510.82</td>\n",
       "      <td>1</td>\n",
       "      <td>1</td>\n",
       "      <td>1</td>\n",
       "      <td>79084.10</td>\n",
       "      <td>0</td>\n",
       "    </tr>\n",
       "    <tr>\n",
       "      <td>5</td>\n",
       "      <td>6</td>\n",
       "      <td>15574012</td>\n",
       "      <td>Chu</td>\n",
       "      <td>645</td>\n",
       "      <td>Spain</td>\n",
       "      <td>Male</td>\n",
       "      <td>44</td>\n",
       "      <td>8.0</td>\n",
       "      <td>113755.78</td>\n",
       "      <td>2</td>\n",
       "      <td>1</td>\n",
       "      <td>0</td>\n",
       "      <td>149756.71</td>\n",
       "      <td>1</td>\n",
       "    </tr>\n",
       "    <tr>\n",
       "      <td>6</td>\n",
       "      <td>7</td>\n",
       "      <td>15592531</td>\n",
       "      <td>Bartlett</td>\n",
       "      <td>822</td>\n",
       "      <td>France</td>\n",
       "      <td>Male</td>\n",
       "      <td>50</td>\n",
       "      <td>7.0</td>\n",
       "      <td>0.00</td>\n",
       "      <td>2</td>\n",
       "      <td>1</td>\n",
       "      <td>1</td>\n",
       "      <td>10062.80</td>\n",
       "      <td>0</td>\n",
       "    </tr>\n",
       "    <tr>\n",
       "      <td>7</td>\n",
       "      <td>8</td>\n",
       "      <td>15656148</td>\n",
       "      <td>Obinna</td>\n",
       "      <td>376</td>\n",
       "      <td>Germany</td>\n",
       "      <td>Female</td>\n",
       "      <td>29</td>\n",
       "      <td>4.0</td>\n",
       "      <td>115046.74</td>\n",
       "      <td>4</td>\n",
       "      <td>1</td>\n",
       "      <td>0</td>\n",
       "      <td>119346.88</td>\n",
       "      <td>1</td>\n",
       "    </tr>\n",
       "    <tr>\n",
       "      <td>8</td>\n",
       "      <td>9</td>\n",
       "      <td>15792365</td>\n",
       "      <td>He</td>\n",
       "      <td>501</td>\n",
       "      <td>France</td>\n",
       "      <td>Male</td>\n",
       "      <td>44</td>\n",
       "      <td>4.0</td>\n",
       "      <td>142051.07</td>\n",
       "      <td>2</td>\n",
       "      <td>0</td>\n",
       "      <td>1</td>\n",
       "      <td>74940.50</td>\n",
       "      <td>0</td>\n",
       "    </tr>\n",
       "    <tr>\n",
       "      <td>9</td>\n",
       "      <td>10</td>\n",
       "      <td>15592389</td>\n",
       "      <td>H?</td>\n",
       "      <td>684</td>\n",
       "      <td>France</td>\n",
       "      <td>Male</td>\n",
       "      <td>27</td>\n",
       "      <td>2.0</td>\n",
       "      <td>134603.88</td>\n",
       "      <td>1</td>\n",
       "      <td>1</td>\n",
       "      <td>1</td>\n",
       "      <td>71725.73</td>\n",
       "      <td>0</td>\n",
       "    </tr>\n",
       "  </tbody>\n",
       "</table>\n",
       "</div>"
      ],
      "text/plain": [
       "   RowNumber  CustomerId   Surname  CreditScore Geography  Gender  Age  \\\n",
       "0          1    15634602  Hargrave          619    France  Female   42   \n",
       "1          2    15647311      Hill          608     Spain  Female   41   \n",
       "2          3    15619304      Onio          502    France  Female   42   \n",
       "3          4    15701354      Boni          699    France  Female   39   \n",
       "4          5    15737888  Mitchell          850     Spain  Female   43   \n",
       "5          6    15574012       Chu          645     Spain    Male   44   \n",
       "6          7    15592531  Bartlett          822    France    Male   50   \n",
       "7          8    15656148    Obinna          376   Germany  Female   29   \n",
       "8          9    15792365        He          501    France    Male   44   \n",
       "9         10    15592389        H?          684    France    Male   27   \n",
       "\n",
       "   Tenure    Balance  NumOfProducts  HasCrCard  IsActiveMember  \\\n",
       "0     2.0       0.00              1          1               1   \n",
       "1     1.0   83807.86              1          0               1   \n",
       "2     8.0  159660.80              3          1               0   \n",
       "3     1.0       0.00              2          0               0   \n",
       "4     2.0  125510.82              1          1               1   \n",
       "5     8.0  113755.78              2          1               0   \n",
       "6     7.0       0.00              2          1               1   \n",
       "7     4.0  115046.74              4          1               0   \n",
       "8     4.0  142051.07              2          0               1   \n",
       "9     2.0  134603.88              1          1               1   \n",
       "\n",
       "   EstimatedSalary  Exited  \n",
       "0        101348.88       1  \n",
       "1        112542.58       0  \n",
       "2        113931.57       1  \n",
       "3         93826.63       0  \n",
       "4         79084.10       0  \n",
       "5        149756.71       1  \n",
       "6         10062.80       0  \n",
       "7        119346.88       1  \n",
       "8         74940.50       0  \n",
       "9         71725.73       0  "
      ]
     },
     "metadata": {},
     "output_type": "display_data"
    }
   ],
   "source": [
    "data = pd.read_csv('/datasets/Churn.csv')\n",
    "display(data.head(10))"
   ]
  },
  {
   "cell_type": "code",
   "execution_count": 4,
   "metadata": {},
   "outputs": [
    {
     "name": "stdout",
     "output_type": "stream",
     "text": [
      "<class 'pandas.core.frame.DataFrame'>\n",
      "RangeIndex: 10000 entries, 0 to 9999\n",
      "Data columns (total 14 columns):\n",
      "RowNumber          10000 non-null int64\n",
      "CustomerId         10000 non-null int64\n",
      "Surname            10000 non-null object\n",
      "CreditScore        10000 non-null int64\n",
      "Geography          10000 non-null object\n",
      "Gender             10000 non-null object\n",
      "Age                10000 non-null int64\n",
      "Tenure             9091 non-null float64\n",
      "Balance            10000 non-null float64\n",
      "NumOfProducts      10000 non-null int64\n",
      "HasCrCard          10000 non-null int64\n",
      "IsActiveMember     10000 non-null int64\n",
      "EstimatedSalary    10000 non-null float64\n",
      "Exited             10000 non-null int64\n",
      "dtypes: float64(3), int64(8), object(3)\n",
      "memory usage: 1.1+ MB\n"
     ]
    }
   ],
   "source": [
    "data.info()"
   ]
  },
  {
   "cell_type": "markdown",
   "metadata": {},
   "source": [
    "Датасет содержит 10000 строк и 14 столбцов. Пропуски есть в столбце Tenure (сколько лет человек является клиентом банка). \n",
    "Что нам нужно сделать, чтобы подготовить данные к машинному обучению? \n",
    "\n",
    "Tenure - убрать пропуски, заменить на медианное или среднее значение. \n",
    "RowNumber — столбец по сути дублирует информацию стандартного датафрейма, то есть является идентификационным номером клиента, поэтому его можно удалить.   \n",
    "CustomerId — аналогичная ситуация - значения столбца являются идентификатором пользователя. Проверим наличие дубликатов и если их не будет, то удалим столбец.   \n",
    "Surname — данный столбец не несет никакой ценности для прогноза и для обучения будущей модели - можно удалить.   \n",
    "Geography — проверим уникальные значения и затем, если понадбится выполним преобразование OHE / ordinal encoding.  \n",
    "Gender — выполним преобразование OHE / ordinal encoding.  \n",
    "Age — выполним преобразование OHE / ordinal encoding.  \n",
    "Exited - выполним преобразование OHE / ordinal encoding.  "
   ]
  },
  {
   "cell_type": "code",
   "execution_count": 5,
   "metadata": {},
   "outputs": [
    {
     "data": {
      "text/plain": [
       "0"
      ]
     },
     "execution_count": 5,
     "metadata": {},
     "output_type": "execute_result"
    }
   ],
   "source": [
    "data.duplicated().sum()"
   ]
  },
  {
   "cell_type": "code",
   "execution_count": 6,
   "metadata": {},
   "outputs": [
    {
     "data": {
      "text/plain": [
       "10000"
      ]
     },
     "execution_count": 6,
     "metadata": {},
     "output_type": "execute_result"
    }
   ],
   "source": [
    "data['CustomerId'].value_counts().sum()"
   ]
  },
  {
   "cell_type": "code",
   "execution_count": 7,
   "metadata": {},
   "outputs": [
    {
     "data": {
      "text/plain": [
       "0"
      ]
     },
     "execution_count": 7,
     "metadata": {},
     "output_type": "execute_result"
    }
   ],
   "source": [
    "data['CustomerId'].duplicated().sum()"
   ]
  },
  {
   "cell_type": "markdown",
   "metadata": {},
   "source": [
    "Дубликатов нет - можем удалять столбцы, которые нам не понадобятся."
   ]
  },
  {
   "cell_type": "code",
   "execution_count": 8,
   "metadata": {},
   "outputs": [],
   "source": [
    "data.drop([\"RowNumber\", \"CustomerId\", \"Surname\"], axis=1, inplace=True)"
   ]
  },
  {
   "cell_type": "code",
   "execution_count": 9,
   "metadata": {},
   "outputs": [
    {
     "data": {
      "text/plain": [
       "France     5014\n",
       "Germany    2509\n",
       "Spain      2477\n",
       "Name: Geography, dtype: int64"
      ]
     },
     "execution_count": 9,
     "metadata": {},
     "output_type": "execute_result"
    }
   ],
   "source": [
    "data['Geography'].value_counts()"
   ]
  },
  {
   "cell_type": "code",
   "execution_count": 10,
   "metadata": {},
   "outputs": [
    {
     "name": "stdout",
     "output_type": "stream",
     "text": [
      "4.997690023099769\n",
      "5.0\n"
     ]
    }
   ],
   "source": [
    "print(data['Tenure'].mean())\n",
    "print(data['Tenure'].median())"
   ]
  },
  {
   "cell_type": "code",
   "execution_count": 11,
   "metadata": {},
   "outputs": [],
   "source": [
    "data['Tenure'] = data['Tenure'].fillna(data['Tenure'].median())\n",
    "#data.info()"
   ]
  },
  {
   "cell_type": "markdown",
   "metadata": {},
   "source": [
    "Посмотрим долю положительных и отрицательных ответов:"
   ]
  },
  {
   "cell_type": "code",
   "execution_count": 12,
   "metadata": {},
   "outputs": [
    {
     "data": {
      "text/plain": [
       "0.20369999999999389"
      ]
     },
     "execution_count": 12,
     "metadata": {},
     "output_type": "execute_result"
    }
   ],
   "source": [
    "sum(data[\"Exited\"]/len(data))"
   ]
  },
  {
   "cell_type": "code",
   "execution_count": 13,
   "metadata": {},
   "outputs": [
    {
     "data": {
      "text/plain": [
       "0.7963000000000061"
      ]
     },
     "execution_count": 13,
     "metadata": {},
     "output_type": "execute_result"
    }
   ],
   "source": [
    "1-sum(data[\"Exited\"]/len(data))"
   ]
  },
  {
   "cell_type": "markdown",
   "metadata": {},
   "source": [
    "Доля отрицательных ответов больше, а значит, что в 20% случаев клиенты уходят из банка. "
   ]
  },
  {
   "cell_type": "markdown",
   "metadata": {},
   "source": [
    "Выполним прямое кодирование OHE, чтобы не попасться в дамми-ловушку, и чтобы в дальнейшем мы смогли обучить три модели - случайный лес, дерево решений и логистическую регрессию."
   ]
  },
  {
   "cell_type": "code",
   "execution_count": 14,
   "metadata": {
    "scrolled": false
   },
   "outputs": [
    {
     "data": {
      "text/html": [
       "<div>\n",
       "<style scoped>\n",
       "    .dataframe tbody tr th:only-of-type {\n",
       "        vertical-align: middle;\n",
       "    }\n",
       "\n",
       "    .dataframe tbody tr th {\n",
       "        vertical-align: top;\n",
       "    }\n",
       "\n",
       "    .dataframe thead th {\n",
       "        text-align: right;\n",
       "    }\n",
       "</style>\n",
       "<table border=\"1\" class=\"dataframe\">\n",
       "  <thead>\n",
       "    <tr style=\"text-align: right;\">\n",
       "      <th></th>\n",
       "      <th>CreditScore</th>\n",
       "      <th>Age</th>\n",
       "      <th>Tenure</th>\n",
       "      <th>Balance</th>\n",
       "      <th>NumOfProducts</th>\n",
       "      <th>HasCrCard</th>\n",
       "      <th>IsActiveMember</th>\n",
       "      <th>EstimatedSalary</th>\n",
       "      <th>Exited</th>\n",
       "      <th>Geography_Germany</th>\n",
       "      <th>Geography_Spain</th>\n",
       "      <th>Gender_Male</th>\n",
       "    </tr>\n",
       "  </thead>\n",
       "  <tbody>\n",
       "    <tr>\n",
       "      <td>0</td>\n",
       "      <td>619</td>\n",
       "      <td>42</td>\n",
       "      <td>2.0</td>\n",
       "      <td>0.00</td>\n",
       "      <td>1</td>\n",
       "      <td>1</td>\n",
       "      <td>1</td>\n",
       "      <td>101348.88</td>\n",
       "      <td>1</td>\n",
       "      <td>0</td>\n",
       "      <td>0</td>\n",
       "      <td>0</td>\n",
       "    </tr>\n",
       "    <tr>\n",
       "      <td>1</td>\n",
       "      <td>608</td>\n",
       "      <td>41</td>\n",
       "      <td>1.0</td>\n",
       "      <td>83807.86</td>\n",
       "      <td>1</td>\n",
       "      <td>0</td>\n",
       "      <td>1</td>\n",
       "      <td>112542.58</td>\n",
       "      <td>0</td>\n",
       "      <td>0</td>\n",
       "      <td>1</td>\n",
       "      <td>0</td>\n",
       "    </tr>\n",
       "    <tr>\n",
       "      <td>2</td>\n",
       "      <td>502</td>\n",
       "      <td>42</td>\n",
       "      <td>8.0</td>\n",
       "      <td>159660.80</td>\n",
       "      <td>3</td>\n",
       "      <td>1</td>\n",
       "      <td>0</td>\n",
       "      <td>113931.57</td>\n",
       "      <td>1</td>\n",
       "      <td>0</td>\n",
       "      <td>0</td>\n",
       "      <td>0</td>\n",
       "    </tr>\n",
       "    <tr>\n",
       "      <td>3</td>\n",
       "      <td>699</td>\n",
       "      <td>39</td>\n",
       "      <td>1.0</td>\n",
       "      <td>0.00</td>\n",
       "      <td>2</td>\n",
       "      <td>0</td>\n",
       "      <td>0</td>\n",
       "      <td>93826.63</td>\n",
       "      <td>0</td>\n",
       "      <td>0</td>\n",
       "      <td>0</td>\n",
       "      <td>0</td>\n",
       "    </tr>\n",
       "    <tr>\n",
       "      <td>4</td>\n",
       "      <td>850</td>\n",
       "      <td>43</td>\n",
       "      <td>2.0</td>\n",
       "      <td>125510.82</td>\n",
       "      <td>1</td>\n",
       "      <td>1</td>\n",
       "      <td>1</td>\n",
       "      <td>79084.10</td>\n",
       "      <td>0</td>\n",
       "      <td>0</td>\n",
       "      <td>1</td>\n",
       "      <td>0</td>\n",
       "    </tr>\n",
       "  </tbody>\n",
       "</table>\n",
       "</div>"
      ],
      "text/plain": [
       "   CreditScore  Age  Tenure    Balance  NumOfProducts  HasCrCard  \\\n",
       "0          619   42     2.0       0.00              1          1   \n",
       "1          608   41     1.0   83807.86              1          0   \n",
       "2          502   42     8.0  159660.80              3          1   \n",
       "3          699   39     1.0       0.00              2          0   \n",
       "4          850   43     2.0  125510.82              1          1   \n",
       "\n",
       "   IsActiveMember  EstimatedSalary  Exited  Geography_Germany  \\\n",
       "0               1        101348.88       1                  0   \n",
       "1               1        112542.58       0                  0   \n",
       "2               0        113931.57       1                  0   \n",
       "3               0         93826.63       0                  0   \n",
       "4               1         79084.10       0                  0   \n",
       "\n",
       "   Geography_Spain  Gender_Male  \n",
       "0                0            0  \n",
       "1                1            0  \n",
       "2                0            0  \n",
       "3                0            0  \n",
       "4                1            0  "
      ]
     },
     "metadata": {},
     "output_type": "display_data"
    }
   ],
   "source": [
    "data_ohe = pd.get_dummies(data, drop_first=True)\n",
    "display(data_ohe.head())"
   ]
  },
  {
   "cell_type": "markdown",
   "metadata": {},
   "source": [
    "Поле обозначения признаков, сформируем выборки: обучающую, валидационную и тестовую. Сначала разделим выборку на обучающую и валидационную в соотношении 60:40. Затем поделим валидационную на тестовую и валидационную пополам. В целом получится соотношение выборок 3:1:1."
   ]
  },
  {
   "cell_type": "code",
   "execution_count": 15,
   "metadata": {},
   "outputs": [],
   "source": [
    "features = data_ohe.drop('Exited', axis=1)\n",
    "target = data_ohe['Exited']"
   ]
  },
  {
   "cell_type": "code",
   "execution_count": 16,
   "metadata": {},
   "outputs": [],
   "source": [
    "features_train, features_validtest, target_train, target_validtest = train_test_split(features, target, \n",
    "                                                                              test_size=0.4, \n",
    "                                                                              random_state=1)"
   ]
  },
  {
   "cell_type": "code",
   "execution_count": 17,
   "metadata": {},
   "outputs": [
    {
     "name": "stdout",
     "output_type": "stream",
     "text": [
      "(6000, 11) (6000,) (4000, 11) (4000,)\n"
     ]
    }
   ],
   "source": [
    "print(features_train.shape, target_train.shape, features_validtest.shape, target_validtest.shape)"
   ]
  },
  {
   "cell_type": "code",
   "execution_count": 18,
   "metadata": {},
   "outputs": [],
   "source": [
    "features_valid, features_test, target_valid, target_test = train_test_split(features_validtest,\n",
    "                                                    target_validtest, \n",
    "                                                    train_size=0.5,\n",
    "                                                    random_state=12345 \n",
    "                                                   )"
   ]
  },
  {
   "cell_type": "code",
   "execution_count": 19,
   "metadata": {
    "scrolled": true
   },
   "outputs": [
    {
     "name": "stdout",
     "output_type": "stream",
     "text": [
      "(2000, 11) (2000,) (2000, 11) (2000,)\n"
     ]
    }
   ],
   "source": [
    "print(features_valid.shape, target_valid.shape, features_test.shape, target_test.shape)"
   ]
  },
  {
   "cell_type": "markdown",
   "metadata": {},
   "source": [
    "Перейдем к масштабированию признаков. Для начала зафиксируем численные признаки, затем создадим объект этой структуры и настроим его на обучающих данных. И наконец масштабируем признаки на трех видах выборки. "
   ]
  },
  {
   "cell_type": "code",
   "execution_count": 20,
   "metadata": {},
   "outputs": [],
   "source": [
    "numeric = ['CreditScore', 'Age', 'Tenure', 'Balance', 'NumOfProducts', 'EstimatedSalary']"
   ]
  },
  {
   "cell_type": "code",
   "execution_count": 21,
   "metadata": {},
   "outputs": [
    {
     "data": {
      "text/plain": [
       "StandardScaler(copy=True, with_mean=True, with_std=True)"
      ]
     },
     "execution_count": 21,
     "metadata": {},
     "output_type": "execute_result"
    }
   ],
   "source": [
    "scaler = StandardScaler()\n",
    "scaler.fit(features_train[numeric])"
   ]
  },
  {
   "cell_type": "code",
   "execution_count": 22,
   "metadata": {},
   "outputs": [
    {
     "name": "stderr",
     "output_type": "stream",
     "text": [
      "/opt/conda/lib/python3.7/site-packages/ipykernel_launcher.py:1: SettingWithCopyWarning: \n",
      "A value is trying to be set on a copy of a slice from a DataFrame.\n",
      "Try using .loc[row_indexer,col_indexer] = value instead\n",
      "\n",
      "See the caveats in the documentation: http://pandas.pydata.org/pandas-docs/stable/user_guide/indexing.html#returning-a-view-versus-a-copy\n",
      "  \"\"\"Entry point for launching an IPython kernel.\n",
      "/opt/conda/lib/python3.7/site-packages/pandas/core/indexing.py:494: SettingWithCopyWarning: \n",
      "A value is trying to be set on a copy of a slice from a DataFrame.\n",
      "Try using .loc[row_indexer,col_indexer] = value instead\n",
      "\n",
      "See the caveats in the documentation: http://pandas.pydata.org/pandas-docs/stable/user_guide/indexing.html#returning-a-view-versus-a-copy\n",
      "  self.obj[item] = s\n"
     ]
    },
    {
     "data": {
      "text/html": [
       "<div>\n",
       "<style scoped>\n",
       "    .dataframe tbody tr th:only-of-type {\n",
       "        vertical-align: middle;\n",
       "    }\n",
       "\n",
       "    .dataframe tbody tr th {\n",
       "        vertical-align: top;\n",
       "    }\n",
       "\n",
       "    .dataframe thead th {\n",
       "        text-align: right;\n",
       "    }\n",
       "</style>\n",
       "<table border=\"1\" class=\"dataframe\">\n",
       "  <thead>\n",
       "    <tr style=\"text-align: right;\">\n",
       "      <th></th>\n",
       "      <th>CreditScore</th>\n",
       "      <th>Age</th>\n",
       "      <th>Tenure</th>\n",
       "      <th>Balance</th>\n",
       "      <th>NumOfProducts</th>\n",
       "      <th>HasCrCard</th>\n",
       "      <th>IsActiveMember</th>\n",
       "      <th>EstimatedSalary</th>\n",
       "      <th>Geography_Germany</th>\n",
       "      <th>Geography_Spain</th>\n",
       "      <th>Gender_Male</th>\n",
       "    </tr>\n",
       "  </thead>\n",
       "  <tbody>\n",
       "    <tr>\n",
       "      <td>5834</td>\n",
       "      <td>1.481659</td>\n",
       "      <td>-0.658001</td>\n",
       "      <td>-1.083507</td>\n",
       "      <td>-1.229313</td>\n",
       "      <td>0.807406</td>\n",
       "      <td>1</td>\n",
       "      <td>0</td>\n",
       "      <td>1.639101</td>\n",
       "      <td>0</td>\n",
       "      <td>0</td>\n",
       "      <td>1</td>\n",
       "    </tr>\n",
       "    <tr>\n",
       "      <td>2959</td>\n",
       "      <td>-1.230388</td>\n",
       "      <td>-1.324330</td>\n",
       "      <td>1.448897</td>\n",
       "      <td>1.387941</td>\n",
       "      <td>-0.917820</td>\n",
       "      <td>1</td>\n",
       "      <td>0</td>\n",
       "      <td>-0.627157</td>\n",
       "      <td>0</td>\n",
       "      <td>0</td>\n",
       "      <td>1</td>\n",
       "    </tr>\n",
       "    <tr>\n",
       "      <td>2537</td>\n",
       "      <td>-0.786973</td>\n",
       "      <td>-0.562811</td>\n",
       "      <td>0.001809</td>\n",
       "      <td>0.221712</td>\n",
       "      <td>-0.917820</td>\n",
       "      <td>1</td>\n",
       "      <td>0</td>\n",
       "      <td>0.654565</td>\n",
       "      <td>0</td>\n",
       "      <td>0</td>\n",
       "      <td>0</td>\n",
       "    </tr>\n",
       "    <tr>\n",
       "      <td>166</td>\n",
       "      <td>0.563894</td>\n",
       "      <td>-1.419520</td>\n",
       "      <td>0.725353</td>\n",
       "      <td>0.590561</td>\n",
       "      <td>-0.917820</td>\n",
       "      <td>1</td>\n",
       "      <td>0</td>\n",
       "      <td>1.091898</td>\n",
       "      <td>1</td>\n",
       "      <td>0</td>\n",
       "      <td>0</td>\n",
       "    </tr>\n",
       "    <tr>\n",
       "      <td>9083</td>\n",
       "      <td>-2.292520</td>\n",
       "      <td>0.103519</td>\n",
       "      <td>1.087125</td>\n",
       "      <td>-1.229313</td>\n",
       "      <td>0.807406</td>\n",
       "      <td>1</td>\n",
       "      <td>1</td>\n",
       "      <td>-0.299652</td>\n",
       "      <td>0</td>\n",
       "      <td>1</td>\n",
       "      <td>1</td>\n",
       "    </tr>\n",
       "  </tbody>\n",
       "</table>\n",
       "</div>"
      ],
      "text/plain": [
       "      CreditScore       Age    Tenure   Balance  NumOfProducts  HasCrCard  \\\n",
       "5834     1.481659 -0.658001 -1.083507 -1.229313       0.807406          1   \n",
       "2959    -1.230388 -1.324330  1.448897  1.387941      -0.917820          1   \n",
       "2537    -0.786973 -0.562811  0.001809  0.221712      -0.917820          1   \n",
       "166      0.563894 -1.419520  0.725353  0.590561      -0.917820          1   \n",
       "9083    -2.292520  0.103519  1.087125 -1.229313       0.807406          1   \n",
       "\n",
       "      IsActiveMember  EstimatedSalary  Geography_Germany  Geography_Spain  \\\n",
       "5834               0         1.639101                  0                0   \n",
       "2959               0        -0.627157                  0                0   \n",
       "2537               0         0.654565                  0                0   \n",
       "166                0         1.091898                  1                0   \n",
       "9083               1        -0.299652                  0                1   \n",
       "\n",
       "      Gender_Male  \n",
       "5834            1  \n",
       "2959            1  \n",
       "2537            0  \n",
       "166             0  \n",
       "9083            1  "
      ]
     },
     "execution_count": 22,
     "metadata": {},
     "output_type": "execute_result"
    }
   ],
   "source": [
    "features_train[numeric] = scaler.transform(features_train[numeric])\n",
    "pd.options.mode.chained_assignment = None\n",
    "features_train.head()"
   ]
  },
  {
   "cell_type": "code",
   "execution_count": 23,
   "metadata": {},
   "outputs": [
    {
     "data": {
      "text/html": [
       "<div>\n",
       "<style scoped>\n",
       "    .dataframe tbody tr th:only-of-type {\n",
       "        vertical-align: middle;\n",
       "    }\n",
       "\n",
       "    .dataframe tbody tr th {\n",
       "        vertical-align: top;\n",
       "    }\n",
       "\n",
       "    .dataframe thead th {\n",
       "        text-align: right;\n",
       "    }\n",
       "</style>\n",
       "<table border=\"1\" class=\"dataframe\">\n",
       "  <thead>\n",
       "    <tr style=\"text-align: right;\">\n",
       "      <th></th>\n",
       "      <th>CreditScore</th>\n",
       "      <th>Age</th>\n",
       "      <th>Tenure</th>\n",
       "      <th>Balance</th>\n",
       "      <th>NumOfProducts</th>\n",
       "      <th>HasCrCard</th>\n",
       "      <th>IsActiveMember</th>\n",
       "      <th>EstimatedSalary</th>\n",
       "      <th>Geography_Germany</th>\n",
       "      <th>Geography_Spain</th>\n",
       "      <th>Gender_Male</th>\n",
       "    </tr>\n",
       "  </thead>\n",
       "  <tbody>\n",
       "    <tr>\n",
       "      <td>7402</td>\n",
       "      <td>-0.023888</td>\n",
       "      <td>-0.562811</td>\n",
       "      <td>0.725353</td>\n",
       "      <td>0.723001</td>\n",
       "      <td>0.807406</td>\n",
       "      <td>1</td>\n",
       "      <td>0</td>\n",
       "      <td>-0.398459</td>\n",
       "      <td>0</td>\n",
       "      <td>1</td>\n",
       "      <td>1</td>\n",
       "    </tr>\n",
       "    <tr>\n",
       "      <td>7561</td>\n",
       "      <td>-0.147631</td>\n",
       "      <td>0.198709</td>\n",
       "      <td>-0.359963</td>\n",
       "      <td>0.437781</td>\n",
       "      <td>0.807406</td>\n",
       "      <td>1</td>\n",
       "      <td>0</td>\n",
       "      <td>1.637859</td>\n",
       "      <td>0</td>\n",
       "      <td>0</td>\n",
       "      <td>1</td>\n",
       "    </tr>\n",
       "    <tr>\n",
       "      <td>5887</td>\n",
       "      <td>0.264847</td>\n",
       "      <td>-0.562811</td>\n",
       "      <td>-1.807052</td>\n",
       "      <td>1.053958</td>\n",
       "      <td>-0.917820</td>\n",
       "      <td>1</td>\n",
       "      <td>0</td>\n",
       "      <td>-0.615169</td>\n",
       "      <td>1</td>\n",
       "      <td>0</td>\n",
       "      <td>0</td>\n",
       "    </tr>\n",
       "    <tr>\n",
       "      <td>4426</td>\n",
       "      <td>0.594830</td>\n",
       "      <td>0.484279</td>\n",
       "      <td>0.363581</td>\n",
       "      <td>-1.229313</td>\n",
       "      <td>0.807406</td>\n",
       "      <td>1</td>\n",
       "      <td>1</td>\n",
       "      <td>1.616813</td>\n",
       "      <td>0</td>\n",
       "      <td>0</td>\n",
       "      <td>0</td>\n",
       "    </tr>\n",
       "    <tr>\n",
       "      <td>9200</td>\n",
       "      <td>0.924813</td>\n",
       "      <td>-0.848381</td>\n",
       "      <td>0.363581</td>\n",
       "      <td>-1.229313</td>\n",
       "      <td>-0.917820</td>\n",
       "      <td>0</td>\n",
       "      <td>0</td>\n",
       "      <td>0.394678</td>\n",
       "      <td>0</td>\n",
       "      <td>0</td>\n",
       "      <td>0</td>\n",
       "    </tr>\n",
       "  </tbody>\n",
       "</table>\n",
       "</div>"
      ],
      "text/plain": [
       "      CreditScore       Age    Tenure   Balance  NumOfProducts  HasCrCard  \\\n",
       "7402    -0.023888 -0.562811  0.725353  0.723001       0.807406          1   \n",
       "7561    -0.147631  0.198709 -0.359963  0.437781       0.807406          1   \n",
       "5887     0.264847 -0.562811 -1.807052  1.053958      -0.917820          1   \n",
       "4426     0.594830  0.484279  0.363581 -1.229313       0.807406          1   \n",
       "9200     0.924813 -0.848381  0.363581 -1.229313      -0.917820          0   \n",
       "\n",
       "      IsActiveMember  EstimatedSalary  Geography_Germany  Geography_Spain  \\\n",
       "7402               0        -0.398459                  0                1   \n",
       "7561               0         1.637859                  0                0   \n",
       "5887               0        -0.615169                  1                0   \n",
       "4426               1         1.616813                  0                0   \n",
       "9200               0         0.394678                  0                0   \n",
       "\n",
       "      Gender_Male  \n",
       "7402            1  \n",
       "7561            1  \n",
       "5887            0  \n",
       "4426            0  \n",
       "9200            0  "
      ]
     },
     "execution_count": 23,
     "metadata": {},
     "output_type": "execute_result"
    }
   ],
   "source": [
    "features_valid[numeric] = scaler.transform(features_valid[numeric])\n",
    "features_valid.head()"
   ]
  },
  {
   "cell_type": "code",
   "execution_count": 24,
   "metadata": {
    "scrolled": true
   },
   "outputs": [
    {
     "data": {
      "text/html": [
       "<div>\n",
       "<style scoped>\n",
       "    .dataframe tbody tr th:only-of-type {\n",
       "        vertical-align: middle;\n",
       "    }\n",
       "\n",
       "    .dataframe tbody tr th {\n",
       "        vertical-align: top;\n",
       "    }\n",
       "\n",
       "    .dataframe thead th {\n",
       "        text-align: right;\n",
       "    }\n",
       "</style>\n",
       "<table border=\"1\" class=\"dataframe\">\n",
       "  <thead>\n",
       "    <tr style=\"text-align: right;\">\n",
       "      <th></th>\n",
       "      <th>CreditScore</th>\n",
       "      <th>Age</th>\n",
       "      <th>Tenure</th>\n",
       "      <th>Balance</th>\n",
       "      <th>NumOfProducts</th>\n",
       "      <th>HasCrCard</th>\n",
       "      <th>IsActiveMember</th>\n",
       "      <th>EstimatedSalary</th>\n",
       "      <th>Geography_Germany</th>\n",
       "      <th>Geography_Spain</th>\n",
       "      <th>Gender_Male</th>\n",
       "    </tr>\n",
       "  </thead>\n",
       "  <tbody>\n",
       "    <tr>\n",
       "      <td>5714</td>\n",
       "      <td>-0.982901</td>\n",
       "      <td>0.008329</td>\n",
       "      <td>1.810669</td>\n",
       "      <td>-1.229313</td>\n",
       "      <td>0.807406</td>\n",
       "      <td>1</td>\n",
       "      <td>1</td>\n",
       "      <td>-1.426395</td>\n",
       "      <td>0</td>\n",
       "      <td>0</td>\n",
       "      <td>0</td>\n",
       "    </tr>\n",
       "    <tr>\n",
       "      <td>7005</td>\n",
       "      <td>1.048557</td>\n",
       "      <td>0.389089</td>\n",
       "      <td>-1.445280</td>\n",
       "      <td>0.621796</td>\n",
       "      <td>-0.917820</td>\n",
       "      <td>1</td>\n",
       "      <td>0</td>\n",
       "      <td>0.452626</td>\n",
       "      <td>0</td>\n",
       "      <td>0</td>\n",
       "      <td>1</td>\n",
       "    </tr>\n",
       "    <tr>\n",
       "      <td>2213</td>\n",
       "      <td>-1.560371</td>\n",
       "      <td>0.198709</td>\n",
       "      <td>-0.359963</td>\n",
       "      <td>0.180116</td>\n",
       "      <td>0.807406</td>\n",
       "      <td>1</td>\n",
       "      <td>1</td>\n",
       "      <td>-1.528004</td>\n",
       "      <td>1</td>\n",
       "      <td>0</td>\n",
       "      <td>0</td>\n",
       "    </tr>\n",
       "    <tr>\n",
       "      <td>4995</td>\n",
       "      <td>1.626027</td>\n",
       "      <td>-0.277241</td>\n",
       "      <td>-0.359963</td>\n",
       "      <td>-1.229313</td>\n",
       "      <td>0.807406</td>\n",
       "      <td>0</td>\n",
       "      <td>1</td>\n",
       "      <td>0.821109</td>\n",
       "      <td>0</td>\n",
       "      <td>0</td>\n",
       "      <td>0</td>\n",
       "    </tr>\n",
       "    <tr>\n",
       "      <td>9241</td>\n",
       "      <td>-1.446939</td>\n",
       "      <td>-0.372431</td>\n",
       "      <td>1.087125</td>\n",
       "      <td>-1.229313</td>\n",
       "      <td>0.807406</td>\n",
       "      <td>0</td>\n",
       "      <td>1</td>\n",
       "      <td>-0.569451</td>\n",
       "      <td>0</td>\n",
       "      <td>0</td>\n",
       "      <td>1</td>\n",
       "    </tr>\n",
       "  </tbody>\n",
       "</table>\n",
       "</div>"
      ],
      "text/plain": [
       "      CreditScore       Age    Tenure   Balance  NumOfProducts  HasCrCard  \\\n",
       "5714    -0.982901  0.008329  1.810669 -1.229313       0.807406          1   \n",
       "7005     1.048557  0.389089 -1.445280  0.621796      -0.917820          1   \n",
       "2213    -1.560371  0.198709 -0.359963  0.180116       0.807406          1   \n",
       "4995     1.626027 -0.277241 -0.359963 -1.229313       0.807406          0   \n",
       "9241    -1.446939 -0.372431  1.087125 -1.229313       0.807406          0   \n",
       "\n",
       "      IsActiveMember  EstimatedSalary  Geography_Germany  Geography_Spain  \\\n",
       "5714               1        -1.426395                  0                0   \n",
       "7005               0         0.452626                  0                0   \n",
       "2213               1        -1.528004                  1                0   \n",
       "4995               1         0.821109                  0                0   \n",
       "9241               1        -0.569451                  0                0   \n",
       "\n",
       "      Gender_Male  \n",
       "5714            0  \n",
       "7005            1  \n",
       "2213            0  \n",
       "4995            0  \n",
       "9241            1  "
      ]
     },
     "execution_count": 24,
     "metadata": {},
     "output_type": "execute_result"
    }
   ],
   "source": [
    "features_test[numeric] = scaler.transform(features_test[numeric])\n",
    "features_test.head()"
   ]
  },
  {
   "cell_type": "markdown",
   "metadata": {},
   "source": [
    "#### Выводы\n",
    "\n",
    "Мы подготовили данные для машинного обучения. Убрали пропуски, удалили ненужные столбцы, провели прямое кодирование данных OHE, разделили выборку на обучающую, валидационную и тестовую в соотношении 3:1:1. И наконец, провели масштабирование признаков. Перейдем к обучению модели и работе с балансом. "
   ]
  },
  {
   "cell_type": "markdown",
   "metadata": {},
   "source": [
    "## Исследование задачи"
   ]
  },
  {
   "cell_type": "markdown",
   "metadata": {},
   "source": [
    "Создадим функцию, которая обучит три модели Случайный Лес, Дерево Решений, Логистическую Регрессию и посчитает их точность. "
   ]
  },
  {
   "cell_type": "code",
   "execution_count": 25,
   "metadata": {},
   "outputs": [],
   "source": [
    "def all_models_accuracy(features_train, target_train, features_valid, target_valid):\n",
    "    model_DTC = DecisionTreeClassifier(random_state=123)\n",
    "    DTC_score = model_DTC.fit(features_train, target_train).score(features_valid, target_valid)\n",
    "    \n",
    "    model_RFC = RandomForestClassifier(random_state=12345, n_estimators = 100)\n",
    "    RFC_score = model_RFC.fit(features_train, target_train).score(features_valid, target_valid)\n",
    "    \n",
    "    model_LgR = LogisticRegression(solver = 'liblinear')\n",
    "    LgR_score = model_LgR.fit(features_train, target_train).score(features_valid, target_valid)\n",
    "    \n",
    "    print(\"Точность:\" \"дерево решений\", DTC_score, \"случайный лес \", RFC_score, \"логистическая регрессия\", LgR_score)"
   ]
  },
  {
   "cell_type": "code",
   "execution_count": 26,
   "metadata": {},
   "outputs": [
    {
     "name": "stdout",
     "output_type": "stream",
     "text": [
      "Точность:дерево решений 0.7835 случайный лес  0.851 логистическая регрессия 0.799\n"
     ]
    }
   ],
   "source": [
    "all_models_accuracy(features_train, target_train, features_valid, target_valid)"
   ]
  },
  {
   "cell_type": "markdown",
   "metadata": {},
   "source": [
    "Затем посмотрим, какой баланс у классов выборки. "
   ]
  },
  {
   "cell_type": "code",
   "execution_count": 27,
   "metadata": {},
   "outputs": [
    {
     "data": {
      "text/plain": [
       "0    0.800667\n",
       "1    0.199333\n",
       "Name: Exited, dtype: float64"
      ]
     },
     "execution_count": 27,
     "metadata": {},
     "output_type": "execute_result"
    }
   ],
   "source": [
    "target_train.value_counts(normalize = 1)"
   ]
  },
  {
   "cell_type": "code",
   "execution_count": 28,
   "metadata": {},
   "outputs": [
    {
     "data": {
      "text/plain": [
       "0    0.78\n",
       "1    0.22\n",
       "Name: Exited, dtype: float64"
      ]
     },
     "execution_count": 28,
     "metadata": {},
     "output_type": "execute_result"
    }
   ],
   "source": [
    "target_valid.value_counts(normalize = 1)"
   ]
  },
  {
   "cell_type": "markdown",
   "metadata": {},
   "source": [
    "Видим, что в обучающей и валидационной выборках есть заметный перевес в сторону отрицательных ответов. Есть вероятность, что модель будет чаще склоняться к этому ответу в предсказаниях. "
   ]
  },
  {
   "cell_type": "markdown",
   "metadata": {},
   "source": [
    "Теперь посмотрим, какое соотношение ответов выдает каждая модель, то есть проверим на адекватность. "
   ]
  },
  {
   "cell_type": "code",
   "execution_count": 29,
   "metadata": {},
   "outputs": [],
   "source": [
    "def all_models_share(features_train, target_train, features_valid, target_valid):\n",
    "    model_DTC = DecisionTreeClassifier(random_state=123)\n",
    "    model_DTC.fit(features_train, target_train)\n",
    "    DTC_share = pd.Series(model_DTC.predict(features_valid)).value_counts(normalize = 1)\n",
    "    \n",
    "    model_RFC = RandomForestClassifier(random_state=12345, n_estimators = 100)\n",
    "    model_RFC.fit(features_train, target_train)\n",
    "    RFC_share = pd.Series(model_RFC.predict(features_valid)).value_counts(normalize = 1)\n",
    "    \n",
    "    model_LgR = LogisticRegression(solver = 'liblinear')\n",
    "    model_LgR.fit(features_train, target_train)\n",
    "    LgR_share = pd.Series(model_LgR.predict(features_valid)).value_counts(normalize = 1)\n",
    "    \n",
    "    print(\"Доли ответов:\" \"дерево решений\", DTC_share, \"случайный лес \", RFC_share, \"логистическая регрессия\", LgR_share , end='')"
   ]
  },
  {
   "cell_type": "code",
   "execution_count": 30,
   "metadata": {},
   "outputs": [
    {
     "name": "stdout",
     "output_type": "stream",
     "text": [
      "Доли ответов:дерево решений 0    0.7855\n",
      "1    0.2145\n",
      "dtype: float64 случайный лес  0    0.874\n",
      "1    0.126\n",
      "dtype: float64 логистическая регрессия 0    0.936\n",
      "1    0.064\n",
      "dtype: float64"
     ]
    }
   ],
   "source": [
    "all_models_share(features_train, target_train, features_valid, target_valid)"
   ]
  },
  {
   "cell_type": "markdown",
   "metadata": {},
   "source": [
    "Логистическая регрессия показала самый точный результат, но также данная модель будет показывать один вариант ответа \"0\" с вероятностью больше 90%.\n",
    "Сравним качество предсказаний с константной моделью."
   ]
  },
  {
   "cell_type": "code",
   "execution_count": 31,
   "metadata": {},
   "outputs": [
    {
     "data": {
      "text/plain": [
       "(2000,)"
      ]
     },
     "execution_count": 31,
     "metadata": {},
     "output_type": "execute_result"
    }
   ],
   "source": [
    "target_predict_constant = pd.Series([0]*len(target_valid))\n",
    "target_predict_constant.shape"
   ]
  },
  {
   "cell_type": "code",
   "execution_count": 32,
   "metadata": {},
   "outputs": [
    {
     "data": {
      "text/plain": [
       "0.78"
      ]
     },
     "execution_count": 32,
     "metadata": {},
     "output_type": "execute_result"
    }
   ],
   "source": [
    "accuracy_score_constant = accuracy_score(target_valid, target_predict_constant)\n",
    "accuracy_score_constant"
   ]
  },
  {
   "cell_type": "markdown",
   "metadata": {},
   "source": [
    "Ни одна модель не показала точность выше, чем у константной модели. Вероятно, проблема в дисбалансе классов. Посмотрим матрицу ошибок для каждой модели и разберемся с дисбалансом. "
   ]
  },
  {
   "cell_type": "markdown",
   "metadata": {},
   "source": [
    "**Матрица ошибок для модели Дерево Решений**"
   ]
  },
  {
   "cell_type": "code",
   "execution_count": 33,
   "metadata": {},
   "outputs": [
    {
     "data": {
      "text/plain": [
       "array([[1349,  211],\n",
       "       [ 222,  218]])"
      ]
     },
     "execution_count": 33,
     "metadata": {},
     "output_type": "execute_result"
    }
   ],
   "source": [
    "model_DTC = DecisionTreeClassifier(random_state=123)\n",
    "model_DTC.fit(features_train, target_train)\n",
    "DTC_prediction = model_DTC.predict(features_valid)\n",
    "confusion_matrix(target_valid, DTC_prediction)"
   ]
  },
  {
   "cell_type": "markdown",
   "metadata": {},
   "source": [
    "Дерево Решений чаще всего выдает правильные прогнозы. Создадим функцию, которая рассчитает нам полноту, точность и F1-меру."
   ]
  },
  {
   "cell_type": "code",
   "execution_count": 34,
   "metadata": {},
   "outputs": [],
   "source": [
    "def rec_prec_f1(target_valid, prediction):\n",
    "    print(\"Полнота\" , recall_score(target_valid, prediction))\n",
    "    print(\"Точность\", precision_score(target_valid, prediction))\n",
    "    print(\"F1-мера\", f1_score(target_valid, prediction))\n",
    "    print(\"AUC-ROC\", roc_auc_score(target_valid, prediction))   "
   ]
  },
  {
   "cell_type": "code",
   "execution_count": 35,
   "metadata": {},
   "outputs": [
    {
     "name": "stdout",
     "output_type": "stream",
     "text": [
      "Полнота 0.4954545454545455\n",
      "Точность 0.5081585081585082\n",
      "F1-мера 0.5017261219792866\n",
      "AUC-ROC 0.6800990675990677\n"
     ]
    }
   ],
   "source": [
    "rec_prec_f1(target_valid, DTC_prediction)"
   ]
  },
  {
   "cell_type": "markdown",
   "metadata": {},
   "source": [
    "Низкое значние F1- меры говорит о низком качестве модели, проблема в точности."
   ]
  },
  {
   "cell_type": "markdown",
   "metadata": {},
   "source": [
    "**Матрица ошибок для модели Случайный Лес**"
   ]
  },
  {
   "cell_type": "code",
   "execution_count": 36,
   "metadata": {},
   "outputs": [
    {
     "data": {
      "text/plain": [
       "array([[1505,   55],\n",
       "       [ 243,  197]])"
      ]
     },
     "execution_count": 36,
     "metadata": {},
     "output_type": "execute_result"
    }
   ],
   "source": [
    "model_RFC = RandomForestClassifier(random_state=12345, n_estimators = 100)\n",
    "model_RFC.fit(features_train, target_train)\n",
    "RFC_prediction = model_RFC.predict(features_valid)\n",
    "confusion_matrix(target_valid, RFC_prediction)"
   ]
  },
  {
   "cell_type": "code",
   "execution_count": 37,
   "metadata": {},
   "outputs": [
    {
     "name": "stdout",
     "output_type": "stream",
     "text": [
      "Полнота 0.44772727272727275\n",
      "Точность 0.7817460317460317\n",
      "F1-мера 0.5693641618497111\n",
      "AUC-ROC 0.7062354312354313\n"
     ]
    }
   ],
   "source": [
    "rec_prec_f1(target_valid, RFC_prediction)"
   ]
  },
  {
   "cell_type": "markdown",
   "metadata": {},
   "source": [
    "Случайный Лес аналогично имеет больше правильных прогнозов. Примерно равную пропорцию позитивных и негативных предсказаний, но также сильно склоняется к ложно позитивным предсказаниям. Низкое значние F1- меры говорит о низком качестве модели, проблема в точности."
   ]
  },
  {
   "cell_type": "markdown",
   "metadata": {},
   "source": [
    "**Матрица ошибок для модели Логистической Регрессии**"
   ]
  },
  {
   "cell_type": "code",
   "execution_count": 38,
   "metadata": {},
   "outputs": [
    {
     "data": {
      "text/plain": [
       "array([[1515,   45],\n",
       "       [ 357,   83]])"
      ]
     },
     "execution_count": 38,
     "metadata": {},
     "output_type": "execute_result"
    }
   ],
   "source": [
    "model_LgR = LogisticRegression(solver = 'liblinear')\n",
    "model_LgR.fit(features_train, target_train)\n",
    "LgR_prediction = model_LgR.predict(features_valid)\n",
    "confusion_matrix(target_valid, LgR_prediction)"
   ]
  },
  {
   "cell_type": "code",
   "execution_count": 39,
   "metadata": {},
   "outputs": [
    {
     "data": {
      "text/plain": [
       "0.7407415501165501"
      ]
     },
     "execution_count": 39,
     "metadata": {},
     "output_type": "execute_result"
    }
   ],
   "source": [
    "LgR_probabilities_one_valid = model_LgR.predict_proba(features_valid)[:, 1]\n",
    "\n",
    "auc_roc_LgR = roc_auc_score(target_valid, LgR_probabilities_one_valid)\n",
    "\n",
    "auc_roc_LgR"
   ]
  },
  {
   "cell_type": "markdown",
   "metadata": {},
   "source": [
    "Для логистической регрессии расчитали метрику AUC-ROC. Метрика лучше, чем у случайной модели, но все равно не идеально. Построим ROC-кривую и попробуем обучить Логистическую Регрессию, но уже сбалансировав классы. "
   ]
  },
  {
   "cell_type": "code",
   "execution_count": 40,
   "metadata": {},
   "outputs": [
    {
     "data": {
      "image/png": "[encoded data removed]",
      "text/plain": [
       "<Figure size 432x288 with 1 Axes>"
      ]
     },
     "metadata": {
      "needs_background": "light"
     },
     "output_type": "display_data"
    }
   ],
   "source": [
    "fpr, tpr, thresholds = roc_curve(target_valid, LgR_probabilities_one_valid) \n",
    "\n",
    "plt.figure()\n",
    "plt.plot(fpr, tpr)\n",
    "plt.plot([0, 1], [0, 1], linestyle='--')\n",
    "plt.xlim([0.0, 1.0])\n",
    "plt.ylim([0.0, 1.0])\n",
    "plt.xlabel('False Positive Rate')\n",
    "plt.ylabel('True Positive Rate')\n",
    "plt.title('ROC-кривая')\n",
    "plt.show()"
   ]
  },
  {
   "cell_type": "code",
   "execution_count": 41,
   "metadata": {},
   "outputs": [
    {
     "name": "stdout",
     "output_type": "stream",
     "text": [
      "Score 0.709\n",
      "AUC-ROC 0.7460052447552448\n"
     ]
    },
    {
     "data": {
      "image/png": "[encoded data removed]",
      "text/plain": [
       "<Figure size 432x288 with 1 Axes>"
      ]
     },
     "metadata": {
      "needs_background": "light"
     },
     "output_type": "display_data"
    }
   ],
   "source": [
    "model_LgR = LogisticRegression(solver = 'liblinear', class_weight='balanced')\n",
    "model_LgR.fit(features_train, target_train)\n",
    "LgR_probabilities_one_valid_class_weight = model_LgR.predict_proba(features_valid)[:, 1]\n",
    "print(\"Score\", model_LgR.score(features_valid, target_valid))\n",
    "print(\"AUC-ROC\", roc_auc_score(target_valid, LgR_probabilities_one_valid_class_weight))\n",
    "\n",
    "fpr, tpr, thresholds = roc_curve(target_valid, LgR_probabilities_one_valid_class_weight) \n",
    "plt.figure()\n",
    "plt.plot(fpr, tpr)\n",
    "plt.plot([0, 1], [0, 1], linestyle='--')\n",
    "plt.xlim([0.0, 1.0])\n",
    "plt.ylim([0.0, 1.0])\n",
    "plt.xlabel('False Positive Rate')\n",
    "plt.ylabel('True Positive Rate')\n",
    "plt.title('ROC-кривая')\n",
    "plt.show()"
   ]
  },
  {
   "cell_type": "markdown",
   "metadata": {},
   "source": [
    "ТОчность предсказаний не улучшилась..Высокая точность модели объясняется высокой долей негативных ответов в валидационной выборке. Поэтому переходим к балансировке выборок. "
   ]
  },
  {
   "cell_type": "markdown",
   "metadata": {},
   "source": [
    "#### Выводы \n",
    "\n",
    "На данном этапе мы обучили три модели Случайный Лес, Дерево Решений и Логистическая Регрессия. Обнаружили дисбаланс классов и низкое значние F1- меры, что говорит о низком качестве модели, то есть проблема в точности. Приступим к работе с дисбалансом, чтобы сделать наши модели намного точнее и качественнее. "
   ]
  },
  {
   "cell_type": "markdown",
   "metadata": {},
   "source": [
    "## Борьба с дисбалансом ##"
   ]
  },
  {
   "cell_type": "markdown",
   "metadata": {},
   "source": [
    "В нашей выборке отрицательны ответов ≈80% , положитительных ≈ 20%. Нам нужно увеличить количество положительных ответов в 4 раза, чтобы был достигнут баланс.\n",
    "\n",
    "Для этого разделим обучающую выборку на отрицательные и положительные объекты, скопируем несколько раз положительные объекты.\n",
    "С учётом полученных данных создадим новую обучающую выборку и перемешаем данные."
   ]
  },
  {
   "cell_type": "code",
   "execution_count": 42,
   "metadata": {
    "scrolled": true
   },
   "outputs": [
    {
     "data": {
      "text/plain": [
       "0    0.800667\n",
       "1    0.199333\n",
       "Name: Exited, dtype: float64"
      ]
     },
     "execution_count": 42,
     "metadata": {},
     "output_type": "execute_result"
    }
   ],
   "source": [
    "target_train.value_counts(normalize = 1)"
   ]
  },
  {
   "cell_type": "markdown",
   "metadata": {},
   "source": [
    "Увеличиваем число наблюдений положительного класса с помощью техники  upsampling."
   ]
  },
  {
   "cell_type": "code",
   "execution_count": 43,
   "metadata": {},
   "outputs": [],
   "source": [
    "def upsample(features, target, repeat):\n",
    "    features_zeros = features[target == 0]\n",
    "    features_ones = features[target == 1]\n",
    "    target_zeros = target[target == 0]\n",
    "    target_ones = target[target == 1]\n",
    "\n",
    "    features_upsampled = pd.concat([features_zeros] + [features_ones] * repeat)\n",
    "    target_upsampled = pd.concat([target_zeros] + [target_ones] * repeat)\n",
    "    \n",
    "    features_upsampled, target_upsampled = shuffle(\n",
    "        features_upsampled, target_upsampled, random_state=12345)\n",
    "    \n",
    "    return features_upsampled, target_upsampled"
   ]
  },
  {
   "cell_type": "code",
   "execution_count": 44,
   "metadata": {},
   "outputs": [
    {
     "name": "stdout",
     "output_type": "stream",
     "text": [
      "0    0.501043\n",
      "1    0.498957\n",
      "Name: Exited, dtype: float64\n",
      "(9588,)\n"
     ]
    }
   ],
   "source": [
    "features_train_upsampled, target_train_upsampled = upsample(features_train, target_train, 4)\n",
    "print(target_train_upsampled.value_counts(normalize = 1))\n",
    "print(target_train_upsampled.shape)"
   ]
  },
  {
   "cell_type": "code",
   "execution_count": 45,
   "metadata": {},
   "outputs": [
    {
     "data": {
      "text/plain": [
       "<matplotlib.axes._subplots.AxesSubplot at 0x7f22576959d0>"
      ]
     },
     "execution_count": 45,
     "metadata": {},
     "output_type": "execute_result"
    },
    {
     "data": {
      "image/png": "[encoded data removed]",
      "text/plain": [
       "<Figure size 72x72 with 1 Axes>"
      ]
     },
     "metadata": {
      "needs_background": "light"
     },
     "output_type": "display_data"
    }
   ],
   "source": [
    "target_train_upsampled.plot(kind ='hist', \n",
    "                            bins=2, \n",
    "                            figsize=(1,1))\n",
    "plt.show()"
   ]
  },
  {
   "cell_type": "code",
   "execution_count": 46,
   "metadata": {},
   "outputs": [],
   "source": [
    "def downsample(features, target, fraction):\n",
    "    features_zeros = features[target == 0]\n",
    "    features_ones = features[target == 1]\n",
    "    target_zeros = target[target == 0]\n",
    "    target_ones = target[target == 1]\n",
    "\n",
    "    features_downsampled = pd.concat(\n",
    "        [features_zeros.sample(frac=fraction, random_state=12345)] + [features_ones])\n",
    "    target_downsampled = pd.concat(\n",
    "        [target_zeros.sample(frac=fraction, random_state=12345)] + [target_ones])\n",
    "    \n",
    "    features_downsampled, target_downsampled = shuffle(\n",
    "        features_downsampled, target_downsampled, random_state=12345)\n",
    "    \n",
    "    return features_downsampled, target_downsampled"
   ]
  },
  {
   "cell_type": "code",
   "execution_count": 47,
   "metadata": {},
   "outputs": [],
   "source": [
    "features_train_downsampled, target_train_downsampled = downsample(features_train, target_train, fraction=0.25)"
   ]
  },
  {
   "cell_type": "code",
   "execution_count": 48,
   "metadata": {},
   "outputs": [
    {
     "data": {
      "text/plain": [
       "<matplotlib.axes._subplots.AxesSubplot at 0x7f2257652cd0>"
      ]
     },
     "execution_count": 48,
     "metadata": {},
     "output_type": "execute_result"
    },
    {
     "data": {
      "image/png": "[encoded data removed]",
      "text/plain": [
       "<Figure size 72x72 with 1 Axes>"
      ]
     },
     "metadata": {
      "needs_background": "light"
     },
     "output_type": "display_data"
    }
   ],
   "source": [
    "target_train_downsampled.plot(kind ='hist', \n",
    "                              bins=2, \n",
    "                              figsize=(1,1))\n",
    "plt.show()"
   ]
  },
  {
   "cell_type": "markdown",
   "metadata": {},
   "source": [
    "Мы получили сбалансированную выборку c помощью техник upsampling и downsampling, теперь можно обучать модели. Но для начала посмотрим, как изменилась точность моделей на сбалансированной выборке. "
   ]
  },
  {
   "cell_type": "code",
   "execution_count": 49,
   "metadata": {},
   "outputs": [
    {
     "name": "stdout",
     "output_type": "stream",
     "text": [
      "Точность:дерево решений 0.7835 случайный лес  0.851 логистическая регрессия 0.799\n"
     ]
    }
   ],
   "source": [
    "all_models_accuracy(features_train, target_train, features_valid, target_valid)"
   ]
  },
  {
   "cell_type": "code",
   "execution_count": 50,
   "metadata": {},
   "outputs": [
    {
     "name": "stdout",
     "output_type": "stream",
     "text": [
      "Точность:дерево решений 0.7765 случайный лес  0.848 логистическая регрессия 0.7085\n"
     ]
    }
   ],
   "source": [
    "all_models_accuracy(features_train_upsampled, target_train_upsampled, features_valid, target_valid)"
   ]
  },
  {
   "cell_type": "code",
   "execution_count": 51,
   "metadata": {},
   "outputs": [
    {
     "name": "stdout",
     "output_type": "stream",
     "text": [
      "Точность:дерево решений 0.7005 случайный лес  0.784 логистическая регрессия 0.701\n"
     ]
    }
   ],
   "source": [
    "all_models_accuracy(features_train_downsampled, target_train_downsampled, features_valid, target_valid)"
   ]
  },
  {
   "cell_type": "markdown",
   "metadata": {},
   "source": [
    "Точность изменилась, но не сильно. C уменьшенной выборкой точность стала еще ниже. Проверим качество предсказаний. "
   ]
  },
  {
   "cell_type": "code",
   "execution_count": 52,
   "metadata": {},
   "outputs": [
    {
     "name": "stdout",
     "output_type": "stream",
     "text": [
      "Полнота 0.45454545454545453\n",
      "Точность 0.4914004914004914\n",
      "F1-мера 0.4722550177095632\n",
      "AUC-ROC 0.6609265734265735\n"
     ]
    }
   ],
   "source": [
    "model_DTC_upsampled = DecisionTreeClassifier(random_state=123)\n",
    "model_DTC_upsampled.fit(features_train_upsampled, target_train_upsampled)\n",
    "DTC_prediction_upsampled = model_DTC_upsampled.predict(features_valid)\n",
    "rec_prec_f1(target_valid, DTC_prediction_upsampled)"
   ]
  },
  {
   "cell_type": "code",
   "execution_count": 53,
   "metadata": {},
   "outputs": [
    {
     "name": "stdout",
     "output_type": "stream",
     "text": [
      "Полнота 0.5204545454545455\n",
      "Точность 0.7111801242236024\n",
      "F1-мера 0.6010498687664042\n",
      "AUC-ROC 0.7304195804195804\n"
     ]
    }
   ],
   "source": [
    "model_RFC_upsampled = RandomForestClassifier(random_state=12345, n_estimators = 100)\n",
    "model_RFC_upsampled.fit(features_train_upsampled, target_train_upsampled)\n",
    "RFC_prediction_upsampled = model_RFC_upsampled.predict(features_valid)\n",
    "rec_prec_f1(target_valid, RFC_prediction_upsampled)"
   ]
  },
  {
   "cell_type": "code",
   "execution_count": 54,
   "metadata": {},
   "outputs": [
    {
     "name": "stdout",
     "output_type": "stream",
     "text": [
      "Полнота 0.625\n",
      "Точность 0.3968253968253968\n",
      "F1-мера 0.4854368932038835\n",
      "AUC-ROC 0.6785256410256411\n"
     ]
    }
   ],
   "source": [
    "model_LgR_upsampled = LogisticRegression(solver = 'liblinear')\n",
    "model_LgR_upsampled.fit(features_train_upsampled, target_train_upsampled)\n",
    "LgR_prediction_upsampled = model_LgR_upsampled.predict(features_valid)\n",
    "rec_prec_f1(target_valid, LgR_prediction_upsampled)"
   ]
  },
  {
   "cell_type": "markdown",
   "metadata": {},
   "source": [
    "Показатели у всех моделей стали лучше.\n",
    "Лучшие результаты показывает алгоритм Случайный Лес. На валидационной выборке RandomForestClassifier уже показывает резульаты F1 меры = 0.60, что выше целевого целевого значения.\n",
    "Протестируем лучшую модель. "
   ]
  },
  {
   "cell_type": "markdown",
   "metadata": {},
   "source": [
    "## Тестирование модели"
   ]
  },
  {
   "cell_type": "markdown",
   "metadata": {},
   "source": [
    "Обучим финальную модель, которая имеет наилучшее значение метрики F-1. Затем проведем все необходимые рассчеты на тестовой выборке. "
   ]
  },
  {
   "cell_type": "code",
   "execution_count": 56,
   "metadata": {},
   "outputs": [
    {
     "name": "stdout",
     "output_type": "stream",
     "text": [
      "Полнота 0.5204545454545455\n",
      "Точность 0.7111801242236024\n",
      "F1-мера 0.6010498687664042\n",
      "AUC-ROC 0.7304195804195804\n"
     ]
    }
   ],
   "source": [
    "model_RFC_final = RandomForestClassifier(random_state=12345, n_estimators = 100)\n",
    "model_RFC_final.fit(features_train_upsampled, target_train_upsampled)\n",
    "model_RFC_final_prediction = model_RFC_final.predict(features_valid)\n",
    "rec_prec_f1(target_valid, model_RFC_final_prediction)"
   ]
  },
  {
   "cell_type": "code",
   "execution_count": 57,
   "metadata": {},
   "outputs": [
    {
     "name": "stdout",
     "output_type": "stream",
     "text": [
      "Полнота 0.5536159600997507\n",
      "Точность 0.683076923076923\n",
      "F1-мера 0.6115702479338843\n",
      "AUC-ROC 0.7446003502812699\n"
     ]
    }
   ],
   "source": [
    "model_RFC_final\n",
    "model_RFC_final_prediction = model_RFC_final.predict(features_test)\n",
    "rec_prec_f1(target_test, model_RFC_final_prediction)"
   ]
  },
  {
   "cell_type": "code",
   "execution_count": 58,
   "metadata": {
    "scrolled": true
   },
   "outputs": [
    {
     "data": {
      "image/png": "[encoded data removed]",
      "text/plain": [
       "<Figure size 432x288 with 1 Axes>"
      ]
     },
     "metadata": {
      "needs_background": "light"
     },
     "output_type": "display_data"
    }
   ],
   "source": [
    "final_model_probabilities_one = model_LgR.predict_proba(features_test)[:, 1]\n",
    "\n",
    "fpr, tpr, thresholds = roc_curve(target_test, final_model_probabilities_one) \n",
    "\n",
    "plt.figure()\n",
    "plt.plot(fpr, tpr)\n",
    "plt.plot([0, 1], [0, 1], linestyle='--')\n",
    "plt.xlim([0.0, 1.0])\n",
    "plt.ylim([0.0, 1.0])\n",
    "plt.xlabel('False Positive Rate')\n",
    "plt.ylabel('True Positive Rate')\n",
    "plt.title('ROC-кривая')\n",
    "plt.show()"
   ]
  },
  {
   "cell_type": "markdown",
   "metadata": {},
   "source": [
    "#### Выводы \n",
    "Финальная модель достигла заданой метрики F1 > 0.59 и показала адекватные результаты.  \n",
    "Модель характеризуется средним показателем полноты = 0.55 (min = 0, max = 1), поэтому она равновероятностно спрогнозирует два варианта событий - уход клиента из банка или то, что он останется в банке.   \n",
    "Показатель точности высокий = 0.68 (min = 0, max = 1) — модель может верно предсказать уход клиентов из банка. \n",
    "Важно, что модель покрывает большое количество клиентов, в данном случае это важнее чем точность."
   ]
  }
 ],
 "metadata": {
  "ExecuteTimeLog": [
   {
    "duration": 813,
    "start_time": "2021-07-05T16:51:09.231Z"
   },
   {
    "duration": 67,
    "start_time": "2021-07-05T16:51:56.027Z"
   },
   {
    "duration": 12,
    "start_time": "2021-07-05T17:21:23.221Z"
   },
   {
    "duration": 1503,
    "start_time": "2021-07-08T18:38:55.234Z"
   },
   {
    "duration": 115,
    "start_time": "2021-07-08T18:38:56.818Z"
   },
   {
    "duration": 15,
    "start_time": "2021-07-08T18:38:58.250Z"
   },
   {
    "duration": 8989,
    "start_time": "2021-07-08T18:39:00.768Z"
   },
   {
    "duration": 9576,
    "start_time": "2021-07-08T18:39:12.618Z"
   },
   {
    "duration": 7,
    "start_time": "2021-07-08T18:39:35.902Z"
   },
   {
    "duration": 18,
    "start_time": "2021-07-08T18:39:56.655Z"
   },
   {
    "duration": 6,
    "start_time": "2021-07-08T18:40:03.281Z"
   },
   {
    "duration": 9271,
    "start_time": "2021-07-08T18:40:14.367Z"
   },
   {
    "duration": 14,
    "start_time": "2021-07-08T18:41:12.773Z"
   },
   {
    "duration": 9526,
    "start_time": "2021-07-08T18:41:13.898Z"
   },
   {
    "duration": 7,
    "start_time": "2021-07-08T18:41:27.818Z"
   },
   {
    "duration": 47,
    "start_time": "2021-07-08T18:41:28.428Z"
   },
   {
    "duration": 13,
    "start_time": "2021-07-08T18:41:29.054Z"
   },
   {
    "duration": 16,
    "start_time": "2021-07-08T18:41:30.937Z"
   },
   {
    "duration": 7,
    "start_time": "2021-07-08T18:41:35.568Z"
   },
   {
    "duration": 7,
    "start_time": "2021-07-08T18:41:39.199Z"
   },
   {
    "duration": 7,
    "start_time": "2021-07-08T18:42:19.547Z"
   },
   {
    "duration": 9,
    "start_time": "2021-07-08T18:42:54.618Z"
   },
   {
    "duration": 13,
    "start_time": "2021-07-08T18:43:00.213Z"
   },
   {
    "duration": 9,
    "start_time": "2021-07-08T18:50:18.120Z"
   },
   {
    "duration": 7,
    "start_time": "2021-07-08T18:50:19.232Z"
   },
   {
    "duration": 14,
    "start_time": "2021-07-08T19:05:43.280Z"
   },
   {
    "duration": 8468,
    "start_time": "2021-07-08T19:11:46.517Z"
   },
   {
    "duration": 9219,
    "start_time": "2021-07-08T19:12:23.712Z"
   },
   {
    "duration": 5,
    "start_time": "2021-07-08T19:12:48.998Z"
   },
   {
    "duration": 54,
    "start_time": "2021-07-08T19:12:49.701Z"
   },
   {
    "duration": 12,
    "start_time": "2021-07-08T19:12:50.336Z"
   },
   {
    "duration": 22,
    "start_time": "2021-07-08T19:12:51.696Z"
   },
   {
    "duration": 9,
    "start_time": "2021-07-08T19:12:52.344Z"
   },
   {
    "duration": 7,
    "start_time": "2021-07-08T19:12:53.008Z"
   },
   {
    "duration": 5,
    "start_time": "2021-07-08T19:12:54.494Z"
   },
   {
    "duration": 10,
    "start_time": "2021-07-08T19:12:55.160Z"
   },
   {
    "duration": 7,
    "start_time": "2021-07-08T19:12:57.071Z"
   },
   {
    "duration": 6,
    "start_time": "2021-07-08T19:12:58.062Z"
   },
   {
    "duration": 27,
    "start_time": "2021-07-08T19:13:01.508Z"
   },
   {
    "duration": 32,
    "start_time": "2021-07-08T19:15:12.326Z"
   },
   {
    "duration": 6,
    "start_time": "2021-07-08T19:15:22.290Z"
   },
   {
    "duration": 47,
    "start_time": "2021-07-08T19:15:22.876Z"
   },
   {
    "duration": 16,
    "start_time": "2021-07-08T19:15:23.511Z"
   },
   {
    "duration": 18,
    "start_time": "2021-07-08T19:15:24.614Z"
   },
   {
    "duration": 12,
    "start_time": "2021-07-08T19:15:25.200Z"
   },
   {
    "duration": 6,
    "start_time": "2021-07-08T19:15:25.740Z"
   },
   {
    "duration": 6,
    "start_time": "2021-07-08T19:15:26.897Z"
   },
   {
    "duration": 9,
    "start_time": "2021-07-08T19:15:27.583Z"
   },
   {
    "duration": 6,
    "start_time": "2021-07-08T19:15:30.684Z"
   },
   {
    "duration": 7,
    "start_time": "2021-07-08T19:15:31.278Z"
   },
   {
    "duration": 31,
    "start_time": "2021-07-08T19:15:33.668Z"
   },
   {
    "duration": 373,
    "start_time": "2021-07-08T19:20:01.604Z"
   },
   {
    "duration": 7,
    "start_time": "2021-07-08T19:20:37.863Z"
   },
   {
    "duration": 13,
    "start_time": "2021-07-08T19:20:40.238Z"
   },
   {
    "duration": 13,
    "start_time": "2021-07-08T19:21:15.079Z"
   },
   {
    "duration": 11,
    "start_time": "2021-07-08T19:21:16.829Z"
   },
   {
    "duration": 6,
    "start_time": "2021-07-08T19:22:51.147Z"
   },
   {
    "duration": 5,
    "start_time": "2021-07-08T19:24:18.797Z"
   },
   {
    "duration": 20,
    "start_time": "2021-07-08T19:27:23.859Z"
   },
   {
    "duration": 14,
    "start_time": "2021-07-08T19:27:24.612Z"
   },
   {
    "duration": 5,
    "start_time": "2021-07-08T19:27:25.494Z"
   },
   {
    "duration": 24,
    "start_time": "2021-07-08T19:27:42.596Z"
   },
   {
    "duration": 11,
    "start_time": "2021-07-08T19:27:44.456Z"
   },
   {
    "duration": 5,
    "start_time": "2021-07-08T19:27:45.172Z"
   },
   {
    "duration": 18,
    "start_time": "2021-07-08T19:27:58.797Z"
   },
   {
    "duration": 1634,
    "start_time": "2021-07-09T12:40:07.191Z"
   },
   {
    "duration": 53,
    "start_time": "2021-07-09T12:40:09.185Z"
   },
   {
    "duration": 11,
    "start_time": "2021-07-09T12:40:09.241Z"
   },
   {
    "duration": 17,
    "start_time": "2021-07-09T12:40:13.472Z"
   },
   {
    "duration": 8,
    "start_time": "2021-07-09T12:40:15.484Z"
   },
   {
    "duration": 6,
    "start_time": "2021-07-09T12:40:16.378Z"
   },
   {
    "duration": 9,
    "start_time": "2021-07-09T12:40:20.263Z"
   },
   {
    "duration": 8,
    "start_time": "2021-07-09T12:40:20.930Z"
   },
   {
    "duration": 11,
    "start_time": "2021-07-09T12:40:24.891Z"
   },
   {
    "duration": 7,
    "start_time": "2021-07-09T12:40:25.485Z"
   },
   {
    "duration": 44,
    "start_time": "2021-07-09T12:40:32.227Z"
   },
   {
    "duration": 3,
    "start_time": "2021-07-09T12:40:33.806Z"
   },
   {
    "duration": 8,
    "start_time": "2021-07-09T12:40:35.156Z"
   },
   {
    "duration": 11,
    "start_time": "2021-07-09T12:40:37.423Z"
   },
   {
    "duration": 11,
    "start_time": "2021-07-09T12:40:38.169Z"
   },
   {
    "duration": 6,
    "start_time": "2021-07-09T12:40:38.824Z"
   },
   {
    "duration": 16,
    "start_time": "2021-07-09T13:34:47.466Z"
   },
   {
    "duration": 512,
    "start_time": "2021-07-09T13:34:57.842Z"
   },
   {
    "duration": 11,
    "start_time": "2021-07-09T13:35:48.169Z"
   },
   {
    "duration": 8,
    "start_time": "2021-07-09T13:35:49.937Z"
   },
   {
    "duration": 7,
    "start_time": "2021-07-09T13:35:53.858Z"
   },
   {
    "duration": 10,
    "start_time": "2021-07-09T13:35:58.501Z"
   },
   {
    "duration": 10,
    "start_time": "2021-07-09T13:36:01.645Z"
   },
   {
    "duration": 7,
    "start_time": "2021-07-09T13:36:02.725Z"
   },
   {
    "duration": 8,
    "start_time": "2021-07-09T13:36:35.732Z"
   },
   {
    "duration": 9,
    "start_time": "2021-07-09T13:36:38.714Z"
   },
   {
    "duration": 5,
    "start_time": "2021-07-09T13:36:41.190Z"
   },
   {
    "duration": 4,
    "start_time": "2021-07-09T13:46:14.069Z"
   },
   {
    "duration": 10,
    "start_time": "2021-07-09T13:46:14.832Z"
   },
   {
    "duration": 33,
    "start_time": "2021-07-09T13:46:16.518Z"
   },
   {
    "duration": 30,
    "start_time": "2021-07-09T13:47:13.900Z"
   },
   {
    "duration": 8,
    "start_time": "2021-07-09T13:47:49.452Z"
   },
   {
    "duration": 26,
    "start_time": "2021-07-09T13:47:50.342Z"
   },
   {
    "duration": 25,
    "start_time": "2021-07-09T13:47:56.762Z"
   },
   {
    "duration": 24,
    "start_time": "2021-07-09T13:48:01.262Z"
   },
   {
    "duration": 6,
    "start_time": "2021-07-09T13:51:38.880Z"
   },
   {
    "duration": 527,
    "start_time": "2021-07-09T13:51:52.120Z"
   },
   {
    "duration": 5,
    "start_time": "2021-07-09T13:51:59.769Z"
   },
   {
    "duration": 274,
    "start_time": "2021-07-09T13:52:03.294Z"
   },
   {
    "duration": 5,
    "start_time": "2021-07-09T13:53:08.725Z"
   },
   {
    "duration": 5,
    "start_time": "2021-07-09T13:54:52.907Z"
   },
   {
    "duration": 339,
    "start_time": "2021-07-09T13:54:59.257Z"
   },
   {
    "duration": 5,
    "start_time": "2021-07-09T13:58:09.710Z"
   },
   {
    "duration": 256,
    "start_time": "2021-07-09T13:59:27.657Z"
   },
   {
    "duration": 1089,
    "start_time": "2021-07-12T05:28:35.680Z"
   },
   {
    "duration": 43,
    "start_time": "2021-07-12T05:28:37.156Z"
   },
   {
    "duration": 9,
    "start_time": "2021-07-12T05:28:38.752Z"
   },
   {
    "duration": 11,
    "start_time": "2021-07-12T05:28:43.053Z"
   },
   {
    "duration": 6,
    "start_time": "2021-07-12T05:28:44.208Z"
   },
   {
    "duration": 5,
    "start_time": "2021-07-12T05:28:45.478Z"
   },
   {
    "duration": 6,
    "start_time": "2021-07-12T05:28:47.091Z"
   },
   {
    "duration": 9,
    "start_time": "2021-07-12T05:28:48.377Z"
   },
   {
    "duration": 10,
    "start_time": "2021-07-12T05:28:50.275Z"
   },
   {
    "duration": 6,
    "start_time": "2021-07-12T05:28:51.467Z"
   },
   {
    "duration": 31,
    "start_time": "2021-07-12T05:28:54.584Z"
   },
   {
    "duration": 5,
    "start_time": "2021-07-12T05:37:22.338Z"
   },
   {
    "duration": 9,
    "start_time": "2021-07-12T05:40:13.166Z"
   },
   {
    "duration": 5,
    "start_time": "2021-07-12T05:40:21.052Z"
   },
   {
    "duration": 5,
    "start_time": "2021-07-12T05:40:29.006Z"
   },
   {
    "duration": 5,
    "start_time": "2021-07-12T05:40:29.713Z"
   },
   {
    "duration": 23,
    "start_time": "2021-07-12T05:40:32.431Z"
   },
   {
    "duration": 2,
    "start_time": "2021-07-12T05:40:34.543Z"
   },
   {
    "duration": 5,
    "start_time": "2021-07-12T05:40:35.814Z"
   },
   {
    "duration": 7,
    "start_time": "2021-07-12T05:40:38.339Z"
   },
   {
    "duration": 7,
    "start_time": "2021-07-12T05:40:38.825Z"
   },
   {
    "duration": 4,
    "start_time": "2021-07-12T05:40:39.289Z"
   },
   {
    "duration": 3,
    "start_time": "2021-07-12T05:40:40.713Z"
   },
   {
    "duration": 9,
    "start_time": "2021-07-12T05:40:41.595Z"
   },
   {
    "duration": 22,
    "start_time": "2021-07-12T05:40:43.370Z"
   },
   {
    "duration": 22,
    "start_time": "2021-07-12T05:40:51.923Z"
   },
   {
    "duration": 17,
    "start_time": "2021-07-12T05:40:55.965Z"
   },
   {
    "duration": 17,
    "start_time": "2021-07-12T05:40:56.866Z"
   },
   {
    "duration": 4,
    "start_time": "2021-07-12T05:41:04.685Z"
   },
   {
    "duration": 714,
    "start_time": "2021-07-12T05:41:07.228Z"
   },
   {
    "duration": 7,
    "start_time": "2021-07-12T05:41:26.163Z"
   },
   {
    "duration": 6,
    "start_time": "2021-07-12T05:41:31.894Z"
   },
   {
    "duration": 4,
    "start_time": "2021-07-12T05:41:51.549Z"
   },
   {
    "duration": 599,
    "start_time": "2021-07-12T05:41:57.848Z"
   },
   {
    "duration": 6,
    "start_time": "2021-07-12T05:42:12.271Z"
   },
   {
    "duration": 6,
    "start_time": "2021-07-12T05:42:12.938Z"
   },
   {
    "duration": 5,
    "start_time": "2021-07-12T05:42:20.394Z"
   },
   {
    "duration": 4,
    "start_time": "2021-07-12T05:42:48.056Z"
   },
   {
    "duration": 638,
    "start_time": "2021-07-12T05:42:49.804Z"
   },
   {
    "duration": 3,
    "start_time": "2021-07-12T05:46:08.644Z"
   },
   {
    "duration": 609,
    "start_time": "2021-07-12T05:46:09.762Z"
   },
   {
    "duration": 4,
    "start_time": "2021-07-12T05:46:16.861Z"
   },
   {
    "duration": 609,
    "start_time": "2021-07-12T05:46:20.595Z"
   },
   {
    "duration": 3,
    "start_time": "2021-07-12T05:46:32.646Z"
   },
   {
    "duration": 628,
    "start_time": "2021-07-12T05:46:33.321Z"
   },
   {
    "duration": 6,
    "start_time": "2021-07-12T05:46:35.030Z"
   },
   {
    "duration": 5,
    "start_time": "2021-07-12T05:56:29.687Z"
   },
   {
    "duration": 6,
    "start_time": "2021-07-12T05:56:32.520Z"
   },
   {
    "duration": 29,
    "start_time": "2021-07-12T05:56:35.103Z"
   },
   {
    "duration": 4,
    "start_time": "2021-07-12T05:56:38.126Z"
   },
   {
    "duration": 10,
    "start_time": "2021-07-12T05:56:41.244Z"
   },
   {
    "duration": 574,
    "start_time": "2021-07-12T05:56:44.670Z"
   },
   {
    "duration": 10,
    "start_time": "2021-07-12T05:56:46.499Z"
   },
   {
    "duration": 53,
    "start_time": "2021-07-12T05:56:48.790Z"
   },
   {
    "duration": 13,
    "start_time": "2021-07-12T05:56:50.017Z"
   },
   {
    "duration": 149,
    "start_time": "2021-07-12T05:56:52.548Z"
   },
   {
    "duration": 382,
    "start_time": "2021-07-12T05:56:55.801Z"
   },
   {
    "duration": 6,
    "start_time": "2021-07-12T05:57:03.125Z"
   },
   {
    "duration": 4,
    "start_time": "2021-07-12T05:57:05.016Z"
   },
   {
    "duration": 13,
    "start_time": "2021-07-12T05:57:11.297Z"
   },
   {
    "duration": 100,
    "start_time": "2021-07-12T05:57:16.424Z"
   },
   {
    "duration": 4,
    "start_time": "2021-07-12T05:57:20.399Z"
   },
   {
    "duration": 11,
    "start_time": "2021-07-12T05:57:22.971Z"
   },
   {
    "duration": 608,
    "start_time": "2021-07-12T05:57:26.180Z"
   },
   {
    "duration": 890,
    "start_time": "2021-07-12T05:57:28.390Z"
   },
   {
    "duration": 41,
    "start_time": "2021-07-12T05:57:32.623Z"
   },
   {
    "duration": 5,
    "start_time": "2021-07-12T06:02:57.949Z"
   },
   {
    "duration": 11,
    "start_time": "2021-07-12T06:03:00.678Z"
   },
   {
    "duration": 604,
    "start_time": "2021-07-12T06:03:02.193Z"
   },
   {
    "duration": 40,
    "start_time": "2021-07-12T06:03:18.133Z"
   },
   {
    "duration": 816,
    "start_time": "2021-07-12T06:04:04.859Z"
   },
   {
    "duration": 62,
    "start_time": "2021-07-12T06:04:07.088Z"
   },
   {
    "duration": 263,
    "start_time": "2021-07-12T06:10:00.677Z"
   },
   {
    "duration": 487,
    "start_time": "2021-07-12T06:10:38.197Z"
   },
   {
    "duration": 30,
    "start_time": "2021-07-12T06:10:41.255Z"
   },
   {
    "duration": 7,
    "start_time": "2021-07-12T06:10:45.435Z"
   },
   {
    "duration": 9,
    "start_time": "2021-07-12T06:10:46.734Z"
   },
   {
    "duration": 30,
    "start_time": "2021-07-12T06:11:22.382Z"
   },
   {
    "duration": 294,
    "start_time": "2021-07-12T06:11:29.317Z"
   },
   {
    "duration": 4,
    "start_time": "2021-07-12T08:14:44.312Z"
   },
   {
    "duration": 14,
    "start_time": "2021-07-12T08:34:36.801Z"
   },
   {
    "duration": 150,
    "start_time": "2021-07-12T08:34:37.961Z"
   },
   {
    "duration": 968,
    "start_time": "2021-07-12T08:34:40.372Z"
   },
   {
    "duration": 4,
    "start_time": "2021-07-12T08:34:47.459Z"
   },
   {
    "duration": 49,
    "start_time": "2021-07-12T08:34:47.469Z"
   },
   {
    "duration": 10,
    "start_time": "2021-07-12T08:34:47.520Z"
   },
   {
    "duration": 18,
    "start_time": "2021-07-12T08:34:47.533Z"
   },
   {
    "duration": 6,
    "start_time": "2021-07-12T08:34:47.553Z"
   },
   {
    "duration": 5,
    "start_time": "2021-07-12T08:34:47.561Z"
   },
   {
    "duration": 8,
    "start_time": "2021-07-12T08:34:47.568Z"
   },
   {
    "duration": 10,
    "start_time": "2021-07-12T08:34:47.578Z"
   },
   {
    "duration": 12,
    "start_time": "2021-07-12T08:34:47.590Z"
   },
   {
    "duration": 5,
    "start_time": "2021-07-12T08:34:47.605Z"
   },
   {
    "duration": 33,
    "start_time": "2021-07-12T08:34:47.612Z"
   },
   {
    "duration": 6,
    "start_time": "2021-07-12T08:34:47.647Z"
   },
   {
    "duration": 30,
    "start_time": "2021-07-12T08:34:47.655Z"
   },
   {
    "duration": 2,
    "start_time": "2021-07-12T08:34:47.687Z"
   },
   {
    "duration": 9,
    "start_time": "2021-07-12T08:34:47.691Z"
   },
   {
    "duration": 7,
    "start_time": "2021-07-12T08:34:47.702Z"
   },
   {
    "duration": 30,
    "start_time": "2021-07-12T08:34:47.711Z"
   },
   {
    "duration": 5,
    "start_time": "2021-07-12T08:34:47.743Z"
   },
   {
    "duration": 5,
    "start_time": "2021-07-12T08:34:47.749Z"
   },
   {
    "duration": 5,
    "start_time": "2021-07-12T08:34:47.755Z"
   },
   {
    "duration": 9,
    "start_time": "2021-07-12T08:34:47.761Z"
   },
   {
    "duration": 19,
    "start_time": "2021-07-12T08:34:47.772Z"
   },
   {
    "duration": 50,
    "start_time": "2021-07-12T08:34:47.792Z"
   },
   {
    "duration": 16,
    "start_time": "2021-07-12T08:34:47.843Z"
   },
   {
    "duration": 3,
    "start_time": "2021-07-12T08:34:47.861Z"
   },
   {
    "duration": 785,
    "start_time": "2021-07-12T08:34:47.866Z"
   },
   {
    "duration": 92,
    "start_time": "2021-07-12T08:34:48.653Z"
   },
   {
    "duration": 95,
    "start_time": "2021-07-12T08:34:48.750Z"
   },
   {
    "duration": 4,
    "start_time": "2021-07-12T08:34:48.848Z"
   },
   {
    "duration": 720,
    "start_time": "2021-07-12T08:34:48.854Z"
   },
   {
    "duration": 70,
    "start_time": "2021-07-12T08:34:49.576Z"
   },
   {
    "duration": 94,
    "start_time": "2021-07-12T08:34:49.648Z"
   },
   {
    "duration": 32,
    "start_time": "2021-07-12T08:34:49.744Z"
   },
   {
    "duration": 4,
    "start_time": "2021-07-12T08:34:49.777Z"
   },
   {
    "duration": 20,
    "start_time": "2021-07-12T08:34:49.783Z"
   },
   {
    "duration": 664,
    "start_time": "2021-07-12T08:34:49.805Z"
   },
   {
    "duration": 10,
    "start_time": "2021-07-12T08:34:50.471Z"
   },
   {
    "duration": 68,
    "start_time": "2021-07-12T08:34:50.483Z"
   },
   {
    "duration": 13,
    "start_time": "2021-07-12T08:34:50.641Z"
   },
   {
    "duration": 251,
    "start_time": "2021-07-12T08:34:50.741Z"
   },
   {
    "duration": 451,
    "start_time": "2021-07-12T08:34:50.994Z"
   },
   {
    "duration": 5,
    "start_time": "2021-07-12T08:34:51.447Z"
   },
   {
    "duration": 13,
    "start_time": "2021-07-12T08:34:51.454Z"
   },
   {
    "duration": 23,
    "start_time": "2021-07-12T08:34:51.469Z"
   },
   {
    "duration": 164,
    "start_time": "2021-07-12T08:34:51.493Z"
   },
   {
    "duration": 1022,
    "start_time": "2021-07-12T08:34:51.660Z"
   },
   {
    "duration": 1503,
    "start_time": "2021-07-12T08:34:52.742Z"
   },
   {
    "duration": 227,
    "start_time": "2021-07-12T08:34:54.248Z"
   },
   {
    "duration": 981,
    "start_time": "2021-07-12T08:34:54.476Z"
   },
   {
    "duration": 90,
    "start_time": "2021-07-12T08:34:55.458Z"
   },
   {
    "duration": 248,
    "start_time": "2021-07-12T08:34:55.550Z"
   },
   {
    "duration": 829,
    "start_time": "2021-07-12T08:34:55.800Z"
   },
   {
    "duration": 51,
    "start_time": "2021-07-12T08:34:56.630Z"
   },
   {
    "duration": 8,
    "start_time": "2021-07-12T08:34:56.683Z"
   },
   {
    "duration": 16,
    "start_time": "2021-07-12T08:34:56.692Z"
   },
   {
    "duration": 64,
    "start_time": "2021-07-12T08:34:56.710Z"
   },
   {
    "duration": 356,
    "start_time": "2021-07-12T08:34:56.776Z"
   },
   {
    "duration": 219,
    "start_time": "2021-07-12T08:45:39.837Z"
   },
   {
    "duration": 4,
    "start_time": "2021-07-12T08:46:21.002Z"
   },
   {
    "duration": 398,
    "start_time": "2021-07-12T08:46:30.579Z"
   },
   {
    "duration": 2093,
    "start_time": "2021-07-12T08:46:44.378Z"
   },
   {
    "duration": 1142,
    "start_time": "2021-07-12T17:59:54.571Z"
   },
   {
    "duration": 47,
    "start_time": "2021-07-12T17:59:55.714Z"
   },
   {
    "duration": 7,
    "start_time": "2021-07-12T17:59:55.764Z"
   },
   {
    "duration": 13,
    "start_time": "2021-07-12T17:59:55.773Z"
   },
   {
    "duration": 6,
    "start_time": "2021-07-12T17:59:55.787Z"
   },
   {
    "duration": 3,
    "start_time": "2021-07-12T17:59:55.795Z"
   },
   {
    "duration": 7,
    "start_time": "2021-07-12T17:59:55.800Z"
   },
   {
    "duration": 7,
    "start_time": "2021-07-12T17:59:55.809Z"
   },
   {
    "duration": 6,
    "start_time": "2021-07-12T17:59:55.817Z"
   },
   {
    "duration": 6,
    "start_time": "2021-07-12T17:59:55.824Z"
   },
   {
    "duration": 9,
    "start_time": "2021-07-12T17:59:55.831Z"
   },
   {
    "duration": 7,
    "start_time": "2021-07-12T17:59:55.842Z"
   },
   {
    "duration": 42,
    "start_time": "2021-07-12T17:59:55.850Z"
   },
   {
    "duration": 2,
    "start_time": "2021-07-12T17:59:55.894Z"
   },
   {
    "duration": 7,
    "start_time": "2021-07-12T17:59:55.897Z"
   },
   {
    "duration": 7,
    "start_time": "2021-07-12T17:59:55.905Z"
   },
   {
    "duration": 10,
    "start_time": "2021-07-12T17:59:55.913Z"
   },
   {
    "duration": 10,
    "start_time": "2021-07-12T17:59:55.924Z"
   },
   {
    "duration": 8,
    "start_time": "2021-07-12T17:59:55.935Z"
   },
   {
    "duration": 8,
    "start_time": "2021-07-12T17:59:55.944Z"
   },
   {
    "duration": 12,
    "start_time": "2021-07-12T17:59:55.954Z"
   },
   {
    "duration": 25,
    "start_time": "2021-07-12T17:59:55.968Z"
   },
   {
    "duration": 13,
    "start_time": "2021-07-12T17:59:55.996Z"
   },
   {
    "duration": 13,
    "start_time": "2021-07-12T17:59:56.011Z"
   },
   {
    "duration": 3,
    "start_time": "2021-07-12T17:59:56.025Z"
   },
   {
    "duration": 695,
    "start_time": "2021-07-12T17:59:56.029Z"
   },
   {
    "duration": 96,
    "start_time": "2021-07-12T17:59:56.798Z"
   },
   {
    "duration": 8,
    "start_time": "2021-07-12T17:59:56.895Z"
   },
   {
    "duration": 4,
    "start_time": "2021-07-12T17:59:56.905Z"
   },
   {
    "duration": 688,
    "start_time": "2021-07-12T17:59:56.910Z"
   },
   {
    "duration": 94,
    "start_time": "2021-07-12T17:59:57.600Z"
   },
   {
    "duration": 8,
    "start_time": "2021-07-12T17:59:57.696Z"
   },
   {
    "duration": 30,
    "start_time": "2021-07-12T17:59:57.705Z"
   },
   {
    "duration": 3,
    "start_time": "2021-07-12T17:59:57.736Z"
   },
   {
    "duration": 13,
    "start_time": "2021-07-12T17:59:57.741Z"
   },
   {
    "duration": 621,
    "start_time": "2021-07-12T17:59:57.755Z"
   },
   {
    "duration": 17,
    "start_time": "2021-07-12T17:59:58.378Z"
   },
   {
    "duration": 95,
    "start_time": "2021-07-12T17:59:58.397Z"
   },
   {
    "duration": 99,
    "start_time": "2021-07-12T17:59:58.494Z"
   },
   {
    "duration": 238,
    "start_time": "2021-07-12T17:59:58.595Z"
   },
   {
    "duration": 341,
    "start_time": "2021-07-12T17:59:58.834Z"
   },
   {
    "duration": 16,
    "start_time": "2021-07-12T17:59:59.176Z"
   },
   {
    "duration": 4,
    "start_time": "2021-07-12T17:59:59.193Z"
   },
   {
    "duration": 15,
    "start_time": "2021-07-12T17:59:59.198Z"
   },
   {
    "duration": 104,
    "start_time": "2021-07-12T17:59:59.215Z"
   },
   {
    "duration": 669,
    "start_time": "2021-07-12T17:59:59.321Z"
   },
   {
    "duration": 1000,
    "start_time": "2021-07-12T17:59:59.993Z"
   },
   {
    "duration": 224,
    "start_time": "2021-07-12T18:00:00.995Z"
   },
   {
    "duration": 841,
    "start_time": "2021-07-12T18:00:01.221Z"
   },
   {
    "duration": 37,
    "start_time": "2021-07-12T18:00:02.064Z"
   },
   {
    "duration": 2031,
    "start_time": "2021-07-12T18:00:02.192Z"
   },
   {
    "duration": 530,
    "start_time": "2021-07-12T18:00:04.225Z"
   },
   {
    "duration": 41,
    "start_time": "2021-07-12T18:00:04.757Z"
   },
   {
    "duration": 6,
    "start_time": "2021-07-12T18:00:04.799Z"
   },
   {
    "duration": 10,
    "start_time": "2021-07-12T18:00:04.807Z"
   },
   {
    "duration": 32,
    "start_time": "2021-07-12T18:00:04.818Z"
   },
   {
    "duration": 315,
    "start_time": "2021-07-12T18:00:04.852Z"
   },
   {
    "duration": 19,
    "start_time": "2021-07-12T18:10:03.326Z"
   },
   {
    "duration": 4,
    "start_time": "2021-07-12T18:16:42.336Z"
   },
   {
    "duration": 15,
    "start_time": "2021-07-12T19:36:09.096Z"
   },
   {
    "duration": 311,
    "start_time": "2021-07-12T19:55:24.575Z"
   },
   {
    "duration": 4,
    "start_time": "2021-07-12T19:55:57.747Z"
   },
   {
    "duration": 209,
    "start_time": "2021-07-12T19:56:07.843Z"
   },
   {
    "duration": 23841,
    "start_time": "2021-07-12T19:57:25.107Z"
   },
   {
    "duration": 41,
    "start_time": "2021-07-12T19:57:48.950Z"
   },
   {
    "duration": 33,
    "start_time": "2021-07-12T20:03:02.952Z"
   },
   {
    "duration": 301,
    "start_time": "2021-07-12T20:03:07.067Z"
   },
   {
    "duration": 54,
    "start_time": "2021-07-12T20:03:11.842Z"
   },
   {
    "duration": 33,
    "start_time": "2021-07-12T20:03:16.491Z"
   },
   {
    "duration": 364,
    "start_time": "2021-07-12T20:03:17.817Z"
   },
   {
    "duration": 4,
    "start_time": "2021-07-12T20:07:15.590Z"
   },
   {
    "duration": 56,
    "start_time": "2021-07-12T20:07:15.603Z"
   },
   {
    "duration": 7,
    "start_time": "2021-07-12T20:07:15.661Z"
   },
   {
    "duration": 25,
    "start_time": "2021-07-12T20:07:15.670Z"
   },
   {
    "duration": 5,
    "start_time": "2021-07-12T20:07:15.697Z"
   },
   {
    "duration": 9,
    "start_time": "2021-07-12T20:07:15.704Z"
   },
   {
    "duration": 15,
    "start_time": "2021-07-12T20:07:15.715Z"
   },
   {
    "duration": 27,
    "start_time": "2021-07-12T20:07:15.732Z"
   },
   {
    "duration": 14,
    "start_time": "2021-07-12T20:07:15.762Z"
   },
   {
    "duration": 12,
    "start_time": "2021-07-12T20:07:15.778Z"
   },
   {
    "duration": 9,
    "start_time": "2021-07-12T20:07:15.792Z"
   },
   {
    "duration": 12,
    "start_time": "2021-07-12T20:07:15.803Z"
   },
   {
    "duration": 27,
    "start_time": "2021-07-12T20:07:15.817Z"
   },
   {
    "duration": 4,
    "start_time": "2021-07-12T20:07:15.845Z"
   },
   {
    "duration": 9,
    "start_time": "2021-07-12T20:07:15.851Z"
   },
   {
    "duration": 10,
    "start_time": "2021-07-12T20:07:15.862Z"
   },
   {
    "duration": 13,
    "start_time": "2021-07-12T20:07:15.873Z"
   },
   {
    "duration": 7,
    "start_time": "2021-07-12T20:07:15.888Z"
   },
   {
    "duration": 8,
    "start_time": "2021-07-12T20:07:15.897Z"
   },
   {
    "duration": 14,
    "start_time": "2021-07-12T20:07:15.906Z"
   },
   {
    "duration": 23,
    "start_time": "2021-07-12T20:07:15.923Z"
   },
   {
    "duration": 15,
    "start_time": "2021-07-12T20:07:15.948Z"
   },
   {
    "duration": 32,
    "start_time": "2021-07-12T20:07:15.964Z"
   },
   {
    "duration": 4,
    "start_time": "2021-07-12T20:07:15.997Z"
   },
   {
    "duration": 789,
    "start_time": "2021-07-12T20:07:16.003Z"
   },
   {
    "duration": 14,
    "start_time": "2021-07-12T20:07:16.795Z"
   },
   {
    "duration": 86,
    "start_time": "2021-07-12T20:07:16.810Z"
   },
   {
    "duration": 18,
    "start_time": "2021-07-12T20:07:16.898Z"
   },
   {
    "duration": 875,
    "start_time": "2021-07-12T20:07:16.918Z"
   },
   {
    "duration": 7,
    "start_time": "2021-07-12T20:07:17.795Z"
   },
   {
    "duration": 102,
    "start_time": "2021-07-12T20:07:17.892Z"
   },
   {
    "duration": 59,
    "start_time": "2021-07-12T20:07:17.996Z"
   },
   {
    "duration": 3,
    "start_time": "2021-07-12T20:07:18.056Z"
   },
   {
    "duration": 29,
    "start_time": "2021-07-12T20:07:18.062Z"
   },
   {
    "duration": 610,
    "start_time": "2021-07-12T20:07:18.093Z"
   },
   {
    "duration": 9,
    "start_time": "2021-07-12T20:07:18.705Z"
   },
   {
    "duration": 77,
    "start_time": "2021-07-12T20:07:18.715Z"
   },
   {
    "duration": 100,
    "start_time": "2021-07-12T20:07:18.793Z"
   },
   {
    "duration": 240,
    "start_time": "2021-07-12T20:07:18.896Z"
   },
   {
    "duration": 331,
    "start_time": "2021-07-12T20:07:19.138Z"
   },
   {
    "duration": 6,
    "start_time": "2021-07-12T20:07:19.470Z"
   },
   {
    "duration": 24,
    "start_time": "2021-07-12T20:07:19.477Z"
   },
   {
    "duration": 37,
    "start_time": "2021-07-12T20:07:19.502Z"
   },
   {
    "duration": 107,
    "start_time": "2021-07-12T20:07:19.541Z"
   },
   {
    "duration": 645,
    "start_time": "2021-07-12T20:07:19.649Z"
   },
   {
    "duration": 1097,
    "start_time": "2021-07-12T20:07:20.296Z"
   },
   {
    "duration": 223,
    "start_time": "2021-07-12T20:07:21.395Z"
   },
   {
    "duration": 839,
    "start_time": "2021-07-12T20:07:21.620Z"
   },
   {
    "duration": 132,
    "start_time": "2021-07-12T20:07:22.461Z"
   },
   {
    "duration": 124,
    "start_time": "2021-07-12T20:07:22.596Z"
   },
   {
    "duration": 288,
    "start_time": "2021-07-12T20:07:22.721Z"
   },
   {
    "duration": 1045,
    "start_time": "2021-07-13T05:54:44.667Z"
   },
   {
    "duration": 37,
    "start_time": "2021-07-13T05:54:45.714Z"
   },
   {
    "duration": 7,
    "start_time": "2021-07-13T05:54:45.753Z"
   },
   {
    "duration": 9,
    "start_time": "2021-07-13T05:54:45.762Z"
   },
   {
    "duration": 4,
    "start_time": "2021-07-13T05:54:45.773Z"
   },
   {
    "duration": 14,
    "start_time": "2021-07-13T05:54:45.779Z"
   },
   {
    "duration": 4,
    "start_time": "2021-07-13T05:54:45.794Z"
   },
   {
    "duration": 6,
    "start_time": "2021-07-13T05:54:45.800Z"
   },
   {
    "duration": 4,
    "start_time": "2021-07-13T05:54:45.808Z"
   },
   {
    "duration": 3,
    "start_time": "2021-07-13T05:54:45.814Z"
   },
   {
    "duration": 9,
    "start_time": "2021-07-13T05:54:45.818Z"
   },
   {
    "duration": 6,
    "start_time": "2021-07-13T05:54:45.829Z"
   },
   {
    "duration": 21,
    "start_time": "2021-07-13T05:54:45.837Z"
   },
   {
    "duration": 33,
    "start_time": "2021-07-13T05:54:45.859Z"
   },
   {
    "duration": 5,
    "start_time": "2021-07-13T05:54:45.893Z"
   },
   {
    "duration": 3,
    "start_time": "2021-07-13T05:54:45.900Z"
   },
   {
    "duration": 8,
    "start_time": "2021-07-13T05:54:45.904Z"
   },
   {
    "duration": 14,
    "start_time": "2021-07-13T05:54:45.913Z"
   },
   {
    "duration": 8,
    "start_time": "2021-07-13T05:54:45.928Z"
   },
   {
    "duration": 13,
    "start_time": "2021-07-13T05:54:45.937Z"
   },
   {
    "duration": 21,
    "start_time": "2021-07-13T05:54:45.952Z"
   },
   {
    "duration": 18,
    "start_time": "2021-07-13T05:54:45.975Z"
   },
   {
    "duration": 13,
    "start_time": "2021-07-13T05:54:45.996Z"
   },
   {
    "duration": 3,
    "start_time": "2021-07-13T05:54:46.011Z"
   },
   {
    "duration": 679,
    "start_time": "2021-07-13T05:54:46.016Z"
   },
   {
    "duration": 98,
    "start_time": "2021-07-13T05:54:46.696Z"
   },
   {
    "duration": 9,
    "start_time": "2021-07-13T05:54:46.795Z"
   },
   {
    "duration": 4,
    "start_time": "2021-07-13T05:54:46.806Z"
   },
   {
    "duration": 682,
    "start_time": "2021-07-13T05:54:46.812Z"
   },
   {
    "duration": 97,
    "start_time": "2021-07-13T05:54:47.497Z"
   },
   {
    "duration": 6,
    "start_time": "2021-07-13T05:54:47.595Z"
   },
   {
    "duration": 31,
    "start_time": "2021-07-13T05:54:47.602Z"
   },
   {
    "duration": 3,
    "start_time": "2021-07-13T05:54:47.634Z"
   },
   {
    "duration": 12,
    "start_time": "2021-07-13T05:54:47.638Z"
   },
   {
    "duration": 634,
    "start_time": "2021-07-13T05:54:47.651Z"
   },
   {
    "duration": 11,
    "start_time": "2021-07-13T05:54:48.287Z"
   },
   {
    "duration": 94,
    "start_time": "2021-07-13T05:54:48.299Z"
   },
   {
    "duration": 99,
    "start_time": "2021-07-13T05:54:48.395Z"
   },
   {
    "duration": 242,
    "start_time": "2021-07-13T05:54:48.497Z"
   },
   {
    "duration": 373,
    "start_time": "2021-07-13T05:54:48.740Z"
   },
   {
    "duration": 6,
    "start_time": "2021-07-13T05:54:49.115Z"
   },
   {
    "duration": 4,
    "start_time": "2021-07-13T05:54:49.122Z"
   },
   {
    "duration": 14,
    "start_time": "2021-07-13T05:54:49.127Z"
   },
   {
    "duration": 108,
    "start_time": "2021-07-13T05:54:49.142Z"
   },
   {
    "duration": 3,
    "start_time": "2021-07-13T05:54:49.252Z"
   },
   {
    "duration": 13,
    "start_time": "2021-07-13T05:54:49.256Z"
   },
   {
    "duration": 106,
    "start_time": "2021-07-13T05:54:49.270Z"
   },
   {
    "duration": 639,
    "start_time": "2021-07-13T05:54:49.377Z"
   },
   {
    "duration": 1040,
    "start_time": "2021-07-13T05:54:50.019Z"
   },
   {
    "duration": 131,
    "start_time": "2021-07-13T05:54:51.092Z"
   },
   {
    "duration": 833,
    "start_time": "2021-07-13T05:54:51.224Z"
   },
   {
    "duration": 41,
    "start_time": "2021-07-13T05:54:52.059Z"
   },
   {
    "duration": 320,
    "start_time": "2021-07-13T05:54:52.192Z"
   },
   {
    "duration": -16,
    "start_time": "2021-07-13T05:54:52.530Z"
   },
   {
    "duration": 17,
    "start_time": "2021-07-13T05:55:31.819Z"
   },
   {
    "duration": 10,
    "start_time": "2021-07-13T05:56:28.243Z"
   },
   {
    "duration": 93,
    "start_time": "2021-07-13T05:56:29.200Z"
   },
   {
    "duration": 12,
    "start_time": "2021-07-13T05:56:38.420Z"
   },
   {
    "duration": 93,
    "start_time": "2021-07-13T05:56:39.203Z"
   },
   {
    "duration": 11,
    "start_time": "2021-07-13T05:56:43.381Z"
   },
   {
    "duration": 153,
    "start_time": "2021-07-13T05:56:43.909Z"
   },
   {
    "duration": 11,
    "start_time": "2021-07-13T05:56:53.919Z"
   },
   {
    "duration": 114,
    "start_time": "2021-07-13T05:56:54.486Z"
   },
   {
    "duration": 318,
    "start_time": "2021-07-13T05:59:48.175Z"
   },
   {
    "duration": 1078,
    "start_time": "2021-07-13T08:38:17.333Z"
   },
   {
    "duration": 39,
    "start_time": "2021-07-13T08:38:18.413Z"
   },
   {
    "duration": 7,
    "start_time": "2021-07-13T08:38:18.454Z"
   },
   {
    "duration": 13,
    "start_time": "2021-07-13T08:38:18.463Z"
   },
   {
    "duration": 17,
    "start_time": "2021-07-13T08:38:18.477Z"
   },
   {
    "duration": 6,
    "start_time": "2021-07-13T08:38:18.495Z"
   },
   {
    "duration": 5,
    "start_time": "2021-07-13T08:38:18.502Z"
   },
   {
    "duration": 12,
    "start_time": "2021-07-13T08:38:18.509Z"
   },
   {
    "duration": 9,
    "start_time": "2021-07-13T08:38:18.523Z"
   },
   {
    "duration": 10,
    "start_time": "2021-07-13T08:38:18.533Z"
   },
   {
    "duration": 11,
    "start_time": "2021-07-13T08:38:18.544Z"
   },
   {
    "duration": 8,
    "start_time": "2021-07-13T08:38:18.556Z"
   },
   {
    "duration": 31,
    "start_time": "2021-07-13T08:38:18.566Z"
   },
   {
    "duration": 5,
    "start_time": "2021-07-13T08:38:18.598Z"
   },
   {
    "duration": 11,
    "start_time": "2021-07-13T08:38:18.604Z"
   },
   {
    "duration": 6,
    "start_time": "2021-07-13T08:38:18.617Z"
   },
   {
    "duration": 12,
    "start_time": "2021-07-13T08:38:18.624Z"
   },
   {
    "duration": 8,
    "start_time": "2021-07-13T08:38:18.637Z"
   },
   {
    "duration": 14,
    "start_time": "2021-07-13T08:38:18.646Z"
   },
   {
    "duration": 13,
    "start_time": "2021-07-13T08:38:18.661Z"
   },
   {
    "duration": 19,
    "start_time": "2021-07-13T08:38:18.676Z"
   },
   {
    "duration": 14,
    "start_time": "2021-07-13T08:38:18.697Z"
   },
   {
    "duration": 13,
    "start_time": "2021-07-13T08:38:18.714Z"
   },
   {
    "duration": 3,
    "start_time": "2021-07-13T08:38:18.729Z"
   },
   {
    "duration": 662,
    "start_time": "2021-07-13T08:38:18.734Z"
   },
   {
    "duration": 103,
    "start_time": "2021-07-13T08:38:19.398Z"
   },
   {
    "duration": 7,
    "start_time": "2021-07-13T08:38:19.593Z"
   },
   {
    "duration": 5,
    "start_time": "2021-07-13T08:38:19.601Z"
   },
   {
    "duration": 686,
    "start_time": "2021-07-13T08:38:19.607Z"
   },
   {
    "duration": 98,
    "start_time": "2021-07-13T08:38:20.295Z"
   },
   {
    "duration": 6,
    "start_time": "2021-07-13T08:38:20.395Z"
   },
   {
    "duration": 34,
    "start_time": "2021-07-13T08:38:20.402Z"
   },
   {
    "duration": 3,
    "start_time": "2021-07-13T08:38:20.437Z"
   },
   {
    "duration": 13,
    "start_time": "2021-07-13T08:38:20.442Z"
   },
   {
    "duration": 619,
    "start_time": "2021-07-13T08:38:20.457Z"
   },
   {
    "duration": 17,
    "start_time": "2021-07-13T08:38:21.078Z"
   },
   {
    "duration": 25,
    "start_time": "2021-07-13T08:38:21.096Z"
   },
   {
    "duration": 101,
    "start_time": "2021-07-13T08:38:21.195Z"
   },
   {
    "duration": 248,
    "start_time": "2021-07-13T08:38:21.298Z"
   },
   {
    "duration": 369,
    "start_time": "2021-07-13T08:38:21.547Z"
   },
   {
    "duration": 5,
    "start_time": "2021-07-13T08:38:21.918Z"
   },
   {
    "duration": 5,
    "start_time": "2021-07-13T08:38:21.925Z"
   },
   {
    "duration": 15,
    "start_time": "2021-07-13T08:38:21.931Z"
   },
   {
    "duration": 109,
    "start_time": "2021-07-13T08:38:21.948Z"
   },
   {
    "duration": 4,
    "start_time": "2021-07-13T08:38:22.058Z"
   },
   {
    "duration": 14,
    "start_time": "2021-07-13T08:38:22.063Z"
   },
   {
    "duration": 100,
    "start_time": "2021-07-13T08:38:22.079Z"
   },
   {
    "duration": 661,
    "start_time": "2021-07-13T08:38:22.181Z"
   },
   {
    "duration": 999,
    "start_time": "2021-07-13T08:38:22.894Z"
   },
   {
    "duration": 497,
    "start_time": "2021-07-13T08:38:23.896Z"
   },
   {
    "duration": 206,
    "start_time": "2021-07-13T08:38:24.395Z"
   },
   {
    "duration": 833,
    "start_time": "2021-07-13T08:38:24.603Z"
   },
   {
    "duration": 61,
    "start_time": "2021-07-13T08:38:25.437Z"
   },
   {
    "duration": 1077,
    "start_time": "2021-07-13T08:42:54.243Z"
   },
   {
    "duration": 41,
    "start_time": "2021-07-13T08:42:55.323Z"
   },
   {
    "duration": 6,
    "start_time": "2021-07-13T08:42:55.369Z"
   },
   {
    "duration": 18,
    "start_time": "2021-07-13T08:42:55.377Z"
   },
   {
    "duration": 4,
    "start_time": "2021-07-13T08:42:55.396Z"
   },
   {
    "duration": 5,
    "start_time": "2021-07-13T08:42:55.402Z"
   },
   {
    "duration": 5,
    "start_time": "2021-07-13T08:42:55.409Z"
   },
   {
    "duration": 8,
    "start_time": "2021-07-13T08:42:55.416Z"
   },
   {
    "duration": 8,
    "start_time": "2021-07-13T08:42:55.425Z"
   },
   {
    "duration": 7,
    "start_time": "2021-07-13T08:42:55.434Z"
   },
   {
    "duration": 15,
    "start_time": "2021-07-13T08:42:55.442Z"
   },
   {
    "duration": 4,
    "start_time": "2021-07-13T08:42:55.459Z"
   },
   {
    "duration": 21,
    "start_time": "2021-07-13T08:42:55.492Z"
   },
   {
    "duration": 5,
    "start_time": "2021-07-13T08:42:55.515Z"
   },
   {
    "duration": 8,
    "start_time": "2021-07-13T08:42:55.521Z"
   },
   {
    "duration": 6,
    "start_time": "2021-07-13T08:42:55.531Z"
   },
   {
    "duration": 10,
    "start_time": "2021-07-13T08:42:55.539Z"
   },
   {
    "duration": 9,
    "start_time": "2021-07-13T08:42:55.550Z"
   },
   {
    "duration": 8,
    "start_time": "2021-07-13T08:42:55.560Z"
   },
   {
    "duration": 23,
    "start_time": "2021-07-13T08:42:55.569Z"
   },
   {
    "duration": 24,
    "start_time": "2021-07-13T08:42:55.594Z"
   },
   {
    "duration": 16,
    "start_time": "2021-07-13T08:42:55.622Z"
   },
   {
    "duration": 16,
    "start_time": "2021-07-13T08:42:55.639Z"
   },
   {
    "duration": 3,
    "start_time": "2021-07-13T08:42:55.657Z"
   },
   {
    "duration": 736,
    "start_time": "2021-07-13T08:42:55.662Z"
   },
   {
    "duration": 96,
    "start_time": "2021-07-13T08:42:56.400Z"
   },
   {
    "duration": 7,
    "start_time": "2021-07-13T08:42:56.498Z"
   },
   {
    "duration": 4,
    "start_time": "2021-07-13T08:42:56.506Z"
   },
   {
    "duration": 788,
    "start_time": "2021-07-13T08:42:56.512Z"
   },
   {
    "duration": 5,
    "start_time": "2021-07-13T08:42:57.393Z"
   },
   {
    "duration": 7,
    "start_time": "2021-07-13T08:42:57.399Z"
   },
   {
    "duration": 32,
    "start_time": "2021-07-13T08:42:57.408Z"
   },
   {
    "duration": 3,
    "start_time": "2021-07-13T08:42:57.441Z"
   },
   {
    "duration": 59,
    "start_time": "2021-07-13T08:42:57.445Z"
   },
   {
    "duration": 592,
    "start_time": "2021-07-13T08:42:57.505Z"
   },
   {
    "duration": 9,
    "start_time": "2021-07-13T08:42:58.099Z"
   },
   {
    "duration": 85,
    "start_time": "2021-07-13T08:42:58.109Z"
   },
   {
    "duration": 101,
    "start_time": "2021-07-13T08:42:58.196Z"
   },
   {
    "duration": 273,
    "start_time": "2021-07-13T08:42:58.300Z"
   },
   {
    "duration": 348,
    "start_time": "2021-07-13T08:42:58.574Z"
   },
   {
    "duration": 6,
    "start_time": "2021-07-13T08:42:58.923Z"
   },
   {
    "duration": 5,
    "start_time": "2021-07-13T08:42:58.930Z"
   },
   {
    "duration": 14,
    "start_time": "2021-07-13T08:42:58.937Z"
   },
   {
    "duration": 108,
    "start_time": "2021-07-13T08:42:58.952Z"
   },
   {
    "duration": 4,
    "start_time": "2021-07-13T08:42:59.061Z"
   },
   {
    "duration": 14,
    "start_time": "2021-07-13T08:42:59.066Z"
   },
   {
    "duration": 98,
    "start_time": "2021-07-13T08:42:59.082Z"
   },
   {
    "duration": 656,
    "start_time": "2021-07-13T08:42:59.181Z"
   },
   {
    "duration": 1054,
    "start_time": "2021-07-13T08:42:59.839Z"
   },
   {
    "duration": 418,
    "start_time": "2021-07-13T08:43:00.895Z"
   },
   {
    "duration": 203,
    "start_time": "2021-07-13T08:43:01.316Z"
   },
   {
    "duration": 837,
    "start_time": "2021-07-13T08:43:01.521Z"
   },
   {
    "duration": 35,
    "start_time": "2021-07-13T08:43:02.359Z"
   },
   {
    "duration": 3,
    "start_time": "2021-07-13T08:43:02.396Z"
   },
   {
    "duration": 457,
    "start_time": "2021-07-13T08:43:02.401Z"
   },
   {
    "duration": -24,
    "start_time": "2021-07-13T08:43:02.884Z"
   },
   {
    "duration": 221,
    "start_time": "2021-07-13T08:44:56.606Z"
   },
   {
    "duration": 225,
    "start_time": "2021-07-13T08:46:03.744Z"
   },
   {
    "duration": 337,
    "start_time": "2021-07-13T08:46:07.876Z"
   },
   {
    "duration": 311,
    "start_time": "2021-07-13T08:46:20.966Z"
   },
   {
    "duration": 247,
    "start_time": "2021-07-13T08:46:50.700Z"
   },
   {
    "duration": 309,
    "start_time": "2021-07-13T08:46:54.433Z"
   },
   {
    "duration": 226,
    "start_time": "2021-07-13T08:47:05.953Z"
   },
   {
    "duration": 278,
    "start_time": "2021-07-13T08:48:18.712Z"
   },
   {
    "duration": 255,
    "start_time": "2021-07-13T08:48:38.616Z"
   },
   {
    "duration": 4,
    "start_time": "2021-07-13T08:48:43.841Z"
   },
   {
    "duration": 38,
    "start_time": "2021-07-13T08:48:43.847Z"
   },
   {
    "duration": 6,
    "start_time": "2021-07-13T08:48:43.887Z"
   },
   {
    "duration": 15,
    "start_time": "2021-07-13T08:48:43.895Z"
   },
   {
    "duration": 5,
    "start_time": "2021-07-13T08:48:43.911Z"
   },
   {
    "duration": 7,
    "start_time": "2021-07-13T08:48:43.917Z"
   },
   {
    "duration": 7,
    "start_time": "2021-07-13T08:48:43.925Z"
   },
   {
    "duration": 8,
    "start_time": "2021-07-13T08:48:43.935Z"
   },
   {
    "duration": 13,
    "start_time": "2021-07-13T08:48:43.945Z"
   },
   {
    "duration": 18,
    "start_time": "2021-07-13T08:48:43.959Z"
   },
   {
    "duration": 16,
    "start_time": "2021-07-13T08:48:43.978Z"
   },
   {
    "duration": 10,
    "start_time": "2021-07-13T08:48:43.995Z"
   },
   {
    "duration": 27,
    "start_time": "2021-07-13T08:48:44.007Z"
   },
   {
    "duration": 12,
    "start_time": "2021-07-13T08:48:44.035Z"
   },
   {
    "duration": 8,
    "start_time": "2021-07-13T08:48:44.049Z"
   },
   {
    "duration": 6,
    "start_time": "2021-07-13T08:48:44.058Z"
   },
   {
    "duration": 13,
    "start_time": "2021-07-13T08:48:44.065Z"
   },
   {
    "duration": 15,
    "start_time": "2021-07-13T08:48:44.079Z"
   },
   {
    "duration": 14,
    "start_time": "2021-07-13T08:48:44.096Z"
   },
   {
    "duration": 12,
    "start_time": "2021-07-13T08:48:44.112Z"
   },
   {
    "duration": 20,
    "start_time": "2021-07-13T08:48:44.126Z"
   },
   {
    "duration": 15,
    "start_time": "2021-07-13T08:48:44.148Z"
   },
   {
    "duration": 14,
    "start_time": "2021-07-13T08:48:44.166Z"
   },
   {
    "duration": 9,
    "start_time": "2021-07-13T08:48:44.182Z"
   },
   {
    "duration": 797,
    "start_time": "2021-07-13T08:48:44.193Z"
   },
   {
    "duration": 8,
    "start_time": "2021-07-13T08:48:44.992Z"
   },
   {
    "duration": 17,
    "start_time": "2021-07-13T08:48:45.092Z"
   },
   {
    "duration": 21,
    "start_time": "2021-07-13T08:48:45.110Z"
   },
   {
    "duration": 660,
    "start_time": "2021-07-13T08:48:45.132Z"
   },
   {
    "duration": 7,
    "start_time": "2021-07-13T08:48:45.794Z"
   },
   {
    "duration": 7,
    "start_time": "2021-07-13T08:48:45.892Z"
   },
   {
    "duration": 121,
    "start_time": "2021-07-13T08:48:45.901Z"
   },
   {
    "duration": 4,
    "start_time": "2021-07-13T08:48:46.023Z"
   },
   {
    "duration": 16,
    "start_time": "2021-07-13T08:48:46.029Z"
   },
   {
    "duration": 603,
    "start_time": "2021-07-13T08:48:46.047Z"
   },
   {
    "duration": 9,
    "start_time": "2021-07-13T08:48:46.651Z"
   },
   {
    "duration": 41,
    "start_time": "2021-07-13T08:48:46.661Z"
   },
   {
    "duration": 97,
    "start_time": "2021-07-13T08:48:46.703Z"
   },
   {
    "duration": 237,
    "start_time": "2021-07-13T08:48:46.892Z"
   },
   {
    "duration": 363,
    "start_time": "2021-07-13T08:48:47.131Z"
   },
   {
    "duration": 6,
    "start_time": "2021-07-13T08:48:47.496Z"
   },
   {
    "duration": 9,
    "start_time": "2021-07-13T08:48:47.503Z"
   },
   {
    "duration": 17,
    "start_time": "2021-07-13T08:48:47.513Z"
   },
   {
    "duration": 107,
    "start_time": "2021-07-13T08:48:47.532Z"
   },
   {
    "duration": 4,
    "start_time": "2021-07-13T08:48:47.641Z"
   },
   {
    "duration": 12,
    "start_time": "2021-07-13T08:48:47.646Z"
   },
   {
    "duration": 100,
    "start_time": "2021-07-13T08:48:47.660Z"
   },
   {
    "duration": 746,
    "start_time": "2021-07-13T08:48:47.761Z"
   },
   {
    "duration": 1006,
    "start_time": "2021-07-13T08:48:48.592Z"
   },
   {
    "duration": 402,
    "start_time": "2021-07-13T08:48:49.691Z"
   },
   {
    "duration": 224,
    "start_time": "2021-07-13T08:48:50.095Z"
   },
   {
    "duration": 839,
    "start_time": "2021-07-13T08:48:50.321Z"
   },
   {
    "duration": 130,
    "start_time": "2021-07-13T08:48:51.162Z"
   },
   {
    "duration": 2,
    "start_time": "2021-07-13T08:48:51.295Z"
   },
   {
    "duration": 323,
    "start_time": "2021-07-13T08:48:51.299Z"
   },
   {
    "duration": -28,
    "start_time": "2021-07-13T08:48:51.652Z"
   },
   {
    "duration": 4,
    "start_time": "2021-07-13T08:50:30.604Z"
   },
   {
    "duration": 52,
    "start_time": "2021-07-13T08:50:30.610Z"
   },
   {
    "duration": 8,
    "start_time": "2021-07-13T08:50:30.663Z"
   },
   {
    "duration": 22,
    "start_time": "2021-07-13T08:50:30.672Z"
   },
   {
    "duration": 19,
    "start_time": "2021-07-13T08:50:30.696Z"
   },
   {
    "duration": 20,
    "start_time": "2021-07-13T08:50:30.716Z"
   },
   {
    "duration": 20,
    "start_time": "2021-07-13T08:50:30.737Z"
   },
   {
    "duration": 26,
    "start_time": "2021-07-13T08:50:30.759Z"
   },
   {
    "duration": 18,
    "start_time": "2021-07-13T08:50:30.787Z"
   },
   {
    "duration": 13,
    "start_time": "2021-07-13T08:50:30.807Z"
   },
   {
    "duration": 14,
    "start_time": "2021-07-13T08:50:30.821Z"
   },
   {
    "duration": 16,
    "start_time": "2021-07-13T08:50:30.836Z"
   },
   {
    "duration": 23,
    "start_time": "2021-07-13T08:50:30.853Z"
   },
   {
    "duration": 8,
    "start_time": "2021-07-13T08:50:30.878Z"
   },
   {
    "duration": 13,
    "start_time": "2021-07-13T08:50:30.888Z"
   },
   {
    "duration": 12,
    "start_time": "2021-07-13T08:50:30.902Z"
   },
   {
    "duration": 15,
    "start_time": "2021-07-13T08:50:30.916Z"
   },
   {
    "duration": 13,
    "start_time": "2021-07-13T08:50:30.932Z"
   },
   {
    "duration": 9,
    "start_time": "2021-07-13T08:50:30.947Z"
   },
   {
    "duration": 15,
    "start_time": "2021-07-13T08:50:30.958Z"
   },
   {
    "duration": 24,
    "start_time": "2021-07-13T08:50:30.975Z"
   },
   {
    "duration": 16,
    "start_time": "2021-07-13T08:50:31.001Z"
   },
   {
    "duration": 27,
    "start_time": "2021-07-13T08:50:31.020Z"
   },
   {
    "duration": 16,
    "start_time": "2021-07-13T08:50:31.049Z"
   },
   {
    "duration": 764,
    "start_time": "2021-07-13T08:50:31.066Z"
   },
   {
    "duration": 98,
    "start_time": "2021-07-13T08:50:31.895Z"
   },
   {
    "duration": 7,
    "start_time": "2021-07-13T08:50:31.995Z"
   },
   {
    "duration": 5,
    "start_time": "2021-07-13T08:50:32.003Z"
   },
   {
    "duration": 686,
    "start_time": "2021-07-13T08:50:32.009Z"
   },
   {
    "duration": 96,
    "start_time": "2021-07-13T08:50:32.697Z"
   },
   {
    "duration": 10,
    "start_time": "2021-07-13T08:50:32.794Z"
   },
   {
    "duration": 32,
    "start_time": "2021-07-13T08:50:32.805Z"
   },
   {
    "duration": 3,
    "start_time": "2021-07-13T08:50:32.839Z"
   },
   {
    "duration": 17,
    "start_time": "2021-07-13T08:50:32.843Z"
   },
   {
    "duration": 613,
    "start_time": "2021-07-13T08:50:32.862Z"
   },
   {
    "duration": 20,
    "start_time": "2021-07-13T08:50:33.476Z"
   },
   {
    "duration": 21,
    "start_time": "2021-07-13T08:50:33.497Z"
   },
   {
    "duration": 99,
    "start_time": "2021-07-13T08:50:33.593Z"
   },
   {
    "duration": 236,
    "start_time": "2021-07-13T08:50:33.694Z"
   },
   {
    "duration": 298,
    "start_time": "2021-07-13T08:50:33.932Z"
   },
   {
    "duration": 6,
    "start_time": "2021-07-13T08:50:34.231Z"
   },
   {
    "duration": 4,
    "start_time": "2021-07-13T08:50:34.238Z"
   },
   {
    "duration": 14,
    "start_time": "2021-07-13T08:50:34.244Z"
   },
   {
    "duration": 103,
    "start_time": "2021-07-13T08:50:34.260Z"
   },
   {
    "duration": 4,
    "start_time": "2021-07-13T08:50:34.364Z"
   },
   {
    "duration": 23,
    "start_time": "2021-07-13T08:50:34.369Z"
   },
   {
    "duration": 98,
    "start_time": "2021-07-13T08:50:34.393Z"
   },
   {
    "duration": 658,
    "start_time": "2021-07-13T08:50:34.493Z"
   },
   {
    "duration": 1105,
    "start_time": "2021-07-13T08:50:35.192Z"
   },
   {
    "duration": 413,
    "start_time": "2021-07-13T08:50:36.299Z"
   },
   {
    "duration": 206,
    "start_time": "2021-07-13T08:50:36.714Z"
   },
   {
    "duration": 851,
    "start_time": "2021-07-13T08:50:36.921Z"
   },
   {
    "duration": 118,
    "start_time": "2021-07-13T08:50:37.774Z"
   },
   {
    "duration": 3,
    "start_time": "2021-07-13T08:50:37.895Z"
   },
   {
    "duration": 313,
    "start_time": "2021-07-13T08:50:37.900Z"
   },
   {
    "duration": -27,
    "start_time": "2021-07-13T08:50:38.242Z"
   },
   {
    "duration": 3,
    "start_time": "2021-07-13T08:50:56.513Z"
   },
   {
    "duration": 279,
    "start_time": "2021-07-13T08:51:01.924Z"
   },
   {
    "duration": 290,
    "start_time": "2021-07-13T08:51:05.256Z"
   },
   {
    "duration": 4,
    "start_time": "2021-07-13T08:53:03.262Z"
   },
   {
    "duration": 46,
    "start_time": "2021-07-13T08:53:03.267Z"
   },
   {
    "duration": 8,
    "start_time": "2021-07-13T08:53:03.316Z"
   },
   {
    "duration": 11,
    "start_time": "2021-07-13T08:53:03.326Z"
   },
   {
    "duration": 6,
    "start_time": "2021-07-13T08:53:03.338Z"
   },
   {
    "duration": 47,
    "start_time": "2021-07-13T08:53:03.346Z"
   },
   {
    "duration": 4,
    "start_time": "2021-07-13T08:53:03.395Z"
   },
   {
    "duration": 7,
    "start_time": "2021-07-13T08:53:03.402Z"
   },
   {
    "duration": 4,
    "start_time": "2021-07-13T08:53:03.411Z"
   },
   {
    "duration": 4,
    "start_time": "2021-07-13T08:53:03.416Z"
   },
   {
    "duration": 8,
    "start_time": "2021-07-13T08:53:03.421Z"
   },
   {
    "duration": 10,
    "start_time": "2021-07-13T08:53:03.430Z"
   },
   {
    "duration": 24,
    "start_time": "2021-07-13T08:53:03.442Z"
   },
   {
    "duration": 26,
    "start_time": "2021-07-13T08:53:03.467Z"
   },
   {
    "duration": 6,
    "start_time": "2021-07-13T08:53:03.495Z"
   },
   {
    "duration": 6,
    "start_time": "2021-07-13T08:53:03.503Z"
   },
   {
    "duration": 10,
    "start_time": "2021-07-13T08:53:03.511Z"
   },
   {
    "duration": 10,
    "start_time": "2021-07-13T08:53:03.523Z"
   },
   {
    "duration": 9,
    "start_time": "2021-07-13T08:53:03.534Z"
   },
   {
    "duration": 12,
    "start_time": "2021-07-13T08:53:03.544Z"
   },
   {
    "duration": 21,
    "start_time": "2021-07-13T08:53:03.558Z"
   },
   {
    "duration": 20,
    "start_time": "2021-07-13T08:53:03.581Z"
   },
   {
    "duration": 13,
    "start_time": "2021-07-13T08:53:03.604Z"
   },
   {
    "duration": 3,
    "start_time": "2021-07-13T08:53:03.619Z"
   },
   {
    "duration": 673,
    "start_time": "2021-07-13T08:53:03.624Z"
   },
   {
    "duration": 7,
    "start_time": "2021-07-13T08:53:04.391Z"
   },
   {
    "duration": 8,
    "start_time": "2021-07-13T08:53:04.399Z"
   },
   {
    "duration": 7,
    "start_time": "2021-07-13T08:53:04.408Z"
   },
   {
    "duration": 679,
    "start_time": "2021-07-13T08:53:04.416Z"
   },
   {
    "duration": 97,
    "start_time": "2021-07-13T08:53:05.097Z"
   },
   {
    "duration": 7,
    "start_time": "2021-07-13T08:53:05.196Z"
   },
   {
    "duration": 114,
    "start_time": "2021-07-13T08:53:05.205Z"
   },
   {
    "duration": 3,
    "start_time": "2021-07-13T08:53:05.320Z"
   },
   {
    "duration": 14,
    "start_time": "2021-07-13T08:53:05.324Z"
   },
   {
    "duration": 599,
    "start_time": "2021-07-13T08:53:05.339Z"
   },
   {
    "duration": 9,
    "start_time": "2021-07-13T08:53:05.939Z"
   },
   {
    "duration": 49,
    "start_time": "2021-07-13T08:53:05.950Z"
   },
   {
    "duration": 99,
    "start_time": "2021-07-13T08:53:06.001Z"
   },
   {
    "duration": 235,
    "start_time": "2021-07-13T08:53:06.193Z"
   },
   {
    "duration": 298,
    "start_time": "2021-07-13T08:53:06.430Z"
   },
   {
    "duration": 5,
    "start_time": "2021-07-13T08:53:06.730Z"
   },
   {
    "duration": 7,
    "start_time": "2021-07-13T08:53:06.736Z"
   },
   {
    "duration": 19,
    "start_time": "2021-07-13T08:53:06.744Z"
   },
   {
    "duration": 106,
    "start_time": "2021-07-13T08:53:06.765Z"
   },
   {
    "duration": 3,
    "start_time": "2021-07-13T08:53:06.873Z"
   },
   {
    "duration": 22,
    "start_time": "2021-07-13T08:53:06.878Z"
   },
   {
    "duration": 105,
    "start_time": "2021-07-13T08:53:06.902Z"
   },
   {
    "duration": 634,
    "start_time": "2021-07-13T08:53:07.008Z"
   },
   {
    "duration": 1050,
    "start_time": "2021-07-13T08:53:07.644Z"
   },
   {
    "duration": 499,
    "start_time": "2021-07-13T08:53:08.696Z"
   },
   {
    "duration": 135,
    "start_time": "2021-07-13T08:53:09.197Z"
   },
   {
    "duration": 953,
    "start_time": "2021-07-13T08:53:09.334Z"
   },
   {
    "duration": 103,
    "start_time": "2021-07-13T08:53:10.288Z"
   },
   {
    "duration": 6,
    "start_time": "2021-07-13T08:53:10.394Z"
   },
   {
    "duration": 238,
    "start_time": "2021-07-13T08:53:10.492Z"
   },
   {
    "duration": -15,
    "start_time": "2021-07-13T08:53:10.747Z"
   },
   {
    "duration": 4,
    "start_time": "2021-07-13T08:54:15.485Z"
   },
   {
    "duration": 36,
    "start_time": "2021-07-13T08:54:15.491Z"
   },
   {
    "duration": 11,
    "start_time": "2021-07-13T08:54:15.529Z"
   },
   {
    "duration": 10,
    "start_time": "2021-07-13T08:54:15.542Z"
   },
   {
    "duration": 6,
    "start_time": "2021-07-13T08:54:15.554Z"
   },
   {
    "duration": 4,
    "start_time": "2021-07-13T08:54:15.592Z"
   },
   {
    "duration": 5,
    "start_time": "2021-07-13T08:54:15.599Z"
   },
   {
    "duration": 9,
    "start_time": "2021-07-13T08:54:15.606Z"
   },
   {
    "duration": 5,
    "start_time": "2021-07-13T08:54:15.617Z"
   },
   {
    "duration": 9,
    "start_time": "2021-07-13T08:54:15.623Z"
   },
   {
    "duration": 12,
    "start_time": "2021-07-13T08:54:15.634Z"
   },
   {
    "duration": 14,
    "start_time": "2021-07-13T08:54:15.647Z"
   },
   {
    "duration": 35,
    "start_time": "2021-07-13T08:54:15.662Z"
   },
   {
    "duration": 5,
    "start_time": "2021-07-13T08:54:15.699Z"
   },
   {
    "duration": 10,
    "start_time": "2021-07-13T08:54:15.705Z"
   },
   {
    "duration": 7,
    "start_time": "2021-07-13T08:54:15.717Z"
   },
   {
    "duration": 11,
    "start_time": "2021-07-13T08:54:15.726Z"
   },
   {
    "duration": 9,
    "start_time": "2021-07-13T08:54:15.738Z"
   },
   {
    "duration": 8,
    "start_time": "2021-07-13T08:54:15.748Z"
   },
   {
    "duration": 15,
    "start_time": "2021-07-13T08:54:15.757Z"
   },
   {
    "duration": 24,
    "start_time": "2021-07-13T08:54:15.773Z"
   },
   {
    "duration": 14,
    "start_time": "2021-07-13T08:54:15.798Z"
   },
   {
    "duration": 13,
    "start_time": "2021-07-13T08:54:15.816Z"
   },
   {
    "duration": 3,
    "start_time": "2021-07-13T08:54:15.831Z"
   },
   {
    "duration": 669,
    "start_time": "2021-07-13T08:54:15.836Z"
   },
   {
    "duration": 99,
    "start_time": "2021-07-13T08:54:16.593Z"
   },
   {
    "duration": 5,
    "start_time": "2021-07-13T08:54:16.694Z"
   },
   {
    "duration": 6,
    "start_time": "2021-07-13T08:54:16.701Z"
   },
   {
    "duration": 692,
    "start_time": "2021-07-13T08:54:16.708Z"
   },
   {
    "duration": 6,
    "start_time": "2021-07-13T08:54:17.493Z"
   },
   {
    "duration": 104,
    "start_time": "2021-07-13T08:54:17.501Z"
   },
   {
    "duration": 34,
    "start_time": "2021-07-13T08:54:17.607Z"
   },
   {
    "duration": 3,
    "start_time": "2021-07-13T08:54:17.642Z"
   },
   {
    "duration": 15,
    "start_time": "2021-07-13T08:54:17.646Z"
   },
   {
    "duration": 743,
    "start_time": "2021-07-13T08:54:17.663Z"
   },
   {
    "duration": 10,
    "start_time": "2021-07-13T08:54:18.408Z"
   },
   {
    "duration": 74,
    "start_time": "2021-07-13T08:54:18.419Z"
   },
   {
    "duration": 12,
    "start_time": "2021-07-13T08:54:18.495Z"
   },
   {
    "duration": 328,
    "start_time": "2021-07-13T08:54:18.509Z"
   },
   {
    "duration": 404,
    "start_time": "2021-07-13T08:54:18.839Z"
   },
   {
    "duration": 6,
    "start_time": "2021-07-13T08:54:19.245Z"
   },
   {
    "duration": 3,
    "start_time": "2021-07-13T08:54:19.253Z"
   },
   {
    "duration": 33,
    "start_time": "2021-07-13T08:54:19.258Z"
   },
   {
    "duration": 102,
    "start_time": "2021-07-13T08:54:19.293Z"
   },
   {
    "duration": 3,
    "start_time": "2021-07-13T08:54:19.397Z"
   },
   {
    "duration": 21,
    "start_time": "2021-07-13T08:54:19.402Z"
   },
   {
    "duration": 14,
    "start_time": "2021-07-13T08:54:19.424Z"
   },
   {
    "duration": 1051,
    "start_time": "2021-07-13T08:54:19.440Z"
   },
   {
    "duration": 1001,
    "start_time": "2021-07-13T08:54:20.495Z"
   },
   {
    "duration": 3,
    "start_time": "2021-07-13T08:54:21.498Z"
   },
   {
    "duration": 142,
    "start_time": "2021-07-13T08:54:21.593Z"
   },
   {
    "duration": 873,
    "start_time": "2021-07-13T08:54:21.737Z"
   },
   {
    "duration": 83,
    "start_time": "2021-07-13T08:54:22.612Z"
   },
   {
    "duration": 4,
    "start_time": "2021-07-13T08:54:22.696Z"
   },
   {
    "duration": 602,
    "start_time": "2021-07-13T08:54:22.702Z"
   },
   {
    "duration": -29,
    "start_time": "2021-07-13T08:54:23.335Z"
   },
   {
    "duration": 256,
    "start_time": "2021-07-13T08:59:10.016Z"
   },
   {
    "duration": 253,
    "start_time": "2021-07-13T08:59:16.247Z"
   },
   {
    "duration": 4,
    "start_time": "2021-07-13T08:59:19.437Z"
   },
   {
    "duration": 48,
    "start_time": "2021-07-13T08:59:19.443Z"
   },
   {
    "duration": 7,
    "start_time": "2021-07-13T08:59:19.492Z"
   },
   {
    "duration": 12,
    "start_time": "2021-07-13T08:59:19.501Z"
   },
   {
    "duration": 11,
    "start_time": "2021-07-13T08:59:19.514Z"
   },
   {
    "duration": 7,
    "start_time": "2021-07-13T08:59:19.526Z"
   },
   {
    "duration": 13,
    "start_time": "2021-07-13T08:59:19.534Z"
   },
   {
    "duration": 20,
    "start_time": "2021-07-13T08:59:19.549Z"
   },
   {
    "duration": 10,
    "start_time": "2021-07-13T08:59:19.571Z"
   },
   {
    "duration": 4,
    "start_time": "2021-07-13T08:59:19.590Z"
   },
   {
    "duration": 13,
    "start_time": "2021-07-13T08:59:19.595Z"
   },
   {
    "duration": 10,
    "start_time": "2021-07-13T08:59:19.609Z"
   },
   {
    "duration": 22,
    "start_time": "2021-07-13T08:59:19.620Z"
   },
   {
    "duration": 3,
    "start_time": "2021-07-13T08:59:19.644Z"
   },
   {
    "duration": 9,
    "start_time": "2021-07-13T08:59:19.649Z"
   },
   {
    "duration": 9,
    "start_time": "2021-07-13T08:59:19.660Z"
   },
   {
    "duration": 10,
    "start_time": "2021-07-13T08:59:19.670Z"
   },
   {
    "duration": 8,
    "start_time": "2021-07-13T08:59:19.681Z"
   },
   {
    "duration": 8,
    "start_time": "2021-07-13T08:59:19.690Z"
   },
   {
    "duration": 11,
    "start_time": "2021-07-13T08:59:19.700Z"
   },
   {
    "duration": 20,
    "start_time": "2021-07-13T08:59:19.712Z"
   },
   {
    "duration": 13,
    "start_time": "2021-07-13T08:59:19.733Z"
   },
   {
    "duration": 14,
    "start_time": "2021-07-13T08:59:19.749Z"
   },
   {
    "duration": 3,
    "start_time": "2021-07-13T08:59:19.766Z"
   },
   {
    "duration": 704,
    "start_time": "2021-07-13T08:59:19.791Z"
   },
   {
    "duration": 96,
    "start_time": "2021-07-13T08:59:20.497Z"
   },
   {
    "duration": 13,
    "start_time": "2021-07-13T08:59:20.594Z"
   },
   {
    "duration": 21,
    "start_time": "2021-07-13T08:59:20.609Z"
   },
   {
    "duration": 660,
    "start_time": "2021-07-13T08:59:20.632Z"
   },
   {
    "duration": 6,
    "start_time": "2021-07-13T08:59:21.295Z"
   },
   {
    "duration": 23,
    "start_time": "2021-07-13T08:59:21.392Z"
   },
   {
    "duration": 41,
    "start_time": "2021-07-13T08:59:21.417Z"
   },
   {
    "duration": 2,
    "start_time": "2021-07-13T08:59:21.460Z"
   },
   {
    "duration": 35,
    "start_time": "2021-07-13T08:59:21.464Z"
   },
   {
    "duration": 702,
    "start_time": "2021-07-13T08:59:21.500Z"
   },
   {
    "duration": 10,
    "start_time": "2021-07-13T08:59:22.203Z"
   },
   {
    "duration": 80,
    "start_time": "2021-07-13T08:59:22.215Z"
   },
   {
    "duration": 103,
    "start_time": "2021-07-13T08:59:22.297Z"
   },
   {
    "duration": 216,
    "start_time": "2021-07-13T08:59:22.492Z"
   },
   {
    "duration": 322,
    "start_time": "2021-07-13T08:59:22.710Z"
   },
   {
    "duration": 6,
    "start_time": "2021-07-13T08:59:23.034Z"
   },
   {
    "duration": 18,
    "start_time": "2021-07-13T08:59:23.042Z"
   },
   {
    "duration": 24,
    "start_time": "2021-07-13T08:59:23.061Z"
   },
   {
    "duration": 91,
    "start_time": "2021-07-13T08:59:23.087Z"
   },
   {
    "duration": 3,
    "start_time": "2021-07-13T08:59:23.180Z"
   },
   {
    "duration": 15,
    "start_time": "2021-07-13T08:59:23.185Z"
   },
   {
    "duration": 98,
    "start_time": "2021-07-13T08:59:23.201Z"
   },
   {
    "duration": 691,
    "start_time": "2021-07-13T08:59:23.301Z"
   },
   {
    "duration": 1001,
    "start_time": "2021-07-13T08:59:23.994Z"
   },
   {
    "duration": 613,
    "start_time": "2021-07-13T08:59:24.997Z"
   },
   {
    "duration": 210,
    "start_time": "2021-07-13T08:59:25.612Z"
   },
   {
    "duration": 848,
    "start_time": "2021-07-13T08:59:25.823Z"
   },
   {
    "duration": 118,
    "start_time": "2021-07-13T08:59:26.673Z"
   },
   {
    "duration": 3,
    "start_time": "2021-07-13T08:59:26.794Z"
   },
   {
    "duration": 351,
    "start_time": "2021-07-13T08:59:26.799Z"
   },
   {
    "duration": 265,
    "start_time": "2021-07-13T08:59:27.152Z"
   },
   {
    "duration": 836,
    "start_time": "2021-07-13T09:04:04.848Z"
   },
   {
    "duration": 46,
    "start_time": "2021-07-13T09:04:07.747Z"
   },
   {
    "duration": 308,
    "start_time": "2021-07-13T09:04:20.485Z"
   },
   {
    "duration": 4,
    "start_time": "2021-07-13T09:04:42.134Z"
   },
   {
    "duration": 48,
    "start_time": "2021-07-13T09:04:42.140Z"
   },
   {
    "duration": 8,
    "start_time": "2021-07-13T09:04:42.190Z"
   },
   {
    "duration": 10,
    "start_time": "2021-07-13T09:04:42.200Z"
   },
   {
    "duration": 4,
    "start_time": "2021-07-13T09:04:42.212Z"
   },
   {
    "duration": 4,
    "start_time": "2021-07-13T09:04:42.218Z"
   },
   {
    "duration": 5,
    "start_time": "2021-07-13T09:04:42.223Z"
   },
   {
    "duration": 8,
    "start_time": "2021-07-13T09:04:42.231Z"
   },
   {
    "duration": 7,
    "start_time": "2021-07-13T09:04:42.241Z"
   },
   {
    "duration": 4,
    "start_time": "2021-07-13T09:04:42.291Z"
   },
   {
    "duration": 5,
    "start_time": "2021-07-13T09:04:42.297Z"
   },
   {
    "duration": 8,
    "start_time": "2021-07-13T09:04:42.304Z"
   },
   {
    "duration": 23,
    "start_time": "2021-07-13T09:04:42.313Z"
   },
   {
    "duration": 5,
    "start_time": "2021-07-13T09:04:42.337Z"
   },
   {
    "duration": 11,
    "start_time": "2021-07-13T09:04:42.343Z"
   },
   {
    "duration": 9,
    "start_time": "2021-07-13T09:04:42.355Z"
   },
   {
    "duration": 10,
    "start_time": "2021-07-13T09:04:42.366Z"
   },
   {
    "duration": 15,
    "start_time": "2021-07-13T09:04:42.378Z"
   },
   {
    "duration": 9,
    "start_time": "2021-07-13T09:04:42.394Z"
   },
   {
    "duration": 53,
    "start_time": "2021-07-13T09:04:42.404Z"
   },
   {
    "duration": 19,
    "start_time": "2021-07-13T09:04:42.459Z"
   },
   {
    "duration": 14,
    "start_time": "2021-07-13T09:04:42.479Z"
   },
   {
    "duration": 13,
    "start_time": "2021-07-13T09:04:42.497Z"
   },
   {
    "duration": 4,
    "start_time": "2021-07-13T09:04:42.512Z"
   },
   {
    "duration": 681,
    "start_time": "2021-07-13T09:04:42.517Z"
   },
   {
    "duration": 99,
    "start_time": "2021-07-13T09:04:43.200Z"
   },
   {
    "duration": 9,
    "start_time": "2021-07-13T09:04:43.300Z"
   },
   {
    "duration": 14,
    "start_time": "2021-07-13T09:04:43.311Z"
   },
   {
    "duration": 875,
    "start_time": "2021-07-13T09:04:43.326Z"
   },
   {
    "duration": 91,
    "start_time": "2021-07-13T09:04:44.203Z"
   },
   {
    "duration": 8,
    "start_time": "2021-07-13T09:04:44.296Z"
   },
   {
    "duration": 31,
    "start_time": "2021-07-13T09:04:44.392Z"
   },
   {
    "duration": 3,
    "start_time": "2021-07-13T09:04:44.425Z"
   },
   {
    "duration": 11,
    "start_time": "2021-07-13T09:04:44.429Z"
   },
   {
    "duration": 615,
    "start_time": "2021-07-13T09:04:44.441Z"
   },
   {
    "duration": 10,
    "start_time": "2021-07-13T09:04:45.058Z"
   },
   {
    "duration": 36,
    "start_time": "2021-07-13T09:04:45.069Z"
   },
   {
    "duration": 90,
    "start_time": "2021-07-13T09:04:45.108Z"
   },
   {
    "duration": 329,
    "start_time": "2021-07-13T09:04:45.200Z"
   },
   {
    "duration": 296,
    "start_time": "2021-07-13T09:04:45.531Z"
   },
   {
    "duration": 7,
    "start_time": "2021-07-13T09:04:45.829Z"
   },
   {
    "duration": 5,
    "start_time": "2021-07-13T09:04:45.838Z"
   },
   {
    "duration": 14,
    "start_time": "2021-07-13T09:04:45.844Z"
   },
   {
    "duration": 117,
    "start_time": "2021-07-13T09:04:45.859Z"
   },
   {
    "duration": 13,
    "start_time": "2021-07-13T09:04:45.978Z"
   },
   {
    "duration": 12,
    "start_time": "2021-07-13T09:04:45.993Z"
   },
   {
    "duration": 105,
    "start_time": "2021-07-13T09:04:46.007Z"
   },
   {
    "duration": 740,
    "start_time": "2021-07-13T09:04:46.114Z"
   },
   {
    "duration": 1102,
    "start_time": "2021-07-13T09:04:46.892Z"
   },
   {
    "duration": 503,
    "start_time": "2021-07-13T09:04:47.997Z"
   },
   {
    "duration": 219,
    "start_time": "2021-07-13T09:04:48.502Z"
   },
   {
    "duration": 856,
    "start_time": "2021-07-13T09:04:48.723Z"
   },
   {
    "duration": 112,
    "start_time": "2021-07-13T09:04:49.581Z"
   },
   {
    "duration": 3,
    "start_time": "2021-07-13T09:04:49.695Z"
   },
   {
    "duration": 873,
    "start_time": "2021-07-13T09:04:49.791Z"
   },
   {
    "duration": 51,
    "start_time": "2021-07-13T09:04:50.666Z"
   },
   {
    "duration": 302,
    "start_time": "2021-07-13T09:04:50.719Z"
   },
   {
    "duration": 2,
    "start_time": "2021-07-13T09:09:17.696Z"
   },
   {
    "duration": 49,
    "start_time": "2021-07-13T09:09:18.424Z"
   },
   {
    "duration": 423,
    "start_time": "2021-07-13T09:09:21.478Z"
   },
   {
    "duration": 4,
    "start_time": "2021-07-13T09:09:25.538Z"
   },
   {
    "duration": 41,
    "start_time": "2021-07-13T09:09:25.544Z"
   },
   {
    "duration": 7,
    "start_time": "2021-07-13T09:09:25.587Z"
   },
   {
    "duration": 13,
    "start_time": "2021-07-13T09:09:25.596Z"
   },
   {
    "duration": 5,
    "start_time": "2021-07-13T09:09:25.610Z"
   },
   {
    "duration": 4,
    "start_time": "2021-07-13T09:09:25.616Z"
   },
   {
    "duration": 5,
    "start_time": "2021-07-13T09:09:25.622Z"
   },
   {
    "duration": 7,
    "start_time": "2021-07-13T09:09:25.629Z"
   },
   {
    "duration": 7,
    "start_time": "2021-07-13T09:09:25.638Z"
   },
   {
    "duration": 44,
    "start_time": "2021-07-13T09:09:25.647Z"
   },
   {
    "duration": 6,
    "start_time": "2021-07-13T09:09:25.693Z"
   },
   {
    "duration": 7,
    "start_time": "2021-07-13T09:09:25.701Z"
   },
   {
    "duration": 21,
    "start_time": "2021-07-13T09:09:25.709Z"
   },
   {
    "duration": 5,
    "start_time": "2021-07-13T09:09:25.732Z"
   },
   {
    "duration": 8,
    "start_time": "2021-07-13T09:09:25.739Z"
   },
   {
    "duration": 11,
    "start_time": "2021-07-13T09:09:25.748Z"
   },
   {
    "duration": 30,
    "start_time": "2021-07-13T09:09:25.761Z"
   },
   {
    "duration": 4,
    "start_time": "2021-07-13T09:09:25.794Z"
   },
   {
    "duration": 9,
    "start_time": "2021-07-13T09:09:25.799Z"
   },
   {
    "duration": 12,
    "start_time": "2021-07-13T09:09:25.810Z"
   },
   {
    "duration": 21,
    "start_time": "2021-07-13T09:09:25.824Z"
   },
   {
    "duration": 16,
    "start_time": "2021-07-13T09:09:25.846Z"
   },
   {
    "duration": 40,
    "start_time": "2021-07-13T09:09:25.866Z"
   },
   {
    "duration": 4,
    "start_time": "2021-07-13T09:09:25.908Z"
   },
   {
    "duration": 778,
    "start_time": "2021-07-13T09:09:25.913Z"
   },
   {
    "duration": 98,
    "start_time": "2021-07-13T09:09:26.694Z"
   },
   {
    "duration": 6,
    "start_time": "2021-07-13T09:09:26.794Z"
   },
   {
    "duration": 6,
    "start_time": "2021-07-13T09:09:26.801Z"
   },
   {
    "duration": 798,
    "start_time": "2021-07-13T09:09:26.809Z"
   },
   {
    "duration": 88,
    "start_time": "2021-07-13T09:09:27.610Z"
   },
   {
    "duration": 100,
    "start_time": "2021-07-13T09:09:27.700Z"
   },
   {
    "duration": 36,
    "start_time": "2021-07-13T09:09:27.802Z"
   },
   {
    "duration": 3,
    "start_time": "2021-07-13T09:09:27.840Z"
   },
   {
    "duration": 17,
    "start_time": "2021-07-13T09:09:27.844Z"
   },
   {
    "duration": 604,
    "start_time": "2021-07-13T09:09:27.862Z"
   },
   {
    "duration": 9,
    "start_time": "2021-07-13T09:09:28.467Z"
   },
   {
    "duration": 33,
    "start_time": "2021-07-13T09:09:28.478Z"
   },
   {
    "duration": 88,
    "start_time": "2021-07-13T09:09:28.513Z"
   },
   {
    "duration": 238,
    "start_time": "2021-07-13T09:09:28.696Z"
   },
   {
    "duration": 339,
    "start_time": "2021-07-13T09:09:28.936Z"
   },
   {
    "duration": 14,
    "start_time": "2021-07-13T09:09:29.277Z"
   },
   {
    "duration": 4,
    "start_time": "2021-07-13T09:09:29.292Z"
   },
   {
    "duration": 14,
    "start_time": "2021-07-13T09:09:29.298Z"
   },
   {
    "duration": 108,
    "start_time": "2021-07-13T09:09:29.314Z"
   },
   {
    "duration": 4,
    "start_time": "2021-07-13T09:09:29.424Z"
   },
   {
    "duration": 15,
    "start_time": "2021-07-13T09:09:29.429Z"
   },
   {
    "duration": 112,
    "start_time": "2021-07-13T09:09:29.445Z"
   },
   {
    "duration": 642,
    "start_time": "2021-07-13T09:09:29.559Z"
   },
   {
    "duration": 1090,
    "start_time": "2021-07-13T09:09:30.203Z"
   },
   {
    "duration": 510,
    "start_time": "2021-07-13T09:09:31.295Z"
   },
   {
    "duration": 214,
    "start_time": "2021-07-13T09:09:31.808Z"
   },
   {
    "duration": 867,
    "start_time": "2021-07-13T09:09:32.024Z"
   },
   {
    "duration": 108,
    "start_time": "2021-07-13T09:09:32.893Z"
   },
   {
    "duration": 2,
    "start_time": "2021-07-13T09:09:33.092Z"
   },
   {
    "duration": 12,
    "start_time": "2021-07-13T09:09:33.096Z"
   },
   {
    "duration": 55,
    "start_time": "2021-07-13T09:09:33.109Z"
   },
   {
    "duration": 300,
    "start_time": "2021-07-13T09:09:33.166Z"
   },
   {
    "duration": 1094,
    "start_time": "2021-07-13T09:09:46.424Z"
   },
   {
    "duration": 38,
    "start_time": "2021-07-13T09:09:47.520Z"
   },
   {
    "duration": 8,
    "start_time": "2021-07-13T09:09:47.562Z"
   },
   {
    "duration": 11,
    "start_time": "2021-07-13T09:09:47.571Z"
   },
   {
    "duration": 6,
    "start_time": "2021-07-13T09:09:47.591Z"
   },
   {
    "duration": 4,
    "start_time": "2021-07-13T09:09:47.598Z"
   },
   {
    "duration": 5,
    "start_time": "2021-07-13T09:09:47.604Z"
   },
   {
    "duration": 9,
    "start_time": "2021-07-13T09:09:47.610Z"
   },
   {
    "duration": 8,
    "start_time": "2021-07-13T09:09:47.620Z"
   },
   {
    "duration": 6,
    "start_time": "2021-07-13T09:09:47.630Z"
   },
   {
    "duration": 14,
    "start_time": "2021-07-13T09:09:47.637Z"
   },
   {
    "duration": 5,
    "start_time": "2021-07-13T09:09:47.652Z"
   },
   {
    "duration": 46,
    "start_time": "2021-07-13T09:09:47.658Z"
   },
   {
    "duration": 4,
    "start_time": "2021-07-13T09:09:47.706Z"
   },
   {
    "duration": 7,
    "start_time": "2021-07-13T09:09:47.711Z"
   },
   {
    "duration": 12,
    "start_time": "2021-07-13T09:09:47.719Z"
   },
   {
    "duration": 13,
    "start_time": "2021-07-13T09:09:47.732Z"
   },
   {
    "duration": 8,
    "start_time": "2021-07-13T09:09:47.747Z"
   },
   {
    "duration": 8,
    "start_time": "2021-07-13T09:09:47.756Z"
   },
   {
    "duration": 14,
    "start_time": "2021-07-13T09:09:47.765Z"
   },
   {
    "duration": 22,
    "start_time": "2021-07-13T09:09:47.781Z"
   },
   {
    "duration": 14,
    "start_time": "2021-07-13T09:09:47.806Z"
   },
   {
    "duration": 14,
    "start_time": "2021-07-13T09:09:47.822Z"
   },
   {
    "duration": 3,
    "start_time": "2021-07-13T09:09:47.837Z"
   },
   {
    "duration": 666,
    "start_time": "2021-07-13T09:09:47.842Z"
   },
   {
    "duration": 91,
    "start_time": "2021-07-13T09:09:48.510Z"
   },
   {
    "duration": 8,
    "start_time": "2021-07-13T09:09:48.692Z"
   },
   {
    "duration": 6,
    "start_time": "2021-07-13T09:09:48.701Z"
   },
   {
    "duration": 684,
    "start_time": "2021-07-13T09:09:48.709Z"
   },
   {
    "duration": 96,
    "start_time": "2021-07-13T09:09:49.396Z"
   },
   {
    "duration": 5,
    "start_time": "2021-07-13T09:09:49.494Z"
   },
   {
    "duration": 38,
    "start_time": "2021-07-13T09:09:49.500Z"
   },
   {
    "duration": 3,
    "start_time": "2021-07-13T09:09:49.539Z"
   },
   {
    "duration": 13,
    "start_time": "2021-07-13T09:09:49.544Z"
   },
   {
    "duration": 616,
    "start_time": "2021-07-13T09:09:49.559Z"
   },
   {
    "duration": 19,
    "start_time": "2021-07-13T09:09:50.178Z"
   },
   {
    "duration": 96,
    "start_time": "2021-07-13T09:09:50.198Z"
   },
   {
    "duration": 103,
    "start_time": "2021-07-13T09:09:50.296Z"
   },
   {
    "duration": 281,
    "start_time": "2021-07-13T09:09:50.401Z"
   },
   {
    "duration": 351,
    "start_time": "2021-07-13T09:09:50.684Z"
   },
   {
    "duration": 6,
    "start_time": "2021-07-13T09:09:51.037Z"
   },
   {
    "duration": 8,
    "start_time": "2021-07-13T09:09:51.044Z"
   },
   {
    "duration": 20,
    "start_time": "2021-07-13T09:09:51.054Z"
   },
   {
    "duration": 99,
    "start_time": "2021-07-13T09:09:51.076Z"
   },
   {
    "duration": 4,
    "start_time": "2021-07-13T09:09:51.176Z"
   },
   {
    "duration": 20,
    "start_time": "2021-07-13T09:09:51.191Z"
   },
   {
    "duration": 98,
    "start_time": "2021-07-13T09:09:51.212Z"
   },
   {
    "duration": 640,
    "start_time": "2021-07-13T09:09:51.312Z"
   },
   {
    "duration": 1039,
    "start_time": "2021-07-13T09:09:51.954Z"
   },
   {
    "duration": 499,
    "start_time": "2021-07-13T09:09:52.995Z"
   },
   {
    "duration": 227,
    "start_time": "2021-07-13T09:09:53.496Z"
   },
   {
    "duration": 919,
    "start_time": "2021-07-13T09:09:53.724Z"
   },
   {
    "duration": 153,
    "start_time": "2021-07-13T09:09:54.645Z"
   },
   {
    "duration": 3,
    "start_time": "2021-07-13T09:09:54.800Z"
   },
   {
    "duration": 87,
    "start_time": "2021-07-13T09:09:54.805Z"
   },
   {
    "duration": 397,
    "start_time": "2021-07-13T09:09:54.894Z"
   },
   {
    "duration": -19,
    "start_time": "2021-07-13T09:09:55.312Z"
   },
   {
    "duration": 838,
    "start_time": "2021-07-13T09:12:23.495Z"
   },
   {
    "duration": 47,
    "start_time": "2021-07-13T09:14:28.199Z"
   },
   {
    "duration": 286,
    "start_time": "2021-07-13T09:14:37.258Z"
   },
   {
    "duration": 825,
    "start_time": "2021-07-13T09:38:19.966Z"
   },
   {
    "duration": 47,
    "start_time": "2021-07-13T09:38:21.497Z"
   },
   {
    "duration": 274,
    "start_time": "2021-07-13T09:38:24.034Z"
   },
   {
    "duration": 1025,
    "start_time": "2021-07-13T09:39:43.940Z"
   },
   {
    "duration": 39,
    "start_time": "2021-07-13T09:39:44.967Z"
   },
   {
    "duration": 8,
    "start_time": "2021-07-13T09:39:45.010Z"
   },
   {
    "duration": 15,
    "start_time": "2021-07-13T09:39:45.020Z"
   },
   {
    "duration": 5,
    "start_time": "2021-07-13T09:39:45.037Z"
   },
   {
    "duration": 7,
    "start_time": "2021-07-13T09:39:45.043Z"
   },
   {
    "duration": 5,
    "start_time": "2021-07-13T09:39:45.052Z"
   },
   {
    "duration": 7,
    "start_time": "2021-07-13T09:39:45.059Z"
   },
   {
    "duration": 26,
    "start_time": "2021-07-13T09:39:45.067Z"
   },
   {
    "duration": 4,
    "start_time": "2021-07-13T09:39:45.094Z"
   },
   {
    "duration": 9,
    "start_time": "2021-07-13T09:39:45.099Z"
   },
   {
    "duration": 7,
    "start_time": "2021-07-13T09:39:45.109Z"
   },
   {
    "duration": 23,
    "start_time": "2021-07-13T09:39:45.118Z"
   },
   {
    "duration": 4,
    "start_time": "2021-07-13T09:39:45.143Z"
   },
   {
    "duration": 8,
    "start_time": "2021-07-13T09:39:45.149Z"
   },
   {
    "duration": 12,
    "start_time": "2021-07-13T09:39:45.158Z"
   },
   {
    "duration": 24,
    "start_time": "2021-07-13T09:39:45.171Z"
   },
   {
    "duration": 9,
    "start_time": "2021-07-13T09:39:45.197Z"
   },
   {
    "duration": 6,
    "start_time": "2021-07-13T09:39:45.208Z"
   },
   {
    "duration": 13,
    "start_time": "2021-07-13T09:39:45.215Z"
   },
   {
    "duration": 22,
    "start_time": "2021-07-13T09:39:45.230Z"
   },
   {
    "duration": 14,
    "start_time": "2021-07-13T09:39:45.256Z"
   },
   {
    "duration": 28,
    "start_time": "2021-07-13T09:39:45.271Z"
   },
   {
    "duration": 3,
    "start_time": "2021-07-13T09:39:45.301Z"
   },
   {
    "duration": 684,
    "start_time": "2021-07-13T09:39:45.306Z"
   },
   {
    "duration": 8,
    "start_time": "2021-07-13T09:39:45.992Z"
   },
   {
    "duration": 6,
    "start_time": "2021-07-13T09:39:46.092Z"
   },
   {
    "duration": 4,
    "start_time": "2021-07-13T09:39:46.100Z"
   },
   {
    "duration": 787,
    "start_time": "2021-07-13T09:39:46.105Z"
   },
   {
    "duration": 96,
    "start_time": "2021-07-13T09:39:46.895Z"
   },
   {
    "duration": 7,
    "start_time": "2021-07-13T09:39:46.993Z"
   },
   {
    "duration": 33,
    "start_time": "2021-07-13T09:39:47.002Z"
   },
   {
    "duration": 3,
    "start_time": "2021-07-13T09:39:47.037Z"
   },
   {
    "duration": 12,
    "start_time": "2021-07-13T09:39:47.042Z"
   },
   {
    "duration": 622,
    "start_time": "2021-07-13T09:39:47.056Z"
   },
   {
    "duration": 16,
    "start_time": "2021-07-13T09:39:47.680Z"
   },
   {
    "duration": 20,
    "start_time": "2021-07-13T09:39:47.698Z"
   },
   {
    "duration": 103,
    "start_time": "2021-07-13T09:39:47.792Z"
   },
   {
    "duration": 239,
    "start_time": "2021-07-13T09:39:47.901Z"
   },
   {
    "duration": 366,
    "start_time": "2021-07-13T09:39:48.141Z"
   },
   {
    "duration": 7,
    "start_time": "2021-07-13T09:39:48.509Z"
   },
   {
    "duration": 5,
    "start_time": "2021-07-13T09:39:48.517Z"
   },
   {
    "duration": 14,
    "start_time": "2021-07-13T09:39:48.524Z"
   },
   {
    "duration": 117,
    "start_time": "2021-07-13T09:39:48.539Z"
   },
   {
    "duration": 5,
    "start_time": "2021-07-13T09:39:48.657Z"
   },
   {
    "duration": 14,
    "start_time": "2021-07-13T09:39:48.663Z"
   },
   {
    "duration": 101,
    "start_time": "2021-07-13T09:39:48.690Z"
   },
   {
    "duration": 632,
    "start_time": "2021-07-13T09:39:48.793Z"
   },
   {
    "duration": 1001,
    "start_time": "2021-07-13T09:39:49.492Z"
   },
   {
    "duration": 417,
    "start_time": "2021-07-13T09:39:50.495Z"
   },
   {
    "duration": 205,
    "start_time": "2021-07-13T09:39:50.915Z"
   },
   {
    "duration": 849,
    "start_time": "2021-07-13T09:39:51.121Z"
   },
   {
    "duration": 121,
    "start_time": "2021-07-13T09:39:51.971Z"
   },
   {
    "duration": 2,
    "start_time": "2021-07-13T09:39:52.094Z"
   },
   {
    "duration": 1267,
    "start_time": "2021-07-13T09:39:52.098Z"
   },
   {
    "duration": 54,
    "start_time": "2021-07-13T09:39:53.367Z"
   },
   {
    "duration": 293,
    "start_time": "2021-07-13T09:39:53.422Z"
   },
   {
    "duration": 1500,
    "start_time": "2021-07-13T09:50:15.524Z"
   },
   {
    "duration": 61,
    "start_time": "2021-07-13T09:50:17.027Z"
   },
   {
    "duration": 14,
    "start_time": "2021-07-13T09:50:17.092Z"
   },
   {
    "duration": 19,
    "start_time": "2021-07-13T09:50:17.109Z"
   },
   {
    "duration": 40,
    "start_time": "2021-07-13T09:50:17.131Z"
   },
   {
    "duration": 7,
    "start_time": "2021-07-13T09:50:17.175Z"
   },
   {
    "duration": 7,
    "start_time": "2021-07-13T09:50:17.185Z"
   },
   {
    "duration": 11,
    "start_time": "2021-07-13T09:50:17.195Z"
   },
   {
    "duration": 8,
    "start_time": "2021-07-13T09:50:17.209Z"
   },
   {
    "duration": 48,
    "start_time": "2021-07-13T09:50:17.219Z"
   },
   {
    "duration": 11,
    "start_time": "2021-07-13T09:50:17.270Z"
   },
   {
    "duration": 7,
    "start_time": "2021-07-13T09:50:17.283Z"
   },
   {
    "duration": 34,
    "start_time": "2021-07-13T09:50:17.292Z"
   },
   {
    "duration": 40,
    "start_time": "2021-07-13T09:50:17.329Z"
   },
   {
    "duration": 9,
    "start_time": "2021-07-13T09:50:17.371Z"
   },
   {
    "duration": 5,
    "start_time": "2021-07-13T09:50:17.382Z"
   },
   {
    "duration": 15,
    "start_time": "2021-07-13T09:50:17.389Z"
   },
   {
    "duration": 7,
    "start_time": "2021-07-13T09:50:17.406Z"
   },
   {
    "duration": 5,
    "start_time": "2021-07-13T09:50:17.415Z"
   },
   {
    "duration": 50,
    "start_time": "2021-07-13T09:50:17.422Z"
   },
   {
    "duration": 33,
    "start_time": "2021-07-13T09:50:17.474Z"
   },
   {
    "duration": 24,
    "start_time": "2021-07-13T09:50:17.509Z"
   },
   {
    "duration": 26,
    "start_time": "2021-07-13T09:50:17.567Z"
   },
   {
    "duration": 5,
    "start_time": "2021-07-13T09:50:17.596Z"
   },
   {
    "duration": 1170,
    "start_time": "2021-07-13T09:50:17.604Z"
   },
   {
    "duration": 97,
    "start_time": "2021-07-13T09:50:18.777Z"
   },
   {
    "duration": 11,
    "start_time": "2021-07-13T09:50:18.876Z"
   },
   {
    "duration": 7,
    "start_time": "2021-07-13T09:50:18.890Z"
   },
   {
    "duration": 1275,
    "start_time": "2021-07-13T09:50:18.899Z"
   },
   {
    "duration": 190,
    "start_time": "2021-07-13T09:50:20.178Z"
   },
   {
    "duration": 6,
    "start_time": "2021-07-13T09:50:20.371Z"
   },
   {
    "duration": 51,
    "start_time": "2021-07-13T09:50:20.380Z"
   },
   {
    "duration": 4,
    "start_time": "2021-07-13T09:50:20.434Z"
   },
   {
    "duration": 15,
    "start_time": "2021-07-13T09:50:20.468Z"
   },
   {
    "duration": 1050,
    "start_time": "2021-07-13T09:50:20.486Z"
   },
   {
    "duration": 29,
    "start_time": "2021-07-13T09:50:21.538Z"
   },
   {
    "duration": 100,
    "start_time": "2021-07-13T09:50:21.570Z"
   },
   {
    "duration": 104,
    "start_time": "2021-07-13T09:50:21.674Z"
   },
   {
    "duration": 378,
    "start_time": "2021-07-13T09:50:21.869Z"
   },
   {
    "duration": 488,
    "start_time": "2021-07-13T09:50:22.249Z"
   },
   {
    "duration": 9,
    "start_time": "2021-07-13T09:50:22.740Z"
   },
   {
    "duration": 5,
    "start_time": "2021-07-13T09:50:22.767Z"
   },
   {
    "duration": 23,
    "start_time": "2021-07-13T09:50:22.775Z"
   },
   {
    "duration": 204,
    "start_time": "2021-07-13T09:50:22.800Z"
   },
   {
    "duration": 6,
    "start_time": "2021-07-13T09:50:23.006Z"
   },
   {
    "duration": 19,
    "start_time": "2021-07-13T09:50:23.015Z"
   },
   {
    "duration": 202,
    "start_time": "2021-07-13T09:50:23.036Z"
   },
   {
    "duration": 1230,
    "start_time": "2021-07-13T09:50:23.240Z"
   },
   {
    "duration": 1604,
    "start_time": "2021-07-13T09:50:24.472Z"
   },
   {
    "duration": 628,
    "start_time": "2021-07-13T09:50:26.169Z"
   },
   {
    "duration": 161,
    "start_time": "2021-07-13T09:50:26.870Z"
   },
   {
    "duration": 1499,
    "start_time": "2021-07-13T09:50:27.034Z"
   },
   {
    "duration": 57,
    "start_time": "2021-07-13T09:50:28.535Z"
   },
   {
    "duration": 1032,
    "start_time": "2021-07-13T14:20:35.879Z"
   },
   {
    "duration": 37,
    "start_time": "2021-07-13T14:20:36.913Z"
   },
   {
    "duration": 6,
    "start_time": "2021-07-13T14:20:36.952Z"
   },
   {
    "duration": 9,
    "start_time": "2021-07-13T14:20:36.960Z"
   },
   {
    "duration": 4,
    "start_time": "2021-07-13T14:20:36.971Z"
   },
   {
    "duration": 16,
    "start_time": "2021-07-13T14:20:36.976Z"
   },
   {
    "duration": 4,
    "start_time": "2021-07-13T14:20:36.993Z"
   },
   {
    "duration": 7,
    "start_time": "2021-07-13T14:20:36.998Z"
   },
   {
    "duration": 4,
    "start_time": "2021-07-13T14:20:37.007Z"
   },
   {
    "duration": 4,
    "start_time": "2021-07-13T14:20:37.012Z"
   },
   {
    "duration": 11,
    "start_time": "2021-07-13T14:20:37.017Z"
   },
   {
    "duration": 4,
    "start_time": "2021-07-13T14:20:37.029Z"
   },
   {
    "duration": 23,
    "start_time": "2021-07-13T14:20:37.034Z"
   },
   {
    "duration": 4,
    "start_time": "2021-07-13T14:20:37.058Z"
   },
   {
    "duration": 32,
    "start_time": "2021-07-13T14:20:37.063Z"
   },
   {
    "duration": 4,
    "start_time": "2021-07-13T14:20:37.096Z"
   },
   {
    "duration": 8,
    "start_time": "2021-07-13T14:20:37.101Z"
   },
   {
    "duration": 10,
    "start_time": "2021-07-13T14:20:37.110Z"
   },
   {
    "duration": 7,
    "start_time": "2021-07-13T14:20:37.122Z"
   },
   {
    "duration": 18,
    "start_time": "2021-07-13T14:20:37.130Z"
   },
   {
    "duration": 21,
    "start_time": "2021-07-13T14:20:37.149Z"
   },
   {
    "duration": 21,
    "start_time": "2021-07-13T14:20:37.171Z"
   },
   {
    "duration": 12,
    "start_time": "2021-07-13T14:20:37.194Z"
   },
   {
    "duration": 3,
    "start_time": "2021-07-13T14:20:37.208Z"
   },
   {
    "duration": 681,
    "start_time": "2021-07-13T14:20:37.212Z"
   },
   {
    "duration": 97,
    "start_time": "2021-07-13T14:20:37.895Z"
   },
   {
    "duration": 5,
    "start_time": "2021-07-13T14:20:37.996Z"
   },
   {
    "duration": 4,
    "start_time": "2021-07-13T14:20:38.003Z"
   },
   {
    "duration": 684,
    "start_time": "2021-07-13T14:20:38.008Z"
   },
   {
    "duration": 6,
    "start_time": "2021-07-13T14:20:38.694Z"
   },
   {
    "duration": 96,
    "start_time": "2021-07-13T14:20:38.701Z"
   },
   {
    "duration": 31,
    "start_time": "2021-07-13T14:20:38.798Z"
   },
   {
    "duration": 2,
    "start_time": "2021-07-13T14:20:38.831Z"
   },
   {
    "duration": 11,
    "start_time": "2021-07-13T14:20:38.835Z"
   },
   {
    "duration": 626,
    "start_time": "2021-07-13T14:20:38.847Z"
   },
   {
    "duration": 17,
    "start_time": "2021-07-13T14:20:39.474Z"
   },
   {
    "duration": 23,
    "start_time": "2021-07-13T14:20:39.492Z"
   },
   {
    "duration": 176,
    "start_time": "2021-07-13T14:20:39.517Z"
   },
   {
    "duration": 240,
    "start_time": "2021-07-13T14:20:39.695Z"
   },
   {
    "duration": 321,
    "start_time": "2021-07-13T14:20:39.937Z"
   },
   {
    "duration": 6,
    "start_time": "2021-07-13T14:20:40.259Z"
   },
   {
    "duration": 4,
    "start_time": "2021-07-13T14:20:40.266Z"
   },
   {
    "duration": 26,
    "start_time": "2021-07-13T14:20:40.271Z"
   },
   {
    "duration": 103,
    "start_time": "2021-07-13T14:20:40.299Z"
   },
   {
    "duration": 3,
    "start_time": "2021-07-13T14:20:40.404Z"
   },
   {
    "duration": 13,
    "start_time": "2021-07-13T14:20:40.409Z"
   },
   {
    "duration": 104,
    "start_time": "2021-07-13T14:20:40.424Z"
   },
   {
    "duration": 664,
    "start_time": "2021-07-13T14:20:40.529Z"
   },
   {
    "duration": 1055,
    "start_time": "2021-07-13T14:20:41.195Z"
   },
   {
    "duration": 410,
    "start_time": "2021-07-13T14:20:42.293Z"
   },
   {
    "duration": 212,
    "start_time": "2021-07-13T14:20:42.707Z"
   },
   {
    "duration": 838,
    "start_time": "2021-07-13T14:20:42.921Z"
   },
   {
    "duration": 42,
    "start_time": "2021-07-13T14:20:43.760Z"
   },
   {
    "duration": 387894,
    "start_time": "2021-07-13T14:20:43.804Z"
   },
   {
    "duration": 836,
    "start_time": "2021-07-13T14:27:11.699Z"
   },
   {
    "duration": 56,
    "start_time": "2021-07-13T14:27:12.537Z"
   },
   {
    "duration": 307,
    "start_time": "2021-07-13T14:27:12.594Z"
   },
   {
    "duration": 312,
    "start_time": "2021-07-13T18:38:14.623Z"
   },
   {
    "duration": 1474,
    "start_time": "2021-07-13T18:38:25.041Z"
   },
   {
    "duration": 57,
    "start_time": "2021-07-13T18:38:26.518Z"
   },
   {
    "duration": 12,
    "start_time": "2021-07-13T18:38:26.578Z"
   },
   {
    "duration": 18,
    "start_time": "2021-07-13T18:38:26.593Z"
   },
   {
    "duration": 7,
    "start_time": "2021-07-13T18:38:26.614Z"
   },
   {
    "duration": 35,
    "start_time": "2021-07-13T18:38:26.624Z"
   },
   {
    "duration": 8,
    "start_time": "2021-07-13T18:38:26.662Z"
   },
   {
    "duration": 11,
    "start_time": "2021-07-13T18:38:26.674Z"
   },
   {
    "duration": 11,
    "start_time": "2021-07-13T18:38:26.688Z"
   },
   {
    "duration": 9,
    "start_time": "2021-07-13T18:38:26.701Z"
   },
   {
    "duration": 44,
    "start_time": "2021-07-13T18:38:26.712Z"
   },
   {
    "duration": 7,
    "start_time": "2021-07-13T18:38:26.758Z"
   },
   {
    "duration": 37,
    "start_time": "2021-07-13T18:38:26.767Z"
   },
   {
    "duration": 7,
    "start_time": "2021-07-13T18:38:26.806Z"
   },
   {
    "duration": 44,
    "start_time": "2021-07-13T18:38:26.815Z"
   },
   {
    "duration": 6,
    "start_time": "2021-07-13T18:38:26.861Z"
   },
   {
    "duration": 8,
    "start_time": "2021-07-13T18:38:26.869Z"
   },
   {
    "duration": 9,
    "start_time": "2021-07-13T18:38:26.879Z"
   },
   {
    "duration": 7,
    "start_time": "2021-07-13T18:38:26.890Z"
   },
   {
    "duration": 14,
    "start_time": "2021-07-13T18:38:26.900Z"
   },
   {
    "duration": 32,
    "start_time": "2021-07-13T18:38:26.956Z"
   },
   {
    "duration": 26,
    "start_time": "2021-07-13T18:38:26.991Z"
   },
   {
    "duration": 27,
    "start_time": "2021-07-13T18:38:27.055Z"
   },
   {
    "duration": 6,
    "start_time": "2021-07-13T18:38:27.085Z"
   },
   {
    "duration": 1071,
    "start_time": "2021-07-13T18:38:27.094Z"
   },
   {
    "duration": 101,
    "start_time": "2021-07-13T18:38:28.256Z"
   },
   {
    "duration": 10,
    "start_time": "2021-07-13T18:38:28.360Z"
   },
   {
    "duration": 13,
    "start_time": "2021-07-13T18:38:28.372Z"
   },
   {
    "duration": 1076,
    "start_time": "2021-07-13T18:38:28.387Z"
   },
   {
    "duration": 7,
    "start_time": "2021-07-13T18:38:29.554Z"
   },
   {
    "duration": 10,
    "start_time": "2021-07-13T18:38:29.564Z"
   },
   {
    "duration": 88,
    "start_time": "2021-07-13T18:38:29.577Z"
   },
   {
    "duration": 6,
    "start_time": "2021-07-13T18:38:29.668Z"
   },
   {
    "duration": 17,
    "start_time": "2021-07-13T18:38:29.677Z"
   },
   {
    "duration": 1024,
    "start_time": "2021-07-13T18:38:29.698Z"
   },
   {
    "duration": 34,
    "start_time": "2021-07-13T18:38:30.725Z"
   },
   {
    "duration": 94,
    "start_time": "2021-07-13T18:38:30.762Z"
   },
   {
    "duration": 103,
    "start_time": "2021-07-13T18:38:30.859Z"
   },
   {
    "duration": 270,
    "start_time": "2021-07-13T18:38:31.054Z"
   },
   {
    "duration": 479,
    "start_time": "2021-07-13T18:38:31.327Z"
   },
   {
    "duration": 9,
    "start_time": "2021-07-13T18:38:31.809Z"
   },
   {
    "duration": 8,
    "start_time": "2021-07-13T18:38:31.821Z"
   },
   {
    "duration": 41,
    "start_time": "2021-07-13T18:38:31.831Z"
   },
   {
    "duration": 195,
    "start_time": "2021-07-13T18:38:31.874Z"
   },
   {
    "duration": 6,
    "start_time": "2021-07-13T18:38:32.071Z"
   },
   {
    "duration": 19,
    "start_time": "2021-07-13T18:38:32.079Z"
   },
   {
    "duration": 194,
    "start_time": "2021-07-13T18:38:32.100Z"
   },
   {
    "duration": 1069,
    "start_time": "2021-07-13T18:38:32.296Z"
   },
   {
    "duration": 1598,
    "start_time": "2021-07-13T18:38:33.457Z"
   },
   {
    "duration": 609,
    "start_time": "2021-07-13T18:38:35.059Z"
   },
   {
    "duration": 157,
    "start_time": "2021-07-13T18:38:35.763Z"
   },
   {
    "duration": 1535,
    "start_time": "2021-07-13T18:38:35.922Z"
   },
   {
    "duration": 195,
    "start_time": "2021-07-13T18:38:37.460Z"
   },
   {
    "duration": 643163,
    "start_time": "2021-07-13T18:38:37.658Z"
   },
   {
    "duration": 1491,
    "start_time": "2021-07-13T18:49:20.824Z"
   },
   {
    "duration": 89,
    "start_time": "2021-07-13T18:49:22.317Z"
   },
   {
    "duration": 384,
    "start_time": "2021-07-13T18:49:22.408Z"
   },
   {
    "duration": 363,
    "start_time": "2021-07-13T18:56:20.664Z"
   },
   {
    "duration": 5,
    "start_time": "2021-07-13T18:56:25.342Z"
   },
   {
    "duration": 90,
    "start_time": "2021-07-13T18:58:02.363Z"
   }
  ],
  "kernelspec": {
   "display_name": "Python 3 (ipykernel)",
   "language": "python",
   "name": "python3"
  },
  "language_info": {
   "codemirror_mode": {
    "name": "ipython",
    "version": 3
   },
   "file_extension": ".py",
   "mimetype": "text/x-python",
   "name": "python",
   "nbconvert_exporter": "python",
   "pygments_lexer": "ipython3",
   "version": "3.9.7"
  },
  "toc": {
   "base_numbering": 1,
   "nav_menu": {},
   "number_sections": false,
   "sideBar": false,
   "skip_h1_title": true,
   "title_cell": "Содержание",
   "title_sidebar": "Contents",
   "toc_cell": false,
   "toc_position": {},
   "toc_section_display": false,
   "toc_window_display": false
  }
 },
 "nbformat": 4,
 "nbformat_minor": 2
}
