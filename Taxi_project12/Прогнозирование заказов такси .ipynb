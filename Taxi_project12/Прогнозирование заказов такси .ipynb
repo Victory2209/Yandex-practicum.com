{
 "cells": [
  {
   "cell_type": "markdown",
   "metadata": {},
   "source": [
    "#  Прогнозирование заказов такси"
   ]
  },
  {
   "cell_type": "markdown",
   "metadata": {},
   "source": [
    "Компания «Чётенькое такси» собрала исторические данные о заказах такси в аэропортах. Чтобы привлекать больше водителей в период пиковой нагрузки, нужно спрогнозировать количество заказов такси на следующий час. Необходимо построить модель для такого предсказания.\n",
    "\n",
    "Значение метрики *RMSE* на тестовой выборке должно быть не больше 48."
   ]
  },
  {
   "cell_type": "markdown",
   "metadata": {},
   "source": [
    "## Подготовка"
   ]
  },
  {
   "cell_type": "code",
   "execution_count": 1,
   "metadata": {},
   "outputs": [],
   "source": [
    "import pandas as pd\n",
    "import numpy as np \n",
    "from sklearn.model_selection import train_test_split, GridSearchCV, TimeSeriesSplit\n",
    "from sklearn.linear_model import LinearRegression\n",
    "from sklearn.metrics import mean_squared_error as mse\n",
    "from catboost import CatBoostRegressor, Pool\n",
    "import lightgbm as lgb\n",
    "import matplotlib.pyplot as plt\n",
    "from statsmodels.tsa.seasonal import seasonal_decompose\n",
    "import time"
   ]
  },
  {
   "cell_type": "code",
   "execution_count": 2,
   "metadata": {},
   "outputs": [
    {
     "data": {
      "text/html": [
       "<div>\n",
       "<style scoped>\n",
       "    .dataframe tbody tr th:only-of-type {\n",
       "        vertical-align: middle;\n",
       "    }\n",
       "\n",
       "    .dataframe tbody tr th {\n",
       "        vertical-align: top;\n",
       "    }\n",
       "\n",
       "    .dataframe thead th {\n",
       "        text-align: right;\n",
       "    }\n",
       "</style>\n",
       "<table border=\"1\" class=\"dataframe\">\n",
       "  <thead>\n",
       "    <tr style=\"text-align: right;\">\n",
       "      <th></th>\n",
       "      <th>num_orders</th>\n",
       "    </tr>\n",
       "    <tr>\n",
       "      <th>datetime</th>\n",
       "      <th></th>\n",
       "    </tr>\n",
       "  </thead>\n",
       "  <tbody>\n",
       "    <tr>\n",
       "      <td>2018-03-01 00:00:00</td>\n",
       "      <td>9</td>\n",
       "    </tr>\n",
       "    <tr>\n",
       "      <td>2018-03-01 00:10:00</td>\n",
       "      <td>14</td>\n",
       "    </tr>\n",
       "    <tr>\n",
       "      <td>2018-03-01 00:20:00</td>\n",
       "      <td>28</td>\n",
       "    </tr>\n",
       "    <tr>\n",
       "      <td>2018-03-01 00:30:00</td>\n",
       "      <td>20</td>\n",
       "    </tr>\n",
       "    <tr>\n",
       "      <td>2018-03-01 00:40:00</td>\n",
       "      <td>32</td>\n",
       "    </tr>\n",
       "  </tbody>\n",
       "</table>\n",
       "</div>"
      ],
      "text/plain": [
       "                     num_orders\n",
       "datetime                       \n",
       "2018-03-01 00:00:00           9\n",
       "2018-03-01 00:10:00          14\n",
       "2018-03-01 00:20:00          28\n",
       "2018-03-01 00:30:00          20\n",
       "2018-03-01 00:40:00          32"
      ]
     },
     "execution_count": 2,
     "metadata": {},
     "output_type": "execute_result"
    }
   ],
   "source": [
    "df = pd.read_csv(\"/datasets/taxi.csv\",parse_dates =[0],index_col= 0)\n",
    "df.head()"
   ]
  },
  {
   "cell_type": "code",
   "execution_count": 3,
   "metadata": {},
   "outputs": [
    {
     "name": "stdout",
     "output_type": "stream",
     "text": [
      "<class 'pandas.core.frame.DataFrame'>\n",
      "DatetimeIndex: 26496 entries, 2018-03-01 00:00:00 to 2018-08-31 23:50:00\n",
      "Data columns (total 1 columns):\n",
      "num_orders    26496 non-null int64\n",
      "dtypes: int64(1)\n",
      "memory usage: 414.0 KB\n"
     ]
    }
   ],
   "source": [
    "df.info()"
   ]
  },
  {
   "cell_type": "code",
   "execution_count": 4,
   "metadata": {},
   "outputs": [],
   "source": [
    "df = df.sort_index()"
   ]
  },
  {
   "cell_type": "code",
   "execution_count": 5,
   "metadata": {},
   "outputs": [
    {
     "data": {
      "text/plain": [
       "True"
      ]
     },
     "execution_count": 5,
     "metadata": {},
     "output_type": "execute_result"
    }
   ],
   "source": [
    "df.index.is_monotonic"
   ]
  },
  {
   "cell_type": "code",
   "execution_count": 6,
   "metadata": {},
   "outputs": [],
   "source": [
    "df = df.resample(\"1H\").sum()"
   ]
  },
  {
   "cell_type": "code",
   "execution_count": 7,
   "metadata": {},
   "outputs": [],
   "source": [
    "df_new = df.copy()\n",
    "final_df = df.copy()"
   ]
  },
  {
   "cell_type": "markdown",
   "metadata": {},
   "source": [
    "#### Выводы \n",
    "\n",
    "Заметив, что наши данные с периодичностью 10 минут, мы их ресемплировали.   \n",
    "Cоздали 2 переменные для анализа и для создания корректных признаков данных."
   ]
  },
  {
   "cell_type": "markdown",
   "metadata": {},
   "source": [
    "## Анализ"
   ]
  },
  {
   "cell_type": "markdown",
   "metadata": {},
   "source": [
    "Найдем скользящее стандартное отклонение — стандартное отклонение по скользящему окну, и посмотрим на стационарность ряда."
   ]
  },
  {
   "cell_type": "code",
   "execution_count": 8,
   "metadata": {},
   "outputs": [],
   "source": [
    "df[\"rolling_mean\"] = df[\"num_orders\"].rolling(20).mean()\n",
    "df[\"rolling_std\"] = df[\"num_orders\"].rolling(20).std()"
   ]
  },
  {
   "cell_type": "code",
   "execution_count": 14,
   "metadata": {},
   "outputs": [
    {
     "data": {
      "text/plain": [
       "<matplotlib.axes._subplots.AxesSubplot at 0x7f390bb35d90>"
      ]
     },
     "execution_count": 14,
     "metadata": {},
     "output_type": "execute_result"
    },
    {
     "data": {
      "image/png": "[encoded data removed]",
      "text/plain": [
       "<Figure size 432x288 with 1 Axes>"
      ]
     },
     "metadata": {
      "needs_background": "light"
     },
     "output_type": "display_data"
    }
   ],
   "source": [
    "df.plot()"
   ]
  },
  {
   "cell_type": "markdown",
   "metadata": {},
   "source": [
    "Видим, что временные ряды достаточно стационарны. Посмотрим, как изменится ситуация, если произвести разность ряда. "
   ]
  },
  {
   "cell_type": "code",
   "execution_count": 15,
   "metadata": {},
   "outputs": [],
   "source": [
    "df_new = df - df.shift()"
   ]
  },
  {
   "cell_type": "code",
   "execution_count": 16,
   "metadata": {},
   "outputs": [],
   "source": [
    "df_new[\"rolling_mean\"] = df_new[\"num_orders\"].rolling(20).mean()\n",
    "df_new[\"rolling_std\"] = df_new[\"num_orders\"].rolling(20).std()"
   ]
  },
  {
   "cell_type": "code",
   "execution_count": 17,
   "metadata": {},
   "outputs": [
    {
     "data": {
      "text/plain": [
       "<matplotlib.axes._subplots.AxesSubplot at 0x7f3909ccd790>"
      ]
     },
     "execution_count": 17,
     "metadata": {},
     "output_type": "execute_result"
    },
    {
     "data": {
      "image/png": "[encoded data removed]",
      "text/plain": [
       "<Figure size 432x288 with 1 Axes>"
      ]
     },
     "metadata": {
      "needs_background": "light"
     },
     "output_type": "display_data"
    }
   ],
   "source": [
    "df_new.plot()"
   ]
  },
  {
   "cell_type": "code",
   "execution_count": 19,
   "metadata": {},
   "outputs": [
    {
     "data": {
      "text/html": [
       "<div>\n",
       "<style scoped>\n",
       "    .dataframe tbody tr th:only-of-type {\n",
       "        vertical-align: middle;\n",
       "    }\n",
       "\n",
       "    .dataframe tbody tr th {\n",
       "        vertical-align: top;\n",
       "    }\n",
       "\n",
       "    .dataframe thead th {\n",
       "        text-align: right;\n",
       "    }\n",
       "</style>\n",
       "<table border=\"1\" class=\"dataframe\">\n",
       "  <thead>\n",
       "    <tr style=\"text-align: right;\">\n",
       "      <th></th>\n",
       "      <th>num_orders</th>\n",
       "      <th>rolling_mean</th>\n",
       "      <th>rolling_std</th>\n",
       "    </tr>\n",
       "  </thead>\n",
       "  <tbody>\n",
       "    <tr>\n",
       "      <td>count</td>\n",
       "      <td>4415.000000</td>\n",
       "      <td>4396.000000</td>\n",
       "      <td>4396.000000</td>\n",
       "    </tr>\n",
       "    <tr>\n",
       "      <td>mean</td>\n",
       "      <td>0.018347</td>\n",
       "      <td>0.024488</td>\n",
       "      <td>37.989795</td>\n",
       "    </tr>\n",
       "    <tr>\n",
       "      <td>std</td>\n",
       "      <td>39.023437</td>\n",
       "      <td>2.801253</td>\n",
       "      <td>12.318616</td>\n",
       "    </tr>\n",
       "    <tr>\n",
       "      <td>min</td>\n",
       "      <td>-269.000000</td>\n",
       "      <td>-16.650000</td>\n",
       "      <td>14.839049</td>\n",
       "    </tr>\n",
       "    <tr>\n",
       "      <td>25%</td>\n",
       "      <td>-22.000000</td>\n",
       "      <td>-1.750000</td>\n",
       "      <td>29.647457</td>\n",
       "    </tr>\n",
       "    <tr>\n",
       "      <td>50%</td>\n",
       "      <td>1.000000</td>\n",
       "      <td>-0.050000</td>\n",
       "      <td>35.859650</td>\n",
       "    </tr>\n",
       "    <tr>\n",
       "      <td>75%</td>\n",
       "      <td>23.000000</td>\n",
       "      <td>1.650000</td>\n",
       "      <td>43.480720</td>\n",
       "    </tr>\n",
       "    <tr>\n",
       "      <td>max</td>\n",
       "      <td>193.000000</td>\n",
       "      <td>21.800000</td>\n",
       "      <td>100.717675</td>\n",
       "    </tr>\n",
       "  </tbody>\n",
       "</table>\n",
       "</div>"
      ],
      "text/plain": [
       "        num_orders  rolling_mean  rolling_std\n",
       "count  4415.000000   4396.000000  4396.000000\n",
       "mean      0.018347      0.024488    37.989795\n",
       "std      39.023437      2.801253    12.318616\n",
       "min    -269.000000    -16.650000    14.839049\n",
       "25%     -22.000000     -1.750000    29.647457\n",
       "50%       1.000000     -0.050000    35.859650\n",
       "75%      23.000000      1.650000    43.480720\n",
       "max     193.000000     21.800000   100.717675"
      ]
     },
     "execution_count": 19,
     "metadata": {},
     "output_type": "execute_result"
    }
   ],
   "source": [
    "df_new.describe()"
   ]
  },
  {
   "cell_type": "markdown",
   "metadata": {},
   "source": [
    "Видим, что среднее значение временного ряда практически не меняется. Наш ряд стационарный, а значит прогнозировать его будет намного легче, так как не будет слишком быстро меняющихся свойств. "
   ]
  },
  {
   "cell_type": "markdown",
   "metadata": {},
   "source": [
    "Напишем функцию make_features(), чтобы прибавить к таблице четыре новых календарных признака: год, месяц, день и день недели. Но будем работать на второй переменной, которая не использовалась для анализа. "
   ]
  },
  {
   "cell_type": "code",
   "execution_count": 20,
   "metadata": {},
   "outputs": [],
   "source": [
    "def make_features(data, max_lag, rolling_mean_size):\n",
    "    data['year'] = data.index.year\n",
    "    data['month'] = data.index.month\n",
    "    data['day'] = data.index.day\n",
    "    data['dayofweek'] = data.index.dayofweek\n",
    "    \n",
    "    for lag in range(1, max_lag + 1):\n",
    "        data['lag_{}'.format(lag)] = data['num_orders'].shift(lag)\n",
    "\n",
    "    data['rolling_mean'] = data['num_orders'].shift().rolling(rolling_mean_size).mean()"
   ]
  },
  {
   "cell_type": "code",
   "execution_count": 21,
   "metadata": {},
   "outputs": [],
   "source": [
    "make_features(final_df,24,20)"
   ]
  },
  {
   "cell_type": "markdown",
   "metadata": {},
   "source": [
    "Построим графики тренда и сезонности (по часам)"
   ]
  },
  {
   "cell_type": "code",
   "execution_count": 25,
   "metadata": {},
   "outputs": [
    {
     "data": {
      "image/png": "[encoded data removed]",
      "text/plain": [
       "<Figure size 1152x720 with 3 Axes>"
      ]
     },
     "metadata": {
      "needs_background": "light"
     },
     "output_type": "display_data"
    }
   ],
   "source": [
    "decomposed = seasonal_decompose(final_df[\"num_orders\"]) \n",
    "\n",
    "fig, axs = plt.subplots(3, figsize=(16,10), sharex=False)\n",
    "axs[0].plot(decomposed.trend)\n",
    "axs[0].set_title(\"Trend\")\n",
    "\n",
    "axs[1].plot(decomposed.seasonal)\n",
    "axs[1].set_title(\"Seasonal, hours\")\n",
    "axs[1].set_xlim(('2018-03-01 00:00:00','2018-03-02 23:00:00'))\n",
    "\n",
    "axs[2].plot(decomposed.resid)\n",
    "axs[2].set_title(\"Residual\")\n",
    "\n",
    "plt.show()"
   ]
  },
  {
   "cell_type": "markdown",
   "metadata": {},
   "source": [
    "#### Выводы \n",
    "\n",
    "Мы выяснили, что наш ряд стационарный и что он будет эффективнее в прогнозировании количества заказов такси в последующий час. \n",
    "Использовали вторую переменную final_df для добавления новых календарных признаков к таблице.  \n",
    "Построили графики тренда и сезонности и увидели, что рост заказов такси прихоодится ближе к вечеру, ночи (00:00:00).  \n",
    "Данные проанализированы и почти готовы к обучению. Перейдем к созданию призаков."
   ]
  },
  {
   "cell_type": "markdown",
   "metadata": {},
   "source": [
    "## Обучение"
   ]
  },
  {
   "cell_type": "markdown",
   "metadata": {},
   "source": [
    "Разделим данные на тренировочную и тестовую выборки. Сделаем тестовую выборку размером 10% от исходных данных."
   ]
  },
  {
   "cell_type": "code",
   "execution_count": 26,
   "metadata": {},
   "outputs": [],
   "source": [
    "train,test = train_test_split(final_df,shuffle = False, random_state = 42, test_size = 0.1)"
   ]
  },
  {
   "cell_type": "code",
   "execution_count": 27,
   "metadata": {},
   "outputs": [],
   "source": [
    "train = train.dropna()"
   ]
  },
  {
   "cell_type": "code",
   "execution_count": 28,
   "metadata": {},
   "outputs": [],
   "source": [
    "(train_features, test_features) = (train.drop('num_orders',axis = 1), test.drop('num_orders',axis = 1))\n",
    "(train_target, test_target) = (train['num_orders'], test['num_orders'])"
   ]
  },
  {
   "cell_type": "markdown",
   "metadata": {},
   "source": [
    "Для обучения мы выбрали три разные модели: CatBoostRegressor, LightGBM и Линейную Регрессию. Посмотрим, какая модель быстрее и точнее прогнозирует."
   ]
  },
  {
   "cell_type": "code",
   "execution_count": 36,
   "metadata": {},
   "outputs": [],
   "source": [
    "splits = TimeSeriesSplit(n_splits=3)"
   ]
  },
  {
   "cell_type": "markdown",
   "metadata": {},
   "source": [
    "**CatBoostRegressor**"
   ]
  },
  {
   "cell_type": "code",
   "execution_count": 37,
   "metadata": {},
   "outputs": [
    {
     "name": "stdout",
     "output_type": "stream",
     "text": [
      "0:\tloss: 33.1754143\tbest: 33.1754143 (0)\ttotal: 22.1s\tremaining: 3m 19s\n",
      "1:\tloss: 34.4560748\tbest: 33.1754143 (0)\ttotal: 40.4s\tremaining: 2m 41s\n",
      "2:\tloss: 33.5884733\tbest: 33.1754143 (0)\ttotal: 1m 5s\tremaining: 2m 31s\n",
      "3:\tloss: 35.9408523\tbest: 33.1754143 (0)\ttotal: 1m 35s\tremaining: 2m 23s\n",
      "4:\tloss: 34.0182325\tbest: 33.1754143 (0)\ttotal: 2m 3s\tremaining: 2m 3s\n",
      "5:\tloss: 37.1099013\tbest: 33.1754143 (0)\ttotal: 4m 36s\tremaining: 3m 4s\n",
      "6:\tloss: 37.6999612\tbest: 33.1754143 (0)\ttotal: 7m 10s\tremaining: 3m 4s\n",
      "7:\tloss: 39.7057495\tbest: 33.1754143 (0)\ttotal: 9m 45s\tremaining: 2m 26s\n",
      "8:\tloss: 38.9080718\tbest: 33.1754143 (0)\ttotal: 12m 19s\tremaining: 1m 22s\n",
      "9:\tloss: 39.9738337\tbest: 33.1754143 (0)\ttotal: 14m 56s\tremaining: 0us\n",
      "Estimating final quality...\n"
     ]
    }
   ],
   "source": [
    "catboost = CatBoostRegressor(loss_function='RMSE',random_state = 42)\n",
    "parameters_cat = {'depth':[5,10], 'learning_rate':np.arange(0.1,1,0.2)}\n",
    "catboost_grid = catboost.grid_search(parameters_cat,\n",
    "            Pool(train_features,train_target),cv=splits,verbose=True)"
   ]
  },
  {
   "cell_type": "code",
   "execution_count": 38,
   "metadata": {},
   "outputs": [
    {
     "name": "stdout",
     "output_type": "stream",
     "text": [
      "0:\tlearn: 36.9684097\ttotal: 2.61ms\tremaining: 2.61s\n",
      "100:\tlearn: 21.2410502\ttotal: 2.97s\tremaining: 26.4s\n",
      "200:\tlearn: 18.2972547\ttotal: 5.83s\tremaining: 23.2s\n",
      "300:\tlearn: 16.4140357\ttotal: 7.99s\tremaining: 18.6s\n",
      "400:\tlearn: 14.9079211\ttotal: 10s\tremaining: 15s\n",
      "500:\tlearn: 13.5906451\ttotal: 12.2s\tremaining: 12.2s\n",
      "600:\tlearn: 12.4677805\ttotal: 14.2s\tremaining: 9.41s\n",
      "700:\tlearn: 11.4108071\ttotal: 16.3s\tremaining: 6.96s\n",
      "800:\tlearn: 10.4940732\ttotal: 18.4s\tremaining: 4.57s\n",
      "900:\tlearn: 9.6595782\ttotal: 20.4s\tremaining: 2.25s\n",
      "999:\tlearn: 8.9679636\ttotal: 22.4s\tremaining: 0us\n",
      "CPU times: user 20 s, sys: 2.89 s, total: 22.9 s\n",
      "Wall time: 28.8 s\n"
     ]
    },
    {
     "data": {
      "text/plain": [
       "<catboost.core.CatBoostRegressor at 0x7f39006ee190>"
      ]
     },
     "execution_count": 38,
     "metadata": {},
     "output_type": "execute_result"
    }
   ],
   "source": [
    "%%time\n",
    "final_cat = CatBoostRegressor(depth=catboost_grid[\"params\"][\"depth\"], \n",
    "                              learning_rate=catboost_grid[\"params\"]['learning_rate'],\n",
    "                              loss_function='RMSE',verbose=100)\n",
    "final_cat.fit(Pool(train_features,train_target))"
   ]
  },
  {
   "cell_type": "code",
   "execution_count": 39,
   "metadata": {},
   "outputs": [],
   "source": [
    "preds_Cat_train = final_cat.predict(train_features)\n",
    "RMSE_CatBoost_train = (mean_squared_error(train_target,preds_Cat_train))**0.5\n",
    "RMSE_CatBoost_train"
   ]
  },
  {
   "cell_type": "markdown",
   "metadata": {},
   "source": [
    "**LinearRegression**"
   ]
  },
  {
   "cell_type": "code",
   "execution_count": 46,
   "metadata": {},
   "outputs": [
    {
     "data": {
      "text/plain": [
       "25.84786526854025"
      ]
     },
     "execution_count": 46,
     "metadata": {},
     "output_type": "execute_result"
    }
   ],
   "source": [
    "%%time\n",
    "LR = LinearRegression()\n",
    "LR.fit(train_features, train_target)\n",
    "preds_LR_train = LR.predict(train_features)\n",
    "RMSE_LR_train = (mean_squared_error(train_target,preds_LR_train))**0.5\n",
    "RMSE_LR_train"
   ]
  },
  {
   "cell_type": "markdown",
   "metadata": {},
   "source": [
    "**LightGBM**"
   ]
  },
  {
   "cell_type": "code",
   "execution_count": 47,
   "metadata": {},
   "outputs": [],
   "source": [
    "%%time\n",
    "lgb_train = lgb.Dataset(train_features,train_target)\n",
    "parameters_light = {'metric': 'l2', 'max_depth':10,\"random_state\": 42,\"learning_rate\":0.1}\n",
    "light = lgb.train(parameters_light, lgb_train, num_boost_round=1000, verbose_eval=100)"
   ]
  },
  {
   "cell_type": "code",
   "execution_count": 49,
   "metadata": {},
   "outputs": [
    {
     "data": {
      "text/plain": [
       "0.609075883499272"
      ]
     },
     "execution_count": 49,
     "metadata": {},
     "output_type": "execute_result"
    }
   ],
   "source": [
    "preds_Light_train = light.predict(train_features)\n",
    "RMSE_LightGBM_train = (mean_squared_error(train_target,preds_Light_train))**0.5\n",
    "RMSE_LightGBM_train"
   ]
  },
  {
   "cell_type": "markdown",
   "metadata": {},
   "source": [
    "#### Выводы \n",
    "\n",
    "Модели обучены, перейдем к тестированию."
   ]
  },
  {
   "cell_type": "markdown",
   "metadata": {},
   "source": [
    "## Тестирование"
   ]
  },
  {
   "cell_type": "code",
   "execution_count": 50,
   "metadata": {},
   "outputs": [],
   "source": [
    "# CatBoost\n",
    "CatBoost_test_start_time = time.time()\n",
    "preds_Cat_test = final_cat.predict(test_features)\n",
    "CatBoost_test_total_time = time.time() - CatBoost_test_start_time\n",
    "\n",
    "#LightGBM\n",
    "LightGBM_test_start_time = time.time()\n",
    "preds_Light_test = light.predict(test_features)\n",
    "LightGBM_test_total_time = time.time() - LightGBM_test_start_time\n",
    "\n",
    "#Линейная регрессия \n",
    "LR_test_start_time=time.time()\n",
    "preds_LR_test=LR.predict(test_features)\n",
    "LR_test_total_time = time.time() - LR_test_start_time"
   ]
  },
  {
   "cell_type": "code",
   "execution_count": 51,
   "metadata": {},
   "outputs": [],
   "source": [
    "RMSE_CatBoost_test = (mean_squared_error(test_target,preds_Cat_test))**0.5\n",
    "\n",
    "RMSE_LightGBM_test = (mean_squared_error(test_target,preds_Light_test))**0.5\n",
    "\n",
    "RMSE_LR_test = (mean_squared_error(test_target,preds_LR_test))**0.5"
   ]
  },
  {
   "cell_type": "code",
   "execution_count": 52,
   "metadata": {},
   "outputs": [],
   "source": [
    "report = pd.DataFrame(columns = [\"CatBoost\",\"LightGBM\", 'LinReg'],\n",
    "                      index = [\"RMSE(train)\",\n",
    "                               \"RMSE(test)\",\n",
    "                               \"Время предсказания (секунды)\"])\n",
    "\n",
    "\n",
    "report.iloc[0] = [RMSE_CatBoost_train,RMSE_LightGBM_train, RMSE_LR_train]\n",
    "report.iloc[1] = [RMSE_CatBoost_test,RMSE_LightGBM_test, RMSE_LR_test]\n",
    "report.iloc[2] = [CatBoost_test_total_time,LightGBM_test_total_time, LR_test_total_time]"
   ]
  },
  {
   "cell_type": "code",
   "execution_count": 53,
   "metadata": {},
   "outputs": [
    {
     "data": {
      "text/html": [
       "<div>\n",
       "<style scoped>\n",
       "    .dataframe tbody tr th:only-of-type {\n",
       "        vertical-align: middle;\n",
       "    }\n",
       "\n",
       "    .dataframe tbody tr th {\n",
       "        vertical-align: top;\n",
       "    }\n",
       "\n",
       "    .dataframe thead th {\n",
       "        text-align: right;\n",
       "    }\n",
       "</style>\n",
       "<table border=\"1\" class=\"dataframe\">\n",
       "  <thead>\n",
       "    <tr style=\"text-align: right;\">\n",
       "      <th></th>\n",
       "      <th>CatBoost</th>\n",
       "      <th>LightGBM</th>\n",
       "      <th>LinReg</th>\n",
       "    </tr>\n",
       "  </thead>\n",
       "  <tbody>\n",
       "    <tr>\n",
       "      <td>RMSE(train)</td>\n",
       "      <td>8.96796</td>\n",
       "      <td>0.609076</td>\n",
       "      <td>25.8479</td>\n",
       "    </tr>\n",
       "    <tr>\n",
       "      <td>RMSE(test)</td>\n",
       "      <td>40.9126</td>\n",
       "      <td>41.6169</td>\n",
       "      <td>45.1737</td>\n",
       "    </tr>\n",
       "    <tr>\n",
       "      <td>Время предсказания (секунды)</td>\n",
       "      <td>0.0211535</td>\n",
       "      <td>0.0393796</td>\n",
       "      <td>0.00985789</td>\n",
       "    </tr>\n",
       "  </tbody>\n",
       "</table>\n",
       "</div>"
      ],
      "text/plain": [
       "                               CatBoost   LightGBM      LinReg\n",
       "RMSE(train)                     8.96796   0.609076     25.8479\n",
       "RMSE(test)                      40.9126    41.6169     45.1737\n",
       "Время предсказания (секунды)  0.0211535  0.0393796  0.00985789"
      ]
     },
     "execution_count": 53,
     "metadata": {},
     "output_type": "execute_result"
    }
   ],
   "source": [
    "report"
   ]
  },
  {
   "cell_type": "markdown",
   "metadata": {},
   "source": [
    "#### Выводы \n",
    "\n",
    "Заказчик обозначил, чтобы значение метрики RMSE на тестовой выборке должно быть не больше 48. Все три модели выполняют это условие, но модель CatBoost показала наилучший результат. Модель Линейной Регрессии же выполняет условие по необходимому значению метрики RMSE и по самому быстрому времени предсказания."
   ]
  }
 ],
 "metadata": {
  "ExecuteTimeLog": [
   {
    "duration": 1528,
    "start_time": "2021-09-10T18:07:51.475Z"
   },
   {
    "duration": 2919,
    "start_time": "2021-09-10T18:07:53.006Z"
   },
   {
    "duration": -1452,
    "start_time": "2021-09-10T18:07:57.382Z"
   },
   {
    "duration": -1474,
    "start_time": "2021-09-10T18:07:57.405Z"
   },
   {
    "duration": -1489,
    "start_time": "2021-09-10T18:07:57.421Z"
   },
   {
    "duration": -1499,
    "start_time": "2021-09-10T18:07:57.433Z"
   },
   {
    "duration": -1509,
    "start_time": "2021-09-10T18:07:57.444Z"
   },
   {
    "duration": -1517,
    "start_time": "2021-09-10T18:07:57.453Z"
   },
   {
    "duration": -1527,
    "start_time": "2021-09-10T18:07:57.464Z"
   },
   {
    "duration": -1552,
    "start_time": "2021-09-10T18:07:57.491Z"
   },
   {
    "duration": -1562,
    "start_time": "2021-09-10T18:07:57.502Z"
   },
   {
    "duration": -1571,
    "start_time": "2021-09-10T18:07:57.512Z"
   },
   {
    "duration": -1581,
    "start_time": "2021-09-10T18:07:57.523Z"
   },
   {
    "duration": -1589,
    "start_time": "2021-09-10T18:07:57.533Z"
   },
   {
    "duration": -1598,
    "start_time": "2021-09-10T18:07:57.543Z"
   },
   {
    "duration": -1613,
    "start_time": "2021-09-10T18:07:57.559Z"
   },
   {
    "duration": -1627,
    "start_time": "2021-09-10T18:07:57.574Z"
   },
   {
    "duration": -1636,
    "start_time": "2021-09-10T18:07:57.585Z"
   },
   {
    "duration": -1678,
    "start_time": "2021-09-10T18:07:57.628Z"
   },
   {
    "duration": -1687,
    "start_time": "2021-09-10T18:07:57.638Z"
   },
   {
    "duration": -1696,
    "start_time": "2021-09-10T18:07:57.649Z"
   },
   {
    "duration": -1704,
    "start_time": "2021-09-10T18:07:57.658Z"
   },
   {
    "duration": -1712,
    "start_time": "2021-09-10T18:07:57.667Z"
   },
   {
    "duration": -1721,
    "start_time": "2021-09-10T18:07:57.677Z"
   },
   {
    "duration": -1728,
    "start_time": "2021-09-10T18:07:57.686Z"
   },
   {
    "duration": -1738,
    "start_time": "2021-09-10T18:07:57.697Z"
   },
   {
    "duration": -1746,
    "start_time": "2021-09-10T18:07:57.706Z"
   },
   {
    "duration": -1754,
    "start_time": "2021-09-10T18:07:57.716Z"
   },
   {
    "duration": -1781,
    "start_time": "2021-09-10T18:07:57.744Z"
   },
   {
    "duration": -1789,
    "start_time": "2021-09-10T18:07:57.753Z"
   },
   {
    "duration": -1798,
    "start_time": "2021-09-10T18:07:57.763Z"
   },
   {
    "duration": -1804,
    "start_time": "2021-09-10T18:07:57.771Z"
   },
   {
    "duration": -1814,
    "start_time": "2021-09-10T18:07:57.782Z"
   },
   {
    "duration": -1822,
    "start_time": "2021-09-10T18:07:57.791Z"
   },
   {
    "duration": -1831,
    "start_time": "2021-09-10T18:07:57.801Z"
   },
   {
    "duration": 46,
    "start_time": "2021-09-10T18:10:27.065Z"
   },
   {
    "duration": 10,
    "start_time": "2021-09-10T18:10:30.226Z"
   },
   {
    "duration": 5,
    "start_time": "2021-09-10T18:10:31.907Z"
   },
   {
    "duration": 51,
    "start_time": "2021-09-10T18:10:43.123Z"
   },
   {
    "duration": 9,
    "start_time": "2021-09-10T18:10:46.457Z"
   },
   {
    "duration": 5,
    "start_time": "2021-09-10T18:10:47.359Z"
   },
   {
    "duration": 7,
    "start_time": "2021-09-10T18:10:48.503Z"
   },
   {
    "duration": 9,
    "start_time": "2021-09-10T18:10:51.353Z"
   },
   {
    "duration": 13,
    "start_time": "2021-09-10T18:10:53.201Z"
   },
   {
    "duration": 5,
    "start_time": "2021-09-10T18:10:54.997Z"
   },
   {
    "duration": 13,
    "start_time": "2021-09-10T18:10:56.787Z"
   },
   {
    "duration": 484,
    "start_time": "2021-09-10T18:11:19.070Z"
   },
   {
    "duration": 9,
    "start_time": "2021-09-10T18:11:37.816Z"
   },
   {
    "duration": 8,
    "start_time": "2021-09-10T18:11:40.721Z"
   },
   {
    "duration": 600,
    "start_time": "2021-09-10T18:11:42.726Z"
   },
   {
    "duration": 2626,
    "start_time": "2021-09-10T18:11:51.744Z"
   },
   {
    "duration": 27,
    "start_time": "2021-09-10T18:11:57.577Z"
   },
   {
    "duration": 5,
    "start_time": "2021-09-10T18:12:00.925Z"
   },
   {
    "duration": 37,
    "start_time": "2021-09-10T18:12:04.851Z"
   },
   {
    "duration": 2057,
    "start_time": "2021-09-10T18:12:06.939Z"
   },
   {
    "duration": 859,
    "start_time": "2021-09-10T18:12:13.281Z"
   },
   {
    "duration": 8,
    "start_time": "2021-09-10T18:12:32.274Z"
   },
   {
    "duration": 849,
    "start_time": "2021-09-10T18:12:37.284Z"
   },
   {
    "duration": 9,
    "start_time": "2021-09-10T18:12:43.667Z"
   },
   {
    "duration": 8,
    "start_time": "2021-09-10T18:12:44.816Z"
   },
   {
    "duration": 7,
    "start_time": "2021-09-10T18:12:45.983Z"
   },
   {
    "duration": 354,
    "start_time": "2021-09-10T18:12:48.934Z"
   },
   {
    "duration": 4,
    "start_time": "2021-09-10T18:14:12.509Z"
   },
   {
    "duration": 744,
    "start_time": "2021-09-10T18:14:14.443Z"
   },
   {
    "duration": 5,
    "start_time": "2021-09-10T18:14:57.162Z"
   },
   {
    "duration": 4,
    "start_time": "2021-09-10T18:15:07.741Z"
   },
   {
    "duration": 793,
    "start_time": "2021-09-10T18:15:09.263Z"
   },
   {
    "duration": 1185,
    "start_time": "2021-09-10T18:16:33.231Z"
   },
   {
    "duration": 3,
    "start_time": "2021-09-10T18:16:41.838Z"
   },
   {
    "duration": 1049569,
    "start_time": "2021-09-10T18:16:43.025Z"
   },
   {
    "duration": 28802,
    "start_time": "2021-09-10T18:34:12.597Z"
   },
   {
    "duration": 8,
    "start_time": "2021-09-10T18:35:04.735Z"
   },
   {
    "duration": 5,
    "start_time": "2021-09-10T18:35:05.976Z"
   },
   {
    "duration": 1875,
    "start_time": "2021-09-10T18:35:07.986Z"
   },
   {
    "duration": 5,
    "start_time": "2021-09-10T18:35:45.118Z"
   },
   {
    "duration": 1074,
    "start_time": "2021-09-10T18:35:48.663Z"
   },
   {
    "duration": 7,
    "start_time": "2021-09-10T18:36:48.976Z"
   },
   {
    "duration": 117,
    "start_time": "2021-09-10T18:37:45.847Z"
   },
   {
    "duration": 119,
    "start_time": "2021-09-10T18:37:54.745Z"
   },
   {
    "duration": 15758,
    "start_time": "2021-09-10T18:38:03.006Z"
   },
   {
    "duration": 601,
    "start_time": "2021-09-10T18:38:56.464Z"
   },
   {
    "duration": 554,
    "start_time": "2021-09-10T18:39:03.925Z"
   },
   {
    "duration": 159,
    "start_time": "2021-09-10T18:39:09.111Z"
   },
   {
    "duration": 8,
    "start_time": "2021-09-10T18:39:13.160Z"
   },
   {
    "duration": 14,
    "start_time": "2021-09-10T18:39:14.833Z"
   },
   {
    "duration": 11,
    "start_time": "2021-09-10T18:39:37.182Z"
   },
   {
    "duration": 1646,
    "start_time": "2021-09-12T12:35:48.904Z"
   },
   {
    "duration": 51,
    "start_time": "2021-09-12T12:35:50.552Z"
   },
   {
    "duration": 9,
    "start_time": "2021-09-12T12:35:52.948Z"
   },
   {
    "duration": 4,
    "start_time": "2021-09-12T12:35:53.982Z"
   },
   {
    "duration": 5,
    "start_time": "2021-09-12T12:35:56.080Z"
   },
   {
    "duration": 13,
    "start_time": "2021-09-12T12:35:57.012Z"
   },
   {
    "duration": 5,
    "start_time": "2021-09-12T12:35:57.884Z"
   },
   {
    "duration": 11,
    "start_time": "2021-09-12T12:35:58.616Z"
   },
   {
    "duration": 486,
    "start_time": "2021-09-12T12:35:59.579Z"
   }
  ],
  "kernelspec": {
   "display_name": "Python 3 (ipykernel)",
   "language": "python",
   "name": "python3"
  },
  "language_info": {
   "codemirror_mode": {
    "name": "ipython",
    "version": 3
   },
   "file_extension": ".py",
   "mimetype": "text/x-python",
   "name": "python",
   "nbconvert_exporter": "python",
   "pygments_lexer": "ipython3",
   "version": "3.9.5"
  },
  "toc": {
   "base_numbering": 1,
   "nav_menu": {},
   "number_sections": false,
   "sideBar": false,
   "skip_h1_title": true,
   "title_cell": "Содержание",
   "title_sidebar": "Contents",
   "toc_cell": false,
   "toc_position": {},
   "toc_section_display": false,
   "toc_window_display": false
  }
 },
 "nbformat": 4,
 "nbformat_minor": 2
}
