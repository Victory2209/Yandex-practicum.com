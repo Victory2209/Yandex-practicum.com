{
 "cells": [
  {
   "cell_type": "markdown",
   "metadata": {},
   "source": [
    "# Рекомендация тарифов"
   ]
  },
  {
   "cell_type": "markdown",
   "metadata": {},
   "source": [
    "В вашем распоряжении данные о поведении клиентов, которые уже перешли на эти тарифы (из проекта курса «Статистический анализ данных»). Нужно построить модель для задачи классификации, которая выберет подходящий тариф. Предобработка данных не понадобится — вы её уже сделали.\n",
    "\n",
    "Постройте модель с максимально большим значением *accuracy*. Чтобы сдать проект успешно, нужно довести долю правильных ответов по крайней мере до 0.75. Проверьте *accuracy* на тестовой выборке самостоятельно."
   ]
  },
  {
   "cell_type": "markdown",
   "metadata": {},
   "source": [
    "## Знакомство с данными "
   ]
  },
  {
   "cell_type": "code",
   "execution_count": 21,
   "metadata": {},
   "outputs": [],
   "source": [
    "import pandas as pd\n",
    "from sklearn.model_selection import train_test_split \n",
    "from sklearn.ensemble import RandomForestClassifier \n",
    "from sklearn.metrics import accuracy_score\n",
    "from sklearn.tree import DecisionTreeClassifier\n",
    "from sklearn.linear_model import LogisticRegression\n",
    "\n",
    "import numpy as np\n",
    "from sklearn.dummy import DummyClassifier"
   ]
  },
  {
   "cell_type": "code",
   "execution_count": 22,
   "metadata": {},
   "outputs": [
    {
     "data": {
      "text/html": [
       "<div>\n",
       "<style scoped>\n",
       "    .dataframe tbody tr th:only-of-type {\n",
       "        vertical-align: middle;\n",
       "    }\n",
       "\n",
       "    .dataframe tbody tr th {\n",
       "        vertical-align: top;\n",
       "    }\n",
       "\n",
       "    .dataframe thead th {\n",
       "        text-align: right;\n",
       "    }\n",
       "</style>\n",
       "<table border=\"1\" class=\"dataframe\">\n",
       "  <thead>\n",
       "    <tr style=\"text-align: right;\">\n",
       "      <th></th>\n",
       "      <th>calls</th>\n",
       "      <th>minutes</th>\n",
       "      <th>messages</th>\n",
       "      <th>mb_used</th>\n",
       "      <th>is_ultra</th>\n",
       "    </tr>\n",
       "  </thead>\n",
       "  <tbody>\n",
       "    <tr>\n",
       "      <td>0</td>\n",
       "      <td>40.0</td>\n",
       "      <td>311.90</td>\n",
       "      <td>83.0</td>\n",
       "      <td>19915.42</td>\n",
       "      <td>0</td>\n",
       "    </tr>\n",
       "    <tr>\n",
       "      <td>1</td>\n",
       "      <td>85.0</td>\n",
       "      <td>516.75</td>\n",
       "      <td>56.0</td>\n",
       "      <td>22696.96</td>\n",
       "      <td>0</td>\n",
       "    </tr>\n",
       "    <tr>\n",
       "      <td>2</td>\n",
       "      <td>77.0</td>\n",
       "      <td>467.66</td>\n",
       "      <td>86.0</td>\n",
       "      <td>21060.45</td>\n",
       "      <td>0</td>\n",
       "    </tr>\n",
       "    <tr>\n",
       "      <td>3</td>\n",
       "      <td>106.0</td>\n",
       "      <td>745.53</td>\n",
       "      <td>81.0</td>\n",
       "      <td>8437.39</td>\n",
       "      <td>1</td>\n",
       "    </tr>\n",
       "    <tr>\n",
       "      <td>4</td>\n",
       "      <td>66.0</td>\n",
       "      <td>418.74</td>\n",
       "      <td>1.0</td>\n",
       "      <td>14502.75</td>\n",
       "      <td>0</td>\n",
       "    </tr>\n",
       "  </tbody>\n",
       "</table>\n",
       "</div>"
      ],
      "text/plain": [
       "   calls  minutes  messages   mb_used  is_ultra\n",
       "0   40.0   311.90      83.0  19915.42         0\n",
       "1   85.0   516.75      56.0  22696.96         0\n",
       "2   77.0   467.66      86.0  21060.45         0\n",
       "3  106.0   745.53      81.0   8437.39         1\n",
       "4   66.0   418.74       1.0  14502.75         0"
      ]
     },
     "metadata": {},
     "output_type": "display_data"
    }
   ],
   "source": [
    "df = pd.read_csv('/datasets/users_behavior.csv')\n",
    "display(df.head())"
   ]
  },
  {
   "cell_type": "markdown",
   "metadata": {},
   "source": [
    "Так как мы взяли обработанный датасет, то предобработка данных не нужна. Начнем строить модель для задачи классификации - тариф Ультра или Смарт?"
   ]
  },
  {
   "cell_type": "markdown",
   "metadata": {},
   "source": [
    "## Делим выборку"
   ]
  },
  {
   "cell_type": "markdown",
   "metadata": {},
   "source": [
    "Выделим обучающий набор данных в переменных features (признаки) и target (целевой признак).Тариф это то, что модель должна предсказать. "
   ]
  },
  {
   "cell_type": "code",
   "execution_count": 23,
   "metadata": {},
   "outputs": [],
   "source": [
    "features = df.drop(['is_ultra'], axis=1)\n",
    "target = df['is_ultra']"
   ]
  },
  {
   "cell_type": "markdown",
   "metadata": {},
   "source": [
    "Разделим наши датасеты на обучающую, тестовую и валидационную выборки. Сначала разделим на обучающую и тестовую (60% и 40% соответственно), затем тестовую выборку разделим на тестовую и валидационную по 20% так, чтобы в целом получилось соотношение 3:1:1."
   ]
  },
  {
   "cell_type": "code",
   "execution_count": 24,
   "metadata": {},
   "outputs": [],
   "source": [
    "(features_train,\n",
    " features_test,\n",
    " target_train,\n",
    " target_test) = train_test_split(features, target, test_size = 0.4, random_state = 12345)"
   ]
  },
  {
   "cell_type": "code",
   "execution_count": 25,
   "metadata": {},
   "outputs": [],
   "source": [
    "(features_valid,\n",
    " features_test,\n",
    " target_valid,\n",
    " target_test) = train_test_split(features_test, target_test, test_size = 0.2, random_state = 12345)"
   ]
  },
  {
   "cell_type": "markdown",
   "metadata": {},
   "source": [
    "## Исследование модели "
   ]
  },
  {
   "cell_type": "markdown",
   "metadata": {},
   "source": [
    "**Random forest** \n",
    "\n",
    "Запишем модель в переменной, указав гиперпараметры. Зафиксируем псевдослучайность параметром random_state.\n",
    "Чтобы управлять количеством деревьев в лесу, пропишем гиперпараметр n_estimator и глубину дерева depth.\n",
    "Затем обучим модель и она будет готова предсказывать методом predict(). И наконец проверим правильность модели функцией accuracy_score(). "
   ]
  },
  {
   "cell_type": "code",
   "execution_count": 26,
   "metadata": {},
   "outputs": [
    {
     "name": "stdout",
     "output_type": "stream",
     "text": [
      "Accuracy наилучшей модели на валидационной выборке: 0.8073929961089494\n"
     ]
    }
   ],
   "source": [
    "best_model = None\n",
    "best_accuracy = 0\n",
    "\n",
    "for est in range(2,51):\n",
    "    for depth in range(2,25):\n",
    "        model = RandomForestClassifier(random_state = 123, n_estimators = est, max_depth = depth)\n",
    "        model.fit(features_train,target_train)\n",
    "        prediction_valid = model.predict(features_valid)\n",
    "        accuracy = accuracy_score(prediction_valid, target_valid)\n",
    "        if best_accuracy < accuracy:\n",
    "            best_model = model\n",
    "            best_accuracy = accuracy\n",
    "\n",
    "print(\"Accuracy наилучшей модели на валидационной выборке:\", best_accuracy)"
   ]
  },
  {
   "cell_type": "markdown",
   "metadata": {},
   "source": [
    "**Decision Tree**\n",
    "\n",
    "Аналогичная процедура обучения модели. В гиперпараметрах указываем псевдослучайность и глубину дерева. "
   ]
  },
  {
   "cell_type": "code",
   "execution_count": 27,
   "metadata": {},
   "outputs": [
    {
     "name": "stdout",
     "output_type": "stream",
     "text": [
      "Accuracy наилучшей модели на валидационной выборке: 0.7889105058365758\n"
     ]
    }
   ],
   "source": [
    "best_model_DT = None\n",
    "best_accuracy_DT = 0\n",
    "\n",
    "for depth in range(2,50):\n",
    "    model_DT = DecisionTreeClassifier(random_state = 123, max_depth = depth)\n",
    "    model_DT.fit(features_train,target_train)\n",
    "    prediction_valid_DT = model_DT.predict(features_valid)\n",
    "    accuracy_DT = accuracy_score(prediction_valid_DT, target_valid)\n",
    "    if best_accuracy_DT < accuracy_DT:\n",
    "        best_model_DT = model_DT\n",
    "        best_accuracy_DT = accuracy_DT\n",
    "        \n",
    "        \n",
    "print(\"Accuracy наилучшей модели на валидационной выборке:\", best_accuracy_DT)"
   ]
  },
  {
   "cell_type": "markdown",
   "metadata": {},
   "source": [
    "**LogisticRegression**\n",
    "\n",
    "Меняли разные гиперпараметры, разницы в accuracy не было никакой. Solver мы используем для задачи оптимизации. А значение lbfgs для наборов данных с несколькими классами."
   ]
  },
  {
   "cell_type": "code",
   "execution_count": 28,
   "metadata": {},
   "outputs": [
    {
     "name": "stdout",
     "output_type": "stream",
     "text": [
      "Accuracy модели логистической регрессии на валидационной выборке: 0.6984435797665369\n"
     ]
    }
   ],
   "source": [
    "model_LR = LogisticRegression(random_state = 1234, solver = 'lbfgs' )\n",
    "model_LR.fit(features_train,target_train)\n",
    "prediction_valid_LR = model_LR.predict(features_valid)\n",
    "accuracy_LR = accuracy_score(prediction_valid_LR, target_valid)\n",
    "\n",
    "print(\"Accuracy модели логистической регрессии на валидационной выборке:\", accuracy_LR)"
   ]
  },
  {
   "cell_type": "code",
   "execution_count": 29,
   "metadata": {},
   "outputs": [
    {
     "name": "stdout",
     "output_type": "stream",
     "text": [
      "Logistic Regression: 0.6984435797665369\n",
      "Random Forest: 0.8073929961089494\n",
      "Decision Tree: 0.7889105058365758\n"
     ]
    }
   ],
   "source": [
    "print(f\"Logistic Regression: {accuracy_LR}\")\n",
    "print(f\"Random Forest: {best_accuracy}\")\n",
    "print(f\"Decision Tree: {best_accuracy_DT}\")"
   ]
  },
  {
   "cell_type": "markdown",
   "metadata": {},
   "source": [
    "**Выводы**\n",
    "\n",
    "В результате исследования, мы выявили, что наиболее точные результаты дает модель Random Forest с значением Accuracy 0.80. Логистическая регрессия дает самый маленький процент точности - 69%. \n",
    "Проверим модель на тестовой выборке, которую выделили в начале проекта. "
   ]
  },
  {
   "cell_type": "markdown",
   "metadata": {},
   "source": [
    "## Проверка модели на тестовой выборке"
   ]
  },
  {
   "cell_type": "markdown",
   "metadata": {},
   "source": [
    "Обученные модели готовы предсказывать на тестовой выборке. "
   ]
  },
  {
   "cell_type": "code",
   "execution_count": 30,
   "metadata": {},
   "outputs": [],
   "source": [
    "prediction_test_LR = model_LR.predict(features_test)\n",
    "prediction_test_RF = best_model.predict(features_test)\n",
    "prediction_test_DT = best_model_DT.predict(features_test)"
   ]
  },
  {
   "cell_type": "markdown",
   "metadata": {},
   "source": [
    "Проверим точность."
   ]
  },
  {
   "cell_type": "code",
   "execution_count": 31,
   "metadata": {},
   "outputs": [],
   "source": [
    "accuracy_LR_test = accuracy_score(prediction_test_LR, target_test)\n",
    "accuracy_RF_test = accuracy_score(prediction_test_RF, target_test)\n",
    "accuracy_DT_test = accuracy_score(prediction_test_DT, target_test)"
   ]
  },
  {
   "cell_type": "code",
   "execution_count": 32,
   "metadata": {},
   "outputs": [
    {
     "name": "stdout",
     "output_type": "stream",
     "text": [
      "Logistic Regression: 0.6937984496124031\n",
      "Random Forest: 0.7984496124031008\n",
      "Decision Tree: 0.7945736434108527\n"
     ]
    }
   ],
   "source": [
    "print(f\"Logistic Regression: {accuracy_LR_test}\")\n",
    "print(f\"Random Forest: {accuracy_RF_test}\")\n",
    "print(f\"Decision Tree: {accuracy_DT_test}\")"
   ]
  },
  {
   "cell_type": "code",
   "execution_count": 33,
   "metadata": {},
   "outputs": [
    {
     "data": {
      "text/plain": [
       "0.6924273858921162"
      ]
     },
     "execution_count": 33,
     "metadata": {},
     "output_type": "execute_result"
    }
   ],
   "source": [
    "dummy_clf = DummyClassifier(strategy=\"most_frequent\")\n",
    "dummy_clf.fit(features_train,target_train)\n",
    "dummy_clf.predict(features_train)\n",
    "dummy_clf.score(features_train,target_train)\n"
   ]
  },
  {
   "cell_type": "code",
   "execution_count": 34,
   "metadata": {},
   "outputs": [
    {
     "data": {
      "text/plain": [
       "0.689922480620155"
      ]
     },
     "execution_count": 34,
     "metadata": {},
     "output_type": "execute_result"
    }
   ],
   "source": [
    "dummy_clf = DummyClassifier(strategy=\"most_frequent\")\n",
    "dummy_clf.fit(features_test,target_test)\n",
    "dummy_clf.predict(features_test)\n",
    "dummy_clf.score(features_test,target_test)\n"
   ]
  },
  {
   "cell_type": "markdown",
   "metadata": {},
   "source": [
    "**Выводы**\n",
    "\n",
    "Снова Random Forest дает более точные предсказания, однако тестовая выборка также показала высокую точность предсказания в модели Decision Tree. Логистиеская Регрессия опять нам показывает тот же процент точности - 69%.\n",
    "\n",
    "Получается, что модель Случайный Лес является самой подходящей моделью для задачи классификации, которая выберет подходящий тариф.\n",
    "\n",
    "Проверка модели на адекватность показала, что точность модели была понижена в среднем на 10%. В целом, точность классификатора не выглядит случайной, что может означать: гиперпараметры установлены правильно, набор данных, используемый классификатором, является сбаланированным и т.д. "
   ]
  }
 ],
 "metadata": {
  "ExecuteTimeLog": [
   {
    "duration": 761,
    "start_time": "2021-06-22T16:31:54.484Z"
   },
   {
    "duration": 42,
    "start_time": "2021-06-22T16:34:07.392Z"
   },
   {
    "duration": 568,
    "start_time": "2021-06-22T16:37:01.544Z"
   },
   {
    "duration": 7,
    "start_time": "2021-06-22T16:38:03.338Z"
   },
   {
    "duration": 8,
    "start_time": "2021-06-22T17:05:16.990Z"
   },
   {
    "duration": 442,
    "start_time": "2021-06-23T19:23:37.496Z"
   },
   {
    "duration": 1371,
    "start_time": "2021-06-23T19:23:45.698Z"
   },
   {
    "duration": 39,
    "start_time": "2021-06-23T19:23:47.071Z"
   },
   {
    "duration": 5,
    "start_time": "2021-06-23T19:23:48.539Z"
   },
   {
    "duration": 7,
    "start_time": "2021-06-23T19:23:49.363Z"
   },
   {
    "duration": 7,
    "start_time": "2021-06-23T19:26:36.111Z"
   },
   {
    "duration": 55,
    "start_time": "2021-06-23T19:31:52.157Z"
   },
   {
    "duration": 487,
    "start_time": "2021-06-23T19:38:32.000Z"
   },
   {
    "duration": 12,
    "start_time": "2021-06-23T19:39:03.478Z"
   },
   {
    "duration": 429,
    "start_time": "2021-06-23T19:39:06.841Z"
   },
   {
    "duration": 4,
    "start_time": "2021-06-23T19:39:25.517Z"
   },
   {
    "duration": 137642,
    "start_time": "2021-06-23T19:39:28.997Z"
   },
   {
    "duration": 358,
    "start_time": "2021-06-23T19:44:56.792Z"
   },
   {
    "duration": 4,
    "start_time": "2021-06-23T19:45:36.305Z"
   },
   {
    "duration": 598,
    "start_time": "2021-06-23T19:45:40.399Z"
   },
   {
    "duration": 29,
    "start_time": "2021-06-23T19:47:27.318Z"
   },
   {
    "duration": 5,
    "start_time": "2021-06-23T19:47:50.557Z"
   },
   {
    "duration": 14,
    "start_time": "2021-06-23T19:59:55.137Z"
   },
   {
    "duration": 7,
    "start_time": "2021-06-23T19:59:57.434Z"
   },
   {
    "duration": 5,
    "start_time": "2021-06-23T20:00:03.269Z"
   },
   {
    "duration": 1383,
    "start_time": "2021-06-24T16:13:14.266Z"
   },
   {
    "duration": 41,
    "start_time": "2021-06-24T16:13:15.651Z"
   },
   {
    "duration": 5,
    "start_time": "2021-06-24T16:13:15.695Z"
   },
   {
    "duration": 8,
    "start_time": "2021-06-24T16:13:15.702Z"
   },
   {
    "duration": 11,
    "start_time": "2021-06-24T16:13:15.712Z"
   },
   {
    "duration": 138864,
    "start_time": "2021-06-24T16:13:15.725Z"
   },
   {
    "duration": 622,
    "start_time": "2021-06-24T16:15:34.592Z"
   },
   {
    "duration": 42,
    "start_time": "2021-06-24T16:15:35.217Z"
   },
   {
    "duration": 5,
    "start_time": "2021-06-24T16:15:35.262Z"
   },
   {
    "duration": 18,
    "start_time": "2021-06-24T16:15:35.271Z"
   },
   {
    "duration": 7,
    "start_time": "2021-06-24T16:15:35.292Z"
   },
   {
    "duration": 8,
    "start_time": "2021-06-24T16:15:35.301Z"
   },
   {
    "duration": 1388,
    "start_time": "2021-06-24T16:33:43.425Z"
   },
   {
    "duration": 43,
    "start_time": "2021-06-24T16:33:44.816Z"
   },
   {
    "duration": 7,
    "start_time": "2021-06-24T16:33:44.863Z"
   },
   {
    "duration": 10,
    "start_time": "2021-06-24T16:33:44.873Z"
   },
   {
    "duration": 6,
    "start_time": "2021-06-24T16:33:44.886Z"
   },
   {
    "duration": 649,
    "start_time": "2021-06-24T16:36:09.222Z"
   },
   {
    "duration": 31,
    "start_time": "2021-06-24T16:36:09.875Z"
   },
   {
    "duration": 6,
    "start_time": "2021-06-24T16:36:09.909Z"
   },
   {
    "duration": 41,
    "start_time": "2021-06-24T16:36:09.918Z"
   },
   {
    "duration": 10,
    "start_time": "2021-06-24T16:36:09.962Z"
   },
   {
    "duration": 7,
    "start_time": "2021-06-24T16:36:09.981Z"
   },
   {
    "duration": 7191,
    "start_time": "2021-06-24T16:38:41.585Z"
   },
   {
    "duration": 7128,
    "start_time": "2021-06-24T16:41:46.546Z"
   },
   {
    "duration": 7172,
    "start_time": "2021-06-24T16:42:23.145Z"
   },
   {
    "duration": 142347,
    "start_time": "2021-06-24T17:02:07.694Z"
   },
   {
    "duration": 568,
    "start_time": "2021-06-24T17:08:33.128Z"
   },
   {
    "duration": 690,
    "start_time": "2021-06-24T17:08:46.733Z"
   },
   {
    "duration": 648,
    "start_time": "2021-06-24T17:08:54.035Z"
   },
   {
    "duration": 700,
    "start_time": "2021-06-24T17:12:44.432Z"
   },
   {
    "duration": 844,
    "start_time": "2021-06-24T17:12:53.368Z"
   },
   {
    "duration": 580,
    "start_time": "2021-06-24T17:13:00.855Z"
   },
   {
    "duration": 950,
    "start_time": "2021-06-24T17:13:07.322Z"
   },
   {
    "duration": 570,
    "start_time": "2021-06-24T17:13:14.058Z"
   },
   {
    "duration": 38,
    "start_time": "2021-06-24T17:13:57.544Z"
   },
   {
    "duration": 36,
    "start_time": "2021-06-24T17:14:33.960Z"
   },
   {
    "duration": 7,
    "start_time": "2021-06-24T17:14:41.989Z"
   },
   {
    "duration": 15,
    "start_time": "2021-06-24T17:15:07.664Z"
   },
   {
    "duration": 8,
    "start_time": "2021-06-24T17:15:09.198Z"
   },
   {
    "duration": 6,
    "start_time": "2021-06-24T17:15:10.841Z"
   },
   {
    "duration": 1366,
    "start_time": "2021-06-24T19:29:15.137Z"
   },
   {
    "duration": 38,
    "start_time": "2021-06-24T19:29:16.762Z"
   },
   {
    "duration": 5,
    "start_time": "2021-06-24T19:29:22.745Z"
   },
   {
    "duration": 8,
    "start_time": "2021-06-24T19:29:23.523Z"
   },
   {
    "duration": 8,
    "start_time": "2021-06-24T19:29:24.196Z"
   },
   {
    "duration": 134023,
    "start_time": "2021-06-24T19:29:26.062Z"
   },
   {
    "duration": 569,
    "start_time": "2021-06-24T19:31:40.088Z"
   },
   {
    "duration": 35,
    "start_time": "2021-06-24T19:31:40.659Z"
   },
   {
    "duration": 4,
    "start_time": "2021-06-24T19:31:40.697Z"
   },
   {
    "duration": 16,
    "start_time": "2021-06-24T19:31:40.703Z"
   },
   {
    "duration": 6,
    "start_time": "2021-06-24T19:31:40.722Z"
   },
   {
    "duration": 37,
    "start_time": "2021-06-24T19:31:40.730Z"
   },
   {
    "duration": 8,
    "start_time": "2021-06-24T19:33:33.551Z"
   },
   {
    "duration": 8,
    "start_time": "2021-06-24T19:36:50.040Z"
   },
   {
    "duration": 8,
    "start_time": "2021-06-24T19:37:03.310Z"
   },
   {
    "duration": 8,
    "start_time": "2021-06-24T19:37:47.973Z"
   },
   {
    "duration": 155582,
    "start_time": "2021-06-24T19:38:20.523Z"
   },
   {
    "duration": 564,
    "start_time": "2021-06-24T19:40:56.108Z"
   },
   {
    "duration": 321,
    "start_time": "2021-06-25T16:55:03.406Z"
   },
   {
    "duration": 1353,
    "start_time": "2021-06-25T16:55:10.293Z"
   },
   {
    "duration": 44,
    "start_time": "2021-06-25T16:55:11.649Z"
   },
   {
    "duration": 5,
    "start_time": "2021-06-25T16:55:14.449Z"
   },
   {
    "duration": 8,
    "start_time": "2021-06-25T16:55:16.039Z"
   },
   {
    "duration": 8,
    "start_time": "2021-06-25T16:55:16.751Z"
   },
   {
    "duration": 127287,
    "start_time": "2021-06-25T16:55:19.091Z"
   },
   {
    "duration": 544,
    "start_time": "2021-06-25T16:57:26.381Z"
   },
   {
    "duration": 30,
    "start_time": "2021-06-25T16:57:26.929Z"
   },
   {
    "duration": 29,
    "start_time": "2021-06-25T16:59:52.134Z"
   },
   {
    "duration": 26,
    "start_time": "2021-06-25T17:01:15.594Z"
   },
   {
    "duration": 40,
    "start_time": "2021-06-25T17:01:27.742Z"
   },
   {
    "duration": 31,
    "start_time": "2021-06-25T17:03:49.866Z"
   },
   {
    "duration": 6,
    "start_time": "2021-06-25T17:04:02.581Z"
   },
   {
    "duration": 30,
    "start_time": "2021-06-25T17:04:15.176Z"
   },
   {
    "duration": 4,
    "start_time": "2021-06-25T17:04:15.749Z"
   },
   {
    "duration": 12,
    "start_time": "2021-06-25T17:12:01.179Z"
   },
   {
    "duration": 7,
    "start_time": "2021-06-25T17:12:15.646Z"
   },
   {
    "duration": 9,
    "start_time": "2021-06-25T17:27:47.929Z"
   },
   {
    "duration": 8,
    "start_time": "2021-06-25T17:27:48.585Z"
   },
   {
    "duration": 4,
    "start_time": "2021-06-25T17:29:13.041Z"
   },
   {
    "duration": 32,
    "start_time": "2021-06-25T17:29:13.052Z"
   },
   {
    "duration": 4,
    "start_time": "2021-06-25T17:29:13.087Z"
   },
   {
    "duration": 10,
    "start_time": "2021-06-25T17:29:13.094Z"
   },
   {
    "duration": 11,
    "start_time": "2021-06-25T17:29:13.106Z"
   },
   {
    "duration": 127918,
    "start_time": "2021-06-25T17:29:13.119Z"
   },
   {
    "duration": 535,
    "start_time": "2021-06-25T17:31:21.039Z"
   },
   {
    "duration": 39,
    "start_time": "2021-06-25T17:31:21.576Z"
   },
   {
    "duration": 5,
    "start_time": "2021-06-25T17:31:21.619Z"
   },
   {
    "duration": 13,
    "start_time": "2021-06-25T17:31:21.626Z"
   },
   {
    "duration": 6,
    "start_time": "2021-06-25T17:31:21.642Z"
   },
   {
    "duration": 7,
    "start_time": "2021-06-25T17:31:21.651Z"
   },
   {
    "duration": 46,
    "start_time": "2021-06-25T17:31:21.660Z"
   },
   {
    "duration": 19,
    "start_time": "2021-06-25T17:31:21.709Z"
   }
  ],
  "kernelspec": {
   "display_name": "Python 3 (ipykernel)",
   "language": "python",
   "name": "python3"
  },
  "language_info": {
   "codemirror_mode": {
    "name": "ipython",
    "version": 3
   },
   "file_extension": ".py",
   "mimetype": "text/x-python",
   "name": "python",
   "nbconvert_exporter": "python",
   "pygments_lexer": "ipython3",
   "version": "3.9.7"
  },
  "toc": {
   "base_numbering": 1,
   "nav_menu": {},
   "number_sections": false,
   "sideBar": false,
   "skip_h1_title": true,
   "title_cell": "Table of Contents",
   "title_sidebar": "Contents",
   "toc_cell": false,
   "toc_position": {},
   "toc_section_display": false,
   "toc_window_display": false
  }
 },
 "nbformat": 4,
 "nbformat_minor": 2
}
