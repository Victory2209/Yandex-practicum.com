{
 "cells": [
  {
   "cell_type": "markdown",
   "metadata": {},
   "source": [
    "# Исследование объявлений о продаже квартир\n",
    "\n",
    "В вашем распоряжении данные сервиса Яндекс.Недвижимость — архив объявлений о продаже квартир в Санкт-Петербурге и соседних населённых пунктах за несколько лет. Нужно научиться определять рыночную стоимость объектов недвижимости. Ваша задача — установить параметры. Это позволит построить автоматизированную систему: она отследит аномалии и мошенническую деятельность. \n",
    "\n",
    "По каждой квартире на продажу доступны два вида данных. Первые вписаны пользователем, вторые получены автоматически на основе картографических данных. Например, расстояние до центра, аэропорта, ближайшего парка и водоёма. "
   ]
  },
  {
   "cell_type": "markdown",
   "metadata": {},
   "source": [
    "## Изучение данных из файла"
   ]
  },
  {
   "cell_type": "code",
   "execution_count": 1,
   "metadata": {},
   "outputs": [],
   "source": [
    "import pandas as pd\n",
    "import numpy as np\n",
    "import matplotlib.pyplot as plt"
   ]
  },
  {
   "cell_type": "code",
   "execution_count": 2,
   "metadata": {},
   "outputs": [
    {
     "name": "stdout",
     "output_type": "stream",
     "text": [
      "<class 'pandas.core.frame.DataFrame'>\n",
      "RangeIndex: 23699 entries, 0 to 23698\n",
      "Data columns (total 22 columns):\n",
      " #   Column                Non-Null Count  Dtype  \n",
      "---  ------                --------------  -----  \n",
      " 0   total_images          23699 non-null  int64  \n",
      " 1   last_price            23699 non-null  float64\n",
      " 2   total_area            23699 non-null  float64\n",
      " 3   first_day_exposition  23699 non-null  object \n",
      " 4   rooms                 23699 non-null  int64  \n",
      " 5   ceiling_height        14504 non-null  float64\n",
      " 6   floors_total          23613 non-null  float64\n",
      " 7   living_area           21796 non-null  float64\n",
      " 8   floor                 23699 non-null  int64  \n",
      " 9   is_apartment          2775 non-null   object \n",
      " 10  studio                23699 non-null  bool   \n",
      " 11  open_plan             23699 non-null  bool   \n",
      " 12  kitchen_area          21421 non-null  float64\n",
      " 13  balcony               12180 non-null  float64\n",
      " 14  locality_name         23650 non-null  object \n",
      " 15  airports_nearest      18157 non-null  float64\n",
      " 16  cityCenters_nearest   18180 non-null  float64\n",
      " 17  parks_around3000      18181 non-null  float64\n",
      " 18  parks_nearest         8079 non-null   float64\n",
      " 19  ponds_around3000      18181 non-null  float64\n",
      " 20  ponds_nearest         9110 non-null   float64\n",
      " 21  days_exposition       20518 non-null  float64\n",
      "dtypes: bool(2), float64(14), int64(3), object(3)\n",
      "memory usage: 3.7+ MB\n"
     ]
    }
   ],
   "source": [
    "sale_apart = pd.read_csv('/datasets/real_estate_data.csv', sep='\\t')\n",
    "sale_apart.info() \n",
    "date = '%Y-%m-%d'"
   ]
  },
  {
   "cell_type": "markdown",
   "metadata": {},
   "source": [
    "Пандас ограничил количество столбцов, которые показываются у датафрейма. Чтобы узнать чему оно равно можно выполнить pd.options.display.max_columns. Поэтому мы сразу изменили это значение и нам открылись два столбца studio и open_plan."
   ]
  },
  {
   "cell_type": "code",
   "execution_count": 3,
   "metadata": {},
   "outputs": [
    {
     "data": {
      "text/plain": [
       "50"
      ]
     },
     "execution_count": 3,
     "metadata": {},
     "output_type": "execute_result"
    }
   ],
   "source": [
    "pd.options.display.max_columns = 50\n",
    "pd.options.display.max_columns"
   ]
  },
  {
   "cell_type": "code",
   "execution_count": 4,
   "metadata": {},
   "outputs": [
    {
     "data": {
      "text/html": [
       "<div>\n",
       "<style scoped>\n",
       "    .dataframe tbody tr th:only-of-type {\n",
       "        vertical-align: middle;\n",
       "    }\n",
       "\n",
       "    .dataframe tbody tr th {\n",
       "        vertical-align: top;\n",
       "    }\n",
       "\n",
       "    .dataframe thead th {\n",
       "        text-align: right;\n",
       "    }\n",
       "</style>\n",
       "<table border=\"1\" class=\"dataframe\">\n",
       "  <thead>\n",
       "    <tr style=\"text-align: right;\">\n",
       "      <th></th>\n",
       "      <th>total_images</th>\n",
       "      <th>last_price</th>\n",
       "      <th>total_area</th>\n",
       "      <th>first_day_exposition</th>\n",
       "      <th>rooms</th>\n",
       "      <th>ceiling_height</th>\n",
       "      <th>floors_total</th>\n",
       "      <th>living_area</th>\n",
       "      <th>floor</th>\n",
       "      <th>is_apartment</th>\n",
       "      <th>studio</th>\n",
       "      <th>open_plan</th>\n",
       "      <th>kitchen_area</th>\n",
       "      <th>balcony</th>\n",
       "      <th>locality_name</th>\n",
       "      <th>airports_nearest</th>\n",
       "      <th>cityCenters_nearest</th>\n",
       "      <th>parks_around3000</th>\n",
       "      <th>parks_nearest</th>\n",
       "      <th>ponds_around3000</th>\n",
       "      <th>ponds_nearest</th>\n",
       "      <th>days_exposition</th>\n",
       "    </tr>\n",
       "  </thead>\n",
       "  <tbody>\n",
       "    <tr>\n",
       "      <th>0</th>\n",
       "      <td>20</td>\n",
       "      <td>13000000.0</td>\n",
       "      <td>108.0</td>\n",
       "      <td>2019-03-07T00:00:00</td>\n",
       "      <td>3</td>\n",
       "      <td>2.70</td>\n",
       "      <td>16.0</td>\n",
       "      <td>51.0</td>\n",
       "      <td>8</td>\n",
       "      <td>NaN</td>\n",
       "      <td>False</td>\n",
       "      <td>False</td>\n",
       "      <td>25.0</td>\n",
       "      <td>NaN</td>\n",
       "      <td>Санкт-Петербург</td>\n",
       "      <td>18863.0</td>\n",
       "      <td>16028.0</td>\n",
       "      <td>1.0</td>\n",
       "      <td>482.0</td>\n",
       "      <td>2.0</td>\n",
       "      <td>755.0</td>\n",
       "      <td>NaN</td>\n",
       "    </tr>\n",
       "    <tr>\n",
       "      <th>1</th>\n",
       "      <td>7</td>\n",
       "      <td>3350000.0</td>\n",
       "      <td>40.4</td>\n",
       "      <td>2018-12-04T00:00:00</td>\n",
       "      <td>1</td>\n",
       "      <td>NaN</td>\n",
       "      <td>11.0</td>\n",
       "      <td>18.6</td>\n",
       "      <td>1</td>\n",
       "      <td>NaN</td>\n",
       "      <td>False</td>\n",
       "      <td>False</td>\n",
       "      <td>11.0</td>\n",
       "      <td>2.0</td>\n",
       "      <td>посёлок Шушары</td>\n",
       "      <td>12817.0</td>\n",
       "      <td>18603.0</td>\n",
       "      <td>0.0</td>\n",
       "      <td>NaN</td>\n",
       "      <td>0.0</td>\n",
       "      <td>NaN</td>\n",
       "      <td>81.0</td>\n",
       "    </tr>\n",
       "    <tr>\n",
       "      <th>2</th>\n",
       "      <td>10</td>\n",
       "      <td>5196000.0</td>\n",
       "      <td>56.0</td>\n",
       "      <td>2015-08-20T00:00:00</td>\n",
       "      <td>2</td>\n",
       "      <td>NaN</td>\n",
       "      <td>5.0</td>\n",
       "      <td>34.3</td>\n",
       "      <td>4</td>\n",
       "      <td>NaN</td>\n",
       "      <td>False</td>\n",
       "      <td>False</td>\n",
       "      <td>8.3</td>\n",
       "      <td>0.0</td>\n",
       "      <td>Санкт-Петербург</td>\n",
       "      <td>21741.0</td>\n",
       "      <td>13933.0</td>\n",
       "      <td>1.0</td>\n",
       "      <td>90.0</td>\n",
       "      <td>2.0</td>\n",
       "      <td>574.0</td>\n",
       "      <td>558.0</td>\n",
       "    </tr>\n",
       "    <tr>\n",
       "      <th>3</th>\n",
       "      <td>0</td>\n",
       "      <td>64900000.0</td>\n",
       "      <td>159.0</td>\n",
       "      <td>2015-07-24T00:00:00</td>\n",
       "      <td>3</td>\n",
       "      <td>NaN</td>\n",
       "      <td>14.0</td>\n",
       "      <td>NaN</td>\n",
       "      <td>9</td>\n",
       "      <td>NaN</td>\n",
       "      <td>False</td>\n",
       "      <td>False</td>\n",
       "      <td>NaN</td>\n",
       "      <td>0.0</td>\n",
       "      <td>Санкт-Петербург</td>\n",
       "      <td>28098.0</td>\n",
       "      <td>6800.0</td>\n",
       "      <td>2.0</td>\n",
       "      <td>84.0</td>\n",
       "      <td>3.0</td>\n",
       "      <td>234.0</td>\n",
       "      <td>424.0</td>\n",
       "    </tr>\n",
       "    <tr>\n",
       "      <th>4</th>\n",
       "      <td>2</td>\n",
       "      <td>10000000.0</td>\n",
       "      <td>100.0</td>\n",
       "      <td>2018-06-19T00:00:00</td>\n",
       "      <td>2</td>\n",
       "      <td>3.03</td>\n",
       "      <td>14.0</td>\n",
       "      <td>32.0</td>\n",
       "      <td>13</td>\n",
       "      <td>NaN</td>\n",
       "      <td>False</td>\n",
       "      <td>False</td>\n",
       "      <td>41.0</td>\n",
       "      <td>NaN</td>\n",
       "      <td>Санкт-Петербург</td>\n",
       "      <td>31856.0</td>\n",
       "      <td>8098.0</td>\n",
       "      <td>2.0</td>\n",
       "      <td>112.0</td>\n",
       "      <td>1.0</td>\n",
       "      <td>48.0</td>\n",
       "      <td>121.0</td>\n",
       "    </tr>\n",
       "  </tbody>\n",
       "</table>\n",
       "</div>"
      ],
      "text/plain": [
       "   total_images  last_price  total_area first_day_exposition  rooms  \\\n",
       "0            20  13000000.0       108.0  2019-03-07T00:00:00      3   \n",
       "1             7   3350000.0        40.4  2018-12-04T00:00:00      1   \n",
       "2            10   5196000.0        56.0  2015-08-20T00:00:00      2   \n",
       "3             0  64900000.0       159.0  2015-07-24T00:00:00      3   \n",
       "4             2  10000000.0       100.0  2018-06-19T00:00:00      2   \n",
       "\n",
       "   ceiling_height  floors_total  living_area  floor is_apartment  studio  \\\n",
       "0            2.70          16.0         51.0      8          NaN   False   \n",
       "1             NaN          11.0         18.6      1          NaN   False   \n",
       "2             NaN           5.0         34.3      4          NaN   False   \n",
       "3             NaN          14.0          NaN      9          NaN   False   \n",
       "4            3.03          14.0         32.0     13          NaN   False   \n",
       "\n",
       "   open_plan  kitchen_area  balcony    locality_name  airports_nearest  \\\n",
       "0      False          25.0      NaN  Санкт-Петербург           18863.0   \n",
       "1      False          11.0      2.0   посёлок Шушары           12817.0   \n",
       "2      False           8.3      0.0  Санкт-Петербург           21741.0   \n",
       "3      False           NaN      0.0  Санкт-Петербург           28098.0   \n",
       "4      False          41.0      NaN  Санкт-Петербург           31856.0   \n",
       "\n",
       "   cityCenters_nearest  parks_around3000  parks_nearest  ponds_around3000  \\\n",
       "0              16028.0               1.0          482.0               2.0   \n",
       "1              18603.0               0.0            NaN               0.0   \n",
       "2              13933.0               1.0           90.0               2.0   \n",
       "3               6800.0               2.0           84.0               3.0   \n",
       "4               8098.0               2.0          112.0               1.0   \n",
       "\n",
       "   ponds_nearest  days_exposition  \n",
       "0          755.0              NaN  \n",
       "1            NaN             81.0  \n",
       "2          574.0            558.0  \n",
       "3          234.0            424.0  \n",
       "4           48.0            121.0  "
      ]
     },
     "metadata": {},
     "output_type": "display_data"
    }
   ],
   "source": [
    "display(sale_apart.head())"
   ]
  },
  {
   "cell_type": "markdown",
   "metadata": {},
   "source": [
    "Узнаем количество пропусков в процентах. Только почему то 9% и 8% идет после 88%. Не пойму, что не так."
   ]
  },
  {
   "cell_type": "code",
   "execution_count": 5,
   "metadata": {},
   "outputs": [
    {
     "data": {
      "text/html": [
       "<div>\n",
       "<style scoped>\n",
       "    .dataframe tbody tr th:only-of-type {\n",
       "        vertical-align: middle;\n",
       "    }\n",
       "\n",
       "    .dataframe tbody tr th {\n",
       "        vertical-align: top;\n",
       "    }\n",
       "\n",
       "    .dataframe thead th {\n",
       "        text-align: right;\n",
       "    }\n",
       "</style>\n",
       "<table border=\"1\" class=\"dataframe\">\n",
       "  <thead>\n",
       "    <tr style=\"text-align: right;\">\n",
       "      <th></th>\n",
       "      <th>percent_of_nan</th>\n",
       "    </tr>\n",
       "  </thead>\n",
       "  <tbody>\n",
       "    <tr>\n",
       "      <th>kitchen_area</th>\n",
       "      <td>9.61%</td>\n",
       "    </tr>\n",
       "    <tr>\n",
       "      <th>is_apartment</th>\n",
       "      <td>88.29%</td>\n",
       "    </tr>\n",
       "    <tr>\n",
       "      <th>living_area</th>\n",
       "      <td>8.03%</td>\n",
       "    </tr>\n",
       "    <tr>\n",
       "      <th>parks_nearest</th>\n",
       "      <td>65.91%</td>\n",
       "    </tr>\n",
       "    <tr>\n",
       "      <th>ponds_nearest</th>\n",
       "      <td>61.56%</td>\n",
       "    </tr>\n",
       "    <tr>\n",
       "      <th>balcony</th>\n",
       "      <td>48.61%</td>\n",
       "    </tr>\n",
       "    <tr>\n",
       "      <th>ceiling_height</th>\n",
       "      <td>38.80%</td>\n",
       "    </tr>\n",
       "    <tr>\n",
       "      <th>airports_nearest</th>\n",
       "      <td>23.38%</td>\n",
       "    </tr>\n",
       "    <tr>\n",
       "      <th>cityCenters_nearest</th>\n",
       "      <td>23.29%</td>\n",
       "    </tr>\n",
       "    <tr>\n",
       "      <th>ponds_around3000</th>\n",
       "      <td>23.28%</td>\n",
       "    </tr>\n",
       "    <tr>\n",
       "      <th>parks_around3000</th>\n",
       "      <td>23.28%</td>\n",
       "    </tr>\n",
       "    <tr>\n",
       "      <th>days_exposition</th>\n",
       "      <td>13.42%</td>\n",
       "    </tr>\n",
       "    <tr>\n",
       "      <th>floors_total</th>\n",
       "      <td>0.36%</td>\n",
       "    </tr>\n",
       "    <tr>\n",
       "      <th>locality_name</th>\n",
       "      <td>0.21%</td>\n",
       "    </tr>\n",
       "    <tr>\n",
       "      <th>total_images</th>\n",
       "      <td>0.00%</td>\n",
       "    </tr>\n",
       "    <tr>\n",
       "      <th>last_price</th>\n",
       "      <td>0.00%</td>\n",
       "    </tr>\n",
       "    <tr>\n",
       "      <th>studio</th>\n",
       "      <td>0.00%</td>\n",
       "    </tr>\n",
       "    <tr>\n",
       "      <th>floor</th>\n",
       "      <td>0.00%</td>\n",
       "    </tr>\n",
       "    <tr>\n",
       "      <th>rooms</th>\n",
       "      <td>0.00%</td>\n",
       "    </tr>\n",
       "    <tr>\n",
       "      <th>first_day_exposition</th>\n",
       "      <td>0.00%</td>\n",
       "    </tr>\n",
       "    <tr>\n",
       "      <th>total_area</th>\n",
       "      <td>0.00%</td>\n",
       "    </tr>\n",
       "    <tr>\n",
       "      <th>open_plan</th>\n",
       "      <td>0.00%</td>\n",
       "    </tr>\n",
       "  </tbody>\n",
       "</table>\n",
       "</div>"
      ],
      "text/plain": [
       "                     percent_of_nan\n",
       "kitchen_area                  9.61%\n",
       "is_apartment                 88.29%\n",
       "living_area                   8.03%\n",
       "parks_nearest                65.91%\n",
       "ponds_nearest                61.56%\n",
       "balcony                      48.61%\n",
       "ceiling_height               38.80%\n",
       "airports_nearest             23.38%\n",
       "cityCenters_nearest          23.29%\n",
       "ponds_around3000             23.28%\n",
       "parks_around3000             23.28%\n",
       "days_exposition              13.42%\n",
       "floors_total                  0.36%\n",
       "locality_name                 0.21%\n",
       "total_images                  0.00%\n",
       "last_price                    0.00%\n",
       "studio                        0.00%\n",
       "floor                         0.00%\n",
       "rooms                         0.00%\n",
       "first_day_exposition          0.00%\n",
       "total_area                    0.00%\n",
       "open_plan                     0.00%"
      ]
     },
     "execution_count": 5,
     "metadata": {},
     "output_type": "execute_result"
    }
   ],
   "source": [
    "per_nan = pd.DataFrame({'percent_of_nan': sale_apart.isnull().sum()/len(sale_apart)})\n",
    "per_nan['percent_of_nan'] = per_nan['percent_of_nan'].map(lambda x:'{:.2%}'.format(x))\n",
    "per_nan.sort_values(by='percent_of_nan', ascending=False)"
   ]
  },
  {
   "cell_type": "markdown",
   "metadata": {},
   "source": [
    "**Вывод**\n",
    "\n",
    "После первого изучения данных из файла было обаружено, что значения из всех столбцов слились в один. Был указан как разделитель знак табуляции: '\\t'. После чего все данные встали на свои места. Таблица состоит из 22 столбцов и 23699 строк.\n",
    "Были обнаружены пропуски в таких переменных как:\n",
    "\n",
    "- ceiling_height — высота потолков (м), 38% пропусков \n",
    "\n",
    "- floors_total — всего этажей в доме, должен быть тип int, так как количество этажей - целое значение, 0.36% пропусков\n",
    "\n",
    "- living_area — жилая площадь в квадратных метрах(м²), 8% пропусков \n",
    "\n",
    "- is_apartment — апартаменты (булев тип),  должен быть тип bool, 88% пропусков\n",
    "\n",
    "- kitchen_area — площадь кухни в квадратных метрах (м²), 9% пропусков\n",
    "\n",
    "- balcony — число балконов, заменить тип данных на int, 48% пропусков\n",
    "\n",
    "- locality_name — название населённого пункта, 0.26% пропусков\n",
    "\n",
    "- airports_nearest — расстояние до ближайшего аэропорта в метрах (м), 23% пропусков \n",
    "\n",
    "- cityCenters_nearest — расстояние до центра города (м), 23% пропусков\n",
    "\n",
    "- parks_around3000 — число парков в радиусе 3 км, тип должен быть int, 23% пропусков\n",
    "\n",
    "- parks_nearest — расстояние до ближайшего парка (м), 65% пропусков\n",
    "\n",
    "- ponds_nearest - расстояние до ближайшего водоёма (м), 61% пропусков \n",
    "\n",
    "- ponds_around3000 — число водоёмов в радиусе 3 км, тип должен быть int, 23% пропусков\n",
    "\n",
    "- days_exposition — сколько дней было размещено объявление (от публикации до снятия), тип должен быть int, 13% пропусков \n",
    "\n",
    "- last_price - цена на момент снятия с публикации, тип должен быть int, чтобы не запутаться в десятичных и сотых.\n",
    "\n",
    "\n",
    "\n",
    "Идем обрабатывать эту большую кучу пропусков."
   ]
  },
  {
   "cell_type": "markdown",
   "metadata": {},
   "source": [
    "## Предобработка данных"
   ]
  },
  {
   "cell_type": "markdown",
   "metadata": {},
   "source": [
    "Проверяем все интересующие нас столбцы на наличие ошибок и артефактов."
   ]
  },
  {
   "cell_type": "code",
   "execution_count": 6,
   "metadata": {},
   "outputs": [
    {
     "data": {
      "text/plain": [
       "0.0    9071\n",
       "1.0    5717\n",
       "2.0    1892\n",
       "3.0    1501\n",
       "Name: ponds_around3000, dtype: int64"
      ]
     },
     "execution_count": 6,
     "metadata": {},
     "output_type": "execute_result"
    }
   ],
   "source": [
    "sale_apart['total_images'].value_counts()\n",
    "sale_apart['ceiling_height'].value_counts()\n",
    "sale_apart['floor'].value_counts()\n",
    "sale_apart['is_apartment'].value_counts()\n",
    "sale_apart['total_area'].value_counts()\n",
    "sale_apart['rooms'].value_counts()\n",
    "sale_apart['airports_nearest'].value_counts()\n",
    "sale_apart['cityCenters_nearest'].value_counts()\n",
    "sale_apart['parks_around3000'].value_counts()\n",
    "sale_apart['parks_nearest'].value_counts()\n",
    "sale_apart['ponds_around3000'].value_counts()"
   ]
  },
  {
   "cell_type": "markdown",
   "metadata": {},
   "source": [
    "Проверяем таблицу на дубликаты"
   ]
  },
  {
   "cell_type": "code",
   "execution_count": 7,
   "metadata": {},
   "outputs": [
    {
     "data": {
      "text/plain": [
       "0"
      ]
     },
     "execution_count": 7,
     "metadata": {},
     "output_type": "execute_result"
    }
   ],
   "source": [
    "sale_apart.duplicated().sum()"
   ]
  },
  {
   "cell_type": "markdown",
   "metadata": {},
   "source": [
    "Проверим столбец 'locality_name' на артефакты из-за возможного разного регистра."
   ]
  },
  {
   "cell_type": "code",
   "execution_count": 8,
   "metadata": {},
   "outputs": [],
   "source": [
    "#print(sale_apart['locality_name'].unique())"
   ]
  },
  {
   "cell_type": "markdown",
   "metadata": {},
   "source": [
    "Один и тот же населенный пункт написан по разному - поселок, посёлок, село. Попробуем избавиться от этой ошибки и избавиться в принципе от типов населенных пунктов.   "
   ]
  },
  {
   "cell_type": "code",
   "execution_count": 9,
   "metadata": {},
   "outputs": [],
   "source": [
    "sale_apart['locality_name'] = sale_apart['locality_name'].str.replace(\"поселок\", \"посёлок\")\n",
    "sale_apart['locality_name'] = sale_apart['locality_name'].str.replace('село', 'посёлок')\n",
    "sale_apart['locality_name'] = sale_apart['locality_name'].str.replace('городской посёлок', 'посёлок городского типа')\n",
    "sale_apart['locality_name'] = sale_apart['locality_name'].str.replace('посёлок городского типа', '')\n",
    "sale_apart['locality_name'] = sale_apart['locality_name'].str.replace('деревня', '')\n",
    "sale_apart['locality_name'] = sale_apart['locality_name'].str.replace('посёлок', '')\n",
    "sale_apart['locality_name'] = sale_apart['locality_name'].str.replace('садовое товарищество', '')\n",
    "\n",
    "#print(sale_apart['locality_name'].unique())"
   ]
  },
  {
   "cell_type": "markdown",
   "metadata": {},
   "source": [
    "Заменим пропуски в days_exposition на 0 и заменим тип данных. Вставляем 0, потому что неизвестно когда было закрыто объявление о продаже, мы не сможем найти эти данные нигде. Многие забывают снимать объявление на онлайн-ресурсах, даже когда сделка была совершена. Поэтому могут быть и результаты, где квартира продавалась годами, потому что вовремя не закрыли объявление.      "
   ]
  },
  {
   "cell_type": "code",
   "execution_count": 10,
   "metadata": {},
   "outputs": [],
   "source": [
    "sale_apart['days_exposition'] = sale_apart['days_exposition'].fillna(0)"
   ]
  },
  {
   "cell_type": "markdown",
   "metadata": {},
   "source": [
    "Переведем столбец с датой в формат даты без времени, так как при анализе таблицы было обнаружено, что время не указано - везде стоит 00:00:00 "
   ]
  },
  {
   "cell_type": "code",
   "execution_count": 11,
   "metadata": {},
   "outputs": [],
   "source": [
    "sale_apart['first_day_exposition'] = pd.to_datetime(sale_apart['first_day_exposition'], format = date)"
   ]
  },
  {
   "cell_type": "markdown",
   "metadata": {},
   "source": [
    "Заменим пропуски в balcony на 0, так как логично предположить, что пропуски могли возникнуть из-за того, что нечего было отмечать, то есть балконов и так нет. "
   ]
  },
  {
   "cell_type": "code",
   "execution_count": 12,
   "metadata": {},
   "outputs": [],
   "source": [
    "sale_apart['balcony'].value_counts()\n",
    "sale_apart['balcony'] = sale_apart['balcony'].fillna(0)"
   ]
  },
  {
   "cell_type": "markdown",
   "metadata": {},
   "source": [
    "Пропуски в этажах заменяем на среднее арифметическое, так как процент пропущенных значений не так велик и замена на среднее не приведет к сильным искажениям результата. И заменим тип данных на int - количесвто этажей должно быть целым числом.\n",
    "Затем категоризируем данный столбец - выделим 4 категории по этажам, в которых может быть примерно одинаковая высота потолков. И заменим пропуски в ceiling_height (высота потолков) на медиану, вычисленную в каждой группе floors_total (всего этажей в доме). "
   ]
  },
  {
   "cell_type": "code",
   "execution_count": 13,
   "metadata": {},
   "outputs": [
    {
     "name": "stdout",
     "output_type": "stream",
     "text": [
      "0\n"
     ]
    }
   ],
   "source": [
    "floors_total_mean = sale_apart['floors_total'].mean()\n",
    "sale_apart['floors_total'] = sale_apart['floors_total'].fillna(floors_total_mean)\n",
    "print(sale_apart['floors_total'].isna().sum())"
   ]
  },
  {
   "cell_type": "code",
   "execution_count": 14,
   "metadata": {},
   "outputs": [
    {
     "name": "stdout",
     "output_type": "stream",
     "text": [
      "11-25 этаж    8376\n",
      "1-5 этаж      8064\n",
      "6-10 этаж     6831\n",
      "26-60 этаж     428\n",
      "Name: income_floors, dtype: int64\n"
     ]
    }
   ],
   "source": [
    "#print(sale_apart['floors_total'].value_counts())\n",
    "\n",
    "def income_floors(income):\n",
    "    if income <=5:\n",
    "        return '1-5 этаж'\n",
    "    elif 6 <= income <= 10:\n",
    "        return \"6-10 этаж\"\n",
    "    elif 11 <= income <= 25:\n",
    "        return '11-25 этаж'\n",
    "    return '26-60 этаж'\n",
    "\n",
    "sale_apart['income_floors'] = sale_apart['floors_total'].apply(income_floors)\n",
    "print(sale_apart['income_floors'].value_counts())"
   ]
  },
  {
   "cell_type": "code",
   "execution_count": 15,
   "metadata": {},
   "outputs": [
    {
     "name": "stdout",
     "output_type": "stream",
     "text": [
      "0\n"
     ]
    }
   ],
   "source": [
    "total_income_median = sale_apart.groupby(['income_floors'])\n",
    "sale_apart['ceiling_height'] = total_income_median.ceiling_height.apply(lambda x: x.fillna(x.median()))\n",
    "print(sale_apart['ceiling_height'].isna().sum())"
   ]
  },
  {
   "cell_type": "markdown",
   "metadata": {},
   "source": [
    "Посмотрим параметр ceiling_height, видим что есть необоснованно большие значения но пока оставим их как есть"
   ]
  },
  {
   "cell_type": "code",
   "execution_count": 16,
   "metadata": {},
   "outputs": [
    {
     "data": {
      "text/plain": [
       "count    23699.000000\n",
       "mean         2.721512\n",
       "std          0.988999\n",
       "min          1.000000\n",
       "25%          2.600000\n",
       "50%          2.600000\n",
       "75%          2.700000\n",
       "max        100.000000\n",
       "Name: ceiling_height, dtype: float64"
      ]
     },
     "execution_count": 16,
     "metadata": {},
     "output_type": "execute_result"
    },
    {
     "data": {
      "image/png": "[encoded data removed]",
      "text/plain": [
       "<Figure size 504x360 with 1 Axes>"
      ]
     },
     "metadata": {
      "needs_background": "light"
     },
     "output_type": "display_data"
    }
   ],
   "source": [
    "sale_apart['ceiling_height'].plot(title = \"ceiling_height\", \n",
    "                                  kind = 'hist', \n",
    "                                  bins = 30, range=(2,5), \n",
    "                                  grid=True, \n",
    "                                  figsize = (7,5))\n",
    "sale_apart['ceiling_height'].describe()"
   ]
  },
  {
   "cell_type": "markdown",
   "metadata": {},
   "source": [
    "Столбец с апартаментами вероятно мог появиться не сразу с началом ведения записей, поэтому заменим все пропущенные значения на False. И поменяем тип данных на bool."
   ]
  },
  {
   "cell_type": "code",
   "execution_count": 17,
   "metadata": {},
   "outputs": [],
   "source": [
    "sale_apart['is_apartment'] = sale_apart['is_apartment'].astype('bool')\n",
    "sale_apart['is_apartment'] = sale_apart['is_apartment'].fillna(False)"
   ]
  },
  {
   "cell_type": "markdown",
   "metadata": {},
   "source": [
    "Заменим пропуски в kitchen_area с помощью медианы по категоризированному столбцу total_area. Допустим, что метраж кухни в среднем одинаково распределяется относительно общей площади квартиры. Процент пропущенных значений не такой большой, поэтому наши замененные значения не сильно исказят результаты. "
   ]
  },
  {
   "cell_type": "code",
   "execution_count": 18,
   "metadata": {},
   "outputs": [
    {
     "name": "stdout",
     "output_type": "stream",
     "text": [
      "[40.  52.  69.9]\n",
      "900.0\n",
      "12.0\n"
     ]
    }
   ],
   "source": [
    "print(np.percentile(sale_apart['total_area'], q=[25,50,75]))\n",
    "print(sale_apart['total_area'].max())\n",
    "print(sale_apart['total_area'].min())"
   ]
  },
  {
   "cell_type": "code",
   "execution_count": 19,
   "metadata": {},
   "outputs": [
    {
     "name": "stdout",
     "output_type": "stream",
     "text": [
      "больше 70 кв.м    6319\n",
      "меньше 40 кв.м    6042\n",
      "41-52 кв.м        5679\n",
      "53-69.9 кв.м      5659\n",
      "Name: income_area, dtype: int64\n"
     ]
    }
   ],
   "source": [
    "def income_area(i):\n",
    "    if i <=40:\n",
    "        return 'меньше 40 кв.м'\n",
    "    elif 41 <= i <= 52:\n",
    "        return \"41-52 кв.м\"\n",
    "    elif 53 <= i <= 69.9:\n",
    "        return '53-69.9 кв.м'\n",
    "    return 'больше 70 кв.м'\n",
    "\n",
    "sale_apart['income_area'] = sale_apart['total_area'].apply(income_area)\n",
    "print(sale_apart['income_area'].value_counts())"
   ]
  },
  {
   "cell_type": "code",
   "execution_count": 20,
   "metadata": {},
   "outputs": [
    {
     "name": "stdout",
     "output_type": "stream",
     "text": [
      "0\n"
     ]
    }
   ],
   "source": [
    "total_income_median = sale_apart.groupby(['income_area'])\n",
    "sale_apart['kitchen_area'] = total_income_median.kitchen_area.apply(lambda x: x.fillna(x.median()))\n",
    "print(sale_apart['kitchen_area'].isna().sum())"
   ]
  },
  {
   "cell_type": "markdown",
   "metadata": {},
   "source": [
    "*airports_nearest, cityCenters_nearest, parks_nearest и ponds_nearest, parks_around3000, ponds_around3000*:\n",
    "\n",
    "По *airports_nearest, cityCenters_nearest, parks_nearest и ponds_nearest*: данные рассчитывала система. Они могут отустствовать по причине того, что относительно конкретно взятого населенного пункта/точки искались расстояние в определенном радиусе. Если в пределах этого радиуса ни аэропорта, ни парков не было, то и указать в этом столбце системе было нечего. \n",
    "\n",
    "По *parks_around3000, ponds_around3000*: аналогично как и с parks_nearest и ponds_nearest - данные просто не были заполнены. Пропуски в них меняем на ноль.\n",
    "\n",
    "Пропущенные значения в locality_name не будем трогать, причина не понятна, да и количество пропусков очень маленькое - близится к 0%."
   ]
  },
  {
   "cell_type": "code",
   "execution_count": 21,
   "metadata": {},
   "outputs": [],
   "source": [
    "sale_apart['ponds_around3000'] = sale_apart['ponds_around3000'].fillna(0)\n",
    "sale_apart['parks_around3000'] = sale_apart['parks_around3000'].fillna(0)\n",
    "sale_apart['parks_nearest'] = sale_apart['parks_nearest'].fillna(0)\n",
    "sale_apart['ponds_nearest'] = sale_apart['ponds_nearest'].fillna(0)\n",
    "sale_apart['cityCenters_nearest'] = sale_apart['cityCenters_nearest'].fillna(0)\n",
    "sale_apart['airports_nearest'] = sale_apart['airports_nearest'].fillna(0)\n",
    "sale_apart['living_area'] = sale_apart['living_area'].fillna(0)"
   ]
  },
  {
   "cell_type": "markdown",
   "metadata": {},
   "source": [
    "Заменим типы данных и посмотрим сколько памяти сэкономим:"
   ]
  },
  {
   "cell_type": "code",
   "execution_count": 22,
   "metadata": {},
   "outputs": [],
   "source": [
    "sale_apart['days_exposition'] = sale_apart['days_exposition'].astype('uint16')\n",
    "sale_apart['balcony'] = sale_apart['balcony'].astype('uint8')\n",
    "sale_apart['floors_total'] = sale_apart['floors_total'].astype('uint8')\n",
    "sale_apart['last_price'] = sale_apart['last_price'].astype('uint32')\n",
    "sale_apart['ponds_around3000'] = sale_apart['ponds_around3000'].astype('uint8')\n",
    "sale_apart['parks_around3000'] = sale_apart['parks_around3000'].astype('uint8')\n",
    "sale_apart['parks_nearest'] = sale_apart['parks_nearest'].astype('uint16')\n",
    "sale_apart['ponds_nearest'] = sale_apart['ponds_nearest'].astype('uint16')\n",
    "sale_apart['cityCenters_nearest'] = sale_apart['cityCenters_nearest'].astype('uint16')\n",
    "sale_apart['airports_nearest'] = sale_apart['airports_nearest'].astype('uint16')"
   ]
  },
  {
   "cell_type": "code",
   "execution_count": 23,
   "metadata": {},
   "outputs": [
    {
     "name": "stdout",
     "output_type": "stream",
     "text": [
      "<class 'pandas.core.frame.DataFrame'>\n",
      "RangeIndex: 23699 entries, 0 to 23698\n",
      "Data columns (total 24 columns):\n",
      " #   Column                Non-Null Count  Dtype         \n",
      "---  ------                --------------  -----         \n",
      " 0   total_images          23699 non-null  int64         \n",
      " 1   last_price            23699 non-null  uint32        \n",
      " 2   total_area            23699 non-null  float64       \n",
      " 3   first_day_exposition  23699 non-null  datetime64[ns]\n",
      " 4   rooms                 23699 non-null  int64         \n",
      " 5   ceiling_height        23699 non-null  float64       \n",
      " 6   floors_total          23699 non-null  uint8         \n",
      " 7   living_area           23699 non-null  float64       \n",
      " 8   floor                 23699 non-null  int64         \n",
      " 9   is_apartment          23699 non-null  bool          \n",
      " 10  studio                23699 non-null  bool          \n",
      " 11  open_plan             23699 non-null  bool          \n",
      " 12  kitchen_area          23699 non-null  float64       \n",
      " 13  balcony               23699 non-null  uint8         \n",
      " 14  locality_name         23650 non-null  object        \n",
      " 15  airports_nearest      23699 non-null  uint16        \n",
      " 16  cityCenters_nearest   23699 non-null  uint16        \n",
      " 17  parks_around3000      23699 non-null  uint8         \n",
      " 18  parks_nearest         23699 non-null  uint16        \n",
      " 19  ponds_around3000      23699 non-null  uint8         \n",
      " 20  ponds_nearest         23699 non-null  uint16        \n",
      " 21  days_exposition       23699 non-null  uint16        \n",
      " 22  income_floors         23699 non-null  object        \n",
      " 23  income_area           23699 non-null  object        \n",
      "dtypes: bool(3), datetime64[ns](1), float64(4), int64(3), object(3), uint16(5), uint32(1), uint8(4)\n",
      "memory usage: 2.5+ MB\n"
     ]
    }
   ],
   "source": [
    "sale_apart.info()"
   ]
  },
  {
   "cell_type": "code",
   "execution_count": 24,
   "metadata": {},
   "outputs": [
    {
     "data": {
      "text/plain": [
       "total_images             0\n",
       "last_price               0\n",
       "total_area               0\n",
       "first_day_exposition     0\n",
       "rooms                    0\n",
       "ceiling_height           0\n",
       "floors_total             0\n",
       "living_area              0\n",
       "floor                    0\n",
       "is_apartment             0\n",
       "studio                   0\n",
       "open_plan                0\n",
       "kitchen_area             0\n",
       "balcony                  0\n",
       "locality_name           49\n",
       "airports_nearest         0\n",
       "cityCenters_nearest      0\n",
       "parks_around3000         0\n",
       "parks_nearest            0\n",
       "ponds_around3000         0\n",
       "ponds_nearest            0\n",
       "days_exposition          0\n",
       "income_floors            0\n",
       "income_area              0\n",
       "dtype: int64"
      ]
     },
     "metadata": {},
     "output_type": "display_data"
    }
   ],
   "source": [
    "#проверяем пропуски по всем столбцам \n",
    "\n",
    "display(sale_apart.isnull().sum())"
   ]
  },
  {
   "cell_type": "markdown",
   "metadata": {},
   "source": [
    "**Выводы**\n",
    "\n",
    "В предобработке данных мы обнаружили некоторые ошибки и пропущенные значения, от которых благополучно избавились в процессе.Был заменен тип данных, где посчитали это необходимым. Например, количество балконов и этажей перевели в целочисленный тип, потому что там не нужны десятые и сотые. \n",
    "\n",
    "Заменили пропуски на ноль в таких столбцах как:\n",
    "\n",
    "- living_area - процент пропусков относительно мал и нам неоткуда взять точную информацию о жилой площади определенной квартиры в определенном населенном пункте\n",
    "\n",
    "- locality_name - здесь процент пропущенных значений совсем мизерный и никак не отразится на резульататах исследования\n",
    "\n",
    "- airports_nearest, cityCenters_nearest, parks_around3000, parks_nearest, ponds_around3000, ponds_nearest - эти данные рассчитывала система. Они могут отустствовать по причине того, что относительно конкретно взятого населенного пункта/точки искались расстояние в определенном радиусе. Если в пределах этого радиуса ни аэропорта, ни парков не было, то и указать в этом столбце системе было нечего. \n"
   ]
  },
  {
   "cell_type": "markdown",
   "metadata": {},
   "source": [
    "## Расчёты и добавление результатов в таблицу"
   ]
  },
  {
   "cell_type": "markdown",
   "metadata": {},
   "source": [
    "Посчитаем и добавим в таблицу цену квадратного метра (отношение цены на момент снятия с публикации и площади квартиры в квадратных метрах). Для удобства изменим тип данных на int."
   ]
  },
  {
   "cell_type": "code",
   "execution_count": 25,
   "metadata": {},
   "outputs": [],
   "source": [
    "sale_apart['price_meter'] = sale_apart['last_price'] / sale_apart['total_area']"
   ]
  },
  {
   "cell_type": "code",
   "execution_count": 26,
   "metadata": {},
   "outputs": [],
   "source": [
    "sale_apart['price_meter'] = sale_apart['price_meter'].astype('int')"
   ]
  },
  {
   "cell_type": "markdown",
   "metadata": {},
   "source": [
    "Посчитаем день недели, месяц и год публикации объявления и добавим в таблицу. "
   ]
  },
  {
   "cell_type": "code",
   "execution_count": 27,
   "metadata": {},
   "outputs": [],
   "source": [
    "sale_apart['weekday_exposition'] = sale_apart['first_day_exposition'].dt.weekday\n",
    "\n",
    "sale_apart['month_exposition'] = sale_apart['first_day_exposition'].dt.month\n",
    "\n",
    "sale_apart['year_exposition'] = sale_apart['first_day_exposition'].dt.year"
   ]
  },
  {
   "cell_type": "markdown",
   "metadata": {},
   "source": [
    "Посчитаем этаж квартиры, где вариантами будут первый этаж, последний и другой. Мы уже проводили категоризацию этой переменной, но задание требует других категорий, поэтому делаем. И также добавляем новый столбец в таблицу."
   ]
  },
  {
   "cell_type": "code",
   "execution_count": 28,
   "metadata": {},
   "outputs": [],
   "source": [
    "def floor_category(row):\n",
    "    floors_total = row['floors_total']\n",
    "    floor = row['floor']\n",
    "    if floor == 1:\n",
    "        return 'первый'\n",
    "    elif floor == floors_total:\n",
    "        return 'последний'\n",
    "    return 'другой'\n",
    "      \n",
    "sale_apart['floor_category'] = sale_apart.apply(floor_category, axis = 1)"
   ]
  },
  {
   "cell_type": "code",
   "execution_count": 29,
   "metadata": {},
   "outputs": [
    {
     "data": {
      "text/plain": [
       "другой       17443\n",
       "последний     3339\n",
       "первый        2917\n",
       "Name: floor_category, dtype: int64"
      ]
     },
     "execution_count": 29,
     "metadata": {},
     "output_type": "execute_result"
    }
   ],
   "source": [
    "sale_apart['floor_category'].value_counts()"
   ]
  },
  {
   "cell_type": "markdown",
   "metadata": {},
   "source": [
    "Посчитаем соотношение жилой и общей площади, а также отношение площади кухни к общей."
   ]
  },
  {
   "cell_type": "code",
   "execution_count": 30,
   "metadata": {},
   "outputs": [],
   "source": [
    "sale_apart['useful_area_ratio'] = sale_apart['living_area'] / sale_apart['total_area']\n",
    "\n",
    "sale_apart['kitchen_area_ratio'] = sale_apart['kitchen_area'] / sale_apart['total_area']"
   ]
  },
  {
   "cell_type": "markdown",
   "metadata": {},
   "source": [
    "**Выводы**\n",
    "\n",
    "Провели все необходимые расчеты и добавили новые данные в таблицу. Эти расчеты нам понадобятся дальше в исследовательском анализе данных. \n",
    "\n"
   ]
  },
  {
   "cell_type": "markdown",
   "metadata": {},
   "source": [
    "## Исследовательский анализ данных"
   ]
  },
  {
   "cell_type": "markdown",
   "metadata": {},
   "source": [
    "- **Изучим следующие параметры: площадь, цена, число комнат, высота потолков.**\n",
    "\n",
    "По каждому параметру строим гистограмму и смотрим информацию о распределении данных с помощью метода describe().  "
   ]
  },
  {
   "cell_type": "code",
   "execution_count": 31,
   "metadata": {},
   "outputs": [
    {
     "data": {
      "text/plain": [
       "count    23699.000000\n",
       "mean        60.348651\n",
       "std         35.654083\n",
       "min         12.000000\n",
       "25%         40.000000\n",
       "50%         52.000000\n",
       "75%         69.900000\n",
       "max        900.000000\n",
       "Name: total_area, dtype: float64"
      ]
     },
     "execution_count": 31,
     "metadata": {},
     "output_type": "execute_result"
    },
    {
     "data": {
      "image/png": "[encoded data removed]",
      "text/plain": [
       "<Figure size 504x360 with 1 Axes>"
      ]
     },
     "metadata": {
      "needs_background": "light"
     },
     "output_type": "display_data"
    }
   ],
   "source": [
    "sale_apart.plot(title = 'total area', \n",
    "                y = 'total_area', \n",
    "                kind = 'hist', \n",
    "                bins = 100, \n",
    "                grid=True, \n",
    "                figsize = (7,5), \n",
    "                range = (0,400))\n",
    "sale_apart['total_area'].describe()"
   ]
  },
  {
   "cell_type": "code",
   "execution_count": 32,
   "metadata": {},
   "outputs": [
    {
     "data": {
      "text/plain": [
       "count    2.369900e+04\n",
       "mean     6.541549e+06\n",
       "std      1.088701e+07\n",
       "min      1.219000e+04\n",
       "25%      3.400000e+06\n",
       "50%      4.650000e+06\n",
       "75%      6.800000e+06\n",
       "max      7.630000e+08\n",
       "Name: last_price, dtype: float64"
      ]
     },
     "execution_count": 32,
     "metadata": {},
     "output_type": "execute_result"
    },
    {
     "data": {
      "image/png": "[encoded data removed]",
      "text/plain": [
       "<Figure size 576x360 with 1 Axes>"
      ]
     },
     "metadata": {
      "needs_background": "light"
     },
     "output_type": "display_data"
    }
   ],
   "source": [
    "sale_apart.plot(title = 'last price', \n",
    "                y = 'last_price', \n",
    "                kind = 'hist', \n",
    "                bins = 100, \n",
    "                grid=True, \n",
    "                range = (0,15000000), \n",
    "                figsize = (8,5))\n",
    "sale_apart['last_price'].describe()"
   ]
  },
  {
   "cell_type": "code",
   "execution_count": 33,
   "metadata": {},
   "outputs": [
    {
     "data": {
      "text/plain": [
       "count    23699.000000\n",
       "mean         2.070636\n",
       "std          1.078405\n",
       "min          0.000000\n",
       "25%          1.000000\n",
       "50%          2.000000\n",
       "75%          3.000000\n",
       "max         19.000000\n",
       "Name: rooms, dtype: float64"
      ]
     },
     "execution_count": 33,
     "metadata": {},
     "output_type": "execute_result"
    },
    {
     "data": {
      "image/png": "[encoded data removed]",
      "text/plain": [
       "<Figure size 720x360 with 1 Axes>"
      ]
     },
     "metadata": {
      "needs_background": "light"
     },
     "output_type": "display_data"
    }
   ],
   "source": [
    "sale_apart.plot(title = 'rooms', \n",
    "                y = 'rooms', \n",
    "                kind = 'hist', \n",
    "                bins = 30, \n",
    "                grid=True, \n",
    "                figsize = (10,5))\n",
    "sale_apart['rooms'].describe()"
   ]
  },
  {
   "cell_type": "code",
   "execution_count": 34,
   "metadata": {},
   "outputs": [
    {
     "data": {
      "text/plain": [
       "count    23699.000000\n",
       "mean         2.721512\n",
       "std          0.988999\n",
       "min          1.000000\n",
       "25%          2.600000\n",
       "50%          2.600000\n",
       "75%          2.700000\n",
       "max        100.000000\n",
       "Name: ceiling_height, dtype: float64"
      ]
     },
     "execution_count": 34,
     "metadata": {},
     "output_type": "execute_result"
    },
    {
     "data": {
      "image/png": "[encoded data removed]",
      "text/plain": [
       "<Figure size 504x360 with 1 Axes>"
      ]
     },
     "metadata": {
      "needs_background": "light"
     },
     "output_type": "display_data"
    }
   ],
   "source": [
    "sale_apart.plot(title = 'ceiling height', \n",
    "                y = 'ceiling_height', \n",
    "                kind = 'hist', \n",
    "                bins = 30, \n",
    "                range = (2,5), \n",
    "                grid=True, \n",
    "                figsize = (7,5))\n",
    "sale_apart['ceiling_height'].describe()"
   ]
  },
  {
   "cell_type": "markdown",
   "metadata": {},
   "source": [
    "**Выводы**\n",
    "\n",
    "Исходя из гистограм и с помощью метода describe() мы узнали много интересных данных о переменных площади квартир, цены, числе комнат и высоте потолков.\n",
    "\n",
    "Как показало распределение общая площадь колеблется от 12 до 900 кв.м. (это конечно мощно), среднее значение 60, а медиана 52 кв.м.\n",
    "\n",
    "Цены на недвижимость имеют среднее значение в 6,5 млн. руб. Минимальная стоимость составила 12190 руб, а максимальная - 7,6 млн.руб. Значения вывелись в экспоненциальной записи чисел, поэтому минимальная стоимость является выбросом, с которым будем дальше разбираться.\n",
    "\n",
    "Количество комнат колеблется от 1 до 19. Больше всего однокомнатных квартир. Минимальное значение - 0 комнат. Максимальное значение может предполагать общежитие или отель, гостиницу. \n",
    "\n",
    "Высота потолков в среднем составляет 2,77 м, медиана 2,65 м. Минимальное значение у высоты потолков - 1 м, а максимальное - 100. Скорее всего это выбросы, от которых дальше нужно будет избавиться. \n",
    "\n",
    "Во всех данных есть неадекватные значения или выбросы, наподобе 0 комнат, высоты потолков в 1 или 100 метров, а также цена квартиры в 12190 рублей."
   ]
  },
  {
   "cell_type": "markdown",
   "metadata": {},
   "source": [
    "- **Изучим время продажи квартиры. Опишем, сколько обычно занимает продажа. Когда можно считать, что продажи прошли очень быстро, а когда необычно долго?**"
   ]
  },
  {
   "cell_type": "code",
   "execution_count": 35,
   "metadata": {},
   "outputs": [
    {
     "data": {
      "text/plain": [
       "count    23699.000000\n",
       "mean       156.608844\n",
       "std        213.546873\n",
       "min          0.000000\n",
       "25%         22.000000\n",
       "50%         74.000000\n",
       "75%        199.000000\n",
       "max       1580.000000\n",
       "Name: days_exposition, dtype: float64"
      ]
     },
     "execution_count": 35,
     "metadata": {},
     "output_type": "execute_result"
    }
   ],
   "source": [
    "sale_apart['days_exposition'].describe()"
   ]
  },
  {
   "cell_type": "code",
   "execution_count": 36,
   "metadata": {},
   "outputs": [
    {
     "data": {
      "text/plain": [
       "74.0"
      ]
     },
     "execution_count": 36,
     "metadata": {},
     "output_type": "execute_result"
    }
   ],
   "source": [
    "sale_apart['days_exposition'].median()"
   ]
  },
  {
   "cell_type": "markdown",
   "metadata": {},
   "source": [
    "В среднем квартира продается за 156 дней. Медиана равна 74 дня. Но если посмотреть на минимальное и максимальное значение - 0 дней и 1580 дней соотетственно, то можно отметить, что из-за выбросов данные могут быть искажены. Подберемся ближе к времени продажи квартиры и построим диаграму размаха. "
   ]
  },
  {
   "cell_type": "code",
   "execution_count": 37,
   "metadata": {},
   "outputs": [
    {
     "data": {
      "text/plain": [
       "Text(0, 0.5, 'frequency')"
      ]
     },
     "execution_count": 37,
     "metadata": {},
     "output_type": "execute_result"
    },
    {
     "data": {
      "image/png": "[encoded data removed]",
      "text/plain": [
       "<Figure size 432x288 with 1 Axes>"
      ]
     },
     "metadata": {
      "needs_background": "light"
     },
     "output_type": "display_data"
    }
   ],
   "source": [
    "plt.boxplot(sale_apart[sale_apart['days_exposition']!=0]['days_exposition'])\n",
    "plt.ylim( 1,1800)\n",
    "plt.title(\"days exposition\")\n",
    "plt.xlabel(\"days\")\n",
    "plt.ylabel(\"frequency\")"
   ]
  },
  {
   "cell_type": "markdown",
   "metadata": {},
   "source": [
    "Выбросы замечены после значения в 500 дней. Все, что до 500 дней это граница нормального размаха. Построим гистограмму и посмотрим, что там. "
   ]
  },
  {
   "cell_type": "code",
   "execution_count": 38,
   "metadata": {},
   "outputs": [
    {
     "data": {
      "image/png": "[encoded data removed]",
      "text/plain": [
       "<Figure size 720x360 with 1 Axes>"
      ]
     },
     "metadata": {
      "needs_background": "light"
     },
     "output_type": "display_data"
    }
   ],
   "source": [
    "sale_apart.plot(title = 'days exposition', \n",
    "                y = 'days_exposition', \n",
    "                kind = 'hist', \n",
    "                bins = 30, \n",
    "                grid = True, \n",
    "                range = (1,1600), \n",
    "                figsize = (10,5))\n",
    "plt.show()"
   ]
  },
  {
   "cell_type": "markdown",
   "metadata": {},
   "source": [
    "Чаще всего квартиры продавались до 200 дней, а точнее закрывались объявления. Посмотрим данные за этот промежуток времени."
   ]
  },
  {
   "cell_type": "code",
   "execution_count": 39,
   "metadata": {},
   "outputs": [
    {
     "data": {
      "image/png": "[encoded data removed]",
      "text/plain": [
       "<Figure size 720x360 with 1 Axes>"
      ]
     },
     "metadata": {
      "needs_background": "light"
     },
     "output_type": "display_data"
    }
   ],
   "source": [
    "sale_apart.plot(title = '0-200 days exposition', \n",
    "                y = 'days_exposition', \n",
    "                kind = 'hist', \n",
    "                bins = 100, \n",
    "                grid = True, \n",
    "                range = (1,200), \n",
    "                figsize = (10,5))\n",
    "plt.show()"
   ]
  },
  {
   "cell_type": "markdown",
   "metadata": {},
   "source": [
    "Видим, что на определенный день происходит большая часть продаж квартир. Что это за дни? И почему именно они? "
   ]
  },
  {
   "cell_type": "code",
   "execution_count": 40,
   "metadata": {},
   "outputs": [
    {
     "data": {
      "image/png": "[encoded data removed]",
      "text/plain": [
       "<Figure size 720x360 with 1 Axes>"
      ]
     },
     "metadata": {
      "needs_background": "light"
     },
     "output_type": "display_data"
    }
   ],
   "source": [
    "sale_apart.plot(title = '25-75 days exposition', \n",
    "                y = 'days_exposition', \n",
    "                kind = 'hist', \n",
    "                bins = 50, \n",
    "                grid = True, \n",
    "                range = (25,75), \n",
    "                figsize = (10,5))\n",
    "plt.show()"
   ]
  },
  {
   "cell_type": "markdown",
   "metadata": {},
   "source": [
    "На 45 и 60 дни происходили аномально частые закрытия объявлений. Квартиры может продавались и до закрытия объявления, поэтому нельзя сказать, что именно в эти дни происходили самые частые продажи. \n",
    "\n",
    "**Выводы**\n",
    "\n",
    "Отвечая на поставленный вопрос \"Когда можно считать, что продажи прошли очень быстро, а когда необычно долго?\", можно попробовать ответить исходя из диаграмы размаха. Все, что после 500 дней это выбросы, которые встречаются крайне редко. Значит все, что до 500 дней это считается быстрыми продажами, и все, что после 500 дней это долгие продажи. Но чаще всего люди успевают продать квартиру за полгода."
   ]
  },
  {
   "cell_type": "markdown",
   "metadata": {},
   "source": [
    "- **Уберем редкие и выбивающиеся значения. Опишем, какие особенности обнаружили.**"
   ]
  },
  {
   "cell_type": "markdown",
   "metadata": {},
   "source": [
    "Отфильтруем данные от аномалий и запишем их в новую переменную. Уберем также нулевые значения, которыми мы заполнили пропуски."
   ]
  },
  {
   "cell_type": "code",
   "execution_count": 41,
   "metadata": {},
   "outputs": [],
   "source": [
    "good_sale_apart = sale_apart.query('days_exposition != 45 and days_exposition != 60 and days_exposition != 0')"
   ]
  },
  {
   "cell_type": "code",
   "execution_count": 43,
   "metadata": {},
   "outputs": [
    {
     "data": {
      "image/png": "[encoded data removed]",
      "text/plain": [
       "<Figure size 432x288 with 1 Axes>"
      ]
     },
     "metadata": {
      "needs_background": "light"
     },
     "output_type": "display_data"
    }
   ],
   "source": [
    "plt.boxplot(good_sale_apart['days_exposition'])\n",
    "plt.ylim(1,1800)\n",
    "plt.title(\"days exposition filter\")\n",
    "plt.xlabel(\"days\")\n",
    "plt.ylabel(\"frequency\")\n",
    "plt.show()"
   ]
  },
  {
   "cell_type": "code",
   "execution_count": 44,
   "metadata": {},
   "outputs": [
    {
     "data": {
      "image/png": "[encoded data removed]",
      "text/plain": [
       "<Figure size 720x360 with 1 Axes>"
      ]
     },
     "metadata": {
      "needs_background": "light"
     },
     "output_type": "display_data"
    }
   ],
   "source": [
    "good_sale_apart.plot(title = 'days exposition filter', \n",
    "                     y = 'days_exposition', \n",
    "                     kind = 'hist', \n",
    "                     bins = 30, \n",
    "                     grid = True, \n",
    "                     range = (1,1600), \n",
    "                     figsize = (10,5))\n",
    "plt.show()"
   ]
  },
  {
   "cell_type": "code",
   "execution_count": 45,
   "metadata": {},
   "outputs": [
    {
     "data": {
      "image/png": "[encoded data removed]",
      "text/plain": [
       "<Figure size 720x360 with 1 Axes>"
      ]
     },
     "metadata": {
      "needs_background": "light"
     },
     "output_type": "display_data"
    }
   ],
   "source": [
    "good_sale_apart.plot(title = '0-100 days exposition filter', \n",
    "                     y = 'days_exposition', \n",
    "                     kind = 'hist', \n",
    "                     bins = 100, \n",
    "                     grid = True, \n",
    "                     range = (1,100), \n",
    "                     figsize = (10,5))\n",
    "plt.show()"
   ]
  },
  {
   "cell_type": "markdown",
   "metadata": {},
   "source": [
    "Как оказалось, надо было выделить еще и другие аномальные дни - 7, 30 и 90. Уберем и их."
   ]
  },
  {
   "cell_type": "code",
   "execution_count": 46,
   "metadata": {},
   "outputs": [],
   "source": [
    "good_sale_apart = sale_apart.query('days_exposition != 45 and days_exposition != 60 and days_exposition != 0 and days_exposition != 7 and days_exposition != 30 and days_exposition != 90 ')"
   ]
  },
  {
   "cell_type": "code",
   "execution_count": 47,
   "metadata": {},
   "outputs": [
    {
     "data": {
      "image/png": "[encoded data removed]",
      "text/plain": [
       "<Figure size 720x360 with 1 Axes>"
      ]
     },
     "metadata": {
      "needs_background": "light"
     },
     "output_type": "display_data"
    }
   ],
   "source": [
    "good_sale_apart.plot(title = '0-200 days exposition filter', \n",
    "                     y = 'days_exposition', \n",
    "                     kind = 'hist', \n",
    "                     bins = 100, \n",
    "                     grid = True, \n",
    "                     range = (1,200), \n",
    "                     figsize = (10,5))\n",
    "plt.show()"
   ]
  },
  {
   "cell_type": "markdown",
   "metadata": {},
   "source": [
    "Отлично,теперь проверим, как изменились описательные статистики и диаграма размаха."
   ]
  },
  {
   "cell_type": "code",
   "execution_count": 48,
   "metadata": {},
   "outputs": [
    {
     "data": {
      "text/plain": [
       "count    18454.000000\n",
       "mean       195.803349\n",
       "std        226.760010\n",
       "min          1.000000\n",
       "25%         44.000000\n",
       "50%        114.000000\n",
       "75%        259.000000\n",
       "max       1580.000000\n",
       "Name: days_exposition, dtype: float64"
      ]
     },
     "execution_count": 48,
     "metadata": {},
     "output_type": "execute_result"
    }
   ],
   "source": [
    "good_sale_apart['days_exposition'].describe()"
   ]
  },
  {
   "cell_type": "code",
   "execution_count": 50,
   "metadata": {},
   "outputs": [
    {
     "data": {
      "image/png": "[encoded data removed]",
      "text/plain": [
       "<Figure size 432x288 with 1 Axes>"
      ]
     },
     "metadata": {
      "needs_background": "light"
     },
     "output_type": "display_data"
    }
   ],
   "source": [
    "plt.boxplot(good_sale_apart['days_exposition'])\n",
    "plt.ylim(1,1700)\n",
    "plt.title(\"days exposition filter\")\n",
    "plt.xlabel(\"days\")\n",
    "plt.ylabel(\"frequency\")\n",
    "plt.show()"
   ]
  },
  {
   "cell_type": "markdown",
   "metadata": {},
   "source": [
    "**Выводы**\n",
    "\n",
    "В очищенных данных мы получили большие значение медианы и среднего значения по сравнению с медианой и средним до обработки - 114 и 195 соответственно, вместо 74 и 156. Аналогично, теперь нормальные значения располагаются от 1 до 600 дней вместо от 1 до 500 дней."
   ]
  },
  {
   "cell_type": "markdown",
   "metadata": {},
   "source": [
    "- **Какие факторы больше всего влияют на стоимость квартиры? Изучим, зависит ли цена квадратного метра от общей площади квартиры, числа комнат, этажа (первого или последнего), удалённости от центра. Также изучим зависимость от даты размещения: дня недели, месяца и года.**"
   ]
  },
  {
   "cell_type": "markdown",
   "metadata": {},
   "source": [
    "- *Начнем с изучения зависимости цены квадратного метра от общей площади квартиры.*\n"
   ]
  },
  {
   "cell_type": "code",
   "execution_count": 51,
   "metadata": {},
   "outputs": [],
   "source": [
    "pivot_table_total_area = sale_apart.pivot_table(index = 'total_area', \n",
    "                                                values = 'price_meter', \n",
    "                                                aggfunc = ['mean', 'count', 'median'])\n",
    "pivot_table_total_area.columns = ['mean', 'count', 'median']"
   ]
  },
  {
   "cell_type": "code",
   "execution_count": 53,
   "metadata": {},
   "outputs": [
    {
     "data": {
      "image/png": "[encoded data removed]",
      "text/plain": [
       "<Figure size 720x360 with 1 Axes>"
      ]
     },
     "metadata": {
      "needs_background": "light"
     },
     "output_type": "display_data"
    }
   ],
   "source": [
    "pivot_table_total_area.plot(title = 'price dependence on area', \n",
    "                            y = 'median', \n",
    "                            style = 'o', \n",
    "                            figsize = (10,5))\n",
    "plt.show()"
   ]
  },
  {
   "cell_type": "code",
   "execution_count": 54,
   "metadata": {},
   "outputs": [
    {
     "data": {
      "text/plain": [
       "0.30196014387792547"
      ]
     },
     "execution_count": 54,
     "metadata": {},
     "output_type": "execute_result"
    }
   ],
   "source": [
    "sale_apart['total_area'].corr(sale_apart['price_meter'])"
   ]
  },
  {
   "cell_type": "markdown",
   "metadata": {},
   "source": [
    "Так как корреляция 0,3, то мы можем говорить об очень слабой зависимости. То есть с увеличением квадратных метров в квартире, цена не сильно выше. Хотя это очень странно. "
   ]
  },
  {
   "cell_type": "markdown",
   "metadata": {},
   "source": [
    "- *Изучим зависимость цены квадратного метра от числа комнат*"
   ]
  },
  {
   "cell_type": "code",
   "execution_count": 57,
   "metadata": {},
   "outputs": [
    {
     "data": {
      "image/png": "[encoded data removed]",
      "text/plain": [
       "<Figure size 720x360 with 1 Axes>"
      ]
     },
     "metadata": {
      "needs_background": "light"
     },
     "output_type": "display_data"
    }
   ],
   "source": [
    "pivot_table_rooms = sale_apart.pivot_table(index = 'rooms', \n",
    "                                           values = 'price_meter', \n",
    "                                           aggfunc = ['mean', 'count', 'median'])\n",
    "pivot_table_rooms.columns = ['mean', 'count', 'median']\n",
    "pivot_table_rooms.plot(title = 'price dependence on rooms', \n",
    "                       y = 'median', \n",
    "                       kind='bar', \n",
    "                       figsize = (10,5))\n",
    "plt.show()"
   ]
  },
  {
   "cell_type": "code",
   "execution_count": 58,
   "metadata": {},
   "outputs": [
    {
     "data": {
      "image/png": "[encoded data removed]",
      "text/plain": [
       "<Figure size 432x288 with 1 Axes>"
      ]
     },
     "metadata": {
      "needs_background": "light"
     },
     "output_type": "display_data"
    }
   ],
   "source": [
    "sale_apart.boxplot(column='rooms')\n",
    "plt.ylim(0,19)\n",
    "plt.title(\"where is the rubbish in rooms\")\n",
    "plt.show()"
   ]
  },
  {
   "cell_type": "markdown",
   "metadata": {},
   "source": [
    "Все, что больше 7 комнат, считается выбросами. Избавимся от них и посмотрим на зависимость. "
   ]
  },
  {
   "cell_type": "code",
   "execution_count": 59,
   "metadata": {},
   "outputs": [
    {
     "data": {
      "image/png": "[encoded data removed]",
      "text/plain": [
       "<Figure size 720x360 with 1 Axes>"
      ]
     },
     "metadata": {
      "needs_background": "light"
     },
     "output_type": "display_data"
    }
   ],
   "source": [
    "pivot_table_rooms.query('rooms <=7').plot(title = 'price dependence on rooms < 8', \n",
    "                                          y = 'median', \n",
    "                                          kind='bar', \n",
    "                                          figsize = (10,5)) \n",
    "plt.show()"
   ]
  },
  {
   "cell_type": "code",
   "execution_count": 60,
   "metadata": {},
   "outputs": [
    {
     "data": {
      "text/html": [
       "<div>\n",
       "<style scoped>\n",
       "    .dataframe tbody tr th:only-of-type {\n",
       "        vertical-align: middle;\n",
       "    }\n",
       "\n",
       "    .dataframe tbody tr th {\n",
       "        vertical-align: top;\n",
       "    }\n",
       "\n",
       "    .dataframe thead th {\n",
       "        text-align: right;\n",
       "    }\n",
       "</style>\n",
       "<table border=\"1\" class=\"dataframe\">\n",
       "  <thead>\n",
       "    <tr style=\"text-align: right;\">\n",
       "      <th></th>\n",
       "      <th>mean</th>\n",
       "      <th>count</th>\n",
       "      <th>median</th>\n",
       "    </tr>\n",
       "    <tr>\n",
       "      <th>rooms</th>\n",
       "      <th></th>\n",
       "      <th></th>\n",
       "      <th></th>\n",
       "    </tr>\n",
       "  </thead>\n",
       "  <tbody>\n",
       "    <tr>\n",
       "      <th>7</th>\n",
       "      <td>163569.491525</td>\n",
       "      <td>59</td>\n",
       "      <td>108827.0</td>\n",
       "    </tr>\n",
       "    <tr>\n",
       "      <th>0</th>\n",
       "      <td>108512.730964</td>\n",
       "      <td>197</td>\n",
       "      <td>105555.0</td>\n",
       "    </tr>\n",
       "    <tr>\n",
       "      <th>1</th>\n",
       "      <td>100817.830993</td>\n",
       "      <td>8047</td>\n",
       "      <td>100000.0</td>\n",
       "    </tr>\n",
       "    <tr>\n",
       "      <th>6</th>\n",
       "      <td>140718.342857</td>\n",
       "      <td>105</td>\n",
       "      <td>99411.0</td>\n",
       "    </tr>\n",
       "    <tr>\n",
       "      <th>5</th>\n",
       "      <td>126749.889571</td>\n",
       "      <td>326</td>\n",
       "      <td>96516.5</td>\n",
       "    </tr>\n",
       "    <tr>\n",
       "      <th>2</th>\n",
       "      <td>95489.207557</td>\n",
       "      <td>7940</td>\n",
       "      <td>92796.0</td>\n",
       "    </tr>\n",
       "    <tr>\n",
       "      <th>4</th>\n",
       "      <td>110331.160169</td>\n",
       "      <td>1180</td>\n",
       "      <td>92666.0</td>\n",
       "    </tr>\n",
       "    <tr>\n",
       "      <th>3</th>\n",
       "      <td>97150.694358</td>\n",
       "      <td>5814</td>\n",
       "      <td>88983.0</td>\n",
       "    </tr>\n",
       "  </tbody>\n",
       "</table>\n",
       "</div>"
      ],
      "text/plain": [
       "                mean  count    median\n",
       "rooms                                \n",
       "7      163569.491525     59  108827.0\n",
       "0      108512.730964    197  105555.0\n",
       "1      100817.830993   8047  100000.0\n",
       "6      140718.342857    105   99411.0\n",
       "5      126749.889571    326   96516.5\n",
       "2       95489.207557   7940   92796.0\n",
       "4      110331.160169   1180   92666.0\n",
       "3       97150.694358   5814   88983.0"
      ]
     },
     "execution_count": 60,
     "metadata": {},
     "output_type": "execute_result"
    }
   ],
   "source": [
    "pivot_table_rooms.query('count > 50').sort_values('median', ascending = False)"
   ]
  },
  {
   "cell_type": "code",
   "execution_count": 61,
   "metadata": {},
   "outputs": [
    {
     "data": {
      "text/plain": [
       "0.05541949967059219"
      ]
     },
     "execution_count": 61,
     "metadata": {},
     "output_type": "execute_result"
    }
   ],
   "source": [
    "sale_apart['rooms'].corr(sale_apart['price_meter'])"
   ]
  },
  {
   "cell_type": "markdown",
   "metadata": {},
   "source": [
    "**Выводы**\n",
    "\n",
    "Зависимость вообще очень слабая. Цена квадратного метра не зависит от количества комнат. Единственное, что можно отметить, так это, что стоимость квадратного метра становится чуть ниже, когда количество комнат в квартире - 3. "
   ]
  },
  {
   "cell_type": "markdown",
   "metadata": {},
   "source": [
    "- *Изучим зависимость цены квадратного метра от этажа (первого или последнего)*"
   ]
  },
  {
   "cell_type": "code",
   "execution_count": 63,
   "metadata": {},
   "outputs": [],
   "source": [
    "pivot_table_floor_category = sale_apart.pivot_table(index = 'floor_category', \n",
    "                                                    values = 'price_meter', \n",
    "                                                    aggfunc = ['mean', 'count', 'median'])\n",
    "pivot_table_floor_category.columns = ['mean', 'count', 'median']"
   ]
  },
  {
   "cell_type": "code",
   "execution_count": 64,
   "metadata": {},
   "outputs": [
    {
     "data": {
      "image/png": "[encoded data removed]",
      "text/plain": [
       "<Figure size 720x360 with 1 Axes>"
      ]
     },
     "metadata": {
      "needs_background": "light"
     },
     "output_type": "display_data"
    }
   ],
   "source": [
    "pivot_table_floor_category.plot(title = 'price dependence on the floor', \n",
    "                                y = 'median', \n",
    "                                kind='bar', \n",
    "                                figsize = (10,5))\n",
    "plt.show()"
   ]
  },
  {
   "cell_type": "code",
   "execution_count": 65,
   "metadata": {},
   "outputs": [
    {
     "data": {
      "text/html": [
       "<div>\n",
       "<style scoped>\n",
       "    .dataframe tbody tr th:only-of-type {\n",
       "        vertical-align: middle;\n",
       "    }\n",
       "\n",
       "    .dataframe tbody tr th {\n",
       "        vertical-align: top;\n",
       "    }\n",
       "\n",
       "    .dataframe thead th {\n",
       "        text-align: right;\n",
       "    }\n",
       "</style>\n",
       "<table border=\"1\" class=\"dataframe\">\n",
       "  <thead>\n",
       "    <tr style=\"text-align: right;\">\n",
       "      <th></th>\n",
       "      <th>mean</th>\n",
       "      <th>count</th>\n",
       "      <th>median</th>\n",
       "    </tr>\n",
       "    <tr>\n",
       "      <th>floor_category</th>\n",
       "      <th></th>\n",
       "      <th></th>\n",
       "      <th></th>\n",
       "    </tr>\n",
       "  </thead>\n",
       "  <tbody>\n",
       "    <tr>\n",
       "      <th>другой</th>\n",
       "      <td>103486.150204</td>\n",
       "      <td>17443</td>\n",
       "      <td>98290</td>\n",
       "    </tr>\n",
       "    <tr>\n",
       "      <th>первый</th>\n",
       "      <td>81983.111759</td>\n",
       "      <td>2917</td>\n",
       "      <td>81223</td>\n",
       "    </tr>\n",
       "    <tr>\n",
       "      <th>последний</th>\n",
       "      <td>93420.068284</td>\n",
       "      <td>3339</td>\n",
       "      <td>87777</td>\n",
       "    </tr>\n",
       "  </tbody>\n",
       "</table>\n",
       "</div>"
      ],
      "text/plain": [
       "                         mean  count  median\n",
       "floor_category                              \n",
       "другой          103486.150204  17443   98290\n",
       "первый           81983.111759   2917   81223\n",
       "последний        93420.068284   3339   87777"
      ]
     },
     "execution_count": 65,
     "metadata": {},
     "output_type": "execute_result"
    }
   ],
   "source": [
    "pivot_table_floor_category"
   ]
  },
  {
   "cell_type": "markdown",
   "metadata": {},
   "source": [
    "**Выводы**\n",
    "\n",
    "На последнем этаже цена квадратного метра выше, чем на первом, но ниже, чем на других этажах."
   ]
  },
  {
   "cell_type": "markdown",
   "metadata": {},
   "source": [
    "- *Изучим зависимость цены квадратного метра от удаленности от центра*"
   ]
  },
  {
   "cell_type": "code",
   "execution_count": 66,
   "metadata": {},
   "outputs": [
    {
     "data": {
      "image/png": "[encoded data removed]",
      "text/plain": [
       "<Figure size 720x360 with 1 Axes>"
      ]
     },
     "metadata": {
      "needs_background": "light"
     },
     "output_type": "display_data"
    }
   ],
   "source": [
    "sale_apart.plot(title = 'price dependence on distance from the center', \n",
    "                kind = 'scatter', \n",
    "                y = 'price_meter', \n",
    "                x = 'cityCenters_nearest', \n",
    "                alpha = 0.4, \n",
    "                figsize = (10,5))\n",
    "plt.show()"
   ]
  },
  {
   "cell_type": "code",
   "execution_count": 67,
   "metadata": {},
   "outputs": [
    {
     "data": {
      "text/plain": [
       "0.03461458166050166"
      ]
     },
     "execution_count": 67,
     "metadata": {},
     "output_type": "execute_result"
    }
   ],
   "source": [
    "sale_apart['cityCenters_nearest'].corr(sale_apart['price_meter'])"
   ]
  },
  {
   "cell_type": "markdown",
   "metadata": {},
   "source": [
    "**Выводы**\n",
    "\n",
    "Если рост одной величины связан с уменьшением другой, коэффициент отрицательный. Значит при увеличении цены квадратного метра, уменьшается удаленность от центра города. Так и показывает коэффициент корреляции -0.3."
   ]
  },
  {
   "cell_type": "markdown",
   "metadata": {},
   "source": [
    "- *Изучим зависимость цены квадратного метра от даты размещения: дня недели.*"
   ]
  },
  {
   "cell_type": "code",
   "execution_count": 68,
   "metadata": {},
   "outputs": [],
   "source": [
    "pivot_table_weekday_exposition = sale_apart.pivot_table(index = 'weekday_exposition', \n",
    "                                                        values = 'price_meter', \n",
    "                                                        aggfunc = ['mean', 'count', 'median'])\n",
    "pivot_table_weekday_exposition.columns = ['mean', 'count', 'median']"
   ]
  },
  {
   "cell_type": "code",
   "execution_count": 69,
   "metadata": {},
   "outputs": [
    {
     "data": {
      "image/png": "[encoded data removed]",
      "text/plain": [
       "<Figure size 720x360 with 1 Axes>"
      ]
     },
     "metadata": {
      "needs_background": "light"
     },
     "output_type": "display_data"
    }
   ],
   "source": [
    "pivot_table_weekday_exposition.plot(title = 'price dependence on weekday', \n",
    "                                    y = 'median', \n",
    "                                    figsize = (10,5), \n",
    "                                    style = 'o-')\n",
    "plt.show()"
   ]
  },
  {
   "cell_type": "code",
   "execution_count": 70,
   "metadata": {},
   "outputs": [
    {
     "data": {
      "text/html": [
       "<div>\n",
       "<style scoped>\n",
       "    .dataframe tbody tr th:only-of-type {\n",
       "        vertical-align: middle;\n",
       "    }\n",
       "\n",
       "    .dataframe tbody tr th {\n",
       "        vertical-align: top;\n",
       "    }\n",
       "\n",
       "    .dataframe thead th {\n",
       "        text-align: right;\n",
       "    }\n",
       "</style>\n",
       "<table border=\"1\" class=\"dataframe\">\n",
       "  <thead>\n",
       "    <tr style=\"text-align: right;\">\n",
       "      <th></th>\n",
       "      <th>mean</th>\n",
       "      <th>count</th>\n",
       "      <th>median</th>\n",
       "    </tr>\n",
       "    <tr>\n",
       "      <th>weekday_exposition</th>\n",
       "      <th></th>\n",
       "      <th></th>\n",
       "      <th></th>\n",
       "    </tr>\n",
       "  </thead>\n",
       "  <tbody>\n",
       "    <tr>\n",
       "      <th>1</th>\n",
       "      <td>99734.089410</td>\n",
       "      <td>4183</td>\n",
       "      <td>95634.0</td>\n",
       "    </tr>\n",
       "    <tr>\n",
       "      <th>2</th>\n",
       "      <td>99616.731002</td>\n",
       "      <td>3974</td>\n",
       "      <td>95473.0</td>\n",
       "    </tr>\n",
       "    <tr>\n",
       "      <th>3</th>\n",
       "      <td>100162.466356</td>\n",
       "      <td>4295</td>\n",
       "      <td>95143.0</td>\n",
       "    </tr>\n",
       "    <tr>\n",
       "      <th>0</th>\n",
       "      <td>99437.994463</td>\n",
       "      <td>3612</td>\n",
       "      <td>94688.0</td>\n",
       "    </tr>\n",
       "    <tr>\n",
       "      <th>4</th>\n",
       "      <td>99011.697000</td>\n",
       "      <td>4000</td>\n",
       "      <td>94616.0</td>\n",
       "    </tr>\n",
       "    <tr>\n",
       "      <th>6</th>\n",
       "      <td>97707.917010</td>\n",
       "      <td>1699</td>\n",
       "      <td>94501.0</td>\n",
       "    </tr>\n",
       "    <tr>\n",
       "      <th>5</th>\n",
       "      <td>99017.722107</td>\n",
       "      <td>1936</td>\n",
       "      <td>93545.5</td>\n",
       "    </tr>\n",
       "  </tbody>\n",
       "</table>\n",
       "</div>"
      ],
      "text/plain": [
       "                             mean  count   median\n",
       "weekday_exposition                               \n",
       "1                    99734.089410   4183  95634.0\n",
       "2                    99616.731002   3974  95473.0\n",
       "3                   100162.466356   4295  95143.0\n",
       "0                    99437.994463   3612  94688.0\n",
       "4                    99011.697000   4000  94616.0\n",
       "6                    97707.917010   1699  94501.0\n",
       "5                    99017.722107   1936  93545.5"
      ]
     },
     "execution_count": 70,
     "metadata": {},
     "output_type": "execute_result"
    }
   ],
   "source": [
    "pivot_table_weekday_exposition.sort_values('median', ascending = False)"
   ]
  },
  {
   "cell_type": "markdown",
   "metadata": {},
   "source": [
    "**Выводы**\n",
    "\n",
    "Во вторник размещают объявления с самой высокой стоимостью квадратного метра, в то время как в субботу с самой низкой стоимостью. Вообще, в рабочие дни начинается активность по просмотру объявлений. Это может быть связано с рабочими днями, когда люди сконцентрированы и не отвлекаются на отдых с семьей в выходные. "
   ]
  },
  {
   "cell_type": "markdown",
   "metadata": {},
   "source": [
    "- *Изучим зависимость цены квадратного метра от даты размещения: месяца.*"
   ]
  },
  {
   "cell_type": "code",
   "execution_count": 71,
   "metadata": {},
   "outputs": [],
   "source": [
    "pivot_table_month_exposition = sale_apart.pivot_table(index = 'month_exposition', \n",
    "                                                      values = 'price_meter', \n",
    "                                                      aggfunc = ['mean', 'count', 'median'])\n",
    "pivot_table_month_exposition.columns = ['mean', 'count', 'median']"
   ]
  },
  {
   "cell_type": "code",
   "execution_count": 72,
   "metadata": {},
   "outputs": [
    {
     "data": {
      "image/png": "[encoded data removed]",
      "text/plain": [
       "<Figure size 864x432 with 1 Axes>"
      ]
     },
     "metadata": {
      "needs_background": "light"
     },
     "output_type": "display_data"
    }
   ],
   "source": [
    "pivot_table_month_exposition.plot(title = 'price dependence on month', \n",
    "                                  y = 'median', \n",
    "                                  figsize = (12,6), \n",
    "                                  style = 'o-')\n",
    "plt.show()"
   ]
  },
  {
   "cell_type": "code",
   "execution_count": 73,
   "metadata": {},
   "outputs": [
    {
     "data": {
      "text/html": [
       "<div>\n",
       "<style scoped>\n",
       "    .dataframe tbody tr th:only-of-type {\n",
       "        vertical-align: middle;\n",
       "    }\n",
       "\n",
       "    .dataframe tbody tr th {\n",
       "        vertical-align: top;\n",
       "    }\n",
       "\n",
       "    .dataframe thead th {\n",
       "        text-align: right;\n",
       "    }\n",
       "</style>\n",
       "<table border=\"1\" class=\"dataframe\">\n",
       "  <thead>\n",
       "    <tr style=\"text-align: right;\">\n",
       "      <th></th>\n",
       "      <th>mean</th>\n",
       "      <th>count</th>\n",
       "      <th>median</th>\n",
       "    </tr>\n",
       "    <tr>\n",
       "      <th>month_exposition</th>\n",
       "      <th></th>\n",
       "      <th></th>\n",
       "      <th></th>\n",
       "    </tr>\n",
       "  </thead>\n",
       "  <tbody>\n",
       "    <tr>\n",
       "      <th>4</th>\n",
       "      <td>101948.567045</td>\n",
       "      <td>2379</td>\n",
       "      <td>96451</td>\n",
       "    </tr>\n",
       "    <tr>\n",
       "      <th>8</th>\n",
       "      <td>100110.094037</td>\n",
       "      <td>1744</td>\n",
       "      <td>96026</td>\n",
       "    </tr>\n",
       "    <tr>\n",
       "      <th>9</th>\n",
       "      <td>100463.814740</td>\n",
       "      <td>1981</td>\n",
       "      <td>95607</td>\n",
       "    </tr>\n",
       "    <tr>\n",
       "      <th>11</th>\n",
       "      <td>99230.427246</td>\n",
       "      <td>2371</td>\n",
       "      <td>95588</td>\n",
       "    </tr>\n",
       "    <tr>\n",
       "      <th>3</th>\n",
       "      <td>98972.768844</td>\n",
       "      <td>2587</td>\n",
       "      <td>95238</td>\n",
       "    </tr>\n",
       "    <tr>\n",
       "      <th>1</th>\n",
       "      <td>99862.139333</td>\n",
       "      <td>1500</td>\n",
       "      <td>95222</td>\n",
       "    </tr>\n",
       "    <tr>\n",
       "      <th>2</th>\n",
       "      <td>98768.292045</td>\n",
       "      <td>2640</td>\n",
       "      <td>95000</td>\n",
       "    </tr>\n",
       "    <tr>\n",
       "      <th>7</th>\n",
       "      <td>99625.190560</td>\n",
       "      <td>1695</td>\n",
       "      <td>95000</td>\n",
       "    </tr>\n",
       "    <tr>\n",
       "      <th>12</th>\n",
       "      <td>99574.280926</td>\n",
       "      <td>1641</td>\n",
       "      <td>94262</td>\n",
       "    </tr>\n",
       "    <tr>\n",
       "      <th>10</th>\n",
       "      <td>97933.448049</td>\n",
       "      <td>2127</td>\n",
       "      <td>94202</td>\n",
       "    </tr>\n",
       "    <tr>\n",
       "      <th>5</th>\n",
       "      <td>98543.340659</td>\n",
       "      <td>1274</td>\n",
       "      <td>92857</td>\n",
       "    </tr>\n",
       "    <tr>\n",
       "      <th>6</th>\n",
       "      <td>97762.870455</td>\n",
       "      <td>1760</td>\n",
       "      <td>92799</td>\n",
       "    </tr>\n",
       "  </tbody>\n",
       "</table>\n",
       "</div>"
      ],
      "text/plain": [
       "                           mean  count  median\n",
       "month_exposition                              \n",
       "4                 101948.567045   2379   96451\n",
       "8                 100110.094037   1744   96026\n",
       "9                 100463.814740   1981   95607\n",
       "11                 99230.427246   2371   95588\n",
       "3                  98972.768844   2587   95238\n",
       "1                  99862.139333   1500   95222\n",
       "2                  98768.292045   2640   95000\n",
       "7                  99625.190560   1695   95000\n",
       "12                 99574.280926   1641   94262\n",
       "10                 97933.448049   2127   94202\n",
       "5                  98543.340659   1274   92857\n",
       "6                  97762.870455   1760   92799"
      ]
     },
     "execution_count": 73,
     "metadata": {},
     "output_type": "execute_result"
    }
   ],
   "source": [
    "pivot_table_month_exposition.sort_values('median', ascending = False)"
   ]
  },
  {
   "cell_type": "markdown",
   "metadata": {},
   "source": [
    "**Выводы**\n",
    "\n",
    "Чаще всего цена квадратного метра подскакивает в апреле и в августе. Самая низкая стоимость в мае и июне. В начале лета у многих начинаются отпуска, поэтому и спрос на квартиры становится ниже."
   ]
  },
  {
   "cell_type": "markdown",
   "metadata": {},
   "source": [
    "- *Изучим зависимость цены квадратного метра от даты размещения: года.*"
   ]
  },
  {
   "cell_type": "code",
   "execution_count": 74,
   "metadata": {},
   "outputs": [],
   "source": [
    "pivot_table_year_exposition = sale_apart.pivot_table(index = 'year_exposition', \n",
    "                                                     values = 'price_meter', \n",
    "                                                     aggfunc = ['mean', 'count', 'median'])\n",
    "pivot_table_year_exposition.columns = ['mean', 'count', 'median']"
   ]
  },
  {
   "cell_type": "code",
   "execution_count": 75,
   "metadata": {},
   "outputs": [
    {
     "data": {
      "image/png": "[encoded data removed]",
      "text/plain": [
       "<Figure size 720x360 with 1 Axes>"
      ]
     },
     "metadata": {
      "needs_background": "light"
     },
     "output_type": "display_data"
    }
   ],
   "source": [
    "pivot_table_year_exposition.plot(title = 'price dependence on year', \n",
    "                                 y = 'median', \n",
    "                                 figsize = (10,5), \n",
    "                                 style = 'o-')\n",
    "plt.show()"
   ]
  },
  {
   "cell_type": "code",
   "execution_count": 76,
   "metadata": {},
   "outputs": [
    {
     "data": {
      "text/html": [
       "<div>\n",
       "<style scoped>\n",
       "    .dataframe tbody tr th:only-of-type {\n",
       "        vertical-align: middle;\n",
       "    }\n",
       "\n",
       "    .dataframe tbody tr th {\n",
       "        vertical-align: top;\n",
       "    }\n",
       "\n",
       "    .dataframe thead th {\n",
       "        text-align: right;\n",
       "    }\n",
       "</style>\n",
       "<table border=\"1\" class=\"dataframe\">\n",
       "  <thead>\n",
       "    <tr style=\"text-align: right;\">\n",
       "      <th></th>\n",
       "      <th>mean</th>\n",
       "      <th>count</th>\n",
       "      <th>median</th>\n",
       "    </tr>\n",
       "    <tr>\n",
       "      <th>year_exposition</th>\n",
       "      <th></th>\n",
       "      <th></th>\n",
       "      <th></th>\n",
       "    </tr>\n",
       "  </thead>\n",
       "  <tbody>\n",
       "    <tr>\n",
       "      <th>2014</th>\n",
       "      <td>124830.000000</td>\n",
       "      <td>137</td>\n",
       "      <td>107000.0</td>\n",
       "    </tr>\n",
       "    <tr>\n",
       "      <th>2019</th>\n",
       "      <td>107123.332060</td>\n",
       "      <td>2879</td>\n",
       "      <td>103305.0</td>\n",
       "    </tr>\n",
       "    <tr>\n",
       "      <th>2018</th>\n",
       "      <td>97773.107290</td>\n",
       "      <td>8519</td>\n",
       "      <td>95689.0</td>\n",
       "    </tr>\n",
       "    <tr>\n",
       "      <th>2015</th>\n",
       "      <td>104613.756507</td>\n",
       "      <td>1191</td>\n",
       "      <td>93414.0</td>\n",
       "    </tr>\n",
       "    <tr>\n",
       "      <th>2017</th>\n",
       "      <td>97621.434188</td>\n",
       "      <td>8190</td>\n",
       "      <td>92564.5</td>\n",
       "    </tr>\n",
       "    <tr>\n",
       "      <th>2016</th>\n",
       "      <td>98321.900467</td>\n",
       "      <td>2783</td>\n",
       "      <td>91743.0</td>\n",
       "    </tr>\n",
       "  </tbody>\n",
       "</table>\n",
       "</div>"
      ],
      "text/plain": [
       "                          mean  count    median\n",
       "year_exposition                                \n",
       "2014             124830.000000    137  107000.0\n",
       "2019             107123.332060   2879  103305.0\n",
       "2018              97773.107290   8519   95689.0\n",
       "2015             104613.756507   1191   93414.0\n",
       "2017              97621.434188   8190   92564.5\n",
       "2016              98321.900467   2783   91743.0"
      ]
     },
     "execution_count": 76,
     "metadata": {},
     "output_type": "execute_result"
    }
   ],
   "source": [
    "pivot_table_year_exposition.sort_values('median', ascending = False)"
   ]
  },
  {
   "cell_type": "markdown",
   "metadata": {},
   "source": [
    "**Выводы**\n",
    "\n",
    "Пик дорогих продаж недвижимости был в 2014 году, затем на протяжении двух лет цена за квадратный метр падала. В 2014 году был кризис, возможно это спад цен связан именно с ним. Затем после 2016 года цены вновь пошли вверх. "
   ]
  },
  {
   "cell_type": "markdown",
   "metadata": {},
   "source": [
    "- **Выберем 10 населённых пунктов с наибольшим числом объявлений. Выделим населённые пункты с самой высокой и низкой стоимостью жилья.**"
   ]
  },
  {
   "cell_type": "code",
   "execution_count": 77,
   "metadata": {},
   "outputs": [],
   "source": [
    "toplocality_pivot_table = sale_apart.pivot_table(index = 'locality_name', \n",
    "                                                 values = 'price_meter', \n",
    "                                                 aggfunc=['count', 'mean'])\n",
    "toplocality_pivot_table.columns = ['count', 'mean']\n",
    "toplocality_pivot_table = toplocality_pivot_table.sort_values('count', ascending = False).head(10)"
   ]
  },
  {
   "cell_type": "code",
   "execution_count": 78,
   "metadata": {},
   "outputs": [
    {
     "data": {
      "text/html": [
       "<div>\n",
       "<style scoped>\n",
       "    .dataframe tbody tr th:only-of-type {\n",
       "        vertical-align: middle;\n",
       "    }\n",
       "\n",
       "    .dataframe tbody tr th {\n",
       "        vertical-align: top;\n",
       "    }\n",
       "\n",
       "    .dataframe thead th {\n",
       "        text-align: right;\n",
       "    }\n",
       "</style>\n",
       "<table border=\"1\" class=\"dataframe\">\n",
       "  <thead>\n",
       "    <tr style=\"text-align: right;\">\n",
       "      <th></th>\n",
       "      <th>count</th>\n",
       "      <th>mean</th>\n",
       "    </tr>\n",
       "    <tr>\n",
       "      <th>locality_name</th>\n",
       "      <th></th>\n",
       "      <th></th>\n",
       "    </tr>\n",
       "  </thead>\n",
       "  <tbody>\n",
       "    <tr>\n",
       "      <th>Санкт-Петербург</th>\n",
       "      <td>15721</td>\n",
       "      <td>114848.565231</td>\n",
       "    </tr>\n",
       "    <tr>\n",
       "      <th>Мурино</th>\n",
       "      <td>556</td>\n",
       "      <td>85681.305755</td>\n",
       "    </tr>\n",
       "    <tr>\n",
       "      <th>Шушары</th>\n",
       "      <td>440</td>\n",
       "      <td>78676.904545</td>\n",
       "    </tr>\n",
       "    <tr>\n",
       "      <th>Всеволожск</th>\n",
       "      <td>398</td>\n",
       "      <td>68654.007538</td>\n",
       "    </tr>\n",
       "    <tr>\n",
       "      <th>Пушкин</th>\n",
       "      <td>369</td>\n",
       "      <td>103125.373984</td>\n",
       "    </tr>\n",
       "    <tr>\n",
       "      <th>Колпино</th>\n",
       "      <td>338</td>\n",
       "      <td>75424.150888</td>\n",
       "    </tr>\n",
       "    <tr>\n",
       "      <th>Парголово</th>\n",
       "      <td>327</td>\n",
       "      <td>90175.489297</td>\n",
       "    </tr>\n",
       "    <tr>\n",
       "      <th>Гатчина</th>\n",
       "      <td>307</td>\n",
       "      <td>68745.693811</td>\n",
       "    </tr>\n",
       "    <tr>\n",
       "      <th>Кудрово</th>\n",
       "      <td>299</td>\n",
       "      <td>92473.086957</td>\n",
       "    </tr>\n",
       "    <tr>\n",
       "      <th>Выборг</th>\n",
       "      <td>237</td>\n",
       "      <td>58141.489451</td>\n",
       "    </tr>\n",
       "  </tbody>\n",
       "</table>\n",
       "</div>"
      ],
      "text/plain": [
       "                 count           mean\n",
       "locality_name                        \n",
       "Санкт-Петербург  15721  114848.565231\n",
       " Мурино            556   85681.305755\n",
       " Шушары            440   78676.904545\n",
       "Всеволожск         398   68654.007538\n",
       "Пушкин             369  103125.373984\n",
       "Колпино            338   75424.150888\n",
       " Парголово         327   90175.489297\n",
       "Гатчина            307   68745.693811\n",
       " Кудрово           299   92473.086957\n",
       "Выборг             237   58141.489451"
      ]
     },
     "execution_count": 78,
     "metadata": {},
     "output_type": "execute_result"
    }
   ],
   "source": [
    "toplocality_pivot_table"
   ]
  },
  {
   "cell_type": "code",
   "execution_count": 79,
   "metadata": {},
   "outputs": [
    {
     "data": {
      "text/html": [
       "<div>\n",
       "<style scoped>\n",
       "    .dataframe tbody tr th:only-of-type {\n",
       "        vertical-align: middle;\n",
       "    }\n",
       "\n",
       "    .dataframe tbody tr th {\n",
       "        vertical-align: top;\n",
       "    }\n",
       "\n",
       "    .dataframe thead th {\n",
       "        text-align: right;\n",
       "    }\n",
       "</style>\n",
       "<table border=\"1\" class=\"dataframe\">\n",
       "  <thead>\n",
       "    <tr style=\"text-align: right;\">\n",
       "      <th></th>\n",
       "      <th>count</th>\n",
       "      <th>mean</th>\n",
       "    </tr>\n",
       "    <tr>\n",
       "      <th>locality_name</th>\n",
       "      <th></th>\n",
       "      <th></th>\n",
       "    </tr>\n",
       "  </thead>\n",
       "  <tbody>\n",
       "    <tr>\n",
       "      <th>Санкт-Петербург</th>\n",
       "      <td>15721</td>\n",
       "      <td>114848.565231</td>\n",
       "    </tr>\n",
       "  </tbody>\n",
       "</table>\n",
       "</div>"
      ],
      "text/plain": [
       "                 count           mean\n",
       "locality_name                        \n",
       "Санкт-Петербург  15721  114848.565231"
      ]
     },
     "execution_count": 79,
     "metadata": {},
     "output_type": "execute_result"
    }
   ],
   "source": [
    "toplocality_pivot_table[toplocality_pivot_table['mean']==toplocality_pivot_table['mean'].max()]"
   ]
  },
  {
   "cell_type": "code",
   "execution_count": 80,
   "metadata": {},
   "outputs": [
    {
     "data": {
      "text/html": [
       "<div>\n",
       "<style scoped>\n",
       "    .dataframe tbody tr th:only-of-type {\n",
       "        vertical-align: middle;\n",
       "    }\n",
       "\n",
       "    .dataframe tbody tr th {\n",
       "        vertical-align: top;\n",
       "    }\n",
       "\n",
       "    .dataframe thead th {\n",
       "        text-align: right;\n",
       "    }\n",
       "</style>\n",
       "<table border=\"1\" class=\"dataframe\">\n",
       "  <thead>\n",
       "    <tr style=\"text-align: right;\">\n",
       "      <th></th>\n",
       "      <th>count</th>\n",
       "      <th>mean</th>\n",
       "    </tr>\n",
       "    <tr>\n",
       "      <th>locality_name</th>\n",
       "      <th></th>\n",
       "      <th></th>\n",
       "    </tr>\n",
       "  </thead>\n",
       "  <tbody>\n",
       "    <tr>\n",
       "      <th>Выборг</th>\n",
       "      <td>237</td>\n",
       "      <td>58141.489451</td>\n",
       "    </tr>\n",
       "  </tbody>\n",
       "</table>\n",
       "</div>"
      ],
      "text/plain": [
       "               count          mean\n",
       "locality_name                     \n",
       "Выборг           237  58141.489451"
      ]
     },
     "execution_count": 80,
     "metadata": {},
     "output_type": "execute_result"
    }
   ],
   "source": [
    "toplocality_pivot_table[toplocality_pivot_table['mean']==toplocality_pivot_table['mean'].min()]"
   ]
  },
  {
   "cell_type": "markdown",
   "metadata": {},
   "source": [
    "**Выводы**\n",
    "\n",
    "Наибольшее число объявлений собрали такие населенные пункты как Санкт_Петербург, поселок Мурино, поселок Шушары, Всеволожск, Пушкин, Колпино, поселок Парголово, Гатчина, деревня Кудрово и Выборг. Максимальная цена за квадратный метр, логично, в Санкт_петербурге, а минимальная в Выборге. "
   ]
  },
  {
   "cell_type": "markdown",
   "metadata": {},
   "source": [
    "- **Выясним, какая область входит в центр Санкт-Петербурга. А также посмотрим, как цена зависит от удалённости от центра.**"
   ]
  },
  {
   "cell_type": "code",
   "execution_count": 81,
   "metadata": {},
   "outputs": [],
   "source": [
    "sale_apart['cityCenters_nearest_km'] = sale_apart['cityCenters_nearest']/1000\n",
    "sale_apart['cityCenters_nearest_km'] = sale_apart['cityCenters_nearest_km'].fillna(999999)\n",
    "sale_apart['cityCenters_nearest_km'] = sale_apart['cityCenters_nearest_km'].astype('int')"
   ]
  },
  {
   "cell_type": "code",
   "execution_count": 82,
   "metadata": {},
   "outputs": [],
   "source": [
    "pivot_table_km = sale_apart.query('locality_name == \"Санкт-Петербург\" and cityCenters_nearest_km !=999999').pivot_table(index = 'cityCenters_nearest_km', \n",
    "                                                                                                                        values = 'price_meter', \n",
    "                                                                                                                        aggfunc = 'mean')"
   ]
  },
  {
   "cell_type": "code",
   "execution_count": 83,
   "metadata": {},
   "outputs": [
    {
     "data": {
      "image/png": "[encoded data removed]",
      "text/plain": [
       "<Figure size 1080x360 with 1 Axes>"
      ]
     },
     "metadata": {
      "needs_background": "light"
     },
     "output_type": "display_data"
    }
   ],
   "source": [
    "pivot_table_km.plot(title = 'remoteness of apartments from the city center', \n",
    "                    y = 'price_meter', \n",
    "                    figsize = (15,5), \n",
    "                    style = 'o-')\n",
    "plt.show()"
   ]
  },
  {
   "cell_type": "code",
   "execution_count": 84,
   "metadata": {},
   "outputs": [
    {
     "data": {
      "text/html": [
       "<div>\n",
       "<style scoped>\n",
       "    .dataframe tbody tr th:only-of-type {\n",
       "        vertical-align: middle;\n",
       "    }\n",
       "\n",
       "    .dataframe tbody tr th {\n",
       "        vertical-align: top;\n",
       "    }\n",
       "\n",
       "    .dataframe thead th {\n",
       "        text-align: right;\n",
       "    }\n",
       "</style>\n",
       "<table border=\"1\" class=\"dataframe\">\n",
       "  <thead>\n",
       "    <tr style=\"text-align: right;\">\n",
       "      <th></th>\n",
       "      <th>price_meter</th>\n",
       "    </tr>\n",
       "    <tr>\n",
       "      <th>cityCenters_nearest_km</th>\n",
       "      <th></th>\n",
       "    </tr>\n",
       "  </thead>\n",
       "  <tbody>\n",
       "    <tr>\n",
       "      <th>0</th>\n",
       "      <td>174401.571429</td>\n",
       "    </tr>\n",
       "    <tr>\n",
       "      <th>1</th>\n",
       "      <td>166603.312500</td>\n",
       "    </tr>\n",
       "    <tr>\n",
       "      <th>2</th>\n",
       "      <td>146662.420195</td>\n",
       "    </tr>\n",
       "    <tr>\n",
       "      <th>3</th>\n",
       "      <td>129415.891635</td>\n",
       "    </tr>\n",
       "    <tr>\n",
       "      <th>4</th>\n",
       "      <td>137475.039691</td>\n",
       "    </tr>\n",
       "    <tr>\n",
       "      <th>5</th>\n",
       "      <td>146978.789337</td>\n",
       "    </tr>\n",
       "    <tr>\n",
       "      <th>6</th>\n",
       "      <td>152277.455319</td>\n",
       "    </tr>\n",
       "    <tr>\n",
       "      <th>7</th>\n",
       "      <td>141399.287469</td>\n",
       "    </tr>\n",
       "    <tr>\n",
       "      <th>8</th>\n",
       "      <td>120580.929851</td>\n",
       "    </tr>\n",
       "    <tr>\n",
       "      <th>9</th>\n",
       "      <td>110012.108696</td>\n",
       "    </tr>\n",
       "    <tr>\n",
       "      <th>10</th>\n",
       "      <td>111640.850877</td>\n",
       "    </tr>\n",
       "    <tr>\n",
       "      <th>11</th>\n",
       "      <td>106790.438163</td>\n",
       "    </tr>\n",
       "    <tr>\n",
       "      <th>12</th>\n",
       "      <td>108295.312211</td>\n",
       "    </tr>\n",
       "    <tr>\n",
       "      <th>13</th>\n",
       "      <td>107208.716120</td>\n",
       "    </tr>\n",
       "    <tr>\n",
       "      <th>14</th>\n",
       "      <td>104986.032407</td>\n",
       "    </tr>\n",
       "    <tr>\n",
       "      <th>15</th>\n",
       "      <td>101882.678077</td>\n",
       "    </tr>\n",
       "    <tr>\n",
       "      <th>16</th>\n",
       "      <td>100085.150995</td>\n",
       "    </tr>\n",
       "    <tr>\n",
       "      <th>17</th>\n",
       "      <td>94095.434457</td>\n",
       "    </tr>\n",
       "    <tr>\n",
       "      <th>18</th>\n",
       "      <td>94831.528736</td>\n",
       "    </tr>\n",
       "    <tr>\n",
       "      <th>19</th>\n",
       "      <td>95433.951220</td>\n",
       "    </tr>\n",
       "    <tr>\n",
       "      <th>20</th>\n",
       "      <td>107045.773810</td>\n",
       "    </tr>\n",
       "    <tr>\n",
       "      <th>21</th>\n",
       "      <td>91492.220513</td>\n",
       "    </tr>\n",
       "    <tr>\n",
       "      <th>22</th>\n",
       "      <td>88714.237410</td>\n",
       "    </tr>\n",
       "    <tr>\n",
       "      <th>23</th>\n",
       "      <td>92720.233333</td>\n",
       "    </tr>\n",
       "    <tr>\n",
       "      <th>24</th>\n",
       "      <td>82439.909091</td>\n",
       "    </tr>\n",
       "    <tr>\n",
       "      <th>25</th>\n",
       "      <td>91135.600000</td>\n",
       "    </tr>\n",
       "    <tr>\n",
       "      <th>26</th>\n",
       "      <td>75171.333333</td>\n",
       "    </tr>\n",
       "    <tr>\n",
       "      <th>27</th>\n",
       "      <td>132115.000000</td>\n",
       "    </tr>\n",
       "    <tr>\n",
       "      <th>28</th>\n",
       "      <td>81840.200000</td>\n",
       "    </tr>\n",
       "    <tr>\n",
       "      <th>29</th>\n",
       "      <td>62481.666667</td>\n",
       "    </tr>\n",
       "  </tbody>\n",
       "</table>\n",
       "</div>"
      ],
      "text/plain": [
       "                          price_meter\n",
       "cityCenters_nearest_km               \n",
       "0                       174401.571429\n",
       "1                       166603.312500\n",
       "2                       146662.420195\n",
       "3                       129415.891635\n",
       "4                       137475.039691\n",
       "5                       146978.789337\n",
       "6                       152277.455319\n",
       "7                       141399.287469\n",
       "8                       120580.929851\n",
       "9                       110012.108696\n",
       "10                      111640.850877\n",
       "11                      106790.438163\n",
       "12                      108295.312211\n",
       "13                      107208.716120\n",
       "14                      104986.032407\n",
       "15                      101882.678077\n",
       "16                      100085.150995\n",
       "17                       94095.434457\n",
       "18                       94831.528736\n",
       "19                       95433.951220\n",
       "20                      107045.773810\n",
       "21                       91492.220513\n",
       "22                       88714.237410\n",
       "23                       92720.233333\n",
       "24                       82439.909091\n",
       "25                       91135.600000\n",
       "26                       75171.333333\n",
       "27                      132115.000000\n",
       "28                       81840.200000\n",
       "29                       62481.666667"
      ]
     },
     "execution_count": 84,
     "metadata": {},
     "output_type": "execute_result"
    }
   ],
   "source": [
    "pivot_table_km"
   ]
  },
  {
   "cell_type": "markdown",
   "metadata": {},
   "source": [
    "**Выводы**\n",
    "\n",
    "График показывает нам, что цены на квадратный метр дороже естественно в самом центре, в 5 км от центра. Есть еще пик цен в 27 км от центра. Возможно там находится какой-то исторический район или город, где проживание подороже. График сильно меняется после 9 км - там цены постоянно падают, кропе пик в 20 км и в 27 км. "
   ]
  },
  {
   "cell_type": "markdown",
   "metadata": {},
   "source": [
    "- **Выделим сегмент квартир в центре. Проанализируем эту территорию и изучим следующие параметры: площадь, цена, число комнат, высота потолков. Также выделим факторы, которые влияют на стоимость квартиры (число комнат, этаж, удалённость от центра, дата размещения объявления).**"
   ]
  },
  {
   "cell_type": "code",
   "execution_count": 85,
   "metadata": {},
   "outputs": [],
   "source": [
    "#выделим квартиры в центре, беря за радиус 9 км\n",
    "\n",
    "center_spb_data = sale_apart.query('cityCenters_nearest_km <= 9 and locality_name == \"Санкт-Петербург\"')"
   ]
  },
  {
   "cell_type": "markdown",
   "metadata": {},
   "source": [
    "- *Зависимость стоимости квадратного метра от количества комнат.*"
   ]
  },
  {
   "cell_type": "code",
   "execution_count": 86,
   "metadata": {},
   "outputs": [
    {
     "data": {
      "image/png": "[encoded data removed]",
      "text/plain": [
       "<Figure size 720x360 with 1 Axes>"
      ]
     },
     "metadata": {
      "needs_background": "light"
     },
     "output_type": "display_data"
    }
   ],
   "source": [
    "center_spb_rooms = center_spb_data.pivot_table(index = 'rooms', \n",
    "                                               values = 'price_meter', \n",
    "                                               aggfunc = ['mean', 'count', 'median'])\n",
    "center_spb_rooms.columns = ['mean', 'count', 'median']\n",
    "center_spb_rooms.query('count > 50').plot(y = 'median', \n",
    "                                          title = 'price dependence on rooms in the city center', \n",
    "                                          figsize = (10,5), \n",
    "                                          style = 'o-')\n",
    "plt.show()"
   ]
  },
  {
   "cell_type": "code",
   "execution_count": 87,
   "metadata": {},
   "outputs": [
    {
     "data": {
      "text/html": [
       "<div>\n",
       "<style scoped>\n",
       "    .dataframe tbody tr th:only-of-type {\n",
       "        vertical-align: middle;\n",
       "    }\n",
       "\n",
       "    .dataframe tbody tr th {\n",
       "        vertical-align: top;\n",
       "    }\n",
       "\n",
       "    .dataframe thead th {\n",
       "        text-align: right;\n",
       "    }\n",
       "</style>\n",
       "<table border=\"1\" class=\"dataframe\">\n",
       "  <thead>\n",
       "    <tr style=\"text-align: right;\">\n",
       "      <th></th>\n",
       "      <th>mean</th>\n",
       "      <th>count</th>\n",
       "      <th>median</th>\n",
       "    </tr>\n",
       "    <tr>\n",
       "      <th>rooms</th>\n",
       "      <th></th>\n",
       "      <th></th>\n",
       "      <th></th>\n",
       "    </tr>\n",
       "  </thead>\n",
       "  <tbody>\n",
       "    <tr>\n",
       "      <th>1</th>\n",
       "      <td>137796.259557</td>\n",
       "      <td>994</td>\n",
       "      <td>128752.5</td>\n",
       "    </tr>\n",
       "    <tr>\n",
       "      <th>2</th>\n",
       "      <td>132857.374452</td>\n",
       "      <td>1597</td>\n",
       "      <td>119303.0</td>\n",
       "    </tr>\n",
       "    <tr>\n",
       "      <th>3</th>\n",
       "      <td>136376.988889</td>\n",
       "      <td>1530</td>\n",
       "      <td>113669.5</td>\n",
       "    </tr>\n",
       "    <tr>\n",
       "      <th>7</th>\n",
       "      <td>168247.553571</td>\n",
       "      <td>56</td>\n",
       "      <td>109996.0</td>\n",
       "    </tr>\n",
       "    <tr>\n",
       "      <th>4</th>\n",
       "      <td>138385.205172</td>\n",
       "      <td>580</td>\n",
       "      <td>109539.5</td>\n",
       "    </tr>\n",
       "    <tr>\n",
       "      <th>5</th>\n",
       "      <td>143547.412017</td>\n",
       "      <td>233</td>\n",
       "      <td>104150.0</td>\n",
       "    </tr>\n",
       "    <tr>\n",
       "      <th>6</th>\n",
       "      <td>151238.348315</td>\n",
       "      <td>89</td>\n",
       "      <td>103361.0</td>\n",
       "    </tr>\n",
       "  </tbody>\n",
       "</table>\n",
       "</div>"
      ],
      "text/plain": [
       "                mean  count    median\n",
       "rooms                                \n",
       "1      137796.259557    994  128752.5\n",
       "2      132857.374452   1597  119303.0\n",
       "3      136376.988889   1530  113669.5\n",
       "7      168247.553571     56  109996.0\n",
       "4      138385.205172    580  109539.5\n",
       "5      143547.412017    233  104150.0\n",
       "6      151238.348315     89  103361.0"
      ]
     },
     "execution_count": 87,
     "metadata": {},
     "output_type": "execute_result"
    }
   ],
   "source": [
    "center_spb_rooms.query('count > 50').sort_values('median', ascending = False)"
   ]
  },
  {
   "cell_type": "code",
   "execution_count": 88,
   "metadata": {},
   "outputs": [
    {
     "data": {
      "text/plain": [
       "0.03650992122767687"
      ]
     },
     "execution_count": 88,
     "metadata": {},
     "output_type": "execute_result"
    }
   ],
   "source": [
    "center_spb_data['rooms'].corr(center_spb_data['price_meter'])"
   ]
  },
  {
   "cell_type": "markdown",
   "metadata": {},
   "source": [
    "**Выводы**\n",
    "\n",
    "График показывает, что в центре города, цена квадратного метра выше, чем меньше комнат. Но корреляция очень слабая, по ней нельзя говорить о какой-то зависимости. "
   ]
  },
  {
   "cell_type": "markdown",
   "metadata": {},
   "source": [
    "- *Зависимость стоимости квадратного метра от этажа.*"
   ]
  },
  {
   "cell_type": "code",
   "execution_count": 89,
   "metadata": {},
   "outputs": [
    {
     "data": {
      "image/png": "[encoded data removed]",
      "text/plain": [
       "<Figure size 432x288 with 1 Axes>"
      ]
     },
     "metadata": {
      "needs_background": "light"
     },
     "output_type": "display_data"
    }
   ],
   "source": [
    "center_spb_floor_category = center_spb_data.pivot_table(index = 'floor_category', \n",
    "                                                        values = 'price_meter', \n",
    "                                                        aggfunc = ['mean', 'count', 'median'])\n",
    "center_spb_floor_category.columns = ['mean', 'count', 'median']\n",
    "center_spb_floor_category.plot(title = 'price dependence on the floor in the city center', \n",
    "                               y = 'median', \n",
    "                               kind='bar')\n",
    "plt.show()"
   ]
  },
  {
   "cell_type": "code",
   "execution_count": 90,
   "metadata": {},
   "outputs": [
    {
     "data": {
      "text/html": [
       "<div>\n",
       "<style scoped>\n",
       "    .dataframe tbody tr th:only-of-type {\n",
       "        vertical-align: middle;\n",
       "    }\n",
       "\n",
       "    .dataframe tbody tr th {\n",
       "        vertical-align: top;\n",
       "    }\n",
       "\n",
       "    .dataframe thead th {\n",
       "        text-align: right;\n",
       "    }\n",
       "</style>\n",
       "<table border=\"1\" class=\"dataframe\">\n",
       "  <thead>\n",
       "    <tr style=\"text-align: right;\">\n",
       "      <th></th>\n",
       "      <th>mean</th>\n",
       "      <th>count</th>\n",
       "      <th>median</th>\n",
       "    </tr>\n",
       "    <tr>\n",
       "      <th>floor_category</th>\n",
       "      <th></th>\n",
       "      <th></th>\n",
       "      <th></th>\n",
       "    </tr>\n",
       "  </thead>\n",
       "  <tbody>\n",
       "    <tr>\n",
       "      <th>другой</th>\n",
       "      <td>139337.555112</td>\n",
       "      <td>3756</td>\n",
       "      <td>122222</td>\n",
       "    </tr>\n",
       "    <tr>\n",
       "      <th>первый</th>\n",
       "      <td>117696.693609</td>\n",
       "      <td>532</td>\n",
       "      <td>104050</td>\n",
       "    </tr>\n",
       "    <tr>\n",
       "      <th>последний</th>\n",
       "      <td>137618.333728</td>\n",
       "      <td>845</td>\n",
       "      <td>113333</td>\n",
       "    </tr>\n",
       "  </tbody>\n",
       "</table>\n",
       "</div>"
      ],
      "text/plain": [
       "                         mean  count  median\n",
       "floor_category                              \n",
       "другой          139337.555112   3756  122222\n",
       "первый          117696.693609    532  104050\n",
       "последний       137618.333728    845  113333"
      ]
     },
     "execution_count": 90,
     "metadata": {},
     "output_type": "execute_result"
    }
   ],
   "source": [
    "center_spb_floor_category"
   ]
  },
  {
   "cell_type": "markdown",
   "metadata": {},
   "source": [
    "**Выводы**\n",
    "\n",
    "Также как и в общей выборке, на последнем этаже цена квадратного метра стоит дороже, чем на первом, но дешевле, чем на других этажах.  "
   ]
  },
  {
   "cell_type": "markdown",
   "metadata": {},
   "source": [
    "- *Зависимость стоимости квадратного метра от удаленности от центра.*"
   ]
  },
  {
   "cell_type": "code",
   "execution_count": 91,
   "metadata": {},
   "outputs": [
    {
     "data": {
      "image/png": "[encoded data removed]",
      "text/plain": [
       "<Figure size 720x360 with 1 Axes>"
      ]
     },
     "metadata": {
      "needs_background": "light"
     },
     "output_type": "display_data"
    }
   ],
   "source": [
    "center_spb_data.plot(title= 'dependence of the price on the distance from the center in the city center',\n",
    "                     kind = 'scatter', \n",
    "                     y = 'price_meter', \n",
    "                     x = 'cityCenters_nearest', \n",
    "                     alpha = 0.3, \n",
    "                     figsize = (10,5))\n",
    "plt.show()"
   ]
  },
  {
   "cell_type": "code",
   "execution_count": 92,
   "metadata": {},
   "outputs": [
    {
     "data": {
      "text/plain": [
       "-0.14754734379693676"
      ]
     },
     "execution_count": 92,
     "metadata": {},
     "output_type": "execute_result"
    }
   ],
   "source": [
    "center_spb_data['cityCenters_nearest'].corr(center_spb_data['price_meter'])"
   ]
  },
  {
   "cell_type": "markdown",
   "metadata": {},
   "source": [
    "**Выводы**\n",
    "\n",
    "Так как мы и так рассматриваем центр, то зависимости никакой не наблюдается. Цена квадратного метра равномерно распределилась по всему радиусу в 9 км. "
   ]
  },
  {
   "cell_type": "markdown",
   "metadata": {},
   "source": [
    "- *Зависимость стоимости квадратного метра от дня недели размещения объявления.*"
   ]
  },
  {
   "cell_type": "code",
   "execution_count": 93,
   "metadata": {},
   "outputs": [
    {
     "data": {
      "image/png": "[encoded data removed]",
      "text/plain": [
       "<Figure size 720x360 with 1 Axes>"
      ]
     },
     "metadata": {
      "needs_background": "light"
     },
     "output_type": "display_data"
    }
   ],
   "source": [
    "center_spb_weekday_exposition = center_spb_data.pivot_table(index = 'weekday_exposition', \n",
    "                                                            values = 'price_meter', \n",
    "                                                            aggfunc = ['mean', 'count', 'median'])\n",
    "center_spb_weekday_exposition.columns = ['mean', 'count', 'median']\n",
    "center_spb_weekday_exposition.plot(title = 'dependence of the price on the weekday in the city center', \n",
    "                                   y = 'median', \n",
    "                                   figsize = (10,5), \n",
    "                                   style = 'o-')\n",
    "plt.show()"
   ]
  },
  {
   "cell_type": "code",
   "execution_count": 94,
   "metadata": {},
   "outputs": [
    {
     "data": {
      "text/html": [
       "<div>\n",
       "<style scoped>\n",
       "    .dataframe tbody tr th:only-of-type {\n",
       "        vertical-align: middle;\n",
       "    }\n",
       "\n",
       "    .dataframe tbody tr th {\n",
       "        vertical-align: top;\n",
       "    }\n",
       "\n",
       "    .dataframe thead th {\n",
       "        text-align: right;\n",
       "    }\n",
       "</style>\n",
       "<table border=\"1\" class=\"dataframe\">\n",
       "  <thead>\n",
       "    <tr style=\"text-align: right;\">\n",
       "      <th></th>\n",
       "      <th>mean</th>\n",
       "      <th>count</th>\n",
       "      <th>median</th>\n",
       "    </tr>\n",
       "    <tr>\n",
       "      <th>weekday_exposition</th>\n",
       "      <th></th>\n",
       "      <th></th>\n",
       "      <th></th>\n",
       "    </tr>\n",
       "  </thead>\n",
       "  <tbody>\n",
       "    <tr>\n",
       "      <th>6</th>\n",
       "      <td>136283.271605</td>\n",
       "      <td>324</td>\n",
       "      <td>123402.0</td>\n",
       "    </tr>\n",
       "    <tr>\n",
       "      <th>5</th>\n",
       "      <td>145386.288360</td>\n",
       "      <td>378</td>\n",
       "      <td>121196.0</td>\n",
       "    </tr>\n",
       "    <tr>\n",
       "      <th>0</th>\n",
       "      <td>137823.069620</td>\n",
       "      <td>790</td>\n",
       "      <td>119470.5</td>\n",
       "    </tr>\n",
       "    <tr>\n",
       "      <th>2</th>\n",
       "      <td>135621.423299</td>\n",
       "      <td>867</td>\n",
       "      <td>118915.0</td>\n",
       "    </tr>\n",
       "    <tr>\n",
       "      <th>4</th>\n",
       "      <td>134633.243560</td>\n",
       "      <td>854</td>\n",
       "      <td>117936.5</td>\n",
       "    </tr>\n",
       "    <tr>\n",
       "      <th>3</th>\n",
       "      <td>137104.442495</td>\n",
       "      <td>1026</td>\n",
       "      <td>117916.5</td>\n",
       "    </tr>\n",
       "    <tr>\n",
       "      <th>1</th>\n",
       "      <td>135382.825503</td>\n",
       "      <td>894</td>\n",
       "      <td>116884.5</td>\n",
       "    </tr>\n",
       "  </tbody>\n",
       "</table>\n",
       "</div>"
      ],
      "text/plain": [
       "                             mean  count    median\n",
       "weekday_exposition                                \n",
       "6                   136283.271605    324  123402.0\n",
       "5                   145386.288360    378  121196.0\n",
       "0                   137823.069620    790  119470.5\n",
       "2                   135621.423299    867  118915.0\n",
       "4                   134633.243560    854  117936.5\n",
       "3                   137104.442495   1026  117916.5\n",
       "1                   135382.825503    894  116884.5"
      ]
     },
     "execution_count": 94,
     "metadata": {},
     "output_type": "execute_result"
    }
   ],
   "source": [
    "center_spb_weekday_exposition.sort_values('median', ascending = False)"
   ]
  },
  {
   "cell_type": "markdown",
   "metadata": {},
   "source": [
    "**Выводы**\n",
    "\n",
    "В центре получилась другая ситуация в отличие от всей выборки. Меньше всего объявлений во вторник и в принципе в будни, а вот в субботу и воскресенье самый ажиотаж на рынке недвижимости. "
   ]
  },
  {
   "cell_type": "markdown",
   "metadata": {},
   "source": [
    "- *Зависимость стоимости квадратного метра от месяца размещения объявления.*"
   ]
  },
  {
   "cell_type": "code",
   "execution_count": 95,
   "metadata": {},
   "outputs": [
    {
     "data": {
      "image/png": "[encoded data removed]",
      "text/plain": [
       "<Figure size 720x360 with 1 Axes>"
      ]
     },
     "metadata": {
      "needs_background": "light"
     },
     "output_type": "display_data"
    }
   ],
   "source": [
    "center_spb_month_exposition = center_spb_data.pivot_table(index = 'month_exposition', \n",
    "                                                          values = 'price_meter', \n",
    "                                                          aggfunc = ['mean', 'count', 'median'])\n",
    "center_spb_month_exposition.columns = ['mean', 'count', 'median']\n",
    "center_spb_month_exposition.plot(title = 'dependence of the price on the month in the city center', \n",
    "                                 y = 'median', \n",
    "                                 figsize = (10,5), \n",
    "                                 style = 'o-')\n",
    "plt.show()"
   ]
  },
  {
   "cell_type": "code",
   "execution_count": 96,
   "metadata": {},
   "outputs": [
    {
     "data": {
      "text/html": [
       "<div>\n",
       "<style scoped>\n",
       "    .dataframe tbody tr th:only-of-type {\n",
       "        vertical-align: middle;\n",
       "    }\n",
       "\n",
       "    .dataframe tbody tr th {\n",
       "        vertical-align: top;\n",
       "    }\n",
       "\n",
       "    .dataframe thead th {\n",
       "        text-align: right;\n",
       "    }\n",
       "</style>\n",
       "<table border=\"1\" class=\"dataframe\">\n",
       "  <thead>\n",
       "    <tr style=\"text-align: right;\">\n",
       "      <th></th>\n",
       "      <th>mean</th>\n",
       "      <th>count</th>\n",
       "      <th>median</th>\n",
       "    </tr>\n",
       "    <tr>\n",
       "      <th>month_exposition</th>\n",
       "      <th></th>\n",
       "      <th></th>\n",
       "      <th></th>\n",
       "    </tr>\n",
       "  </thead>\n",
       "  <tbody>\n",
       "    <tr>\n",
       "      <th>8</th>\n",
       "      <td>138854.021448</td>\n",
       "      <td>373</td>\n",
       "      <td>123958.0</td>\n",
       "    </tr>\n",
       "    <tr>\n",
       "      <th>3</th>\n",
       "      <td>136520.393357</td>\n",
       "      <td>572</td>\n",
       "      <td>123076.5</td>\n",
       "    </tr>\n",
       "    <tr>\n",
       "      <th>9</th>\n",
       "      <td>137353.909722</td>\n",
       "      <td>432</td>\n",
       "      <td>120662.5</td>\n",
       "    </tr>\n",
       "    <tr>\n",
       "      <th>1</th>\n",
       "      <td>137860.870662</td>\n",
       "      <td>317</td>\n",
       "      <td>120030.0</td>\n",
       "    </tr>\n",
       "    <tr>\n",
       "      <th>11</th>\n",
       "      <td>135146.327083</td>\n",
       "      <td>480</td>\n",
       "      <td>119594.0</td>\n",
       "    </tr>\n",
       "    <tr>\n",
       "      <th>12</th>\n",
       "      <td>140308.606936</td>\n",
       "      <td>346</td>\n",
       "      <td>119269.5</td>\n",
       "    </tr>\n",
       "    <tr>\n",
       "      <th>10</th>\n",
       "      <td>133336.350114</td>\n",
       "      <td>437</td>\n",
       "      <td>118644.0</td>\n",
       "    </tr>\n",
       "    <tr>\n",
       "      <th>4</th>\n",
       "      <td>142787.173570</td>\n",
       "      <td>507</td>\n",
       "      <td>117608.0</td>\n",
       "    </tr>\n",
       "    <tr>\n",
       "      <th>7</th>\n",
       "      <td>136205.657500</td>\n",
       "      <td>400</td>\n",
       "      <td>116481.5</td>\n",
       "    </tr>\n",
       "    <tr>\n",
       "      <th>5</th>\n",
       "      <td>131712.153595</td>\n",
       "      <td>306</td>\n",
       "      <td>115767.0</td>\n",
       "    </tr>\n",
       "    <tr>\n",
       "      <th>2</th>\n",
       "      <td>134663.391608</td>\n",
       "      <td>572</td>\n",
       "      <td>115176.0</td>\n",
       "    </tr>\n",
       "    <tr>\n",
       "      <th>6</th>\n",
       "      <td>136678.391304</td>\n",
       "      <td>391</td>\n",
       "      <td>114976.0</td>\n",
       "    </tr>\n",
       "  </tbody>\n",
       "</table>\n",
       "</div>"
      ],
      "text/plain": [
       "                           mean  count    median\n",
       "month_exposition                                \n",
       "8                 138854.021448    373  123958.0\n",
       "3                 136520.393357    572  123076.5\n",
       "9                 137353.909722    432  120662.5\n",
       "1                 137860.870662    317  120030.0\n",
       "11                135146.327083    480  119594.0\n",
       "12                140308.606936    346  119269.5\n",
       "10                133336.350114    437  118644.0\n",
       "4                 142787.173570    507  117608.0\n",
       "7                 136205.657500    400  116481.5\n",
       "5                 131712.153595    306  115767.0\n",
       "2                 134663.391608    572  115176.0\n",
       "6                 136678.391304    391  114976.0"
      ]
     },
     "execution_count": 96,
     "metadata": {},
     "output_type": "execute_result"
    }
   ],
   "source": [
    "center_spb_month_exposition.sort_values('median', ascending = False)"
   ]
  },
  {
   "cell_type": "markdown",
   "metadata": {},
   "source": [
    "**Выводы**\n",
    "\n",
    "В феврале и мае меньше всего объявлений приходится на квартиры, а вот в марте и июле самый пик. Хотя в общей выборке в начале лета было меньше всего объявлений и мы предположили, что это из-за отпусков, когда люди разъезжаются на моря, по гостиницам и им не до купли-продажи квартиры. "
   ]
  },
  {
   "cell_type": "markdown",
   "metadata": {},
   "source": [
    "- *Зависимость стоимости квадратного метра от года размещения объявления.*"
   ]
  },
  {
   "cell_type": "code",
   "execution_count": 97,
   "metadata": {},
   "outputs": [
    {
     "data": {
      "image/png": "[encoded data removed]",
      "text/plain": [
       "<Figure size 720x360 with 1 Axes>"
      ]
     },
     "metadata": {
      "needs_background": "light"
     },
     "output_type": "display_data"
    }
   ],
   "source": [
    "center_spb_year_exposition = center_spb_data.pivot_table(index = 'year_exposition', \n",
    "                                                         values = 'price_meter', \n",
    "                                                         aggfunc = ['mean', 'count', 'median'])\n",
    "center_spb_year_exposition.columns = ['mean', 'count', 'median']\n",
    "center_spb_year_exposition.plot(title = 'dependence of the price on the year in the city center', \n",
    "                                y = 'median', \n",
    "                                figsize = (10,5), \n",
    "                                style = 'o-')\n",
    "plt.show()"
   ]
  },
  {
   "cell_type": "code",
   "execution_count": 98,
   "metadata": {},
   "outputs": [
    {
     "data": {
      "text/html": [
       "<div>\n",
       "<style scoped>\n",
       "    .dataframe tbody tr th:only-of-type {\n",
       "        vertical-align: middle;\n",
       "    }\n",
       "\n",
       "    .dataframe tbody tr th {\n",
       "        vertical-align: top;\n",
       "    }\n",
       "\n",
       "    .dataframe thead th {\n",
       "        text-align: right;\n",
       "    }\n",
       "</style>\n",
       "<table border=\"1\" class=\"dataframe\">\n",
       "  <thead>\n",
       "    <tr style=\"text-align: right;\">\n",
       "      <th></th>\n",
       "      <th>mean</th>\n",
       "      <th>count</th>\n",
       "      <th>median</th>\n",
       "    </tr>\n",
       "    <tr>\n",
       "      <th>year_exposition</th>\n",
       "      <th></th>\n",
       "      <th></th>\n",
       "      <th></th>\n",
       "    </tr>\n",
       "  </thead>\n",
       "  <tbody>\n",
       "    <tr>\n",
       "      <th>2019</th>\n",
       "      <td>146258.907767</td>\n",
       "      <td>618</td>\n",
       "      <td>128251.5</td>\n",
       "    </tr>\n",
       "    <tr>\n",
       "      <th>2018</th>\n",
       "      <td>132987.091636</td>\n",
       "      <td>1626</td>\n",
       "      <td>119570.0</td>\n",
       "    </tr>\n",
       "    <tr>\n",
       "      <th>2015</th>\n",
       "      <td>139201.231738</td>\n",
       "      <td>397</td>\n",
       "      <td>117241.0</td>\n",
       "    </tr>\n",
       "    <tr>\n",
       "      <th>2017</th>\n",
       "      <td>135599.704353</td>\n",
       "      <td>1769</td>\n",
       "      <td>116150.0</td>\n",
       "    </tr>\n",
       "    <tr>\n",
       "      <th>2016</th>\n",
       "      <td>136907.040996</td>\n",
       "      <td>683</td>\n",
       "      <td>114861.0</td>\n",
       "    </tr>\n",
       "  </tbody>\n",
       "</table>\n",
       "</div>"
      ],
      "text/plain": [
       "                          mean  count    median\n",
       "year_exposition                                \n",
       "2019             146258.907767    618  128251.5\n",
       "2018             132987.091636   1626  119570.0\n",
       "2015             139201.231738    397  117241.0\n",
       "2017             135599.704353   1769  116150.0\n",
       "2016             136907.040996    683  114861.0"
      ]
     },
     "execution_count": 98,
     "metadata": {},
     "output_type": "execute_result"
    }
   ],
   "source": [
    "center_spb_year_exposition.query('count > 50').sort_values('median', ascending = False)"
   ]
  },
  {
   "cell_type": "markdown",
   "metadata": {},
   "source": [
    "**Выводы**\n",
    "\n",
    "Аналогично общей выборке после 2014 года цены на квартиры начали падать, скорее всего из-за кризиса. Спад продолжался 2 года, затем после 2016 года цены вновь начали расти. "
   ]
  },
  {
   "cell_type": "markdown",
   "metadata": {},
   "source": [
    "## Общий вывод"
   ]
  },
  {
   "cell_type": "markdown",
   "metadata": {},
   "source": [
    "Анализ данных начался с их обработки. Были обнаружены пропущенные значения и ошибки, от которых мы благополучно избавились и обосновали тот или иной метод замены значений. Были проведены необходимые рассчеты, которые понадобились нам в исследовательском анализе данных. Например, цена за один квадратный метр, день недели, месяц и год публикации объявления о продаже квартиры, соотношение жилой и общей площади и т.д.\n",
    "\n",
    "Как показало распределение общая площадь колеблется от 12 до 900 кв.м.(выбросы от которых мы избавились). Цены на недвижимость имеют среднее значение в 6,5 млн. руб. Минимальная стоимость составила 12190 руб, а максимальная - 7,6 млн.руб. \n",
    "Количество комнат колеблется от 1 до 19. Больше всего однокомнатных квартир. Высота потолков в среднем составляет 2,77 м. Минимальное значение у высоты потолков - 1 м, а максимальное - 100. \n",
    "\n",
    "Во всех данных были неадекватные значения или выбросы, наподобе 0 комнат, высоты потолков в 1 или 100 метров, а также цена квартиры в 12190 рублей. По ходу работы мы избавлялись от этих выбросов, чтобы результаты были более качественными и надежными. \n",
    "\n",
    "Отвечая на поставленный вопрос \"Когда можно считать, что продажи прошли очень быстро, а когда необычно долго?\", можно попробовать ответить исходя из диаграмы размаха, в которой мы убрали все аномалии. Получилось, что после 600 дней это выбросы, которые встречаются крайне редко. Значит все, что до 600 дней это считается быстрыми продажами, и все, что после 600 дней это долгие продажи. Но чаще всего люди успевают продать квартиру за полгода.\n",
    "\n",
    "Изучая зависимость между ценой квадратного метра и площадью квартиры, была выявлена слабый коэффициент корреляции (то есть с увеличением квадратных метров в квартире, цена не сильно выше). \n",
    "Аналогично с зависимостью цены от количества комнат - цена квадратного метра не зависит от количества комнат. Единственное, что можно отметить, так это, что стоимость квадратного метра становится чуть ниже, когда количество комнат в квартире - 3.\n",
    "На последнем этаже цена квадратного метра выше, чем на первом, но ниже, чем на других этажах.\n",
    "Результаты анализа показали, что при увеличении цены квадратного метра, уменьшается удаленность от центра города. То есть чем ближе квартира к центру, тем выше ее стоимость. Так и показывает коэффициент корреляции -0.3.\n",
    "\n",
    "Во вторник размещают объявления с самой высокой стоимостью квадратного метра, в то время как в субботу с самой низкой стоимостью. Вообще, в рабочие дни начинается активность по просмотру объявлений. Месяцы активности в объявлениях - апрель и август, спад происходит в мае и июне. Пик дорогих продаж недвижимости был в 2014 году, затем на протяжении двух лет цена за квадратный метр падала. В 2014 году был кризис, возможно это спад цен связан именно с ним. Затем после 2016 года цены вновь пошли вверх. Аналогичную ситуацию показывает нам и выборка по центру города, то есть в радиусе 9 км. \n",
    "\n",
    "Наибольшее число объявлений собрали такие населенные пункты как Санкт-Петербург, поселок Мурино, поселок Шушары, Всеволожск, Пушкин, Колпино, поселок Парголово, Гатчина, деревня Кудрово и Выборг. Максимальная цена за квадратный метр, логично, в Санкт-Петербурге, а минимальная в Выборге."
   ]
  }
 ],
 "metadata": {
  "ExecuteTimeLog": [
   {
    "duration": 1003,
    "start_time": "2022-06-02T17:32:08.505Z"
   },
   {
    "duration": 329,
    "start_time": "2022-06-02T17:32:11.160Z"
   },
   {
    "duration": 5,
    "start_time": "2022-06-02T17:32:15.835Z"
   },
   {
    "duration": 23,
    "start_time": "2022-06-02T17:32:16.959Z"
   },
   {
    "duration": 14,
    "start_time": "2022-06-02T17:32:21.454Z"
   },
   {
    "duration": 16,
    "start_time": "2022-06-02T17:32:30.717Z"
   },
   {
    "duration": 23,
    "start_time": "2022-06-02T17:32:34.564Z"
   },
   {
    "duration": 3,
    "start_time": "2022-06-02T17:32:36.186Z"
   },
   {
    "duration": 77,
    "start_time": "2022-06-02T17:32:39.808Z"
   },
   {
    "duration": 3,
    "start_time": "2022-06-02T17:32:42.728Z"
   },
   {
    "duration": 8,
    "start_time": "2022-06-02T17:32:44.491Z"
   },
   {
    "duration": 4,
    "start_time": "2022-06-02T17:32:47.918Z"
   },
   {
    "duration": 5,
    "start_time": "2022-06-02T17:32:49.524Z"
   },
   {
    "duration": 13,
    "start_time": "2022-06-02T17:32:50.660Z"
   },
   {
    "duration": 13,
    "start_time": "2022-06-02T17:32:55.303Z"
   },
   {
    "duration": 178,
    "start_time": "2022-06-02T17:33:12.742Z"
   },
   {
    "duration": 5,
    "start_time": "2022-06-02T17:33:18.663Z"
   },
   {
    "duration": 6,
    "start_time": "2022-06-02T17:33:24.149Z"
   },
   {
    "duration": 13,
    "start_time": "2022-06-02T17:33:29.445Z"
   },
   {
    "duration": 13,
    "start_time": "2022-06-02T17:33:30.633Z"
   },
   {
    "duration": 7,
    "start_time": "2022-06-02T17:33:34.731Z"
   },
   {
    "duration": 17,
    "start_time": "2022-06-02T17:33:36.438Z"
   },
   {
    "duration": 16,
    "start_time": "2022-06-02T17:33:38.268Z"
   },
   {
    "duration": 11,
    "start_time": "2022-06-02T17:33:44.474Z"
   },
   {
    "duration": 4,
    "start_time": "2022-06-02T17:34:00.790Z"
   },
   {
    "duration": 4,
    "start_time": "2022-06-02T17:34:01.472Z"
   },
   {
    "duration": 11,
    "start_time": "2022-06-02T17:34:04.619Z"
   },
   {
    "duration": 254,
    "start_time": "2022-06-02T17:34:06.485Z"
   },
   {
    "duration": 6,
    "start_time": "2022-06-02T17:34:10.298Z"
   },
   {
    "duration": 6,
    "start_time": "2022-06-02T17:34:13.311Z"
   },
   {
    "duration": 256,
    "start_time": "2022-06-02T17:34:30.818Z"
   },
   {
    "duration": 291,
    "start_time": "2022-06-02T17:34:58.032Z"
   },
   {
    "duration": 275,
    "start_time": "2022-06-02T17:35:20.476Z"
   },
   {
    "duration": 177,
    "start_time": "2022-06-02T17:35:30.165Z"
   },
   {
    "duration": 9,
    "start_time": "2022-06-02T17:35:34.045Z"
   },
   {
    "duration": 5,
    "start_time": "2022-06-02T17:35:36.812Z"
   },
   {
    "duration": 102,
    "start_time": "2022-06-02T17:35:39.986Z"
   },
   {
    "duration": 187,
    "start_time": "2022-06-02T17:35:59.949Z"
   },
   {
    "duration": 282,
    "start_time": "2022-06-02T17:36:12.250Z"
   },
   {
    "duration": 216,
    "start_time": "2022-06-02T17:36:18.636Z"
   },
   {
    "duration": 10,
    "start_time": "2022-06-02T17:36:24.424Z"
   },
   {
    "duration": 106,
    "start_time": "2022-06-02T17:36:25.431Z"
   },
   {
    "duration": 117,
    "start_time": "2022-06-02T17:36:31.692Z"
   },
   {
    "duration": 187,
    "start_time": "2022-06-02T17:36:35.802Z"
   },
   {
    "duration": 342,
    "start_time": "2022-06-02T17:36:39.800Z"
   },
   {
    "duration": 9,
    "start_time": "2022-06-02T17:36:43.598Z"
   },
   {
    "duration": 271,
    "start_time": "2022-06-02T17:36:47.010Z"
   },
   {
    "duration": 9,
    "start_time": "2022-06-02T17:36:50.032Z"
   },
   {
    "duration": 101,
    "start_time": "2022-06-02T17:36:50.867Z"
   },
   {
    "duration": 92,
    "start_time": "2022-06-02T17:36:54.937Z"
   },
   {
    "duration": 24,
    "start_time": "2022-06-02T17:36:59.862Z"
   },
   {
    "duration": 133,
    "start_time": "2022-06-02T17:37:00.789Z"
   },
   {
    "duration": 137,
    "start_time": "2022-06-02T17:37:04.277Z"
   },
   {
    "duration": 6,
    "start_time": "2022-06-02T17:37:06.895Z"
   },
   {
    "duration": 193,
    "start_time": "2022-06-02T17:37:26.382Z"
   },
   {
    "duration": 184,
    "start_time": "2022-06-02T17:37:36.607Z"
   },
   {
    "duration": 187,
    "start_time": "2022-06-02T17:37:40.820Z"
   },
   {
    "duration": 105,
    "start_time": "2022-06-02T17:37:45.450Z"
   },
   {
    "duration": 263,
    "start_time": "2022-06-02T17:37:55.979Z"
   },
   {
    "duration": 10,
    "start_time": "2022-06-02T17:37:59.021Z"
   },
   {
    "duration": 5,
    "start_time": "2022-06-02T17:38:00.675Z"
   },
   {
    "duration": 80,
    "start_time": "2022-06-02T17:38:16.936Z"
   },
   {
    "duration": 23,
    "start_time": "2022-06-02T17:38:21.402Z"
   },
   {
    "duration": 130,
    "start_time": "2022-06-02T17:38:22.542Z"
   },
   {
    "duration": 8,
    "start_time": "2022-06-02T17:38:25.073Z"
   },
   {
    "duration": 199,
    "start_time": "2022-06-02T17:38:30.923Z"
   },
   {
    "duration": 4,
    "start_time": "2022-06-02T17:38:33.530Z"
   },
   {
    "duration": 20,
    "start_time": "2022-06-02T17:38:35.976Z"
   },
   {
    "duration": 142,
    "start_time": "2022-06-02T17:38:40.259Z"
   },
   {
    "duration": 11,
    "start_time": "2022-06-02T17:38:42.707Z"
   },
   {
    "duration": 24,
    "start_time": "2022-06-02T17:38:45.553Z"
   },
   {
    "duration": 149,
    "start_time": "2022-06-02T17:38:49.477Z"
   },
   {
    "duration": 9,
    "start_time": "2022-06-02T17:38:52.132Z"
   },
   {
    "duration": 29,
    "start_time": "2022-06-02T17:38:55.154Z"
   },
   {
    "duration": 151,
    "start_time": "2022-06-02T17:38:59.260Z"
   },
   {
    "duration": 8,
    "start_time": "2022-06-02T17:39:01.418Z"
   },
   {
    "duration": 19,
    "start_time": "2022-06-02T17:39:06.666Z"
   },
   {
    "duration": 7,
    "start_time": "2022-06-02T17:39:07.871Z"
   },
   {
    "duration": 12,
    "start_time": "2022-06-02T17:39:10.766Z"
   },
   {
    "duration": 8,
    "start_time": "2022-06-02T17:39:11.536Z"
   },
   {
    "duration": 7,
    "start_time": "2022-06-02T17:39:15.487Z"
   },
   {
    "duration": 17,
    "start_time": "2022-06-02T17:39:30.244Z"
   },
   {
    "duration": 169,
    "start_time": "2022-06-02T17:39:35.126Z"
   },
   {
    "duration": 9,
    "start_time": "2022-06-02T17:39:40.374Z"
   },
   {
    "duration": 11,
    "start_time": "2022-06-02T17:39:45.021Z"
   },
   {
    "duration": 173,
    "start_time": "2022-06-02T17:39:50.327Z"
   },
   {
    "duration": 11,
    "start_time": "2022-06-02T17:39:52.528Z"
   },
   {
    "duration": 5,
    "start_time": "2022-06-02T17:39:53.389Z"
   },
   {
    "duration": 131,
    "start_time": "2022-06-02T17:40:00.120Z"
   },
   {
    "duration": 8,
    "start_time": "2022-06-02T17:40:03.961Z"
   },
   {
    "duration": 192,
    "start_time": "2022-06-02T17:40:09.247Z"
   },
   {
    "duration": 6,
    "start_time": "2022-06-02T17:40:11.543Z"
   },
   {
    "duration": 213,
    "start_time": "2022-06-02T17:40:16.168Z"
   },
   {
    "duration": 10,
    "start_time": "2022-06-02T17:40:18.456Z"
   },
   {
    "duration": 158,
    "start_time": "2022-06-02T17:40:23.393Z"
   },
   {
    "duration": 12,
    "start_time": "2022-06-02T17:40:25.751Z"
   },
   {
    "duration": 243,
    "start_time": "2022-06-02T17:40:32.139Z"
   },
   {
    "duration": 12,
    "start_time": "2022-06-02T17:40:34.183Z"
   }
  ],
  "kernelspec": {
   "display_name": "Python 3 (ipykernel)",
   "language": "python",
   "name": "python3"
  },
  "language_info": {
   "codemirror_mode": {
    "name": "ipython",
    "version": 3
   },
   "file_extension": ".py",
   "mimetype": "text/x-python",
   "name": "python",
   "nbconvert_exporter": "python",
   "pygments_lexer": "ipython3",
   "version": "3.9.7"
  },
  "toc": {
   "base_numbering": 1,
   "nav_menu": {},
   "number_sections": false,
   "sideBar": false,
   "skip_h1_title": true,
   "title_cell": "Содержание",
   "title_sidebar": "Contents",
   "toc_cell": false,
   "toc_position": {
    "height": "calc(100% - 180px)",
    "left": "10px",
    "top": "150px",
    "width": "165px"
   },
   "toc_section_display": true,
   "toc_window_display": false
  }
 },
 "nbformat": 4,
 "nbformat_minor": 2
}
