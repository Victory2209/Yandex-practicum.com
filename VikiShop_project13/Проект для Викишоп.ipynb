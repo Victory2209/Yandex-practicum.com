{
 "cells": [
  {
   "cell_type": "markdown",
   "metadata": {},
   "source": [
    "# Проект для «Викишоп»"
   ]
  },
  {
   "cell_type": "markdown",
   "metadata": {},
   "source": [
    "Интернет-магазин «Викишоп» запускает новый сервис. Теперь пользователи могут редактировать и дополнять описания товаров, как в вики-сообществах. То есть клиенты предлагают свои правки и комментируют изменения других. Магазину нужен инструмент, который будет искать токсичные комментарии и отправлять их на модерацию. \n",
    "\n",
    "Необходимо обучить модель классифицировать комментарии на позитивные и негативные. В нашем распоряжении набор данных с разметкой о токсичности правок.\n",
    "\n",
    "Нужно построить модель со значением метрики качества *F1* не меньше 0.75. \n",
    "\n",
    "**Описание данных**\n",
    "\n",
    "Данные находятся в файле `toxic_comments.csv`. Столбец *text* в нём содержит текст комментария, а *toxic* — целевой признак."
   ]
  },
  {
   "cell_type": "markdown",
   "metadata": {},
   "source": [
    "## Подготовка"
   ]
  },
  {
   "cell_type": "code",
   "execution_count": 1,
   "metadata": {},
   "outputs": [
    {
     "name": "stdout",
     "output_type": "stream",
     "text": [
      "Defaulting to user installation because normal site-packages is not writeable\n",
      "Requirement already satisfied: spacy in /home/jovyan/.local/lib/python3.7/site-packages (3.1.3)\n",
      "Requirement already satisfied: setuptools in /opt/conda/lib/python3.7/site-packages (from spacy) (49.6.0.post20210108)\n",
      "Requirement already satisfied: thinc<8.1.0,>=8.0.9 in /home/jovyan/.local/lib/python3.7/site-packages (from spacy) (8.0.10)\n",
      "Requirement already satisfied: packaging>=20.0 in /opt/conda/lib/python3.7/site-packages (from spacy) (20.4)\n",
      "Requirement already satisfied: murmurhash<1.1.0,>=0.28.0 in /opt/conda/lib/python3.7/site-packages (from spacy) (1.0.5)\n",
      "Requirement already satisfied: pydantic!=1.8,!=1.8.1,<1.9.0,>=1.7.4 in /home/jovyan/.local/lib/python3.7/site-packages (from spacy) (1.8.2)\n",
      "Requirement already satisfied: numpy>=1.15.0 in /opt/conda/lib/python3.7/site-packages (from spacy) (1.19.5)\n",
      "Requirement already satisfied: requests<3.0.0,>=2.13.0 in /opt/conda/lib/python3.7/site-packages (from spacy) (2.22.0)\n",
      "Requirement already satisfied: catalogue<2.1.0,>=2.0.6 in /home/jovyan/.local/lib/python3.7/site-packages (from spacy) (2.0.6)\n",
      "Requirement already satisfied: preshed<3.1.0,>=3.0.2 in /opt/conda/lib/python3.7/site-packages (from spacy) (3.0.5)\n",
      "Requirement already satisfied: blis<0.8.0,>=0.4.0 in /opt/conda/lib/python3.7/site-packages (from spacy) (0.7.4)\n",
      "Requirement already satisfied: wasabi<1.1.0,>=0.8.1 in /opt/conda/lib/python3.7/site-packages (from spacy) (0.8.2)\n",
      "Requirement already satisfied: srsly<3.0.0,>=2.4.1 in /home/jovyan/.local/lib/python3.7/site-packages (from spacy) (2.4.1)\n",
      "Requirement already satisfied: jinja2 in /opt/conda/lib/python3.7/site-packages (from spacy) (2.11.2)\n",
      "Requirement already satisfied: tqdm<5.0.0,>=4.38.0 in /opt/conda/lib/python3.7/site-packages (from spacy) (4.51.0)\n",
      "Requirement already satisfied: cymem<2.1.0,>=2.0.2 in /opt/conda/lib/python3.7/site-packages (from spacy) (2.0.5)\n",
      "Requirement already satisfied: typing-extensions<4.0.0.0,>=3.7.4 in /home/jovyan/.local/lib/python3.7/site-packages (from spacy) (3.10.0.2)\n",
      "Requirement already satisfied: typer<0.5.0,>=0.3.0 in /home/jovyan/.local/lib/python3.7/site-packages (from spacy) (0.4.0)\n",
      "Requirement already satisfied: pathy>=0.3.5 in /home/jovyan/.local/lib/python3.7/site-packages (from spacy) (0.6.0)\n",
      "Requirement already satisfied: spacy-legacy<3.1.0,>=3.0.8 in /home/jovyan/.local/lib/python3.7/site-packages (from spacy) (3.0.8)\n",
      "Requirement already satisfied: zipp>=0.5 in /opt/conda/lib/python3.7/site-packages (from catalogue<2.1.0,>=2.0.6->spacy) (3.4.0)\n",
      "Requirement already satisfied: pyparsing>=2.0.2 in /opt/conda/lib/python3.7/site-packages (from packaging>=20.0->spacy) (2.4.7)\n",
      "Requirement already satisfied: six in /opt/conda/lib/python3.7/site-packages (from packaging>=20.0->spacy) (1.15.0)\n",
      "Requirement already satisfied: smart-open<6.0.0,>=5.0.0 in /opt/conda/lib/python3.7/site-packages (from pathy>=0.3.5->spacy) (5.1.0)\n",
      "Requirement already satisfied: chardet<3.1.0,>=3.0.2 in /opt/conda/lib/python3.7/site-packages (from requests<3.0.0,>=2.13.0->spacy) (3.0.4)\n",
      "Requirement already satisfied: certifi>=2017.4.17 in /opt/conda/lib/python3.7/site-packages (from requests<3.0.0,>=2.13.0->spacy) (2021.5.30)\n",
      "Requirement already satisfied: urllib3!=1.25.0,!=1.25.1,<1.26,>=1.21.1 in /opt/conda/lib/python3.7/site-packages (from requests<3.0.0,>=2.13.0->spacy) (1.25.11)\n",
      "Requirement already satisfied: idna<2.9,>=2.5 in /opt/conda/lib/python3.7/site-packages (from requests<3.0.0,>=2.13.0->spacy) (2.8)\n",
      "Requirement already satisfied: click<9.0.0,>=7.1.1 in /opt/conda/lib/python3.7/site-packages (from typer<0.5.0,>=0.3.0->spacy) (8.0.1)\n",
      "Requirement already satisfied: importlib-metadata in /opt/conda/lib/python3.7/site-packages (from click<9.0.0,>=7.1.1->typer<0.5.0,>=0.3.0->spacy) (2.0.0)\n",
      "Requirement already satisfied: MarkupSafe>=0.23 in /opt/conda/lib/python3.7/site-packages (from jinja2->spacy) (2.0.1)\n",
      "2021-09-26 14:23:23.653888: W tensorflow/stream_executor/platform/default/dso_loader.cc:55] Could not load dynamic library 'libnvinfer.so.6'; dlerror: libnvinfer.so.6: cannot open shared object file: No such file or directory\n",
      "2021-09-26 14:23:23.654102: W tensorflow/stream_executor/platform/default/dso_loader.cc:55] Could not load dynamic library 'libnvinfer_plugin.so.6'; dlerror: libnvinfer_plugin.so.6: cannot open shared object file: No such file or directory\n",
      "2021-09-26 14:23:23.654132: W tensorflow/compiler/tf2tensorrt/utils/py_utils.cc:30] Cannot dlopen some TensorRT libraries. If you would like to use Nvidia GPU with TensorRT, please make sure the missing libraries mentioned above are installed properly.\n",
      "Defaulting to user installation because normal site-packages is not writeable\n",
      "Collecting en-core-web-sm==3.1.0\n",
      "  Downloading https://github.com/explosion/spacy-models/releases/download/en_core_web_sm-3.1.0/en_core_web_sm-3.1.0-py3-none-any.whl (13.6 MB)\n",
      "\u001b[K     |████████████████████████████████| 13.6 MB 1.3 MB/s eta 0:00:01\n",
      "\u001b[?25hRequirement already satisfied: spacy<3.2.0,>=3.1.0 in /home/jovyan/.local/lib/python3.7/site-packages (from en-core-web-sm==3.1.0) (3.1.3)\n",
      "Requirement already satisfied: packaging>=20.0 in /opt/conda/lib/python3.7/site-packages (from spacy<3.2.0,>=3.1.0->en-core-web-sm==3.1.0) (20.4)\n",
      "Requirement already satisfied: numpy>=1.15.0 in /opt/conda/lib/python3.7/site-packages (from spacy<3.2.0,>=3.1.0->en-core-web-sm==3.1.0) (1.19.5)\n",
      "Requirement already satisfied: setuptools in /opt/conda/lib/python3.7/site-packages (from spacy<3.2.0,>=3.1.0->en-core-web-sm==3.1.0) (49.6.0.post20210108)\n",
      "Requirement already satisfied: jinja2 in /opt/conda/lib/python3.7/site-packages (from spacy<3.2.0,>=3.1.0->en-core-web-sm==3.1.0) (2.11.2)\n",
      "Requirement already satisfied: srsly<3.0.0,>=2.4.1 in /home/jovyan/.local/lib/python3.7/site-packages (from spacy<3.2.0,>=3.1.0->en-core-web-sm==3.1.0) (2.4.1)\n",
      "Requirement already satisfied: tqdm<5.0.0,>=4.38.0 in /opt/conda/lib/python3.7/site-packages (from spacy<3.2.0,>=3.1.0->en-core-web-sm==3.1.0) (4.51.0)\n",
      "Requirement already satisfied: cymem<2.1.0,>=2.0.2 in /opt/conda/lib/python3.7/site-packages (from spacy<3.2.0,>=3.1.0->en-core-web-sm==3.1.0) (2.0.5)\n",
      "Requirement already satisfied: pydantic!=1.8,!=1.8.1,<1.9.0,>=1.7.4 in /home/jovyan/.local/lib/python3.7/site-packages (from spacy<3.2.0,>=3.1.0->en-core-web-sm==3.1.0) (1.8.2)\n",
      "Requirement already satisfied: murmurhash<1.1.0,>=0.28.0 in /opt/conda/lib/python3.7/site-packages (from spacy<3.2.0,>=3.1.0->en-core-web-sm==3.1.0) (1.0.5)\n",
      "Requirement already satisfied: blis<0.8.0,>=0.4.0 in /opt/conda/lib/python3.7/site-packages (from spacy<3.2.0,>=3.1.0->en-core-web-sm==3.1.0) (0.7.4)\n",
      "Requirement already satisfied: pathy>=0.3.5 in /home/jovyan/.local/lib/python3.7/site-packages (from spacy<3.2.0,>=3.1.0->en-core-web-sm==3.1.0) (0.6.0)\n",
      "Requirement already satisfied: preshed<3.1.0,>=3.0.2 in /opt/conda/lib/python3.7/site-packages (from spacy<3.2.0,>=3.1.0->en-core-web-sm==3.1.0) (3.0.5)\n",
      "Requirement already satisfied: typer<0.5.0,>=0.3.0 in /home/jovyan/.local/lib/python3.7/site-packages (from spacy<3.2.0,>=3.1.0->en-core-web-sm==3.1.0) (0.4.0)\n",
      "Requirement already satisfied: requests<3.0.0,>=2.13.0 in /opt/conda/lib/python3.7/site-packages (from spacy<3.2.0,>=3.1.0->en-core-web-sm==3.1.0) (2.22.0)\n",
      "Requirement already satisfied: wasabi<1.1.0,>=0.8.1 in /opt/conda/lib/python3.7/site-packages (from spacy<3.2.0,>=3.1.0->en-core-web-sm==3.1.0) (0.8.2)\n",
      "Requirement already satisfied: spacy-legacy<3.1.0,>=3.0.8 in /home/jovyan/.local/lib/python3.7/site-packages (from spacy<3.2.0,>=3.1.0->en-core-web-sm==3.1.0) (3.0.8)\n",
      "Requirement already satisfied: typing-extensions<4.0.0.0,>=3.7.4 in /home/jovyan/.local/lib/python3.7/site-packages (from spacy<3.2.0,>=3.1.0->en-core-web-sm==3.1.0) (3.10.0.2)\n",
      "Requirement already satisfied: catalogue<2.1.0,>=2.0.6 in /home/jovyan/.local/lib/python3.7/site-packages (from spacy<3.2.0,>=3.1.0->en-core-web-sm==3.1.0) (2.0.6)\n",
      "Requirement already satisfied: thinc<8.1.0,>=8.0.9 in /home/jovyan/.local/lib/python3.7/site-packages (from spacy<3.2.0,>=3.1.0->en-core-web-sm==3.1.0) (8.0.10)\n",
      "Requirement already satisfied: zipp>=0.5 in /opt/conda/lib/python3.7/site-packages (from catalogue<2.1.0,>=2.0.6->spacy<3.2.0,>=3.1.0->en-core-web-sm==3.1.0) (3.4.0)\n",
      "Requirement already satisfied: six in /opt/conda/lib/python3.7/site-packages (from packaging>=20.0->spacy<3.2.0,>=3.1.0->en-core-web-sm==3.1.0) (1.15.0)\n",
      "Requirement already satisfied: pyparsing>=2.0.2 in /opt/conda/lib/python3.7/site-packages (from packaging>=20.0->spacy<3.2.0,>=3.1.0->en-core-web-sm==3.1.0) (2.4.7)\n",
      "Requirement already satisfied: smart-open<6.0.0,>=5.0.0 in /opt/conda/lib/python3.7/site-packages (from pathy>=0.3.5->spacy<3.2.0,>=3.1.0->en-core-web-sm==3.1.0) (5.1.0)\n",
      "Requirement already satisfied: urllib3!=1.25.0,!=1.25.1,<1.26,>=1.21.1 in /opt/conda/lib/python3.7/site-packages (from requests<3.0.0,>=2.13.0->spacy<3.2.0,>=3.1.0->en-core-web-sm==3.1.0) (1.25.11)\n",
      "Requirement already satisfied: chardet<3.1.0,>=3.0.2 in /opt/conda/lib/python3.7/site-packages (from requests<3.0.0,>=2.13.0->spacy<3.2.0,>=3.1.0->en-core-web-sm==3.1.0) (3.0.4)\n",
      "Requirement already satisfied: certifi>=2017.4.17 in /opt/conda/lib/python3.7/site-packages (from requests<3.0.0,>=2.13.0->spacy<3.2.0,>=3.1.0->en-core-web-sm==3.1.0) (2021.5.30)\n",
      "Requirement already satisfied: idna<2.9,>=2.5 in /opt/conda/lib/python3.7/site-packages (from requests<3.0.0,>=2.13.0->spacy<3.2.0,>=3.1.0->en-core-web-sm==3.1.0) (2.8)\n",
      "Requirement already satisfied: click<9.0.0,>=7.1.1 in /opt/conda/lib/python3.7/site-packages (from typer<0.5.0,>=0.3.0->spacy<3.2.0,>=3.1.0->en-core-web-sm==3.1.0) (8.0.1)\n",
      "Requirement already satisfied: importlib-metadata in /opt/conda/lib/python3.7/site-packages (from click<9.0.0,>=7.1.1->typer<0.5.0,>=0.3.0->spacy<3.2.0,>=3.1.0->en-core-web-sm==3.1.0) (2.0.0)\n",
      "Requirement already satisfied: MarkupSafe>=0.23 in /opt/conda/lib/python3.7/site-packages (from jinja2->spacy<3.2.0,>=3.1.0->en-core-web-sm==3.1.0) (2.0.1)\n",
      "\u001b[38;5;2m✔ Download and installation successful\u001b[0m\n",
      "You can now load the package via spacy.load('en_core_web_sm')\n",
      "Requirement already satisfied: pip in /home/jovyan/.local/lib/python3.7/site-packages (21.2.4)\n",
      "Defaulting to user installation because normal site-packages is not writeable\n",
      "Requirement already satisfied: torch in /opt/conda/lib/python3.7/site-packages (1.5.1)\n",
      "Requirement already satisfied: numpy in /opt/conda/lib/python3.7/site-packages (from torch) (1.19.5)\n",
      "Requirement already satisfied: future in /opt/conda/lib/python3.7/site-packages (from torch) (0.18.2)\n",
      "Defaulting to user installation because normal site-packages is not writeable\n",
      "Requirement already satisfied: transformers in /opt/conda/lib/python3.7/site-packages (2.5.0)\n",
      "Requirement already satisfied: sentencepiece in /opt/conda/lib/python3.7/site-packages (from transformers) (0.1.95)\n",
      "Requirement already satisfied: requests in /opt/conda/lib/python3.7/site-packages (from transformers) (2.22.0)\n",
      "Requirement already satisfied: numpy in /opt/conda/lib/python3.7/site-packages (from transformers) (1.19.5)\n",
      "Requirement already satisfied: filelock in /opt/conda/lib/python3.7/site-packages (from transformers) (3.0.12)\n",
      "Requirement already satisfied: sacremoses in /opt/conda/lib/python3.7/site-packages (from transformers) (0.0.45)\n",
      "Requirement already satisfied: tokenizers==0.5.0 in /opt/conda/lib/python3.7/site-packages (from transformers) (0.5.0)\n",
      "Requirement already satisfied: tqdm>=4.27 in /opt/conda/lib/python3.7/site-packages (from transformers) (4.51.0)\n",
      "Requirement already satisfied: regex!=2019.12.17 in /opt/conda/lib/python3.7/site-packages (from transformers) (2021.4.4)\n",
      "Requirement already satisfied: boto3 in /opt/conda/lib/python3.7/site-packages (from transformers) (1.17.89)\n",
      "Requirement already satisfied: botocore<1.21.0,>=1.20.89 in /opt/conda/lib/python3.7/site-packages (from boto3->transformers) (1.20.89)\n",
      "Requirement already satisfied: jmespath<1.0.0,>=0.7.1 in /opt/conda/lib/python3.7/site-packages (from boto3->transformers) (0.10.0)\n",
      "Requirement already satisfied: s3transfer<0.5.0,>=0.4.0 in /opt/conda/lib/python3.7/site-packages (from boto3->transformers) (0.4.2)\n",
      "Requirement already satisfied: urllib3<1.27,>=1.25.4 in /opt/conda/lib/python3.7/site-packages (from botocore<1.21.0,>=1.20.89->boto3->transformers) (1.25.11)\n",
      "Requirement already satisfied: python-dateutil<3.0.0,>=2.1 in /opt/conda/lib/python3.7/site-packages (from botocore<1.21.0,>=1.20.89->boto3->transformers) (2.8.1)\n",
      "Requirement already satisfied: six>=1.5 in /opt/conda/lib/python3.7/site-packages (from python-dateutil<3.0.0,>=2.1->botocore<1.21.0,>=1.20.89->boto3->transformers) (1.15.0)\n",
      "Requirement already satisfied: idna<2.9,>=2.5 in /opt/conda/lib/python3.7/site-packages (from requests->transformers) (2.8)\n",
      "Requirement already satisfied: chardet<3.1.0,>=3.0.2 in /opt/conda/lib/python3.7/site-packages (from requests->transformers) (3.0.4)\n",
      "Requirement already satisfied: certifi>=2017.4.17 in /opt/conda/lib/python3.7/site-packages (from requests->transformers) (2021.5.30)\n",
      "Requirement already satisfied: joblib in /opt/conda/lib/python3.7/site-packages (from sacremoses->transformers) (1.0.1)\n",
      "Requirement already satisfied: click in /opt/conda/lib/python3.7/site-packages (from sacremoses->transformers) (8.0.1)\n",
      "Requirement already satisfied: importlib-metadata in /opt/conda/lib/python3.7/site-packages (from click->sacremoses->transformers) (2.0.0)\n",
      "Requirement already satisfied: zipp>=0.5 in /opt/conda/lib/python3.7/site-packages (from importlib-metadata->click->sacremoses->transformers) (3.4.0)\n",
      "Requirement already satisfied: tensorflow in /opt/conda/lib/python3.7/site-packages (2.1.0)\n",
      "Requirement already satisfied: termcolor>=1.1.0 in /opt/conda/lib/python3.7/site-packages (from tensorflow) (1.1.0)\n",
      "Requirement already satisfied: grpcio>=1.8.6 in /opt/conda/lib/python3.7/site-packages (from tensorflow) (1.38.0)\n",
      "Requirement already satisfied: keras-preprocessing>=1.1.0 in /opt/conda/lib/python3.7/site-packages (from tensorflow) (1.1.2)\n",
      "Requirement already satisfied: wheel>=0.26 in /opt/conda/lib/python3.7/site-packages (from tensorflow) (0.35.1)\n",
      "Requirement already satisfied: absl-py>=0.7.0 in /opt/conda/lib/python3.7/site-packages (from tensorflow) (0.12.0)\n",
      "Requirement already satisfied: protobuf>=3.8.0 in /opt/conda/lib/python3.7/site-packages (from tensorflow) (3.17.2)\n",
      "Requirement already satisfied: astor>=0.6.0 in /opt/conda/lib/python3.7/site-packages (from tensorflow) (0.8.1)\n",
      "Requirement already satisfied: google-pasta>=0.1.6 in /opt/conda/lib/python3.7/site-packages (from tensorflow) (0.2.0)\n",
      "Requirement already satisfied: gast==0.2.2 in /opt/conda/lib/python3.7/site-packages (from tensorflow) (0.2.2)\n",
      "Requirement already satisfied: numpy<2.0,>=1.16.0 in /opt/conda/lib/python3.7/site-packages (from tensorflow) (1.19.5)\n",
      "Requirement already satisfied: scipy==1.4.1 in /opt/conda/lib/python3.7/site-packages (from tensorflow) (1.4.1)\n",
      "Requirement already satisfied: tensorboard<2.2.0,>=2.1.0 in /opt/conda/lib/python3.7/site-packages (from tensorflow) (2.1.1)\n",
      "Requirement already satisfied: six>=1.12.0 in /opt/conda/lib/python3.7/site-packages (from tensorflow) (1.15.0)\n",
      "Requirement already satisfied: keras-applications>=1.0.8 in /opt/conda/lib/python3.7/site-packages (from tensorflow) (1.0.8)\n",
      "Requirement already satisfied: wrapt>=1.11.1 in /opt/conda/lib/python3.7/site-packages (from tensorflow) (1.12.1)\n",
      "Requirement already satisfied: tensorflow-estimator<2.2.0,>=2.1.0rc0 in /opt/conda/lib/python3.7/site-packages (from tensorflow) (2.1.0)\n",
      "Requirement already satisfied: opt-einsum>=2.3.2 in /opt/conda/lib/python3.7/site-packages (from tensorflow) (3.3.0)\n",
      "Requirement already satisfied: h5py in /opt/conda/lib/python3.7/site-packages (from keras-applications>=1.0.8->tensorflow) (3.2.1)\n",
      "Requirement already satisfied: requests<3,>=2.21.0 in /opt/conda/lib/python3.7/site-packages (from tensorboard<2.2.0,>=2.1.0->tensorflow) (2.22.0)\n",
      "Requirement already satisfied: werkzeug>=0.11.15 in /opt/conda/lib/python3.7/site-packages (from tensorboard<2.2.0,>=2.1.0->tensorflow) (2.0.1)\n",
      "Requirement already satisfied: google-auth<2,>=1.6.3 in /opt/conda/lib/python3.7/site-packages (from tensorboard<2.2.0,>=2.1.0->tensorflow) (1.30.1)\n",
      "Requirement already satisfied: markdown>=2.6.8 in /opt/conda/lib/python3.7/site-packages (from tensorboard<2.2.0,>=2.1.0->tensorflow) (3.3.4)\n",
      "Requirement already satisfied: setuptools>=41.0.0 in /opt/conda/lib/python3.7/site-packages (from tensorboard<2.2.0,>=2.1.0->tensorflow) (49.6.0.post20210108)\n",
      "Requirement already satisfied: google-auth-oauthlib<0.5,>=0.4.1 in /opt/conda/lib/python3.7/site-packages (from tensorboard<2.2.0,>=2.1.0->tensorflow) (0.4.4)\n",
      "Requirement already satisfied: cachetools<5.0,>=2.0.0 in /opt/conda/lib/python3.7/site-packages (from google-auth<2,>=1.6.3->tensorboard<2.2.0,>=2.1.0->tensorflow) (4.2.2)\n",
      "Requirement already satisfied: pyasn1-modules>=0.2.1 in /opt/conda/lib/python3.7/site-packages (from google-auth<2,>=1.6.3->tensorboard<2.2.0,>=2.1.0->tensorflow) (0.2.8)\n",
      "Requirement already satisfied: rsa<5,>=3.1.4 in /opt/conda/lib/python3.7/site-packages (from google-auth<2,>=1.6.3->tensorboard<2.2.0,>=2.1.0->tensorflow) (4.7.2)\n",
      "Requirement already satisfied: requests-oauthlib>=0.7.0 in /opt/conda/lib/python3.7/site-packages (from google-auth-oauthlib<0.5,>=0.4.1->tensorboard<2.2.0,>=2.1.0->tensorflow) (1.3.0)\n",
      "Requirement already satisfied: importlib-metadata in /opt/conda/lib/python3.7/site-packages (from markdown>=2.6.8->tensorboard<2.2.0,>=2.1.0->tensorflow) (2.0.0)\n",
      "Requirement already satisfied: pyasn1<0.5.0,>=0.4.6 in /opt/conda/lib/python3.7/site-packages (from pyasn1-modules>=0.2.1->google-auth<2,>=1.6.3->tensorboard<2.2.0,>=2.1.0->tensorflow) (0.4.8)\n",
      "Requirement already satisfied: urllib3!=1.25.0,!=1.25.1,<1.26,>=1.21.1 in /opt/conda/lib/python3.7/site-packages (from requests<3,>=2.21.0->tensorboard<2.2.0,>=2.1.0->tensorflow) (1.25.11)\n",
      "Requirement already satisfied: idna<2.9,>=2.5 in /opt/conda/lib/python3.7/site-packages (from requests<3,>=2.21.0->tensorboard<2.2.0,>=2.1.0->tensorflow) (2.8)\n",
      "Requirement already satisfied: certifi>=2017.4.17 in /opt/conda/lib/python3.7/site-packages (from requests<3,>=2.21.0->tensorboard<2.2.0,>=2.1.0->tensorflow) (2021.5.30)\n",
      "Requirement already satisfied: chardet<3.1.0,>=3.0.2 in /opt/conda/lib/python3.7/site-packages (from requests<3,>=2.21.0->tensorboard<2.2.0,>=2.1.0->tensorflow) (3.0.4)\n",
      "Requirement already satisfied: oauthlib>=3.0.0 in /opt/conda/lib/python3.7/site-packages (from requests-oauthlib>=0.7.0->google-auth-oauthlib<0.5,>=0.4.1->tensorboard<2.2.0,>=2.1.0->tensorflow) (3.0.1)\n",
      "Requirement already satisfied: cached-property in /opt/conda/lib/python3.7/site-packages (from h5py->keras-applications>=1.0.8->tensorflow) (1.5.2)\n",
      "Requirement already satisfied: zipp>=0.5 in /opt/conda/lib/python3.7/site-packages (from importlib-metadata->markdown>=2.6.8->tensorboard<2.2.0,>=2.1.0->tensorflow) (3.4.0)\n",
      "Defaulting to user installation because normal site-packages is not writeable\n",
      "Requirement already satisfied: bert-tensorflow in /home/jovyan/.local/lib/python3.7/site-packages (1.0.4)\n",
      "Requirement already satisfied: six in /opt/conda/lib/python3.7/site-packages (from bert-tensorflow) (1.15.0)\n",
      "Defaulting to user installation because normal site-packages is not writeable\n",
      "Requirement already satisfied: keras in /home/jovyan/.local/lib/python3.7/site-packages (2.6.0)\n",
      "Defaulting to user installation because normal site-packages is not writeable\n",
      "Requirement already satisfied: keras-bert in /home/jovyan/.local/lib/python3.7/site-packages (0.88.0)\n",
      "Requirement already satisfied: numpy in /opt/conda/lib/python3.7/site-packages (from keras-bert) (1.19.5)\n",
      "Requirement already satisfied: keras-transformer>=0.39.0 in /home/jovyan/.local/lib/python3.7/site-packages (from keras-bert) (0.39.0)\n",
      "Requirement already satisfied: Keras>=2.4.3 in /home/jovyan/.local/lib/python3.7/site-packages (from keras-bert) (2.6.0)\n",
      "Requirement already satisfied: keras-embed-sim>=0.9.0 in /home/jovyan/.local/lib/python3.7/site-packages (from keras-transformer>=0.39.0->keras-bert) (0.9.0)\n",
      "Requirement already satisfied: keras-pos-embd>=0.12.0 in /home/jovyan/.local/lib/python3.7/site-packages (from keras-transformer>=0.39.0->keras-bert) (0.12.0)\n",
      "Requirement already satisfied: keras-multi-head>=0.28.0 in /home/jovyan/.local/lib/python3.7/site-packages (from keras-transformer>=0.39.0->keras-bert) (0.28.0)\n",
      "Requirement already satisfied: keras-layer-normalization>=0.15.0 in /home/jovyan/.local/lib/python3.7/site-packages (from keras-transformer>=0.39.0->keras-bert) (0.15.0)\n",
      "Requirement already satisfied: keras-position-wise-feed-forward>=0.7.0 in /home/jovyan/.local/lib/python3.7/site-packages (from keras-transformer>=0.39.0->keras-bert) (0.7.0)\n",
      "Requirement already satisfied: keras-self-attention>=0.50.0 in /home/jovyan/.local/lib/python3.7/site-packages (from keras-multi-head>=0.28.0->keras-transformer>=0.39.0->keras-bert) (0.50.0)\n",
      "Defaulting to user installation because normal site-packages is not writeable\n",
      "Requirement already satisfied: tokenization in /home/jovyan/.local/lib/python3.7/site-packages (1.0.7)\n",
      "Requirement already satisfied: regex in /opt/conda/lib/python3.7/site-packages (from tokenization) (2021.4.4)\n",
      "Defaulting to user installation because normal site-packages is not writeable\n",
      "Requirement already satisfied: catboost in /opt/conda/lib/python3.7/site-packages (0.20.2)\n",
      "Requirement already satisfied: six in /opt/conda/lib/python3.7/site-packages (from catboost) (1.15.0)\n",
      "Requirement already satisfied: plotly in /opt/conda/lib/python3.7/site-packages (from catboost) (4.1.0)\n",
      "Requirement already satisfied: scipy in /opt/conda/lib/python3.7/site-packages (from catboost) (1.4.1)\n",
      "Requirement already satisfied: matplotlib in /opt/conda/lib/python3.7/site-packages (from catboost) (3.1.0)\n",
      "Requirement already satisfied: numpy>=1.16.0 in /opt/conda/lib/python3.7/site-packages (from catboost) (1.19.5)\n",
      "Requirement already satisfied: pandas>=0.24.0 in /opt/conda/lib/python3.7/site-packages (from catboost) (0.25.1)\n",
      "Requirement already satisfied: graphviz in /opt/conda/lib/python3.7/site-packages (from catboost) (0.16)\n",
      "Requirement already satisfied: python-dateutil>=2.6.1 in /opt/conda/lib/python3.7/site-packages (from pandas>=0.24.0->catboost) (2.8.1)\n",
      "Requirement already satisfied: pytz>=2017.2 in /opt/conda/lib/python3.7/site-packages (from pandas>=0.24.0->catboost) (2021.1)\n",
      "Requirement already satisfied: cycler>=0.10 in /opt/conda/lib/python3.7/site-packages (from matplotlib->catboost) (0.10.0)\n",
      "Requirement already satisfied: kiwisolver>=1.0.1 in /opt/conda/lib/python3.7/site-packages (from matplotlib->catboost) (1.3.1)\n",
      "Requirement already satisfied: pyparsing!=2.0.4,!=2.1.2,!=2.1.6,>=2.0.1 in /opt/conda/lib/python3.7/site-packages (from matplotlib->catboost) (2.4.7)\n",
      "Requirement already satisfied: retrying>=1.3.3 in /opt/conda/lib/python3.7/site-packages (from plotly->catboost) (1.3.3)\n"
     ]
    }
   ],
   "source": [
    "!pip install -U spacy\n",
    "!python -m spacy download en_core_web_sm\n",
    "!pip install --upgrade pip --user\n",
    "!pip install torch\n",
    "!pip install transformers\n",
    "!pip install tensorflow --user\n",
    "!pip install tokenization"
   ]
  },
  {
   "cell_type": "code",
   "execution_count": 2,
   "metadata": {},
   "outputs": [],
   "source": [
    "import pandas as pd\n",
    "import numpy as np\n",
    "import pymystem3\n",
    "import nltk\n",
    "import torch\n",
    "import tokenization\n",
    "import transformers\n",
    "import spacy\n",
    "import tensorflow\n",
    "import sys\n",
    "import codecs\n",
    "import re\n",
    "\n",
    "\n",
    "import time\n",
    "pd.set_option('display.precision',3)\n",
    "\n",
    "import warnings\n",
    "warnings.filterwarnings('ignore')\n",
    "\n",
    "from sklearn.linear_model import LogisticRegression\n",
    "from sklearn.svm import LinearSVC\n",
    "from sklearn.model_selection import cross_val_score, train_test_split\n",
    "from sklearn.feature_extraction.text import CountVectorizer, TfidfVectorizer\n",
    "from sklearn.metrics import f1_score\n",
    "from sklearn.model_selection import GridSearchCV\n",
    "\n",
    "from lightgbm import LGBMClassifier\n",
    "\n",
    "from nltk.corpus import stopwords\n",
    "from nltk.corpus import stopwords as nltk_stopwords\n",
    "\n",
    "from pymystem3 import Mystem\n",
    "from tqdm import notebook"
   ]
  },
  {
   "cell_type": "code",
   "execution_count": 4,
   "metadata": {},
   "outputs": [
    {
     "data": {
      "text/html": [
       "<div>\n",
       "<style scoped>\n",
       "    .dataframe tbody tr th:only-of-type {\n",
       "        vertical-align: middle;\n",
       "    }\n",
       "\n",
       "    .dataframe tbody tr th {\n",
       "        vertical-align: top;\n",
       "    }\n",
       "\n",
       "    .dataframe thead th {\n",
       "        text-align: right;\n",
       "    }\n",
       "</style>\n",
       "<table border=\"1\" class=\"dataframe\">\n",
       "  <thead>\n",
       "    <tr style=\"text-align: right;\">\n",
       "      <th></th>\n",
       "      <th>text</th>\n",
       "      <th>toxic</th>\n",
       "    </tr>\n",
       "  </thead>\n",
       "  <tbody>\n",
       "    <tr>\n",
       "      <td>0</td>\n",
       "      <td>Explanation\\nWhy the edits made under my usern...</td>\n",
       "      <td>0</td>\n",
       "    </tr>\n",
       "    <tr>\n",
       "      <td>1</td>\n",
       "      <td>D'aww! He matches this background colour I'm s...</td>\n",
       "      <td>0</td>\n",
       "    </tr>\n",
       "    <tr>\n",
       "      <td>2</td>\n",
       "      <td>Hey man, I'm really not trying to edit war. It...</td>\n",
       "      <td>0</td>\n",
       "    </tr>\n",
       "    <tr>\n",
       "      <td>3</td>\n",
       "      <td>\"\\nMore\\nI can't make any real suggestions on ...</td>\n",
       "      <td>0</td>\n",
       "    </tr>\n",
       "    <tr>\n",
       "      <td>4</td>\n",
       "      <td>You, sir, are my hero. Any chance you remember...</td>\n",
       "      <td>0</td>\n",
       "    </tr>\n",
       "    <tr>\n",
       "      <td>...</td>\n",
       "      <td>...</td>\n",
       "      <td>...</td>\n",
       "    </tr>\n",
       "    <tr>\n",
       "      <td>159566</td>\n",
       "      <td>\":::::And for the second time of asking, when ...</td>\n",
       "      <td>0</td>\n",
       "    </tr>\n",
       "    <tr>\n",
       "      <td>159567</td>\n",
       "      <td>You should be ashamed of yourself \\n\\nThat is ...</td>\n",
       "      <td>0</td>\n",
       "    </tr>\n",
       "    <tr>\n",
       "      <td>159568</td>\n",
       "      <td>Spitzer \\n\\nUmm, theres no actual article for ...</td>\n",
       "      <td>0</td>\n",
       "    </tr>\n",
       "    <tr>\n",
       "      <td>159569</td>\n",
       "      <td>And it looks like it was actually you who put ...</td>\n",
       "      <td>0</td>\n",
       "    </tr>\n",
       "    <tr>\n",
       "      <td>159570</td>\n",
       "      <td>\"\\nAnd ... I really don't think you understand...</td>\n",
       "      <td>0</td>\n",
       "    </tr>\n",
       "  </tbody>\n",
       "</table>\n",
       "<p>159571 rows × 2 columns</p>\n",
       "</div>"
      ],
      "text/plain": [
       "                                                     text  toxic\n",
       "0       Explanation\\nWhy the edits made under my usern...      0\n",
       "1       D'aww! He matches this background colour I'm s...      0\n",
       "2       Hey man, I'm really not trying to edit war. It...      0\n",
       "3       \"\\nMore\\nI can't make any real suggestions on ...      0\n",
       "4       You, sir, are my hero. Any chance you remember...      0\n",
       "...                                                   ...    ...\n",
       "159566  \":::::And for the second time of asking, when ...      0\n",
       "159567  You should be ashamed of yourself \\n\\nThat is ...      0\n",
       "159568  Spitzer \\n\\nUmm, theres no actual article for ...      0\n",
       "159569  And it looks like it was actually you who put ...      0\n",
       "159570  \"\\nAnd ... I really don't think you understand...      0\n",
       "\n",
       "[159571 rows x 2 columns]"
      ]
     },
     "execution_count": 4,
     "metadata": {},
     "output_type": "execute_result"
    }
   ],
   "source": [
    "df = pd.read_csv('/datasets/toxic_comments.csv')\n",
    "df"
   ]
  },
  {
   "cell_type": "code",
   "execution_count": 5,
   "metadata": {},
   "outputs": [
    {
     "name": "stdout",
     "output_type": "stream",
     "text": [
      "<class 'pandas.core.frame.DataFrame'>\n",
      "RangeIndex: 159571 entries, 0 to 159570\n",
      "Data columns (total 2 columns):\n",
      "text     159571 non-null object\n",
      "toxic    159571 non-null int64\n",
      "dtypes: int64(1), object(1)\n",
      "memory usage: 2.4+ MB\n"
     ]
    }
   ],
   "source": [
    "df.info()"
   ]
  },
  {
   "cell_type": "code",
   "execution_count": 6,
   "metadata": {},
   "outputs": [
    {
     "data": {
      "text/plain": [
       "0    143346\n",
       "1     16225\n",
       "Name: toxic, dtype: int64"
      ]
     },
     "metadata": {},
     "output_type": "display_data"
    },
    {
     "data": {
      "text/plain": [
       "8.834884437596301"
      ]
     },
     "execution_count": 6,
     "metadata": {},
     "output_type": "execute_result"
    }
   ],
   "source": [
    "display(df['toxic'].value_counts())\n",
    "class_ratio = df['toxic'].value_counts()[0] / df['toxic'].value_counts()[1]\n",
    "class_ratio"
   ]
  },
  {
   "cell_type": "markdown",
   "metadata": {},
   "source": [
    "Видим, что классы несбалансированны. Продолжим обучать модель без балансировки и посмотрим, будет ли удовлетворять результат поставленной задаче."
   ]
  },
  {
   "cell_type": "code",
   "execution_count": 7,
   "metadata": {},
   "outputs": [
    {
     "data": {
      "text/plain": [
       "text     0\n",
       "toxic    0\n",
       "dtype: int64"
      ]
     },
     "execution_count": 7,
     "metadata": {},
     "output_type": "execute_result"
    }
   ],
   "source": [
    "df.isna().sum()"
   ]
  },
  {
   "cell_type": "markdown",
   "metadata": {},
   "source": [
    "Очистим данные и проведем лемматизацию текста."
   ]
  },
  {
   "cell_type": "code",
   "execution_count": 8,
   "metadata": {},
   "outputs": [],
   "source": [
    "m = Mystem()\n",
    "\n",
    "def lemmatize_text(text):\n",
    "    text = text.lower()\n",
    "    lemm_text = \"\".join(m.lemmatize(text))\n",
    "    cleared_text = re.sub(r'[^a-zA-Z]', ' ', lemm_text) \n",
    "    return \" \".join(cleared_text.split())\n",
    "\n",
    "df['lemm_text'] = df['text'].apply(lemmatize_text)\n",
    "\n",
    "df = df.drop(['text'], axis=1)\n",
    "del m"
   ]
  },
  {
   "cell_type": "code",
   "execution_count": 9,
   "metadata": {},
   "outputs": [
    {
     "data": {
      "text/html": [
       "<div>\n",
       "<style scoped>\n",
       "    .dataframe tbody tr th:only-of-type {\n",
       "        vertical-align: middle;\n",
       "    }\n",
       "\n",
       "    .dataframe tbody tr th {\n",
       "        vertical-align: top;\n",
       "    }\n",
       "\n",
       "    .dataframe thead th {\n",
       "        text-align: right;\n",
       "    }\n",
       "</style>\n",
       "<table border=\"1\" class=\"dataframe\">\n",
       "  <thead>\n",
       "    <tr style=\"text-align: right;\">\n",
       "      <th></th>\n",
       "      <th>toxic</th>\n",
       "      <th>lemm_text</th>\n",
       "    </tr>\n",
       "  </thead>\n",
       "  <tbody>\n",
       "    <tr>\n",
       "      <td>0</td>\n",
       "      <td>0</td>\n",
       "      <td>explanation why the edits made under my userna...</td>\n",
       "    </tr>\n",
       "    <tr>\n",
       "      <td>1</td>\n",
       "      <td>0</td>\n",
       "      <td>d aww he matches this background colour i m se...</td>\n",
       "    </tr>\n",
       "    <tr>\n",
       "      <td>2</td>\n",
       "      <td>0</td>\n",
       "      <td>hey man i m really not trying to edit war it s...</td>\n",
       "    </tr>\n",
       "    <tr>\n",
       "      <td>3</td>\n",
       "      <td>0</td>\n",
       "      <td>more i can t make any real suggestions on impr...</td>\n",
       "    </tr>\n",
       "    <tr>\n",
       "      <td>4</td>\n",
       "      <td>0</td>\n",
       "      <td>you sir are my hero any chance you remember wh...</td>\n",
       "    </tr>\n",
       "  </tbody>\n",
       "</table>\n",
       "</div>"
      ],
      "text/plain": [
       "   toxic                                          lemm_text\n",
       "0      0  explanation why the edits made under my userna...\n",
       "1      0  d aww he matches this background colour i m se...\n",
       "2      0  hey man i m really not trying to edit war it s...\n",
       "3      0  more i can t make any real suggestions on impr...\n",
       "4      0  you sir are my hero any chance you remember wh..."
      ]
     },
     "execution_count": 9,
     "metadata": {},
     "output_type": "execute_result"
    }
   ],
   "source": [
    "df.head()"
   ]
  },
  {
   "cell_type": "markdown",
   "metadata": {},
   "source": [
    "Разобьем данные на выборки и сохраним тестово-валидационную выборку для предтестового обучения модели."
   ]
  },
  {
   "cell_type": "code",
   "execution_count": 10,
   "metadata": {},
   "outputs": [],
   "source": [
    "train_val = df.sample(frac=0.8, random_state=42).copy()\n",
    "test = df[~df.index.isin(train_val.index)].copy()"
   ]
  },
  {
   "cell_type": "code",
   "execution_count": 11,
   "metadata": {},
   "outputs": [],
   "source": [
    "train = train_val.sample(frac=0.75, random_state=42).copy()\n",
    "val = train_val[~train_val.index.isin(train.index)].copy()"
   ]
  },
  {
   "cell_type": "code",
   "execution_count": 12,
   "metadata": {},
   "outputs": [
    {
     "data": {
      "text/plain": [
       "True"
      ]
     },
     "execution_count": 12,
     "metadata": {},
     "output_type": "execute_result"
    }
   ],
   "source": [
    "len(df) == len(train) + len(val) + len(test)"
   ]
  },
  {
   "cell_type": "code",
   "execution_count": 13,
   "metadata": {},
   "outputs": [
    {
     "data": {
      "text/plain": [
       "True"
      ]
     },
     "execution_count": 13,
     "metadata": {},
     "output_type": "execute_result"
    }
   ],
   "source": [
    "len(train_val) == len(train) + len(val)"
   ]
  },
  {
   "cell_type": "markdown",
   "metadata": {},
   "source": [
    "## Обучение"
   ]
  },
  {
   "cell_type": "markdown",
   "metadata": {},
   "source": [
    "Создадим счетчик слов с помощью TF-IDF."
   ]
  },
  {
   "cell_type": "code",
   "execution_count": 14,
   "metadata": {},
   "outputs": [
    {
     "data": {
      "text/plain": [
       "TfidfVectorizer(analyzer='word', binary=False, decode_error='strict',\n",
       "                dtype=<class 'numpy.float64'>, encoding='utf-8',\n",
       "                input='content', lowercase=True, max_df=1.0, max_features=None,\n",
       "                min_df=1, ngram_range=(1, 1), norm='l2', preprocessor=None,\n",
       "                smooth_idf=True, stop_words='english', strip_accents=None,\n",
       "                sublinear_tf=False, token_pattern='(?u)\\\\b\\\\w\\\\w+\\\\b',\n",
       "                tokenizer=None, use_idf=True, vocabulary=None)"
      ]
     },
     "execution_count": 14,
     "metadata": {},
     "output_type": "execute_result"
    }
   ],
   "source": [
    "vect = TfidfVectorizer(stop_words='english')\n",
    "vect"
   ]
  },
  {
   "cell_type": "code",
   "execution_count": 15,
   "metadata": {},
   "outputs": [],
   "source": [
    "train_val_X = vect.fit_transform(train_val['lemm_text'])\n",
    "train_val_y = train_val['toxic']\n",
    "test_X = vect.transform(test['lemm_text'])\n",
    "test_y = test['toxic']"
   ]
  },
  {
   "cell_type": "code",
   "execution_count": 16,
   "metadata": {},
   "outputs": [],
   "source": [
    "X = vect.fit_transform(train['lemm_text'])\n",
    "y = train['toxic']\n",
    "val_X = vect.transform(val['lemm_text'])\n",
    "val_y = val['toxic']"
   ]
  },
  {
   "cell_type": "markdown",
   "metadata": {},
   "source": [
    "**LogisticRegression**"
   ]
  },
  {
   "cell_type": "code",
   "execution_count": 17,
   "metadata": {},
   "outputs": [],
   "source": [
    "logreg = LogisticRegression()"
   ]
  },
  {
   "cell_type": "code",
   "execution_count": 18,
   "metadata": {},
   "outputs": [
    {
     "data": {
      "text/plain": [
       "0.7713144643167216"
      ]
     },
     "execution_count": 18,
     "metadata": {},
     "output_type": "execute_result"
    }
   ],
   "source": [
    "logreg = LogisticRegression(C=19)\n",
    "logreg.fit(X, y)\n",
    "val_preds = logreg.predict(val_X)\n",
    "f1_val = f1_score(val_y, val_preds)\n",
    "f1_val"
   ]
  },
  {
   "cell_type": "code",
   "execution_count": 19,
   "metadata": {},
   "outputs": [
    {
     "data": {
      "text/plain": [
       "0.7701947502116852"
      ]
     },
     "execution_count": 19,
     "metadata": {},
     "output_type": "execute_result"
    }
   ],
   "source": [
    "logreg = LogisticRegression(C=19)\n",
    "\n",
    "start_time = time.time()\n",
    "logreg.fit(train_val_X, train_val_y)\n",
    "learn_time = time.time() - start_time\n",
    "\n",
    "test_preds = logreg.predict(test_X)\n",
    "f1_test = f1_score(test_y, test_preds)\n",
    "f1_test"
   ]
  },
  {
   "cell_type": "markdown",
   "metadata": {},
   "source": [
    "**LinearSVC**"
   ]
  },
  {
   "cell_type": "code",
   "execution_count": 20,
   "metadata": {},
   "outputs": [],
   "source": [
    "svc = LinearSVC(C=1)"
   ]
  },
  {
   "cell_type": "code",
   "execution_count": 21,
   "metadata": {},
   "outputs": [
    {
     "data": {
      "text/plain": [
       "(106.77343678474426, {'C': 1})"
      ]
     },
     "execution_count": 21,
     "metadata": {},
     "output_type": "execute_result"
    }
   ],
   "source": [
    "param = {'C': range (1,20, 2)}\n",
    "\n",
    "grid = GridSearchCV(svc, param, scoring='f1', cv=4)\n",
    "start_time = time.time()\n",
    "grid.fit(X, y)\n",
    "gridsearch_time = time.time() - start_time\n",
    "\n",
    "gridsearch_time, grid.best_params_"
   ]
  },
  {
   "cell_type": "code",
   "execution_count": 22,
   "metadata": {},
   "outputs": [
    {
     "data": {
      "text/plain": [
       "0.7747779132555304"
      ]
     },
     "execution_count": 22,
     "metadata": {},
     "output_type": "execute_result"
    }
   ],
   "source": [
    "svc.fit(X, y)\n",
    "val_preds = svc.predict(val_X)\n",
    "f1_val_SVC = f1_score(val_y, val_preds)\n",
    "f1_val_SVC"
   ]
  },
  {
   "cell_type": "code",
   "execution_count": 23,
   "metadata": {},
   "outputs": [
    {
     "data": {
      "text/plain": [
       "0.7788363388907793"
      ]
     },
     "execution_count": 23,
     "metadata": {},
     "output_type": "execute_result"
    }
   ],
   "source": [
    "svc = LinearSVC(C=1)\n",
    "\n",
    "start_time = time.time()\n",
    "svc.fit(train_val_X, train_val_y)\n",
    "learn_time_SVC = time.time() - start_time\n",
    "\n",
    "test_preds = svc.predict(test_X)\n",
    "f1_test_SVC = f1_score(test_y, test_preds)\n",
    "f1_test_SVC"
   ]
  },
  {
   "cell_type": "markdown",
   "metadata": {},
   "source": [
    "**LightGBM**"
   ]
  },
  {
   "cell_type": "code",
   "execution_count": null,
   "metadata": {},
   "outputs": [],
   "source": [
    "lgbm = LGBMClassifier(metric = 'f1_score')"
   ]
  },
  {
   "cell_type": "code",
   "execution_count": 25,
   "metadata": {},
   "outputs": [
    {
     "data": {
      "text/plain": [
       "0.7367455512749953"
      ]
     },
     "execution_count": 25,
     "metadata": {},
     "output_type": "execute_result"
    }
   ],
   "source": [
    "lgbm.fit(X, y, eval_set=(val_X, val_y))\n",
    "lgbm_val_preds = lgbm.predict(val_X)\n",
    "f1_val_LGBM = f1_score(val_y, lgbm_val_preds)\n",
    "f1_val_LGBM"
   ]
  },
  {
   "cell_type": "code",
   "execution_count": 26,
   "metadata": {},
   "outputs": [
    {
     "data": {
      "text/plain": [
       "0.7434234234234235"
      ]
     },
     "execution_count": 26,
     "metadata": {},
     "output_type": "execute_result"
    }
   ],
   "source": [
    "start_time = time.time()\n",
    "lgbm.fit(train_val_X, train_val_y)\n",
    "learn_time_LGBM = time.time() - start_time\n",
    "lgbm_preds = lgbm.predict(test_X)\n",
    "f1_test_LGBM = f1_score(lgbm_preds, test_y)\n",
    "f1_test_LGBM"
   ]
  },
  {
   "cell_type": "markdown",
   "metadata": {},
   "source": [
    "Хотела подтягуть LightGBM при помощи GridSearchCV, но два раза умирало ядро."
   ]
  },
  {
   "cell_type": "markdown",
   "metadata": {},
   "source": [
    "## Выводы"
   ]
  },
  {
   "cell_type": "markdown",
   "metadata": {},
   "source": [
    "Посмотрим на итоговую таблицу по всем моделям."
   ]
  },
  {
   "cell_type": "code",
   "execution_count": 27,
   "metadata": {},
   "outputs": [],
   "source": [
    "final = pd.DataFrame(columns = [\"F1_score_validation\",\"F1_score_test\", 'Learn_time'],\n",
    "                      index = [\"LogisticRegression\",\"LinearSVC\", 'LGBMClassifier'])\n",
    "\n",
    "\n",
    "report.iloc[0] = [f1_val,f1_test, learn_time]\n",
    "report.iloc[1] = [f1_val_SVC,f1_test_SVC, learn_time_SVC]\n",
    "report.iloc[2] = [f1_val_LGBM,f1_test_LGBM, learn_time_LGBM]"
   ]
  },
  {
   "cell_type": "code",
   "execution_count": 28,
   "metadata": {},
   "outputs": [
    {
     "data": {
      "text/html": [
       "<div>\n",
       "<style scoped>\n",
       "    .dataframe tbody tr th:only-of-type {\n",
       "        vertical-align: middle;\n",
       "    }\n",
       "\n",
       "    .dataframe tbody tr th {\n",
       "        vertical-align: top;\n",
       "    }\n",
       "\n",
       "    .dataframe thead th {\n",
       "        text-align: right;\n",
       "    }\n",
       "</style>\n",
       "<table border=\"1\" class=\"dataframe\">\n",
       "  <thead>\n",
       "    <tr style=\"text-align: right;\">\n",
       "      <th></th>\n",
       "      <th>F1_score_validation</th>\n",
       "      <th>F1_score_test</th>\n",
       "      <th>Learn_time</th>\n",
       "    </tr>\n",
       "  </thead>\n",
       "  <tbody>\n",
       "    <tr>\n",
       "      <td>LogisticRegression</td>\n",
       "      <td>0.771</td>\n",
       "      <td>0.77</td>\n",
       "      <td>19.8</td>\n",
       "    </tr>\n",
       "    <tr>\n",
       "      <td>LinearSVC</td>\n",
       "      <td>0.775</td>\n",
       "      <td>0.779</td>\n",
       "      <td>1.29</td>\n",
       "    </tr>\n",
       "    <tr>\n",
       "      <td>LGBMClassifier</td>\n",
       "      <td>0.737</td>\n",
       "      <td>0.743</td>\n",
       "      <td>232</td>\n",
       "    </tr>\n",
       "  </tbody>\n",
       "</table>\n",
       "</div>"
      ],
      "text/plain": [
       "                   F1_score_validation F1_score_test Learn_time\n",
       "LogisticRegression               0.771          0.77       19.8\n",
       "LinearSVC                        0.775         0.779       1.29\n",
       "LGBMClassifier                   0.737         0.743        232"
      ]
     },
     "execution_count": 28,
     "metadata": {},
     "output_type": "execute_result"
    }
   ],
   "source": [
    "final"
   ]
  },
  {
   "cell_type": "markdown",
   "metadata": {},
   "source": [
    "В ходе работы над проектом были подготовленны данные обучения на моделях, которые были поделены на обучающую, валидационную и тестовую выборки, обучены модели и выбраны лучшие, которые удовлетворяют поставленной задаче F1>0.75.\n",
    "\n",
    "Так как TF-IDF превращают текст в численные значения, лучшими моделями стали LogisticRegression и LinearSVC (чуть лучше первой модели). И по метрике и по времени обучения. LGBMClassifier показал себя хуже всех по метрике, а также и по времени обучения модели. \n",
    "\n",
    "На тестовой выбоке по метрике F1 аналогично лучше всего себя показали модели LinearSVC и LogisticRegression.  "
   ]
  }
 ],
 "metadata": {
  "ExecuteTimeLog": [
   {
    "duration": 1651,
    "start_time": "2021-09-19T03:56:33.933Z"
   },
   {
    "duration": 853,
    "start_time": "2021-09-19T03:56:36.727Z"
   },
   {
    "duration": 2675,
    "start_time": "2021-09-19T14:00:29.572Z"
   },
   {
    "duration": 6013,
    "start_time": "2021-09-19T14:00:55.111Z"
   },
   {
    "duration": 35,
    "start_time": "2021-09-19T14:02:08.427Z"
   },
   {
    "duration": 796,
    "start_time": "2021-09-19T14:02:14.030Z"
   },
   {
    "duration": 32,
    "start_time": "2021-09-19T14:02:17.049Z"
   },
   {
    "duration": 20,
    "start_time": "2021-09-19T14:03:04.910Z"
   },
   {
    "duration": 1024,
    "start_time": "2021-09-19T14:19:42.348Z"
   },
   {
    "duration": 17,
    "start_time": "2021-09-19T14:20:01.131Z"
   },
   {
    "duration": 170359,
    "start_time": "2021-09-19T14:20:06.691Z"
   },
   {
    "duration": 415,
    "start_time": "2021-09-19T14:23:51.738Z"
   },
   {
    "duration": 9,
    "start_time": "2021-09-19T14:24:22.195Z"
   },
   {
    "duration": 326,
    "start_time": "2021-09-19T14:24:26.212Z"
   },
   {
    "duration": 9975,
    "start_time": "2021-09-19T14:25:22.341Z"
   },
   {
    "duration": 9,
    "start_time": "2021-09-19T14:27:05.274Z"
   },
   {
    "duration": 734,
    "start_time": "2021-09-19T14:27:05.943Z"
   },
   {
    "duration": 32,
    "start_time": "2021-09-19T14:27:07.317Z"
   },
   {
    "duration": 18,
    "start_time": "2021-09-19T14:27:08.567Z"
   },
   {
    "duration": 411,
    "start_time": "2021-09-19T14:27:41.770Z"
   },
   {
    "duration": 6198,
    "start_time": "2021-09-19T14:27:51.766Z"
   },
   {
    "duration": 781,
    "start_time": "2021-09-19T14:27:57.967Z"
   },
   {
    "duration": 764,
    "start_time": "2021-09-19T14:28:03.566Z"
   },
   {
    "duration": 31,
    "start_time": "2021-09-19T14:28:04.973Z"
   },
   {
    "duration": 19,
    "start_time": "2021-09-19T14:28:08.097Z"
   },
   {
    "duration": 8612,
    "start_time": "2021-09-26T10:07:54.745Z"
   },
   {
    "duration": 459,
    "start_time": "2021-09-26T10:08:21.862Z"
   },
   {
    "duration": 5153,
    "start_time": "2021-09-26T10:09:21.723Z"
   },
   {
    "duration": 405,
    "start_time": "2021-09-26T10:09:33.654Z"
   },
   {
    "duration": 7946,
    "start_time": "2021-09-26T10:10:09.681Z"
   },
   {
    "duration": 440,
    "start_time": "2021-09-26T10:10:24.745Z"
   },
   {
    "duration": 30547,
    "start_time": "2021-09-26T10:10:42.915Z"
   },
   {
    "duration": 470,
    "start_time": "2021-09-26T10:15:12.812Z"
   },
   {
    "duration": 64308,
    "start_time": "2021-09-26T10:15:55.306Z"
   },
   {
    "duration": 368,
    "start_time": "2021-09-26T10:16:59.617Z"
   },
   {
    "duration": 8,
    "start_time": "2021-09-26T10:19:02.837Z"
   },
   {
    "duration": 741,
    "start_time": "2021-09-26T10:19:28.565Z"
   },
   {
    "duration": 31,
    "start_time": "2021-09-26T10:19:31.416Z"
   },
   {
    "duration": 20,
    "start_time": "2021-09-26T10:19:34.587Z"
   },
   {
    "duration": 30,
    "start_time": "2021-09-26T10:20:04.854Z"
   },
   {
    "duration": 5382,
    "start_time": "2021-09-26T10:34:14.472Z"
   },
   {
    "duration": 5,
    "start_time": "2021-09-26T10:34:25.257Z"
   },
   {
    "duration": 3,
    "start_time": "2021-09-26T10:34:37.297Z"
   },
   {
    "duration": 875,
    "start_time": "2021-09-26T10:35:30.188Z"
   },
   {
    "duration": 378,
    "start_time": "2021-09-26T10:36:19.012Z"
   },
   {
    "duration": 423,
    "start_time": "2021-09-26T10:37:55.153Z"
   },
   {
    "duration": 2072,
    "start_time": "2021-09-26T10:38:10.844Z"
   },
   {
    "duration": 8,
    "start_time": "2021-09-26T10:38:37.087Z"
   },
   {
    "duration": 5,
    "start_time": "2021-09-26T10:40:31.697Z"
   },
   {
    "duration": 5,
    "start_time": "2021-09-26T10:40:32.795Z"
   },
   {
    "duration": 875,
    "start_time": "2021-09-26T10:41:07.600Z"
   },
   {
    "duration": 5,
    "start_time": "2021-09-26T10:41:25.347Z"
   },
   {
    "duration": 1406,
    "start_time": "2021-09-26T10:41:26.478Z"
   },
   {
    "duration": 23,
    "start_time": "2021-09-26T10:43:30.749Z"
   },
   {
    "duration": 389,
    "start_time": "2021-09-26T10:43:57.684Z"
   },
   {
    "duration": 50900,
    "start_time": "2021-09-26T10:46:08.153Z"
   },
   {
    "duration": 7100,
    "start_time": "2021-09-26T10:46:59.056Z"
   },
   {
    "duration": 806,
    "start_time": "2021-09-26T10:47:06.159Z"
   },
   {
    "duration": 31,
    "start_time": "2021-09-26T10:47:06.968Z"
   },
   {
    "duration": 21,
    "start_time": "2021-09-26T10:47:07.001Z"
   },
   {
    "duration": 64,
    "start_time": "2021-09-26T10:47:07.025Z"
   },
   {
    "duration": 170150,
    "start_time": "2021-09-26T10:47:07.091Z"
   },
   {
    "duration": 10363,
    "start_time": "2021-09-26T10:49:57.245Z"
   },
   {
    "duration": 430,
    "start_time": "2021-09-26T10:50:07.611Z"
   },
   {
    "duration": 90,
    "start_time": "2021-09-26T10:50:07.954Z"
   },
   {
    "duration": 82,
    "start_time": "2021-09-26T10:50:07.964Z"
   },
   {
    "duration": 76,
    "start_time": "2021-09-26T10:50:07.972Z"
   },
   {
    "duration": 69,
    "start_time": "2021-09-26T10:50:07.982Z"
   },
   {
    "duration": 64,
    "start_time": "2021-09-26T10:50:07.989Z"
   },
   {
    "duration": 57,
    "start_time": "2021-09-26T10:50:07.998Z"
   },
   {
    "duration": 9,
    "start_time": "2021-09-26T11:08:34.818Z"
   },
   {
    "duration": 77,
    "start_time": "2021-09-26T11:22:13.488Z"
   },
   {
    "duration": 65,
    "start_time": "2021-09-26T11:22:15.122Z"
   },
   {
    "duration": 6,
    "start_time": "2021-09-26T11:22:17.013Z"
   },
   {
    "duration": 6,
    "start_time": "2021-09-26T11:22:18.061Z"
   },
   {
    "duration": 5,
    "start_time": "2021-09-26T11:23:07.311Z"
   },
   {
    "duration": 12669,
    "start_time": "2021-09-26T11:23:14.261Z"
   },
   {
    "duration": 12980,
    "start_time": "2021-09-26T11:29:32.793Z"
   },
   {
    "duration": 11425,
    "start_time": "2021-09-26T12:01:53.989Z"
   },
   {
    "duration": 11084,
    "start_time": "2021-09-26T12:02:32.799Z"
   },
   {
    "duration": 531,
    "start_time": "2021-09-26T12:03:15.269Z"
   },
   {
    "duration": 511,
    "start_time": "2021-09-26T12:03:49.247Z"
   },
   {
    "duration": 10800,
    "start_time": "2021-09-26T12:04:02.158Z"
   },
   {
    "duration": 13109,
    "start_time": "2021-09-26T12:04:37.116Z"
   },
   {
    "duration": 482,
    "start_time": "2021-09-26T12:05:14.315Z"
   },
   {
    "duration": 13,
    "start_time": "2021-09-26T12:08:43.170Z"
   },
   {
    "duration": 13183,
    "start_time": "2021-09-26T12:09:30.589Z"
   },
   {
    "duration": 10820,
    "start_time": "2021-09-26T12:10:02.166Z"
   },
   {
    "duration": 9,
    "start_time": "2021-09-26T12:10:24.276Z"
   },
   {
    "duration": 15779,
    "start_time": "2021-09-26T12:10:34.632Z"
   },
   {
    "duration": 18387,
    "start_time": "2021-09-26T12:11:02.867Z"
   },
   {
    "duration": 434,
    "start_time": "2021-09-26T12:11:33.999Z"
   },
   {
    "duration": 379,
    "start_time": "2021-09-26T12:13:05.241Z"
   },
   {
    "duration": 18332,
    "start_time": "2021-09-26T12:14:02.521Z"
   },
   {
    "duration": 3,
    "start_time": "2021-09-26T12:14:36.042Z"
   },
   {
    "duration": 148008,
    "start_time": "2021-09-26T12:14:46.879Z"
   },
   {
    "duration": 1117,
    "start_time": "2021-09-26T12:24:10.892Z"
   },
   {
    "duration": 1489,
    "start_time": "2021-09-26T12:30:18.375Z"
   },
   {
    "duration": 1546,
    "start_time": "2021-09-26T12:30:36.846Z"
   },
   {
    "duration": 1474,
    "start_time": "2021-09-26T12:30:44.210Z"
   },
   {
    "duration": 4,
    "start_time": "2021-09-26T12:31:08.936Z"
   },
   {
    "duration": 1094509,
    "start_time": "2021-09-26T12:31:16.389Z"
   },
   {
    "duration": 1522,
    "start_time": "2021-09-26T12:49:30.901Z"
   },
   {
    "duration": 54391,
    "start_time": "2021-09-26T12:53:36.855Z"
   },
   {
    "duration": 7370,
    "start_time": "2021-09-26T12:54:31.249Z"
   },
   {
    "duration": 172,
    "start_time": "2021-09-26T12:54:38.623Z"
   },
   {
    "duration": 979,
    "start_time": "2021-09-26T12:54:38.799Z"
   },
   {
    "duration": 33,
    "start_time": "2021-09-26T12:54:39.781Z"
   },
   {
    "duration": 19,
    "start_time": "2021-09-26T12:54:39.816Z"
   },
   {
    "duration": 36,
    "start_time": "2021-09-26T12:54:39.863Z"
   },
   {
    "duration": 178734,
    "start_time": "2021-09-26T12:54:39.903Z"
   },
   {
    "duration": 10,
    "start_time": "2021-09-26T12:57:38.640Z"
   },
   {
    "duration": 113,
    "start_time": "2021-09-26T12:57:38.652Z"
   },
   {
    "duration": 68,
    "start_time": "2021-09-26T12:57:38.767Z"
   },
   {
    "duration": 5,
    "start_time": "2021-09-26T12:57:38.837Z"
   },
   {
    "duration": 21,
    "start_time": "2021-09-26T12:57:38.845Z"
   },
   {
    "duration": 12,
    "start_time": "2021-09-26T12:57:38.869Z"
   },
   {
    "duration": 12934,
    "start_time": "2021-09-26T12:57:38.883Z"
   },
   {
    "duration": 128,
    "start_time": "2021-09-26T12:57:51.693Z"
   },
   {
    "duration": 117,
    "start_time": "2021-09-26T12:57:51.705Z"
   },
   {
    "duration": 102,
    "start_time": "2021-09-26T12:57:51.722Z"
   },
   {
    "duration": 90,
    "start_time": "2021-09-26T12:57:51.736Z"
   },
   {
    "duration": 78,
    "start_time": "2021-09-26T12:57:51.750Z"
   },
   {
    "duration": 64,
    "start_time": "2021-09-26T12:57:51.765Z"
   },
   {
    "duration": 53,
    "start_time": "2021-09-26T12:57:51.777Z"
   },
   {
    "duration": 16,
    "start_time": "2021-09-26T12:57:51.815Z"
   },
   {
    "duration": 3,
    "start_time": "2021-09-26T12:57:51.830Z"
   },
   {
    "duration": -8,
    "start_time": "2021-09-26T12:57:51.842Z"
   },
   {
    "duration": -26,
    "start_time": "2021-09-26T12:57:51.861Z"
   },
   {
    "duration": -42,
    "start_time": "2021-09-26T12:57:51.878Z"
   },
   {
    "duration": -51,
    "start_time": "2021-09-26T12:57:51.889Z"
   },
   {
    "duration": -60,
    "start_time": "2021-09-26T12:57:51.899Z"
   },
   {
    "duration": -72,
    "start_time": "2021-09-26T12:57:51.912Z"
   },
   {
    "duration": -100,
    "start_time": "2021-09-26T12:57:51.941Z"
   },
   {
    "duration": -109,
    "start_time": "2021-09-26T12:57:51.952Z"
   },
   {
    "duration": -116,
    "start_time": "2021-09-26T12:57:51.960Z"
   },
   {
    "duration": -123,
    "start_time": "2021-09-26T12:57:51.968Z"
   },
   {
    "duration": 406,
    "start_time": "2021-09-26T13:03:15.113Z"
   },
   {
    "duration": 413,
    "start_time": "2021-09-26T13:03:20.058Z"
   },
   {
    "duration": 400,
    "start_time": "2021-09-26T13:03:24.404Z"
   },
   {
    "duration": 8,
    "start_time": "2021-09-26T13:03:29.365Z"
   },
   {
    "duration": 12070,
    "start_time": "2021-09-26T13:03:31.399Z"
   },
   {
    "duration": 10685,
    "start_time": "2021-09-26T13:03:49.687Z"
   },
   {
    "duration": 9,
    "start_time": "2021-09-26T13:04:09.782Z"
   },
   {
    "duration": 16658,
    "start_time": "2021-09-26T13:04:12.557Z"
   },
   {
    "duration": 19439,
    "start_time": "2021-09-26T13:04:32.797Z"
   },
   {
    "duration": 4,
    "start_time": "2021-09-26T13:04:55.075Z"
   },
   {
    "duration": 128254,
    "start_time": "2021-09-26T13:04:56.775Z"
   },
   {
    "duration": 1241,
    "start_time": "2021-09-26T13:09:54.670Z"
   },
   {
    "duration": 1356,
    "start_time": "2021-09-26T13:10:02.671Z"
   },
   {
    "duration": 9,
    "start_time": "2021-09-26T13:10:09.389Z"
   },
   {
    "duration": 718324,
    "start_time": "2021-09-26T13:10:11.445Z"
   },
   {
    "duration": 749575,
    "start_time": "2021-09-26T13:22:14.607Z"
   },
   {
    "duration": 459,
    "start_time": "2021-09-26T13:36:02.006Z"
   },
   {
    "duration": 52919,
    "start_time": "2021-09-26T13:38:13.295Z"
   },
   {
    "duration": 7284,
    "start_time": "2021-09-26T13:39:06.217Z"
   },
   {
    "duration": 142,
    "start_time": "2021-09-26T13:39:13.504Z"
   },
   {
    "duration": 817,
    "start_time": "2021-09-26T13:39:13.650Z"
   },
   {
    "duration": 30,
    "start_time": "2021-09-26T13:39:14.470Z"
   },
   {
    "duration": 21,
    "start_time": "2021-09-26T13:39:14.503Z"
   },
   {
    "duration": 56,
    "start_time": "2021-09-26T13:39:14.526Z"
   },
   {
    "duration": 181222,
    "start_time": "2021-09-26T13:39:14.587Z"
   },
   {
    "duration": 9,
    "start_time": "2021-09-26T13:42:15.813Z"
   },
   {
    "duration": 107,
    "start_time": "2021-09-26T13:42:15.825Z"
   },
   {
    "duration": 61,
    "start_time": "2021-09-26T13:42:15.935Z"
   },
   {
    "duration": 5,
    "start_time": "2021-09-26T13:42:15.998Z"
   },
   {
    "duration": 13,
    "start_time": "2021-09-26T13:42:16.006Z"
   },
   {
    "duration": 11,
    "start_time": "2021-09-26T13:42:16.023Z"
   },
   {
    "duration": 11792,
    "start_time": "2021-09-26T13:42:16.037Z"
   },
   {
    "duration": 9433,
    "start_time": "2021-09-26T13:42:27.831Z"
   },
   {
    "duration": 4,
    "start_time": "2021-09-26T13:42:37.269Z"
   },
   {
    "duration": 16952,
    "start_time": "2021-09-26T13:42:37.276Z"
   },
   {
    "duration": 19026,
    "start_time": "2021-09-26T13:42:54.232Z"
   },
   {
    "duration": 11,
    "start_time": "2021-09-26T13:43:13.260Z"
   },
   {
    "duration": 119262,
    "start_time": "2021-09-26T13:43:13.275Z"
   },
   {
    "duration": 1096,
    "start_time": "2021-09-26T13:45:12.540Z"
   },
   {
    "duration": 1481,
    "start_time": "2021-09-26T13:45:13.641Z"
   },
   {
    "duration": 5,
    "start_time": "2021-09-26T13:45:15.125Z"
   },
   {
    "duration": 616375,
    "start_time": "2021-09-26T13:45:15.133Z"
   },
   {
    "duration": 847800,
    "start_time": "2021-09-26T13:55:31.511Z"
   },
   {
    "duration": 592979,
    "start_time": "2021-09-26T14:09:39.313Z"
   },
   {
    "duration": 644,
    "start_time": "2021-09-26T14:22:38.443Z"
   },
   {
    "duration": 52898,
    "start_time": "2021-09-26T14:23:15.161Z"
   },
   {
    "duration": 7714,
    "start_time": "2021-09-26T14:24:08.063Z"
   },
   {
    "duration": 1173,
    "start_time": "2021-09-26T14:24:15.783Z"
   },
   {
    "duration": 1014,
    "start_time": "2021-09-26T14:24:16.959Z"
   },
   {
    "duration": 34,
    "start_time": "2021-09-26T14:24:17.977Z"
   },
   {
    "duration": 54,
    "start_time": "2021-09-26T14:24:18.014Z"
   },
   {
    "duration": 33,
    "start_time": "2021-09-26T14:24:18.075Z"
   },
   {
    "duration": 164293,
    "start_time": "2021-09-26T14:24:18.112Z"
   },
   {
    "duration": 10,
    "start_time": "2021-09-26T14:27:02.407Z"
   },
   {
    "duration": 161,
    "start_time": "2021-09-26T14:27:02.420Z"
   },
   {
    "duration": 104,
    "start_time": "2021-09-26T14:27:02.584Z"
   },
   {
    "duration": 6,
    "start_time": "2021-09-26T14:27:02.692Z"
   },
   {
    "duration": 37,
    "start_time": "2021-09-26T14:27:02.701Z"
   },
   {
    "duration": 38,
    "start_time": "2021-09-26T14:27:02.742Z"
   },
   {
    "duration": 11536,
    "start_time": "2021-09-26T14:27:02.783Z"
   },
   {
    "duration": 8474,
    "start_time": "2021-09-26T14:27:14.321Z"
   },
   {
    "duration": 4,
    "start_time": "2021-09-26T14:27:22.798Z"
   },
   {
    "duration": 17127,
    "start_time": "2021-09-26T14:27:22.804Z"
   },
   {
    "duration": 19800,
    "start_time": "2021-09-26T14:27:39.934Z"
   },
   {
    "duration": 3,
    "start_time": "2021-09-26T14:27:59.737Z"
   },
   {
    "duration": 106781,
    "start_time": "2021-09-26T14:27:59.763Z"
   },
   {
    "duration": 968,
    "start_time": "2021-09-26T14:29:46.549Z"
   },
   {
    "duration": 1315,
    "start_time": "2021-09-26T14:29:47.520Z"
   },
   {
    "duration": 3,
    "start_time": "2021-09-26T14:29:48.838Z"
   },
   {
    "duration": 351071,
    "start_time": "2021-09-26T14:29:48.844Z"
   },
   {
    "duration": 235212,
    "start_time": "2021-09-26T14:35:39.962Z"
   },
   {
    "duration": 11,
    "start_time": "2021-09-26T14:39:35.176Z"
   },
   {
    "duration": 10,
    "start_time": "2021-09-26T14:39:47.991Z"
   }
  ],
  "kernelspec": {
   "display_name": "Python 3 (ipykernel)",
   "language": "python",
   "name": "python3"
  },
  "language_info": {
   "codemirror_mode": {
    "name": "ipython",
    "version": 3
   },
   "file_extension": ".py",
   "mimetype": "text/x-python",
   "name": "python",
   "nbconvert_exporter": "python",
   "pygments_lexer": "ipython3",
   "version": "3.9.5"
  },
  "toc": {
   "base_numbering": 1,
   "nav_menu": {},
   "number_sections": false,
   "sideBar": false,
   "skip_h1_title": true,
   "title_cell": "Содержание",
   "title_sidebar": "Contents",
   "toc_cell": false,
   "toc_position": {
    "height": "calc(100% - 180px)",
    "left": "10px",
    "top": "150px",
    "width": "302.391px"
   },
   "toc_section_display": false,
   "toc_window_display": false
  }
 },
 "nbformat": 4,
 "nbformat_minor": 2
}
