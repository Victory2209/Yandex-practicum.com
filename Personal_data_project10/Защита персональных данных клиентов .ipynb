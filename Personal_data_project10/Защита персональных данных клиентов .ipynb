{
 "cells": [
  {
   "cell_type": "markdown",
   "metadata": {},
   "source": [
    "# Защита персональных данных клиентов"
   ]
  },
  {
   "cell_type": "markdown",
   "metadata": {},
   "source": [
    "Необходимо защитить данные клиентов страховой компании «Хоть потоп». Разработаем такой метод преобразования данных, чтобы по ним было сложно восстановить персональную информацию. Корректность его работы.\n",
    "\n",
    "Нужно защитить данные, чтобы при преобразовании качество моделей машинного обучения не ухудшилось. Подбирать наилучшую модель не требуется."
   ]
  },
  {
   "cell_type": "markdown",
   "metadata": {},
   "source": [
    "## Загрузка данных"
   ]
  },
  {
   "cell_type": "code",
   "execution_count": 1,
   "metadata": {},
   "outputs": [],
   "source": [
    "import pandas as pd\n",
    "import numpy as np\n",
    "from sklearn.linear_model import LinearRegression\n",
    "from sklearn.model_selection import train_test_split\n",
    "from sklearn.metrics import r2_score, mean_squared_error, accuracy_score"
   ]
  },
  {
   "cell_type": "code",
   "execution_count": 2,
   "metadata": {},
   "outputs": [
    {
     "data": {
      "text/html": [
       "<div>\n",
       "<style scoped>\n",
       "    .dataframe tbody tr th:only-of-type {\n",
       "        vertical-align: middle;\n",
       "    }\n",
       "\n",
       "    .dataframe tbody tr th {\n",
       "        vertical-align: top;\n",
       "    }\n",
       "\n",
       "    .dataframe thead th {\n",
       "        text-align: right;\n",
       "    }\n",
       "</style>\n",
       "<table border=\"1\" class=\"dataframe\">\n",
       "  <thead>\n",
       "    <tr style=\"text-align: right;\">\n",
       "      <th></th>\n",
       "      <th>Пол</th>\n",
       "      <th>Возраст</th>\n",
       "      <th>Зарплата</th>\n",
       "      <th>Члены семьи</th>\n",
       "      <th>Страховые выплаты</th>\n",
       "    </tr>\n",
       "  </thead>\n",
       "  <tbody>\n",
       "    <tr>\n",
       "      <td>0</td>\n",
       "      <td>1</td>\n",
       "      <td>41.0</td>\n",
       "      <td>49600.0</td>\n",
       "      <td>1</td>\n",
       "      <td>0</td>\n",
       "    </tr>\n",
       "    <tr>\n",
       "      <td>1</td>\n",
       "      <td>0</td>\n",
       "      <td>46.0</td>\n",
       "      <td>38000.0</td>\n",
       "      <td>1</td>\n",
       "      <td>1</td>\n",
       "    </tr>\n",
       "    <tr>\n",
       "      <td>2</td>\n",
       "      <td>0</td>\n",
       "      <td>29.0</td>\n",
       "      <td>21000.0</td>\n",
       "      <td>0</td>\n",
       "      <td>0</td>\n",
       "    </tr>\n",
       "    <tr>\n",
       "      <td>3</td>\n",
       "      <td>0</td>\n",
       "      <td>21.0</td>\n",
       "      <td>41700.0</td>\n",
       "      <td>2</td>\n",
       "      <td>0</td>\n",
       "    </tr>\n",
       "    <tr>\n",
       "      <td>4</td>\n",
       "      <td>1</td>\n",
       "      <td>28.0</td>\n",
       "      <td>26100.0</td>\n",
       "      <td>0</td>\n",
       "      <td>0</td>\n",
       "    </tr>\n",
       "  </tbody>\n",
       "</table>\n",
       "</div>"
      ],
      "text/plain": [
       "   Пол  Возраст  Зарплата  Члены семьи  Страховые выплаты\n",
       "0    1     41.0   49600.0            1                  0\n",
       "1    0     46.0   38000.0            1                  1\n",
       "2    0     29.0   21000.0            0                  0\n",
       "3    0     21.0   41700.0            2                  0\n",
       "4    1     28.0   26100.0            0                  0"
      ]
     },
     "execution_count": 2,
     "metadata": {},
     "output_type": "execute_result"
    }
   ],
   "source": [
    "df = pd.read_csv(\"/datasets/insurance.csv\")\n",
    "df.head()"
   ]
  },
  {
   "cell_type": "code",
   "execution_count": 3,
   "metadata": {},
   "outputs": [
    {
     "data": {
      "text/plain": [
       "153"
      ]
     },
     "execution_count": 3,
     "metadata": {},
     "output_type": "execute_result"
    }
   ],
   "source": [
    "df.duplicated().sum()"
   ]
  },
  {
   "cell_type": "code",
   "execution_count": 4,
   "metadata": {},
   "outputs": [
    {
     "data": {
      "text/plain": [
       "Пол                  0\n",
       "Возраст              0\n",
       "Зарплата             0\n",
       "Члены семьи          0\n",
       "Страховые выплаты    0\n",
       "dtype: int64"
      ]
     },
     "execution_count": 4,
     "metadata": {},
     "output_type": "execute_result"
    }
   ],
   "source": [
    "df.isna().sum()"
   ]
  },
  {
   "cell_type": "markdown",
   "metadata": {},
   "source": [
    "В наших данных нет пропусков, но есть 153 дубликата. Так как в проекте не требуется подбирать наилучшую модель, то и дубликаты можно оставить.\n",
    "\n",
    "Разделим наши данные на признаки и целевой признак."
   ]
  },
  {
   "cell_type": "code",
   "execution_count": 5,
   "metadata": {},
   "outputs": [
    {
     "data": {
      "text/plain": [
       "((5000, 4), (5000,))"
      ]
     },
     "execution_count": 5,
     "metadata": {},
     "output_type": "execute_result"
    }
   ],
   "source": [
    "features = df.drop(\"Страховые выплаты\", axis=1)\n",
    "target = df[\"Страховые выплаты\"]\n",
    "\n",
    "features.shape, target.shape"
   ]
  },
  {
   "cell_type": "markdown",
   "metadata": {},
   "source": [
    "## Умножение матриц"
   ]
  },
  {
   "cell_type": "markdown",
   "metadata": {},
   "source": [
    "Обозначения:\n",
    "\n",
    "- $X$ — матрица признаков (нулевой столбец состоит из единиц)\n",
    "\n",
    "- $y$ — вектор целевого признака\n",
    "\n",
    "- $P$ — матрица, на которую умножаются признаки\n",
    "\n",
    "- $w$ — вектор весов линейной регрессии (нулевой элемент равен сдвигу)"
   ]
  },
  {
   "cell_type": "markdown",
   "metadata": {},
   "source": [
    "Предсказания:\n",
    "\n",
    "$$\n",
    "a = Xw\n",
    "$$\n",
    "\n",
    "Задача обучения:\n",
    "\n",
    "$$\n",
    "w = \\arg\\min_w MSE(Xw, y)\n",
    "$$\n",
    "\n",
    "Формула обучения:\n",
    "\n",
    "$$\n",
    "w = (X^T X)^{-1} X^T y\n",
    "$$"
   ]
  },
  {
   "cell_type": "markdown",
   "metadata": {},
   "source": [
    "**Ответ:** Если в задаче линеной регрессии $a = Xw$ умножить $X (M, N)$ на обратимую матрицу $P$, размерности $(N, N)$, то при вычислении весов $w = (X^T X)^{-1} X^T y$ предсказания $a$ не дожны изменится.\n",
    "\n",
    "\n",
    "**Обоснование:** \n",
    "Для доказательства подставим  $XP$ вместо $X$\n",
    "\n",
    "$$\n",
    "a_{new} = XPw_{new}\n",
    "$$$$\n",
    "w_{new} = ((XP)^T XP)^{-1}(XP)^T y\n",
    "$$\n",
    "подставим $w_{new}$ в $a_{new}$ и преобразуем:\n",
    "\n",
    "$$\n",
    "a_{new} = X P ((XP)^T XP)^{-1}(XP)^T y = \\\\X P (P^TX^T XP)^{-1}P^T X^T y = \\\\X P (X^TXP)^{-1} (P^T)^{-1} P^T X^T y = \\\\X P P^{-1}(X^TX)^{-1} (P^T)^{-1} P^T X^T y = \\\\X E (X^TX)^{-1} E  X^T y = \\\\X (X^TX)^{-1} X^T y =  X w\n",
    "$$\n",
    "Пояснения:\n",
    "\n",
    "Раскрываем транспонирования по свойству: $(AB)^T = B^T A^T$  \n",
    "Считаем $X^TX$ - квадратная обратимая марица, $P$ - обратимая по опеределнию, то раскрываем скобки по свойству $(AB)^{-1} = B^{-1} A^{-1}$ 2 раза  \n",
    "Используя ассоциативность умножения матриц и определение обратной матрицы получим ответ  \n",
    "Таким образом получаем что:  \n",
    "\n",
    "$$  \n",
    "a_{new} = a  \n",
    "$$  \n",
    "Во всех этих рассуждениях одно допущение, что $X^TX$ - обратима, но в общем случае она может оказаться не обратимой  "
   ]
  },
  {
   "cell_type": "markdown",
   "metadata": {},
   "source": [
    "## Алгоритм преобразования"
   ]
  },
  {
   "cell_type": "markdown",
   "metadata": {},
   "source": [
    "**Алгоритм**\n",
    "\n",
    "Для точго, чтобы зашифровать персональные данные клиентов воспользуемся таким алгоритмом:  \n",
    "1. Создадим рандомную матрицу $P$  4х4\n",
    "2. Проверим её на обратимость  \n",
    "3. Создадим новую матрицу данных $M$  \n",
    "4. Посчитаем метрики качества $R2 score$ и $MSE$ на исходных данных и на преобразованных  \n",
    "5. Обрадуемся результату \n"
   ]
  },
  {
   "cell_type": "markdown",
   "metadata": {},
   "source": [
    "**Обоснование**\n",
    "\n",
    "Если мы произведём умножение признаков тренировочной и тестовой выборок на одну и ту же обратимую матрицу, то результатом предсказания будет произведение нашей изменённой таблицы с признаками на вектор, который был получен из той же таблицы с изменёнными данными увеличенную на ту же величину, что и признаки тренировочных данных. "
   ]
  },
  {
   "cell_type": "markdown",
   "metadata": {},
   "source": [
    "## Проверка алгоритма"
   ]
  },
  {
   "cell_type": "markdown",
   "metadata": {},
   "source": [
    "Проверим, обратима ли матрица и напишем функцию для вычисления метрики Р2 для модели линейной регрессии. Затем посчитаем эту метрику для обычной матрицы признаков и для обратимой."
   ]
  },
  {
   "cell_type": "code",
   "execution_count": 6,
   "metadata": {},
   "outputs": [
    {
     "data": {
      "text/plain": [
       "array([[ 0.22223876,  1.73455824, -0.94010328, -0.21974737],\n",
       "       [-1.3021401 , -0.40035133,  0.57916761,  1.69543025],\n",
       "       [ 3.45621695, -1.79721217, -0.70918087, -1.08949482],\n",
       "       [-0.98083969,  0.9014485 ,  1.56908806, -0.88551723]])"
      ]
     },
     "execution_count": 6,
     "metadata": {},
     "output_type": "execute_result"
    }
   ],
   "source": [
    "INV = np.random.rand(4,4)\n",
    "np.linalg.inv(INV)"
   ]
  },
  {
   "cell_type": "code",
   "execution_count": 7,
   "metadata": {},
   "outputs": [],
   "source": [
    "def predict_and_r2_score(features, target):\n",
    "    lr = LinearRegression()\n",
    "    lr.fit(features, target)\n",
    "    r2 = lr.score(features, target)\n",
    "    return r2"
   ]
  },
  {
   "cell_type": "code",
   "execution_count": 8,
   "metadata": {},
   "outputs": [
    {
     "data": {
      "text/plain": [
       "0.42494550286668"
      ]
     },
     "execution_count": 8,
     "metadata": {},
     "output_type": "execute_result"
    }
   ],
   "source": [
    "predict_and_r2_score(features, target)"
   ]
  },
  {
   "cell_type": "code",
   "execution_count": 9,
   "metadata": {},
   "outputs": [
    {
     "data": {
      "text/plain": [
       "0.42494550286667165"
      ]
     },
     "execution_count": 9,
     "metadata": {},
     "output_type": "execute_result"
    }
   ],
   "source": [
    "features_inv = features @ INV\n",
    "predict_and_r2_score(features_inv, target)"
   ]
  },
  {
   "cell_type": "markdown",
   "metadata": {},
   "source": [
    "Мы увидели, что качество линейной регрессии не меняется при умножении матрицы признаков NxK справа на квадратную обратимую матрицу KxK.\n",
    "\n",
    "Наконец, определим тестовую и тернировочную выборки для дальнейшего обучения. "
   ]
  },
  {
   "cell_type": "code",
   "execution_count": 10,
   "metadata": {},
   "outputs": [],
   "source": [
    "train_features, test_features, train_target, test_target = train_test_split(features,target, test_size=0.25, random_state=254)"
   ]
  },
  {
   "cell_type": "markdown",
   "metadata": {},
   "source": [
    "Создадим матрицу $P$ и проверим ее обратимость "
   ]
  },
  {
   "cell_type": "code",
   "execution_count": 11,
   "metadata": {},
   "outputs": [
    {
     "data": {
      "text/plain": [
       "array([[4.19739309, 3.12481934, 5.0173566 , 3.58918589],\n",
       "       [2.1913364 , 0.48685376, 4.51322433, 2.22463007],\n",
       "       [3.36736614, 2.98985369, 2.77113557, 2.90156699],\n",
       "       [3.10112218, 3.2378757 , 2.41649999, 3.2181574 ]])"
      ]
     },
     "execution_count": 11,
     "metadata": {},
     "output_type": "execute_result"
    }
   ],
   "source": [
    "P = np.random.normal(3, size = (4,4))\n",
    "P"
   ]
  },
  {
   "cell_type": "code",
   "execution_count": 12,
   "metadata": {},
   "outputs": [
    {
     "data": {
      "text/plain": [
       "array([[2.79529234, 3.47894334, 2.48056128, 2.4442697 ],\n",
       "       [4.96578057, 4.39340583, 3.09290788, 3.28174615],\n",
       "       [3.76902257, 4.24643474, 4.00718936, 1.70377889],\n",
       "       [3.27499163, 3.22891288, 4.35291684, 3.88642934]])"
      ]
     },
     "execution_count": 12,
     "metadata": {},
     "output_type": "execute_result"
    }
   ],
   "source": [
    "np.random.seed(seed=12345)\n",
    "np.random.normal(3, size = (4,4))"
   ]
  },
  {
   "cell_type": "code",
   "execution_count": 13,
   "metadata": {},
   "outputs": [
    {
     "data": {
      "text/plain": [
       "array([[-1.93180616,  0.70511356,  4.18945623, -2.11021168],\n",
       "       [ 2.490514  , -1.38756296, -3.10468252,  0.98079133],\n",
       "       [ 1.56674407, -0.51490738, -1.98294013,  0.39643069],\n",
       "       [-1.82068313,  1.1032359 ,  0.57558877,  1.05972724]])"
      ]
     },
     "execution_count": 13,
     "metadata": {},
     "output_type": "execute_result"
    }
   ],
   "source": [
    "np.linalg.inv(P)"
   ]
  },
  {
   "cell_type": "markdown",
   "metadata": {},
   "source": [
    "Теперь выполним умножение признаков на новую матрицу и обозначим ее $M$. Затем проделаем тоже самое с тестовой выборкой. "
   ]
  },
  {
   "cell_type": "code",
   "execution_count": 14,
   "metadata": {},
   "outputs": [
    {
     "data": {
      "text/html": [
       "<div>\n",
       "<style scoped>\n",
       "    .dataframe tbody tr th:only-of-type {\n",
       "        vertical-align: middle;\n",
       "    }\n",
       "\n",
       "    .dataframe tbody tr th {\n",
       "        vertical-align: top;\n",
       "    }\n",
       "\n",
       "    .dataframe thead th {\n",
       "        text-align: right;\n",
       "    }\n",
       "</style>\n",
       "<table border=\"1\" class=\"dataframe\">\n",
       "  <thead>\n",
       "    <tr style=\"text-align: right;\">\n",
       "      <th></th>\n",
       "      <th>Пол</th>\n",
       "      <th>Возраст</th>\n",
       "      <th>Зарплата</th>\n",
       "      <th>Члены семьи</th>\n",
       "    </tr>\n",
       "  </thead>\n",
       "  <tbody>\n",
       "    <tr>\n",
       "      <td>883</td>\n",
       "      <td>132723.345151</td>\n",
       "      <td>117813.697198</td>\n",
       "      <td>109279.935804</td>\n",
       "      <td>114371.674808</td>\n",
       "    </tr>\n",
       "    <tr>\n",
       "      <td>4736</td>\n",
       "      <td>167809.507833</td>\n",
       "      <td>148924.932301</td>\n",
       "      <td>138231.133406</td>\n",
       "      <td>144613.850335</td>\n",
       "    </tr>\n",
       "    <tr>\n",
       "      <td>4455</td>\n",
       "      <td>139479.990798</td>\n",
       "      <td>123798.273116</td>\n",
       "      <td>114867.339194</td>\n",
       "      <td>120197.055090</td>\n",
       "    </tr>\n",
       "    <tr>\n",
       "      <td>3993</td>\n",
       "      <td>167417.987808</td>\n",
       "      <td>148613.775588</td>\n",
       "      <td>137841.189240</td>\n",
       "      <td>144268.077885</td>\n",
       "    </tr>\n",
       "    <tr>\n",
       "      <td>651</td>\n",
       "      <td>137136.520538</td>\n",
       "      <td>121716.062868</td>\n",
       "      <td>112943.820241</td>\n",
       "      <td>118180.061929</td>\n",
       "    </tr>\n",
       "  </tbody>\n",
       "</table>\n",
       "</div>"
      ],
      "text/plain": [
       "                Пол        Возраст       Зарплата    Члены семьи\n",
       "883   132723.345151  117813.697198  109279.935804  114371.674808\n",
       "4736  167809.507833  148924.932301  138231.133406  144613.850335\n",
       "4455  139479.990798  123798.273116  114867.339194  120197.055090\n",
       "3993  167417.987808  148613.775588  137841.189240  144268.077885\n",
       "651   137136.520538  121716.062868  112943.820241  118180.061929"
      ]
     },
     "execution_count": 14,
     "metadata": {},
     "output_type": "execute_result"
    }
   ],
   "source": [
    "M = train_features.dot(P)\n",
    "M.columns = train_features.columns\n",
    "M.head()"
   ]
  },
  {
   "cell_type": "code",
   "execution_count": 15,
   "metadata": {},
   "outputs": [
    {
     "data": {
      "text/html": [
       "<div>\n",
       "<style scoped>\n",
       "    .dataframe tbody tr th:only-of-type {\n",
       "        vertical-align: middle;\n",
       "    }\n",
       "\n",
       "    .dataframe tbody tr th {\n",
       "        vertical-align: top;\n",
       "    }\n",
       "\n",
       "    .dataframe thead th {\n",
       "        text-align: right;\n",
       "    }\n",
       "</style>\n",
       "<table border=\"1\" class=\"dataframe\">\n",
       "  <thead>\n",
       "    <tr style=\"text-align: right;\">\n",
       "      <th></th>\n",
       "      <th>Пол</th>\n",
       "      <th>Возраст</th>\n",
       "      <th>Зарплата</th>\n",
       "      <th>Члены семьи</th>\n",
       "    </tr>\n",
       "  </thead>\n",
       "  <tbody>\n",
       "    <tr>\n",
       "      <td>4948</td>\n",
       "      <td>128048.291329</td>\n",
       "      <td>113638.816511</td>\n",
       "      <td>105477.574947</td>\n",
       "      <td>110348.664289</td>\n",
       "    </tr>\n",
       "    <tr>\n",
       "      <td>4959</td>\n",
       "      <td>116280.763827</td>\n",
       "      <td>103183.838526</td>\n",
       "      <td>95807.911929</td>\n",
       "      <td>100212.592889</td>\n",
       "    </tr>\n",
       "    <tr>\n",
       "      <td>1728</td>\n",
       "      <td>127352.180231</td>\n",
       "      <td>113031.075102</td>\n",
       "      <td>104884.321405</td>\n",
       "      <td>109745.971137</td>\n",
       "    </tr>\n",
       "    <tr>\n",
       "      <td>4169</td>\n",
       "      <td>147889.640805</td>\n",
       "      <td>131270.959927</td>\n",
       "      <td>121777.125230</td>\n",
       "      <td>127442.074045</td>\n",
       "    </tr>\n",
       "    <tr>\n",
       "      <td>1984</td>\n",
       "      <td>150279.295385</td>\n",
       "      <td>133376.175506</td>\n",
       "      <td>123775.911824</td>\n",
       "      <td>129506.302814</td>\n",
       "    </tr>\n",
       "  </tbody>\n",
       "</table>\n",
       "</div>"
      ],
      "text/plain": [
       "                Пол        Возраст       Зарплата    Члены семьи\n",
       "4948  128048.291329  113638.816511  105477.574947  110348.664289\n",
       "4959  116280.763827  103183.838526   95807.911929  100212.592889\n",
       "1728  127352.180231  113031.075102  104884.321405  109745.971137\n",
       "4169  147889.640805  131270.959927  121777.125230  127442.074045\n",
       "1984  150279.295385  133376.175506  123775.911824  129506.302814"
      ]
     },
     "execution_count": 15,
     "metadata": {},
     "output_type": "execute_result"
    }
   ],
   "source": [
    "test_M = test_features.dot(P)\n",
    "test_M.columns = test_features.columns\n",
    "test_M.head()"
   ]
  },
  {
   "cell_type": "markdown",
   "metadata": {},
   "source": [
    "Целевые признаки оставляем без изменений. А в нулевой столбец измененной таблицы внесем значение 1 "
   ]
  },
  {
   "cell_type": "code",
   "execution_count": 16,
   "metadata": {},
   "outputs": [],
   "source": [
    "X = np.concatenate((np.ones((M.shape[0], 1)), M), axis=1)"
   ]
  },
  {
   "cell_type": "code",
   "execution_count": 17,
   "metadata": {},
   "outputs": [
    {
     "data": {
      "text/html": [
       "<div>\n",
       "<style scoped>\n",
       "    .dataframe tbody tr th:only-of-type {\n",
       "        vertical-align: middle;\n",
       "    }\n",
       "\n",
       "    .dataframe tbody tr th {\n",
       "        vertical-align: top;\n",
       "    }\n",
       "\n",
       "    .dataframe thead th {\n",
       "        text-align: right;\n",
       "    }\n",
       "</style>\n",
       "<table border=\"1\" class=\"dataframe\">\n",
       "  <thead>\n",
       "    <tr style=\"text-align: right;\">\n",
       "      <th></th>\n",
       "      <th>0</th>\n",
       "      <th>1</th>\n",
       "      <th>2</th>\n",
       "      <th>3</th>\n",
       "      <th>4</th>\n",
       "    </tr>\n",
       "  </thead>\n",
       "  <tbody>\n",
       "    <tr>\n",
       "      <td>0</td>\n",
       "      <td>1.0</td>\n",
       "      <td>132723.345151</td>\n",
       "      <td>117813.697198</td>\n",
       "      <td>109279.935804</td>\n",
       "      <td>114371.674808</td>\n",
       "    </tr>\n",
       "    <tr>\n",
       "      <td>1</td>\n",
       "      <td>1.0</td>\n",
       "      <td>167809.507833</td>\n",
       "      <td>148924.932301</td>\n",
       "      <td>138231.133406</td>\n",
       "      <td>144613.850335</td>\n",
       "    </tr>\n",
       "    <tr>\n",
       "      <td>2</td>\n",
       "      <td>1.0</td>\n",
       "      <td>139479.990798</td>\n",
       "      <td>123798.273116</td>\n",
       "      <td>114867.339194</td>\n",
       "      <td>120197.055090</td>\n",
       "    </tr>\n",
       "    <tr>\n",
       "      <td>3</td>\n",
       "      <td>1.0</td>\n",
       "      <td>167417.987808</td>\n",
       "      <td>148613.775588</td>\n",
       "      <td>137841.189240</td>\n",
       "      <td>144268.077885</td>\n",
       "    </tr>\n",
       "    <tr>\n",
       "      <td>4</td>\n",
       "      <td>1.0</td>\n",
       "      <td>137136.520538</td>\n",
       "      <td>121716.062868</td>\n",
       "      <td>112943.820241</td>\n",
       "      <td>118180.061929</td>\n",
       "    </tr>\n",
       "  </tbody>\n",
       "</table>\n",
       "</div>"
      ],
      "text/plain": [
       "     0              1              2              3              4\n",
       "0  1.0  132723.345151  117813.697198  109279.935804  114371.674808\n",
       "1  1.0  167809.507833  148924.932301  138231.133406  144613.850335\n",
       "2  1.0  139479.990798  123798.273116  114867.339194  120197.055090\n",
       "3  1.0  167417.987808  148613.775588  137841.189240  144268.077885\n",
       "4  1.0  137136.520538  121716.062868  112943.820241  118180.061929"
      ]
     },
     "execution_count": 17,
     "metadata": {},
     "output_type": "execute_result"
    }
   ],
   "source": [
    "pd.DataFrame(X).head()"
   ]
  },
  {
   "cell_type": "markdown",
   "metadata": {},
   "source": [
    "Присвоим переменной $у$, целевые признаки и вычислим по формуле ( $w = (X^T X)^{-1} X^T y$ ) вектор $w$\n",
    "\n",
    "Затем вычислим предсказание модели методом умножения тестовой выбрки $test_M$ и увеличим на величину сдвига значение $w0$  \n",
    "Переменную предсказанных значений обозначим $a$"
   ]
  },
  {
   "cell_type": "code",
   "execution_count": 18,
   "metadata": {},
   "outputs": [],
   "source": [
    "y = train_target\n",
    "w = (np.linalg.inv(X.T.dot(X)).dot(X.T)).dot(y)"
   ]
  },
  {
   "cell_type": "code",
   "execution_count": 19,
   "metadata": {},
   "outputs": [],
   "source": [
    "a = test_M.dot(w[1:]) + w[0]"
   ]
  },
  {
   "cell_type": "markdown",
   "metadata": {},
   "source": [
    "Посчитаем значения R2 и MSE на исходных данных и на измененных."
   ]
  },
  {
   "cell_type": "code",
   "execution_count": 20,
   "metadata": {},
   "outputs": [],
   "source": [
    "model_l = LinearRegression()\n",
    "model_l.fit(train_features,train_target)\n",
    "predictions= model_l.predict(test_features)\n",
    "\n",
    "R2_score_l = r2_score(test_target, predictions)\n",
    "MSE_l = mean_squared_error(predictions,test_target)"
   ]
  },
  {
   "cell_type": "code",
   "execution_count": 21,
   "metadata": {},
   "outputs": [
    {
     "name": "stdout",
     "output_type": "stream",
     "text": [
      "R2_score: 0.41668736296246567\n",
      "MSE: 0.11248918214706362\n"
     ]
    }
   ],
   "source": [
    "R2_score_m = r2_score(test_target, a)\n",
    "MSE_m = mean_squared_error(a, test_target)\n",
    "print(\"R2_score:\",R2_score_m)\n",
    "print(\"MSE:\", MSE_m)"
   ]
  },
  {
   "cell_type": "code",
   "execution_count": 22,
   "metadata": {},
   "outputs": [
    {
     "data": {
      "text/html": [
       "<div>\n",
       "<style scoped>\n",
       "    .dataframe tbody tr th:only-of-type {\n",
       "        vertical-align: middle;\n",
       "    }\n",
       "\n",
       "    .dataframe tbody tr th {\n",
       "        vertical-align: top;\n",
       "    }\n",
       "\n",
       "    .dataframe thead th {\n",
       "        text-align: right;\n",
       "    }\n",
       "</style>\n",
       "<table border=\"1\" class=\"dataframe\">\n",
       "  <thead>\n",
       "    <tr style=\"text-align: right;\">\n",
       "      <th></th>\n",
       "      <th>R2_score</th>\n",
       "      <th>MSE</th>\n",
       "    </tr>\n",
       "  </thead>\n",
       "  <tbody>\n",
       "    <tr>\n",
       "      <td>Изменённая матрица</td>\n",
       "      <td>0.416687</td>\n",
       "      <td>0.112489</td>\n",
       "    </tr>\n",
       "    <tr>\n",
       "      <td>Неизменённая матрица</td>\n",
       "      <td>0.416687</td>\n",
       "      <td>0.112489</td>\n",
       "    </tr>\n",
       "  </tbody>\n",
       "</table>\n",
       "</div>"
      ],
      "text/plain": [
       "                      R2_score       MSE\n",
       "Изменённая матрица    0.416687  0.112489\n",
       "Неизменённая матрица  0.416687  0.112489"
      ]
     },
     "execution_count": 22,
     "metadata": {},
     "output_type": "execute_result"
    }
   ],
   "source": [
    "comparison_tabl = pd.DataFrame(index=['R2_score','MSE'], \n",
    "                               columns=['Изменённая матрица','Неизменённая матрица'])\n",
    "comparison_tabl['Изменённая матрица'] = R2_score_m, MSE_m\n",
    "comparison_tabl['Неизменённая матрица'] = R2_score_l, MSE_l\n",
    "\n",
    "comparison_tabl.T"
   ]
  },
  {
   "cell_type": "markdown",
   "metadata": {},
   "source": [
    "### Вывод \n",
    "\n",
    "В проекте требовалось защитить данные клиентов страховой коммпании. Преобразование необходимо было произвести таким образом, чтобы по результату работы нашего алгоритма, качество моделей машинного обучения не ухудшилось.\n",
    "\n",
    "В результате нашей работы был разработан алгоритм, где данные были преобразованы методом умножения признаков исходных данных на обратимую матрицу $P$. Результатом такого преобразования явилась новая (изменённая) матрица признаков, которая справилась с основными задачами по шифровке данных и при сравнении качества предсказаний с моделью из Scikit-learn, сохранила значения R2 и MSE неизменными."
   ]
  }
 ],
 "metadata": {
  "ExecuteTimeLog": [
   {
    "duration": 1355,
    "start_time": "2021-08-20T20:20:56.821Z"
   },
   {
    "duration": 37,
    "start_time": "2021-08-20T20:21:18.583Z"
   },
   {
    "duration": 8,
    "start_time": "2021-08-20T20:22:12.598Z"
   },
   {
    "duration": 8,
    "start_time": "2021-08-20T20:22:24.136Z"
   },
   {
    "duration": 5,
    "start_time": "2021-08-20T20:22:40.076Z"
   },
   {
    "duration": 12,
    "start_time": "2021-08-20T20:23:05.917Z"
   },
   {
    "duration": 12,
    "start_time": "2021-08-20T20:23:06.999Z"
   },
   {
    "duration": 214,
    "start_time": "2021-08-21T12:50:31.518Z"
   },
   {
    "duration": 1398,
    "start_time": "2021-08-21T12:50:36.027Z"
   },
   {
    "duration": 29,
    "start_time": "2021-08-21T12:50:37.427Z"
   },
   {
    "duration": 8,
    "start_time": "2021-08-21T12:50:38.286Z"
   },
   {
    "duration": 7,
    "start_time": "2021-08-21T12:50:39.406Z"
   },
   {
    "duration": 3,
    "start_time": "2021-08-21T12:50:40.663Z"
   },
   {
    "duration": 8,
    "start_time": "2021-08-21T12:50:42.303Z"
   },
   {
    "duration": 9,
    "start_time": "2021-08-21T12:50:43.530Z"
   },
   {
    "duration": 5,
    "start_time": "2021-08-21T12:51:03.962Z"
   },
   {
    "duration": 227,
    "start_time": "2021-08-21T12:51:06.904Z"
   },
   {
    "duration": 24,
    "start_time": "2021-08-21T12:53:04.531Z"
   },
   {
    "duration": 5,
    "start_time": "2021-08-21T12:53:05.271Z"
   },
   {
    "duration": 6,
    "start_time": "2021-08-21T12:53:06.111Z"
   },
   {
    "duration": 3,
    "start_time": "2021-08-21T12:53:06.940Z"
   },
   {
    "duration": 9,
    "start_time": "2021-08-21T12:53:09.022Z"
   },
   {
    "duration": 9,
    "start_time": "2021-08-21T12:53:09.827Z"
   },
   {
    "duration": 6,
    "start_time": "2021-08-21T12:53:11.026Z"
   },
   {
    "duration": 3,
    "start_time": "2021-08-21T14:19:24.261Z"
   },
   {
    "duration": 25,
    "start_time": "2021-08-21T14:19:25.037Z"
   },
   {
    "duration": 6,
    "start_time": "2021-08-21T14:19:27.713Z"
   },
   {
    "duration": 5,
    "start_time": "2021-08-21T14:19:30.878Z"
   },
   {
    "duration": 178,
    "start_time": "2021-08-21T14:20:14.548Z"
   },
   {
    "duration": 6,
    "start_time": "2021-08-21T14:20:23.132Z"
   },
   {
    "duration": 12,
    "start_time": "2021-08-21T14:21:50.439Z"
   },
   {
    "duration": 5,
    "start_time": "2021-08-21T14:22:00.854Z"
   },
   {
    "duration": 6,
    "start_time": "2021-08-21T15:03:22.864Z"
   },
   {
    "duration": 6,
    "start_time": "2021-08-21T15:03:26.528Z"
   },
   {
    "duration": 6,
    "start_time": "2021-08-21T15:14:54.625Z"
   },
   {
    "duration": 5,
    "start_time": "2021-08-21T15:22:18.230Z"
   },
   {
    "duration": 5,
    "start_time": "2021-08-21T15:22:20.123Z"
   },
   {
    "duration": 5,
    "start_time": "2021-08-21T15:23:46.197Z"
   },
   {
    "duration": 5,
    "start_time": "2021-08-21T15:23:47.717Z"
   },
   {
    "duration": 11,
    "start_time": "2021-08-21T15:23:55.936Z"
   },
   {
    "duration": 9,
    "start_time": "2021-08-21T15:23:58.555Z"
   },
   {
    "duration": 3,
    "start_time": "2021-08-21T15:24:12.894Z"
   },
   {
    "duration": 9,
    "start_time": "2021-08-21T15:24:16.074Z"
   },
   {
    "duration": 3,
    "start_time": "2021-08-21T15:24:18.073Z"
   },
   {
    "duration": 5,
    "start_time": "2021-08-21T15:24:20.410Z"
   },
   {
    "duration": 168,
    "start_time": "2021-08-21T15:24:21.810Z"
   },
   {
    "duration": 355,
    "start_time": "2021-08-21T15:37:24.004Z"
   },
   {
    "duration": 3,
    "start_time": "2021-08-21T15:39:10.025Z"
   },
   {
    "duration": 5,
    "start_time": "2021-08-21T15:39:29.379Z"
   },
   {
    "duration": 9,
    "start_time": "2021-08-21T15:39:30.393Z"
   },
   {
    "duration": 10,
    "start_time": "2021-08-21T15:39:31.178Z"
   },
   {
    "duration": 6,
    "start_time": "2021-08-21T15:39:57.261Z"
   },
   {
    "duration": 207,
    "start_time": "2021-08-21T15:40:09.013Z"
   },
   {
    "duration": 5,
    "start_time": "2021-08-21T15:41:09.654Z"
   },
   {
    "duration": 192,
    "start_time": "2021-08-21T15:43:54.141Z"
   },
   {
    "duration": 177,
    "start_time": "2021-08-21T15:44:14.439Z"
   },
   {
    "duration": 7,
    "start_time": "2021-08-21T15:49:29.522Z"
   },
   {
    "duration": 6,
    "start_time": "2021-08-21T15:49:46.040Z"
   },
   {
    "duration": 12,
    "start_time": "2021-08-21T15:49:47.869Z"
   },
   {
    "duration": 4,
    "start_time": "2021-08-21T18:07:18.198Z"
   },
   {
    "duration": 10,
    "start_time": "2021-08-21T18:14:00.641Z"
   },
   {
    "duration": 13,
    "start_time": "2021-08-21T18:14:48.311Z"
   },
   {
    "duration": 3,
    "start_time": "2021-08-21T18:16:01.997Z"
   },
   {
    "duration": 10,
    "start_time": "2021-08-21T18:16:02.853Z"
   },
   {
    "duration": 7,
    "start_time": "2021-08-21T18:26:53.225Z"
   },
   {
    "duration": 6,
    "start_time": "2021-08-21T18:26:59.180Z"
   },
   {
    "duration": 11,
    "start_time": "2021-08-21T18:27:13.302Z"
   },
   {
    "duration": 1030,
    "start_time": "2021-08-21T18:35:36.965Z"
   },
   {
    "duration": 30,
    "start_time": "2021-08-21T18:35:37.997Z"
   },
   {
    "duration": 6,
    "start_time": "2021-08-21T18:35:38.029Z"
   },
   {
    "duration": 7,
    "start_time": "2021-08-21T18:35:38.036Z"
   },
   {
    "duration": 5,
    "start_time": "2021-08-21T18:35:38.044Z"
   },
   {
    "duration": 36,
    "start_time": "2021-08-21T18:35:38.050Z"
   },
   {
    "duration": 4,
    "start_time": "2021-08-21T18:35:38.088Z"
   },
   {
    "duration": 91,
    "start_time": "2021-08-21T18:35:38.096Z"
   },
   {
    "duration": 103,
    "start_time": "2021-08-21T18:35:38.190Z"
   },
   {
    "duration": 94,
    "start_time": "2021-08-21T18:35:38.296Z"
   },
   {
    "duration": 93,
    "start_time": "2021-08-21T18:35:38.394Z"
   },
   {
    "duration": 7,
    "start_time": "2021-08-21T18:35:38.488Z"
   },
   {
    "duration": 88,
    "start_time": "2021-08-21T18:35:38.498Z"
   },
   {
    "duration": 95,
    "start_time": "2021-08-21T18:35:38.589Z"
   },
   {
    "duration": 3,
    "start_time": "2021-08-21T18:35:38.686Z"
   },
   {
    "duration": 15,
    "start_time": "2021-08-21T18:35:38.691Z"
   },
   {
    "duration": 7,
    "start_time": "2021-08-21T18:35:38.708Z"
   },
   {
    "duration": 7,
    "start_time": "2021-08-21T18:35:38.717Z"
   },
   {
    "duration": 7,
    "start_time": "2021-08-21T18:35:38.786Z"
   },
   {
    "duration": 92,
    "start_time": "2021-08-21T18:35:38.795Z"
   },
   {
    "duration": 11,
    "start_time": "2021-08-21T18:35:38.889Z"
   },
   {
    "duration": 1312,
    "start_time": "2021-08-22T19:37:25.294Z"
   },
   {
    "duration": 40,
    "start_time": "2021-08-22T19:37:26.609Z"
   },
   {
    "duration": 9,
    "start_time": "2021-08-22T19:37:26.655Z"
   },
   {
    "duration": 18,
    "start_time": "2021-08-22T19:37:26.667Z"
   },
   {
    "duration": 9,
    "start_time": "2021-08-22T19:37:26.687Z"
   },
   {
    "duration": 57,
    "start_time": "2021-08-22T19:37:26.699Z"
   },
   {
    "duration": 12,
    "start_time": "2021-08-22T19:37:26.761Z"
   },
   {
    "duration": 103,
    "start_time": "2021-08-22T19:37:26.857Z"
   },
   {
    "duration": 191,
    "start_time": "2021-08-22T19:37:26.964Z"
   },
   {
    "duration": 96,
    "start_time": "2021-08-22T19:37:27.159Z"
   },
   {
    "duration": 1215,
    "start_time": "2021-08-22T19:37:27.257Z"
   },
   {
    "duration": 1317,
    "start_time": "2021-08-22T19:37:27.157Z"
   },
   {
    "duration": 1309,
    "start_time": "2021-08-22T19:37:27.167Z"
   },
   {
    "duration": 1302,
    "start_time": "2021-08-22T19:37:27.175Z"
   },
   {
    "duration": 1294,
    "start_time": "2021-08-22T19:37:27.185Z"
   },
   {
    "duration": 1288,
    "start_time": "2021-08-22T19:37:27.193Z"
   },
   {
    "duration": 1280,
    "start_time": "2021-08-22T19:37:27.202Z"
   },
   {
    "duration": 1268,
    "start_time": "2021-08-22T19:37:27.216Z"
   },
   {
    "duration": 1254,
    "start_time": "2021-08-22T19:37:27.231Z"
   },
   {
    "duration": 1247,
    "start_time": "2021-08-22T19:37:27.239Z"
   },
   {
    "duration": 1236,
    "start_time": "2021-08-22T19:37:27.251Z"
   },
   {
    "duration": 4,
    "start_time": "2021-08-22T19:39:40.554Z"
   },
   {
    "duration": 4,
    "start_time": "2021-08-22T19:39:48.012Z"
   },
   {
    "duration": 1009,
    "start_time": "2021-08-22T19:39:58.292Z"
   },
   {
    "duration": 1033,
    "start_time": "2021-08-22T19:40:06.955Z"
   },
   {
    "duration": 993,
    "start_time": "2021-08-22T19:40:48.095Z"
   },
   {
    "duration": 1210,
    "start_time": "2021-08-22T19:42:38.992Z"
   },
   {
    "duration": 265,
    "start_time": "2021-08-22T19:42:59.729Z"
   },
   {
    "duration": 6,
    "start_time": "2021-08-22T19:43:09.536Z"
   },
   {
    "duration": 7,
    "start_time": "2021-08-22T19:43:16.540Z"
   },
   {
    "duration": 7,
    "start_time": "2021-08-22T19:43:17.951Z"
   },
   {
    "duration": 14,
    "start_time": "2021-08-22T19:43:20.405Z"
   },
   {
    "duration": 13,
    "start_time": "2021-08-22T19:43:21.340Z"
   },
   {
    "duration": 4,
    "start_time": "2021-08-22T19:43:23.009Z"
   },
   {
    "duration": 12,
    "start_time": "2021-08-22T19:43:23.773Z"
   },
   {
    "duration": 5,
    "start_time": "2021-08-22T19:43:25.314Z"
   },
   {
    "duration": 10,
    "start_time": "2021-08-22T19:43:26.029Z"
   },
   {
    "duration": 10,
    "start_time": "2021-08-22T19:43:27.315Z"
   },
   {
    "duration": 8,
    "start_time": "2021-08-22T19:43:28.016Z"
   },
   {
    "duration": 16,
    "start_time": "2021-08-22T19:43:28.640Z"
   },
   {
    "duration": 1332,
    "start_time": "2021-08-22T19:43:58.034Z"
   },
   {
    "duration": 39,
    "start_time": "2021-08-22T19:43:59.369Z"
   },
   {
    "duration": 10,
    "start_time": "2021-08-22T19:43:59.413Z"
   },
   {
    "duration": 14,
    "start_time": "2021-08-22T19:43:59.425Z"
   },
   {
    "duration": 8,
    "start_time": "2021-08-22T19:43:59.453Z"
   },
   {
    "duration": 7,
    "start_time": "2021-08-22T19:43:59.464Z"
   },
   {
    "duration": 80,
    "start_time": "2021-08-22T19:43:59.474Z"
   },
   {
    "duration": 209,
    "start_time": "2021-08-22T19:43:59.559Z"
   },
   {
    "duration": 86,
    "start_time": "2021-08-22T19:43:59.771Z"
   },
   {
    "duration": 97,
    "start_time": "2021-08-22T19:43:59.861Z"
   },
   {
    "duration": 18,
    "start_time": "2021-08-22T19:43:59.961Z"
   },
   {
    "duration": 13,
    "start_time": "2021-08-22T19:43:59.981Z"
   },
   {
    "duration": 158,
    "start_time": "2021-08-22T19:43:59.998Z"
   },
   {
    "duration": 13,
    "start_time": "2021-08-22T19:44:00.159Z"
   },
   {
    "duration": 32,
    "start_time": "2021-08-22T19:44:00.174Z"
   },
   {
    "duration": 33,
    "start_time": "2021-08-22T19:44:00.208Z"
   },
   {
    "duration": 27,
    "start_time": "2021-08-22T19:44:00.244Z"
   },
   {
    "duration": 88,
    "start_time": "2021-08-22T19:44:00.274Z"
   },
   {
    "duration": 90,
    "start_time": "2021-08-22T19:44:00.365Z"
   },
   {
    "duration": 8,
    "start_time": "2021-08-22T19:44:00.457Z"
   },
   {
    "duration": 23,
    "start_time": "2021-08-22T19:44:00.468Z"
   },
   {
    "duration": 1324,
    "start_time": "2021-08-22T21:30:05.773Z"
   },
   {
    "duration": 38,
    "start_time": "2021-08-22T21:30:07.101Z"
   },
   {
    "duration": 8,
    "start_time": "2021-08-22T21:30:07.143Z"
   },
   {
    "duration": 8,
    "start_time": "2021-08-22T21:30:07.153Z"
   },
   {
    "duration": 7,
    "start_time": "2021-08-22T21:30:07.164Z"
   },
   {
    "duration": 34,
    "start_time": "2021-08-22T21:30:07.174Z"
   },
   {
    "duration": 6,
    "start_time": "2021-08-22T21:30:07.211Z"
   },
   {
    "duration": 91,
    "start_time": "2021-08-22T21:30:07.220Z"
   },
   {
    "duration": 102,
    "start_time": "2021-08-22T21:30:07.406Z"
   },
   {
    "duration": 96,
    "start_time": "2021-08-22T21:30:07.512Z"
   },
   {
    "duration": 6,
    "start_time": "2021-08-22T21:30:07.702Z"
   },
   {
    "duration": 405,
    "start_time": "2021-08-22T21:30:07.710Z"
   },
   {
    "duration": 20,
    "start_time": "2021-08-22T21:30:08.098Z"
   },
   {
    "duration": 17,
    "start_time": "2021-08-22T21:30:08.102Z"
   },
   {
    "duration": 17,
    "start_time": "2021-08-22T21:30:08.104Z"
   },
   {
    "duration": 12,
    "start_time": "2021-08-22T21:30:08.111Z"
   },
   {
    "duration": 10,
    "start_time": "2021-08-22T21:30:08.115Z"
   },
   {
    "duration": 9,
    "start_time": "2021-08-22T21:30:08.117Z"
   },
   {
    "duration": 9,
    "start_time": "2021-08-22T21:30:08.119Z"
   },
   {
    "duration": 7,
    "start_time": "2021-08-22T21:30:08.122Z"
   },
   {
    "duration": 5,
    "start_time": "2021-08-22T21:30:08.125Z"
   },
   {
    "duration": -4,
    "start_time": "2021-08-22T21:30:08.136Z"
   },
   {
    "duration": 6,
    "start_time": "2021-08-22T21:30:20.530Z"
   },
   {
    "duration": 7,
    "start_time": "2021-08-22T21:30:28.228Z"
   },
   {
    "duration": 7,
    "start_time": "2021-08-22T21:30:31.980Z"
   },
   {
    "duration": 1416,
    "start_time": "2021-08-22T21:30:37.575Z"
   },
   {
    "duration": 38,
    "start_time": "2021-08-22T21:30:38.994Z"
   },
   {
    "duration": 9,
    "start_time": "2021-08-22T21:30:39.035Z"
   },
   {
    "duration": 9,
    "start_time": "2021-08-22T21:30:39.046Z"
   },
   {
    "duration": 6,
    "start_time": "2021-08-22T21:30:39.058Z"
   },
   {
    "duration": 36,
    "start_time": "2021-08-22T21:30:39.066Z"
   },
   {
    "duration": 7,
    "start_time": "2021-08-22T21:30:39.105Z"
   },
   {
    "duration": 189,
    "start_time": "2021-08-22T21:30:39.114Z"
   },
   {
    "duration": 98,
    "start_time": "2021-08-22T21:30:39.309Z"
   },
   {
    "duration": 95,
    "start_time": "2021-08-22T21:30:39.411Z"
   },
   {
    "duration": 96,
    "start_time": "2021-08-22T21:30:39.509Z"
   },
   {
    "duration": 7,
    "start_time": "2021-08-22T21:30:39.607Z"
   },
   {
    "duration": 11,
    "start_time": "2021-08-22T21:30:39.616Z"
   },
   {
    "duration": 80,
    "start_time": "2021-08-22T21:30:39.630Z"
   },
   {
    "duration": 93,
    "start_time": "2021-08-22T21:30:39.714Z"
   },
   {
    "duration": 7,
    "start_time": "2021-08-22T21:30:39.810Z"
   },
   {
    "duration": 15,
    "start_time": "2021-08-22T21:30:39.820Z"
   },
   {
    "duration": 9,
    "start_time": "2021-08-22T21:30:39.838Z"
   },
   {
    "duration": 63,
    "start_time": "2021-08-22T21:30:39.850Z"
   },
   {
    "duration": 9,
    "start_time": "2021-08-22T21:30:40.001Z"
   },
   {
    "duration": 10,
    "start_time": "2021-08-22T21:30:40.013Z"
   },
   {
    "duration": 19,
    "start_time": "2021-08-22T21:30:40.026Z"
   }
  ],
  "kernelspec": {
   "display_name": "Python 3 (ipykernel)",
   "language": "python",
   "name": "python3"
  },
  "language_info": {
   "codemirror_mode": {
    "name": "ipython",
    "version": 3
   },
   "file_extension": ".py",
   "mimetype": "text/x-python",
   "name": "python",
   "nbconvert_exporter": "python",
   "pygments_lexer": "ipython3",
   "version": "3.9.5"
  },
  "toc": {
   "base_numbering": 1,
   "nav_menu": {},
   "number_sections": false,
   "sideBar": false,
   "skip_h1_title": true,
   "title_cell": "Содержание",
   "title_sidebar": "Contents",
   "toc_cell": false,
   "toc_position": {},
   "toc_section_display": false,
   "toc_window_display": false
  }
 },
 "nbformat": 4,
 "nbformat_minor": 2
}
